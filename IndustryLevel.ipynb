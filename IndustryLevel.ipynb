{
 "cells": [
  {
   "cell_type": "code",
   "execution_count": 1,
   "outputs": [],
   "source": [
    "import pandas as pd\n",
    "import numpy as np\n",
    "import ast"
   ],
   "metadata": {
    "collapsed": false,
    "ExecuteTime": {
     "end_time": "2025-10-18T14:57:17.042268900Z",
     "start_time": "2025-10-18T14:57:13.285695900Z"
    }
   }
  },
  {
   "cell_type": "code",
   "execution_count": 4,
   "outputs": [],
   "source": [
    "reprisk_incidents = pd.read_csv(\n",
    "    'data/wrds_reprisk_incidents_ids_material_short.csv')  # Calculation in \"CreateDataset\" of \"ESGmateriality\" project\n",
    "reprisk_incidents = reprisk_incidents[\n",
    "    ['gvkey', 'isin', 'cusip', 'reprisk_id', 'story_id', 'adopter', 'sic', 'SICS Codified Industry ',\n",
    "     'Codified SICS Sector ', 'severity', 'reach', 'novelty', 'incident_list', 'incident_date', 'cusip_cusip_tic','car_5', 'car_1', 'material_flag']]"
   ],
   "metadata": {
    "collapsed": false,
    "ExecuteTime": {
     "end_time": "2025-10-18T14:58:48.176444300Z",
     "start_time": "2025-10-18T14:58:44.849743400Z"
    }
   }
  },
  {
   "cell_type": "code",
   "execution_count": 7,
   "outputs": [
    {
     "data": {
      "text/plain": "11718"
     },
     "execution_count": 7,
     "metadata": {},
     "output_type": "execute_result"
    }
   ],
   "source": [
    "# Create Year, YearMonth, YearQuarter columns\n",
    "reprisk_incidents['incident_date'] = pd.to_datetime(reprisk_incidents['incident_date'])\n",
    "reprisk_incidents['Year'] = reprisk_incidents['incident_date'].dt.year\n",
    "reprisk_incidents['YearMonth'] = reprisk_incidents['incident_date'].dt.to_period('M')\n",
    "reprisk_incidents['YearQuarter'] = reprisk_incidents['incident_date'].dt.to_period('Q')\n",
    "reprisk_incidents"
   ],
   "metadata": {
    "collapsed": false,
    "ExecuteTime": {
     "end_time": "2025-10-18T14:59:22.612921Z",
     "start_time": "2025-10-18T14:59:22.534778300Z"
    }
   }
  },
  {
   "cell_type": "code",
   "execution_count": 8,
   "outputs": [
    {
     "data": {
      "text/plain": "           gvkey          isin      cusip  reprisk_id  story_id  adopter  \\\n0       210418.0  US0003752047  000375204           2    1251.0        1   \n1       210418.0  US0003752047  000375204           2    1305.0        1   \n2       210418.0  US0003752047  000375204           2    4029.0        1   \n3       210418.0  US0003752047  000375204           2    4488.0        1   \n4       210418.0  US0003752047  000375204           2    4756.0        1   \n...          ...           ...        ...         ...       ...      ...   \n331365  355240.0  THB131010001        NaN     2683218       NaN        1   \n331366  349631.0  PK0126301016        NaN     2684126       NaN        1   \n331367  350690.0  GB00BLNNFY18        NaN     2685085       NaN        1   \n331368  350726.0  AU0000180200        NaN     2685460       NaN        1   \n331369  355325.0  TW0006935000        NaN     2685762       NaN        0   \n\n           sic            SICS Codified Industry   \\\n0       3613.0  Electrical & Electronic Equipment   \n1       3613.0  Electrical & Electronic Equipment   \n2       3613.0  Electrical & Electronic Equipment   \n3       3613.0  Electrical & Electronic Equipment   \n4       3613.0  Electrical & Electronic Equipment   \n...        ...                                ...   \n331365  5900.0                    Coal Operations   \n331366  3411.0             Containers & Packaging   \n331367  6726.0      Household & Personal Products   \n331368  1400.0                          Chemicals   \n331369  2834.0    Biotechnology & Pharmaceuticals   \n\n                    Codified SICS Sector   severity  reach  novelty  \\\n0                 Resource Transformation       1.0    2.0      1.0   \n1                 Resource Transformation       2.0    2.0      2.0   \n2                 Resource Transformation       2.0    1.0      2.0   \n3                 Resource Transformation       2.0    1.0      2.0   \n4                 Resource Transformation       1.0    3.0      2.0   \n...                                   ...       ...    ...      ...   \n331365  Extractives & Minerals Processing       0.0    0.0      0.0   \n331366            Resource Transformation       0.0    0.0      0.0   \n331367                     Consumer Goods       0.0    0.0      0.0   \n331368            Resource Transformation       0.0    0.0      0.0   \n331369                        Health Care       0.0    0.0      0.0   \n\n                                            incident_list incident_date  \\\n0       ['impacts_on_communities', 'impacts_on_landsca...    2007-06-19   \n1                                 ['human_rights_abuses']    2007-07-01   \n2       ['human_rights_abuses', 'impacts_on_communitie...    2008-04-01   \n3       ['controversial_prod_services', 'money_related...    2008-05-01   \n4       ['money_related', 'violation_of_natl_legislati...    2007-01-20   \n...                                                   ...           ...   \n331365                                                 []           NaT   \n331366                                                 []           NaT   \n331367                                                 []           NaT   \n331368                                                 []           NaT   \n331369                                                 []           NaT   \n\n           car_5     car_1  material_flag    Year YearMonth YearQuarter  \n0       0.023782  0.013378              0  2007.0   2007-06      2007Q2  \n1            NaN       NaN              0  2007.0   2007-07      2007Q3  \n2      -0.021834 -0.025246              1  2008.0   2008-04      2008Q2  \n3       0.011532 -0.011851              1  2008.0   2008-05      2008Q2  \n4            NaN       NaN              1  2007.0   2007-01      2007Q1  \n...          ...       ...            ...     ...       ...         ...  \n331365       NaN       NaN              0     NaN       NaT         NaT  \n331366       NaN       NaN              0     NaN       NaT         NaT  \n331367       NaN       NaN              0     NaN       NaT         NaT  \n331368       NaN       NaN              0     NaN       NaT         NaT  \n331369       NaN       NaN              0     NaN       NaT         NaT  \n\n[331370 rows x 20 columns]",
      "text/html": "<div>\n<style scoped>\n    .dataframe tbody tr th:only-of-type {\n        vertical-align: middle;\n    }\n\n    .dataframe tbody tr th {\n        vertical-align: top;\n    }\n\n    .dataframe thead th {\n        text-align: right;\n    }\n</style>\n<table border=\"1\" class=\"dataframe\">\n  <thead>\n    <tr style=\"text-align: right;\">\n      <th></th>\n      <th>gvkey</th>\n      <th>isin</th>\n      <th>cusip</th>\n      <th>reprisk_id</th>\n      <th>story_id</th>\n      <th>adopter</th>\n      <th>sic</th>\n      <th>SICS Codified Industry</th>\n      <th>Codified SICS Sector</th>\n      <th>severity</th>\n      <th>reach</th>\n      <th>novelty</th>\n      <th>incident_list</th>\n      <th>incident_date</th>\n      <th>car_5</th>\n      <th>car_1</th>\n      <th>material_flag</th>\n      <th>Year</th>\n      <th>YearMonth</th>\n      <th>YearQuarter</th>\n    </tr>\n  </thead>\n  <tbody>\n    <tr>\n      <th>0</th>\n      <td>210418.0</td>\n      <td>US0003752047</td>\n      <td>000375204</td>\n      <td>2</td>\n      <td>1251.0</td>\n      <td>1</td>\n      <td>3613.0</td>\n      <td>Electrical &amp; Electronic Equipment</td>\n      <td>Resource Transformation</td>\n      <td>1.0</td>\n      <td>2.0</td>\n      <td>1.0</td>\n      <td>['impacts_on_communities', 'impacts_on_landsca...</td>\n      <td>2007-06-19</td>\n      <td>0.023782</td>\n      <td>0.013378</td>\n      <td>0</td>\n      <td>2007.0</td>\n      <td>2007-06</td>\n      <td>2007Q2</td>\n    </tr>\n    <tr>\n      <th>1</th>\n      <td>210418.0</td>\n      <td>US0003752047</td>\n      <td>000375204</td>\n      <td>2</td>\n      <td>1305.0</td>\n      <td>1</td>\n      <td>3613.0</td>\n      <td>Electrical &amp; Electronic Equipment</td>\n      <td>Resource Transformation</td>\n      <td>2.0</td>\n      <td>2.0</td>\n      <td>2.0</td>\n      <td>['human_rights_abuses']</td>\n      <td>2007-07-01</td>\n      <td>NaN</td>\n      <td>NaN</td>\n      <td>0</td>\n      <td>2007.0</td>\n      <td>2007-07</td>\n      <td>2007Q3</td>\n    </tr>\n    <tr>\n      <th>2</th>\n      <td>210418.0</td>\n      <td>US0003752047</td>\n      <td>000375204</td>\n      <td>2</td>\n      <td>4029.0</td>\n      <td>1</td>\n      <td>3613.0</td>\n      <td>Electrical &amp; Electronic Equipment</td>\n      <td>Resource Transformation</td>\n      <td>2.0</td>\n      <td>1.0</td>\n      <td>2.0</td>\n      <td>['human_rights_abuses', 'impacts_on_communitie...</td>\n      <td>2008-04-01</td>\n      <td>-0.021834</td>\n      <td>-0.025246</td>\n      <td>1</td>\n      <td>2008.0</td>\n      <td>2008-04</td>\n      <td>2008Q2</td>\n    </tr>\n    <tr>\n      <th>3</th>\n      <td>210418.0</td>\n      <td>US0003752047</td>\n      <td>000375204</td>\n      <td>2</td>\n      <td>4488.0</td>\n      <td>1</td>\n      <td>3613.0</td>\n      <td>Electrical &amp; Electronic Equipment</td>\n      <td>Resource Transformation</td>\n      <td>2.0</td>\n      <td>1.0</td>\n      <td>2.0</td>\n      <td>['controversial_prod_services', 'money_related...</td>\n      <td>2008-05-01</td>\n      <td>0.011532</td>\n      <td>-0.011851</td>\n      <td>1</td>\n      <td>2008.0</td>\n      <td>2008-05</td>\n      <td>2008Q2</td>\n    </tr>\n    <tr>\n      <th>4</th>\n      <td>210418.0</td>\n      <td>US0003752047</td>\n      <td>000375204</td>\n      <td>2</td>\n      <td>4756.0</td>\n      <td>1</td>\n      <td>3613.0</td>\n      <td>Electrical &amp; Electronic Equipment</td>\n      <td>Resource Transformation</td>\n      <td>1.0</td>\n      <td>3.0</td>\n      <td>2.0</td>\n      <td>['money_related', 'violation_of_natl_legislati...</td>\n      <td>2007-01-20</td>\n      <td>NaN</td>\n      <td>NaN</td>\n      <td>1</td>\n      <td>2007.0</td>\n      <td>2007-01</td>\n      <td>2007Q1</td>\n    </tr>\n    <tr>\n      <th>...</th>\n      <td>...</td>\n      <td>...</td>\n      <td>...</td>\n      <td>...</td>\n      <td>...</td>\n      <td>...</td>\n      <td>...</td>\n      <td>...</td>\n      <td>...</td>\n      <td>...</td>\n      <td>...</td>\n      <td>...</td>\n      <td>...</td>\n      <td>...</td>\n      <td>...</td>\n      <td>...</td>\n      <td>...</td>\n      <td>...</td>\n      <td>...</td>\n      <td>...</td>\n    </tr>\n    <tr>\n      <th>331365</th>\n      <td>355240.0</td>\n      <td>THB131010001</td>\n      <td>NaN</td>\n      <td>2683218</td>\n      <td>NaN</td>\n      <td>1</td>\n      <td>5900.0</td>\n      <td>Coal Operations</td>\n      <td>Extractives &amp; Minerals Processing</td>\n      <td>0.0</td>\n      <td>0.0</td>\n      <td>0.0</td>\n      <td>[]</td>\n      <td>NaT</td>\n      <td>NaN</td>\n      <td>NaN</td>\n      <td>0</td>\n      <td>NaN</td>\n      <td>NaT</td>\n      <td>NaT</td>\n    </tr>\n    <tr>\n      <th>331366</th>\n      <td>349631.0</td>\n      <td>PK0126301016</td>\n      <td>NaN</td>\n      <td>2684126</td>\n      <td>NaN</td>\n      <td>1</td>\n      <td>3411.0</td>\n      <td>Containers &amp; Packaging</td>\n      <td>Resource Transformation</td>\n      <td>0.0</td>\n      <td>0.0</td>\n      <td>0.0</td>\n      <td>[]</td>\n      <td>NaT</td>\n      <td>NaN</td>\n      <td>NaN</td>\n      <td>0</td>\n      <td>NaN</td>\n      <td>NaT</td>\n      <td>NaT</td>\n    </tr>\n    <tr>\n      <th>331367</th>\n      <td>350690.0</td>\n      <td>GB00BLNNFY18</td>\n      <td>NaN</td>\n      <td>2685085</td>\n      <td>NaN</td>\n      <td>1</td>\n      <td>6726.0</td>\n      <td>Household &amp; Personal Products</td>\n      <td>Consumer Goods</td>\n      <td>0.0</td>\n      <td>0.0</td>\n      <td>0.0</td>\n      <td>[]</td>\n      <td>NaT</td>\n      <td>NaN</td>\n      <td>NaN</td>\n      <td>0</td>\n      <td>NaN</td>\n      <td>NaT</td>\n      <td>NaT</td>\n    </tr>\n    <tr>\n      <th>331368</th>\n      <td>350726.0</td>\n      <td>AU0000180200</td>\n      <td>NaN</td>\n      <td>2685460</td>\n      <td>NaN</td>\n      <td>1</td>\n      <td>1400.0</td>\n      <td>Chemicals</td>\n      <td>Resource Transformation</td>\n      <td>0.0</td>\n      <td>0.0</td>\n      <td>0.0</td>\n      <td>[]</td>\n      <td>NaT</td>\n      <td>NaN</td>\n      <td>NaN</td>\n      <td>0</td>\n      <td>NaN</td>\n      <td>NaT</td>\n      <td>NaT</td>\n    </tr>\n    <tr>\n      <th>331369</th>\n      <td>355325.0</td>\n      <td>TW0006935000</td>\n      <td>NaN</td>\n      <td>2685762</td>\n      <td>NaN</td>\n      <td>0</td>\n      <td>2834.0</td>\n      <td>Biotechnology &amp; Pharmaceuticals</td>\n      <td>Health Care</td>\n      <td>0.0</td>\n      <td>0.0</td>\n      <td>0.0</td>\n      <td>[]</td>\n      <td>NaT</td>\n      <td>NaN</td>\n      <td>NaN</td>\n      <td>0</td>\n      <td>NaN</td>\n      <td>NaT</td>\n      <td>NaT</td>\n    </tr>\n  </tbody>\n</table>\n<p>331370 rows × 20 columns</p>\n</div>"
     },
     "execution_count": 8,
     "metadata": {},
     "output_type": "execute_result"
    }
   ],
   "source": [
    "reprisk_incidents.groupby(['SICS Codified Industry ', 'Year'])['story_id'].nunique()"
   ],
   "metadata": {
    "collapsed": false,
    "ExecuteTime": {
     "end_time": "2025-10-18T15:00:50.612341100Z",
     "start_time": "2025-10-18T15:00:50.299804700Z"
    }
   }
  },
  {
   "cell_type": "markdown",
   "source": [
    "# 1. Calculate rolling window"
   ],
   "metadata": {
    "collapsed": false,
    "ExecuteTime": {
     "end_time": "2025-10-18T15:04:06.982951400Z",
     "start_time": "2025-10-18T15:04:06.886670300Z"
    }
   },
   "outputs": [
    {
     "data": {
      "text/plain": "gvkey                           0\nisin                            0\ncusip                      174980\nreprisk_id                      0\nstory_id                    36116\nadopter                         0\nsic                             0\nSICS Codified Industry          0\nCodified SICS Sector            0\nseverity                        0\nreach                           0\nnovelty                         0\nincident_list                   0\nincident_date               36116\ncar_5                      233571\ncar_1                      233572\nmaterial_flag                   0\nYear                        36116\nYearMonth                   36116\nYearQuarter                 36116\ndtype: int64"
     },
     "execution_count": 9,
     "metadata": {},
     "output_type": "execute_result"
    }
   ],
   "execution_count": 9
  },
  {
   "cell_type": "code",
   "execution_count": 10,
   "outputs": [],
   "source": [
    "reprisk_incidents['incident_list'] = reprisk_incidents['incident_list'].apply(ast.literal_eval)\n",
    "exploded = reprisk_incidents[['SICS Codified Industry ', 'Year', 'YearQuarter', 'YearMonth', 'reach', 'car_1','car_5','severity','incident_list']] \\\n",
    "           .explode('incident_list') \\\n",
    "           .rename(columns={'incident_list':'type'})"
   ],
   "metadata": {
    "collapsed": false,
    "ExecuteTime": {
     "end_time": "2025-10-18T15:05:31.979040700Z",
     "start_time": "2025-10-18T15:05:25.937106Z"
    }
   }
  },
  {
   "cell_type": "code",
   "execution_count": 11,
   "outputs": [],
   "source": [
    "exploded"
   ],
   "metadata": {
    "collapsed": false,
    "ExecuteTime": {
     "end_time": "2025-10-18T15:06:13.702929600Z",
     "start_time": "2025-10-18T15:06:13.671235Z"
    }
   }
  },
  {
   "cell_type": "code",
   "execution_count": 12,
   "outputs": [
    {
     "data": {
      "text/plain": "          SICS Codified Industry  YearMonth                     reach_type  \\\n0         Advertising & Marketing   2007-12   discrimination_in_employment   \n1         Advertising & Marketing   2008-01   discrimination_in_employment   \n2         Advertising & Marketing   2008-02   discrimination_in_employment   \n3         Advertising & Marketing   2008-03   discrimination_in_employment   \n4         Advertising & Marketing   2008-04   discrimination_in_employment   \n...                           ...       ...                            ...   \n13044  Water Utilities & Services   2023-08                local_pollution   \n13045  Water Utilities & Services   2023-09                local_pollution   \n13046  Water Utilities & Services   2023-10  violation_of_natl_legislation   \n13047  Water Utilities & Services   2023-11  violation_of_natl_legislation   \n13048  Water Utilities & Services   2023-12  violation_of_natl_legislation   \n\n       reach_roll12                  severity_type  severity_roll12  \\\n0               1.0   discrimination_in_employment              1.0   \n1               1.0   discrimination_in_employment              1.0   \n2               1.0   discrimination_in_employment              1.0   \n3               1.0   discrimination_in_employment              1.0   \n4               1.0   discrimination_in_employment              1.0   \n...             ...                            ...              ...   \n13044          96.0         impacts_on_communities             67.0   \n13045          98.0         impacts_on_communities             66.0   \n13046         114.0  violation_of_natl_legislation             77.0   \n13047         117.0  violation_of_natl_legislation             78.0   \n13048         109.0  violation_of_natl_legislation             75.0   \n\n                         car_1_type  car_1_roll12  \\\n0      discrimination_in_employment     -0.006904   \n1      discrimination_in_employment     -0.006904   \n2      discrimination_in_employment     -0.006904   \n3      discrimination_in_employment     -0.006904   \n4      discrimination_in_employment     -0.006904   \n...                             ...           ...   \n13044        impacts_on_communities     -0.047760   \n13045  discrimination_in_employment     -0.011628   \n13046  discrimination_in_employment     -0.011628   \n13047  discrimination_in_employment     -0.011628   \n13048  discrimination_in_employment     -0.011628   \n\n                         car_5_type  car_5_roll12  \n0      discrimination_in_employment     -0.000448  \n1      discrimination_in_employment     -0.000448  \n2      discrimination_in_employment     -0.000448  \n3      discrimination_in_employment     -0.000448  \n4      discrimination_in_employment     -0.000448  \n...                             ...           ...  \n13044        impacts_on_communities     -0.110693  \n13045           occupational_health     -0.109424  \n13046           occupational_health     -0.109424  \n13047           occupational_health     -0.109424  \n13048           occupational_health     -0.109424  \n\n[13049 rows x 10 columns]",
      "text/html": "<div>\n<style scoped>\n    .dataframe tbody tr th:only-of-type {\n        vertical-align: middle;\n    }\n\n    .dataframe tbody tr th {\n        vertical-align: top;\n    }\n\n    .dataframe thead th {\n        text-align: right;\n    }\n</style>\n<table border=\"1\" class=\"dataframe\">\n  <thead>\n    <tr style=\"text-align: right;\">\n      <th></th>\n      <th>SICS Codified Industry</th>\n      <th>YearMonth</th>\n      <th>reach_type</th>\n      <th>reach_roll12</th>\n      <th>severity_type</th>\n      <th>severity_roll12</th>\n      <th>car_1_type</th>\n      <th>car_1_roll12</th>\n      <th>car_5_type</th>\n      <th>car_5_roll12</th>\n    </tr>\n  </thead>\n  <tbody>\n    <tr>\n      <th>0</th>\n      <td>Advertising &amp; Marketing</td>\n      <td>2007-12</td>\n      <td>discrimination_in_employment</td>\n      <td>1.0</td>\n      <td>discrimination_in_employment</td>\n      <td>1.0</td>\n      <td>discrimination_in_employment</td>\n      <td>-0.006904</td>\n      <td>discrimination_in_employment</td>\n      <td>-0.000448</td>\n    </tr>\n    <tr>\n      <th>1</th>\n      <td>Advertising &amp; Marketing</td>\n      <td>2008-01</td>\n      <td>discrimination_in_employment</td>\n      <td>1.0</td>\n      <td>discrimination_in_employment</td>\n      <td>1.0</td>\n      <td>discrimination_in_employment</td>\n      <td>-0.006904</td>\n      <td>discrimination_in_employment</td>\n      <td>-0.000448</td>\n    </tr>\n    <tr>\n      <th>2</th>\n      <td>Advertising &amp; Marketing</td>\n      <td>2008-02</td>\n      <td>discrimination_in_employment</td>\n      <td>1.0</td>\n      <td>discrimination_in_employment</td>\n      <td>1.0</td>\n      <td>discrimination_in_employment</td>\n      <td>-0.006904</td>\n      <td>discrimination_in_employment</td>\n      <td>-0.000448</td>\n    </tr>\n    <tr>\n      <th>3</th>\n      <td>Advertising &amp; Marketing</td>\n      <td>2008-03</td>\n      <td>discrimination_in_employment</td>\n      <td>1.0</td>\n      <td>discrimination_in_employment</td>\n      <td>1.0</td>\n      <td>discrimination_in_employment</td>\n      <td>-0.006904</td>\n      <td>discrimination_in_employment</td>\n      <td>-0.000448</td>\n    </tr>\n    <tr>\n      <th>4</th>\n      <td>Advertising &amp; Marketing</td>\n      <td>2008-04</td>\n      <td>discrimination_in_employment</td>\n      <td>1.0</td>\n      <td>discrimination_in_employment</td>\n      <td>1.0</td>\n      <td>discrimination_in_employment</td>\n      <td>-0.006904</td>\n      <td>discrimination_in_employment</td>\n      <td>-0.000448</td>\n    </tr>\n    <tr>\n      <th>...</th>\n      <td>...</td>\n      <td>...</td>\n      <td>...</td>\n      <td>...</td>\n      <td>...</td>\n      <td>...</td>\n      <td>...</td>\n      <td>...</td>\n      <td>...</td>\n      <td>...</td>\n    </tr>\n    <tr>\n      <th>13044</th>\n      <td>Water Utilities &amp; Services</td>\n      <td>2023-08</td>\n      <td>local_pollution</td>\n      <td>96.0</td>\n      <td>impacts_on_communities</td>\n      <td>67.0</td>\n      <td>impacts_on_communities</td>\n      <td>-0.047760</td>\n      <td>impacts_on_communities</td>\n      <td>-0.110693</td>\n    </tr>\n    <tr>\n      <th>13045</th>\n      <td>Water Utilities &amp; Services</td>\n      <td>2023-09</td>\n      <td>local_pollution</td>\n      <td>98.0</td>\n      <td>impacts_on_communities</td>\n      <td>66.0</td>\n      <td>discrimination_in_employment</td>\n      <td>-0.011628</td>\n      <td>occupational_health</td>\n      <td>-0.109424</td>\n    </tr>\n    <tr>\n      <th>13046</th>\n      <td>Water Utilities &amp; Services</td>\n      <td>2023-10</td>\n      <td>violation_of_natl_legislation</td>\n      <td>114.0</td>\n      <td>violation_of_natl_legislation</td>\n      <td>77.0</td>\n      <td>discrimination_in_employment</td>\n      <td>-0.011628</td>\n      <td>occupational_health</td>\n      <td>-0.109424</td>\n    </tr>\n    <tr>\n      <th>13047</th>\n      <td>Water Utilities &amp; Services</td>\n      <td>2023-11</td>\n      <td>violation_of_natl_legislation</td>\n      <td>117.0</td>\n      <td>violation_of_natl_legislation</td>\n      <td>78.0</td>\n      <td>discrimination_in_employment</td>\n      <td>-0.011628</td>\n      <td>occupational_health</td>\n      <td>-0.109424</td>\n    </tr>\n    <tr>\n      <th>13048</th>\n      <td>Water Utilities &amp; Services</td>\n      <td>2023-12</td>\n      <td>violation_of_natl_legislation</td>\n      <td>109.0</td>\n      <td>violation_of_natl_legislation</td>\n      <td>75.0</td>\n      <td>discrimination_in_employment</td>\n      <td>-0.011628</td>\n      <td>occupational_health</td>\n      <td>-0.109424</td>\n    </tr>\n  </tbody>\n</table>\n<p>13049 rows × 10 columns</p>\n</div>"
     },
     "execution_count": 12,
     "metadata": {},
     "output_type": "execute_result"
    }
   ],
   "source": [
    "def pick_types_by_rolling_12m_period_dropna_balanced(\n",
    "    df,\n",
    "    industry_col='SICS Codified Industry ',  # note the trailing space (matches your df)\n",
    "    ym_col='YearMonth',                      # must be Period[M]\n",
    "    type_col='type',\n",
    "    metrics=('reach','severity','car_1','car_5'),\n",
    "    window=12\n",
    "):\n",
    "    d = df.copy()\n",
    "    d[ym_col] = d[ym_col].astype('period[M]')\n",
    "    d = d[[industry_col, ym_col, type_col, *metrics]].copy()\n",
    "\n",
    "    # numeric coercion, keep NaNs\n",
    "    for m in metrics:\n",
    "        d[m] = pd.to_numeric(d[m], errors='coerce')\n",
    "\n",
    "    # aggregate to unique (industry, type, month)\n",
    "    d = (\n",
    "        d.groupby([industry_col, type_col, ym_col], as_index=False)[list(metrics)]\n",
    "         .sum(min_count=1)\n",
    "    )\n",
    "\n",
    "    # ---- Balanced panel over global YearMonth (for existing (industry,type) pairs only)\n",
    "    global_idx = pd.period_range(d[ym_col].min(), d[ym_col].max(), freq='M')\n",
    "    pairs = d[[industry_col, type_col]].drop_duplicates()\n",
    "    full = (\n",
    "        pairs.assign(_k=1)\n",
    "             .merge(pd.DataFrame({ym_col: global_idx, '_k':1}), on='_k')\n",
    "             .drop(columns='_k')\n",
    "             .set_index([industry_col, type_col, ym_col])\n",
    "    )\n",
    "    base = d.set_index([industry_col, type_col, ym_col])\n",
    "    d = full.join(base, how='left').reset_index()\n",
    "\n",
    "    # rolling 12m sums by (industry, type); NaNs remain NaN\n",
    "    d = d.sort_values([industry_col, type_col, ym_col])\n",
    "    for m in metrics:\n",
    "        d[f'roll12_{m}'] = (\n",
    "            d.groupby([industry_col, type_col], group_keys=False)[m]\n",
    "             .transform(lambda s: s.rolling(window, min_periods=1).sum())\n",
    "        )\n",
    "\n",
    "    by = [industry_col, ym_col]\n",
    "\n",
    "    def pick_one(rollcol, take='max'):\n",
    "        tmp = d[[industry_col, ym_col, type_col, rollcol]].dropna(subset=[rollcol]).copy()\n",
    "        # tie-breaker: alphabetical type; for min we sort ascending by value, for max we invert via sort order\n",
    "        asc_val = (take == 'min')\n",
    "        tmp = tmp.sort_values(by + [rollcol, type_col],\n",
    "                              ascending=[True, True, asc_val, True])\n",
    "        picked = tmp.drop_duplicates(subset=by, keep='first')\n",
    "        metric = rollcol.replace('roll12_', '')\n",
    "        picked = picked.rename(columns={\n",
    "            type_col: f'{metric}_type',\n",
    "            rollcol:  f'{metric}_roll12'\n",
    "        })\n",
    "        return picked[[industry_col, ym_col, f'{metric}_type', f'{metric}_roll12']]\n",
    "\n",
    "    reach_out    = pick_one('roll12_reach',    'max')\n",
    "    severity_out = pick_one('roll12_severity', 'max')\n",
    "    car1_out     = pick_one('roll12_car_1',    'min')\n",
    "    car5_out     = pick_one('roll12_car_5',    'min')\n",
    "\n",
    "    res = (reach_out.merge(severity_out, on=by, how='outer')\n",
    "                    .merge(car1_out,     on=by, how='outer')\n",
    "                    .merge(car5_out,     on=by, how='outer')\n",
    "                    .sort_values(by)\n",
    "                    .reset_index(drop=True))\n",
    "    return res\n"
   ],
   "metadata": {
    "collapsed": false,
    "ExecuteTime": {
     "end_time": "2025-10-18T15:06:25.699364300Z",
     "start_time": "2025-10-18T15:06:17.061734300Z"
    }
   }
  },
  {
   "cell_type": "code",
   "execution_count": 42,
   "outputs": [
    {
     "data": {
      "text/plain": "          SICS Codified Industry  YearMonth                     reach_type  \\\n0         Advertising & Marketing   2007-12   discrimination_in_employment   \n1         Advertising & Marketing   2008-01   discrimination_in_employment   \n2         Advertising & Marketing   2008-02   discrimination_in_employment   \n3         Advertising & Marketing   2008-03   discrimination_in_employment   \n4         Advertising & Marketing   2008-04   discrimination_in_employment   \n...                           ...       ...                            ...   \n13044  Water Utilities & Services   2023-08                local_pollution   \n13045  Water Utilities & Services   2023-09                local_pollution   \n13046  Water Utilities & Services   2023-10  violation_of_natl_legislation   \n13047  Water Utilities & Services   2023-11  violation_of_natl_legislation   \n13048  Water Utilities & Services   2023-12  violation_of_natl_legislation   \n\n       reach_roll12                  severity_type  severity_roll12  \\\n0               1.0   discrimination_in_employment              1.0   \n1               1.0   discrimination_in_employment              1.0   \n2               1.0   discrimination_in_employment              1.0   \n3               1.0   discrimination_in_employment              1.0   \n4               1.0   discrimination_in_employment              1.0   \n...             ...                            ...              ...   \n13044          96.0         impacts_on_communities             67.0   \n13045          98.0         impacts_on_communities             66.0   \n13046         114.0  violation_of_natl_legislation             77.0   \n13047         117.0  violation_of_natl_legislation             78.0   \n13048         109.0  violation_of_natl_legislation             75.0   \n\n                         car_1_type  car_1_roll12  \\\n0      discrimination_in_employment     -0.006904   \n1      discrimination_in_employment     -0.006904   \n2      discrimination_in_employment     -0.006904   \n3      discrimination_in_employment     -0.006904   \n4      discrimination_in_employment     -0.006904   \n...                             ...           ...   \n13044        impacts_on_communities     -0.047760   \n13045  discrimination_in_employment     -0.011628   \n13046  discrimination_in_employment     -0.011628   \n13047  discrimination_in_employment     -0.011628   \n13048  discrimination_in_employment     -0.011628   \n\n                         car_5_type  car_5_roll12  \n0      discrimination_in_employment     -0.000448  \n1      discrimination_in_employment     -0.000448  \n2      discrimination_in_employment     -0.000448  \n3      discrimination_in_employment     -0.000448  \n4      discrimination_in_employment     -0.000448  \n...                             ...           ...  \n13044        impacts_on_communities     -0.110693  \n13045           occupational_health     -0.109424  \n13046           occupational_health     -0.109424  \n13047           occupational_health     -0.109424  \n13048           occupational_health     -0.109424  \n\n[13049 rows x 10 columns]",
      "text/html": "<div>\n<style scoped>\n    .dataframe tbody tr th:only-of-type {\n        vertical-align: middle;\n    }\n\n    .dataframe tbody tr th {\n        vertical-align: top;\n    }\n\n    .dataframe thead th {\n        text-align: right;\n    }\n</style>\n<table border=\"1\" class=\"dataframe\">\n  <thead>\n    <tr style=\"text-align: right;\">\n      <th></th>\n      <th>SICS Codified Industry</th>\n      <th>YearMonth</th>\n      <th>reach_type</th>\n      <th>reach_roll12</th>\n      <th>severity_type</th>\n      <th>severity_roll12</th>\n      <th>car_1_type</th>\n      <th>car_1_roll12</th>\n      <th>car_5_type</th>\n      <th>car_5_roll12</th>\n    </tr>\n  </thead>\n  <tbody>\n    <tr>\n      <th>0</th>\n      <td>Advertising &amp; Marketing</td>\n      <td>2007-12</td>\n      <td>discrimination_in_employment</td>\n      <td>1.0</td>\n      <td>discrimination_in_employment</td>\n      <td>1.0</td>\n      <td>discrimination_in_employment</td>\n      <td>-0.006904</td>\n      <td>discrimination_in_employment</td>\n      <td>-0.000448</td>\n    </tr>\n    <tr>\n      <th>1</th>\n      <td>Advertising &amp; Marketing</td>\n      <td>2008-01</td>\n      <td>discrimination_in_employment</td>\n      <td>1.0</td>\n      <td>discrimination_in_employment</td>\n      <td>1.0</td>\n      <td>discrimination_in_employment</td>\n      <td>-0.006904</td>\n      <td>discrimination_in_employment</td>\n      <td>-0.000448</td>\n    </tr>\n    <tr>\n      <th>2</th>\n      <td>Advertising &amp; Marketing</td>\n      <td>2008-02</td>\n      <td>discrimination_in_employment</td>\n      <td>1.0</td>\n      <td>discrimination_in_employment</td>\n      <td>1.0</td>\n      <td>discrimination_in_employment</td>\n      <td>-0.006904</td>\n      <td>discrimination_in_employment</td>\n      <td>-0.000448</td>\n    </tr>\n    <tr>\n      <th>3</th>\n      <td>Advertising &amp; Marketing</td>\n      <td>2008-03</td>\n      <td>discrimination_in_employment</td>\n      <td>1.0</td>\n      <td>discrimination_in_employment</td>\n      <td>1.0</td>\n      <td>discrimination_in_employment</td>\n      <td>-0.006904</td>\n      <td>discrimination_in_employment</td>\n      <td>-0.000448</td>\n    </tr>\n    <tr>\n      <th>4</th>\n      <td>Advertising &amp; Marketing</td>\n      <td>2008-04</td>\n      <td>discrimination_in_employment</td>\n      <td>1.0</td>\n      <td>discrimination_in_employment</td>\n      <td>1.0</td>\n      <td>discrimination_in_employment</td>\n      <td>-0.006904</td>\n      <td>discrimination_in_employment</td>\n      <td>-0.000448</td>\n    </tr>\n    <tr>\n      <th>...</th>\n      <td>...</td>\n      <td>...</td>\n      <td>...</td>\n      <td>...</td>\n      <td>...</td>\n      <td>...</td>\n      <td>...</td>\n      <td>...</td>\n      <td>...</td>\n      <td>...</td>\n    </tr>\n    <tr>\n      <th>13044</th>\n      <td>Water Utilities &amp; Services</td>\n      <td>2023-08</td>\n      <td>local_pollution</td>\n      <td>96.0</td>\n      <td>impacts_on_communities</td>\n      <td>67.0</td>\n      <td>impacts_on_communities</td>\n      <td>-0.047760</td>\n      <td>impacts_on_communities</td>\n      <td>-0.110693</td>\n    </tr>\n    <tr>\n      <th>13045</th>\n      <td>Water Utilities &amp; Services</td>\n      <td>2023-09</td>\n      <td>local_pollution</td>\n      <td>98.0</td>\n      <td>impacts_on_communities</td>\n      <td>66.0</td>\n      <td>discrimination_in_employment</td>\n      <td>-0.011628</td>\n      <td>occupational_health</td>\n      <td>-0.109424</td>\n    </tr>\n    <tr>\n      <th>13046</th>\n      <td>Water Utilities &amp; Services</td>\n      <td>2023-10</td>\n      <td>violation_of_natl_legislation</td>\n      <td>114.0</td>\n      <td>violation_of_natl_legislation</td>\n      <td>77.0</td>\n      <td>discrimination_in_employment</td>\n      <td>-0.011628</td>\n      <td>occupational_health</td>\n      <td>-0.109424</td>\n    </tr>\n    <tr>\n      <th>13047</th>\n      <td>Water Utilities &amp; Services</td>\n      <td>2023-11</td>\n      <td>violation_of_natl_legislation</td>\n      <td>117.0</td>\n      <td>violation_of_natl_legislation</td>\n      <td>78.0</td>\n      <td>discrimination_in_employment</td>\n      <td>-0.011628</td>\n      <td>occupational_health</td>\n      <td>-0.109424</td>\n    </tr>\n    <tr>\n      <th>13048</th>\n      <td>Water Utilities &amp; Services</td>\n      <td>2023-12</td>\n      <td>violation_of_natl_legislation</td>\n      <td>109.0</td>\n      <td>violation_of_natl_legislation</td>\n      <td>75.0</td>\n      <td>discrimination_in_employment</td>\n      <td>-0.011628</td>\n      <td>occupational_health</td>\n      <td>-0.109424</td>\n    </tr>\n  </tbody>\n</table>\n<p>13049 rows × 10 columns</p>\n</div>"
     },
     "execution_count": 42,
     "metadata": {},
     "output_type": "execute_result"
    }
   ],
   "source": [
    "# ---------------- Example usage ----------------\n",
    "result = pick_types_by_rolling_12m_period_dropna_balanced(exploded)\n",
    "result"
   ],
   "metadata": {
    "collapsed": false,
    "ExecuteTime": {
     "end_time": "2025-10-07T17:53:11.079268600Z",
     "start_time": "2025-10-07T17:52:59.110797300Z"
    }
   }
  },
  {
   "cell_type": "code",
   "execution_count": 13,
   "outputs": [
    {
     "data": {
      "text/plain": "           gvkey          isin      cusip  reprisk_id  story_id  adopter  \\\n0       210418.0  US0003752047  000375204           2    1251.0        1   \n1       210418.0  US0003752047  000375204           2    1305.0        1   \n2       210418.0  US0003752047  000375204           2    4029.0        1   \n3       210418.0  US0003752047  000375204           2    4488.0        1   \n4       210418.0  US0003752047  000375204           2    4756.0        1   \n...          ...           ...        ...         ...       ...      ...   \n331365  355240.0  THB131010001        NaN     2683218       NaN        1   \n331366  349631.0  PK0126301016        NaN     2684126       NaN        1   \n331367  350690.0  GB00BLNNFY18        NaN     2685085       NaN        1   \n331368  350726.0  AU0000180200        NaN     2685460       NaN        1   \n331369  355325.0  TW0006935000        NaN     2685762       NaN        0   \n\n           sic            SICS Codified Industry   \\\n0       3613.0  Electrical & Electronic Equipment   \n1       3613.0  Electrical & Electronic Equipment   \n2       3613.0  Electrical & Electronic Equipment   \n3       3613.0  Electrical & Electronic Equipment   \n4       3613.0  Electrical & Electronic Equipment   \n...        ...                                ...   \n331365  5900.0                    Coal Operations   \n331366  3411.0             Containers & Packaging   \n331367  6726.0      Household & Personal Products   \n331368  1400.0                          Chemicals   \n331369  2834.0    Biotechnology & Pharmaceuticals   \n\n                    Codified SICS Sector   severity  ...  YearMonth  \\\n0                 Resource Transformation       1.0  ...    2007-06   \n1                 Resource Transformation       2.0  ...    2007-07   \n2                 Resource Transformation       2.0  ...    2008-04   \n3                 Resource Transformation       2.0  ...    2008-05   \n4                 Resource Transformation       1.0  ...    2007-01   \n...                                   ...       ...  ...        ...   \n331365  Extractives & Minerals Processing       0.0  ...        NaT   \n331366            Resource Transformation       0.0  ...        NaT   \n331367                     Consumer Goods       0.0  ...        NaT   \n331368            Resource Transformation       0.0  ...        NaT   \n331369                        Health Care       0.0  ...        NaT   \n\n        YearQuarter                     reach_type reach_roll12  \\\n0            2007Q2  violation_of_natl_legislation         28.0   \n1            2007Q3  violation_of_natl_legislation         28.0   \n2            2008Q2          impacts_on_landscapes         43.0   \n3            2008Q2            human_rights_abuses         47.0   \n4            2007Q1  violation_of_natl_legislation         21.0   \n...             ...                            ...          ...   \n331365          NaT                            NaN          NaN   \n331366          NaT                            NaN          NaN   \n331367          NaT                            NaN          NaN   \n331368          NaT                            NaN          NaN   \n331369          NaT                            NaN          NaN   \n\n                        severity_type  severity_roll12  \\\n0       violation_of_natl_legislation             18.0   \n1       violation_of_natl_legislation             18.0   \n2                 human_rights_abuses             41.0   \n3                 human_rights_abuses             54.0   \n4       violation_of_natl_legislation             11.0   \n...                               ...              ...   \n331365                            NaN              NaN   \n331366                            NaN              NaN   \n331367                            NaN              NaN   \n331368                            NaN              NaN   \n331369                            NaN              NaN   \n\n                    car_1_type  car_1_roll12              car_5_type  \\\n0       impacts_on_communities      0.009035  impacts_on_communities   \n1       impacts_on_communities      0.009035  impacts_on_communities   \n2        climate_ghg_pollution     -0.129756  impacts_on_communities   \n3        climate_ghg_pollution     -0.129756     supply_chain_issues   \n4       impacts_on_communities     -0.004342  impacts_on_communities   \n...                        ...           ...                     ...   \n331365                     NaN           NaN                     NaN   \n331366                     NaN           NaN                     NaN   \n331367                     NaN           NaN                     NaN   \n331368                     NaN           NaN                     NaN   \n331369                     NaN           NaN                     NaN   \n\n       car_5_roll12  \n0          0.016264  \n1          0.016264  \n2         -0.282756  \n3         -0.250865  \n4         -0.007518  \n...             ...  \n331365          NaN  \n331366          NaN  \n331367          NaN  \n331368          NaN  \n331369          NaN  \n\n[331370 rows x 28 columns]",
      "text/html": "<div>\n<style scoped>\n    .dataframe tbody tr th:only-of-type {\n        vertical-align: middle;\n    }\n\n    .dataframe tbody tr th {\n        vertical-align: top;\n    }\n\n    .dataframe thead th {\n        text-align: right;\n    }\n</style>\n<table border=\"1\" class=\"dataframe\">\n  <thead>\n    <tr style=\"text-align: right;\">\n      <th></th>\n      <th>gvkey</th>\n      <th>isin</th>\n      <th>cusip</th>\n      <th>reprisk_id</th>\n      <th>story_id</th>\n      <th>adopter</th>\n      <th>sic</th>\n      <th>SICS Codified Industry</th>\n      <th>Codified SICS Sector</th>\n      <th>severity</th>\n      <th>...</th>\n      <th>YearMonth</th>\n      <th>YearQuarter</th>\n      <th>reach_type</th>\n      <th>reach_roll12</th>\n      <th>severity_type</th>\n      <th>severity_roll12</th>\n      <th>car_1_type</th>\n      <th>car_1_roll12</th>\n      <th>car_5_type</th>\n      <th>car_5_roll12</th>\n    </tr>\n  </thead>\n  <tbody>\n    <tr>\n      <th>0</th>\n      <td>210418.0</td>\n      <td>US0003752047</td>\n      <td>000375204</td>\n      <td>2</td>\n      <td>1251.0</td>\n      <td>1</td>\n      <td>3613.0</td>\n      <td>Electrical &amp; Electronic Equipment</td>\n      <td>Resource Transformation</td>\n      <td>1.0</td>\n      <td>...</td>\n      <td>2007-06</td>\n      <td>2007Q2</td>\n      <td>violation_of_natl_legislation</td>\n      <td>28.0</td>\n      <td>violation_of_natl_legislation</td>\n      <td>18.0</td>\n      <td>impacts_on_communities</td>\n      <td>0.009035</td>\n      <td>impacts_on_communities</td>\n      <td>0.016264</td>\n    </tr>\n    <tr>\n      <th>1</th>\n      <td>210418.0</td>\n      <td>US0003752047</td>\n      <td>000375204</td>\n      <td>2</td>\n      <td>1305.0</td>\n      <td>1</td>\n      <td>3613.0</td>\n      <td>Electrical &amp; Electronic Equipment</td>\n      <td>Resource Transformation</td>\n      <td>2.0</td>\n      <td>...</td>\n      <td>2007-07</td>\n      <td>2007Q3</td>\n      <td>violation_of_natl_legislation</td>\n      <td>28.0</td>\n      <td>violation_of_natl_legislation</td>\n      <td>18.0</td>\n      <td>impacts_on_communities</td>\n      <td>0.009035</td>\n      <td>impacts_on_communities</td>\n      <td>0.016264</td>\n    </tr>\n    <tr>\n      <th>2</th>\n      <td>210418.0</td>\n      <td>US0003752047</td>\n      <td>000375204</td>\n      <td>2</td>\n      <td>4029.0</td>\n      <td>1</td>\n      <td>3613.0</td>\n      <td>Electrical &amp; Electronic Equipment</td>\n      <td>Resource Transformation</td>\n      <td>2.0</td>\n      <td>...</td>\n      <td>2008-04</td>\n      <td>2008Q2</td>\n      <td>impacts_on_landscapes</td>\n      <td>43.0</td>\n      <td>human_rights_abuses</td>\n      <td>41.0</td>\n      <td>climate_ghg_pollution</td>\n      <td>-0.129756</td>\n      <td>impacts_on_communities</td>\n      <td>-0.282756</td>\n    </tr>\n    <tr>\n      <th>3</th>\n      <td>210418.0</td>\n      <td>US0003752047</td>\n      <td>000375204</td>\n      <td>2</td>\n      <td>4488.0</td>\n      <td>1</td>\n      <td>3613.0</td>\n      <td>Electrical &amp; Electronic Equipment</td>\n      <td>Resource Transformation</td>\n      <td>2.0</td>\n      <td>...</td>\n      <td>2008-05</td>\n      <td>2008Q2</td>\n      <td>human_rights_abuses</td>\n      <td>47.0</td>\n      <td>human_rights_abuses</td>\n      <td>54.0</td>\n      <td>climate_ghg_pollution</td>\n      <td>-0.129756</td>\n      <td>supply_chain_issues</td>\n      <td>-0.250865</td>\n    </tr>\n    <tr>\n      <th>4</th>\n      <td>210418.0</td>\n      <td>US0003752047</td>\n      <td>000375204</td>\n      <td>2</td>\n      <td>4756.0</td>\n      <td>1</td>\n      <td>3613.0</td>\n      <td>Electrical &amp; Electronic Equipment</td>\n      <td>Resource Transformation</td>\n      <td>1.0</td>\n      <td>...</td>\n      <td>2007-01</td>\n      <td>2007Q1</td>\n      <td>violation_of_natl_legislation</td>\n      <td>21.0</td>\n      <td>violation_of_natl_legislation</td>\n      <td>11.0</td>\n      <td>impacts_on_communities</td>\n      <td>-0.004342</td>\n      <td>impacts_on_communities</td>\n      <td>-0.007518</td>\n    </tr>\n    <tr>\n      <th>...</th>\n      <td>...</td>\n      <td>...</td>\n      <td>...</td>\n      <td>...</td>\n      <td>...</td>\n      <td>...</td>\n      <td>...</td>\n      <td>...</td>\n      <td>...</td>\n      <td>...</td>\n      <td>...</td>\n      <td>...</td>\n      <td>...</td>\n      <td>...</td>\n      <td>...</td>\n      <td>...</td>\n      <td>...</td>\n      <td>...</td>\n      <td>...</td>\n      <td>...</td>\n      <td>...</td>\n    </tr>\n    <tr>\n      <th>331365</th>\n      <td>355240.0</td>\n      <td>THB131010001</td>\n      <td>NaN</td>\n      <td>2683218</td>\n      <td>NaN</td>\n      <td>1</td>\n      <td>5900.0</td>\n      <td>Coal Operations</td>\n      <td>Extractives &amp; Minerals Processing</td>\n      <td>0.0</td>\n      <td>...</td>\n      <td>NaT</td>\n      <td>NaT</td>\n      <td>NaN</td>\n      <td>NaN</td>\n      <td>NaN</td>\n      <td>NaN</td>\n      <td>NaN</td>\n      <td>NaN</td>\n      <td>NaN</td>\n      <td>NaN</td>\n    </tr>\n    <tr>\n      <th>331366</th>\n      <td>349631.0</td>\n      <td>PK0126301016</td>\n      <td>NaN</td>\n      <td>2684126</td>\n      <td>NaN</td>\n      <td>1</td>\n      <td>3411.0</td>\n      <td>Containers &amp; Packaging</td>\n      <td>Resource Transformation</td>\n      <td>0.0</td>\n      <td>...</td>\n      <td>NaT</td>\n      <td>NaT</td>\n      <td>NaN</td>\n      <td>NaN</td>\n      <td>NaN</td>\n      <td>NaN</td>\n      <td>NaN</td>\n      <td>NaN</td>\n      <td>NaN</td>\n      <td>NaN</td>\n    </tr>\n    <tr>\n      <th>331367</th>\n      <td>350690.0</td>\n      <td>GB00BLNNFY18</td>\n      <td>NaN</td>\n      <td>2685085</td>\n      <td>NaN</td>\n      <td>1</td>\n      <td>6726.0</td>\n      <td>Household &amp; Personal Products</td>\n      <td>Consumer Goods</td>\n      <td>0.0</td>\n      <td>...</td>\n      <td>NaT</td>\n      <td>NaT</td>\n      <td>NaN</td>\n      <td>NaN</td>\n      <td>NaN</td>\n      <td>NaN</td>\n      <td>NaN</td>\n      <td>NaN</td>\n      <td>NaN</td>\n      <td>NaN</td>\n    </tr>\n    <tr>\n      <th>331368</th>\n      <td>350726.0</td>\n      <td>AU0000180200</td>\n      <td>NaN</td>\n      <td>2685460</td>\n      <td>NaN</td>\n      <td>1</td>\n      <td>1400.0</td>\n      <td>Chemicals</td>\n      <td>Resource Transformation</td>\n      <td>0.0</td>\n      <td>...</td>\n      <td>NaT</td>\n      <td>NaT</td>\n      <td>NaN</td>\n      <td>NaN</td>\n      <td>NaN</td>\n      <td>NaN</td>\n      <td>NaN</td>\n      <td>NaN</td>\n      <td>NaN</td>\n      <td>NaN</td>\n    </tr>\n    <tr>\n      <th>331369</th>\n      <td>355325.0</td>\n      <td>TW0006935000</td>\n      <td>NaN</td>\n      <td>2685762</td>\n      <td>NaN</td>\n      <td>0</td>\n      <td>2834.0</td>\n      <td>Biotechnology &amp; Pharmaceuticals</td>\n      <td>Health Care</td>\n      <td>0.0</td>\n      <td>...</td>\n      <td>NaT</td>\n      <td>NaT</td>\n      <td>NaN</td>\n      <td>NaN</td>\n      <td>NaN</td>\n      <td>NaN</td>\n      <td>NaN</td>\n      <td>NaN</td>\n      <td>NaN</td>\n      <td>NaN</td>\n    </tr>\n  </tbody>\n</table>\n<p>331370 rows × 28 columns</p>\n</div>"
     },
     "execution_count": 13,
     "metadata": {},
     "output_type": "execute_result"
    }
   ],
   "source": [
    "result.groupby('SICS Codified Industry ')['car_5_type'].nunique()"
   ],
   "metadata": {
    "collapsed": false,
    "ExecuteTime": {
     "end_time": "2025-10-18T15:06:47.047638400Z",
     "start_time": "2025-10-18T15:06:46.608401300Z"
    }
   }
  },
  {
   "cell_type": "code",
   "execution_count": 14,
   "outputs": [],
   "source": [
    "# Merge back to original dataframe\n",
    "final = reprisk_incidents.merge(\n",
    "    result,\n",
    "    on=['SICS Codified Industry ', 'YearMonth'],\n",
    "    how='left'\n",
    ")\n",
    "final"
   ],
   "metadata": {
    "collapsed": false,
    "ExecuteTime": {
     "end_time": "2025-10-18T15:07:01.987071100Z",
     "start_time": "2025-10-18T15:07:00.319826Z"
    }
   }
  },
  {
   "cell_type": "code",
   "execution_count": 15,
   "outputs": [],
   "source": [
    "def _in_list(t, lst):\n",
    "    if pd.isna(t):\n",
    "        return 0\n",
    "    return int(str(t) in lst)\n",
    "\n",
    "# --- 3) create materiality flags\n",
    "final['materiality_reach']    = [_in_list(t, L) for t, L in zip(final['reach_type'],    final['incident_list'])]\n",
    "final['materiality_severity'] = [_in_list(t, L) for t, L in zip(final['severity_type'], final['incident_list'])]\n",
    "final['materiality_car_1']    = [_in_list(t, L) for t, L in zip(final['car_1_type'],    final['incident_list'])]\n",
    "final['materiality_car_5']    = [_in_list(t, L) for t, L in zip(final['car_5_type'],    final['incident_list'])]\n",
    "final"
   ],
   "metadata": {
    "collapsed": false,
    "ExecuteTime": {
     "end_time": "2025-10-18T15:07:21.493953300Z",
     "start_time": "2025-10-18T15:07:11.685826500Z"
    }
   }
  },
  {
   "cell_type": "code",
   "execution_count": 60,
   "outputs": [],
   "source": [
    "final.to_csv('data/incidents_rolling_firm.csv', index=False)"
   ],
   "metadata": {
    "collapsed": false,
    "ExecuteTime": {
     "end_time": "2025-10-08T18:10:26.405122100Z",
     "start_time": "2025-10-08T18:10:17.999188Z"
    }
   }
  },
  {
   "cell_type": "markdown",
   "source": [
    "# 2. Return on firm level"
   ],
   "metadata": {
    "collapsed": false,
    "ExecuteTime": {
     "end_time": "2025-10-21T20:14:43.529855900Z",
     "start_time": "2025-10-21T20:14:39.643973100Z"
    }
   },
   "outputs": [],
   "execution_count": 29
  },
  {
   "cell_type": "code",
   "execution_count": 30,
   "outputs": [
    {
     "name": "stdout",
     "output_type": "stream",
     "text": [
      "Loading library list...\n",
      "Done\n"
     ]
    }
   ],
   "source": [
    "final = pd.read_csv('data/incidents_rolling_firm.csv')"
   ],
   "metadata": {
    "collapsed": false,
    "ExecuteTime": {
     "end_time": "2025-10-21T20:14:45.964118600Z",
     "start_time": "2025-10-21T20:14:43.533864200Z"
    }
   }
  },
  {
   "cell_type": "code",
   "execution_count": 172,
   "outputs": [
    {
     "name": "stdout",
     "output_type": "stream",
     "text": [
      "Loading library list...\n",
      "Done\n"
     ]
    }
   ],
   "source": [
    "import wrds\n",
    "from pathlib import Path\n",
    "from dotenv import load_dotenv\n",
    "import os\n",
    "from itertools import islice\n",
    "\n",
    "project_root = Path(r\"E:\\GermanBusinessPanelTeam\\Schrader\\Forschung\\ESGmateriality\")\n",
    "\n",
    "# ── Load WRDS creds from wrds.env in the project root ─────────────────────────\n",
    "env_path = project_root / \"wrds.env\"\n",
    "load_dotenv(dotenv_path=env_path)\n",
    "# ── Connect to WRDS ───────────────────────────────────────────────────────────\n",
    "db = wrds.Connection(\n",
    "    wrds_username=os.getenv(\"WRDS_YALE_USERNAME\"),\n",
    "    wrds_password=os.getenv(\"WRDS_YALE_PASSWORD\")\n",
    ")"
   ],
   "metadata": {
    "collapsed": false,
    "ExecuteTime": {
     "end_time": "2025-10-13T16:02:48.969277900Z",
     "start_time": "2025-10-13T16:02:45.796330500Z"
    }
   }
  },
  {
   "cell_type": "code",
   "execution_count": 31,
   "outputs": [],
   "source": [
    "db.list_libraries()"
   ],
   "metadata": {
    "collapsed": false,
    "ExecuteTime": {
     "end_time": "2025-10-21T20:17:56.926812800Z",
     "start_time": "2025-10-21T20:14:57.877194300Z"
    }
   }
  },
  {
   "cell_type": "code",
   "execution_count": 32,
   "outputs": [
    {
     "name": "stderr",
     "output_type": "stream",
     "text": [
      "C:\\Users\\PascalSchrader.WIN-T1MVMVKE25U.000\\AppData\\Local\\Temp\\9\\ipykernel_46028\\80811019.py:13: DeprecationWarning: DataFrameGroupBy.apply operated on the grouping columns. This behavior is deprecated, and in a future version of pandas the grouping columns will be excluded from the operation. Either pass `include_groups=False` to exclude the groupings or explicitly select the grouping columns after groupby to silence this warning.\n",
      "  .apply(fill_and_bfill)\n"
     ]
    }
   ],
   "source": [
    "# --- 1) Unique CUSIPs and date bounds (work on copies; your df_incidents stays untouched)\n",
    "cusips = pd.Series(final['cusip'].dropna().unique(), dtype=object).tolist()\n",
    "\n",
    "dates = pd.to_datetime(pd.Series(final['incident_date'].dropna()), errors='coerce').dropna()\n",
    "start_date = dates.min().strftime('%Y-%m-%d')\n",
    "end_date   = (dates.max() + pd.Timedelta(days=1)).strftime('%Y-%m-%d')  # include +1 day\n",
    "\n",
    "# --- 2) Query CRSP.dsf in manageable chunks\n",
    "def chunks(seq, size):\n",
    "    it = iter(seq)\n",
    "    while True:\n",
    "        block = list(islice(it, size))\n",
    "        if not block:\n",
    "            break\n",
    "        yield block\n",
    "\n",
    "dfs = []\n",
    "for block in chunks(cusips, 2000):  # adjust chunk size if needed\n",
    "    cusip_list_sql = \"(\" + \",\".join(f\"'{c}'\" for c in block) + \")\"\n",
    "    sql = f\"\"\"\n",
    "        SELECT cusip, date, ret\n",
    "        FROM crsp.dsf\n",
    "        WHERE date BETWEEN '{start_date}' AND '{end_date}'\n",
    "          AND cusip IN {cusip_list_sql}\n",
    "    \"\"\"\n",
    "    dfs.append(db.raw_sql(sql, date_cols=['date']))\n",
    "\n",
    "# --- 3) Concatenate & tidy\n",
    "all_returns = (\n",
    "    pd.concat(dfs, ignore_index=True) if dfs else pd.DataFrame(columns=['cusip','date','ret'])\n",
    "    .astype({'cusip':'object'})\n",
    ")\n",
    "all_returns['ret'] = pd.to_numeric(all_returns['ret'], errors='coerce')\n",
    "all_returns = all_returns.sort_values(['cusip','date']).reset_index(drop=True)"
   ],
   "metadata": {
    "collapsed": false,
    "ExecuteTime": {
     "end_time": "2025-10-21T20:18:30.679636200Z",
     "start_time": "2025-10-21T20:17:56.926812800Z"
    }
   }
  },
  {
   "cell_type": "code",
   "execution_count": 33,
   "outputs": [],
   "source": [
    "all_returns"
   ],
   "metadata": {
    "collapsed": false,
    "ExecuteTime": {
     "end_time": "2025-10-21T20:18:31.828070300Z",
     "start_time": "2025-10-21T20:18:30.679636200Z"
    }
   }
  },
  {
   "cell_type": "code",
   "execution_count": 34,
   "outputs": [
    {
     "name": "stdout",
     "output_type": "stream",
     "text": [
      "(9840767, 3)\n"
     ]
    },
    {
     "data": {
      "text/plain": "      cusip       date       ret\n0  00030710 2014-10-02      <NA>\n1  00030710 2014-10-03  0.008108\n2  00030710 2014-10-06  0.031635\n3  00030710 2014-10-07       0.0\n4  00030710 2014-10-08 -0.005717",
      "text/html": "<div>\n<style scoped>\n    .dataframe tbody tr th:only-of-type {\n        vertical-align: middle;\n    }\n\n    .dataframe tbody tr th {\n        vertical-align: top;\n    }\n\n    .dataframe thead th {\n        text-align: right;\n    }\n</style>\n<table border=\"1\" class=\"dataframe\">\n  <thead>\n    <tr style=\"text-align: right;\">\n      <th></th>\n      <th>cusip</th>\n      <th>date</th>\n      <th>ret</th>\n    </tr>\n  </thead>\n  <tbody>\n    <tr>\n      <th>0</th>\n      <td>00030710</td>\n      <td>2014-10-02</td>\n      <td>&lt;NA&gt;</td>\n    </tr>\n    <tr>\n      <th>1</th>\n      <td>00030710</td>\n      <td>2014-10-03</td>\n      <td>0.008108</td>\n    </tr>\n    <tr>\n      <th>2</th>\n      <td>00030710</td>\n      <td>2014-10-06</td>\n      <td>0.031635</td>\n    </tr>\n    <tr>\n      <th>3</th>\n      <td>00030710</td>\n      <td>2014-10-07</td>\n      <td>0.0</td>\n    </tr>\n    <tr>\n      <th>4</th>\n      <td>00030710</td>\n      <td>2014-10-08</td>\n      <td>-0.005717</td>\n    </tr>\n  </tbody>\n</table>\n</div>"
     },
     "execution_count": 34,
     "metadata": {},
     "output_type": "execute_result"
    }
   ],
   "source": [
    "def fill_and_bfill(g):\n",
    "    # full daily calendar from first to last observed date\n",
    "    full_idx = pd.date_range(g['date'].min(), g['date'].max(), freq='D')\n",
    "    g2 = (g.set_index('date')\n",
    "            .reindex(full_idx)           # adds missing days as NaNs\n",
    "            .rename_axis('date'))\n",
    "    # keep cusip, then backfill ret (use next trading day's value)\n",
    "    g2['cusip'] = g2['cusip'].ffill().bfill()\n",
    "    g2['ret']   = g2['ret'].bfill()\n",
    "    return g2.reset_index()\n",
    "\n",
    "df_filled = (all_returns.groupby('cusip', group_keys=False)\n",
    "               .apply(fill_and_bfill)\n",
    "               .sort_values(['cusip','date'])\n",
    "               .reset_index(drop=True))"
   ],
   "metadata": {
    "collapsed": false,
    "ExecuteTime": {
     "end_time": "2025-10-21T20:21:16.717534900Z",
     "start_time": "2025-10-21T20:18:31.812436100Z"
    }
   }
  },
  {
   "cell_type": "code",
   "execution_count": 35,
   "outputs": [
    {
     "data": {
      "text/plain": "      cusip       date        ar  next_date   next_ar\n0  00030710 2014-10-02      <NA> 2014-10-03 -0.000988\n1  00030710 2014-10-03 -0.000988 2014-10-06  0.033217\n2  00030710 2014-10-06  0.033217 2014-10-07   0.01499\n3  00030710 2014-10-07   0.01499 2014-10-08 -0.021572\n4  00030710 2014-10-08 -0.021572 2014-10-09  0.027493",
      "text/html": "<div>\n<style scoped>\n    .dataframe tbody tr th:only-of-type {\n        vertical-align: middle;\n    }\n\n    .dataframe tbody tr th {\n        vertical-align: top;\n    }\n\n    .dataframe thead th {\n        text-align: right;\n    }\n</style>\n<table border=\"1\" class=\"dataframe\">\n  <thead>\n    <tr style=\"text-align: right;\">\n      <th></th>\n      <th>cusip</th>\n      <th>date</th>\n      <th>ar</th>\n      <th>next_date</th>\n      <th>next_ar</th>\n    </tr>\n  </thead>\n  <tbody>\n    <tr>\n      <th>0</th>\n      <td>00030710</td>\n      <td>2014-10-02</td>\n      <td>&lt;NA&gt;</td>\n      <td>2014-10-03</td>\n      <td>-0.000988</td>\n    </tr>\n    <tr>\n      <th>1</th>\n      <td>00030710</td>\n      <td>2014-10-03</td>\n      <td>-0.000988</td>\n      <td>2014-10-06</td>\n      <td>0.033217</td>\n    </tr>\n    <tr>\n      <th>2</th>\n      <td>00030710</td>\n      <td>2014-10-06</td>\n      <td>0.033217</td>\n      <td>2014-10-07</td>\n      <td>0.01499</td>\n    </tr>\n    <tr>\n      <th>3</th>\n      <td>00030710</td>\n      <td>2014-10-07</td>\n      <td>0.01499</td>\n      <td>2014-10-08</td>\n      <td>-0.021572</td>\n    </tr>\n    <tr>\n      <th>4</th>\n      <td>00030710</td>\n      <td>2014-10-08</td>\n      <td>-0.021572</td>\n      <td>2014-10-09</td>\n      <td>0.027493</td>\n    </tr>\n  </tbody>\n</table>\n</div>"
     },
     "execution_count": 35,
     "metadata": {},
     "output_type": "execute_result"
    }
   ],
   "source": [
    "df_filled"
   ],
   "metadata": {
    "collapsed": false,
    "ExecuteTime": {
     "end_time": "2025-10-21T20:21:27.663837900Z",
     "start_time": "2025-10-21T20:21:16.705523900Z"
    }
   }
  },
  {
   "cell_type": "code",
   "execution_count": 36,
   "outputs": [
    {
     "data": {
      "text/plain": "            cusip       date       ret    vwretd        ar   next_ar  \\\n0        00030710 2014-10-02      <NA>  0.000775      <NA> -0.000988   \n1        00030710 2014-10-03  0.008108  0.009096 -0.000988  0.033217   \n2        00030710 2014-10-06  0.031635 -0.001582  0.033217   0.01499   \n3        00030710 2014-10-07       0.0  -0.01499   0.01499 -0.021572   \n4        00030710 2014-10-08 -0.005717  0.015855 -0.021572  0.027493   \n...           ...        ...       ...       ...       ...       ...   \n9840762  V7780T10 2023-12-22  0.008575  0.002434  0.006141  0.000783   \n9840763  V7780T10 2023-12-26  0.006006  0.005223  0.000783  0.005299   \n9840764  V7780T10 2023-12-27  0.007288  0.001989  0.005299  0.000496   \n9840765  V7780T10 2023-12-28  0.000385 -0.000111  0.000496  0.000356   \n9840766  V7780T10 2023-12-29 -0.003693 -0.004049  0.000356      <NA>   \n\n         next_date   CAR_0_1  \n0       2014-10-03      <NA>  \n1       2014-10-06  0.032229  \n2       2014-10-07  0.048207  \n3       2014-10-08 -0.006582  \n4       2014-10-09  0.005921  \n...            ...       ...  \n9840762 2023-12-26  0.006924  \n9840763 2023-12-27  0.006082  \n9840764 2023-12-28  0.005795  \n9840765 2023-12-29  0.000852  \n9840766        NaT      <NA>  \n\n[9840767 rows x 8 columns]",
      "text/html": "<div>\n<style scoped>\n    .dataframe tbody tr th:only-of-type {\n        vertical-align: middle;\n    }\n\n    .dataframe tbody tr th {\n        vertical-align: top;\n    }\n\n    .dataframe thead th {\n        text-align: right;\n    }\n</style>\n<table border=\"1\" class=\"dataframe\">\n  <thead>\n    <tr style=\"text-align: right;\">\n      <th></th>\n      <th>cusip</th>\n      <th>date</th>\n      <th>ret</th>\n      <th>vwretd</th>\n      <th>ar</th>\n      <th>next_ar</th>\n      <th>next_date</th>\n      <th>CAR_0_1</th>\n    </tr>\n  </thead>\n  <tbody>\n    <tr>\n      <th>0</th>\n      <td>00030710</td>\n      <td>2014-10-02</td>\n      <td>&lt;NA&gt;</td>\n      <td>0.000775</td>\n      <td>&lt;NA&gt;</td>\n      <td>-0.000988</td>\n      <td>2014-10-03</td>\n      <td>&lt;NA&gt;</td>\n    </tr>\n    <tr>\n      <th>1</th>\n      <td>00030710</td>\n      <td>2014-10-03</td>\n      <td>0.008108</td>\n      <td>0.009096</td>\n      <td>-0.000988</td>\n      <td>0.033217</td>\n      <td>2014-10-06</td>\n      <td>0.032229</td>\n    </tr>\n    <tr>\n      <th>2</th>\n      <td>00030710</td>\n      <td>2014-10-06</td>\n      <td>0.031635</td>\n      <td>-0.001582</td>\n      <td>0.033217</td>\n      <td>0.01499</td>\n      <td>2014-10-07</td>\n      <td>0.048207</td>\n    </tr>\n    <tr>\n      <th>3</th>\n      <td>00030710</td>\n      <td>2014-10-07</td>\n      <td>0.0</td>\n      <td>-0.01499</td>\n      <td>0.01499</td>\n      <td>-0.021572</td>\n      <td>2014-10-08</td>\n      <td>-0.006582</td>\n    </tr>\n    <tr>\n      <th>4</th>\n      <td>00030710</td>\n      <td>2014-10-08</td>\n      <td>-0.005717</td>\n      <td>0.015855</td>\n      <td>-0.021572</td>\n      <td>0.027493</td>\n      <td>2014-10-09</td>\n      <td>0.005921</td>\n    </tr>\n    <tr>\n      <th>...</th>\n      <td>...</td>\n      <td>...</td>\n      <td>...</td>\n      <td>...</td>\n      <td>...</td>\n      <td>...</td>\n      <td>...</td>\n      <td>...</td>\n    </tr>\n    <tr>\n      <th>9840762</th>\n      <td>V7780T10</td>\n      <td>2023-12-22</td>\n      <td>0.008575</td>\n      <td>0.002434</td>\n      <td>0.006141</td>\n      <td>0.000783</td>\n      <td>2023-12-26</td>\n      <td>0.006924</td>\n    </tr>\n    <tr>\n      <th>9840763</th>\n      <td>V7780T10</td>\n      <td>2023-12-26</td>\n      <td>0.006006</td>\n      <td>0.005223</td>\n      <td>0.000783</td>\n      <td>0.005299</td>\n      <td>2023-12-27</td>\n      <td>0.006082</td>\n    </tr>\n    <tr>\n      <th>9840764</th>\n      <td>V7780T10</td>\n      <td>2023-12-27</td>\n      <td>0.007288</td>\n      <td>0.001989</td>\n      <td>0.005299</td>\n      <td>0.000496</td>\n      <td>2023-12-28</td>\n      <td>0.005795</td>\n    </tr>\n    <tr>\n      <th>9840765</th>\n      <td>V7780T10</td>\n      <td>2023-12-28</td>\n      <td>0.000385</td>\n      <td>-0.000111</td>\n      <td>0.000496</td>\n      <td>0.000356</td>\n      <td>2023-12-29</td>\n      <td>0.000852</td>\n    </tr>\n    <tr>\n      <th>9840766</th>\n      <td>V7780T10</td>\n      <td>2023-12-29</td>\n      <td>-0.003693</td>\n      <td>-0.004049</td>\n      <td>0.000356</td>\n      <td>&lt;NA&gt;</td>\n      <td>NaT</td>\n      <td>&lt;NA&gt;</td>\n    </tr>\n  </tbody>\n</table>\n<p>9840767 rows × 8 columns</p>\n</div>"
     },
     "execution_count": 36,
     "metadata": {},
     "output_type": "execute_result"
    }
   ],
   "source": [
    "# final must have: 'cusip', 'incident_date'\n",
    "cusips = pd.Series(final['cusip'].dropna().unique()).astype(str)\n",
    "\n",
    "d = pd.to_datetime(final['incident_date'], errors='coerce').dropna()\n",
    "dates = pd.Index(d.dt.normalize().unique()).sort_values()  # unique YYYY-MM-DD (midnight)\n",
    "\n",
    "pairs = pd.MultiIndex.from_product([cusips, dates], names=['cusip', 'incident_date']).to_frame(index=False)\n",
    "\n",
    "print(len(cusips), \"unique CUSIPs\")\n",
    "print(len(dates), \"unique incident dates\")\n",
    "print(len(pairs), \"Cartesian pairs\")\n",
    "pairs.head()\n"
   ],
   "metadata": {
    "collapsed": false,
    "ExecuteTime": {
     "end_time": "2025-10-21T20:21:28.243665500Z",
     "start_time": "2025-10-21T20:21:27.665838600Z"
    }
   }
  },
  {
   "cell_type": "code",
   "execution_count": 101,
   "outputs": [
    {
     "name": "stdout",
     "output_type": "stream",
     "text": [
      "(9840767, 3)\n"
     ]
    },
    {
     "data": {
      "text/plain": "      cusip       date       ret\n0  00030710 2014-10-02      <NA>\n1  00030710 2014-10-03  0.008108\n2  00030710 2014-10-06  0.031635\n3  00030710 2014-10-07       0.0\n4  00030710 2014-10-08 -0.005717",
      "text/html": "<div>\n<style scoped>\n    .dataframe tbody tr th:only-of-type {\n        vertical-align: middle;\n    }\n\n    .dataframe tbody tr th {\n        vertical-align: top;\n    }\n\n    .dataframe thead th {\n        text-align: right;\n    }\n</style>\n<table border=\"1\" class=\"dataframe\">\n  <thead>\n    <tr style=\"text-align: right;\">\n      <th></th>\n      <th>cusip</th>\n      <th>date</th>\n      <th>ret</th>\n    </tr>\n  </thead>\n  <tbody>\n    <tr>\n      <th>0</th>\n      <td>00030710</td>\n      <td>2014-10-02</td>\n      <td>&lt;NA&gt;</td>\n    </tr>\n    <tr>\n      <th>1</th>\n      <td>00030710</td>\n      <td>2014-10-03</td>\n      <td>0.008108</td>\n    </tr>\n    <tr>\n      <th>2</th>\n      <td>00030710</td>\n      <td>2014-10-06</td>\n      <td>0.031635</td>\n    </tr>\n    <tr>\n      <th>3</th>\n      <td>00030710</td>\n      <td>2014-10-07</td>\n      <td>0.0</td>\n    </tr>\n    <tr>\n      <th>4</th>\n      <td>00030710</td>\n      <td>2014-10-08</td>\n      <td>-0.005717</td>\n    </tr>\n  </tbody>\n</table>\n</div>"
     },
     "execution_count": 101,
     "metadata": {},
     "output_type": "execute_result"
    }
   ],
   "source": [
    "# Date window: [min(incident_date), max(incident_date)+1 day] (add a small buffer if you like)\n",
    "start_date = dates.min().strftime('%Y-%m-%d')\n",
    "end_date   = (dates.max() + pd.Timedelta(days=1)).strftime('%Y-%m-%d')\n",
    "\n",
    "# Single query version (simple). If your CUSIP list is huge and SQL IN is too long, split manually.\n",
    "cusip_list_sql = \"(\" + \",\".join(f\"'{c}'\" for c in cusips.tolist()) + \")\"\n",
    "\n",
    "sql_dsf = f\"\"\"\n",
    "    SELECT cusip, date, ret\n",
    "    FROM crsp.dsf\n",
    "    WHERE date BETWEEN '{start_date}' AND '{end_date}'\n",
    "      AND cusip IN {cusip_list_sql}\n",
    "\"\"\"\n",
    "dsf = db.raw_sql(sql_dsf, date_cols=['date'])\n",
    "\n",
    "# Tidy\n",
    "dsf['cusip'] = dsf['cusip'].astype(str)\n",
    "dsf['ret']   = pd.to_numeric(dsf['ret'], errors='coerce')\n",
    "dsf = dsf.dropna(subset=['cusip','date']).sort_values(['cusip','date']).reset_index(drop=True)\n",
    "\n",
    "print(dsf.shape)\n",
    "dsf.head()\n"
   ],
   "metadata": {
    "collapsed": false,
    "ExecuteTime": {
     "end_time": "2025-10-08T20:11:02.480974Z",
     "start_time": "2025-10-08T20:07:58.924212900Z"
    }
   }
  },
  {
   "cell_type": "code",
   "execution_count": 102,
   "outputs": [
    {
     "data": {
      "text/plain": "      cusip       date        ar  next_date   next_ar\n0  00030710 2014-10-02      <NA> 2014-10-03 -0.000988\n1  00030710 2014-10-03 -0.000988 2014-10-06  0.033217\n2  00030710 2014-10-06  0.033217 2014-10-07   0.01499\n3  00030710 2014-10-07   0.01499 2014-10-08 -0.021572\n4  00030710 2014-10-08 -0.021572 2014-10-09  0.027493",
      "text/html": "<div>\n<style scoped>\n    .dataframe tbody tr th:only-of-type {\n        vertical-align: middle;\n    }\n\n    .dataframe tbody tr th {\n        vertical-align: top;\n    }\n\n    .dataframe thead th {\n        text-align: right;\n    }\n</style>\n<table border=\"1\" class=\"dataframe\">\n  <thead>\n    <tr style=\"text-align: right;\">\n      <th></th>\n      <th>cusip</th>\n      <th>date</th>\n      <th>ar</th>\n      <th>next_date</th>\n      <th>next_ar</th>\n    </tr>\n  </thead>\n  <tbody>\n    <tr>\n      <th>0</th>\n      <td>00030710</td>\n      <td>2014-10-02</td>\n      <td>&lt;NA&gt;</td>\n      <td>2014-10-03</td>\n      <td>-0.000988</td>\n    </tr>\n    <tr>\n      <th>1</th>\n      <td>00030710</td>\n      <td>2014-10-03</td>\n      <td>-0.000988</td>\n      <td>2014-10-06</td>\n      <td>0.033217</td>\n    </tr>\n    <tr>\n      <th>2</th>\n      <td>00030710</td>\n      <td>2014-10-06</td>\n      <td>0.033217</td>\n      <td>2014-10-07</td>\n      <td>0.01499</td>\n    </tr>\n    <tr>\n      <th>3</th>\n      <td>00030710</td>\n      <td>2014-10-07</td>\n      <td>0.01499</td>\n      <td>2014-10-08</td>\n      <td>-0.021572</td>\n    </tr>\n    <tr>\n      <th>4</th>\n      <td>00030710</td>\n      <td>2014-10-08</td>\n      <td>-0.021572</td>\n      <td>2014-10-09</td>\n      <td>0.027493</td>\n    </tr>\n  </tbody>\n</table>\n</div>"
     },
     "execution_count": 102,
     "metadata": {},
     "output_type": "execute_result"
    }
   ],
   "source": [
    "sql_mkt = f\"\"\"\n",
    "    SELECT date, vwretd\n",
    "    FROM crsp.dsi\n",
    "    WHERE date BETWEEN '{start_date}' AND '{end_date}'\n",
    "\"\"\"\n",
    "mkt = db.raw_sql(sql_mkt, date_cols=['date'])\n",
    "mkt['vwretd'] = pd.to_numeric(mkt['vwretd'], errors='coerce')\n",
    "\n",
    "dsf_ar = dsf.merge(mkt, on='date', how='left')\n",
    "dsf_ar['ar'] = dsf_ar['ret'] - dsf_ar['vwretd']\n",
    "\n",
    "# For Day 1 we’ll need the next trading day’s AR; compute it via groupby().shift(-1)\n",
    "dsf_ar = dsf_ar.sort_values(['cusip','date']).reset_index(drop=True)\n",
    "dsf_ar['next_ar']   = dsf_ar.groupby('cusip')['ar'].shift(-1)\n",
    "dsf_ar['next_date'] = dsf_ar.groupby('cusip')['date'].shift(-1)\n",
    "\n",
    "dsf_ar[['cusip','date','ar','next_date','next_ar']].head()\n"
   ],
   "metadata": {
    "collapsed": false,
    "ExecuteTime": {
     "end_time": "2025-10-08T20:17:13.054898Z",
     "start_time": "2025-10-08T20:16:50.216214400Z"
    }
   }
  },
  {
   "cell_type": "code",
   "execution_count": 109,
   "outputs": [
    {
     "data": {
      "text/plain": "            cusip       date       ret    vwretd        ar   next_ar  \\\n0        00030710 2014-10-02      <NA>  0.000775      <NA> -0.000988   \n1        00030710 2014-10-03  0.008108  0.009096 -0.000988  0.033217   \n2        00030710 2014-10-06  0.031635 -0.001582  0.033217   0.01499   \n3        00030710 2014-10-07       0.0  -0.01499   0.01499 -0.021572   \n4        00030710 2014-10-08 -0.005717  0.015855 -0.021572  0.027493   \n...           ...        ...       ...       ...       ...       ...   \n9840762  V7780T10 2023-12-22  0.008575  0.002434  0.006141  0.000783   \n9840763  V7780T10 2023-12-26  0.006006  0.005223  0.000783  0.005299   \n9840764  V7780T10 2023-12-27  0.007288  0.001989  0.005299  0.000496   \n9840765  V7780T10 2023-12-28  0.000385 -0.000111  0.000496  0.000356   \n9840766  V7780T10 2023-12-29 -0.003693 -0.004049  0.000356      <NA>   \n\n         next_date   CAR_0_1  \n0       2014-10-03      <NA>  \n1       2014-10-06  0.032229  \n2       2014-10-07  0.048207  \n3       2014-10-08 -0.006582  \n4       2014-10-09  0.005921  \n...            ...       ...  \n9840762 2023-12-26  0.006924  \n9840763 2023-12-27  0.006082  \n9840764 2023-12-28  0.005795  \n9840765 2023-12-29  0.000852  \n9840766        NaT      <NA>  \n\n[9840767 rows x 8 columns]",
      "text/html": "<div>\n<style scoped>\n    .dataframe tbody tr th:only-of-type {\n        vertical-align: middle;\n    }\n\n    .dataframe tbody tr th {\n        vertical-align: top;\n    }\n\n    .dataframe thead th {\n        text-align: right;\n    }\n</style>\n<table border=\"1\" class=\"dataframe\">\n  <thead>\n    <tr style=\"text-align: right;\">\n      <th></th>\n      <th>cusip</th>\n      <th>date</th>\n      <th>ret</th>\n      <th>vwretd</th>\n      <th>ar</th>\n      <th>next_ar</th>\n      <th>next_date</th>\n      <th>CAR_0_1</th>\n    </tr>\n  </thead>\n  <tbody>\n    <tr>\n      <th>0</th>\n      <td>00030710</td>\n      <td>2014-10-02</td>\n      <td>&lt;NA&gt;</td>\n      <td>0.000775</td>\n      <td>&lt;NA&gt;</td>\n      <td>-0.000988</td>\n      <td>2014-10-03</td>\n      <td>&lt;NA&gt;</td>\n    </tr>\n    <tr>\n      <th>1</th>\n      <td>00030710</td>\n      <td>2014-10-03</td>\n      <td>0.008108</td>\n      <td>0.009096</td>\n      <td>-0.000988</td>\n      <td>0.033217</td>\n      <td>2014-10-06</td>\n      <td>0.032229</td>\n    </tr>\n    <tr>\n      <th>2</th>\n      <td>00030710</td>\n      <td>2014-10-06</td>\n      <td>0.031635</td>\n      <td>-0.001582</td>\n      <td>0.033217</td>\n      <td>0.01499</td>\n      <td>2014-10-07</td>\n      <td>0.048207</td>\n    </tr>\n    <tr>\n      <th>3</th>\n      <td>00030710</td>\n      <td>2014-10-07</td>\n      <td>0.0</td>\n      <td>-0.01499</td>\n      <td>0.01499</td>\n      <td>-0.021572</td>\n      <td>2014-10-08</td>\n      <td>-0.006582</td>\n    </tr>\n    <tr>\n      <th>4</th>\n      <td>00030710</td>\n      <td>2014-10-08</td>\n      <td>-0.005717</td>\n      <td>0.015855</td>\n      <td>-0.021572</td>\n      <td>0.027493</td>\n      <td>2014-10-09</td>\n      <td>0.005921</td>\n    </tr>\n    <tr>\n      <th>...</th>\n      <td>...</td>\n      <td>...</td>\n      <td>...</td>\n      <td>...</td>\n      <td>...</td>\n      <td>...</td>\n      <td>...</td>\n      <td>...</td>\n    </tr>\n    <tr>\n      <th>9840762</th>\n      <td>V7780T10</td>\n      <td>2023-12-22</td>\n      <td>0.008575</td>\n      <td>0.002434</td>\n      <td>0.006141</td>\n      <td>0.000783</td>\n      <td>2023-12-26</td>\n      <td>0.006924</td>\n    </tr>\n    <tr>\n      <th>9840763</th>\n      <td>V7780T10</td>\n      <td>2023-12-26</td>\n      <td>0.006006</td>\n      <td>0.005223</td>\n      <td>0.000783</td>\n      <td>0.005299</td>\n      <td>2023-12-27</td>\n      <td>0.006082</td>\n    </tr>\n    <tr>\n      <th>9840764</th>\n      <td>V7780T10</td>\n      <td>2023-12-27</td>\n      <td>0.007288</td>\n      <td>0.001989</td>\n      <td>0.005299</td>\n      <td>0.000496</td>\n      <td>2023-12-28</td>\n      <td>0.005795</td>\n    </tr>\n    <tr>\n      <th>9840765</th>\n      <td>V7780T10</td>\n      <td>2023-12-28</td>\n      <td>0.000385</td>\n      <td>-0.000111</td>\n      <td>0.000496</td>\n      <td>0.000356</td>\n      <td>2023-12-29</td>\n      <td>0.000852</td>\n    </tr>\n    <tr>\n      <th>9840766</th>\n      <td>V7780T10</td>\n      <td>2023-12-29</td>\n      <td>-0.003693</td>\n      <td>-0.004049</td>\n      <td>0.000356</td>\n      <td>&lt;NA&gt;</td>\n      <td>NaT</td>\n      <td>&lt;NA&gt;</td>\n    </tr>\n  </tbody>\n</table>\n<p>9840767 rows × 8 columns</p>\n</div>"
     },
     "execution_count": 109,
     "metadata": {},
     "output_type": "execute_result"
    }
   ],
   "source": [
    "# df has: ['cusip','date','ar','next_date','next_ar']\n",
    "df = dsf_ar.copy()\n",
    "df['CAR_0_1'] = df['ar'] + df['next_ar']   # stays NaN if either side is NaN\n",
    "df"
   ],
   "metadata": {
    "collapsed": false,
    "ExecuteTime": {
     "end_time": "2025-10-08T21:44:50.410317900Z",
     "start_time": "2025-10-08T21:44:49.676204600Z"
    }
   }
  },
  {
   "cell_type": "code",
   "execution_count": 111,
   "outputs": [
    {
     "data": {
      "text/plain": "            cusip incident_date       date   CAR_0_1\n0        00030710    2014-10-02 2014-10-02      <NA>\n1        00030710    2014-10-03 2014-10-03  0.032229\n2        00030710    2014-10-06 2014-10-06  0.048207\n3        00030710    2014-10-07 2014-10-07 -0.006582\n4        00030710    2014-10-08 2014-10-08  0.005921\n...           ...           ...        ...       ...\n9822610  V7780T10    2023-12-22 2023-12-22  0.006924\n9822611  V7780T10    2023-12-26 2023-12-26  0.006082\n9822612  V7780T10    2023-12-27 2023-12-27  0.005795\n9822613  V7780T10    2023-12-28 2023-12-28  0.000852\n9822614  V7780T10    2023-12-29 2023-12-29      <NA>\n\n[9822615 rows x 4 columns]",
      "text/html": "<div>\n<style scoped>\n    .dataframe tbody tr th:only-of-type {\n        vertical-align: middle;\n    }\n\n    .dataframe tbody tr th {\n        vertical-align: top;\n    }\n\n    .dataframe thead th {\n        text-align: right;\n    }\n</style>\n<table border=\"1\" class=\"dataframe\">\n  <thead>\n    <tr style=\"text-align: right;\">\n      <th></th>\n      <th>cusip</th>\n      <th>incident_date</th>\n      <th>date</th>\n      <th>CAR_0_1</th>\n    </tr>\n  </thead>\n  <tbody>\n    <tr>\n      <th>0</th>\n      <td>00030710</td>\n      <td>2014-10-02</td>\n      <td>2014-10-02</td>\n      <td>&lt;NA&gt;</td>\n    </tr>\n    <tr>\n      <th>1</th>\n      <td>00030710</td>\n      <td>2014-10-03</td>\n      <td>2014-10-03</td>\n      <td>0.032229</td>\n    </tr>\n    <tr>\n      <th>2</th>\n      <td>00030710</td>\n      <td>2014-10-06</td>\n      <td>2014-10-06</td>\n      <td>0.048207</td>\n    </tr>\n    <tr>\n      <th>3</th>\n      <td>00030710</td>\n      <td>2014-10-07</td>\n      <td>2014-10-07</td>\n      <td>-0.006582</td>\n    </tr>\n    <tr>\n      <th>4</th>\n      <td>00030710</td>\n      <td>2014-10-08</td>\n      <td>2014-10-08</td>\n      <td>0.005921</td>\n    </tr>\n    <tr>\n      <th>...</th>\n      <td>...</td>\n      <td>...</td>\n      <td>...</td>\n      <td>...</td>\n    </tr>\n    <tr>\n      <th>9822610</th>\n      <td>V7780T10</td>\n      <td>2023-12-22</td>\n      <td>2023-12-22</td>\n      <td>0.006924</td>\n    </tr>\n    <tr>\n      <th>9822611</th>\n      <td>V7780T10</td>\n      <td>2023-12-26</td>\n      <td>2023-12-26</td>\n      <td>0.006082</td>\n    </tr>\n    <tr>\n      <th>9822612</th>\n      <td>V7780T10</td>\n      <td>2023-12-27</td>\n      <td>2023-12-27</td>\n      <td>0.005795</td>\n    </tr>\n    <tr>\n      <th>9822613</th>\n      <td>V7780T10</td>\n      <td>2023-12-28</td>\n      <td>2023-12-28</td>\n      <td>0.000852</td>\n    </tr>\n    <tr>\n      <th>9822614</th>\n      <td>V7780T10</td>\n      <td>2023-12-29</td>\n      <td>2023-12-29</td>\n      <td>&lt;NA&gt;</td>\n    </tr>\n  </tbody>\n</table>\n<p>9822615 rows × 4 columns</p>\n</div>"
     },
     "execution_count": 111,
     "metadata": {},
     "output_type": "execute_result"
    }
   ],
   "source": [
    "pairs_merged = pairs.merge(df[['cusip', 'date', 'CAR_0_1']],\n",
    "                           left_on=['cusip','incident_date'],\n",
    "                           right_on=['cusip','date'],\n",
    "                           how='inner')\n",
    "pairs_merged"
   ],
   "metadata": {
    "collapsed": false,
    "ExecuteTime": {
     "end_time": "2025-10-09T12:41:31.633713600Z",
     "start_time": "2025-10-09T12:41:17.388612400Z"
    }
   }
  },
  {
   "cell_type": "code",
   "execution_count": 159,
   "outputs": [
    {
     "data": {
      "text/plain": "            cusip incident_date       date   CAR_0_1  severity  reach  \\\n0        00030710    2014-10-02 2014-10-02      <NA>       NaN    NaN   \n1        00030710    2014-10-03 2014-10-03  0.032229       NaN    NaN   \n2        00030710    2014-10-06 2014-10-06  0.048207       NaN    NaN   \n3        00030710    2014-10-07 2014-10-07 -0.006582       NaN    NaN   \n4        00030710    2014-10-08 2014-10-08  0.005921       NaN    NaN   \n...           ...           ...        ...       ...       ...    ...   \n9822610  V7780T10    2023-12-22 2023-12-22  0.006924       NaN    NaN   \n9822611  V7780T10    2023-12-26 2023-12-26  0.006082       NaN    NaN   \n9822612  V7780T10    2023-12-27 2023-12-27  0.005795       NaN    NaN   \n9822613  V7780T10    2023-12-28 2023-12-28  0.000852       NaN    NaN   \n9822614  V7780T10    2023-12-29 2023-12-29      <NA>       NaN    NaN   \n\n         novelty  material_flag  materiality_car_5  materiality_reach  \\\n0            NaN            NaN                NaN                NaN   \n1            NaN            NaN                NaN                NaN   \n2            NaN            NaN                NaN                NaN   \n3            NaN            NaN                NaN                NaN   \n4            NaN            NaN                NaN                NaN   \n...          ...            ...                ...                ...   \n9822610      NaN            NaN                NaN                NaN   \n9822611      NaN            NaN                NaN                NaN   \n9822612      NaN            NaN                NaN                NaN   \n9822613      NaN            NaN                NaN                NaN   \n9822614      NaN            NaN                NaN                NaN   \n\n         materiality_car_1  materiality_severity  \n0                      NaN                   NaN  \n1                      NaN                   NaN  \n2                      NaN                   NaN  \n3                      NaN                   NaN  \n4                      NaN                   NaN  \n...                    ...                   ...  \n9822610                NaN                   NaN  \n9822611                NaN                   NaN  \n9822612                NaN                   NaN  \n9822613                NaN                   NaN  \n9822614                NaN                   NaN  \n\n[9822615 rows x 12 columns]",
      "text/html": "<div>\n<style scoped>\n    .dataframe tbody tr th:only-of-type {\n        vertical-align: middle;\n    }\n\n    .dataframe tbody tr th {\n        vertical-align: top;\n    }\n\n    .dataframe thead th {\n        text-align: right;\n    }\n</style>\n<table border=\"1\" class=\"dataframe\">\n  <thead>\n    <tr style=\"text-align: right;\">\n      <th></th>\n      <th>cusip</th>\n      <th>incident_date</th>\n      <th>date</th>\n      <th>CAR_0_1</th>\n      <th>severity</th>\n      <th>reach</th>\n      <th>novelty</th>\n      <th>material_flag</th>\n      <th>materiality_car_5</th>\n      <th>materiality_reach</th>\n      <th>materiality_car_1</th>\n      <th>materiality_severity</th>\n    </tr>\n  </thead>\n  <tbody>\n    <tr>\n      <th>0</th>\n      <td>00030710</td>\n      <td>2014-10-02</td>\n      <td>2014-10-02</td>\n      <td>&lt;NA&gt;</td>\n      <td>NaN</td>\n      <td>NaN</td>\n      <td>NaN</td>\n      <td>NaN</td>\n      <td>NaN</td>\n      <td>NaN</td>\n      <td>NaN</td>\n      <td>NaN</td>\n    </tr>\n    <tr>\n      <th>1</th>\n      <td>00030710</td>\n      <td>2014-10-03</td>\n      <td>2014-10-03</td>\n      <td>0.032229</td>\n      <td>NaN</td>\n      <td>NaN</td>\n      <td>NaN</td>\n      <td>NaN</td>\n      <td>NaN</td>\n      <td>NaN</td>\n      <td>NaN</td>\n      <td>NaN</td>\n    </tr>\n    <tr>\n      <th>2</th>\n      <td>00030710</td>\n      <td>2014-10-06</td>\n      <td>2014-10-06</td>\n      <td>0.048207</td>\n      <td>NaN</td>\n      <td>NaN</td>\n      <td>NaN</td>\n      <td>NaN</td>\n      <td>NaN</td>\n      <td>NaN</td>\n      <td>NaN</td>\n      <td>NaN</td>\n    </tr>\n    <tr>\n      <th>3</th>\n      <td>00030710</td>\n      <td>2014-10-07</td>\n      <td>2014-10-07</td>\n      <td>-0.006582</td>\n      <td>NaN</td>\n      <td>NaN</td>\n      <td>NaN</td>\n      <td>NaN</td>\n      <td>NaN</td>\n      <td>NaN</td>\n      <td>NaN</td>\n      <td>NaN</td>\n    </tr>\n    <tr>\n      <th>4</th>\n      <td>00030710</td>\n      <td>2014-10-08</td>\n      <td>2014-10-08</td>\n      <td>0.005921</td>\n      <td>NaN</td>\n      <td>NaN</td>\n      <td>NaN</td>\n      <td>NaN</td>\n      <td>NaN</td>\n      <td>NaN</td>\n      <td>NaN</td>\n      <td>NaN</td>\n    </tr>\n    <tr>\n      <th>...</th>\n      <td>...</td>\n      <td>...</td>\n      <td>...</td>\n      <td>...</td>\n      <td>...</td>\n      <td>...</td>\n      <td>...</td>\n      <td>...</td>\n      <td>...</td>\n      <td>...</td>\n      <td>...</td>\n      <td>...</td>\n    </tr>\n    <tr>\n      <th>9822610</th>\n      <td>V7780T10</td>\n      <td>2023-12-22</td>\n      <td>2023-12-22</td>\n      <td>0.006924</td>\n      <td>NaN</td>\n      <td>NaN</td>\n      <td>NaN</td>\n      <td>NaN</td>\n      <td>NaN</td>\n      <td>NaN</td>\n      <td>NaN</td>\n      <td>NaN</td>\n    </tr>\n    <tr>\n      <th>9822611</th>\n      <td>V7780T10</td>\n      <td>2023-12-26</td>\n      <td>2023-12-26</td>\n      <td>0.006082</td>\n      <td>NaN</td>\n      <td>NaN</td>\n      <td>NaN</td>\n      <td>NaN</td>\n      <td>NaN</td>\n      <td>NaN</td>\n      <td>NaN</td>\n      <td>NaN</td>\n    </tr>\n    <tr>\n      <th>9822612</th>\n      <td>V7780T10</td>\n      <td>2023-12-27</td>\n      <td>2023-12-27</td>\n      <td>0.005795</td>\n      <td>NaN</td>\n      <td>NaN</td>\n      <td>NaN</td>\n      <td>NaN</td>\n      <td>NaN</td>\n      <td>NaN</td>\n      <td>NaN</td>\n      <td>NaN</td>\n    </tr>\n    <tr>\n      <th>9822613</th>\n      <td>V7780T10</td>\n      <td>2023-12-28</td>\n      <td>2023-12-28</td>\n      <td>0.000852</td>\n      <td>NaN</td>\n      <td>NaN</td>\n      <td>NaN</td>\n      <td>NaN</td>\n      <td>NaN</td>\n      <td>NaN</td>\n      <td>NaN</td>\n      <td>NaN</td>\n    </tr>\n    <tr>\n      <th>9822614</th>\n      <td>V7780T10</td>\n      <td>2023-12-29</td>\n      <td>2023-12-29</td>\n      <td>&lt;NA&gt;</td>\n      <td>NaN</td>\n      <td>NaN</td>\n      <td>NaN</td>\n      <td>NaN</td>\n      <td>NaN</td>\n      <td>NaN</td>\n      <td>NaN</td>\n      <td>NaN</td>\n    </tr>\n  </tbody>\n</table>\n<p>9822615 rows × 12 columns</p>\n</div>"
     },
     "execution_count": 159,
     "metadata": {},
     "output_type": "execute_result"
    }
   ],
   "source": [
    "final.drop_duplicates(subset=['cusip', 'incident_date'], inplace=True)\n",
    "pairs_incidents = pairs_merged.merge(final[['cusip', 'incident_date', 'severity', 'reach', 'novelty', 'material_flag', 'materiality_car_5', 'materiality_reach', 'materiality_car_1', 'materiality_severity']], on=['cusip', 'incident_date'], how='left')\n",
    "pairs_incidents"
   ],
   "metadata": {
    "collapsed": false,
    "ExecuteTime": {
     "end_time": "2025-10-13T15:59:47.579696600Z",
     "start_time": "2025-10-13T15:59:41.610466500Z"
    }
   }
  },
  {
   "cell_type": "code",
   "execution_count": 160,
   "outputs": [],
   "source": [
    "# Indicator column if material_flag is not na\n",
    "pairs_incidents['incident'] = np.where(pairs_incidents['material_flag'].notna(), 1, 0)"
   ],
   "metadata": {
    "collapsed": false,
    "ExecuteTime": {
     "end_time": "2025-10-13T16:00:03.157414500Z",
     "start_time": "2025-10-13T16:00:03.063336Z"
    }
   }
  },
  {
   "cell_type": "code",
   "execution_count": 164,
   "outputs": [],
   "source": [
    "# Merge gvkey\n",
    "pairs_industry = pairs_incidents.merge(reprisk_incidents[['cusip', 'gvkey']].drop_duplicates(), on='cusip', how='left')"
   ],
   "metadata": {
    "collapsed": false,
    "ExecuteTime": {
     "end_time": "2025-10-13T16:01:42.225365900Z",
     "start_time": "2025-10-13T16:01:39.625081100Z"
    }
   }
  },
  {
   "cell_type": "code",
   "execution_count": 165,
   "outputs": [
    {
     "data": {
      "text/plain": "cusip                      9822615\nincident_date              9822615\ndate                       9822615\nCAR_0_1                    9747738\nseverity                     98505\nreach                        98505\nnovelty                      98505\nmaterial_flag                98505\nmateriality_car_5            98505\nmateriality_reach            98505\nmateriality_car_1            98505\nmateriality_severity         98505\nincident                   9822615\ngvkey                      9822615\nSICS Codified Industry     9768786\nCodified SICS Sector       9768786\ndtype: int64"
     },
     "execution_count": 165,
     "metadata": {},
     "output_type": "execute_result"
    }
   ],
   "source": [
    "# Merge Industry and Sector\n",
    "pairs_industry = pairs_industry.merge(reprisk_incidents[['cusip', 'SICS Codified Industry ', 'Codified SICS Sector ']].drop_duplicates(), on='cusip', how='left')\n",
    "pairs_industry.notna().sum()"
   ],
   "metadata": {
    "collapsed": false,
    "ExecuteTime": {
     "end_time": "2025-10-13T16:01:47.765270900Z",
     "start_time": "2025-10-13T16:01:42.225365900Z"
    }
   }
  },
  {
   "cell_type": "code",
   "execution_count": 166,
   "outputs": [],
   "source": [
    "pairs_industry.dropna(subset=['SICS Codified Industry ', 'Codified SICS Sector ', 'CAR_0_1'], inplace=True)"
   ],
   "metadata": {
    "collapsed": false,
    "ExecuteTime": {
     "end_time": "2025-10-13T16:01:59.527601800Z",
     "start_time": "2025-10-13T16:01:57.198932800Z"
    }
   }
  },
  {
   "cell_type": "code",
   "execution_count": 167,
   "outputs": [
    {
     "data": {
      "text/plain": "            cusip incident_date       date   CAR_0_1  severity  reach  \\\n0        00030710    2014-10-03 2014-10-03  0.032229       NaN    NaN   \n1        00030710    2014-10-06 2014-10-06  0.048207       NaN    NaN   \n2        00030710    2014-10-07 2014-10-07 -0.006582       NaN    NaN   \n3        00030710    2014-10-08 2014-10-08  0.005921       NaN    NaN   \n4        00030710    2014-10-09 2014-10-09  0.027839       NaN    NaN   \n...           ...           ...        ...       ...       ...    ...   \n9693933  V7780T10    2023-12-21 2023-12-21  0.047159       NaN    NaN   \n9693934  V7780T10    2023-12-22 2023-12-22  0.006924       NaN    NaN   \n9693935  V7780T10    2023-12-26 2023-12-26  0.006082       NaN    NaN   \n9693936  V7780T10    2023-12-27 2023-12-27  0.005795       NaN    NaN   \n9693937  V7780T10    2023-12-28 2023-12-28  0.000852       NaN    NaN   \n\n         novelty  material_flag  materiality_car_5  materiality_reach  ...  \\\n0            NaN            NaN                NaN                NaN  ...   \n1            NaN            NaN                NaN                NaN  ...   \n2            NaN            NaN                NaN                NaN  ...   \n3            NaN            NaN                NaN                NaN  ...   \n4            NaN            NaN                NaN                NaN  ...   \n...          ...            ...                ...                ...  ...   \n9693933      NaN            NaN                NaN                NaN  ...   \n9693934      NaN            NaN                NaN                NaN  ...   \n9693935      NaN            NaN                NaN                NaN  ...   \n9693936      NaN            NaN                NaN                NaN  ...   \n9693937      NaN            NaN                NaN                NaN  ...   \n\n         incident     gvkey  SICS Codified Industry   Codified SICS Sector   \\\n0               0  178698.0     Health Care Delivery            Health Care   \n1               0  178698.0     Health Care Delivery            Health Care   \n2               0  178698.0     Health Care Delivery            Health Care   \n3               0  178698.0     Health Care Delivery            Health Care   \n4               0  178698.0     Health Care Delivery            Health Care   \n...           ...       ...                      ...                    ...   \n9693933         0   28191.0    Marine Transportation         Transportation   \n9693934         0   28191.0    Marine Transportation         Transportation   \n9693935         0   28191.0    Marine Transportation         Transportation   \n9693936         0   28191.0    Marine Transportation         Transportation   \n9693937         0   28191.0    Marine Transportation         Transportation   \n\n        industry_material_flag industry_materiality_car_5  \\\n0                            0                          0   \n1                            0                          0   \n2                            0                          0   \n3                            0                          0   \n4                            0                          0   \n...                        ...                        ...   \n9693933                      0                          0   \n9693934                      0                          0   \n9693935                      0                          0   \n9693936                      0                          0   \n9693937                      0                          0   \n\n         industry_materiality_reach  industry_materiality_car_1  \\\n0                                 0                           0   \n1                                 0                           0   \n2                                 0                           0   \n3                                 0                           0   \n4                                 0                           0   \n...                             ...                         ...   \n9693933                           0                           0   \n9693934                           0                           0   \n9693935                           0                           0   \n9693936                           0                           0   \n9693937                           0                           0   \n\n         industry_materiality_severity  industry_incident  \n0                                    0                  0  \n1                                    0                  0  \n2                                    0                  0  \n3                                    0                  0  \n4                                    0                  0  \n...                                ...                ...  \n9693933                              0                  0  \n9693934                              0                  0  \n9693935                              0                  0  \n9693936                              0                  0  \n9693937                              0                  0  \n\n[9693938 rows x 22 columns]",
      "text/html": "<div>\n<style scoped>\n    .dataframe tbody tr th:only-of-type {\n        vertical-align: middle;\n    }\n\n    .dataframe tbody tr th {\n        vertical-align: top;\n    }\n\n    .dataframe thead th {\n        text-align: right;\n    }\n</style>\n<table border=\"1\" class=\"dataframe\">\n  <thead>\n    <tr style=\"text-align: right;\">\n      <th></th>\n      <th>cusip</th>\n      <th>incident_date</th>\n      <th>date</th>\n      <th>CAR_0_1</th>\n      <th>severity</th>\n      <th>reach</th>\n      <th>novelty</th>\n      <th>material_flag</th>\n      <th>materiality_car_5</th>\n      <th>materiality_reach</th>\n      <th>...</th>\n      <th>incident</th>\n      <th>gvkey</th>\n      <th>SICS Codified Industry</th>\n      <th>Codified SICS Sector</th>\n      <th>industry_material_flag</th>\n      <th>industry_materiality_car_5</th>\n      <th>industry_materiality_reach</th>\n      <th>industry_materiality_car_1</th>\n      <th>industry_materiality_severity</th>\n      <th>industry_incident</th>\n    </tr>\n  </thead>\n  <tbody>\n    <tr>\n      <th>0</th>\n      <td>00030710</td>\n      <td>2014-10-03</td>\n      <td>2014-10-03</td>\n      <td>0.032229</td>\n      <td>NaN</td>\n      <td>NaN</td>\n      <td>NaN</td>\n      <td>NaN</td>\n      <td>NaN</td>\n      <td>NaN</td>\n      <td>...</td>\n      <td>0</td>\n      <td>178698.0</td>\n      <td>Health Care Delivery</td>\n      <td>Health Care</td>\n      <td>0</td>\n      <td>0</td>\n      <td>0</td>\n      <td>0</td>\n      <td>0</td>\n      <td>0</td>\n    </tr>\n    <tr>\n      <th>1</th>\n      <td>00030710</td>\n      <td>2014-10-06</td>\n      <td>2014-10-06</td>\n      <td>0.048207</td>\n      <td>NaN</td>\n      <td>NaN</td>\n      <td>NaN</td>\n      <td>NaN</td>\n      <td>NaN</td>\n      <td>NaN</td>\n      <td>...</td>\n      <td>0</td>\n      <td>178698.0</td>\n      <td>Health Care Delivery</td>\n      <td>Health Care</td>\n      <td>0</td>\n      <td>0</td>\n      <td>0</td>\n      <td>0</td>\n      <td>0</td>\n      <td>0</td>\n    </tr>\n    <tr>\n      <th>2</th>\n      <td>00030710</td>\n      <td>2014-10-07</td>\n      <td>2014-10-07</td>\n      <td>-0.006582</td>\n      <td>NaN</td>\n      <td>NaN</td>\n      <td>NaN</td>\n      <td>NaN</td>\n      <td>NaN</td>\n      <td>NaN</td>\n      <td>...</td>\n      <td>0</td>\n      <td>178698.0</td>\n      <td>Health Care Delivery</td>\n      <td>Health Care</td>\n      <td>0</td>\n      <td>0</td>\n      <td>0</td>\n      <td>0</td>\n      <td>0</td>\n      <td>0</td>\n    </tr>\n    <tr>\n      <th>3</th>\n      <td>00030710</td>\n      <td>2014-10-08</td>\n      <td>2014-10-08</td>\n      <td>0.005921</td>\n      <td>NaN</td>\n      <td>NaN</td>\n      <td>NaN</td>\n      <td>NaN</td>\n      <td>NaN</td>\n      <td>NaN</td>\n      <td>...</td>\n      <td>0</td>\n      <td>178698.0</td>\n      <td>Health Care Delivery</td>\n      <td>Health Care</td>\n      <td>0</td>\n      <td>0</td>\n      <td>0</td>\n      <td>0</td>\n      <td>0</td>\n      <td>0</td>\n    </tr>\n    <tr>\n      <th>4</th>\n      <td>00030710</td>\n      <td>2014-10-09</td>\n      <td>2014-10-09</td>\n      <td>0.027839</td>\n      <td>NaN</td>\n      <td>NaN</td>\n      <td>NaN</td>\n      <td>NaN</td>\n      <td>NaN</td>\n      <td>NaN</td>\n      <td>...</td>\n      <td>0</td>\n      <td>178698.0</td>\n      <td>Health Care Delivery</td>\n      <td>Health Care</td>\n      <td>0</td>\n      <td>0</td>\n      <td>0</td>\n      <td>0</td>\n      <td>0</td>\n      <td>0</td>\n    </tr>\n    <tr>\n      <th>...</th>\n      <td>...</td>\n      <td>...</td>\n      <td>...</td>\n      <td>...</td>\n      <td>...</td>\n      <td>...</td>\n      <td>...</td>\n      <td>...</td>\n      <td>...</td>\n      <td>...</td>\n      <td>...</td>\n      <td>...</td>\n      <td>...</td>\n      <td>...</td>\n      <td>...</td>\n      <td>...</td>\n      <td>...</td>\n      <td>...</td>\n      <td>...</td>\n      <td>...</td>\n      <td>...</td>\n    </tr>\n    <tr>\n      <th>9693933</th>\n      <td>V7780T10</td>\n      <td>2023-12-21</td>\n      <td>2023-12-21</td>\n      <td>0.047159</td>\n      <td>NaN</td>\n      <td>NaN</td>\n      <td>NaN</td>\n      <td>NaN</td>\n      <td>NaN</td>\n      <td>NaN</td>\n      <td>...</td>\n      <td>0</td>\n      <td>28191.0</td>\n      <td>Marine Transportation</td>\n      <td>Transportation</td>\n      <td>0</td>\n      <td>0</td>\n      <td>0</td>\n      <td>0</td>\n      <td>0</td>\n      <td>0</td>\n    </tr>\n    <tr>\n      <th>9693934</th>\n      <td>V7780T10</td>\n      <td>2023-12-22</td>\n      <td>2023-12-22</td>\n      <td>0.006924</td>\n      <td>NaN</td>\n      <td>NaN</td>\n      <td>NaN</td>\n      <td>NaN</td>\n      <td>NaN</td>\n      <td>NaN</td>\n      <td>...</td>\n      <td>0</td>\n      <td>28191.0</td>\n      <td>Marine Transportation</td>\n      <td>Transportation</td>\n      <td>0</td>\n      <td>0</td>\n      <td>0</td>\n      <td>0</td>\n      <td>0</td>\n      <td>0</td>\n    </tr>\n    <tr>\n      <th>9693935</th>\n      <td>V7780T10</td>\n      <td>2023-12-26</td>\n      <td>2023-12-26</td>\n      <td>0.006082</td>\n      <td>NaN</td>\n      <td>NaN</td>\n      <td>NaN</td>\n      <td>NaN</td>\n      <td>NaN</td>\n      <td>NaN</td>\n      <td>...</td>\n      <td>0</td>\n      <td>28191.0</td>\n      <td>Marine Transportation</td>\n      <td>Transportation</td>\n      <td>0</td>\n      <td>0</td>\n      <td>0</td>\n      <td>0</td>\n      <td>0</td>\n      <td>0</td>\n    </tr>\n    <tr>\n      <th>9693936</th>\n      <td>V7780T10</td>\n      <td>2023-12-27</td>\n      <td>2023-12-27</td>\n      <td>0.005795</td>\n      <td>NaN</td>\n      <td>NaN</td>\n      <td>NaN</td>\n      <td>NaN</td>\n      <td>NaN</td>\n      <td>NaN</td>\n      <td>...</td>\n      <td>0</td>\n      <td>28191.0</td>\n      <td>Marine Transportation</td>\n      <td>Transportation</td>\n      <td>0</td>\n      <td>0</td>\n      <td>0</td>\n      <td>0</td>\n      <td>0</td>\n      <td>0</td>\n    </tr>\n    <tr>\n      <th>9693937</th>\n      <td>V7780T10</td>\n      <td>2023-12-28</td>\n      <td>2023-12-28</td>\n      <td>0.000852</td>\n      <td>NaN</td>\n      <td>NaN</td>\n      <td>NaN</td>\n      <td>NaN</td>\n      <td>NaN</td>\n      <td>NaN</td>\n      <td>...</td>\n      <td>0</td>\n      <td>28191.0</td>\n      <td>Marine Transportation</td>\n      <td>Transportation</td>\n      <td>0</td>\n      <td>0</td>\n      <td>0</td>\n      <td>0</td>\n      <td>0</td>\n      <td>0</td>\n    </tr>\n  </tbody>\n</table>\n<p>9693938 rows × 22 columns</p>\n</div>"
     },
     "execution_count": 167,
     "metadata": {},
     "output_type": "execute_result"
    }
   ],
   "source": [
    "# Create indicator column if material incident in same SICS Industry\n",
    "\n",
    "df = pairs_industry.copy()\n",
    "\n",
    "mat_cols = ['material_flag', 'materiality_car_5', 'materiality_reach',\n",
    "            'materiality_car_1', 'materiality_severity', 'incident']\n",
    "\n",
    "# 1) Clean to 0/1 at firm-day (NaN -> 0; any nonzero -> 1)\n",
    "tmp = df[['SICS Codified Industry ', 'date'] + mat_cols].copy()\n",
    "for c in mat_cols:\n",
    "    tmp[c] = (pd.to_numeric(tmp[c], errors='coerce').fillna(0) != 0).astype(int)\n",
    "\n",
    "# 2) Industry-date flags: any firm in industry had an incident today under each definition\n",
    "ind_flags = (\n",
    "    tmp.groupby(['SICS Codified Industry ', 'date'])[mat_cols]\n",
    "       .max()\n",
    "       .reset_index()\n",
    "       .rename(columns={c: f'industry_{c}' for c in mat_cols})\n",
    ")\n",
    "\n",
    "# 3) Merge back to firm-day\n",
    "df = df.merge(ind_flags, on=['SICS Codified Industry ', 'date'], how='left')\n",
    "\n",
    "df"
   ],
   "metadata": {
    "collapsed": false,
    "ExecuteTime": {
     "end_time": "2025-10-13T16:02:16.483207300Z",
     "start_time": "2025-10-13T16:02:04.111686800Z"
    }
   }
  },
  {
   "cell_type": "code",
   "execution_count": 168,
   "outputs": [
    {
     "data": {
      "text/plain": "            cusip incident_date       date   CAR_0_1  severity  reach  \\\n0        00030710    2014-10-03 2014-10-03  0.032229       NaN    NaN   \n1        00030710    2014-10-06 2014-10-06  0.048207       NaN    NaN   \n2        00030710    2014-10-07 2014-10-07 -0.006582       NaN    NaN   \n3        00030710    2014-10-08 2014-10-08  0.005921       NaN    NaN   \n4        00030710    2014-10-09 2014-10-09  0.027839       NaN    NaN   \n...           ...           ...        ...       ...       ...    ...   \n9693933  V7780T10    2023-12-21 2023-12-21  0.047159       NaN    NaN   \n9693934  V7780T10    2023-12-22 2023-12-22  0.006924       NaN    NaN   \n9693935  V7780T10    2023-12-26 2023-12-26  0.006082       NaN    NaN   \n9693936  V7780T10    2023-12-27 2023-12-27  0.005795       NaN    NaN   \n9693937  V7780T10    2023-12-28 2023-12-28  0.000852       NaN    NaN   \n\n         novelty  material_flag  materiality_car_5  materiality_reach  ...  \\\n0            NaN              0                  0                  0  ...   \n1            NaN              0                  0                  0  ...   \n2            NaN              0                  0                  0  ...   \n3            NaN              0                  0                  0  ...   \n4            NaN              0                  0                  0  ...   \n...          ...            ...                ...                ...  ...   \n9693933      NaN              0                  0                  0  ...   \n9693934      NaN              0                  0                  0  ...   \n9693935      NaN              0                  0                  0  ...   \n9693936      NaN              0                  0                  0  ...   \n9693937      NaN              0                  0                  0  ...   \n\n         incident     gvkey  SICS Codified Industry   Codified SICS Sector   \\\n0               0  178698.0     Health Care Delivery            Health Care   \n1               0  178698.0     Health Care Delivery            Health Care   \n2               0  178698.0     Health Care Delivery            Health Care   \n3               0  178698.0     Health Care Delivery            Health Care   \n4               0  178698.0     Health Care Delivery            Health Care   \n...           ...       ...                      ...                    ...   \n9693933         0   28191.0    Marine Transportation         Transportation   \n9693934         0   28191.0    Marine Transportation         Transportation   \n9693935         0   28191.0    Marine Transportation         Transportation   \n9693936         0   28191.0    Marine Transportation         Transportation   \n9693937         0   28191.0    Marine Transportation         Transportation   \n\n        industry_material_flag industry_materiality_car_5  \\\n0                            0                          0   \n1                            0                          0   \n2                            0                          0   \n3                            0                          0   \n4                            0                          0   \n...                        ...                        ...   \n9693933                      0                          0   \n9693934                      0                          0   \n9693935                      0                          0   \n9693936                      0                          0   \n9693937                      0                          0   \n\n         industry_materiality_reach  industry_materiality_car_1  \\\n0                                 0                           0   \n1                                 0                           0   \n2                                 0                           0   \n3                                 0                           0   \n4                                 0                           0   \n...                             ...                         ...   \n9693933                           0                           0   \n9693934                           0                           0   \n9693935                           0                           0   \n9693936                           0                           0   \n9693937                           0                           0   \n\n         industry_materiality_severity  industry_incident  \n0                                    0                  0  \n1                                    0                  0  \n2                                    0                  0  \n3                                    0                  0  \n4                                    0                  0  \n...                                ...                ...  \n9693933                              0                  0  \n9693934                              0                  0  \n9693935                              0                  0  \n9693936                              0                  0  \n9693937                              0                  0  \n\n[9693938 rows x 22 columns]",
      "text/html": "<div>\n<style scoped>\n    .dataframe tbody tr th:only-of-type {\n        vertical-align: middle;\n    }\n\n    .dataframe tbody tr th {\n        vertical-align: top;\n    }\n\n    .dataframe thead th {\n        text-align: right;\n    }\n</style>\n<table border=\"1\" class=\"dataframe\">\n  <thead>\n    <tr style=\"text-align: right;\">\n      <th></th>\n      <th>cusip</th>\n      <th>incident_date</th>\n      <th>date</th>\n      <th>CAR_0_1</th>\n      <th>severity</th>\n      <th>reach</th>\n      <th>novelty</th>\n      <th>material_flag</th>\n      <th>materiality_car_5</th>\n      <th>materiality_reach</th>\n      <th>...</th>\n      <th>incident</th>\n      <th>gvkey</th>\n      <th>SICS Codified Industry</th>\n      <th>Codified SICS Sector</th>\n      <th>industry_material_flag</th>\n      <th>industry_materiality_car_5</th>\n      <th>industry_materiality_reach</th>\n      <th>industry_materiality_car_1</th>\n      <th>industry_materiality_severity</th>\n      <th>industry_incident</th>\n    </tr>\n  </thead>\n  <tbody>\n    <tr>\n      <th>0</th>\n      <td>00030710</td>\n      <td>2014-10-03</td>\n      <td>2014-10-03</td>\n      <td>0.032229</td>\n      <td>NaN</td>\n      <td>NaN</td>\n      <td>NaN</td>\n      <td>0</td>\n      <td>0</td>\n      <td>0</td>\n      <td>...</td>\n      <td>0</td>\n      <td>178698.0</td>\n      <td>Health Care Delivery</td>\n      <td>Health Care</td>\n      <td>0</td>\n      <td>0</td>\n      <td>0</td>\n      <td>0</td>\n      <td>0</td>\n      <td>0</td>\n    </tr>\n    <tr>\n      <th>1</th>\n      <td>00030710</td>\n      <td>2014-10-06</td>\n      <td>2014-10-06</td>\n      <td>0.048207</td>\n      <td>NaN</td>\n      <td>NaN</td>\n      <td>NaN</td>\n      <td>0</td>\n      <td>0</td>\n      <td>0</td>\n      <td>...</td>\n      <td>0</td>\n      <td>178698.0</td>\n      <td>Health Care Delivery</td>\n      <td>Health Care</td>\n      <td>0</td>\n      <td>0</td>\n      <td>0</td>\n      <td>0</td>\n      <td>0</td>\n      <td>0</td>\n    </tr>\n    <tr>\n      <th>2</th>\n      <td>00030710</td>\n      <td>2014-10-07</td>\n      <td>2014-10-07</td>\n      <td>-0.006582</td>\n      <td>NaN</td>\n      <td>NaN</td>\n      <td>NaN</td>\n      <td>0</td>\n      <td>0</td>\n      <td>0</td>\n      <td>...</td>\n      <td>0</td>\n      <td>178698.0</td>\n      <td>Health Care Delivery</td>\n      <td>Health Care</td>\n      <td>0</td>\n      <td>0</td>\n      <td>0</td>\n      <td>0</td>\n      <td>0</td>\n      <td>0</td>\n    </tr>\n    <tr>\n      <th>3</th>\n      <td>00030710</td>\n      <td>2014-10-08</td>\n      <td>2014-10-08</td>\n      <td>0.005921</td>\n      <td>NaN</td>\n      <td>NaN</td>\n      <td>NaN</td>\n      <td>0</td>\n      <td>0</td>\n      <td>0</td>\n      <td>...</td>\n      <td>0</td>\n      <td>178698.0</td>\n      <td>Health Care Delivery</td>\n      <td>Health Care</td>\n      <td>0</td>\n      <td>0</td>\n      <td>0</td>\n      <td>0</td>\n      <td>0</td>\n      <td>0</td>\n    </tr>\n    <tr>\n      <th>4</th>\n      <td>00030710</td>\n      <td>2014-10-09</td>\n      <td>2014-10-09</td>\n      <td>0.027839</td>\n      <td>NaN</td>\n      <td>NaN</td>\n      <td>NaN</td>\n      <td>0</td>\n      <td>0</td>\n      <td>0</td>\n      <td>...</td>\n      <td>0</td>\n      <td>178698.0</td>\n      <td>Health Care Delivery</td>\n      <td>Health Care</td>\n      <td>0</td>\n      <td>0</td>\n      <td>0</td>\n      <td>0</td>\n      <td>0</td>\n      <td>0</td>\n    </tr>\n    <tr>\n      <th>...</th>\n      <td>...</td>\n      <td>...</td>\n      <td>...</td>\n      <td>...</td>\n      <td>...</td>\n      <td>...</td>\n      <td>...</td>\n      <td>...</td>\n      <td>...</td>\n      <td>...</td>\n      <td>...</td>\n      <td>...</td>\n      <td>...</td>\n      <td>...</td>\n      <td>...</td>\n      <td>...</td>\n      <td>...</td>\n      <td>...</td>\n      <td>...</td>\n      <td>...</td>\n      <td>...</td>\n    </tr>\n    <tr>\n      <th>9693933</th>\n      <td>V7780T10</td>\n      <td>2023-12-21</td>\n      <td>2023-12-21</td>\n      <td>0.047159</td>\n      <td>NaN</td>\n      <td>NaN</td>\n      <td>NaN</td>\n      <td>0</td>\n      <td>0</td>\n      <td>0</td>\n      <td>...</td>\n      <td>0</td>\n      <td>28191.0</td>\n      <td>Marine Transportation</td>\n      <td>Transportation</td>\n      <td>0</td>\n      <td>0</td>\n      <td>0</td>\n      <td>0</td>\n      <td>0</td>\n      <td>0</td>\n    </tr>\n    <tr>\n      <th>9693934</th>\n      <td>V7780T10</td>\n      <td>2023-12-22</td>\n      <td>2023-12-22</td>\n      <td>0.006924</td>\n      <td>NaN</td>\n      <td>NaN</td>\n      <td>NaN</td>\n      <td>0</td>\n      <td>0</td>\n      <td>0</td>\n      <td>...</td>\n      <td>0</td>\n      <td>28191.0</td>\n      <td>Marine Transportation</td>\n      <td>Transportation</td>\n      <td>0</td>\n      <td>0</td>\n      <td>0</td>\n      <td>0</td>\n      <td>0</td>\n      <td>0</td>\n    </tr>\n    <tr>\n      <th>9693935</th>\n      <td>V7780T10</td>\n      <td>2023-12-26</td>\n      <td>2023-12-26</td>\n      <td>0.006082</td>\n      <td>NaN</td>\n      <td>NaN</td>\n      <td>NaN</td>\n      <td>0</td>\n      <td>0</td>\n      <td>0</td>\n      <td>...</td>\n      <td>0</td>\n      <td>28191.0</td>\n      <td>Marine Transportation</td>\n      <td>Transportation</td>\n      <td>0</td>\n      <td>0</td>\n      <td>0</td>\n      <td>0</td>\n      <td>0</td>\n      <td>0</td>\n    </tr>\n    <tr>\n      <th>9693936</th>\n      <td>V7780T10</td>\n      <td>2023-12-27</td>\n      <td>2023-12-27</td>\n      <td>0.005795</td>\n      <td>NaN</td>\n      <td>NaN</td>\n      <td>NaN</td>\n      <td>0</td>\n      <td>0</td>\n      <td>0</td>\n      <td>...</td>\n      <td>0</td>\n      <td>28191.0</td>\n      <td>Marine Transportation</td>\n      <td>Transportation</td>\n      <td>0</td>\n      <td>0</td>\n      <td>0</td>\n      <td>0</td>\n      <td>0</td>\n      <td>0</td>\n    </tr>\n    <tr>\n      <th>9693937</th>\n      <td>V7780T10</td>\n      <td>2023-12-28</td>\n      <td>2023-12-28</td>\n      <td>0.000852</td>\n      <td>NaN</td>\n      <td>NaN</td>\n      <td>NaN</td>\n      <td>0</td>\n      <td>0</td>\n      <td>0</td>\n      <td>...</td>\n      <td>0</td>\n      <td>28191.0</td>\n      <td>Marine Transportation</td>\n      <td>Transportation</td>\n      <td>0</td>\n      <td>0</td>\n      <td>0</td>\n      <td>0</td>\n      <td>0</td>\n      <td>0</td>\n    </tr>\n  </tbody>\n</table>\n<p>9693938 rows × 22 columns</p>\n</div>"
     },
     "execution_count": 168,
     "metadata": {},
     "output_type": "execute_result"
    }
   ],
   "source": [
    "# Fill material columns NaNs with 0 (no incident -> no material incident)\n",
    "# select only columns that already start with 'materiality_'\n",
    "mat_cols = [c for c in df.columns if c.startswith('materiality_')]\n",
    "if 'material_flag' in df.columns:\n",
    "    mat_cols.append('material_flag')\n",
    "\n",
    "# coerce to numeric, fill NAs with 0, cast to int\n",
    "df[mat_cols] = (\n",
    "    df[mat_cols]\n",
    "      .apply(lambda s: pd.to_numeric(s, errors='coerce'))\n",
    "      .fillna(0)\n",
    "      .astype(int)\n",
    ")\n",
    "df"
   ],
   "metadata": {
    "collapsed": false,
    "ExecuteTime": {
     "end_time": "2025-10-13T16:02:21.953072800Z",
     "start_time": "2025-10-13T16:02:16.467572300Z"
    }
   }
  },
  {
   "cell_type": "code",
   "execution_count": 137,
   "outputs": [
    {
     "name": "stdout",
     "output_type": "stream",
     "text": [
      "Approximately 26066 rows in ff.factors_daily.\n"
     ]
    },
    {
     "data": {
      "text/plain": "    name  nullable           type  \\\n0   date      True           DATE   \n1  mktrf      True  NUMERIC(8, 6)   \n2    smb      True  NUMERIC(8, 6)   \n3    hml      True  NUMERIC(8, 6)   \n4     rf      True  NUMERIC(7, 5)   \n5    umd      True  NUMERIC(8, 6)   \n\n                                             comment  \n0                                               Date  \n1                        Excess Return on the Market  \n2                             Small-Minus-Big Return  \n3                              High-Minus-Low Return  \n4  Risk-Free Return Rate (One Month Treasury Bill...  \n5                                           Momentum  ",
      "text/html": "<div>\n<style scoped>\n    .dataframe tbody tr th:only-of-type {\n        vertical-align: middle;\n    }\n\n    .dataframe tbody tr th {\n        vertical-align: top;\n    }\n\n    .dataframe thead th {\n        text-align: right;\n    }\n</style>\n<table border=\"1\" class=\"dataframe\">\n  <thead>\n    <tr style=\"text-align: right;\">\n      <th></th>\n      <th>name</th>\n      <th>nullable</th>\n      <th>type</th>\n      <th>comment</th>\n    </tr>\n  </thead>\n  <tbody>\n    <tr>\n      <th>0</th>\n      <td>date</td>\n      <td>True</td>\n      <td>DATE</td>\n      <td>Date</td>\n    </tr>\n    <tr>\n      <th>1</th>\n      <td>mktrf</td>\n      <td>True</td>\n      <td>NUMERIC(8, 6)</td>\n      <td>Excess Return on the Market</td>\n    </tr>\n    <tr>\n      <th>2</th>\n      <td>smb</td>\n      <td>True</td>\n      <td>NUMERIC(8, 6)</td>\n      <td>Small-Minus-Big Return</td>\n    </tr>\n    <tr>\n      <th>3</th>\n      <td>hml</td>\n      <td>True</td>\n      <td>NUMERIC(8, 6)</td>\n      <td>High-Minus-Low Return</td>\n    </tr>\n    <tr>\n      <th>4</th>\n      <td>rf</td>\n      <td>True</td>\n      <td>NUMERIC(7, 5)</td>\n      <td>Risk-Free Return Rate (One Month Treasury Bill...</td>\n    </tr>\n    <tr>\n      <th>5</th>\n      <td>umd</td>\n      <td>True</td>\n      <td>NUMERIC(8, 6)</td>\n      <td>Momentum</td>\n    </tr>\n  </tbody>\n</table>\n</div>"
     },
     "execution_count": 137,
     "metadata": {},
     "output_type": "execute_result"
    }
   ],
   "source": [
    "db.describe_table(library='ff', table='factors_daily')"
   ],
   "metadata": {
    "collapsed": false,
    "ExecuteTime": {
     "end_time": "2025-10-09T14:52:24.038028100Z",
     "start_time": "2025-10-09T14:52:23.430172300Z"
    }
   }
  },
  {
   "cell_type": "code",
   "execution_count": 169,
   "outputs": [],
   "source": [
    "def fetch_ff3_mom_daily(db, start_date, end_date):\n",
    "    \"\"\"Return daily FF3+RF+UMD (all in decimals) for [start_date, end_date].\"\"\"\n",
    "    sql_ff = f\"\"\"\n",
    "        SELECT date, mktrf, smb, hml, rf, umd\n",
    "        FROM ff.factors_daily\n",
    "        WHERE date BETWEEN '{start_date}' AND '{end_date}'\n",
    "    \"\"\"\n",
    "    ff = db.raw_sql(sql_ff, date_cols=['date']).sort_values('date')\n",
    "\n",
    "\n",
    "    # Convert % to decimals\n",
    "    for c in ['mktrf', 'smb', 'hml', 'rf', 'umd']:\n",
    "        ff[c] = pd.to_numeric(ff[c], errors='coerce') / 100.0\n",
    "\n",
    "    return ff"
   ],
   "metadata": {
    "collapsed": false,
    "ExecuteTime": {
     "end_time": "2025-10-13T16:02:21.953072800Z",
     "start_time": "2025-10-13T16:02:21.953072800Z"
    }
   }
  },
  {
   "cell_type": "code",
   "execution_count": 173,
   "outputs": [
    {
     "data": {
      "text/plain": "           date     mktrf       smb       hml        rf       umd\n0    2007-01-03 -0.000005  0.000003   0.00002  0.000002 -0.000045\n1    2007-01-04  0.000016  0.000023 -0.000051  0.000002 -0.000056\n2    2007-01-05 -0.000073 -0.000094 -0.000029  0.000002  0.000005\n3    2007-01-08  0.000024 -0.000009  0.000004  0.000002  0.000032\n4    2007-01-09       0.0  0.000029 -0.000031  0.000002  0.000025\n...         ...       ...       ...       ...       ...       ...\n4272 2023-12-21  0.000109  0.000074 -0.000004  0.000002  -0.00002\n4273 2023-12-22   0.00002  0.000064   0.00001  0.000002 -0.000048\n4274 2023-12-26  0.000048   0.00007  0.000044  0.000002 -0.000021\n4275 2023-12-27  0.000016  0.000013  0.000011  0.000002  0.000011\n4276 2023-12-28 -0.000001 -0.000036  0.000003  0.000002 -0.000048\n\n[4277 rows x 6 columns]",
      "text/html": "<div>\n<style scoped>\n    .dataframe tbody tr th:only-of-type {\n        vertical-align: middle;\n    }\n\n    .dataframe tbody tr th {\n        vertical-align: top;\n    }\n\n    .dataframe thead th {\n        text-align: right;\n    }\n</style>\n<table border=\"1\" class=\"dataframe\">\n  <thead>\n    <tr style=\"text-align: right;\">\n      <th></th>\n      <th>date</th>\n      <th>mktrf</th>\n      <th>smb</th>\n      <th>hml</th>\n      <th>rf</th>\n      <th>umd</th>\n    </tr>\n  </thead>\n  <tbody>\n    <tr>\n      <th>0</th>\n      <td>2007-01-03</td>\n      <td>-0.000005</td>\n      <td>0.000003</td>\n      <td>0.00002</td>\n      <td>0.000002</td>\n      <td>-0.000045</td>\n    </tr>\n    <tr>\n      <th>1</th>\n      <td>2007-01-04</td>\n      <td>0.000016</td>\n      <td>0.000023</td>\n      <td>-0.000051</td>\n      <td>0.000002</td>\n      <td>-0.000056</td>\n    </tr>\n    <tr>\n      <th>2</th>\n      <td>2007-01-05</td>\n      <td>-0.000073</td>\n      <td>-0.000094</td>\n      <td>-0.000029</td>\n      <td>0.000002</td>\n      <td>0.000005</td>\n    </tr>\n    <tr>\n      <th>3</th>\n      <td>2007-01-08</td>\n      <td>0.000024</td>\n      <td>-0.000009</td>\n      <td>0.000004</td>\n      <td>0.000002</td>\n      <td>0.000032</td>\n    </tr>\n    <tr>\n      <th>4</th>\n      <td>2007-01-09</td>\n      <td>0.0</td>\n      <td>0.000029</td>\n      <td>-0.000031</td>\n      <td>0.000002</td>\n      <td>0.000025</td>\n    </tr>\n    <tr>\n      <th>...</th>\n      <td>...</td>\n      <td>...</td>\n      <td>...</td>\n      <td>...</td>\n      <td>...</td>\n      <td>...</td>\n    </tr>\n    <tr>\n      <th>4272</th>\n      <td>2023-12-21</td>\n      <td>0.000109</td>\n      <td>0.000074</td>\n      <td>-0.000004</td>\n      <td>0.000002</td>\n      <td>-0.00002</td>\n    </tr>\n    <tr>\n      <th>4273</th>\n      <td>2023-12-22</td>\n      <td>0.00002</td>\n      <td>0.000064</td>\n      <td>0.00001</td>\n      <td>0.000002</td>\n      <td>-0.000048</td>\n    </tr>\n    <tr>\n      <th>4274</th>\n      <td>2023-12-26</td>\n      <td>0.000048</td>\n      <td>0.00007</td>\n      <td>0.000044</td>\n      <td>0.000002</td>\n      <td>-0.000021</td>\n    </tr>\n    <tr>\n      <th>4275</th>\n      <td>2023-12-27</td>\n      <td>0.000016</td>\n      <td>0.000013</td>\n      <td>0.000011</td>\n      <td>0.000002</td>\n      <td>0.000011</td>\n    </tr>\n    <tr>\n      <th>4276</th>\n      <td>2023-12-28</td>\n      <td>-0.000001</td>\n      <td>-0.000036</td>\n      <td>0.000003</td>\n      <td>0.000002</td>\n      <td>-0.000048</td>\n    </tr>\n  </tbody>\n</table>\n<p>4277 rows × 6 columns</p>\n</div>"
     },
     "execution_count": 173,
     "metadata": {},
     "output_type": "execute_result"
    }
   ],
   "source": [
    "# ---- Example usage with your event list df_events ----\n",
    "evt = df.copy()             # your table above\n",
    "evt['date'] = pd.to_datetime(evt['date'])\n",
    "\n",
    "start_date = evt['date'].min()\n",
    "end_date   = evt['date'].max()\n",
    "\n",
    "factors = fetch_ff3_mom_daily(db, start_date, end_date)\n",
    "factors"
   ],
   "metadata": {
    "collapsed": false,
    "ExecuteTime": {
     "end_time": "2025-10-13T16:03:01.334842900Z",
     "start_time": "2025-10-13T16:02:59.111878100Z"
    }
   }
  },
  {
   "cell_type": "code",
   "execution_count": 174,
   "outputs": [
    {
     "data": {
      "text/plain": "           date    MKT_2d    SMB_2d    HML_2d     RF_2d    UMD_2d\n0    2007-01-03  0.000011  0.000026 -0.000031  0.000004 -0.000101\n1    2007-01-04 -0.000057 -0.000071  -0.00008  0.000004 -0.000051\n2    2007-01-05 -0.000049 -0.000103 -0.000025  0.000004  0.000037\n3    2007-01-08  0.000024   0.00002 -0.000027  0.000004  0.000057\n4    2007-01-09  0.000023  0.000019  -0.00005  0.000004  0.000028\n...         ...       ...       ...       ...       ...       ...\n4271 2023-12-20 -0.000046  0.000037  0.000009  0.000004   0.00004\n4272 2023-12-21  0.000129  0.000138  0.000006  0.000004 -0.000068\n4273 2023-12-22  0.000068  0.000134  0.000054  0.000004 -0.000069\n4274 2023-12-26  0.000064  0.000083  0.000055  0.000004  -0.00001\n4275 2023-12-27  0.000015 -0.000023  0.000014  0.000004 -0.000037\n\n[4276 rows x 6 columns]",
      "text/html": "<div>\n<style scoped>\n    .dataframe tbody tr th:only-of-type {\n        vertical-align: middle;\n    }\n\n    .dataframe tbody tr th {\n        vertical-align: top;\n    }\n\n    .dataframe thead th {\n        text-align: right;\n    }\n</style>\n<table border=\"1\" class=\"dataframe\">\n  <thead>\n    <tr style=\"text-align: right;\">\n      <th></th>\n      <th>date</th>\n      <th>MKT_2d</th>\n      <th>SMB_2d</th>\n      <th>HML_2d</th>\n      <th>RF_2d</th>\n      <th>UMD_2d</th>\n    </tr>\n  </thead>\n  <tbody>\n    <tr>\n      <th>0</th>\n      <td>2007-01-03</td>\n      <td>0.000011</td>\n      <td>0.000026</td>\n      <td>-0.000031</td>\n      <td>0.000004</td>\n      <td>-0.000101</td>\n    </tr>\n    <tr>\n      <th>1</th>\n      <td>2007-01-04</td>\n      <td>-0.000057</td>\n      <td>-0.000071</td>\n      <td>-0.00008</td>\n      <td>0.000004</td>\n      <td>-0.000051</td>\n    </tr>\n    <tr>\n      <th>2</th>\n      <td>2007-01-05</td>\n      <td>-0.000049</td>\n      <td>-0.000103</td>\n      <td>-0.000025</td>\n      <td>0.000004</td>\n      <td>0.000037</td>\n    </tr>\n    <tr>\n      <th>3</th>\n      <td>2007-01-08</td>\n      <td>0.000024</td>\n      <td>0.00002</td>\n      <td>-0.000027</td>\n      <td>0.000004</td>\n      <td>0.000057</td>\n    </tr>\n    <tr>\n      <th>4</th>\n      <td>2007-01-09</td>\n      <td>0.000023</td>\n      <td>0.000019</td>\n      <td>-0.00005</td>\n      <td>0.000004</td>\n      <td>0.000028</td>\n    </tr>\n    <tr>\n      <th>...</th>\n      <td>...</td>\n      <td>...</td>\n      <td>...</td>\n      <td>...</td>\n      <td>...</td>\n      <td>...</td>\n    </tr>\n    <tr>\n      <th>4271</th>\n      <td>2023-12-20</td>\n      <td>-0.000046</td>\n      <td>0.000037</td>\n      <td>0.000009</td>\n      <td>0.000004</td>\n      <td>0.00004</td>\n    </tr>\n    <tr>\n      <th>4272</th>\n      <td>2023-12-21</td>\n      <td>0.000129</td>\n      <td>0.000138</td>\n      <td>0.000006</td>\n      <td>0.000004</td>\n      <td>-0.000068</td>\n    </tr>\n    <tr>\n      <th>4273</th>\n      <td>2023-12-22</td>\n      <td>0.000068</td>\n      <td>0.000134</td>\n      <td>0.000054</td>\n      <td>0.000004</td>\n      <td>-0.000069</td>\n    </tr>\n    <tr>\n      <th>4274</th>\n      <td>2023-12-26</td>\n      <td>0.000064</td>\n      <td>0.000083</td>\n      <td>0.000055</td>\n      <td>0.000004</td>\n      <td>-0.00001</td>\n    </tr>\n    <tr>\n      <th>4275</th>\n      <td>2023-12-27</td>\n      <td>0.000015</td>\n      <td>-0.000023</td>\n      <td>0.000014</td>\n      <td>0.000004</td>\n      <td>-0.000037</td>\n    </tr>\n  </tbody>\n</table>\n<p>4276 rows × 6 columns</p>\n</div>"
     },
     "execution_count": 174,
     "metadata": {},
     "output_type": "execute_result"
    }
   ],
   "source": [
    "# 2) Build next-day factors and 2-day sums (t + t+1 trading day)\n",
    "sum_cols = ['mktrf','smb','hml','rf', 'umd']\n",
    "\n",
    "for c in sum_cols:\n",
    "    factors[f'next_{c}'] = factors[c].shift(-1)\n",
    "\n",
    "ff_2d = factors.assign(\n",
    "    MKT_2d = factors['mktrf'] + factors['next_mktrf'],\n",
    "    SMB_2d = factors['smb']   + factors['next_smb'],\n",
    "    HML_2d = factors['hml']   + factors['next_hml'],\n",
    "    RF_2d  = factors['rf']    + factors['next_rf'],\n",
    "    UMD_2d = factors['umd']  + factors['next_umd']\n",
    ").dropna(subset=['next_mktrf'])  # drop last day (no t+1)\n",
    "\n",
    "keep_cols = ['date','MKT_2d','SMB_2d','HML_2d','RF_2d', 'UMD_2d']\n",
    "ff_2d = ff_2d[keep_cols]\n",
    "ff_2d"
   ],
   "metadata": {
    "collapsed": false,
    "ExecuteTime": {
     "end_time": "2025-10-13T16:03:05.968170400Z",
     "start_time": "2025-10-13T16:03:05.938361100Z"
    }
   }
  },
  {
   "cell_type": "code",
   "execution_count": 175,
   "outputs": [
    {
     "data": {
      "text/plain": "            cusip incident_date       date   CAR_0_1  severity  reach  \\\n0        00030710    2014-10-03 2014-10-03  0.032229       NaN    NaN   \n1        00030710    2014-10-06 2014-10-06  0.048207       NaN    NaN   \n2        00030710    2014-10-07 2014-10-07 -0.006582       NaN    NaN   \n3        00030710    2014-10-08 2014-10-08  0.005921       NaN    NaN   \n4        00030710    2014-10-09 2014-10-09  0.027839       NaN    NaN   \n...           ...           ...        ...       ...       ...    ...   \n9693933  V7780T10    2023-12-21 2023-12-21  0.047159       NaN    NaN   \n9693934  V7780T10    2023-12-22 2023-12-22  0.006924       NaN    NaN   \n9693935  V7780T10    2023-12-26 2023-12-26  0.006082       NaN    NaN   \n9693936  V7780T10    2023-12-27 2023-12-27  0.005795       NaN    NaN   \n9693937  V7780T10    2023-12-28 2023-12-28  0.000852       NaN    NaN   \n\n         novelty  material_flag  materiality_car_5  materiality_reach  ...  \\\n0            NaN              0                  0                  0  ...   \n1            NaN              0                  0                  0  ...   \n2            NaN              0                  0                  0  ...   \n3            NaN              0                  0                  0  ...   \n4            NaN              0                  0                  0  ...   \n...          ...            ...                ...                ...  ...   \n9693933      NaN              0                  0                  0  ...   \n9693934      NaN              0                  0                  0  ...   \n9693935      NaN              0                  0                  0  ...   \n9693936      NaN              0                  0                  0  ...   \n9693937      NaN              0                  0                  0  ...   \n\n         industry_materiality_car_5  industry_materiality_reach  \\\n0                                 0                           0   \n1                                 0                           0   \n2                                 0                           0   \n3                                 0                           0   \n4                                 0                           0   \n...                             ...                         ...   \n9693933                           0                           0   \n9693934                           0                           0   \n9693935                           0                           0   \n9693936                           0                           0   \n9693937                           0                           0   \n\n         industry_materiality_car_1  industry_materiality_severity  \\\n0                                 0                              0   \n1                                 0                              0   \n2                                 0                              0   \n3                                 0                              0   \n4                                 0                              0   \n...                             ...                            ...   \n9693933                           0                              0   \n9693934                           0                              0   \n9693935                           0                              0   \n9693936                           0                              0   \n9693937                           0                              0   \n\n        industry_incident    MKT_2d    SMB_2d    HML_2d     RF_2d    UMD_2d  \n0                       0  0.000082 -0.000116 -0.000009       0.0  0.000016  \n1                       0 -0.000182 -0.000092  0.000051       0.0 -0.000019  \n2                       0  0.000014 -0.000011  0.000009       0.0  0.000037  \n3                       0 -0.000047 -0.000039 -0.000046       0.0  0.000031  \n4                       0 -0.000346 -0.000059  0.000011       0.0 -0.000034  \n...                   ...       ...       ...       ...       ...       ...  \n9693933                 0  0.000129  0.000138  0.000006  0.000004 -0.000068  \n9693934                 0  0.000068  0.000134  0.000054  0.000004 -0.000069  \n9693935                 0  0.000064  0.000083  0.000055  0.000004  -0.00001  \n9693936                 0  0.000015 -0.000023  0.000014  0.000004 -0.000037  \n9693937                 0      <NA>      <NA>      <NA>      <NA>      <NA>  \n\n[9693938 rows x 27 columns]",
      "text/html": "<div>\n<style scoped>\n    .dataframe tbody tr th:only-of-type {\n        vertical-align: middle;\n    }\n\n    .dataframe tbody tr th {\n        vertical-align: top;\n    }\n\n    .dataframe thead th {\n        text-align: right;\n    }\n</style>\n<table border=\"1\" class=\"dataframe\">\n  <thead>\n    <tr style=\"text-align: right;\">\n      <th></th>\n      <th>cusip</th>\n      <th>incident_date</th>\n      <th>date</th>\n      <th>CAR_0_1</th>\n      <th>severity</th>\n      <th>reach</th>\n      <th>novelty</th>\n      <th>material_flag</th>\n      <th>materiality_car_5</th>\n      <th>materiality_reach</th>\n      <th>...</th>\n      <th>industry_materiality_car_5</th>\n      <th>industry_materiality_reach</th>\n      <th>industry_materiality_car_1</th>\n      <th>industry_materiality_severity</th>\n      <th>industry_incident</th>\n      <th>MKT_2d</th>\n      <th>SMB_2d</th>\n      <th>HML_2d</th>\n      <th>RF_2d</th>\n      <th>UMD_2d</th>\n    </tr>\n  </thead>\n  <tbody>\n    <tr>\n      <th>0</th>\n      <td>00030710</td>\n      <td>2014-10-03</td>\n      <td>2014-10-03</td>\n      <td>0.032229</td>\n      <td>NaN</td>\n      <td>NaN</td>\n      <td>NaN</td>\n      <td>0</td>\n      <td>0</td>\n      <td>0</td>\n      <td>...</td>\n      <td>0</td>\n      <td>0</td>\n      <td>0</td>\n      <td>0</td>\n      <td>0</td>\n      <td>0.000082</td>\n      <td>-0.000116</td>\n      <td>-0.000009</td>\n      <td>0.0</td>\n      <td>0.000016</td>\n    </tr>\n    <tr>\n      <th>1</th>\n      <td>00030710</td>\n      <td>2014-10-06</td>\n      <td>2014-10-06</td>\n      <td>0.048207</td>\n      <td>NaN</td>\n      <td>NaN</td>\n      <td>NaN</td>\n      <td>0</td>\n      <td>0</td>\n      <td>0</td>\n      <td>...</td>\n      <td>0</td>\n      <td>0</td>\n      <td>0</td>\n      <td>0</td>\n      <td>0</td>\n      <td>-0.000182</td>\n      <td>-0.000092</td>\n      <td>0.000051</td>\n      <td>0.0</td>\n      <td>-0.000019</td>\n    </tr>\n    <tr>\n      <th>2</th>\n      <td>00030710</td>\n      <td>2014-10-07</td>\n      <td>2014-10-07</td>\n      <td>-0.006582</td>\n      <td>NaN</td>\n      <td>NaN</td>\n      <td>NaN</td>\n      <td>0</td>\n      <td>0</td>\n      <td>0</td>\n      <td>...</td>\n      <td>0</td>\n      <td>0</td>\n      <td>0</td>\n      <td>0</td>\n      <td>0</td>\n      <td>0.000014</td>\n      <td>-0.000011</td>\n      <td>0.000009</td>\n      <td>0.0</td>\n      <td>0.000037</td>\n    </tr>\n    <tr>\n      <th>3</th>\n      <td>00030710</td>\n      <td>2014-10-08</td>\n      <td>2014-10-08</td>\n      <td>0.005921</td>\n      <td>NaN</td>\n      <td>NaN</td>\n      <td>NaN</td>\n      <td>0</td>\n      <td>0</td>\n      <td>0</td>\n      <td>...</td>\n      <td>0</td>\n      <td>0</td>\n      <td>0</td>\n      <td>0</td>\n      <td>0</td>\n      <td>-0.000047</td>\n      <td>-0.000039</td>\n      <td>-0.000046</td>\n      <td>0.0</td>\n      <td>0.000031</td>\n    </tr>\n    <tr>\n      <th>4</th>\n      <td>00030710</td>\n      <td>2014-10-09</td>\n      <td>2014-10-09</td>\n      <td>0.027839</td>\n      <td>NaN</td>\n      <td>NaN</td>\n      <td>NaN</td>\n      <td>0</td>\n      <td>0</td>\n      <td>0</td>\n      <td>...</td>\n      <td>0</td>\n      <td>0</td>\n      <td>0</td>\n      <td>0</td>\n      <td>0</td>\n      <td>-0.000346</td>\n      <td>-0.000059</td>\n      <td>0.000011</td>\n      <td>0.0</td>\n      <td>-0.000034</td>\n    </tr>\n    <tr>\n      <th>...</th>\n      <td>...</td>\n      <td>...</td>\n      <td>...</td>\n      <td>...</td>\n      <td>...</td>\n      <td>...</td>\n      <td>...</td>\n      <td>...</td>\n      <td>...</td>\n      <td>...</td>\n      <td>...</td>\n      <td>...</td>\n      <td>...</td>\n      <td>...</td>\n      <td>...</td>\n      <td>...</td>\n      <td>...</td>\n      <td>...</td>\n      <td>...</td>\n      <td>...</td>\n      <td>...</td>\n    </tr>\n    <tr>\n      <th>9693933</th>\n      <td>V7780T10</td>\n      <td>2023-12-21</td>\n      <td>2023-12-21</td>\n      <td>0.047159</td>\n      <td>NaN</td>\n      <td>NaN</td>\n      <td>NaN</td>\n      <td>0</td>\n      <td>0</td>\n      <td>0</td>\n      <td>...</td>\n      <td>0</td>\n      <td>0</td>\n      <td>0</td>\n      <td>0</td>\n      <td>0</td>\n      <td>0.000129</td>\n      <td>0.000138</td>\n      <td>0.000006</td>\n      <td>0.000004</td>\n      <td>-0.000068</td>\n    </tr>\n    <tr>\n      <th>9693934</th>\n      <td>V7780T10</td>\n      <td>2023-12-22</td>\n      <td>2023-12-22</td>\n      <td>0.006924</td>\n      <td>NaN</td>\n      <td>NaN</td>\n      <td>NaN</td>\n      <td>0</td>\n      <td>0</td>\n      <td>0</td>\n      <td>...</td>\n      <td>0</td>\n      <td>0</td>\n      <td>0</td>\n      <td>0</td>\n      <td>0</td>\n      <td>0.000068</td>\n      <td>0.000134</td>\n      <td>0.000054</td>\n      <td>0.000004</td>\n      <td>-0.000069</td>\n    </tr>\n    <tr>\n      <th>9693935</th>\n      <td>V7780T10</td>\n      <td>2023-12-26</td>\n      <td>2023-12-26</td>\n      <td>0.006082</td>\n      <td>NaN</td>\n      <td>NaN</td>\n      <td>NaN</td>\n      <td>0</td>\n      <td>0</td>\n      <td>0</td>\n      <td>...</td>\n      <td>0</td>\n      <td>0</td>\n      <td>0</td>\n      <td>0</td>\n      <td>0</td>\n      <td>0.000064</td>\n      <td>0.000083</td>\n      <td>0.000055</td>\n      <td>0.000004</td>\n      <td>-0.00001</td>\n    </tr>\n    <tr>\n      <th>9693936</th>\n      <td>V7780T10</td>\n      <td>2023-12-27</td>\n      <td>2023-12-27</td>\n      <td>0.005795</td>\n      <td>NaN</td>\n      <td>NaN</td>\n      <td>NaN</td>\n      <td>0</td>\n      <td>0</td>\n      <td>0</td>\n      <td>...</td>\n      <td>0</td>\n      <td>0</td>\n      <td>0</td>\n      <td>0</td>\n      <td>0</td>\n      <td>0.000015</td>\n      <td>-0.000023</td>\n      <td>0.000014</td>\n      <td>0.000004</td>\n      <td>-0.000037</td>\n    </tr>\n    <tr>\n      <th>9693937</th>\n      <td>V7780T10</td>\n      <td>2023-12-28</td>\n      <td>2023-12-28</td>\n      <td>0.000852</td>\n      <td>NaN</td>\n      <td>NaN</td>\n      <td>NaN</td>\n      <td>0</td>\n      <td>0</td>\n      <td>0</td>\n      <td>...</td>\n      <td>0</td>\n      <td>0</td>\n      <td>0</td>\n      <td>0</td>\n      <td>0</td>\n      <td>&lt;NA&gt;</td>\n      <td>&lt;NA&gt;</td>\n      <td>&lt;NA&gt;</td>\n      <td>&lt;NA&gt;</td>\n      <td>&lt;NA&gt;</td>\n    </tr>\n  </tbody>\n</table>\n<p>9693938 rows × 27 columns</p>\n</div>"
     },
     "execution_count": 175,
     "metadata": {},
     "output_type": "execute_result"
    }
   ],
   "source": [
    "# Merge by date\n",
    "evt = evt.merge(ff_2d, on='date', how='left')\n",
    "evt"
   ],
   "metadata": {
    "collapsed": false,
    "ExecuteTime": {
     "end_time": "2025-10-13T16:03:11.670681800Z",
     "start_time": "2025-10-13T16:03:05.961156700Z"
    }
   }
  },
  {
   "cell_type": "code",
   "execution_count": 41,
   "outputs": [
    {
     "name": "stderr",
     "output_type": "stream",
     "text": [
      "C:\\Users\\PascalSchrader.WIN-T1MVMVKE25U.000\\AppData\\Local\\Temp\\9\\ipykernel_46028\\2550280871.py:1: DtypeWarning: Columns (0,30) have mixed types. Specify dtype option on import or set low_memory=False.\n",
      "  evt = pd.read_csv('Output/events_ff3mom_daily.csv')\n"
     ]
    }
   ],
   "source": [
    "evt.drop(columns=['incident_date', 'severity', 'reach', 'novelty'], inplace=True)"
   ],
   "metadata": {
    "collapsed": false,
    "ExecuteTime": {
     "end_time": "2025-10-21T20:27:55.925532900Z",
     "start_time": "2025-10-21T20:26:30.440876700Z"
    }
   }
  },
  {
   "cell_type": "code",
   "execution_count": 42,
   "outputs": [
    {
     "data": {
      "text/plain": "            cusip        date   CAR_0_1  material_flag  materiality_car_5  \\\n0        00030710  2014-10-03  0.032229              0                  0   \n1        00030710  2014-10-06  0.048207              0                  0   \n2        00030710  2014-10-07 -0.006582              0                  0   \n3        00030710  2014-10-08  0.005921              0                  0   \n4        00030710  2014-10-09  0.027839              0                  0   \n...           ...         ...       ...            ...                ...   \n9738065  V7780T10  2023-12-21  0.047159              0                  0   \n9738066  V7780T10  2023-12-22  0.006924              0                  0   \n9738067  V7780T10  2023-12-26  0.006082              0                  0   \n9738068  V7780T10  2023-12-27  0.005795              0                  0   \n9738069  V7780T10  2023-12-28  0.000852              0                  0   \n\n         materiality_reach  materiality_car_1  materiality_severity  incident  \\\n0                        0                  0                     0         0   \n1                        0                  0                     0         0   \n2                        0                  0                     0         0   \n3                        0                  0                     0         0   \n4                        0                  0                     0         0   \n...                    ...                ...                   ...       ...   \n9738065                  0                  0                     0         0   \n9738066                  0                  0                     0         0   \n9738067                  0                  0                     0         0   \n9738068                  0                  0                     0         0   \n9738069                  0                  0                     0         0   \n\n            gvkey  ... ad_intensity       roa       rdate  InstOwn_Perc  \\\n0        178698.0  ...          NaN  0.011624         NaN           NaN   \n1        178698.0  ...          NaN  0.011624         NaN           NaN   \n2        178698.0  ...          NaN  0.011624         NaN           NaN   \n3        178698.0  ...          NaN  0.011624         NaN           NaN   \n4        178698.0  ...          NaN  0.011624         NaN           NaN   \n...           ...  ...          ...       ...         ...           ...   \n9738065   28191.0  ...     0.255918 -0.065298  2021-12-31      0.664304   \n9738066   28191.0  ...     0.255918 -0.065298  2021-12-31      0.664304   \n9738067   28191.0  ...     0.255918 -0.065298  2021-12-31      0.664304   \n9738068   28191.0  ...     0.255918 -0.065298  2021-12-31      0.664304   \n9738069   28191.0  ...     0.255918 -0.065298  2021-12-31      0.664304   \n\n         incident_date_x  severity_x  reach_x  incident_date_y  severity_y  \\\n0                    NaN         NaN      NaN              NaN         NaN   \n1                    NaN         NaN      NaN              NaN         NaN   \n2                    NaN         NaN      NaN              NaN         NaN   \n3                    NaN         NaN      NaN              NaN         NaN   \n4                    NaN         NaN      NaN              NaN         NaN   \n...                  ...         ...      ...              ...         ...   \n9738065              NaN         NaN      NaN              NaN         NaN   \n9738066              NaN         NaN      NaN              NaN         NaN   \n9738067              NaN         NaN      NaN              NaN         NaN   \n9738068              NaN         NaN      NaN              NaN         NaN   \n9738069              NaN         NaN      NaN              NaN         NaN   \n\n         reach_y  \n0            NaN  \n1            NaN  \n2            NaN  \n3            NaN  \n4            NaN  \n...          ...  \n9738065      NaN  \n9738066      NaN  \n9738067      NaN  \n9738068      NaN  \n9738069      NaN  \n\n[9738070 rows x 38 columns]",
      "text/html": "<div>\n<style scoped>\n    .dataframe tbody tr th:only-of-type {\n        vertical-align: middle;\n    }\n\n    .dataframe tbody tr th {\n        vertical-align: top;\n    }\n\n    .dataframe thead th {\n        text-align: right;\n    }\n</style>\n<table border=\"1\" class=\"dataframe\">\n  <thead>\n    <tr style=\"text-align: right;\">\n      <th></th>\n      <th>cusip</th>\n      <th>date</th>\n      <th>CAR_0_1</th>\n      <th>material_flag</th>\n      <th>materiality_car_5</th>\n      <th>materiality_reach</th>\n      <th>materiality_car_1</th>\n      <th>materiality_severity</th>\n      <th>incident</th>\n      <th>gvkey</th>\n      <th>...</th>\n      <th>ad_intensity</th>\n      <th>roa</th>\n      <th>rdate</th>\n      <th>InstOwn_Perc</th>\n      <th>incident_date_x</th>\n      <th>severity_x</th>\n      <th>reach_x</th>\n      <th>incident_date_y</th>\n      <th>severity_y</th>\n      <th>reach_y</th>\n    </tr>\n  </thead>\n  <tbody>\n    <tr>\n      <th>0</th>\n      <td>00030710</td>\n      <td>2014-10-03</td>\n      <td>0.032229</td>\n      <td>0</td>\n      <td>0</td>\n      <td>0</td>\n      <td>0</td>\n      <td>0</td>\n      <td>0</td>\n      <td>178698.0</td>\n      <td>...</td>\n      <td>NaN</td>\n      <td>0.011624</td>\n      <td>NaN</td>\n      <td>NaN</td>\n      <td>NaN</td>\n      <td>NaN</td>\n      <td>NaN</td>\n      <td>NaN</td>\n      <td>NaN</td>\n      <td>NaN</td>\n    </tr>\n    <tr>\n      <th>1</th>\n      <td>00030710</td>\n      <td>2014-10-06</td>\n      <td>0.048207</td>\n      <td>0</td>\n      <td>0</td>\n      <td>0</td>\n      <td>0</td>\n      <td>0</td>\n      <td>0</td>\n      <td>178698.0</td>\n      <td>...</td>\n      <td>NaN</td>\n      <td>0.011624</td>\n      <td>NaN</td>\n      <td>NaN</td>\n      <td>NaN</td>\n      <td>NaN</td>\n      <td>NaN</td>\n      <td>NaN</td>\n      <td>NaN</td>\n      <td>NaN</td>\n    </tr>\n    <tr>\n      <th>2</th>\n      <td>00030710</td>\n      <td>2014-10-07</td>\n      <td>-0.006582</td>\n      <td>0</td>\n      <td>0</td>\n      <td>0</td>\n      <td>0</td>\n      <td>0</td>\n      <td>0</td>\n      <td>178698.0</td>\n      <td>...</td>\n      <td>NaN</td>\n      <td>0.011624</td>\n      <td>NaN</td>\n      <td>NaN</td>\n      <td>NaN</td>\n      <td>NaN</td>\n      <td>NaN</td>\n      <td>NaN</td>\n      <td>NaN</td>\n      <td>NaN</td>\n    </tr>\n    <tr>\n      <th>3</th>\n      <td>00030710</td>\n      <td>2014-10-08</td>\n      <td>0.005921</td>\n      <td>0</td>\n      <td>0</td>\n      <td>0</td>\n      <td>0</td>\n      <td>0</td>\n      <td>0</td>\n      <td>178698.0</td>\n      <td>...</td>\n      <td>NaN</td>\n      <td>0.011624</td>\n      <td>NaN</td>\n      <td>NaN</td>\n      <td>NaN</td>\n      <td>NaN</td>\n      <td>NaN</td>\n      <td>NaN</td>\n      <td>NaN</td>\n      <td>NaN</td>\n    </tr>\n    <tr>\n      <th>4</th>\n      <td>00030710</td>\n      <td>2014-10-09</td>\n      <td>0.027839</td>\n      <td>0</td>\n      <td>0</td>\n      <td>0</td>\n      <td>0</td>\n      <td>0</td>\n      <td>0</td>\n      <td>178698.0</td>\n      <td>...</td>\n      <td>NaN</td>\n      <td>0.011624</td>\n      <td>NaN</td>\n      <td>NaN</td>\n      <td>NaN</td>\n      <td>NaN</td>\n      <td>NaN</td>\n      <td>NaN</td>\n      <td>NaN</td>\n      <td>NaN</td>\n    </tr>\n    <tr>\n      <th>...</th>\n      <td>...</td>\n      <td>...</td>\n      <td>...</td>\n      <td>...</td>\n      <td>...</td>\n      <td>...</td>\n      <td>...</td>\n      <td>...</td>\n      <td>...</td>\n      <td>...</td>\n      <td>...</td>\n      <td>...</td>\n      <td>...</td>\n      <td>...</td>\n      <td>...</td>\n      <td>...</td>\n      <td>...</td>\n      <td>...</td>\n      <td>...</td>\n      <td>...</td>\n      <td>...</td>\n    </tr>\n    <tr>\n      <th>9738065</th>\n      <td>V7780T10</td>\n      <td>2023-12-21</td>\n      <td>0.047159</td>\n      <td>0</td>\n      <td>0</td>\n      <td>0</td>\n      <td>0</td>\n      <td>0</td>\n      <td>0</td>\n      <td>28191.0</td>\n      <td>...</td>\n      <td>0.255918</td>\n      <td>-0.065298</td>\n      <td>2021-12-31</td>\n      <td>0.664304</td>\n      <td>NaN</td>\n      <td>NaN</td>\n      <td>NaN</td>\n      <td>NaN</td>\n      <td>NaN</td>\n      <td>NaN</td>\n    </tr>\n    <tr>\n      <th>9738066</th>\n      <td>V7780T10</td>\n      <td>2023-12-22</td>\n      <td>0.006924</td>\n      <td>0</td>\n      <td>0</td>\n      <td>0</td>\n      <td>0</td>\n      <td>0</td>\n      <td>0</td>\n      <td>28191.0</td>\n      <td>...</td>\n      <td>0.255918</td>\n      <td>-0.065298</td>\n      <td>2021-12-31</td>\n      <td>0.664304</td>\n      <td>NaN</td>\n      <td>NaN</td>\n      <td>NaN</td>\n      <td>NaN</td>\n      <td>NaN</td>\n      <td>NaN</td>\n    </tr>\n    <tr>\n      <th>9738067</th>\n      <td>V7780T10</td>\n      <td>2023-12-26</td>\n      <td>0.006082</td>\n      <td>0</td>\n      <td>0</td>\n      <td>0</td>\n      <td>0</td>\n      <td>0</td>\n      <td>0</td>\n      <td>28191.0</td>\n      <td>...</td>\n      <td>0.255918</td>\n      <td>-0.065298</td>\n      <td>2021-12-31</td>\n      <td>0.664304</td>\n      <td>NaN</td>\n      <td>NaN</td>\n      <td>NaN</td>\n      <td>NaN</td>\n      <td>NaN</td>\n      <td>NaN</td>\n    </tr>\n    <tr>\n      <th>9738068</th>\n      <td>V7780T10</td>\n      <td>2023-12-27</td>\n      <td>0.005795</td>\n      <td>0</td>\n      <td>0</td>\n      <td>0</td>\n      <td>0</td>\n      <td>0</td>\n      <td>0</td>\n      <td>28191.0</td>\n      <td>...</td>\n      <td>0.255918</td>\n      <td>-0.065298</td>\n      <td>2021-12-31</td>\n      <td>0.664304</td>\n      <td>NaN</td>\n      <td>NaN</td>\n      <td>NaN</td>\n      <td>NaN</td>\n      <td>NaN</td>\n      <td>NaN</td>\n    </tr>\n    <tr>\n      <th>9738069</th>\n      <td>V7780T10</td>\n      <td>2023-12-28</td>\n      <td>0.000852</td>\n      <td>0</td>\n      <td>0</td>\n      <td>0</td>\n      <td>0</td>\n      <td>0</td>\n      <td>0</td>\n      <td>28191.0</td>\n      <td>...</td>\n      <td>0.255918</td>\n      <td>-0.065298</td>\n      <td>2021-12-31</td>\n      <td>0.664304</td>\n      <td>NaN</td>\n      <td>NaN</td>\n      <td>NaN</td>\n      <td>NaN</td>\n      <td>NaN</td>\n      <td>NaN</td>\n    </tr>\n  </tbody>\n</table>\n<p>9738070 rows × 38 columns</p>\n</div>"
     },
     "execution_count": 40,
     "metadata": {},
     "output_type": "execute_result"
    },
    {
     "data": {
      "text/plain": "            cusip        date   CAR_0_1  material_flag  materiality_car_5  \\\n0        00030710  2014-10-03  0.032229              0                  0   \n1        00030710  2014-10-06  0.048207              0                  0   \n2        00030710  2014-10-07 -0.006582              0                  0   \n3        00030710  2014-10-08  0.005921              0                  0   \n4        00030710  2014-10-09  0.027839              0                  0   \n...           ...         ...       ...            ...                ...   \n9706565  V7780T10  2023-12-21  0.047159              0                  0   \n9706566  V7780T10  2023-12-22  0.006924              0                  0   \n9706567  V7780T10  2023-12-26  0.006082              0                  0   \n9706568  V7780T10  2023-12-27  0.005795              0                  0   \n9706569  V7780T10  2023-12-28  0.000852              0                  0   \n\n         materiality_reach  materiality_car_1  materiality_severity  incident  \\\n0                        0                  0                     0         0   \n1                        0                  0                     0         0   \n2                        0                  0                     0         0   \n3                        0                  0                     0         0   \n4                        0                  0                     0         0   \n...                    ...                ...                   ...       ...   \n9706565                  0                  0                     0         0   \n9706566                  0                  0                     0         0   \n9706567                  0                  0                     0         0   \n9706568                  0                  0                     0         0   \n9706569                  0                  0                     0         0   \n\n            gvkey  ...         btm  leverage  rd_intensity  ad_intensity  \\\n0        178698.0  ...  408.913043  0.696052           0.0           NaN   \n1        178698.0  ...  408.913043  0.696052           0.0           NaN   \n2        178698.0  ...  408.913043  0.696052           0.0           NaN   \n3        178698.0  ...  408.913043  0.696052           0.0           NaN   \n4        178698.0  ...  408.913043  0.696052           0.0           NaN   \n...           ...  ...         ...       ...           ...           ...   \n9706565   28191.0  ...    0.259525  0.842349           NaN      0.255918   \n9706566   28191.0  ...    0.259525  0.842349           NaN      0.255918   \n9706567   28191.0  ...    0.259525  0.842349           NaN      0.255918   \n9706568   28191.0  ...    0.259525  0.842349           NaN      0.255918   \n9706569   28191.0  ...    0.259525  0.842349           NaN      0.255918   \n\n              roa       rdate  InstOwn_Perc  incident_date  severity  reach  \n0        0.011624         NaN           NaN            NaN       NaN    NaN  \n1        0.011624         NaN           NaN            NaN       NaN    NaN  \n2        0.011624         NaN           NaN            NaN       NaN    NaN  \n3        0.011624         NaN           NaN            NaN       NaN    NaN  \n4        0.011624         NaN           NaN            NaN       NaN    NaN  \n...           ...         ...           ...            ...       ...    ...  \n9706565 -0.065298  2021-12-31      0.664304            NaN       NaN    NaN  \n9706566 -0.065298  2021-12-31      0.664304            NaN       NaN    NaN  \n9706567 -0.065298  2021-12-31      0.664304            NaN       NaN    NaN  \n9706568 -0.065298  2021-12-31      0.664304            NaN       NaN    NaN  \n9706569 -0.065298  2021-12-31      0.664304            NaN       NaN    NaN  \n\n[9706570 rows x 35 columns]",
      "text/html": "<div>\n<style scoped>\n    .dataframe tbody tr th:only-of-type {\n        vertical-align: middle;\n    }\n\n    .dataframe tbody tr th {\n        vertical-align: top;\n    }\n\n    .dataframe thead th {\n        text-align: right;\n    }\n</style>\n<table border=\"1\" class=\"dataframe\">\n  <thead>\n    <tr style=\"text-align: right;\">\n      <th></th>\n      <th>cusip</th>\n      <th>date</th>\n      <th>CAR_0_1</th>\n      <th>material_flag</th>\n      <th>materiality_car_5</th>\n      <th>materiality_reach</th>\n      <th>materiality_car_1</th>\n      <th>materiality_severity</th>\n      <th>incident</th>\n      <th>gvkey</th>\n      <th>...</th>\n      <th>btm</th>\n      <th>leverage</th>\n      <th>rd_intensity</th>\n      <th>ad_intensity</th>\n      <th>roa</th>\n      <th>rdate</th>\n      <th>InstOwn_Perc</th>\n      <th>incident_date</th>\n      <th>severity</th>\n      <th>reach</th>\n    </tr>\n  </thead>\n  <tbody>\n    <tr>\n      <th>0</th>\n      <td>00030710</td>\n      <td>2014-10-03</td>\n      <td>0.032229</td>\n      <td>0</td>\n      <td>0</td>\n      <td>0</td>\n      <td>0</td>\n      <td>0</td>\n      <td>0</td>\n      <td>178698.0</td>\n      <td>...</td>\n      <td>408.913043</td>\n      <td>0.696052</td>\n      <td>0.0</td>\n      <td>NaN</td>\n      <td>0.011624</td>\n      <td>NaN</td>\n      <td>NaN</td>\n      <td>NaN</td>\n      <td>NaN</td>\n      <td>NaN</td>\n    </tr>\n    <tr>\n      <th>1</th>\n      <td>00030710</td>\n      <td>2014-10-06</td>\n      <td>0.048207</td>\n      <td>0</td>\n      <td>0</td>\n      <td>0</td>\n      <td>0</td>\n      <td>0</td>\n      <td>0</td>\n      <td>178698.0</td>\n      <td>...</td>\n      <td>408.913043</td>\n      <td>0.696052</td>\n      <td>0.0</td>\n      <td>NaN</td>\n      <td>0.011624</td>\n      <td>NaN</td>\n      <td>NaN</td>\n      <td>NaN</td>\n      <td>NaN</td>\n      <td>NaN</td>\n    </tr>\n    <tr>\n      <th>2</th>\n      <td>00030710</td>\n      <td>2014-10-07</td>\n      <td>-0.006582</td>\n      <td>0</td>\n      <td>0</td>\n      <td>0</td>\n      <td>0</td>\n      <td>0</td>\n      <td>0</td>\n      <td>178698.0</td>\n      <td>...</td>\n      <td>408.913043</td>\n      <td>0.696052</td>\n      <td>0.0</td>\n      <td>NaN</td>\n      <td>0.011624</td>\n      <td>NaN</td>\n      <td>NaN</td>\n      <td>NaN</td>\n      <td>NaN</td>\n      <td>NaN</td>\n    </tr>\n    <tr>\n      <th>3</th>\n      <td>00030710</td>\n      <td>2014-10-08</td>\n      <td>0.005921</td>\n      <td>0</td>\n      <td>0</td>\n      <td>0</td>\n      <td>0</td>\n      <td>0</td>\n      <td>0</td>\n      <td>178698.0</td>\n      <td>...</td>\n      <td>408.913043</td>\n      <td>0.696052</td>\n      <td>0.0</td>\n      <td>NaN</td>\n      <td>0.011624</td>\n      <td>NaN</td>\n      <td>NaN</td>\n      <td>NaN</td>\n      <td>NaN</td>\n      <td>NaN</td>\n    </tr>\n    <tr>\n      <th>4</th>\n      <td>00030710</td>\n      <td>2014-10-09</td>\n      <td>0.027839</td>\n      <td>0</td>\n      <td>0</td>\n      <td>0</td>\n      <td>0</td>\n      <td>0</td>\n      <td>0</td>\n      <td>178698.0</td>\n      <td>...</td>\n      <td>408.913043</td>\n      <td>0.696052</td>\n      <td>0.0</td>\n      <td>NaN</td>\n      <td>0.011624</td>\n      <td>NaN</td>\n      <td>NaN</td>\n      <td>NaN</td>\n      <td>NaN</td>\n      <td>NaN</td>\n    </tr>\n    <tr>\n      <th>...</th>\n      <td>...</td>\n      <td>...</td>\n      <td>...</td>\n      <td>...</td>\n      <td>...</td>\n      <td>...</td>\n      <td>...</td>\n      <td>...</td>\n      <td>...</td>\n      <td>...</td>\n      <td>...</td>\n      <td>...</td>\n      <td>...</td>\n      <td>...</td>\n      <td>...</td>\n      <td>...</td>\n      <td>...</td>\n      <td>...</td>\n      <td>...</td>\n      <td>...</td>\n      <td>...</td>\n    </tr>\n    <tr>\n      <th>9706565</th>\n      <td>V7780T10</td>\n      <td>2023-12-21</td>\n      <td>0.047159</td>\n      <td>0</td>\n      <td>0</td>\n      <td>0</td>\n      <td>0</td>\n      <td>0</td>\n      <td>0</td>\n      <td>28191.0</td>\n      <td>...</td>\n      <td>0.259525</td>\n      <td>0.842349</td>\n      <td>NaN</td>\n      <td>0.255918</td>\n      <td>-0.065298</td>\n      <td>2021-12-31</td>\n      <td>0.664304</td>\n      <td>NaN</td>\n      <td>NaN</td>\n      <td>NaN</td>\n    </tr>\n    <tr>\n      <th>9706566</th>\n      <td>V7780T10</td>\n      <td>2023-12-22</td>\n      <td>0.006924</td>\n      <td>0</td>\n      <td>0</td>\n      <td>0</td>\n      <td>0</td>\n      <td>0</td>\n      <td>0</td>\n      <td>28191.0</td>\n      <td>...</td>\n      <td>0.259525</td>\n      <td>0.842349</td>\n      <td>NaN</td>\n      <td>0.255918</td>\n      <td>-0.065298</td>\n      <td>2021-12-31</td>\n      <td>0.664304</td>\n      <td>NaN</td>\n      <td>NaN</td>\n      <td>NaN</td>\n    </tr>\n    <tr>\n      <th>9706567</th>\n      <td>V7780T10</td>\n      <td>2023-12-26</td>\n      <td>0.006082</td>\n      <td>0</td>\n      <td>0</td>\n      <td>0</td>\n      <td>0</td>\n      <td>0</td>\n      <td>0</td>\n      <td>28191.0</td>\n      <td>...</td>\n      <td>0.259525</td>\n      <td>0.842349</td>\n      <td>NaN</td>\n      <td>0.255918</td>\n      <td>-0.065298</td>\n      <td>2021-12-31</td>\n      <td>0.664304</td>\n      <td>NaN</td>\n      <td>NaN</td>\n      <td>NaN</td>\n    </tr>\n    <tr>\n      <th>9706568</th>\n      <td>V7780T10</td>\n      <td>2023-12-27</td>\n      <td>0.005795</td>\n      <td>0</td>\n      <td>0</td>\n      <td>0</td>\n      <td>0</td>\n      <td>0</td>\n      <td>0</td>\n      <td>28191.0</td>\n      <td>...</td>\n      <td>0.259525</td>\n      <td>0.842349</td>\n      <td>NaN</td>\n      <td>0.255918</td>\n      <td>-0.065298</td>\n      <td>2021-12-31</td>\n      <td>0.664304</td>\n      <td>NaN</td>\n      <td>NaN</td>\n      <td>NaN</td>\n    </tr>\n    <tr>\n      <th>9706569</th>\n      <td>V7780T10</td>\n      <td>2023-12-28</td>\n      <td>0.000852</td>\n      <td>0</td>\n      <td>0</td>\n      <td>0</td>\n      <td>0</td>\n      <td>0</td>\n      <td>0</td>\n      <td>28191.0</td>\n      <td>...</td>\n      <td>0.259525</td>\n      <td>0.842349</td>\n      <td>NaN</td>\n      <td>0.255918</td>\n      <td>-0.065298</td>\n      <td>2021-12-31</td>\n      <td>0.664304</td>\n      <td>NaN</td>\n      <td>NaN</td>\n      <td>NaN</td>\n    </tr>\n  </tbody>\n</table>\n<p>9706570 rows × 35 columns</p>\n</div>"
     },
     "execution_count": 42,
     "metadata": {},
     "output_type": "execute_result"
    }
   ],
   "source": [
    "evt.to_csv('Output/events_ff3mom_daily.csv', index=False)"
   ],
   "metadata": {
    "collapsed": false
   }
  },
  {
   "cell_type": "code",
   "execution_count": 50,
   "outputs": [],
   "source": [
    "# Make unique lists\n",
    "cusips = pd.Series(final['cusip'].dropna().unique(), dtype=object).reset_index(drop=True)\n",
    "dates  = pd.to_datetime(final['incident_date'], errors='coerce') \\\n",
    "            .dropna().dt.strftime('%Y-%m-%d').drop_duplicates().sort_values().reset_index(drop=True)\n",
    "\n",
    "# Split dates into 4 nearly equal chunks (ceiling division without extra imports)\n",
    "n = len(dates)\n",
    "chunk_size = (n + 3) // 22  # ceil(n/4)\n",
    "\n",
    "for i in range(22):\n",
    "    start = i * chunk_size\n",
    "    end   = min((i + 1) * chunk_size, n)\n",
    "    dchunk = dates[start:end]\n",
    "\n",
    "    out_path = f\"data/events_cusip_dates_part{i+1}.txt\"\n",
    "    with open(out_path, 'w', encoding='utf-8') as f:\n",
    "        for d in dchunk:\n",
    "            f.write('\\n'.join(f\"{c} {d}\" for c in cusips))\n",
    "            f.write('\\n')\n",
    "\n",
    "    print(f\"part{i+1}: {len(cusips)} × {len(dchunk)} = {len(cusips)*len(dchunk)} lines -> {out_path}\")\n"
   ],
   "metadata": {
    "collapsed": false,
    "ExecuteTime": {
     "end_time": "2025-10-21T20:49:15.412040500Z",
     "start_time": "2025-10-21T20:48:57.674891900Z"
    }
   }
  },
  {
   "cell_type": "code",
   "execution_count": 51,
   "outputs": [
    {
     "data": {
      "text/plain": "            cusip       date   CAR_0_1  material_flag  materiality_car_5  \\\n0        00030710 2014-10-03  0.032229              0                  0   \n1        00030710 2014-10-06  0.048207              0                  0   \n2        00030710 2014-10-07 -0.006582              0                  0   \n3        00030710 2014-10-08  0.005921              0                  0   \n4        00030710 2014-10-09  0.027839              0                  0   \n...           ...        ...       ...            ...                ...   \n9738065  V7780T10 2023-12-21  0.047159              0                  0   \n9738066  V7780T10 2023-12-22  0.006924              0                  0   \n9738067  V7780T10 2023-12-26  0.006082              0                  0   \n9738068  V7780T10 2023-12-27  0.005795              0                  0   \n9738069  V7780T10 2023-12-28  0.000852              0                  0   \n\n         materiality_reach  materiality_car_1  materiality_severity  incident  \\\n0                        0                  0                     0         0   \n1                        0                  0                     0         0   \n2                        0                  0                     0         0   \n3                        0                  0                     0         0   \n4                        0                  0                     0         0   \n...                    ...                ...                   ...       ...   \n9738065                  0                  0                     0         0   \n9738066                  0                  0                     0         0   \n9738067                  0                  0                     0         0   \n9738068                  0                  0                     0         0   \n9738069                  0                  0                     0         0   \n\n            gvkey  ... InstOwn_Perc incident_date  severity  reach  \\\n0        178698.0  ...          NaN           NaN       NaN    NaN   \n1        178698.0  ...          NaN           NaN       NaN    NaN   \n2        178698.0  ...          NaN           NaN       NaN    NaN   \n3        178698.0  ...          NaN           NaN       NaN    NaN   \n4        178698.0  ...          NaN           NaN       NaN    NaN   \n...           ...  ...          ...           ...       ...    ...   \n9738065   28191.0  ...     0.664304           NaN       NaN    NaN   \n9738066   28191.0  ...     0.664304           NaN       NaN    NaN   \n9738067   28191.0  ...     0.664304           NaN       NaN    NaN   \n9738068   28191.0  ...     0.664304           NaN       NaN    NaN   \n9738069   28191.0  ...     0.664304           NaN       NaN    NaN   \n\n         peer_severity3  peer_reach3  top_quintile_industry  \\\n0                     0            0                      0   \n1                     0            0                      0   \n2                     0            0                      0   \n3                     0            0                      0   \n4                     0            0                      0   \n...                 ...          ...                    ...   \n9738065               0            0                      0   \n9738066               0            0                      0   \n9738067               0            0                      0   \n9738068               0            0                      0   \n9738069               0            0                      0   \n\n         top_decile_industry  top_quintile  top_decile  \n0                          0             0           0  \n1                          0             0           0  \n2                          0             0           0  \n3                          0             0           0  \n4                          0             0           0  \n...                      ...           ...         ...  \n9738065                    0             0           0  \n9738066                    0             0           0  \n9738067                    0             0           0  \n9738068                    0             0           0  \n9738069                    0             0           0  \n\n[9738070 rows x 41 columns]",
      "text/html": "<div>\n<style scoped>\n    .dataframe tbody tr th:only-of-type {\n        vertical-align: middle;\n    }\n\n    .dataframe tbody tr th {\n        vertical-align: top;\n    }\n\n    .dataframe thead th {\n        text-align: right;\n    }\n</style>\n<table border=\"1\" class=\"dataframe\">\n  <thead>\n    <tr style=\"text-align: right;\">\n      <th></th>\n      <th>cusip</th>\n      <th>date</th>\n      <th>CAR_0_1</th>\n      <th>material_flag</th>\n      <th>materiality_car_5</th>\n      <th>materiality_reach</th>\n      <th>materiality_car_1</th>\n      <th>materiality_severity</th>\n      <th>incident</th>\n      <th>gvkey</th>\n      <th>...</th>\n      <th>InstOwn_Perc</th>\n      <th>incident_date</th>\n      <th>severity</th>\n      <th>reach</th>\n      <th>peer_severity3</th>\n      <th>peer_reach3</th>\n      <th>top_quintile_industry</th>\n      <th>top_decile_industry</th>\n      <th>top_quintile</th>\n      <th>top_decile</th>\n    </tr>\n  </thead>\n  <tbody>\n    <tr>\n      <th>0</th>\n      <td>00030710</td>\n      <td>2014-10-03</td>\n      <td>0.032229</td>\n      <td>0</td>\n      <td>0</td>\n      <td>0</td>\n      <td>0</td>\n      <td>0</td>\n      <td>0</td>\n      <td>178698.0</td>\n      <td>...</td>\n      <td>NaN</td>\n      <td>NaN</td>\n      <td>NaN</td>\n      <td>NaN</td>\n      <td>0</td>\n      <td>0</td>\n      <td>0</td>\n      <td>0</td>\n      <td>0</td>\n      <td>0</td>\n    </tr>\n    <tr>\n      <th>1</th>\n      <td>00030710</td>\n      <td>2014-10-06</td>\n      <td>0.048207</td>\n      <td>0</td>\n      <td>0</td>\n      <td>0</td>\n      <td>0</td>\n      <td>0</td>\n      <td>0</td>\n      <td>178698.0</td>\n      <td>...</td>\n      <td>NaN</td>\n      <td>NaN</td>\n      <td>NaN</td>\n      <td>NaN</td>\n      <td>0</td>\n      <td>0</td>\n      <td>0</td>\n      <td>0</td>\n      <td>0</td>\n      <td>0</td>\n    </tr>\n    <tr>\n      <th>2</th>\n      <td>00030710</td>\n      <td>2014-10-07</td>\n      <td>-0.006582</td>\n      <td>0</td>\n      <td>0</td>\n      <td>0</td>\n      <td>0</td>\n      <td>0</td>\n      <td>0</td>\n      <td>178698.0</td>\n      <td>...</td>\n      <td>NaN</td>\n      <td>NaN</td>\n      <td>NaN</td>\n      <td>NaN</td>\n      <td>0</td>\n      <td>0</td>\n      <td>0</td>\n      <td>0</td>\n      <td>0</td>\n      <td>0</td>\n    </tr>\n    <tr>\n      <th>3</th>\n      <td>00030710</td>\n      <td>2014-10-08</td>\n      <td>0.005921</td>\n      <td>0</td>\n      <td>0</td>\n      <td>0</td>\n      <td>0</td>\n      <td>0</td>\n      <td>0</td>\n      <td>178698.0</td>\n      <td>...</td>\n      <td>NaN</td>\n      <td>NaN</td>\n      <td>NaN</td>\n      <td>NaN</td>\n      <td>0</td>\n      <td>0</td>\n      <td>0</td>\n      <td>0</td>\n      <td>0</td>\n      <td>0</td>\n    </tr>\n    <tr>\n      <th>4</th>\n      <td>00030710</td>\n      <td>2014-10-09</td>\n      <td>0.027839</td>\n      <td>0</td>\n      <td>0</td>\n      <td>0</td>\n      <td>0</td>\n      <td>0</td>\n      <td>0</td>\n      <td>178698.0</td>\n      <td>...</td>\n      <td>NaN</td>\n      <td>NaN</td>\n      <td>NaN</td>\n      <td>NaN</td>\n      <td>0</td>\n      <td>0</td>\n      <td>0</td>\n      <td>0</td>\n      <td>0</td>\n      <td>0</td>\n    </tr>\n    <tr>\n      <th>...</th>\n      <td>...</td>\n      <td>...</td>\n      <td>...</td>\n      <td>...</td>\n      <td>...</td>\n      <td>...</td>\n      <td>...</td>\n      <td>...</td>\n      <td>...</td>\n      <td>...</td>\n      <td>...</td>\n      <td>...</td>\n      <td>...</td>\n      <td>...</td>\n      <td>...</td>\n      <td>...</td>\n      <td>...</td>\n      <td>...</td>\n      <td>...</td>\n      <td>...</td>\n      <td>...</td>\n    </tr>\n    <tr>\n      <th>9738065</th>\n      <td>V7780T10</td>\n      <td>2023-12-21</td>\n      <td>0.047159</td>\n      <td>0</td>\n      <td>0</td>\n      <td>0</td>\n      <td>0</td>\n      <td>0</td>\n      <td>0</td>\n      <td>28191.0</td>\n      <td>...</td>\n      <td>0.664304</td>\n      <td>NaN</td>\n      <td>NaN</td>\n      <td>NaN</td>\n      <td>0</td>\n      <td>0</td>\n      <td>0</td>\n      <td>0</td>\n      <td>0</td>\n      <td>0</td>\n    </tr>\n    <tr>\n      <th>9738066</th>\n      <td>V7780T10</td>\n      <td>2023-12-22</td>\n      <td>0.006924</td>\n      <td>0</td>\n      <td>0</td>\n      <td>0</td>\n      <td>0</td>\n      <td>0</td>\n      <td>0</td>\n      <td>28191.0</td>\n      <td>...</td>\n      <td>0.664304</td>\n      <td>NaN</td>\n      <td>NaN</td>\n      <td>NaN</td>\n      <td>0</td>\n      <td>0</td>\n      <td>0</td>\n      <td>0</td>\n      <td>0</td>\n      <td>0</td>\n    </tr>\n    <tr>\n      <th>9738067</th>\n      <td>V7780T10</td>\n      <td>2023-12-26</td>\n      <td>0.006082</td>\n      <td>0</td>\n      <td>0</td>\n      <td>0</td>\n      <td>0</td>\n      <td>0</td>\n      <td>0</td>\n      <td>28191.0</td>\n      <td>...</td>\n      <td>0.664304</td>\n      <td>NaN</td>\n      <td>NaN</td>\n      <td>NaN</td>\n      <td>0</td>\n      <td>0</td>\n      <td>0</td>\n      <td>0</td>\n      <td>0</td>\n      <td>0</td>\n    </tr>\n    <tr>\n      <th>9738068</th>\n      <td>V7780T10</td>\n      <td>2023-12-27</td>\n      <td>0.005795</td>\n      <td>0</td>\n      <td>0</td>\n      <td>0</td>\n      <td>0</td>\n      <td>0</td>\n      <td>0</td>\n      <td>28191.0</td>\n      <td>...</td>\n      <td>0.664304</td>\n      <td>NaN</td>\n      <td>NaN</td>\n      <td>NaN</td>\n      <td>0</td>\n      <td>0</td>\n      <td>0</td>\n      <td>0</td>\n      <td>0</td>\n      <td>0</td>\n    </tr>\n    <tr>\n      <th>9738069</th>\n      <td>V7780T10</td>\n      <td>2023-12-28</td>\n      <td>0.000852</td>\n      <td>0</td>\n      <td>0</td>\n      <td>0</td>\n      <td>0</td>\n      <td>0</td>\n      <td>0</td>\n      <td>28191.0</td>\n      <td>...</td>\n      <td>0.664304</td>\n      <td>NaN</td>\n      <td>NaN</td>\n      <td>NaN</td>\n      <td>0</td>\n      <td>0</td>\n      <td>0</td>\n      <td>0</td>\n      <td>0</td>\n      <td>0</td>\n    </tr>\n  </tbody>\n</table>\n<p>9738070 rows × 41 columns</p>\n</div>"
     },
     "execution_count": 51,
     "metadata": {},
     "output_type": "execute_result"
    }
   ],
   "source": [
    "print(final['cusip'].nunique())\n",
    "print(final['incident_date'].nunique())"
   ],
   "metadata": {
    "collapsed": false,
    "ExecuteTime": {
     "end_time": "2025-10-21T20:49:56.513056700Z",
     "start_time": "2025-10-21T20:49:15.412040500Z"
    }
   }
  },
  {
   "cell_type": "markdown",
   "source": [
    "# 3. Aggregate on industry level"
   ],
   "metadata": {
    "collapsed": false,
    "ExecuteTime": {
     "end_time": "2025-10-21T21:01:14.867118500Z",
     "start_time": "2025-10-21T20:55:08.910041200Z"
    }
   },
   "outputs": [],
   "execution_count": 52
  },
  {
   "cell_type": "code",
   "execution_count": 17,
   "outputs": [
    {
     "data": {
      "text/plain": "             gvkey YearMonth  n_material  n_nonmaterial  n_car_1_material  \\\n0           1004.0   2007-01           0              0                 0   \n1           1004.0   2007-02           0              0                 0   \n2           1004.0   2007-03           0              0                 0   \n3           1004.0   2007-04           0              0                 0   \n4           1004.0   2007-05           0              0                 0   \n...            ...       ...         ...            ...               ...   \n10643287  367496.0   2023-08           0              0                 0   \n10643288  367496.0   2023-09           0              0                 0   \n10643289  367496.0   2023-10           0              0                 0   \n10643290  367496.0   2023-11           0              0                 0   \n10643291  367496.0   2023-12           0              0                 0   \n\n          n_car_5_material  n_reach_material  n_severity_material      cusip  \\\n0                        0                 0                    0  000361105   \n1                        0                 0                    0  000361105   \n2                        0                 0                    0  000361105   \n3                        0                 0                    0  000361105   \n4                        0                 0                    0  000361105   \n...                    ...               ...                  ...        ...   \n10643287                 0                 0                    0        NaN   \n10643288                 0                 0                    0        NaN   \n10643289                 0                 0                    0        NaN   \n10643290                 0                 0                    0        NaN   \n10643291                 0                 0                    0        NaN   \n\n               SICS Codified Industry     Codified SICS Sector   \n0         Industrial Machinery & Goods  Resource Transformation  \n1         Industrial Machinery & Goods  Resource Transformation  \n2         Industrial Machinery & Goods  Resource Transformation  \n3         Industrial Machinery & Goods  Resource Transformation  \n4         Industrial Machinery & Goods  Resource Transformation  \n...                                ...                      ...  \n10643287                   Real Estate           Infrastructure  \n10643288                   Real Estate           Infrastructure  \n10643289                   Real Estate           Infrastructure  \n10643290                   Real Estate           Infrastructure  \n10643291                   Real Estate           Infrastructure  \n\n[10643292 rows x 11 columns]",
      "text/html": "<div>\n<style scoped>\n    .dataframe tbody tr th:only-of-type {\n        vertical-align: middle;\n    }\n\n    .dataframe tbody tr th {\n        vertical-align: top;\n    }\n\n    .dataframe thead th {\n        text-align: right;\n    }\n</style>\n<table border=\"1\" class=\"dataframe\">\n  <thead>\n    <tr style=\"text-align: right;\">\n      <th></th>\n      <th>gvkey</th>\n      <th>YearMonth</th>\n      <th>n_material</th>\n      <th>n_nonmaterial</th>\n      <th>n_car_1_material</th>\n      <th>n_car_5_material</th>\n      <th>n_reach_material</th>\n      <th>n_severity_material</th>\n      <th>cusip</th>\n      <th>SICS Codified Industry</th>\n      <th>Codified SICS Sector</th>\n    </tr>\n  </thead>\n  <tbody>\n    <tr>\n      <th>0</th>\n      <td>1004.0</td>\n      <td>2007-01</td>\n      <td>0</td>\n      <td>0</td>\n      <td>0</td>\n      <td>0</td>\n      <td>0</td>\n      <td>0</td>\n      <td>000361105</td>\n      <td>Industrial Machinery &amp; Goods</td>\n      <td>Resource Transformation</td>\n    </tr>\n    <tr>\n      <th>1</th>\n      <td>1004.0</td>\n      <td>2007-02</td>\n      <td>0</td>\n      <td>0</td>\n      <td>0</td>\n      <td>0</td>\n      <td>0</td>\n      <td>0</td>\n      <td>000361105</td>\n      <td>Industrial Machinery &amp; Goods</td>\n      <td>Resource Transformation</td>\n    </tr>\n    <tr>\n      <th>2</th>\n      <td>1004.0</td>\n      <td>2007-03</td>\n      <td>0</td>\n      <td>0</td>\n      <td>0</td>\n      <td>0</td>\n      <td>0</td>\n      <td>0</td>\n      <td>000361105</td>\n      <td>Industrial Machinery &amp; Goods</td>\n      <td>Resource Transformation</td>\n    </tr>\n    <tr>\n      <th>3</th>\n      <td>1004.0</td>\n      <td>2007-04</td>\n      <td>0</td>\n      <td>0</td>\n      <td>0</td>\n      <td>0</td>\n      <td>0</td>\n      <td>0</td>\n      <td>000361105</td>\n      <td>Industrial Machinery &amp; Goods</td>\n      <td>Resource Transformation</td>\n    </tr>\n    <tr>\n      <th>4</th>\n      <td>1004.0</td>\n      <td>2007-05</td>\n      <td>0</td>\n      <td>0</td>\n      <td>0</td>\n      <td>0</td>\n      <td>0</td>\n      <td>0</td>\n      <td>000361105</td>\n      <td>Industrial Machinery &amp; Goods</td>\n      <td>Resource Transformation</td>\n    </tr>\n    <tr>\n      <th>...</th>\n      <td>...</td>\n      <td>...</td>\n      <td>...</td>\n      <td>...</td>\n      <td>...</td>\n      <td>...</td>\n      <td>...</td>\n      <td>...</td>\n      <td>...</td>\n      <td>...</td>\n      <td>...</td>\n    </tr>\n    <tr>\n      <th>10643287</th>\n      <td>367496.0</td>\n      <td>2023-08</td>\n      <td>0</td>\n      <td>0</td>\n      <td>0</td>\n      <td>0</td>\n      <td>0</td>\n      <td>0</td>\n      <td>NaN</td>\n      <td>Real Estate</td>\n      <td>Infrastructure</td>\n    </tr>\n    <tr>\n      <th>10643288</th>\n      <td>367496.0</td>\n      <td>2023-09</td>\n      <td>0</td>\n      <td>0</td>\n      <td>0</td>\n      <td>0</td>\n      <td>0</td>\n      <td>0</td>\n      <td>NaN</td>\n      <td>Real Estate</td>\n      <td>Infrastructure</td>\n    </tr>\n    <tr>\n      <th>10643289</th>\n      <td>367496.0</td>\n      <td>2023-10</td>\n      <td>0</td>\n      <td>0</td>\n      <td>0</td>\n      <td>0</td>\n      <td>0</td>\n      <td>0</td>\n      <td>NaN</td>\n      <td>Real Estate</td>\n      <td>Infrastructure</td>\n    </tr>\n    <tr>\n      <th>10643290</th>\n      <td>367496.0</td>\n      <td>2023-11</td>\n      <td>0</td>\n      <td>0</td>\n      <td>0</td>\n      <td>0</td>\n      <td>0</td>\n      <td>0</td>\n      <td>NaN</td>\n      <td>Real Estate</td>\n      <td>Infrastructure</td>\n    </tr>\n    <tr>\n      <th>10643291</th>\n      <td>367496.0</td>\n      <td>2023-12</td>\n      <td>0</td>\n      <td>0</td>\n      <td>0</td>\n      <td>0</td>\n      <td>0</td>\n      <td>0</td>\n      <td>NaN</td>\n      <td>Real Estate</td>\n      <td>Infrastructure</td>\n    </tr>\n  </tbody>\n</table>\n<p>10643292 rows × 11 columns</p>\n</div>"
     },
     "execution_count": 17,
     "metadata": {},
     "output_type": "execute_result"
    }
   ],
   "source": [
    "df = final.copy()\n",
    "\n",
    "\n",
    "# Coerce flags to numeric and treat missing as 0\n",
    "flag_cols = [\n",
    "    'material_flag',\n",
    "    'materiality_car_1', 'materiality_car_5', 'materiality_reach', 'materiality_severity'\n",
    "]\n",
    "df[flag_cols] = df[flag_cols].apply(pd.to_numeric, errors='coerce').fillna(0)\n",
    "\n",
    "key = [\"gvkey\", \"YearMonth\"]\n",
    "\n",
    "# 1) Aggregate incidents per firm-quarter\n",
    "agg_fq = (\n",
    "    df.groupby(key, dropna=False)\n",
    "      .agg(\n",
    "          n_material          = ('material_flag',         lambda s: (s == 1).sum()),\n",
    "          n_nonmaterial       = ('material_flag',         lambda s: (s == 0).sum()),\n",
    "          n_car_1_material    = ('materiality_car_1',     lambda s: (s == 1).sum()),\n",
    "          n_car_5_material    = ('materiality_car_5',     lambda s: (s == 1).sum()),\n",
    "          n_reach_material    = ('materiality_reach',     lambda s: (s == 1).sum()),\n",
    "          n_severity_material = ('materiality_severity',  lambda s: (s == 1).sum()),\n",
    "      )\n",
    "      .reset_index()\n",
    ")\n",
    "\n",
    "# 2) Build the BALANCED universe = all firms × all quarters (global min..max)\n",
    "firms = (\n",
    "    df['gvkey']\n",
    "    .dropna()\n",
    "    .unique()\n",
    ")\n",
    "qmin = df['YearMonth'].min()\n",
    "qmax = df['YearMonth'].max()\n",
    "quarters = pd.period_range(qmin, qmax, freq='M')\n",
    "\n",
    "balanced_idx = pd.MultiIndex.from_product([firms, quarters], names=key)\n",
    "balanced_universe = pd.DataFrame(index=balanced_idx).reset_index()\n",
    "\n",
    "# 3) Merge counts onto balanced universe and fill missing with zeros\n",
    "reprisk = (\n",
    "    balanced_universe\n",
    "      .merge(agg_fq, on=key, how='left')\n",
    "      .fillna(0)\n",
    "      .sort_values(key)\n",
    "      .reset_index(drop=True)\n",
    ")\n",
    "\n",
    "# 4) Cast counts to ints\n",
    "count_cols = [\n",
    "    'n_material','n_nonmaterial','n_car_1_material','n_car_5_material','n_reach_material','n_severity_material'\n",
    "]\n",
    "reprisk[count_cols] = reprisk[count_cols].astype('int16')\n",
    "\n",
    "reprisk"
   ],
   "metadata": {
    "collapsed": false,
    "ExecuteTime": {
     "end_time": "2025-10-18T15:14:20.773095Z",
     "start_time": "2025-10-18T15:14:18.541626400Z"
    }
   }
  },
  {
   "cell_type": "code",
   "execution_count": 18,
   "outputs": [],
   "source": [
    "reprisk_merged = reprisk.merge(reprisk_incidents[['gvkey', 'cusip', 'SICS Codified Industry ', 'Codified SICS Sector ']].drop_duplicates(), on='gvkey', how='left')\n",
    "reprisk_merged"
   ],
   "metadata": {
    "collapsed": false,
    "ExecuteTime": {
     "end_time": "2025-10-18T15:15:05.900822500Z",
     "start_time": "2025-10-18T15:15:04.723899900Z"
    }
   }
  },
  {
   "cell_type": "code",
   "execution_count": 19,
   "outputs": [
    {
     "data": {
      "text/plain": "             gvkey YearMonth  n_material  n_nonmaterial  n_car_1_material  \\\n0           1004.0   2007-01           0              0                 0   \n1           1004.0   2007-02           0              0                 0   \n2           1004.0   2007-03           0              0                 0   \n3           1004.0   2007-04           0              0                 0   \n4           1004.0   2007-05           0              0                 0   \n...            ...       ...         ...            ...               ...   \n10643287  367496.0   2023-08           0              0                 0   \n10643288  367496.0   2023-09           0              0                 0   \n10643289  367496.0   2023-10           0              0                 0   \n10643290  367496.0   2023-11           0              0                 0   \n10643291  367496.0   2023-12           0              0                 0   \n\n          n_car_5_material  n_reach_material  n_severity_material      cusip  \\\n0                        0                 0                    0  000361105   \n1                        0                 0                    0  000361105   \n2                        0                 0                    0  000361105   \n3                        0                 0                    0  000361105   \n4                        0                 0                    0  000361105   \n...                    ...               ...                  ...        ...   \n10643287                 0                 0                    0        NaN   \n10643288                 0                 0                    0        NaN   \n10643289                 0                 0                    0        NaN   \n10643290                 0                 0                    0        NaN   \n10643291                 0                 0                    0        NaN   \n\n               SICS Codified Industry     Codified SICS Sector   year  \\\n0         Industrial Machinery & Goods  Resource Transformation  2007   \n1         Industrial Machinery & Goods  Resource Transformation  2007   \n2         Industrial Machinery & Goods  Resource Transformation  2007   \n3         Industrial Machinery & Goods  Resource Transformation  2007   \n4         Industrial Machinery & Goods  Resource Transformation  2007   \n...                                ...                      ...   ...   \n10643287                   Real Estate           Infrastructure  2023   \n10643288                   Real Estate           Infrastructure  2023   \n10643289                   Real Estate           Infrastructure  2023   \n10643290                   Real Estate           Infrastructure  2023   \n10643291                   Real Estate           Infrastructure  2023   \n\n          industry_n_material  industry_n_car_1_material  \\\n0                           1                          0   \n1                           0                          2   \n2                           1                          1   \n3                           1                          0   \n4                           0                          1   \n...                       ...                        ...   \n10643287                    3                          3   \n10643288                    2                          6   \n10643289                    3                          8   \n10643290                    3                          3   \n10643291                    2                          5   \n\n          industry_n_car_5_material  industry_n_reach_material  \\\n0                                 0                          5   \n1                                 2                          7   \n2                                 1                          6   \n3                                 0                          7   \n4                                 1                          8   \n...                             ...                        ...   \n10643287                         10                         10   \n10643288                         17                         17   \n10643289                         16                         16   \n10643290                         23                         23   \n10643291                         16                         16   \n\n          industry_n_severity_material  \n0                                    5  \n1                                    7  \n2                                    6  \n3                                    7  \n4                                    9  \n...                                ...  \n10643287                            10  \n10643288                            17  \n10643289                            16  \n10643290                            23  \n10643291                            16  \n\n[10643292 rows x 17 columns]",
      "text/html": "<div>\n<style scoped>\n    .dataframe tbody tr th:only-of-type {\n        vertical-align: middle;\n    }\n\n    .dataframe tbody tr th {\n        vertical-align: top;\n    }\n\n    .dataframe thead th {\n        text-align: right;\n    }\n</style>\n<table border=\"1\" class=\"dataframe\">\n  <thead>\n    <tr style=\"text-align: right;\">\n      <th></th>\n      <th>gvkey</th>\n      <th>YearMonth</th>\n      <th>n_material</th>\n      <th>n_nonmaterial</th>\n      <th>n_car_1_material</th>\n      <th>n_car_5_material</th>\n      <th>n_reach_material</th>\n      <th>n_severity_material</th>\n      <th>cusip</th>\n      <th>SICS Codified Industry</th>\n      <th>Codified SICS Sector</th>\n      <th>year</th>\n      <th>industry_n_material</th>\n      <th>industry_n_car_1_material</th>\n      <th>industry_n_car_5_material</th>\n      <th>industry_n_reach_material</th>\n      <th>industry_n_severity_material</th>\n    </tr>\n  </thead>\n  <tbody>\n    <tr>\n      <th>0</th>\n      <td>1004.0</td>\n      <td>2007-01</td>\n      <td>0</td>\n      <td>0</td>\n      <td>0</td>\n      <td>0</td>\n      <td>0</td>\n      <td>0</td>\n      <td>000361105</td>\n      <td>Industrial Machinery &amp; Goods</td>\n      <td>Resource Transformation</td>\n      <td>2007</td>\n      <td>1</td>\n      <td>0</td>\n      <td>0</td>\n      <td>5</td>\n      <td>5</td>\n    </tr>\n    <tr>\n      <th>1</th>\n      <td>1004.0</td>\n      <td>2007-02</td>\n      <td>0</td>\n      <td>0</td>\n      <td>0</td>\n      <td>0</td>\n      <td>0</td>\n      <td>0</td>\n      <td>000361105</td>\n      <td>Industrial Machinery &amp; Goods</td>\n      <td>Resource Transformation</td>\n      <td>2007</td>\n      <td>0</td>\n      <td>2</td>\n      <td>2</td>\n      <td>7</td>\n      <td>7</td>\n    </tr>\n    <tr>\n      <th>2</th>\n      <td>1004.0</td>\n      <td>2007-03</td>\n      <td>0</td>\n      <td>0</td>\n      <td>0</td>\n      <td>0</td>\n      <td>0</td>\n      <td>0</td>\n      <td>000361105</td>\n      <td>Industrial Machinery &amp; Goods</td>\n      <td>Resource Transformation</td>\n      <td>2007</td>\n      <td>1</td>\n      <td>1</td>\n      <td>1</td>\n      <td>6</td>\n      <td>6</td>\n    </tr>\n    <tr>\n      <th>3</th>\n      <td>1004.0</td>\n      <td>2007-04</td>\n      <td>0</td>\n      <td>0</td>\n      <td>0</td>\n      <td>0</td>\n      <td>0</td>\n      <td>0</td>\n      <td>000361105</td>\n      <td>Industrial Machinery &amp; Goods</td>\n      <td>Resource Transformation</td>\n      <td>2007</td>\n      <td>1</td>\n      <td>0</td>\n      <td>0</td>\n      <td>7</td>\n      <td>7</td>\n    </tr>\n    <tr>\n      <th>4</th>\n      <td>1004.0</td>\n      <td>2007-05</td>\n      <td>0</td>\n      <td>0</td>\n      <td>0</td>\n      <td>0</td>\n      <td>0</td>\n      <td>0</td>\n      <td>000361105</td>\n      <td>Industrial Machinery &amp; Goods</td>\n      <td>Resource Transformation</td>\n      <td>2007</td>\n      <td>0</td>\n      <td>1</td>\n      <td>1</td>\n      <td>8</td>\n      <td>9</td>\n    </tr>\n    <tr>\n      <th>...</th>\n      <td>...</td>\n      <td>...</td>\n      <td>...</td>\n      <td>...</td>\n      <td>...</td>\n      <td>...</td>\n      <td>...</td>\n      <td>...</td>\n      <td>...</td>\n      <td>...</td>\n      <td>...</td>\n      <td>...</td>\n      <td>...</td>\n      <td>...</td>\n      <td>...</td>\n      <td>...</td>\n      <td>...</td>\n    </tr>\n    <tr>\n      <th>10643287</th>\n      <td>367496.0</td>\n      <td>2023-08</td>\n      <td>0</td>\n      <td>0</td>\n      <td>0</td>\n      <td>0</td>\n      <td>0</td>\n      <td>0</td>\n      <td>NaN</td>\n      <td>Real Estate</td>\n      <td>Infrastructure</td>\n      <td>2023</td>\n      <td>3</td>\n      <td>3</td>\n      <td>10</td>\n      <td>10</td>\n      <td>10</td>\n    </tr>\n    <tr>\n      <th>10643288</th>\n      <td>367496.0</td>\n      <td>2023-09</td>\n      <td>0</td>\n      <td>0</td>\n      <td>0</td>\n      <td>0</td>\n      <td>0</td>\n      <td>0</td>\n      <td>NaN</td>\n      <td>Real Estate</td>\n      <td>Infrastructure</td>\n      <td>2023</td>\n      <td>2</td>\n      <td>6</td>\n      <td>17</td>\n      <td>17</td>\n      <td>17</td>\n    </tr>\n    <tr>\n      <th>10643289</th>\n      <td>367496.0</td>\n      <td>2023-10</td>\n      <td>0</td>\n      <td>0</td>\n      <td>0</td>\n      <td>0</td>\n      <td>0</td>\n      <td>0</td>\n      <td>NaN</td>\n      <td>Real Estate</td>\n      <td>Infrastructure</td>\n      <td>2023</td>\n      <td>3</td>\n      <td>8</td>\n      <td>16</td>\n      <td>16</td>\n      <td>16</td>\n    </tr>\n    <tr>\n      <th>10643290</th>\n      <td>367496.0</td>\n      <td>2023-11</td>\n      <td>0</td>\n      <td>0</td>\n      <td>0</td>\n      <td>0</td>\n      <td>0</td>\n      <td>0</td>\n      <td>NaN</td>\n      <td>Real Estate</td>\n      <td>Infrastructure</td>\n      <td>2023</td>\n      <td>3</td>\n      <td>3</td>\n      <td>23</td>\n      <td>23</td>\n      <td>23</td>\n    </tr>\n    <tr>\n      <th>10643291</th>\n      <td>367496.0</td>\n      <td>2023-12</td>\n      <td>0</td>\n      <td>0</td>\n      <td>0</td>\n      <td>0</td>\n      <td>0</td>\n      <td>0</td>\n      <td>NaN</td>\n      <td>Real Estate</td>\n      <td>Infrastructure</td>\n      <td>2023</td>\n      <td>2</td>\n      <td>5</td>\n      <td>16</td>\n      <td>16</td>\n      <td>16</td>\n    </tr>\n  </tbody>\n</table>\n<p>10643292 rows × 17 columns</p>\n</div>"
     },
     "execution_count": 19,
     "metadata": {},
     "output_type": "execute_result"
    }
   ],
   "source": [
    "reprisk_merged['year'] = reprisk_merged['YearMonth'].dt.year"
   ],
   "metadata": {
    "collapsed": false,
    "ExecuteTime": {
     "end_time": "2025-10-18T15:15:15.556297900Z",
     "start_time": "2025-10-18T15:15:10.587260200Z"
    }
   }
  },
  {
   "cell_type": "code",
   "execution_count": 20,
   "outputs": [
    {
     "data": {
      "text/plain": "             gvkey YearMonth  n_material  n_nonmaterial  n_car_1_material  \\\n0           1004.0   2007-01           0              0                 0   \n1           1004.0   2007-02           0              0                 0   \n2           1004.0   2007-03           0              0                 0   \n3           1004.0   2007-04           0              0                 0   \n4           1004.0   2007-05           0              0                 0   \n...            ...       ...         ...            ...               ...   \n10543939  356128.0   2023-08           0              0                 0   \n10543940  356128.0   2023-09           0              0                 0   \n10543941  356128.0   2023-10           0              0                 0   \n10543942  356128.0   2023-11           0              0                 0   \n10543943  356128.0   2023-12           0              0                 0   \n\n          n_car_5_material  n_reach_material  n_severity_material      cusip  \\\n0                        0                 0                    0  000361105   \n1                        0                 0                    0  000361105   \n2                        0                 0                    0  000361105   \n3                        0                 0                    0  000361105   \n4                        0                 0                    0  000361105   \n...                    ...               ...                  ...        ...   \n10543939                 0                 0                    0  48581R205   \n10543940                 0                 0                    0  48581R205   \n10543941                 0                 0                    0  48581R205   \n10543942                 0                 0                    0  48581R205   \n10543943                 0                 0                    0  48581R205   \n\n               SICS Codified Industry     Codified SICS Sector   year  \\\n0         Industrial Machinery & Goods  Resource Transformation  2007   \n1         Industrial Machinery & Goods  Resource Transformation  2007   \n2         Industrial Machinery & Goods  Resource Transformation  2007   \n3         Industrial Machinery & Goods  Resource Transformation  2007   \n4         Industrial Machinery & Goods  Resource Transformation  2007   \n...                                ...                      ...   ...   \n10543939              Consumer Finance               Financials  2023   \n10543940              Consumer Finance               Financials  2023   \n10543941              Consumer Finance               Financials  2023   \n10543942              Consumer Finance               Financials  2023   \n10543943              Consumer Finance               Financials  2023   \n\n          industry_n_material  industry_n_car_1_material  \\\n0                           1                          0   \n1                           0                          2   \n2                           1                          1   \n3                           1                          0   \n4                           0                          1   \n...                       ...                        ...   \n10543939                   16                          3   \n10543940                   12                          0   \n10543941                    8                          0   \n10543942                    3                          1   \n10543943                   10                          3   \n\n          industry_n_car_5_material  industry_n_reach_material  \\\n0                                 0                          5   \n1                                 2                          7   \n2                                 1                          6   \n3                                 0                          7   \n4                                 1                          8   \n...                             ...                        ...   \n10543939                          3                         14   \n10543940                          0                         10   \n10543941                          0                          7   \n10543942                          0                          1   \n10543943                          3                          8   \n\n          industry_n_severity_material  \n0                                    5  \n1                                    7  \n2                                    6  \n3                                    7  \n4                                    9  \n...                                ...  \n10543939                            14  \n10543940                            10  \n10543941                             7  \n10543942                             1  \n10543943                             8  \n\n[2390472 rows x 17 columns]",
      "text/html": "<div>\n<style scoped>\n    .dataframe tbody tr th:only-of-type {\n        vertical-align: middle;\n    }\n\n    .dataframe tbody tr th {\n        vertical-align: top;\n    }\n\n    .dataframe thead th {\n        text-align: right;\n    }\n</style>\n<table border=\"1\" class=\"dataframe\">\n  <thead>\n    <tr style=\"text-align: right;\">\n      <th></th>\n      <th>gvkey</th>\n      <th>YearMonth</th>\n      <th>n_material</th>\n      <th>n_nonmaterial</th>\n      <th>n_car_1_material</th>\n      <th>n_car_5_material</th>\n      <th>n_reach_material</th>\n      <th>n_severity_material</th>\n      <th>cusip</th>\n      <th>SICS Codified Industry</th>\n      <th>Codified SICS Sector</th>\n      <th>year</th>\n      <th>industry_n_material</th>\n      <th>industry_n_car_1_material</th>\n      <th>industry_n_car_5_material</th>\n      <th>industry_n_reach_material</th>\n      <th>industry_n_severity_material</th>\n    </tr>\n  </thead>\n  <tbody>\n    <tr>\n      <th>0</th>\n      <td>1004.0</td>\n      <td>2007-01</td>\n      <td>0</td>\n      <td>0</td>\n      <td>0</td>\n      <td>0</td>\n      <td>0</td>\n      <td>0</td>\n      <td>000361105</td>\n      <td>Industrial Machinery &amp; Goods</td>\n      <td>Resource Transformation</td>\n      <td>2007</td>\n      <td>1</td>\n      <td>0</td>\n      <td>0</td>\n      <td>5</td>\n      <td>5</td>\n    </tr>\n    <tr>\n      <th>1</th>\n      <td>1004.0</td>\n      <td>2007-02</td>\n      <td>0</td>\n      <td>0</td>\n      <td>0</td>\n      <td>0</td>\n      <td>0</td>\n      <td>0</td>\n      <td>000361105</td>\n      <td>Industrial Machinery &amp; Goods</td>\n      <td>Resource Transformation</td>\n      <td>2007</td>\n      <td>0</td>\n      <td>2</td>\n      <td>2</td>\n      <td>7</td>\n      <td>7</td>\n    </tr>\n    <tr>\n      <th>2</th>\n      <td>1004.0</td>\n      <td>2007-03</td>\n      <td>0</td>\n      <td>0</td>\n      <td>0</td>\n      <td>0</td>\n      <td>0</td>\n      <td>0</td>\n      <td>000361105</td>\n      <td>Industrial Machinery &amp; Goods</td>\n      <td>Resource Transformation</td>\n      <td>2007</td>\n      <td>1</td>\n      <td>1</td>\n      <td>1</td>\n      <td>6</td>\n      <td>6</td>\n    </tr>\n    <tr>\n      <th>3</th>\n      <td>1004.0</td>\n      <td>2007-04</td>\n      <td>0</td>\n      <td>0</td>\n      <td>0</td>\n      <td>0</td>\n      <td>0</td>\n      <td>0</td>\n      <td>000361105</td>\n      <td>Industrial Machinery &amp; Goods</td>\n      <td>Resource Transformation</td>\n      <td>2007</td>\n      <td>1</td>\n      <td>0</td>\n      <td>0</td>\n      <td>7</td>\n      <td>7</td>\n    </tr>\n    <tr>\n      <th>4</th>\n      <td>1004.0</td>\n      <td>2007-05</td>\n      <td>0</td>\n      <td>0</td>\n      <td>0</td>\n      <td>0</td>\n      <td>0</td>\n      <td>0</td>\n      <td>000361105</td>\n      <td>Industrial Machinery &amp; Goods</td>\n      <td>Resource Transformation</td>\n      <td>2007</td>\n      <td>0</td>\n      <td>1</td>\n      <td>1</td>\n      <td>8</td>\n      <td>9</td>\n    </tr>\n    <tr>\n      <th>...</th>\n      <td>...</td>\n      <td>...</td>\n      <td>...</td>\n      <td>...</td>\n      <td>...</td>\n      <td>...</td>\n      <td>...</td>\n      <td>...</td>\n      <td>...</td>\n      <td>...</td>\n      <td>...</td>\n      <td>...</td>\n      <td>...</td>\n      <td>...</td>\n      <td>...</td>\n      <td>...</td>\n      <td>...</td>\n    </tr>\n    <tr>\n      <th>10543939</th>\n      <td>356128.0</td>\n      <td>2023-08</td>\n      <td>0</td>\n      <td>0</td>\n      <td>0</td>\n      <td>0</td>\n      <td>0</td>\n      <td>0</td>\n      <td>48581R205</td>\n      <td>Consumer Finance</td>\n      <td>Financials</td>\n      <td>2023</td>\n      <td>16</td>\n      <td>3</td>\n      <td>3</td>\n      <td>14</td>\n      <td>14</td>\n    </tr>\n    <tr>\n      <th>10543940</th>\n      <td>356128.0</td>\n      <td>2023-09</td>\n      <td>0</td>\n      <td>0</td>\n      <td>0</td>\n      <td>0</td>\n      <td>0</td>\n      <td>0</td>\n      <td>48581R205</td>\n      <td>Consumer Finance</td>\n      <td>Financials</td>\n      <td>2023</td>\n      <td>12</td>\n      <td>0</td>\n      <td>0</td>\n      <td>10</td>\n      <td>10</td>\n    </tr>\n    <tr>\n      <th>10543941</th>\n      <td>356128.0</td>\n      <td>2023-10</td>\n      <td>0</td>\n      <td>0</td>\n      <td>0</td>\n      <td>0</td>\n      <td>0</td>\n      <td>0</td>\n      <td>48581R205</td>\n      <td>Consumer Finance</td>\n      <td>Financials</td>\n      <td>2023</td>\n      <td>8</td>\n      <td>0</td>\n      <td>0</td>\n      <td>7</td>\n      <td>7</td>\n    </tr>\n    <tr>\n      <th>10543942</th>\n      <td>356128.0</td>\n      <td>2023-11</td>\n      <td>0</td>\n      <td>0</td>\n      <td>0</td>\n      <td>0</td>\n      <td>0</td>\n      <td>0</td>\n      <td>48581R205</td>\n      <td>Consumer Finance</td>\n      <td>Financials</td>\n      <td>2023</td>\n      <td>3</td>\n      <td>1</td>\n      <td>0</td>\n      <td>1</td>\n      <td>1</td>\n    </tr>\n    <tr>\n      <th>10543943</th>\n      <td>356128.0</td>\n      <td>2023-12</td>\n      <td>0</td>\n      <td>0</td>\n      <td>0</td>\n      <td>0</td>\n      <td>0</td>\n      <td>0</td>\n      <td>48581R205</td>\n      <td>Consumer Finance</td>\n      <td>Financials</td>\n      <td>2023</td>\n      <td>10</td>\n      <td>3</td>\n      <td>3</td>\n      <td>8</td>\n      <td>8</td>\n    </tr>\n  </tbody>\n</table>\n<p>2390472 rows × 17 columns</p>\n</div>"
     },
     "execution_count": 20,
     "metadata": {},
     "output_type": "execute_result"
    }
   ],
   "source": [
    "agg_cols = [\n",
    "    'n_material',\n",
    "    'n_car_1_material',\n",
    "    'n_car_5_material',\n",
    "    'n_reach_material',\n",
    "    'n_severity_material',\n",
    "]\n",
    "\n",
    "industry_col = 'SICS Codified Industry '   # use your exact column name\n",
    "ym_col       = 'YearMonth'                 # can be string or Period[M]\n",
    "\n",
    "# 1) Industry-level monthly counts (sum across firms)\n",
    "industry_counts = (\n",
    "    reprisk_merged.groupby([industry_col, ym_col], as_index=False)[agg_cols]\n",
    "      .sum(min_count=1)   # keeps NaN if an entire group/col is NaN\n",
    "      .rename(columns={c: f'industry_{c}' for c in agg_cols})\n",
    ")\n",
    "\n",
    "# 2) (Optional) merge back so each firm-month has the industry counts attached\n",
    "df_with_industry = reprisk_merged.merge(industry_counts, on=[industry_col, ym_col], how='left')\n",
    "df_with_industry"
   ],
   "metadata": {
    "collapsed": false,
    "ExecuteTime": {
     "end_time": "2025-10-18T15:15:26.048603200Z",
     "start_time": "2025-10-18T15:15:25.196589800Z"
    }
   }
  },
  {
   "cell_type": "code",
   "execution_count": 23,
   "outputs": [],
   "source": [
    "df_with_industry.dropna(subset=['cusip'], inplace=True)\n",
    "df_with_industry"
   ],
   "metadata": {
    "collapsed": false,
    "ExecuteTime": {
     "end_time": "2025-10-18T15:16:44.143956100Z",
     "start_time": "2025-10-18T15:16:44.112490500Z"
    }
   }
  },
  {
   "cell_type": "code",
   "execution_count": 24,
   "outputs": [
    {
     "data": {
      "text/plain": "          date     mktrf       smb       hml        rf       umd\n0   2007-01-01  0.000138  0.000009 -0.000068  0.000044  0.000017\n1   2007-02-01 -0.000196  0.000123 -0.000008  0.000038 -0.000129\n2   2007-03-01  0.000071  0.000009 -0.000088  0.000043  0.000258\n3   2007-04-01  0.000349 -0.000221 -0.000144  0.000044 -0.000016\n4   2007-05-01  0.000323  0.000016 -0.000059  0.000041 -0.000033\n..         ...       ...       ...       ...       ...       ...\n199 2023-08-01 -0.000236 -0.000314 -0.000115  0.000045  0.000378\n200 2023-09-01 -0.000523 -0.000251  0.000149  0.000043  0.000033\n201 2023-10-01 -0.000315 -0.000386   0.00002  0.000047  0.000167\n202 2023-11-01  0.000888  -0.00001  0.000167  0.000044  0.000256\n203 2023-12-01  0.000485   0.00063  0.000489  0.000043 -0.000553\n\n[204 rows x 6 columns]",
      "text/html": "<div>\n<style scoped>\n    .dataframe tbody tr th:only-of-type {\n        vertical-align: middle;\n    }\n\n    .dataframe tbody tr th {\n        vertical-align: top;\n    }\n\n    .dataframe thead th {\n        text-align: right;\n    }\n</style>\n<table border=\"1\" class=\"dataframe\">\n  <thead>\n    <tr style=\"text-align: right;\">\n      <th></th>\n      <th>date</th>\n      <th>mktrf</th>\n      <th>smb</th>\n      <th>hml</th>\n      <th>rf</th>\n      <th>umd</th>\n    </tr>\n  </thead>\n  <tbody>\n    <tr>\n      <th>0</th>\n      <td>2007-01-01</td>\n      <td>0.000138</td>\n      <td>0.000009</td>\n      <td>-0.000068</td>\n      <td>0.000044</td>\n      <td>0.000017</td>\n    </tr>\n    <tr>\n      <th>1</th>\n      <td>2007-02-01</td>\n      <td>-0.000196</td>\n      <td>0.000123</td>\n      <td>-0.000008</td>\n      <td>0.000038</td>\n      <td>-0.000129</td>\n    </tr>\n    <tr>\n      <th>2</th>\n      <td>2007-03-01</td>\n      <td>0.000071</td>\n      <td>0.000009</td>\n      <td>-0.000088</td>\n      <td>0.000043</td>\n      <td>0.000258</td>\n    </tr>\n    <tr>\n      <th>3</th>\n      <td>2007-04-01</td>\n      <td>0.000349</td>\n      <td>-0.000221</td>\n      <td>-0.000144</td>\n      <td>0.000044</td>\n      <td>-0.000016</td>\n    </tr>\n    <tr>\n      <th>4</th>\n      <td>2007-05-01</td>\n      <td>0.000323</td>\n      <td>0.000016</td>\n      <td>-0.000059</td>\n      <td>0.000041</td>\n      <td>-0.000033</td>\n    </tr>\n    <tr>\n      <th>...</th>\n      <td>...</td>\n      <td>...</td>\n      <td>...</td>\n      <td>...</td>\n      <td>...</td>\n      <td>...</td>\n    </tr>\n    <tr>\n      <th>199</th>\n      <td>2023-08-01</td>\n      <td>-0.000236</td>\n      <td>-0.000314</td>\n      <td>-0.000115</td>\n      <td>0.000045</td>\n      <td>0.000378</td>\n    </tr>\n    <tr>\n      <th>200</th>\n      <td>2023-09-01</td>\n      <td>-0.000523</td>\n      <td>-0.000251</td>\n      <td>0.000149</td>\n      <td>0.000043</td>\n      <td>0.000033</td>\n    </tr>\n    <tr>\n      <th>201</th>\n      <td>2023-10-01</td>\n      <td>-0.000315</td>\n      <td>-0.000386</td>\n      <td>0.00002</td>\n      <td>0.000047</td>\n      <td>0.000167</td>\n    </tr>\n    <tr>\n      <th>202</th>\n      <td>2023-11-01</td>\n      <td>0.000888</td>\n      <td>-0.00001</td>\n      <td>0.000167</td>\n      <td>0.000044</td>\n      <td>0.000256</td>\n    </tr>\n    <tr>\n      <th>203</th>\n      <td>2023-12-01</td>\n      <td>0.000485</td>\n      <td>0.00063</td>\n      <td>0.000489</td>\n      <td>0.000043</td>\n      <td>-0.000553</td>\n    </tr>\n  </tbody>\n</table>\n<p>204 rows × 6 columns</p>\n</div>"
     },
     "execution_count": 24,
     "metadata": {},
     "output_type": "execute_result"
    }
   ],
   "source": [
    "def fetch_ff3_mom_monthly(db, start_date, end_date):\n",
    "    sql = f\"\"\"\n",
    "        SELECT date, mktrf, smb, hml, rf, umd\n",
    "        FROM ff.factors_monthly\n",
    "        WHERE date BETWEEN '{start_date}' AND '{end_date}'\n",
    "    \"\"\"\n",
    "    ff = db.raw_sql(sql, date_cols=['date']).sort_values('date')\n",
    "    for c in ['mktrf','smb','hml','rf','umd']:\n",
    "        ff[c] = pd.to_numeric(ff[c], errors='coerce') / 100.0  # percent -> decimal\n",
    "    return ff"
   ],
   "metadata": {
    "collapsed": false,
    "ExecuteTime": {
     "end_time": "2025-10-18T15:17:04.042358700Z",
     "start_time": "2025-10-18T15:17:01.186341400Z"
    }
   }
  },
  {
   "cell_type": "code",
   "execution_count": 25,
   "outputs": [
    {
     "data": {
      "text/plain": "            gvkey  YearMonth  n_material  n_nonmaterial  n_car_1_material  \\\n0          1004.0 2007-01-01           0              0                 0   \n1          1004.0 2007-02-01           0              0                 0   \n2          1004.0 2007-03-01           0              0                 0   \n3          1004.0 2007-04-01           0              0                 0   \n4          1004.0 2007-05-01           0              0                 0   \n...           ...        ...         ...            ...               ...   \n2390467  356128.0 2023-08-01           0              0                 0   \n2390468  356128.0 2023-09-01           0              0                 0   \n2390469  356128.0 2023-10-01           0              0                 0   \n2390470  356128.0 2023-11-01           0              0                 0   \n2390471  356128.0 2023-12-01           0              0                 0   \n\n         n_car_5_material  n_reach_material  n_severity_material      cusip  \\\n0                       0                 0                    0  000361105   \n1                       0                 0                    0  000361105   \n2                       0                 0                    0  000361105   \n3                       0                 0                    0  000361105   \n4                       0                 0                    0  000361105   \n...                   ...               ...                  ...        ...   \n2390467                 0                 0                    0  48581R205   \n2390468                 0                 0                    0  48581R205   \n2390469                 0                 0                    0  48581R205   \n2390470                 0                 0                    0  48581R205   \n2390471                 0                 0                    0  48581R205   \n\n              SICS Codified Industry   ... industry_n_car_1_material  \\\n0        Industrial Machinery & Goods  ...                         0   \n1        Industrial Machinery & Goods  ...                         2   \n2        Industrial Machinery & Goods  ...                         1   \n3        Industrial Machinery & Goods  ...                         0   \n4        Industrial Machinery & Goods  ...                         1   \n...                               ...  ...                       ...   \n2390467              Consumer Finance  ...                         3   \n2390468              Consumer Finance  ...                         0   \n2390469              Consumer Finance  ...                         0   \n2390470              Consumer Finance  ...                         1   \n2390471              Consumer Finance  ...                         3   \n\n         industry_n_car_5_material  industry_n_reach_material  \\\n0                                0                          5   \n1                                2                          7   \n2                                1                          6   \n3                                0                          7   \n4                                1                          8   \n...                            ...                        ...   \n2390467                          3                         14   \n2390468                          0                         10   \n2390469                          0                          7   \n2390470                          0                          1   \n2390471                          3                          8   \n\n         industry_n_severity_material       date     mktrf       smb  \\\n0                                   5 2007-01-01  0.000138  0.000009   \n1                                   7 2007-02-01 -0.000196  0.000123   \n2                                   6 2007-03-01  0.000071  0.000009   \n3                                   7 2007-04-01  0.000349 -0.000221   \n4                                   9 2007-05-01  0.000323  0.000016   \n...                               ...        ...       ...       ...   \n2390467                            14 2023-08-01 -0.000236 -0.000314   \n2390468                            10 2023-09-01 -0.000523 -0.000251   \n2390469                             7 2023-10-01 -0.000315 -0.000386   \n2390470                             1 2023-11-01  0.000888  -0.00001   \n2390471                             8 2023-12-01  0.000485   0.00063   \n\n              hml        rf       umd  \n0       -0.000068  0.000044  0.000017  \n1       -0.000008  0.000038 -0.000129  \n2       -0.000088  0.000043  0.000258  \n3       -0.000144  0.000044 -0.000016  \n4       -0.000059  0.000041 -0.000033  \n...           ...       ...       ...  \n2390467 -0.000115  0.000045  0.000378  \n2390468  0.000149  0.000043  0.000033  \n2390469   0.00002  0.000047  0.000167  \n2390470  0.000167  0.000044  0.000256  \n2390471  0.000489  0.000043 -0.000553  \n\n[2390472 rows x 23 columns]",
      "text/html": "<div>\n<style scoped>\n    .dataframe tbody tr th:only-of-type {\n        vertical-align: middle;\n    }\n\n    .dataframe tbody tr th {\n        vertical-align: top;\n    }\n\n    .dataframe thead th {\n        text-align: right;\n    }\n</style>\n<table border=\"1\" class=\"dataframe\">\n  <thead>\n    <tr style=\"text-align: right;\">\n      <th></th>\n      <th>gvkey</th>\n      <th>YearMonth</th>\n      <th>n_material</th>\n      <th>n_nonmaterial</th>\n      <th>n_car_1_material</th>\n      <th>n_car_5_material</th>\n      <th>n_reach_material</th>\n      <th>n_severity_material</th>\n      <th>cusip</th>\n      <th>SICS Codified Industry</th>\n      <th>...</th>\n      <th>industry_n_car_1_material</th>\n      <th>industry_n_car_5_material</th>\n      <th>industry_n_reach_material</th>\n      <th>industry_n_severity_material</th>\n      <th>date</th>\n      <th>mktrf</th>\n      <th>smb</th>\n      <th>hml</th>\n      <th>rf</th>\n      <th>umd</th>\n    </tr>\n  </thead>\n  <tbody>\n    <tr>\n      <th>0</th>\n      <td>1004.0</td>\n      <td>2007-01-01</td>\n      <td>0</td>\n      <td>0</td>\n      <td>0</td>\n      <td>0</td>\n      <td>0</td>\n      <td>0</td>\n      <td>000361105</td>\n      <td>Industrial Machinery &amp; Goods</td>\n      <td>...</td>\n      <td>0</td>\n      <td>0</td>\n      <td>5</td>\n      <td>5</td>\n      <td>2007-01-01</td>\n      <td>0.000138</td>\n      <td>0.000009</td>\n      <td>-0.000068</td>\n      <td>0.000044</td>\n      <td>0.000017</td>\n    </tr>\n    <tr>\n      <th>1</th>\n      <td>1004.0</td>\n      <td>2007-02-01</td>\n      <td>0</td>\n      <td>0</td>\n      <td>0</td>\n      <td>0</td>\n      <td>0</td>\n      <td>0</td>\n      <td>000361105</td>\n      <td>Industrial Machinery &amp; Goods</td>\n      <td>...</td>\n      <td>2</td>\n      <td>2</td>\n      <td>7</td>\n      <td>7</td>\n      <td>2007-02-01</td>\n      <td>-0.000196</td>\n      <td>0.000123</td>\n      <td>-0.000008</td>\n      <td>0.000038</td>\n      <td>-0.000129</td>\n    </tr>\n    <tr>\n      <th>2</th>\n      <td>1004.0</td>\n      <td>2007-03-01</td>\n      <td>0</td>\n      <td>0</td>\n      <td>0</td>\n      <td>0</td>\n      <td>0</td>\n      <td>0</td>\n      <td>000361105</td>\n      <td>Industrial Machinery &amp; Goods</td>\n      <td>...</td>\n      <td>1</td>\n      <td>1</td>\n      <td>6</td>\n      <td>6</td>\n      <td>2007-03-01</td>\n      <td>0.000071</td>\n      <td>0.000009</td>\n      <td>-0.000088</td>\n      <td>0.000043</td>\n      <td>0.000258</td>\n    </tr>\n    <tr>\n      <th>3</th>\n      <td>1004.0</td>\n      <td>2007-04-01</td>\n      <td>0</td>\n      <td>0</td>\n      <td>0</td>\n      <td>0</td>\n      <td>0</td>\n      <td>0</td>\n      <td>000361105</td>\n      <td>Industrial Machinery &amp; Goods</td>\n      <td>...</td>\n      <td>0</td>\n      <td>0</td>\n      <td>7</td>\n      <td>7</td>\n      <td>2007-04-01</td>\n      <td>0.000349</td>\n      <td>-0.000221</td>\n      <td>-0.000144</td>\n      <td>0.000044</td>\n      <td>-0.000016</td>\n    </tr>\n    <tr>\n      <th>4</th>\n      <td>1004.0</td>\n      <td>2007-05-01</td>\n      <td>0</td>\n      <td>0</td>\n      <td>0</td>\n      <td>0</td>\n      <td>0</td>\n      <td>0</td>\n      <td>000361105</td>\n      <td>Industrial Machinery &amp; Goods</td>\n      <td>...</td>\n      <td>1</td>\n      <td>1</td>\n      <td>8</td>\n      <td>9</td>\n      <td>2007-05-01</td>\n      <td>0.000323</td>\n      <td>0.000016</td>\n      <td>-0.000059</td>\n      <td>0.000041</td>\n      <td>-0.000033</td>\n    </tr>\n    <tr>\n      <th>...</th>\n      <td>...</td>\n      <td>...</td>\n      <td>...</td>\n      <td>...</td>\n      <td>...</td>\n      <td>...</td>\n      <td>...</td>\n      <td>...</td>\n      <td>...</td>\n      <td>...</td>\n      <td>...</td>\n      <td>...</td>\n      <td>...</td>\n      <td>...</td>\n      <td>...</td>\n      <td>...</td>\n      <td>...</td>\n      <td>...</td>\n      <td>...</td>\n      <td>...</td>\n      <td>...</td>\n    </tr>\n    <tr>\n      <th>2390467</th>\n      <td>356128.0</td>\n      <td>2023-08-01</td>\n      <td>0</td>\n      <td>0</td>\n      <td>0</td>\n      <td>0</td>\n      <td>0</td>\n      <td>0</td>\n      <td>48581R205</td>\n      <td>Consumer Finance</td>\n      <td>...</td>\n      <td>3</td>\n      <td>3</td>\n      <td>14</td>\n      <td>14</td>\n      <td>2023-08-01</td>\n      <td>-0.000236</td>\n      <td>-0.000314</td>\n      <td>-0.000115</td>\n      <td>0.000045</td>\n      <td>0.000378</td>\n    </tr>\n    <tr>\n      <th>2390468</th>\n      <td>356128.0</td>\n      <td>2023-09-01</td>\n      <td>0</td>\n      <td>0</td>\n      <td>0</td>\n      <td>0</td>\n      <td>0</td>\n      <td>0</td>\n      <td>48581R205</td>\n      <td>Consumer Finance</td>\n      <td>...</td>\n      <td>0</td>\n      <td>0</td>\n      <td>10</td>\n      <td>10</td>\n      <td>2023-09-01</td>\n      <td>-0.000523</td>\n      <td>-0.000251</td>\n      <td>0.000149</td>\n      <td>0.000043</td>\n      <td>0.000033</td>\n    </tr>\n    <tr>\n      <th>2390469</th>\n      <td>356128.0</td>\n      <td>2023-10-01</td>\n      <td>0</td>\n      <td>0</td>\n      <td>0</td>\n      <td>0</td>\n      <td>0</td>\n      <td>0</td>\n      <td>48581R205</td>\n      <td>Consumer Finance</td>\n      <td>...</td>\n      <td>0</td>\n      <td>0</td>\n      <td>7</td>\n      <td>7</td>\n      <td>2023-10-01</td>\n      <td>-0.000315</td>\n      <td>-0.000386</td>\n      <td>0.00002</td>\n      <td>0.000047</td>\n      <td>0.000167</td>\n    </tr>\n    <tr>\n      <th>2390470</th>\n      <td>356128.0</td>\n      <td>2023-11-01</td>\n      <td>0</td>\n      <td>0</td>\n      <td>0</td>\n      <td>0</td>\n      <td>0</td>\n      <td>0</td>\n      <td>48581R205</td>\n      <td>Consumer Finance</td>\n      <td>...</td>\n      <td>1</td>\n      <td>0</td>\n      <td>1</td>\n      <td>1</td>\n      <td>2023-11-01</td>\n      <td>0.000888</td>\n      <td>-0.00001</td>\n      <td>0.000167</td>\n      <td>0.000044</td>\n      <td>0.000256</td>\n    </tr>\n    <tr>\n      <th>2390471</th>\n      <td>356128.0</td>\n      <td>2023-12-01</td>\n      <td>0</td>\n      <td>0</td>\n      <td>0</td>\n      <td>0</td>\n      <td>0</td>\n      <td>0</td>\n      <td>48581R205</td>\n      <td>Consumer Finance</td>\n      <td>...</td>\n      <td>3</td>\n      <td>3</td>\n      <td>8</td>\n      <td>8</td>\n      <td>2023-12-01</td>\n      <td>0.000485</td>\n      <td>0.00063</td>\n      <td>0.000489</td>\n      <td>0.000043</td>\n      <td>-0.000553</td>\n    </tr>\n  </tbody>\n</table>\n<p>2390472 rows × 23 columns</p>\n</div>"
     },
     "execution_count": 25,
     "metadata": {},
     "output_type": "execute_result"
    }
   ],
   "source": [
    "# --- merge to your monthly df (dfm) ---\n",
    "df_with_industry['YearMonth'] = pd.to_datetime(df_with_industry['YearMonth'].astype(str), errors='coerce')\n",
    "start_date = df_with_industry['YearMonth'].min().replace(day=1).strftime('%Y-%m-%d')\n",
    "end_date   = df_with_industry['YearMonth'].max().replace(day=31).strftime('%Y-%m-%d')\n",
    "\n",
    "fac = fetch_ff3_mom_monthly(db, start_date, end_date)\n",
    "fac"
   ],
   "metadata": {
    "collapsed": false,
    "ExecuteTime": {
     "end_time": "2025-10-18T15:17:07.876460200Z",
     "start_time": "2025-10-18T15:17:06.930086500Z"
    }
   }
  },
  {
   "cell_type": "code",
   "execution_count": 26,
   "outputs": [],
   "source": [
    "dfm = df_with_industry.merge(\n",
    "    fac[['date','mktrf','smb','hml','rf','umd']],\n",
    "    left_on='YearMonth', right_on='date', how='left'\n",
    ")\n",
    "dfm"
   ],
   "metadata": {
    "collapsed": false,
    "ExecuteTime": {
     "end_time": "2025-10-18T15:18:31.226036400Z",
     "start_time": "2025-10-18T15:17:40.538922300Z"
    }
   }
  },
  {
   "cell_type": "code",
   "execution_count": null,
   "outputs": [],
   "source": [
    "df_with_industry.to_csv('data/incidents_rolling_industry.csv', index=False)"
   ],
   "metadata": {
    "collapsed": false
   }
  }
 ],
 "metadata": {
  "kernelspec": {
   "display_name": "Python 3",
   "language": "python",
   "name": "python3"
  },
  "language_info": {
   "codemirror_mode": {
    "name": "ipython",
    "version": 2
   },
   "file_extension": ".py",
   "mimetype": "text/x-python",
   "name": "python",
   "nbconvert_exporter": "python",
   "pygments_lexer": "ipython2",
   "version": "2.7.6"
  }
 },
 "nbformat": 4,
 "nbformat_minor": 0
}
