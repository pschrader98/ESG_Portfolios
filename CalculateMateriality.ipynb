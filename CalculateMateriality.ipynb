{
 "cells": [
  {
   "cell_type": "code",
   "execution_count": 33,
   "outputs": [],
   "source": [
    "import pandas as pd\n",
    "import numpy as np"
   ],
   "metadata": {
    "collapsed": false,
    "ExecuteTime": {
     "end_time": "2025-09-30T21:46:38.386706400Z",
     "start_time": "2025-09-30T21:46:38.376557200Z"
    }
   }
  },
  {
   "cell_type": "code",
   "execution_count": 10,
   "outputs": [
    {
     "data": {
      "text/plain": "           gvkey          isin cusip  reprisk_id  story_id  adopter     sic  \\\n0       213199.0  TW0002353000   NaN          10       826      1.0  3571.0   \n1       213199.0  TW0002353000   NaN          10      1793      1.0  3571.0   \n2       213199.0  TW0002353000   NaN          10      2335      1.0  3571.0   \n3       213199.0  TW0002353000   NaN          10      2365      1.0  3571.0   \n4       213199.0  TW0002353000   NaN          10      2513      1.0  3571.0   \n...          ...           ...   ...         ...       ...      ...     ...   \n295249  295326.0  CNE100000TP3   NaN       99984   8294414      1.0  3678.0   \n295250  295326.0  CNE100000TP3   NaN       99984   8339482      1.0  3678.0   \n295251  295326.0  CNE100000TP3   NaN       99984   8362588      1.0  3678.0   \n295252  295326.0  CNE100000TP3   NaN       99984   8376615      1.0  3678.0   \n295253  295557.0  CNE100000VY1   NaN       99985    921467      1.0  3663.0   \n\n                  SICS Codified Industry         Codified SICS Sector   \\\n0                                Hardware  Technology & Communications   \n1                                Hardware  Technology & Communications   \n2                                Hardware  Technology & Communications   \n3                                Hardware  Technology & Communications   \n4                                Hardware  Technology & Communications   \n...                                   ...                          ...   \n295249  Electrical & Electronic Equipment      Resource Transformation   \n295250  Electrical & Electronic Equipment      Resource Transformation   \n295251  Electrical & Electronic Equipment      Resource Transformation   \n295252  Electrical & Electronic Equipment      Resource Transformation   \n295253                           Hardware  Technology & Communications   \n\n        severity  ...  incident_date  cusip_cusip_tic  year YearQuarter  \\\n0              2  ...     2007-02-28              NaN  2007      2007Q1   \n1              1  ...     2007-09-09              NaN  2007      2007Q3   \n2              1  ...     2007-11-26              NaN  2007      2007Q4   \n3              2  ...     2007-08-21              NaN  2007      2007Q3   \n4              1  ...     2007-11-30              NaN  2007      2007Q4   \n...          ...  ...            ...              ...   ...         ...   \n295249         1  ...     2022-08-30              NaN  2022      2022Q3   \n295250         1  ...     2023-01-01              NaN  2023      2023Q1   \n295251         1  ...     2022-10-28              NaN  2022      2022Q4   \n295252         2  ...     2023-04-20              NaN  2023      2023Q2   \n295253         1  ...     2019-08-19              NaN  2019      2019Q3   \n\n       materiality_reach  materiality_severity materiality_car_1  \\\n0                      0                     0                 0   \n1                      0                     0                 0   \n2                      1                     0                 0   \n3                      0                     1                 0   \n4                      0                     0                 0   \n...                  ...                   ...               ...   \n295249                 0                     0                 0   \n295250                 0                     0                 1   \n295251                 0                     0                 0   \n295252                 1                     0                 0   \n295253                 0                     0                 0   \n\n        materiality_car_5  materiality_rri  material_flag  \n0                       0                0              1  \n1                       0                0              1  \n2                       0                0              0  \n3                       0                0              1  \n4                       0                0              1  \n...                   ...              ...            ...  \n295249                  0                1              1  \n295250                  1                0              0  \n295251                  0                0              0  \n295252                  0                0              1  \n295253                  0                0              1  \n\n[295254 rows x 23 columns]",
      "text/html": "<div>\n<style scoped>\n    .dataframe tbody tr th:only-of-type {\n        vertical-align: middle;\n    }\n\n    .dataframe tbody tr th {\n        vertical-align: top;\n    }\n\n    .dataframe thead th {\n        text-align: right;\n    }\n</style>\n<table border=\"1\" class=\"dataframe\">\n  <thead>\n    <tr style=\"text-align: right;\">\n      <th></th>\n      <th>gvkey</th>\n      <th>isin</th>\n      <th>cusip</th>\n      <th>reprisk_id</th>\n      <th>story_id</th>\n      <th>adopter</th>\n      <th>sic</th>\n      <th>SICS Codified Industry</th>\n      <th>Codified SICS Sector</th>\n      <th>severity</th>\n      <th>...</th>\n      <th>incident_date</th>\n      <th>cusip_cusip_tic</th>\n      <th>year</th>\n      <th>YearQuarter</th>\n      <th>materiality_reach</th>\n      <th>materiality_severity</th>\n      <th>materiality_car_1</th>\n      <th>materiality_car_5</th>\n      <th>materiality_rri</th>\n      <th>material_flag</th>\n    </tr>\n  </thead>\n  <tbody>\n    <tr>\n      <th>0</th>\n      <td>213199.0</td>\n      <td>TW0002353000</td>\n      <td>NaN</td>\n      <td>10</td>\n      <td>826</td>\n      <td>1.0</td>\n      <td>3571.0</td>\n      <td>Hardware</td>\n      <td>Technology &amp; Communications</td>\n      <td>2</td>\n      <td>...</td>\n      <td>2007-02-28</td>\n      <td>NaN</td>\n      <td>2007</td>\n      <td>2007Q1</td>\n      <td>0</td>\n      <td>0</td>\n      <td>0</td>\n      <td>0</td>\n      <td>0</td>\n      <td>1</td>\n    </tr>\n    <tr>\n      <th>1</th>\n      <td>213199.0</td>\n      <td>TW0002353000</td>\n      <td>NaN</td>\n      <td>10</td>\n      <td>1793</td>\n      <td>1.0</td>\n      <td>3571.0</td>\n      <td>Hardware</td>\n      <td>Technology &amp; Communications</td>\n      <td>1</td>\n      <td>...</td>\n      <td>2007-09-09</td>\n      <td>NaN</td>\n      <td>2007</td>\n      <td>2007Q3</td>\n      <td>0</td>\n      <td>0</td>\n      <td>0</td>\n      <td>0</td>\n      <td>0</td>\n      <td>1</td>\n    </tr>\n    <tr>\n      <th>2</th>\n      <td>213199.0</td>\n      <td>TW0002353000</td>\n      <td>NaN</td>\n      <td>10</td>\n      <td>2335</td>\n      <td>1.0</td>\n      <td>3571.0</td>\n      <td>Hardware</td>\n      <td>Technology &amp; Communications</td>\n      <td>1</td>\n      <td>...</td>\n      <td>2007-11-26</td>\n      <td>NaN</td>\n      <td>2007</td>\n      <td>2007Q4</td>\n      <td>1</td>\n      <td>0</td>\n      <td>0</td>\n      <td>0</td>\n      <td>0</td>\n      <td>0</td>\n    </tr>\n    <tr>\n      <th>3</th>\n      <td>213199.0</td>\n      <td>TW0002353000</td>\n      <td>NaN</td>\n      <td>10</td>\n      <td>2365</td>\n      <td>1.0</td>\n      <td>3571.0</td>\n      <td>Hardware</td>\n      <td>Technology &amp; Communications</td>\n      <td>2</td>\n      <td>...</td>\n      <td>2007-08-21</td>\n      <td>NaN</td>\n      <td>2007</td>\n      <td>2007Q3</td>\n      <td>0</td>\n      <td>1</td>\n      <td>0</td>\n      <td>0</td>\n      <td>0</td>\n      <td>1</td>\n    </tr>\n    <tr>\n      <th>4</th>\n      <td>213199.0</td>\n      <td>TW0002353000</td>\n      <td>NaN</td>\n      <td>10</td>\n      <td>2513</td>\n      <td>1.0</td>\n      <td>3571.0</td>\n      <td>Hardware</td>\n      <td>Technology &amp; Communications</td>\n      <td>1</td>\n      <td>...</td>\n      <td>2007-11-30</td>\n      <td>NaN</td>\n      <td>2007</td>\n      <td>2007Q4</td>\n      <td>0</td>\n      <td>0</td>\n      <td>0</td>\n      <td>0</td>\n      <td>0</td>\n      <td>1</td>\n    </tr>\n    <tr>\n      <th>...</th>\n      <td>...</td>\n      <td>...</td>\n      <td>...</td>\n      <td>...</td>\n      <td>...</td>\n      <td>...</td>\n      <td>...</td>\n      <td>...</td>\n      <td>...</td>\n      <td>...</td>\n      <td>...</td>\n      <td>...</td>\n      <td>...</td>\n      <td>...</td>\n      <td>...</td>\n      <td>...</td>\n      <td>...</td>\n      <td>...</td>\n      <td>...</td>\n      <td>...</td>\n      <td>...</td>\n    </tr>\n    <tr>\n      <th>295249</th>\n      <td>295326.0</td>\n      <td>CNE100000TP3</td>\n      <td>NaN</td>\n      <td>99984</td>\n      <td>8294414</td>\n      <td>1.0</td>\n      <td>3678.0</td>\n      <td>Electrical &amp; Electronic Equipment</td>\n      <td>Resource Transformation</td>\n      <td>1</td>\n      <td>...</td>\n      <td>2022-08-30</td>\n      <td>NaN</td>\n      <td>2022</td>\n      <td>2022Q3</td>\n      <td>0</td>\n      <td>0</td>\n      <td>0</td>\n      <td>0</td>\n      <td>1</td>\n      <td>1</td>\n    </tr>\n    <tr>\n      <th>295250</th>\n      <td>295326.0</td>\n      <td>CNE100000TP3</td>\n      <td>NaN</td>\n      <td>99984</td>\n      <td>8339482</td>\n      <td>1.0</td>\n      <td>3678.0</td>\n      <td>Electrical &amp; Electronic Equipment</td>\n      <td>Resource Transformation</td>\n      <td>1</td>\n      <td>...</td>\n      <td>2023-01-01</td>\n      <td>NaN</td>\n      <td>2023</td>\n      <td>2023Q1</td>\n      <td>0</td>\n      <td>0</td>\n      <td>1</td>\n      <td>1</td>\n      <td>0</td>\n      <td>0</td>\n    </tr>\n    <tr>\n      <th>295251</th>\n      <td>295326.0</td>\n      <td>CNE100000TP3</td>\n      <td>NaN</td>\n      <td>99984</td>\n      <td>8362588</td>\n      <td>1.0</td>\n      <td>3678.0</td>\n      <td>Electrical &amp; Electronic Equipment</td>\n      <td>Resource Transformation</td>\n      <td>1</td>\n      <td>...</td>\n      <td>2022-10-28</td>\n      <td>NaN</td>\n      <td>2022</td>\n      <td>2022Q4</td>\n      <td>0</td>\n      <td>0</td>\n      <td>0</td>\n      <td>0</td>\n      <td>0</td>\n      <td>0</td>\n    </tr>\n    <tr>\n      <th>295252</th>\n      <td>295326.0</td>\n      <td>CNE100000TP3</td>\n      <td>NaN</td>\n      <td>99984</td>\n      <td>8376615</td>\n      <td>1.0</td>\n      <td>3678.0</td>\n      <td>Electrical &amp; Electronic Equipment</td>\n      <td>Resource Transformation</td>\n      <td>2</td>\n      <td>...</td>\n      <td>2023-04-20</td>\n      <td>NaN</td>\n      <td>2023</td>\n      <td>2023Q2</td>\n      <td>1</td>\n      <td>0</td>\n      <td>0</td>\n      <td>0</td>\n      <td>0</td>\n      <td>1</td>\n    </tr>\n    <tr>\n      <th>295253</th>\n      <td>295557.0</td>\n      <td>CNE100000VY1</td>\n      <td>NaN</td>\n      <td>99985</td>\n      <td>921467</td>\n      <td>1.0</td>\n      <td>3663.0</td>\n      <td>Hardware</td>\n      <td>Technology &amp; Communications</td>\n      <td>1</td>\n      <td>...</td>\n      <td>2019-08-19</td>\n      <td>NaN</td>\n      <td>2019</td>\n      <td>2019Q3</td>\n      <td>0</td>\n      <td>0</td>\n      <td>0</td>\n      <td>0</td>\n      <td>0</td>\n      <td>1</td>\n    </tr>\n  </tbody>\n</table>\n<p>295254 rows × 23 columns</p>\n</div>"
     },
     "execution_count": 10,
     "metadata": {},
     "output_type": "execute_result"
    }
   ],
   "source": [
    "reprisk_incidents = pd.read_csv('data/new_materiality_with_rri.csv') # Calculation in \"CreateDataset\" of \"ESGmateriality\" project\n",
    "reprisk_incidents = reprisk_incidents[['gvkey', 'isin', 'cusip', 'reprisk_id', 'story_id', 'adopter', 'sic', 'SICS Codified Industry ', 'Codified SICS Sector ', 'severity', 'reach', 'novelty', 'incident_list', 'incident_date', 'cusip_cusip_tic', 'year', 'YearQuarter', 'materiality_reach', 'materiality_severity', 'materiality_car_1', 'materiality_car_5', 'materiality_rri', 'material_flag']]\n",
    "reprisk_incidents"
   ],
   "metadata": {
    "collapsed": false,
    "ExecuteTime": {
     "end_time": "2025-09-30T18:31:17.107438800Z",
     "start_time": "2025-09-30T18:31:12.728353900Z"
    }
   }
  },
  {
   "cell_type": "code",
   "execution_count": 22,
   "outputs": [
    {
     "data": {
      "text/plain": "gvkey                           0\nisin                            0\ncusip                      123533\nreprisk_id                      0\nstory_id                        0\nadopter                         0\nsic                             0\nSICS Codified Industry          0\nCodified SICS Sector            0\nseverity                        0\nreach                           0\nnovelty                         0\nincident_list                   0\nincident_date                   0\ncusip_cusip_tic            123533\nyear                            0\nYearQuarter                     0\nmateriality_reach               0\nmateriality_severity            0\nmateriality_car_1               0\nmateriality_car_5               0\nmateriality_rri                 0\nmaterial_flag                   0\ndtype: int64"
     },
     "execution_count": 22,
     "metadata": {},
     "output_type": "execute_result"
    }
   ],
   "source": [
    "reprisk_incidents.isna().sum()"
   ],
   "metadata": {
    "collapsed": false,
    "ExecuteTime": {
     "end_time": "2025-09-30T21:32:48.101430800Z",
     "start_time": "2025-09-30T21:32:47.972922300Z"
    }
   }
  },
  {
   "cell_type": "code",
   "execution_count": 21,
   "outputs": [
    {
     "data": {
      "text/plain": "            gvkey YearQuarter  n_material  n_nonmaterial  n_car_1_material  \\\n0          1004.0      2007Q1           0              0                 0   \n1          1004.0      2007Q2           0              0                 0   \n2          1004.0      2007Q3           0              0                 0   \n3          1004.0      2007Q4           0              0                 0   \n4          1004.0      2008Q1           0              0                 0   \n...           ...         ...         ...            ...               ...   \n1091463  367430.0      2022Q4           0              0                 0   \n1091464  367430.0      2023Q1           0              0                 0   \n1091465  367430.0      2023Q2           0              0                 0   \n1091466  367430.0      2023Q3           0              0                 0   \n1091467  367430.0      2023Q4           0              0                 0   \n\n         n_car_5_material  n_rri_material  n_reach_material  \\\n0                       0               0                 0   \n1                       0               0                 0   \n2                       0               0                 0   \n3                       0               0                 0   \n4                       0               0                 0   \n...                   ...             ...               ...   \n1091463                 0               0                 0   \n1091464                 0               0                 0   \n1091465                 0               0                 0   \n1091466                 0               0                 0   \n1091467                 0               0                 0   \n\n         n_severity_material  \n0                          0  \n1                          0  \n2                          0  \n3                          0  \n4                          0  \n...                      ...  \n1091463                    0  \n1091464                    0  \n1091465                    0  \n1091466                    0  \n1091467                    0  \n\n[1091468 rows x 9 columns]",
      "text/html": "<div>\n<style scoped>\n    .dataframe tbody tr th:only-of-type {\n        vertical-align: middle;\n    }\n\n    .dataframe tbody tr th {\n        vertical-align: top;\n    }\n\n    .dataframe thead th {\n        text-align: right;\n    }\n</style>\n<table border=\"1\" class=\"dataframe\">\n  <thead>\n    <tr style=\"text-align: right;\">\n      <th></th>\n      <th>gvkey</th>\n      <th>YearQuarter</th>\n      <th>n_material</th>\n      <th>n_nonmaterial</th>\n      <th>n_car_1_material</th>\n      <th>n_car_5_material</th>\n      <th>n_rri_material</th>\n      <th>n_reach_material</th>\n      <th>n_severity_material</th>\n    </tr>\n  </thead>\n  <tbody>\n    <tr>\n      <th>0</th>\n      <td>1004.0</td>\n      <td>2007Q1</td>\n      <td>0</td>\n      <td>0</td>\n      <td>0</td>\n      <td>0</td>\n      <td>0</td>\n      <td>0</td>\n      <td>0</td>\n    </tr>\n    <tr>\n      <th>1</th>\n      <td>1004.0</td>\n      <td>2007Q2</td>\n      <td>0</td>\n      <td>0</td>\n      <td>0</td>\n      <td>0</td>\n      <td>0</td>\n      <td>0</td>\n      <td>0</td>\n    </tr>\n    <tr>\n      <th>2</th>\n      <td>1004.0</td>\n      <td>2007Q3</td>\n      <td>0</td>\n      <td>0</td>\n      <td>0</td>\n      <td>0</td>\n      <td>0</td>\n      <td>0</td>\n      <td>0</td>\n    </tr>\n    <tr>\n      <th>3</th>\n      <td>1004.0</td>\n      <td>2007Q4</td>\n      <td>0</td>\n      <td>0</td>\n      <td>0</td>\n      <td>0</td>\n      <td>0</td>\n      <td>0</td>\n      <td>0</td>\n    </tr>\n    <tr>\n      <th>4</th>\n      <td>1004.0</td>\n      <td>2008Q1</td>\n      <td>0</td>\n      <td>0</td>\n      <td>0</td>\n      <td>0</td>\n      <td>0</td>\n      <td>0</td>\n      <td>0</td>\n    </tr>\n    <tr>\n      <th>...</th>\n      <td>...</td>\n      <td>...</td>\n      <td>...</td>\n      <td>...</td>\n      <td>...</td>\n      <td>...</td>\n      <td>...</td>\n      <td>...</td>\n      <td>...</td>\n    </tr>\n    <tr>\n      <th>1091463</th>\n      <td>367430.0</td>\n      <td>2022Q4</td>\n      <td>0</td>\n      <td>0</td>\n      <td>0</td>\n      <td>0</td>\n      <td>0</td>\n      <td>0</td>\n      <td>0</td>\n    </tr>\n    <tr>\n      <th>1091464</th>\n      <td>367430.0</td>\n      <td>2023Q1</td>\n      <td>0</td>\n      <td>0</td>\n      <td>0</td>\n      <td>0</td>\n      <td>0</td>\n      <td>0</td>\n      <td>0</td>\n    </tr>\n    <tr>\n      <th>1091465</th>\n      <td>367430.0</td>\n      <td>2023Q2</td>\n      <td>0</td>\n      <td>0</td>\n      <td>0</td>\n      <td>0</td>\n      <td>0</td>\n      <td>0</td>\n      <td>0</td>\n    </tr>\n    <tr>\n      <th>1091466</th>\n      <td>367430.0</td>\n      <td>2023Q3</td>\n      <td>0</td>\n      <td>0</td>\n      <td>0</td>\n      <td>0</td>\n      <td>0</td>\n      <td>0</td>\n      <td>0</td>\n    </tr>\n    <tr>\n      <th>1091467</th>\n      <td>367430.0</td>\n      <td>2023Q4</td>\n      <td>0</td>\n      <td>0</td>\n      <td>0</td>\n      <td>0</td>\n      <td>0</td>\n      <td>0</td>\n      <td>0</td>\n    </tr>\n  </tbody>\n</table>\n<p>1091468 rows × 9 columns</p>\n</div>"
     },
     "execution_count": 21,
     "metadata": {},
     "output_type": "execute_result"
    }
   ],
   "source": [
    "df = reprisk_incidents.copy()\n",
    "\n",
    "# Ensure proper quarterly Periods\n",
    "df['YearQuarter'] = pd.PeriodIndex(df['YearQuarter'].astype(str), freq='Q')\n",
    "\n",
    "# Coerce flags to numeric and treat missing as 0\n",
    "flag_cols = [\n",
    "    'material_flag',\n",
    "    'materiality_car_1', 'materiality_car_5',\n",
    "    'materiality_rri', 'materiality_reach', 'materiality_severity'\n",
    "]\n",
    "df[flag_cols] = df[flag_cols].apply(pd.to_numeric, errors='coerce').fillna(0)\n",
    "\n",
    "key = [\"gvkey\", \"YearQuarter\"]\n",
    "\n",
    "# 1) Aggregate incidents per firm-quarter\n",
    "agg_fq = (\n",
    "    df.groupby(key, dropna=False)\n",
    "      .agg(\n",
    "          n_material          = ('material_flag',         lambda s: (s == 1).sum()),\n",
    "          n_nonmaterial       = ('material_flag',         lambda s: (s == 0).sum()),\n",
    "          n_car_1_material    = ('materiality_car_1',     lambda s: (s == 1).sum()),\n",
    "          n_car_5_material    = ('materiality_car_5',     lambda s: (s == 1).sum()),\n",
    "          n_rri_material      = ('materiality_rri',       lambda s: (s == 1).sum()),\n",
    "          n_reach_material    = ('materiality_reach',     lambda s: (s == 1).sum()),\n",
    "          n_severity_material = ('materiality_severity',  lambda s: (s == 1).sum()),\n",
    "      )\n",
    "      .reset_index()\n",
    ")\n",
    "\n",
    "# 2) Build the BALANCED universe = all firms × all quarters (global min..max)\n",
    "firms = (\n",
    "    df['gvkey']\n",
    "    .dropna()\n",
    "    .unique()\n",
    ")\n",
    "qmin = df['YearQuarter'].min()\n",
    "qmax = df['YearQuarter'].max()\n",
    "quarters = pd.period_range(qmin, qmax, freq='Q')\n",
    "\n",
    "balanced_idx = pd.MultiIndex.from_product([firms, quarters], names=key)\n",
    "balanced_universe = pd.DataFrame(index=balanced_idx).reset_index()\n",
    "\n",
    "# 3) Merge counts onto balanced universe and fill missing with zeros\n",
    "reprisk = (\n",
    "    balanced_universe\n",
    "      .merge(agg_fq, on=key, how='left')\n",
    "      .fillna(0)\n",
    "      .sort_values(key)\n",
    "      .reset_index(drop=True)\n",
    ")\n",
    "\n",
    "# 4) Cast counts to ints\n",
    "count_cols = [\n",
    "    'n_material','n_nonmaterial','n_car_1_material','n_car_5_material',\n",
    "    'n_rri_material','n_reach_material','n_severity_material'\n",
    "]\n",
    "reprisk[count_cols] = reprisk[count_cols].astype('int16')\n",
    "\n",
    "# (optional) If you prefer strings for YearQuarter:\n",
    "reprisk['YearQuarter'] = reprisk['YearQuarter'].astype(str)\n",
    "\n",
    "reprisk"
   ],
   "metadata": {
    "collapsed": false,
    "ExecuteTime": {
     "end_time": "2025-09-30T21:31:49.508068300Z",
     "start_time": "2025-09-30T21:30:19.103671100Z"
    }
   }
  },
  {
   "cell_type": "code",
   "execution_count": 24,
   "outputs": [
    {
     "data": {
      "text/plain": "            gvkey YearQuarter  n_material  n_nonmaterial  n_car_1_material  \\\n0          1004.0      2007Q1           0              0                 0   \n1          1004.0      2007Q2           0              0                 0   \n2          1004.0      2007Q3           0              0                 0   \n3          1004.0      2007Q4           0              0                 0   \n4          1004.0      2008Q1           0              0                 0   \n...           ...         ...         ...            ...               ...   \n1091463  367430.0      2022Q4           0              0                 0   \n1091464  367430.0      2023Q1           0              0                 0   \n1091465  367430.0      2023Q2           0              0                 0   \n1091466  367430.0      2023Q3           0              0                 0   \n1091467  367430.0      2023Q4           0              0                 0   \n\n         n_car_5_material  n_rri_material  n_reach_material  \\\n0                       0               0                 0   \n1                       0               0                 0   \n2                       0               0                 0   \n3                       0               0                 0   \n4                       0               0                 0   \n...                   ...             ...               ...   \n1091463                 0               0                 0   \n1091464                 0               0                 0   \n1091465                 0               0                 0   \n1091466                 0               0                 0   \n1091467                 0               0                 0   \n\n         n_severity_material     cusip       SICS Codified Industry   \\\n0                          0  00036110  Industrial Machinery & Goods   \n1                          0  00036110  Industrial Machinery & Goods   \n2                          0  00036110  Industrial Machinery & Goods   \n3                          0  00036110  Industrial Machinery & Goods   \n4                          0  00036110  Industrial Machinery & Goods   \n...                      ...       ...                           ...   \n1091463                    0       NaN         Agricultural Products   \n1091464                    0       NaN         Agricultural Products   \n1091465                    0       NaN         Agricultural Products   \n1091466                    0       NaN         Agricultural Products   \n1091467                    0       NaN         Agricultural Products   \n\n           Codified SICS Sector   \n0        Resource Transformation  \n1        Resource Transformation  \n2        Resource Transformation  \n3        Resource Transformation  \n4        Resource Transformation  \n...                          ...  \n1091463          Food & Beverage  \n1091464          Food & Beverage  \n1091465          Food & Beverage  \n1091466          Food & Beverage  \n1091467          Food & Beverage  \n\n[1091468 rows x 12 columns]",
      "text/html": "<div>\n<style scoped>\n    .dataframe tbody tr th:only-of-type {\n        vertical-align: middle;\n    }\n\n    .dataframe tbody tr th {\n        vertical-align: top;\n    }\n\n    .dataframe thead th {\n        text-align: right;\n    }\n</style>\n<table border=\"1\" class=\"dataframe\">\n  <thead>\n    <tr style=\"text-align: right;\">\n      <th></th>\n      <th>gvkey</th>\n      <th>YearQuarter</th>\n      <th>n_material</th>\n      <th>n_nonmaterial</th>\n      <th>n_car_1_material</th>\n      <th>n_car_5_material</th>\n      <th>n_rri_material</th>\n      <th>n_reach_material</th>\n      <th>n_severity_material</th>\n      <th>cusip</th>\n      <th>SICS Codified Industry</th>\n      <th>Codified SICS Sector</th>\n    </tr>\n  </thead>\n  <tbody>\n    <tr>\n      <th>0</th>\n      <td>1004.0</td>\n      <td>2007Q1</td>\n      <td>0</td>\n      <td>0</td>\n      <td>0</td>\n      <td>0</td>\n      <td>0</td>\n      <td>0</td>\n      <td>0</td>\n      <td>00036110</td>\n      <td>Industrial Machinery &amp; Goods</td>\n      <td>Resource Transformation</td>\n    </tr>\n    <tr>\n      <th>1</th>\n      <td>1004.0</td>\n      <td>2007Q2</td>\n      <td>0</td>\n      <td>0</td>\n      <td>0</td>\n      <td>0</td>\n      <td>0</td>\n      <td>0</td>\n      <td>0</td>\n      <td>00036110</td>\n      <td>Industrial Machinery &amp; Goods</td>\n      <td>Resource Transformation</td>\n    </tr>\n    <tr>\n      <th>2</th>\n      <td>1004.0</td>\n      <td>2007Q3</td>\n      <td>0</td>\n      <td>0</td>\n      <td>0</td>\n      <td>0</td>\n      <td>0</td>\n      <td>0</td>\n      <td>0</td>\n      <td>00036110</td>\n      <td>Industrial Machinery &amp; Goods</td>\n      <td>Resource Transformation</td>\n    </tr>\n    <tr>\n      <th>3</th>\n      <td>1004.0</td>\n      <td>2007Q4</td>\n      <td>0</td>\n      <td>0</td>\n      <td>0</td>\n      <td>0</td>\n      <td>0</td>\n      <td>0</td>\n      <td>0</td>\n      <td>00036110</td>\n      <td>Industrial Machinery &amp; Goods</td>\n      <td>Resource Transformation</td>\n    </tr>\n    <tr>\n      <th>4</th>\n      <td>1004.0</td>\n      <td>2008Q1</td>\n      <td>0</td>\n      <td>0</td>\n      <td>0</td>\n      <td>0</td>\n      <td>0</td>\n      <td>0</td>\n      <td>0</td>\n      <td>00036110</td>\n      <td>Industrial Machinery &amp; Goods</td>\n      <td>Resource Transformation</td>\n    </tr>\n    <tr>\n      <th>...</th>\n      <td>...</td>\n      <td>...</td>\n      <td>...</td>\n      <td>...</td>\n      <td>...</td>\n      <td>...</td>\n      <td>...</td>\n      <td>...</td>\n      <td>...</td>\n      <td>...</td>\n      <td>...</td>\n      <td>...</td>\n    </tr>\n    <tr>\n      <th>1091463</th>\n      <td>367430.0</td>\n      <td>2022Q4</td>\n      <td>0</td>\n      <td>0</td>\n      <td>0</td>\n      <td>0</td>\n      <td>0</td>\n      <td>0</td>\n      <td>0</td>\n      <td>NaN</td>\n      <td>Agricultural Products</td>\n      <td>Food &amp; Beverage</td>\n    </tr>\n    <tr>\n      <th>1091464</th>\n      <td>367430.0</td>\n      <td>2023Q1</td>\n      <td>0</td>\n      <td>0</td>\n      <td>0</td>\n      <td>0</td>\n      <td>0</td>\n      <td>0</td>\n      <td>0</td>\n      <td>NaN</td>\n      <td>Agricultural Products</td>\n      <td>Food &amp; Beverage</td>\n    </tr>\n    <tr>\n      <th>1091465</th>\n      <td>367430.0</td>\n      <td>2023Q2</td>\n      <td>0</td>\n      <td>0</td>\n      <td>0</td>\n      <td>0</td>\n      <td>0</td>\n      <td>0</td>\n      <td>0</td>\n      <td>NaN</td>\n      <td>Agricultural Products</td>\n      <td>Food &amp; Beverage</td>\n    </tr>\n    <tr>\n      <th>1091466</th>\n      <td>367430.0</td>\n      <td>2023Q3</td>\n      <td>0</td>\n      <td>0</td>\n      <td>0</td>\n      <td>0</td>\n      <td>0</td>\n      <td>0</td>\n      <td>0</td>\n      <td>NaN</td>\n      <td>Agricultural Products</td>\n      <td>Food &amp; Beverage</td>\n    </tr>\n    <tr>\n      <th>1091467</th>\n      <td>367430.0</td>\n      <td>2023Q4</td>\n      <td>0</td>\n      <td>0</td>\n      <td>0</td>\n      <td>0</td>\n      <td>0</td>\n      <td>0</td>\n      <td>0</td>\n      <td>NaN</td>\n      <td>Agricultural Products</td>\n      <td>Food &amp; Beverage</td>\n    </tr>\n  </tbody>\n</table>\n<p>1091468 rows × 12 columns</p>\n</div>"
     },
     "execution_count": 24,
     "metadata": {},
     "output_type": "execute_result"
    }
   ],
   "source": [
    "reprisk_merged = reprisk.merge(reprisk_incidents[['gvkey', 'cusip', 'SICS Codified Industry ', 'Codified SICS Sector ']].drop_duplicates(), on='gvkey', how='left')\n",
    "reprisk_merged"
   ],
   "metadata": {
    "collapsed": false,
    "ExecuteTime": {
     "end_time": "2025-09-30T21:33:27.213737200Z",
     "start_time": "2025-09-30T21:33:26.941545200Z"
    }
   }
  },
  {
   "cell_type": "code",
   "execution_count": 28,
   "outputs": [
    {
     "data": {
      "text/plain": "           gvkey  year  n_material  n_nonmaterial  n_car_1_material  \\\n0         1004.0  2007           0              0                 0   \n1         1004.0  2008           0              0                 0   \n2         1004.0  2009           0              0                 0   \n3         1004.0  2010           0              1                 0   \n4         1004.0  2011           0              0                 0   \n...          ...   ...         ...            ...               ...   \n272862  367430.0  2019           0              0                 0   \n272863  367430.0  2020           0              0                 0   \n272864  367430.0  2021           0              0                 0   \n272865  367430.0  2022           0              0                 0   \n272866  367430.0  2023           0              0                 0   \n\n        n_car_5_material  n_rri_material  n_reach_material  \\\n0                      0               0                 0   \n1                      0               0                 0   \n2                      0               0                 0   \n3                      0               0                 1   \n4                      0               0                 0   \n...                  ...             ...               ...   \n272862                 0               0                 0   \n272863                 0               0                 0   \n272864                 0               0                 0   \n272865                 0               0                 0   \n272866                 0               0                 0   \n\n        n_severity_material  \n0                         0  \n1                         0  \n2                         0  \n3                         0  \n4                         0  \n...                     ...  \n272862                    0  \n272863                    0  \n272864                    0  \n272865                    0  \n272866                    0  \n\n[272867 rows x 9 columns]",
      "text/html": "<div>\n<style scoped>\n    .dataframe tbody tr th:only-of-type {\n        vertical-align: middle;\n    }\n\n    .dataframe tbody tr th {\n        vertical-align: top;\n    }\n\n    .dataframe thead th {\n        text-align: right;\n    }\n</style>\n<table border=\"1\" class=\"dataframe\">\n  <thead>\n    <tr style=\"text-align: right;\">\n      <th></th>\n      <th>gvkey</th>\n      <th>year</th>\n      <th>n_material</th>\n      <th>n_nonmaterial</th>\n      <th>n_car_1_material</th>\n      <th>n_car_5_material</th>\n      <th>n_rri_material</th>\n      <th>n_reach_material</th>\n      <th>n_severity_material</th>\n    </tr>\n  </thead>\n  <tbody>\n    <tr>\n      <th>0</th>\n      <td>1004.0</td>\n      <td>2007</td>\n      <td>0</td>\n      <td>0</td>\n      <td>0</td>\n      <td>0</td>\n      <td>0</td>\n      <td>0</td>\n      <td>0</td>\n    </tr>\n    <tr>\n      <th>1</th>\n      <td>1004.0</td>\n      <td>2008</td>\n      <td>0</td>\n      <td>0</td>\n      <td>0</td>\n      <td>0</td>\n      <td>0</td>\n      <td>0</td>\n      <td>0</td>\n    </tr>\n    <tr>\n      <th>2</th>\n      <td>1004.0</td>\n      <td>2009</td>\n      <td>0</td>\n      <td>0</td>\n      <td>0</td>\n      <td>0</td>\n      <td>0</td>\n      <td>0</td>\n      <td>0</td>\n    </tr>\n    <tr>\n      <th>3</th>\n      <td>1004.0</td>\n      <td>2010</td>\n      <td>0</td>\n      <td>1</td>\n      <td>0</td>\n      <td>0</td>\n      <td>0</td>\n      <td>1</td>\n      <td>0</td>\n    </tr>\n    <tr>\n      <th>4</th>\n      <td>1004.0</td>\n      <td>2011</td>\n      <td>0</td>\n      <td>0</td>\n      <td>0</td>\n      <td>0</td>\n      <td>0</td>\n      <td>0</td>\n      <td>0</td>\n    </tr>\n    <tr>\n      <th>...</th>\n      <td>...</td>\n      <td>...</td>\n      <td>...</td>\n      <td>...</td>\n      <td>...</td>\n      <td>...</td>\n      <td>...</td>\n      <td>...</td>\n      <td>...</td>\n    </tr>\n    <tr>\n      <th>272862</th>\n      <td>367430.0</td>\n      <td>2019</td>\n      <td>0</td>\n      <td>0</td>\n      <td>0</td>\n      <td>0</td>\n      <td>0</td>\n      <td>0</td>\n      <td>0</td>\n    </tr>\n    <tr>\n      <th>272863</th>\n      <td>367430.0</td>\n      <td>2020</td>\n      <td>0</td>\n      <td>0</td>\n      <td>0</td>\n      <td>0</td>\n      <td>0</td>\n      <td>0</td>\n      <td>0</td>\n    </tr>\n    <tr>\n      <th>272864</th>\n      <td>367430.0</td>\n      <td>2021</td>\n      <td>0</td>\n      <td>0</td>\n      <td>0</td>\n      <td>0</td>\n      <td>0</td>\n      <td>0</td>\n      <td>0</td>\n    </tr>\n    <tr>\n      <th>272865</th>\n      <td>367430.0</td>\n      <td>2022</td>\n      <td>0</td>\n      <td>0</td>\n      <td>0</td>\n      <td>0</td>\n      <td>0</td>\n      <td>0</td>\n      <td>0</td>\n    </tr>\n    <tr>\n      <th>272866</th>\n      <td>367430.0</td>\n      <td>2023</td>\n      <td>0</td>\n      <td>0</td>\n      <td>0</td>\n      <td>0</td>\n      <td>0</td>\n      <td>0</td>\n      <td>0</td>\n    </tr>\n  </tbody>\n</table>\n<p>272867 rows × 9 columns</p>\n</div>"
     },
     "execution_count": 28,
     "metadata": {},
     "output_type": "execute_result"
    }
   ],
   "source": [
    "df = reprisk_incidents.copy()\n",
    "\n",
    "# --- Use existing year column ---\n",
    "# Make sure it's integer-like\n",
    "df['year'] = pd.to_numeric(df['year'], errors='coerce').astype('Int64')\n",
    "\n",
    "key_y = ['gvkey', 'year']\n",
    "\n",
    "# --- Incident counts per firm–year ---\n",
    "counts = (\n",
    "    df.groupby(key_y, dropna=False)\n",
    "      .agg(\n",
    "          n_material          = ('material_flag',        lambda s: (s == 1).sum()),\n",
    "          n_nonmaterial       = ('material_flag',        lambda s: (s == 0).sum()),\n",
    "          n_car_1_material    = ('materiality_car_1',    lambda s: (s == 1).sum()),\n",
    "          n_car_5_material    = ('materiality_car_5',    lambda s: (s == 1).sum()),\n",
    "          n_rri_material      = ('materiality_rri',      lambda s: (s == 1).sum()),\n",
    "          n_reach_material    = ('materiality_reach',    lambda s: (s == 1).sum()),\n",
    "          n_severity_material = ('materiality_severity', lambda s: (s == 1).sum()),\n",
    "      )\n",
    "      .reset_index()\n",
    ")\n",
    "\n",
    "# --- Balanced universe: all firms × all years (global min..max of df['year']) ---\n",
    "firms = df['gvkey'].dropna().unique()\n",
    "ymin  = int(df['year'].min())\n",
    "ymax  = int(df['year'].max())\n",
    "years = pd.Index(range(ymin, ymax + 1), name='year')\n",
    "\n",
    "balanced = (\n",
    "    pd.MultiIndex.from_product([firms, years], names=key_y)\n",
    "      .to_frame(index=False)\n",
    ")\n",
    "\n",
    "# --- Merge counts; zeros where no incidents ---\n",
    "reprisk_yearly = (\n",
    "    balanced.merge(counts, on=key_y, how='left')\n",
    "            .fillna(0)\n",
    "            .sort_values(key_y)\n",
    "            .reset_index(drop=True)\n",
    ")\n",
    "\n",
    "count_cols = [\n",
    "    'n_material','n_nonmaterial','n_car_1_material','n_car_5_material',\n",
    "    'n_rri_material','n_reach_material','n_severity_material'\n",
    "]\n",
    "reprisk_yearly[count_cols] = reprisk_yearly[count_cols].astype('int16')\n",
    "\n",
    "\n",
    "reprisk_yearly\n"
   ],
   "metadata": {
    "collapsed": false,
    "ExecuteTime": {
     "end_time": "2025-09-30T21:42:44.639581200Z",
     "start_time": "2025-09-30T21:41:55.654877800Z"
    }
   }
  },
  {
   "cell_type": "code",
   "execution_count": 29,
   "outputs": [
    {
     "data": {
      "text/plain": "           gvkey  year  n_material  n_nonmaterial  n_car_1_material  \\\n0         1004.0  2007           0              0                 0   \n1         1004.0  2008           0              0                 0   \n2         1004.0  2009           0              0                 0   \n3         1004.0  2010           0              1                 0   \n4         1004.0  2011           0              0                 0   \n...          ...   ...         ...            ...               ...   \n272862  367430.0  2019           0              0                 0   \n272863  367430.0  2020           0              0                 0   \n272864  367430.0  2021           0              0                 0   \n272865  367430.0  2022           0              0                 0   \n272866  367430.0  2023           0              0                 0   \n\n        n_car_5_material  n_rri_material  n_reach_material  \\\n0                      0               0                 0   \n1                      0               0                 0   \n2                      0               0                 0   \n3                      0               0                 1   \n4                      0               0                 0   \n...                  ...             ...               ...   \n272862                 0               0                 0   \n272863                 0               0                 0   \n272864                 0               0                 0   \n272865                 0               0                 0   \n272866                 0               0                 0   \n\n        n_severity_material     cusip       SICS Codified Industry   \\\n0                         0  00036110  Industrial Machinery & Goods   \n1                         0  00036110  Industrial Machinery & Goods   \n2                         0  00036110  Industrial Machinery & Goods   \n3                         0  00036110  Industrial Machinery & Goods   \n4                         0  00036110  Industrial Machinery & Goods   \n...                     ...       ...                           ...   \n272862                    0       NaN         Agricultural Products   \n272863                    0       NaN         Agricultural Products   \n272864                    0       NaN         Agricultural Products   \n272865                    0       NaN         Agricultural Products   \n272866                    0       NaN         Agricultural Products   \n\n          Codified SICS Sector   \n0       Resource Transformation  \n1       Resource Transformation  \n2       Resource Transformation  \n3       Resource Transformation  \n4       Resource Transformation  \n...                         ...  \n272862          Food & Beverage  \n272863          Food & Beverage  \n272864          Food & Beverage  \n272865          Food & Beverage  \n272866          Food & Beverage  \n\n[272867 rows x 12 columns]",
      "text/html": "<div>\n<style scoped>\n    .dataframe tbody tr th:only-of-type {\n        vertical-align: middle;\n    }\n\n    .dataframe tbody tr th {\n        vertical-align: top;\n    }\n\n    .dataframe thead th {\n        text-align: right;\n    }\n</style>\n<table border=\"1\" class=\"dataframe\">\n  <thead>\n    <tr style=\"text-align: right;\">\n      <th></th>\n      <th>gvkey</th>\n      <th>year</th>\n      <th>n_material</th>\n      <th>n_nonmaterial</th>\n      <th>n_car_1_material</th>\n      <th>n_car_5_material</th>\n      <th>n_rri_material</th>\n      <th>n_reach_material</th>\n      <th>n_severity_material</th>\n      <th>cusip</th>\n      <th>SICS Codified Industry</th>\n      <th>Codified SICS Sector</th>\n    </tr>\n  </thead>\n  <tbody>\n    <tr>\n      <th>0</th>\n      <td>1004.0</td>\n      <td>2007</td>\n      <td>0</td>\n      <td>0</td>\n      <td>0</td>\n      <td>0</td>\n      <td>0</td>\n      <td>0</td>\n      <td>0</td>\n      <td>00036110</td>\n      <td>Industrial Machinery &amp; Goods</td>\n      <td>Resource Transformation</td>\n    </tr>\n    <tr>\n      <th>1</th>\n      <td>1004.0</td>\n      <td>2008</td>\n      <td>0</td>\n      <td>0</td>\n      <td>0</td>\n      <td>0</td>\n      <td>0</td>\n      <td>0</td>\n      <td>0</td>\n      <td>00036110</td>\n      <td>Industrial Machinery &amp; Goods</td>\n      <td>Resource Transformation</td>\n    </tr>\n    <tr>\n      <th>2</th>\n      <td>1004.0</td>\n      <td>2009</td>\n      <td>0</td>\n      <td>0</td>\n      <td>0</td>\n      <td>0</td>\n      <td>0</td>\n      <td>0</td>\n      <td>0</td>\n      <td>00036110</td>\n      <td>Industrial Machinery &amp; Goods</td>\n      <td>Resource Transformation</td>\n    </tr>\n    <tr>\n      <th>3</th>\n      <td>1004.0</td>\n      <td>2010</td>\n      <td>0</td>\n      <td>1</td>\n      <td>0</td>\n      <td>0</td>\n      <td>0</td>\n      <td>1</td>\n      <td>0</td>\n      <td>00036110</td>\n      <td>Industrial Machinery &amp; Goods</td>\n      <td>Resource Transformation</td>\n    </tr>\n    <tr>\n      <th>4</th>\n      <td>1004.0</td>\n      <td>2011</td>\n      <td>0</td>\n      <td>0</td>\n      <td>0</td>\n      <td>0</td>\n      <td>0</td>\n      <td>0</td>\n      <td>0</td>\n      <td>00036110</td>\n      <td>Industrial Machinery &amp; Goods</td>\n      <td>Resource Transformation</td>\n    </tr>\n    <tr>\n      <th>...</th>\n      <td>...</td>\n      <td>...</td>\n      <td>...</td>\n      <td>...</td>\n      <td>...</td>\n      <td>...</td>\n      <td>...</td>\n      <td>...</td>\n      <td>...</td>\n      <td>...</td>\n      <td>...</td>\n      <td>...</td>\n    </tr>\n    <tr>\n      <th>272862</th>\n      <td>367430.0</td>\n      <td>2019</td>\n      <td>0</td>\n      <td>0</td>\n      <td>0</td>\n      <td>0</td>\n      <td>0</td>\n      <td>0</td>\n      <td>0</td>\n      <td>NaN</td>\n      <td>Agricultural Products</td>\n      <td>Food &amp; Beverage</td>\n    </tr>\n    <tr>\n      <th>272863</th>\n      <td>367430.0</td>\n      <td>2020</td>\n      <td>0</td>\n      <td>0</td>\n      <td>0</td>\n      <td>0</td>\n      <td>0</td>\n      <td>0</td>\n      <td>0</td>\n      <td>NaN</td>\n      <td>Agricultural Products</td>\n      <td>Food &amp; Beverage</td>\n    </tr>\n    <tr>\n      <th>272864</th>\n      <td>367430.0</td>\n      <td>2021</td>\n      <td>0</td>\n      <td>0</td>\n      <td>0</td>\n      <td>0</td>\n      <td>0</td>\n      <td>0</td>\n      <td>0</td>\n      <td>NaN</td>\n      <td>Agricultural Products</td>\n      <td>Food &amp; Beverage</td>\n    </tr>\n    <tr>\n      <th>272865</th>\n      <td>367430.0</td>\n      <td>2022</td>\n      <td>0</td>\n      <td>0</td>\n      <td>0</td>\n      <td>0</td>\n      <td>0</td>\n      <td>0</td>\n      <td>0</td>\n      <td>NaN</td>\n      <td>Agricultural Products</td>\n      <td>Food &amp; Beverage</td>\n    </tr>\n    <tr>\n      <th>272866</th>\n      <td>367430.0</td>\n      <td>2023</td>\n      <td>0</td>\n      <td>0</td>\n      <td>0</td>\n      <td>0</td>\n      <td>0</td>\n      <td>0</td>\n      <td>0</td>\n      <td>NaN</td>\n      <td>Agricultural Products</td>\n      <td>Food &amp; Beverage</td>\n    </tr>\n  </tbody>\n</table>\n<p>272867 rows × 12 columns</p>\n</div>"
     },
     "execution_count": 29,
     "metadata": {},
     "output_type": "execute_result"
    }
   ],
   "source": [
    "reprisk_merged_yearly = reprisk_yearly.merge(reprisk_incidents[['gvkey', 'cusip', 'SICS Codified Industry ', 'Codified SICS Sector ']].drop_duplicates(), on='gvkey', how='left')\n",
    "reprisk_merged_yearly"
   ],
   "metadata": {
    "collapsed": false,
    "ExecuteTime": {
     "end_time": "2025-09-30T21:42:56.534809600Z",
     "start_time": "2025-09-30T21:42:56.320928Z"
    }
   }
  },
  {
   "cell_type": "code",
   "execution_count": 17,
   "outputs": [
    {
     "data": {
      "text/plain": "YearQuarter\n2007Q1    16051\n2007Q2    16051\n2007Q3    16051\n2007Q4    16051\n2008Q1    16051\n          ...  \n2022Q4    16051\n2023Q1    16051\n2023Q2    16051\n2023Q3    16051\n2023Q4    16051\nFreq: Q-DEC, Name: gvkey, Length: 68, dtype: int64"
     },
     "execution_count": 17,
     "metadata": {},
     "output_type": "execute_result"
    }
   ],
   "source": [
    "reprisk.groupby('YearQuarter')['gvkey'].nunique()"
   ],
   "metadata": {
    "collapsed": false,
    "ExecuteTime": {
     "end_time": "2025-09-30T18:49:15.576859100Z",
     "start_time": "2025-09-30T18:49:15.457502Z"
    }
   }
  },
  {
   "cell_type": "markdown",
   "source": [
    "# 1. Portfolios based on material incidents (yes/no)"
   ],
   "metadata": {
    "collapsed": false
   }
  },
  {
   "cell_type": "code",
   "execution_count": 31,
   "outputs": [
    {
     "data": {
      "text/plain": "count    1.091468e+06\nmean     2.785331e-02\nstd      2.758815e-01\nmin      0.000000e+00\n25%      0.000000e+00\n50%      0.000000e+00\n75%      0.000000e+00\nmax      2.900000e+01\nName: n_car_1_material, dtype: float64"
     },
     "execution_count": 31,
     "metadata": {},
     "output_type": "execute_result"
    }
   ],
   "source": [
    "reprisk_merged_yearly['n_car_1_material'].describe()"
   ],
   "metadata": {
    "collapsed": false,
    "ExecuteTime": {
     "end_time": "2025-09-30T21:44:46.153880900Z",
     "start_time": "2025-09-30T21:44:46.105858Z"
    }
   }
  },
  {
   "cell_type": "code",
   "execution_count": 288,
   "outputs": [],
   "source": [
    "# df = your yearly panel\n",
    "df = reprisk_merged_yearly.copy()\n",
    "df.drop_duplicates(['cusip', 'year'], keep='last', inplace=True)\n",
    "df['year'] = pd.to_numeric(df['year'], errors='coerce').astype('Int64')\n",
    "\n",
    "metrics = {\n",
    "    'material': 'n_material',\n",
    "    'car_1':    'n_car_1_material',\n",
    "    'car_5':    'n_car_5_material',\n",
    "    'reach':    'n_reach_material',\n",
    "    'severity': 'n_severity_material',\n",
    "}\n",
    "\n",
    "# --- Long memberships (one row per cusip-year-metric) ---\n",
    "frames = []\n",
    "for mname, mcol in metrics.items():\n",
    "    tmp = df[['cusip', 'year', mcol]].copy()\n",
    "    tmp['metric'] = mname\n",
    "    tmp['portfolio'] = np.where(tmp[mcol] > 0, 'incident', 'no_incident')\n",
    "    frames.append(tmp[['cusip', 'year', 'metric', 'portfolio']])\n",
    "\n",
    "portfolios_long = pd.concat(frames, ignore_index=True)\n",
    "\n",
    "# --- Wide memberships (one row per cusip-year; one column per metric) ---\n",
    "wide = df[['cusip', 'year']].drop_duplicates().sort_values(['cusip', 'year']).copy()\n",
    "wide_idx = wide.set_index(['cusip', 'year']).index\n",
    "\n",
    "for mname, mcol in metrics.items():\n",
    "    # make a Series aligned on (gvkey, year) index\n",
    "    s = df.set_index(['cusip', 'year'])[mcol]\n",
    "    s = (s > 0).map({True: 'incident', False: 'no_incident'})\n",
    "    # align to the wide index\n",
    "    wide[f'{mname}_portfolio'] = s.reindex(wide_idx).to_numpy()\n",
    "\n",
    "# Example: counts per year & portfolio\n",
    "portfolio_counts = (\n",
    "    portfolios_long\n",
    "    .groupby(['metric', 'year', 'portfolio'], as_index=False)\n",
    "    .agg(n_firms=('cusip', 'nunique'))\n",
    "    .sort_values(['metric', 'year', 'portfolio'])\n",
    ")\n"
   ],
   "metadata": {
    "collapsed": false,
    "ExecuteTime": {
     "end_time": "2025-10-02T14:19:21.680850900Z",
     "start_time": "2025-10-02T14:19:20.981898600Z"
    }
   }
  },
  {
   "cell_type": "code",
   "execution_count": 289,
   "outputs": [],
   "source": [
    "def build_incident_flags(df):\n",
    "    out = df.copy()\n",
    "\n",
    "    # 1) find all portfolio label columns\n",
    "    port_cols = [c for c in out.columns if c.endswith('_portfolio')]\n",
    "\n",
    "    # 3) create 0/1 flags per portfolio column\n",
    "    #    naming: noInc_<base>, inc_<base>  (e.g., noInc_material, inc_material)\n",
    "    for c in port_cols:\n",
    "        base = c.replace('_portfolio', '')  # e.g., 'material'\n",
    "        out[f'noInc_{base}'] = (out[c] == 'no_incident').astype('int8')\n",
    "        out[f'inc_{base}']   = (out[c] == 'incident').astype('int8')\n",
    "\n",
    "\n",
    "    return out"
   ],
   "metadata": {
    "collapsed": false,
    "ExecuteTime": {
     "end_time": "2025-10-02T14:19:23.814697400Z",
     "start_time": "2025-10-02T14:19:23.783295700Z"
    }
   }
  },
  {
   "cell_type": "code",
   "execution_count": 290,
   "outputs": [
    {
     "data": {
      "text/plain": "           cusip  year material_portfolio car_1_portfolio car_5_portfolio  \\\n81991   00030710  2007        no_incident     no_incident     no_incident   \n81992   00030710  2008        no_incident     no_incident     no_incident   \n81993   00030710  2009        no_incident     no_incident     no_incident   \n81994   00030710  2010        no_incident     no_incident     no_incident   \n81995   00030710  2011        no_incident     no_incident     no_incident   \n...          ...   ...                ...             ...             ...   \n272862       NaN  2019        no_incident     no_incident     no_incident   \n272863       NaN  2020        no_incident     no_incident     no_incident   \n272864       NaN  2021        no_incident     no_incident     no_incident   \n272865       NaN  2022        no_incident     no_incident     no_incident   \n272866       NaN  2023        no_incident     no_incident     no_incident   \n\n       reach_portfolio severity_portfolio  noInc_material  inc_material  \\\n81991      no_incident        no_incident               1             0   \n81992      no_incident        no_incident               1             0   \n81993      no_incident        no_incident               1             0   \n81994      no_incident        no_incident               1             0   \n81995      no_incident        no_incident               1             0   \n...                ...                ...             ...           ...   \n272862     no_incident        no_incident               1             0   \n272863     no_incident        no_incident               1             0   \n272864     no_incident        no_incident               1             0   \n272865     no_incident        no_incident               1             0   \n272866     no_incident        no_incident               1             0   \n\n        noInc_car_1  inc_car_1  noInc_car_5  inc_car_5  noInc_reach  \\\n81991             1          0            1          0            1   \n81992             1          0            1          0            1   \n81993             1          0            1          0            1   \n81994             1          0            1          0            1   \n81995             1          0            1          0            1   \n...             ...        ...          ...        ...          ...   \n272862            1          0            1          0            1   \n272863            1          0            1          0            1   \n272864            1          0            1          0            1   \n272865            1          0            1          0            1   \n272866            1          0            1          0            1   \n\n        inc_reach  noInc_severity  inc_severity  \n81991           0               1             0  \n81992           0               1             0  \n81993           0               1             0  \n81994           0               1             0  \n81995           0               1             0  \n...           ...             ...           ...  \n272862          0               1             0  \n272863          0               1             0  \n272864          0               1             0  \n272865          0               1             0  \n272866          0               1             0  \n\n[72148 rows x 17 columns]",
      "text/html": "<div>\n<style scoped>\n    .dataframe tbody tr th:only-of-type {\n        vertical-align: middle;\n    }\n\n    .dataframe tbody tr th {\n        vertical-align: top;\n    }\n\n    .dataframe thead th {\n        text-align: right;\n    }\n</style>\n<table border=\"1\" class=\"dataframe\">\n  <thead>\n    <tr style=\"text-align: right;\">\n      <th></th>\n      <th>cusip</th>\n      <th>year</th>\n      <th>material_portfolio</th>\n      <th>car_1_portfolio</th>\n      <th>car_5_portfolio</th>\n      <th>reach_portfolio</th>\n      <th>severity_portfolio</th>\n      <th>noInc_material</th>\n      <th>inc_material</th>\n      <th>noInc_car_1</th>\n      <th>inc_car_1</th>\n      <th>noInc_car_5</th>\n      <th>inc_car_5</th>\n      <th>noInc_reach</th>\n      <th>inc_reach</th>\n      <th>noInc_severity</th>\n      <th>inc_severity</th>\n    </tr>\n  </thead>\n  <tbody>\n    <tr>\n      <th>81991</th>\n      <td>00030710</td>\n      <td>2007</td>\n      <td>no_incident</td>\n      <td>no_incident</td>\n      <td>no_incident</td>\n      <td>no_incident</td>\n      <td>no_incident</td>\n      <td>1</td>\n      <td>0</td>\n      <td>1</td>\n      <td>0</td>\n      <td>1</td>\n      <td>0</td>\n      <td>1</td>\n      <td>0</td>\n      <td>1</td>\n      <td>0</td>\n    </tr>\n    <tr>\n      <th>81992</th>\n      <td>00030710</td>\n      <td>2008</td>\n      <td>no_incident</td>\n      <td>no_incident</td>\n      <td>no_incident</td>\n      <td>no_incident</td>\n      <td>no_incident</td>\n      <td>1</td>\n      <td>0</td>\n      <td>1</td>\n      <td>0</td>\n      <td>1</td>\n      <td>0</td>\n      <td>1</td>\n      <td>0</td>\n      <td>1</td>\n      <td>0</td>\n    </tr>\n    <tr>\n      <th>81993</th>\n      <td>00030710</td>\n      <td>2009</td>\n      <td>no_incident</td>\n      <td>no_incident</td>\n      <td>no_incident</td>\n      <td>no_incident</td>\n      <td>no_incident</td>\n      <td>1</td>\n      <td>0</td>\n      <td>1</td>\n      <td>0</td>\n      <td>1</td>\n      <td>0</td>\n      <td>1</td>\n      <td>0</td>\n      <td>1</td>\n      <td>0</td>\n    </tr>\n    <tr>\n      <th>81994</th>\n      <td>00030710</td>\n      <td>2010</td>\n      <td>no_incident</td>\n      <td>no_incident</td>\n      <td>no_incident</td>\n      <td>no_incident</td>\n      <td>no_incident</td>\n      <td>1</td>\n      <td>0</td>\n      <td>1</td>\n      <td>0</td>\n      <td>1</td>\n      <td>0</td>\n      <td>1</td>\n      <td>0</td>\n      <td>1</td>\n      <td>0</td>\n    </tr>\n    <tr>\n      <th>81995</th>\n      <td>00030710</td>\n      <td>2011</td>\n      <td>no_incident</td>\n      <td>no_incident</td>\n      <td>no_incident</td>\n      <td>no_incident</td>\n      <td>no_incident</td>\n      <td>1</td>\n      <td>0</td>\n      <td>1</td>\n      <td>0</td>\n      <td>1</td>\n      <td>0</td>\n      <td>1</td>\n      <td>0</td>\n      <td>1</td>\n      <td>0</td>\n    </tr>\n    <tr>\n      <th>...</th>\n      <td>...</td>\n      <td>...</td>\n      <td>...</td>\n      <td>...</td>\n      <td>...</td>\n      <td>...</td>\n      <td>...</td>\n      <td>...</td>\n      <td>...</td>\n      <td>...</td>\n      <td>...</td>\n      <td>...</td>\n      <td>...</td>\n      <td>...</td>\n      <td>...</td>\n      <td>...</td>\n      <td>...</td>\n    </tr>\n    <tr>\n      <th>272862</th>\n      <td>NaN</td>\n      <td>2019</td>\n      <td>no_incident</td>\n      <td>no_incident</td>\n      <td>no_incident</td>\n      <td>no_incident</td>\n      <td>no_incident</td>\n      <td>1</td>\n      <td>0</td>\n      <td>1</td>\n      <td>0</td>\n      <td>1</td>\n      <td>0</td>\n      <td>1</td>\n      <td>0</td>\n      <td>1</td>\n      <td>0</td>\n    </tr>\n    <tr>\n      <th>272863</th>\n      <td>NaN</td>\n      <td>2020</td>\n      <td>no_incident</td>\n      <td>no_incident</td>\n      <td>no_incident</td>\n      <td>no_incident</td>\n      <td>no_incident</td>\n      <td>1</td>\n      <td>0</td>\n      <td>1</td>\n      <td>0</td>\n      <td>1</td>\n      <td>0</td>\n      <td>1</td>\n      <td>0</td>\n      <td>1</td>\n      <td>0</td>\n    </tr>\n    <tr>\n      <th>272864</th>\n      <td>NaN</td>\n      <td>2021</td>\n      <td>no_incident</td>\n      <td>no_incident</td>\n      <td>no_incident</td>\n      <td>no_incident</td>\n      <td>no_incident</td>\n      <td>1</td>\n      <td>0</td>\n      <td>1</td>\n      <td>0</td>\n      <td>1</td>\n      <td>0</td>\n      <td>1</td>\n      <td>0</td>\n      <td>1</td>\n      <td>0</td>\n    </tr>\n    <tr>\n      <th>272865</th>\n      <td>NaN</td>\n      <td>2022</td>\n      <td>no_incident</td>\n      <td>no_incident</td>\n      <td>no_incident</td>\n      <td>no_incident</td>\n      <td>no_incident</td>\n      <td>1</td>\n      <td>0</td>\n      <td>1</td>\n      <td>0</td>\n      <td>1</td>\n      <td>0</td>\n      <td>1</td>\n      <td>0</td>\n      <td>1</td>\n      <td>0</td>\n    </tr>\n    <tr>\n      <th>272866</th>\n      <td>NaN</td>\n      <td>2023</td>\n      <td>no_incident</td>\n      <td>no_incident</td>\n      <td>no_incident</td>\n      <td>no_incident</td>\n      <td>no_incident</td>\n      <td>1</td>\n      <td>0</td>\n      <td>1</td>\n      <td>0</td>\n      <td>1</td>\n      <td>0</td>\n      <td>1</td>\n      <td>0</td>\n      <td>1</td>\n      <td>0</td>\n    </tr>\n  </tbody>\n</table>\n<p>72148 rows × 17 columns</p>\n</div>"
     },
     "execution_count": 290,
     "metadata": {},
     "output_type": "execute_result"
    }
   ],
   "source": [
    "# ---- use it ----\n",
    "wide_flags = build_incident_flags(wide)  # replace df_inc with your DataFrame name\n",
    "\n",
    "wide_flags\n"
   ],
   "metadata": {
    "collapsed": false,
    "ExecuteTime": {
     "end_time": "2025-10-02T14:19:24.830300200Z",
     "start_time": "2025-10-02T14:19:24.741564700Z"
    }
   }
  },
  {
   "cell_type": "markdown",
   "source": [
    "# 2. Portfolios based on orthogonalization"
   ],
   "metadata": {
    "collapsed": false
   }
  },
  {
   "cell_type": "code",
   "execution_count": 90,
   "outputs": [
    {
     "name": "stdout",
     "output_type": "stream",
     "text": [
      "Loading library list...\n",
      "Done\n"
     ]
    }
   ],
   "source": [
    "import wrds\n",
    "from pathlib import Path\n",
    "from dotenv import load_dotenv\n",
    "import os\n",
    "\n",
    "project_root = Path(r\"E:\\GermanBusinessPanelTeam\\Schrader\\Forschung\\ESGmateriality\")\n",
    "\n",
    "# ── Load WRDS creds from wrds.env in the project root ─────────────────────────\n",
    "env_path = project_root / \"wrds.env\"\n",
    "load_dotenv(dotenv_path=env_path)\n",
    "# ── Connect to WRDS ───────────────────────────────────────────────────────────\n",
    "db = wrds.Connection(\n",
    "    wrds_username=os.getenv(\"WRDS_YALE_USERNAME\"),\n",
    "    wrds_password=os.getenv(\"WRDS_YALE_PASSWORD\")\n",
    ")"
   ],
   "metadata": {
    "collapsed": false,
    "ExecuteTime": {
     "end_time": "2025-10-01T15:02:05.244861400Z",
     "start_time": "2025-10-01T15:02:02.415656700Z"
    }
   }
  },
  {
   "cell_type": "code",
   "execution_count": 51,
   "outputs": [
    {
     "data": {
      "text/plain": "['aha',\n 'aha_common',\n 'aha_hcris_recent',\n 'aha_it_survey_recent',\n 'aha_sample',\n 'ahasamp',\n 'audit',\n 'audit_audit_comp',\n 'audit_common',\n 'audit_corp_legal',\n 'audit_oia',\n 'auditsmp',\n 'auditsmp_all',\n 'bank',\n 'bank_all',\n 'bank_premium_samp',\n 'banksamp',\n 'block',\n 'block_all',\n 'boardex_trial',\n 'boardsmp',\n 'bvd_amadeus_trial',\n 'bvd_bvdbankf_trial',\n 'bvd_orbis_trial',\n 'bvdsamp',\n 'calcbench_trial',\n 'calcbnch',\n 'candid_samp',\n 'cboe',\n 'cboe_all',\n 'cboe_sample',\n 'cboesamp',\n 'cddsamp',\n 'ciq',\n 'ciq_capstrct',\n 'ciq_common',\n 'ciq_keydev',\n 'ciq_pplintel',\n 'ciq_ratings',\n 'ciq_transactions',\n 'ciq_transcripts',\n 'ciqsamp',\n 'ciqsamp_capstrct',\n 'ciqsamp_common',\n 'ciqsamp_keydev',\n 'ciqsamp_pplintel',\n 'ciqsamp_ratings',\n 'ciqsamp_transactions',\n 'ciqsamp_transcripts',\n 'cisdmsmp',\n 'columnar',\n 'comp',\n 'comp_bank_daily',\n 'comp_execucomp',\n 'comp_filings',\n 'comp_global_daily',\n 'comp_na_daily_all',\n 'comp_segments_hist_daily',\n 'comp_snapshot',\n 'compsamp',\n 'compsamp_all',\n 'compsamp_snapshot',\n 'compseg',\n 'compsnap',\n 'contrib',\n 'contrib_as_filed_financials',\n 'contrib_ceo_turnover',\n 'contrib_char_returns',\n 'contrib_corporate_culture',\n 'contrib_general',\n 'contrib_global_factor',\n 'contrib_intangible_value',\n 'contrib_kpss',\n 'contrib_liquidity_taq',\n 'contrib_liva',\n 'crsp',\n 'crsp_a_ccm',\n 'crsp_a_indexes',\n 'crsp_a_stock',\n 'crsp_a_treasuries',\n 'crsp_a_ziman',\n 'crsp_q_mutualfunds',\n 'crsp_q_ziman',\n 'crspq',\n 'crspsamp',\n 'crspsamp_all',\n 'crspsamp_mf',\n 'csmsamp_all',\n 'dealscan',\n 'djones',\n 'djones_all',\n 'dmef',\n 'dmef_all',\n 'doe',\n 'doe_all',\n 'etfg_samp',\n 'etfgsamp',\n 'execcomp',\n 'factsamp_all',\n 'factsamp_revere',\n 'ff',\n 'ff_all',\n 'fisd',\n 'fisd_common',\n 'fisd_fisd',\n 'fisd_naic',\n 'fisdsamp',\n 'fisdsamp_all',\n 'fjc',\n 'fjc_linking',\n 'fjc_litigation',\n 'frb',\n 'frb_all',\n 'fssamp',\n 'ftsesamp',\n 'ftsesamp_russell_us',\n 'gutenberg',\n 'hfrsamp',\n 'hfrsamp_hfrdb',\n 'ibes',\n 'ibessamp_kpi',\n 'ifgr',\n 'ifgrsamp',\n 'ims_obp_trial',\n 'imssamp',\n 'infogroup_business_academic',\n 'infogroupsamp_business',\n 'infogroupsamp_residential',\n 'insdsamp',\n 'iri',\n 'iri_all',\n 'kpisamp',\n 'macrofin',\n 'macrofin_comm_trade',\n 'markit',\n 'markit_cds',\n 'markit_cdxconst',\n 'markit_red',\n 'mfl',\n 'mflinks_all',\n 'midas',\n 'morningstarsamp_cisdm',\n 'mpsych_sample',\n 'mrktsamp',\n 'mrktsamp_cds',\n 'mrktsamp_cdx',\n 'mrktsamp_msf',\n 'msci_esg_samp',\n 'msciesmp',\n 'msrb',\n 'msrb_all',\n 'msrbsamp',\n 'msrbsamp_all',\n 'omtrial',\n 'optionm',\n 'optionm_all',\n 'optionmsamp_europe',\n 'optionmsamp_us',\n 'otc',\n 'otc_endofday',\n 'phlx',\n 'phlx_all',\n 'pitchsmp',\n 'preqin',\n 'preqin_cashflow',\n 'preqin_deals',\n 'preqin_gp',\n 'preqin_lp',\n 'preqin_pe',\n 'preqin_vc',\n 'preqsamp',\n 'preqsamp_all',\n 'public',\n 'public_all',\n 'pwt',\n 'pwt_all',\n 'ravenpack_common',\n 'ravenpack_dj',\n 'ravenpack_full',\n 'ravenpack_trial',\n 'ravenpack_web',\n 'reprisk_sample',\n 'repsamp',\n 'revelio',\n 'revelio_common',\n 'revelio_individual',\n 'revelio_job_postings',\n 'revelio_layoffs',\n 'revelio_samp',\n 'revelio_sentiment',\n 'revelio_workforce_dynamics',\n 'revsamp',\n 'risksamp',\n 'risksamp_all',\n 'rpna',\n 'rpnasamp',\n 'rq_all',\n 'rstat_samp',\n 'rstatsmp',\n 'sdc',\n 'sdcsamp',\n 'secsamp',\n 'secsamp_all',\n 'shvlsamp',\n 'snapsamp',\n 'snlsamp',\n 'snlsamp_fig',\n 'sp_esg',\n 'sustainalyticssamp_all',\n 'sustsamp',\n 'taqm_2013',\n 'taqm_2014',\n 'taqm_2015',\n 'taqm_2016',\n 'taqm_2017',\n 'taqm_2018',\n 'taqm_2019',\n 'taqm_2020',\n 'taqm_2021',\n 'taqm_2022',\n 'taqm_2023',\n 'taqm_2024',\n 'taqm_2025',\n 'taqmsamp',\n 'taqmsamp_all',\n 'taqmsec',\n 'taqsamp',\n 'taqsamp_all',\n 'tass',\n 'tfn',\n 'totalq',\n 'totalq_all',\n 'tr_13f',\n 'tr_common',\n 'tr_dealscan',\n 'tr_ds_comds',\n 'tr_ds_econ',\n 'tr_ds_equities',\n 'tr_ds_fut',\n 'tr_esg',\n 'tr_ibes',\n 'tr_insiders',\n 'tr_mutualfunds',\n 'tr_sdc_ma',\n 'tr_sdc_samples',\n 'tr_tass',\n 'tr_worldscope',\n 'trace',\n 'trace_enhanced',\n 'trace_standard',\n 'trcommon',\n 'trcstsmp',\n 'trdbdmismp',\n 'trdbwbsmp',\n 'trdssamp',\n 'trdstrm',\n 'tresg',\n 'tresgsmp',\n 'trsamp',\n 'trsamp_all',\n 'trsamp_db_dmi',\n 'trsamp_db_wb',\n 'trsamp_ds_eq',\n 'trsamp_dscom',\n 'trsamp_dsecon',\n 'trsamp_dsfut',\n 'trsamp_esg',\n 'trsamp_sdc_ma',\n 'trsamp_sdc_ni',\n 'trsamp_worldscope',\n 'trucost',\n 'trucost_carbon',\n 'trucost_common',\n 'trucost_environ',\n 'trucost_fossilfuel',\n 'trucost_paris',\n 'trucost_risk',\n 'trucost_samp',\n 'trucost_sector_ff',\n 'trucost_sector_revenue',\n 'trws',\n 'twoiq_samp',\n 'twoiqsmp',\n 'wappsamp',\n 'wenvsmp',\n 'wmfsmp',\n 'wrds_environmental_samp',\n 'wrds_insiders',\n 'wrds_insiders_samp',\n 'wrds_lib_internal',\n 'wrds_mutualfund_samp',\n 'wrds_sec_search',\n 'wrds_shortvolume_samp',\n 'wrdsapps',\n 'wrdsapps_backtest_basic',\n 'wrdsapps_backtest_plus',\n 'wrdsapps_bondret',\n 'wrdsapps_eushort',\n 'wrdsapps_evtstudy_int',\n 'wrdsapps_evtstudy_intraday_rav',\n 'wrdsapps_evtstudy_lr',\n 'wrdsapps_evtstudy_lr_ciq',\n 'wrdsapps_evtstudy_us',\n 'wrdsapps_finratio',\n 'wrdsapps_finratio_ccm',\n 'wrdsapps_finratio_ibes',\n 'wrdsapps_finratio_ibes_ccm',\n 'wrdsapps_link_comp_eushort',\n 'wrdsapps_link_crsp_bond',\n 'wrdsapps_link_crsp_factset',\n 'wrdsapps_link_crsp_ibes',\n 'wrdsapps_link_crsp_optionm',\n 'wrdsapps_link_crsp_taq',\n 'wrdsapps_link_crsp_taqm',\n 'wrdsapps_link_datastream_wscope',\n 'wrdsapps_link_dealscan_wscope',\n 'wrdsapps_link_supplychain',\n 'wrdsapps_patents',\n 'wrdsapps_plink_exec_ciq',\n 'wrdsapps_plink_exec_trinsider',\n 'wrdsapps_plink_trinsider_ciq',\n 'wrdsapps_subsidiary',\n 'wrdsapps_windices',\n 'wrdsappssamp_all',\n 'wrdsinsd',\n 'wrdssec',\n 'wrdssec_all',\n 'wrdssec_bow',\n 'wrdssec_common',\n 'wrdssec_insiders',\n 'wrdssec_midas',\n 'wrdssec_secsa',\n 'zacksamp',\n 'zacksamp_all']"
     },
     "execution_count": 51,
     "metadata": {},
     "output_type": "execute_result"
    }
   ],
   "source": [
    "db.list_libraries()"
   ],
   "metadata": {
    "collapsed": false,
    "ExecuteTime": {
     "end_time": "2025-10-01T13:24:59.409072600Z",
     "start_time": "2025-10-01T13:24:59.383712200Z"
    }
   }
  },
  {
   "cell_type": "code",
   "execution_count": 162,
   "outputs": [
    {
     "data": {
      "text/plain": "['_qvards_',\n 'admin',\n 'admins',\n 'adminstatecountry',\n 'attachmentstab',\n 'auditopinionseries',\n 'authorizedparticipant',\n 'authorizedparticipants',\n 'bow_1993',\n 'bow_1994',\n 'bow_1995',\n 'bow_1996',\n 'bow_1997',\n 'bow_1998',\n 'bow_1999',\n 'bow_2000',\n 'bow_2001',\n 'bow_2002',\n 'bow_2003',\n 'bow_2004',\n 'bow_2005',\n 'bow_2006',\n 'bow_2007',\n 'bow_2008',\n 'bow_2009',\n 'bow_2010',\n 'bow_2011',\n 'bow_2012',\n 'bow_2013',\n 'bow_2014',\n 'bow_2015',\n 'bow_2016',\n 'bow_2017',\n 'bow_2018',\n 'bow_2019',\n 'bow_2020',\n 'bow_2021',\n 'bow_2022',\n 'bow_2023',\n 'bow_2024',\n 'bow_cossim',\n 'bow_filingsummary',\n 'bow_wordsummary',\n 'broker',\n 'brokerdealer',\n 'brokerdealers',\n 'brokerdealerstatecountry',\n 'brokers',\n 'brokerstatecountry',\n 'ccoemployers',\n 'ccostatecountry',\n 'chars',\n 'chiefcomplianceofficer',\n 'chiefcomplianceofficers',\n 'cisdf',\n 'claimfiled',\n 'classid',\n 'closedendmanagementinvestment',\n 'collateralmanager',\n 'collateralmanagers',\n 'commonstock',\n 'commonstocks',\n 'contact',\n 'contractsecurities',\n 'contractsecurity',\n 'coveredbyinsurancepolicy',\n 'creditlineused',\n 'credituser',\n 'custodian',\n 'custodians',\n 'custodianstatecountry',\n 'depositor',\n 'depositors',\n 'depositorstatecountry',\n 'derivatives',\n 'dforms',\n 'director',\n 'directors',\n 'divdinarrears',\n 'divestment',\n 'divestments',\n 'dividendsinarrear',\n 'dividendsinarrears',\n 'document',\n 'document_info',\n 'documents',\n 'edgarsubmission',\n 'exchangeseriesinfo',\n 'exchangetradedfund',\n 'exhibits',\n 'feederfunds',\n 'fforms',\n 'filenumberinfo',\n 'filenumbers',\n 'filer',\n 'filerinfo',\n 'financialsupportseriesinfo',\n 'flags',\n 'footnotes',\n 'foreigninvestment',\n 'foreigninvestments',\n 'form',\n 'forms',\n 'fundlendsecurities',\n 'fundtypes',\n 'generalinfo',\n 'header',\n 'idemnityprovider',\n 'idemnityproviders',\n 'includeallclassesflag',\n 'indexfundinfo',\n 'interfundborrowing',\n 'interfundborrowingdetails',\n 'interfundlending',\n 'interfundlendingdetails',\n 'investmentadviser',\n 'investmentadviserhired',\n 'investmentadvisers',\n 'investmentadviserstatecountry',\n 'investmentadvisersterminated',\n 'investmentadviserterminated',\n 'investmentadviserterminatedstate',\n 'issuercredentials',\n 'items8k',\n 'items8k_list',\n 'legalproceedingseriesinfo',\n 'lineofcredit',\n 'lineofcreditdetail',\n 'lineofcreditdetails',\n 'lineofcreditinstitution',\n 'lineofcreditinstitutions',\n 'locationbooksrecord',\n 'locationbooksrecords',\n 'longtermdebtdefault',\n 'longtermdebtdefault1',\n 'longtermdebtdefaults',\n 'managementinvestmentquestion',\n 'managementinvestmentquestionseri',\n 'masterfeederfundinfo',\n 'masterfunds',\n 'missing_forms',\n 'nonderivatives',\n 'notifications',\n 'notregistrantseparateinsuranceac',\n 'nsar_answers',\n 'nsar_headers',\n 'nsar_remainders',\n 'officestatecountry',\n 'paymentdividendseries',\n 'paymenterrorseries',\n 'paymenttoagentmanagers',\n 'previousproceedingterminated',\n 'pricingservice',\n 'pricingservices',\n 'pricingservicestatecountry',\n 'principalstatecountry',\n 'principaltransaction',\n 'principaltransactions',\n 'principalunderwriter',\n 'principalunderwriters',\n 'principalunderwriterstatecountry',\n 'publicaccountant',\n 'publicaccountants',\n 'publicaccountantstatecountry',\n 'registrantfamilyinvcomp',\n 'registrantheldsecurities',\n 'registrantheldsecurity',\n 'registrantinfo',\n 'registrantseparateinsuranceaccou',\n 'releasenumberinfo',\n 'releasenumbers',\n 'relyonruletypes',\n 'reporting_owners',\n 'reportseriesclass',\n 'repurchasesecurities',\n 'rightsofferingfund',\n 'rightsofferingfunds',\n 'rightsofferingtypes',\n 'rptincludeallclassesflag',\n 'rptseriesclassinfo',\n 'sec_form_descriptions',\n 'sec_item_scores',\n 'sec_item_scores_trans',\n 'sec_item_words_filings',\n 'sec_item_words_freq',\n 'secondaryofferings',\n 'securityagentidemnity',\n 'securityexchange',\n 'securityexchanges',\n 'securitylending',\n 'securitylendings',\n 'securitymatterseriesinfo',\n 'securityrelateditem',\n 'securityrelateditems',\n 'seriescik',\n 'seriesciks',\n 'seriesinfo',\n 'seriesinfo1',\n 'seriesinfo2',\n 'seriesinfo3',\n 'seriesinfo4',\n 'seriesinfo5',\n 'seriesinfo6',\n 'seriesinfo7',\n 'sharedcredittype',\n 'shareholderserviceagentstatecoun',\n 'shareholderservicingagent',\n 'shareholderservicingagents',\n 'sharesoutstanding',\n 'sharesoutstandings',\n 'signature',\n 'signatures',\n 'smallcustodian',\n 'smallcustodians',\n 'smallcustodianstatecountry',\n 'smallinvestmentadviser',\n 'smallinvestmentadviserhired',\n 'smallinvestmentadvisers',\n 'smallinvestmentadviserstatecount',\n 'smallinvestmentadviserterminated',\n 'smallsubadviser',\n 'smallsubadviserhired',\n 'smallsubadvisers',\n 'smallsubadviserstatecountry',\n 'smallsubadviserterminatedstateco',\n 'smalltransferagent',\n 'smalltransferagents',\n 'smalltransferagentstatecountry',\n 'solecredittype',\n 'sponsor',\n 'sponsors',\n 'sponsorstatecountry',\n 'subadviser',\n 'subadviserhired',\n 'subadvisers',\n 'subadviserstatecountry',\n 'subadvisersterminated',\n 'subadviserterminated',\n 'subadviserterminatedstatecountry',\n 'swingpricingdetail',\n 'table1',\n 'table2',\n 'table3',\n 'terminatedseries',\n 'terminatedseriesinfo',\n 'terminatedsmallinvadviser',\n 'terminatedsmallinvadvisers',\n 'terminatedsmallsubadviser',\n 'terminatedsmallsubadvisers',\n 'transferagent',\n 'transferagents',\n 'transferagentstatecountry',\n 'trustee',\n 'trustees',\n 'trusteestatecountry',\n 'uitadmin',\n 'uitadmins',\n 'uitadminstatecountry',\n 'unitinvestmenttrust',\n 'valuationmethodschange',\n 'valuationmethodschanges',\n 'valuationmethodschangeseries',\n 'wciklink_cusip',\n 'wciklink_gvkey',\n 'wciklink_names',\n 'wciklink_ticker',\n 'website',\n 'websites',\n 'wncen_cef_fund',\n 'wncen_cef_longtermdebtdefault',\n 'wncen_cef_rightsoffering',\n 'wncen_cef_securityrelateditems',\n 'wncen_etf_aps',\n 'wncen_etf_fund',\n 'wncen_fund',\n 'wncen_fund_admin',\n 'wncen_fund_broker',\n 'wncen_fund_brokerdealer',\n 'wncen_fund_custodian',\n 'wncen_fund_feederinfo',\n 'wncen_fund_foreigninv',\n 'wncen_fund_invadv',\n 'wncen_fund_masterinfo',\n 'wncen_fund_pricingservice',\n 'wncen_fund_prtransaction',\n 'wncen_fund_seclending',\n 'wncen_fund_shareclasses',\n 'wncen_fund_shservagent',\n 'wncen_fund_subadv',\n 'wncen_fund_transferagent',\n 'wncen_reg_accountant',\n 'wncen_reg_director',\n 'wncen_reg_locbookrec',\n 'wncen_reg_underwriter',\n 'wncen_uit_admins',\n 'wncen_uit_contractsecurities',\n 'wncen_uit_depositors',\n 'wncen_uit_divestments',\n 'wncen_uit_fund',\n 'wncen_uit_nrsi',\n 'wncen_uit_registrantheldsec',\n 'wrds_13f_holdings',\n 'wrds_13f_link',\n 'wrds_13f_summary',\n 'wrds_forms',\n 'wrds_forms_reg',\n 'wrds_nlpsa',\n 'wrds_vc_form1a',\n 'wrds_vc_form1k',\n 'wrds_vc_form1z',\n 'wrds_vc_formc',\n 'wrds_vc_formd',\n 'wrds_vc_relatedpersonslist']"
     },
     "execution_count": 162,
     "metadata": {},
     "output_type": "execute_result"
    }
   ],
   "source": [
    "db.list_tables(library='wrdssec')"
   ],
   "metadata": {
    "collapsed": false,
    "ExecuteTime": {
     "end_time": "2025-10-01T16:14:13.267802700Z",
     "start_time": "2025-10-01T16:14:13.209524900Z"
    }
   }
  },
  {
   "cell_type": "code",
   "execution_count": 167,
   "outputs": [
    {
     "name": "stdout",
     "output_type": "stream",
     "text": [
      "Approximately 98307046 rows in wrdssec.wrds_13f_holdings.\n",
      "['cik' 'coname' 'form' 'rdate' 'fdate' 'fname' 'nameofissuer'\n",
      " 'titleofclass' 'cusip' 'value' 'sshprnamt' 'sshprnamttype' 'putcall'\n",
      " 'investmentdiscretion' 'othermanager' 'sole' 'shared' 'none']\n"
     ]
    }
   ],
   "source": [
    "db.describe_table(library=\"wrdssec\", table='wrds_13f_holdings')"
   ],
   "metadata": {
    "collapsed": false,
    "ExecuteTime": {
     "end_time": "2025-10-01T16:33:31.541076800Z",
     "start_time": "2025-10-01T16:33:31.424577200Z"
    }
   }
  },
  {
   "cell_type": "code",
   "execution_count": 118,
   "outputs": [],
   "source": [
    "# ---------- tiny helper: keys + single Compustat pull ----------\n",
    "\n",
    "def _keys(df):\n",
    "    return (df[['gvkey','year']]\n",
    "            .dropna()\n",
    "            .assign(\n",
    "                gvkey=lambda d: d['gvkey'].astype(str).str.replace(r'\\.0$', '', regex=True).str.zfill(6),\n",
    "                year =lambda d: d['year'].astype(int))\n",
    "            .drop_duplicates())\n",
    "\n",
    "def _pull_compustat(db, keys):\n",
    "    \"\"\"\n",
    "    Pull minimal Compustat annual (INDL/STD/C) rows for calendar years needed:\n",
    "      - for year t, we need calendar years in [t-1, t] (t for ROA, t-1 for others)\n",
    "    Returns a DataFrame with columns used below + a 'calyear' (datadate.year).\n",
    "    \"\"\"\n",
    "    y_min, y_max = int(keys['year'].min()), int(keys['year'].max())\n",
    "    comp = db.raw_sql(\"\"\"\n",
    "        select gvkey, datadate,\n",
    "               at, lt, ceq, seq, pstk, xrd, xad, sale, ib, mkvalt\n",
    "        from comp.funda\n",
    "        where indfmt='INDL' and datafmt='STD' and consol='C'\n",
    "          and gvkey in %(g)s\n",
    "          and extract(year from datadate) between %(a)s and %(b)s\n",
    "    \"\"\", params={\n",
    "        \"g\": tuple(keys['gvkey'].unique().tolist()),\n",
    "        \"a\": y_min - 1,                      # need t-1 for most vars\n",
    "        \"b\": y_max                           # need t for ROA\n",
    "    }, date_cols=['datadate'])\n",
    "    if comp.empty:\n",
    "        comp = pd.DataFrame(columns=[\n",
    "            'gvkey','datadate','at','lt','ceq','seq','pstk','xrd','xad','sale','ib','mkvalt'\n",
    "        ])\n",
    "    comp['calyear'] = pd.to_datetime(comp['datadate']).dt.year.astype('Int64')\n",
    "    return comp"
   ],
   "metadata": {
    "collapsed": false,
    "ExecuteTime": {
     "end_time": "2025-10-01T15:32:57.777736600Z",
     "start_time": "2025-10-01T15:32:57.743261600Z"
    }
   }
  },
  {
   "cell_type": "code",
   "execution_count": 92,
   "outputs": [],
   "source": [
    "# ---------- 1) Size (Compustat mkvalt) ----------\n",
    "\n",
    "def get_size(db, reprisk_merged_yearly):\n",
    "    \"\"\"\n",
    "    Size = ln(mkvalt) using Compustat annual.\n",
    "    For (gvkey, year=t), pick the *last* Compustat row with datadate in calendar year t-1.\n",
    "    \"\"\"\n",
    "    keys = _keys(reprisk_merged_yearly)\n",
    "    if keys.empty:\n",
    "        return pd.DataFrame(columns=['gvkey','year','size'])\n",
    "    comp = _pull_compustat(db, keys)\n",
    "\n",
    "    # map each row to target year t = calyear + 1; keep last within that calendar year\n",
    "    sz = (comp.assign(year=lambda d: d['calyear'] + 1)\n",
    "               .sort_values(['gvkey','year','datadate'])\n",
    "               .drop_duplicates(['gvkey','year'], keep='last'))[['gvkey','year','mkvalt']]\n",
    "\n",
    "    out = keys.merge(sz, on=['gvkey','year'], how='left')\n",
    "    out['size'] = np.log(out['mkvalt'])  # mkvalt is typically in $ millions\n",
    "    return out[['gvkey','year','size']]"
   ],
   "metadata": {
    "collapsed": false,
    "ExecuteTime": {
     "end_time": "2025-10-01T15:02:09.661058600Z",
     "start_time": "2025-10-01T15:02:09.653539100Z"
    }
   }
  },
  {
   "cell_type": "code",
   "execution_count": 93,
   "outputs": [
    {
     "data": {
      "text/plain": "gvkey    272867\nyear     272867\nsize      35218\ndtype: int64"
     },
     "execution_count": 93,
     "metadata": {},
     "output_type": "execute_result"
    }
   ],
   "source": [
    "keys_df = reprisk_merged_yearly[['gvkey', 'year']]\n",
    "size_df = get_size(db, keys_df)\n",
    "size_df.notna().sum()"
   ],
   "metadata": {
    "collapsed": false,
    "ExecuteTime": {
     "end_time": "2025-10-01T15:02:14.219969700Z",
     "start_time": "2025-10-01T15:02:10.498715200Z"
    }
   }
  },
  {
   "cell_type": "code",
   "execution_count": 104,
   "outputs": [],
   "source": [
    "# ---------- 2) Book-to-Market (BTM) ----------\n",
    "\n",
    "def get_btm(db, reprisk_merged_yearly):\n",
    "    \"\"\"\n",
    "    BTM = Shareholders' Equity_{t-1} / mkvalt_{t-1}, with SE robustly:\n",
    "      SE = seq → (ceq + pstk) → (at - lt)\n",
    "    \"\"\"\n",
    "    keys = _keys(reprisk_merged_yearly)\n",
    "    if keys.empty:\n",
    "        return pd.DataFrame(columns=['gvkey','year','btm'])\n",
    "    comp = _pull_compustat(db, keys)\n",
    "\n",
    "    # year-1 fundamentals → map to t\n",
    "    fy1 = (comp.assign(year=lambda d: d['calyear'] + 1)\n",
    "                .sort_values(['gvkey','year','datadate'])\n",
    "                .drop_duplicates(['gvkey','year'], keep='last')\n",
    "                [['gvkey','year','seq','ceq','pstk','at','lt','mkvalt']])\n",
    "\n",
    "    se = fy1['seq'].copy()\n",
    "    se = se.fillna(fy1['ceq'] + fy1['pstk'])\n",
    "    se = se.fillna(fy1['at'] - fy1['lt'])\n",
    "\n",
    "    out = fy1[['gvkey','year','mkvalt']].copy()\n",
    "    out['btm'] = se.values / out['mkvalt'].values\n",
    "    return keys.merge(out[['gvkey','year','btm']], on=['gvkey','year'], how='left')"
   ],
   "metadata": {
    "collapsed": false,
    "ExecuteTime": {
     "end_time": "2025-10-01T15:17:45.844152200Z",
     "start_time": "2025-10-01T15:17:45.820674Z"
    }
   }
  },
  {
   "cell_type": "code",
   "execution_count": 106,
   "outputs": [
    {
     "data": {
      "text/plain": "gvkey    272867\nyear     272867\nbtm       35217\ndtype: int64"
     },
     "execution_count": 106,
     "metadata": {},
     "output_type": "execute_result"
    }
   ],
   "source": [
    "btm_df = get_btm(db, keys_df)\n",
    "btm_df.notna().sum()"
   ],
   "metadata": {
    "collapsed": false,
    "ExecuteTime": {
     "end_time": "2025-10-01T15:18:06.639481200Z",
     "start_time": "2025-10-01T15:18:02.804500500Z"
    }
   }
  },
  {
   "cell_type": "code",
   "execution_count": 107,
   "outputs": [],
   "source": [
    "# ---------- 3) Leverage ----------\n",
    "\n",
    "def get_leverage(db, reprisk_merged_yearly):\n",
    "    \"\"\"\n",
    "    Leverage = lt / at using year-1 values (mapped to year t).\n",
    "    \"\"\"\n",
    "    keys = _keys(reprisk_merged_yearly)\n",
    "    if keys.empty:\n",
    "        return pd.DataFrame(columns=['gvkey','year','leverage'])\n",
    "    comp = _pull_compustat(db, keys)\n",
    "\n",
    "    fy1 = (comp.assign(year=lambda d: d['calyear'] + 1)\n",
    "                .sort_values(['gvkey','year','datadate'])\n",
    "                .drop_duplicates(['gvkey','year'], keep='last')\n",
    "                [['gvkey','year','at','lt','seq','ceq','pstk']])\n",
    "\n",
    "    # if lt missing, fallback lt = at - SE\n",
    "    se = fy1['seq'].fillna(fy1['ceq'] + fy1['pstk']).fillna(fy1['at'] - fy1['lt'])\n",
    "    lt = fy1['lt'].fillna(fy1['at'] - se)\n",
    "\n",
    "    out = fy1[['gvkey','year','at']].copy()\n",
    "    out['leverage'] = lt.values / out['at'].values\n",
    "    return keys.merge(out[['gvkey','year','leverage']], on=['gvkey','year'], how='left')"
   ],
   "metadata": {
    "collapsed": false,
    "ExecuteTime": {
     "end_time": "2025-10-01T15:18:25.615531700Z",
     "start_time": "2025-10-01T15:18:25.567489100Z"
    }
   }
  },
  {
   "cell_type": "code",
   "execution_count": 109,
   "outputs": [
    {
     "data": {
      "text/plain": "gvkey       272867\nyear        272867\nleverage     45447\ndtype: int64"
     },
     "execution_count": 109,
     "metadata": {},
     "output_type": "execute_result"
    }
   ],
   "source": [
    "leverage_df = get_leverage(db, keys_df)\n",
    "leverage_df.notna().sum()"
   ],
   "metadata": {
    "collapsed": false,
    "ExecuteTime": {
     "end_time": "2025-10-01T15:18:57.051541800Z",
     "start_time": "2025-10-01T15:18:52.766581900Z"
    }
   }
  },
  {
   "cell_type": "code",
   "execution_count": 110,
   "outputs": [],
   "source": [
    "# ---------- 4) R&D intensity ----------\n",
    "\n",
    "def get_rd_intensity(db, reprisk_merged_yearly):\n",
    "    \"\"\"\n",
    "    R&D intensity = xrd / sale using year-1 values.\n",
    "    \"\"\"\n",
    "    keys = _keys(reprisk_merged_yearly)\n",
    "    if keys.empty:\n",
    "        return pd.DataFrame(columns=['gvkey','year','rd_intensity'])\n",
    "    comp = _pull_compustat(db, keys)\n",
    "\n",
    "    fy1 = (comp.assign(year=lambda d: d['calyear'] + 1)\n",
    "                .sort_values(['gvkey','year','datadate'])\n",
    "                .drop_duplicates(['gvkey','year'], keep='last')\n",
    "                [['gvkey','year','xrd','sale']])\n",
    "\n",
    "    sale_pos = fy1['sale'].where(fy1['sale'] > 0, np.nan)\n",
    "    out = fy1[['gvkey','year']].copy()\n",
    "    out['rd_intensity'] = fy1['xrd'] / sale_pos\n",
    "    return keys.merge(out, on=['gvkey','year'], how='left')"
   ],
   "metadata": {
    "collapsed": false,
    "ExecuteTime": {
     "end_time": "2025-10-01T15:19:41.140178900Z",
     "start_time": "2025-10-01T15:19:41.133116600Z"
    }
   }
  },
  {
   "cell_type": "code",
   "execution_count": 111,
   "outputs": [
    {
     "data": {
      "text/plain": "gvkey           272867\nyear            272867\nrd_intensity     22934\ndtype: int64"
     },
     "execution_count": 111,
     "metadata": {},
     "output_type": "execute_result"
    }
   ],
   "source": [
    "rd_df = get_rd_intensity(db, keys_df)\n",
    "rd_df.notna().sum()"
   ],
   "metadata": {
    "collapsed": false,
    "ExecuteTime": {
     "end_time": "2025-10-01T15:19:46.289723300Z",
     "start_time": "2025-10-01T15:19:41.701679700Z"
    }
   }
  },
  {
   "cell_type": "code",
   "execution_count": 113,
   "outputs": [],
   "source": [
    "# ---------- 5) Advertising intensity ----------\n",
    "\n",
    "def get_ad_intensity(db, reprisk_merged_yearly):\n",
    "    \"\"\"\n",
    "    Advertising intensity = xad / sale using year-1 values.\n",
    "    \"\"\"\n",
    "    keys = _keys(reprisk_merged_yearly)\n",
    "    if keys.empty:\n",
    "        return pd.DataFrame(columns=['gvkey','year','ad_intensity'])\n",
    "    comp = _pull_compustat(db, keys)\n",
    "\n",
    "    fy1 = (comp.assign(year=lambda d: d['calyear'] + 1)\n",
    "                .sort_values(['gvkey','year','datadate'])\n",
    "                .drop_duplicates(['gvkey','year'], keep='last')\n",
    "                [['gvkey','year','xad','sale']])\n",
    "\n",
    "    sale_pos = fy1['sale'].where(fy1['sale'] > 0, np.nan)\n",
    "    out = fy1[['gvkey','year']].copy()\n",
    "    out['ad_intensity'] = fy1['xad'] / sale_pos\n",
    "    return keys.merge(out, on=['gvkey','year'], how='left')"
   ],
   "metadata": {
    "collapsed": false,
    "ExecuteTime": {
     "end_time": "2025-10-01T15:20:23.180629800Z",
     "start_time": "2025-10-01T15:20:23.173794800Z"
    }
   }
  },
  {
   "cell_type": "code",
   "execution_count": 114,
   "outputs": [
    {
     "data": {
      "text/plain": "gvkey           272867\nyear            272867\nad_intensity     19232\ndtype: int64"
     },
     "execution_count": 114,
     "metadata": {},
     "output_type": "execute_result"
    }
   ],
   "source": [
    "ad_df = get_ad_intensity(db, keys_df)\n",
    "ad_df.notna().sum()"
   ],
   "metadata": {
    "collapsed": false,
    "ExecuteTime": {
     "end_time": "2025-10-01T15:20:27.590379800Z",
     "start_time": "2025-10-01T15:20:23.583796200Z"
    }
   }
  },
  {
   "cell_type": "code",
   "execution_count": 116,
   "outputs": [],
   "source": [
    "# ---------- 6) ROA ----------\n",
    "\n",
    "def get_roa(db, reprisk_merged_yearly):\n",
    "    \"\"\"\n",
    "    ROA_t = IB_t / ((AT_t + AT_{t-1}) / 2)\n",
    "      - IB_t, AT_t: Compustat row with datadate in calendar year t (last in that year)\n",
    "      - AT_{t-1}:   from calendar year t-1 (last in that year), mapped to year t\n",
    "    \"\"\"\n",
    "    keys = _keys(reprisk_merged_yearly)\n",
    "    if keys.empty:\n",
    "        return pd.DataFrame(columns=['gvkey','year','roa'])\n",
    "    comp = _pull_compustat(db, keys)\n",
    "\n",
    "    # current year t (ib, at)\n",
    "    ft = (comp[comp['calyear'].isin(keys['year'].unique())]\n",
    "              .assign(year=lambda d: d['calyear'])\n",
    "              .sort_values(['gvkey','year','datadate'])\n",
    "              .drop_duplicates(['gvkey','year'], keep='last')\n",
    "              [['gvkey','year','ib','at']]\n",
    "              .rename(columns={'ib':'ib_t','at':'at_t'}))\n",
    "\n",
    "    # previous year (at_{t-1}) mapped to t\n",
    "    ftm1 = (comp.assign(year=lambda d: d['calyear'] + 1)\n",
    "                 .sort_values(['gvkey','year','datadate'])\n",
    "                 .drop_duplicates(['gvkey','year'], keep='last')\n",
    "                 [['gvkey','year','at']]\n",
    "                 .rename(columns={'at':'at_tm1'}))\n",
    "\n",
    "    base = keys.merge(ft, on=['gvkey','year'], how='left').merge(ftm1, on=['gvkey','year'], how='left')\n",
    "    denom = (base['at_t'] + base['at_tm1']) / 2.0\n",
    "    out = base[['gvkey','year']].copy()\n",
    "    out['roa'] = base['ib_t'] / denom\n",
    "    return out"
   ],
   "metadata": {
    "collapsed": false,
    "ExecuteTime": {
     "end_time": "2025-10-01T15:21:04.767710800Z",
     "start_time": "2025-10-01T15:21:04.738998800Z"
    }
   }
  },
  {
   "cell_type": "code",
   "execution_count": 117,
   "outputs": [
    {
     "data": {
      "text/plain": "gvkey    272867\nyear     272867\nroa       43727\ndtype: int64"
     },
     "execution_count": 117,
     "metadata": {},
     "output_type": "execute_result"
    }
   ],
   "source": [
    "roa_df = get_roa(db, keys_df)\n",
    "roa_df.notna().sum()"
   ],
   "metadata": {
    "collapsed": false,
    "ExecuteTime": {
     "end_time": "2025-10-01T15:21:10.186570400Z",
     "start_time": "2025-10-01T15:21:05.595364600Z"
    }
   }
  },
  {
   "cell_type": "code",
   "execution_count": 169,
   "outputs": [],
   "source": [
    "# ---------- Institutional Ownership ----------\n",
    "\n",
    "# Export unique cusips to txt\n",
    "reprisk_merged_yearly['cusip'].dropna().astype(str).str.replace(r'\\.0$', '', regex=True).drop_duplicates().to_csv('data/cusips.txt', index=False, header=False)\n"
   ],
   "metadata": {
    "collapsed": false,
    "ExecuteTime": {
     "end_time": "2025-10-01T16:43:31.533492800Z",
     "start_time": "2025-10-01T16:43:31.396671600Z"
    }
   }
  },
  {
   "cell_type": "code",
   "execution_count": 183,
   "outputs": [
    {
     "data": {
      "text/plain": "           cusip       rdate  InstOwn_Perc  year\n62148   00030710  2014-12-31  2.646183e-01  2013\n70952   00030710  2015-12-31  4.817053e-01  2014\n79872   00030710  2016-12-31  4.499213e-01  2015\n88711   00030710  2017-12-31  6.102770e-01  2016\n98929   00030710  2018-12-31  4.897175e-01  2017\n...          ...         ...           ...   ...\n104123  Y1477R20  2019-03-31  4.851384e-06  2018\n114648  Y1477R20  2020-03-31  4.481560e-05  2019\n146015  Y1477R20  2023-03-31  3.830040e-08  2022\n112048  Y1501010  2019-12-31  4.962090e-05  2018\n140828  Y1501010  2022-09-30  4.342182e-06  2021\n\n[40558 rows x 4 columns]",
      "text/html": "<div>\n<style scoped>\n    .dataframe tbody tr th:only-of-type {\n        vertical-align: middle;\n    }\n\n    .dataframe tbody tr th {\n        vertical-align: top;\n    }\n\n    .dataframe thead th {\n        text-align: right;\n    }\n</style>\n<table border=\"1\" class=\"dataframe\">\n  <thead>\n    <tr style=\"text-align: right;\">\n      <th></th>\n      <th>cusip</th>\n      <th>rdate</th>\n      <th>InstOwn_Perc</th>\n      <th>year</th>\n    </tr>\n  </thead>\n  <tbody>\n    <tr>\n      <th>62148</th>\n      <td>00030710</td>\n      <td>2014-12-31</td>\n      <td>2.646183e-01</td>\n      <td>2013</td>\n    </tr>\n    <tr>\n      <th>70952</th>\n      <td>00030710</td>\n      <td>2015-12-31</td>\n      <td>4.817053e-01</td>\n      <td>2014</td>\n    </tr>\n    <tr>\n      <th>79872</th>\n      <td>00030710</td>\n      <td>2016-12-31</td>\n      <td>4.499213e-01</td>\n      <td>2015</td>\n    </tr>\n    <tr>\n      <th>88711</th>\n      <td>00030710</td>\n      <td>2017-12-31</td>\n      <td>6.102770e-01</td>\n      <td>2016</td>\n    </tr>\n    <tr>\n      <th>98929</th>\n      <td>00030710</td>\n      <td>2018-12-31</td>\n      <td>4.897175e-01</td>\n      <td>2017</td>\n    </tr>\n    <tr>\n      <th>...</th>\n      <td>...</td>\n      <td>...</td>\n      <td>...</td>\n      <td>...</td>\n    </tr>\n    <tr>\n      <th>104123</th>\n      <td>Y1477R20</td>\n      <td>2019-03-31</td>\n      <td>4.851384e-06</td>\n      <td>2018</td>\n    </tr>\n    <tr>\n      <th>114648</th>\n      <td>Y1477R20</td>\n      <td>2020-03-31</td>\n      <td>4.481560e-05</td>\n      <td>2019</td>\n    </tr>\n    <tr>\n      <th>146015</th>\n      <td>Y1477R20</td>\n      <td>2023-03-31</td>\n      <td>3.830040e-08</td>\n      <td>2022</td>\n    </tr>\n    <tr>\n      <th>112048</th>\n      <td>Y1501010</td>\n      <td>2019-12-31</td>\n      <td>4.962090e-05</td>\n      <td>2018</td>\n    </tr>\n    <tr>\n      <th>140828</th>\n      <td>Y1501010</td>\n      <td>2022-09-30</td>\n      <td>4.342182e-06</td>\n      <td>2021</td>\n    </tr>\n  </tbody>\n</table>\n<p>40558 rows × 4 columns</p>\n</div>"
     },
     "execution_count": 183,
     "metadata": {},
     "output_type": "execute_result"
    }
   ],
   "source": [
    "ownership_df = pd.read_csv('data/inst_ownership.csv')  # Exported from LSEG Stock Ownership Tool\n",
    "ownership_df = ownership_df[['cusip', 'rdate', 'InstOwn_Perc']].sort_values(['cusip', 'rdate'])\n",
    "ownership_df['year'] = pd.to_datetime(ownership_df['rdate']).dt.year - 1\n",
    "ownership_df.drop_duplicates(['cusip', 'year'], keep='last', inplace=True)\n",
    "ownership_df"
   ],
   "metadata": {
    "collapsed": false,
    "ExecuteTime": {
     "end_time": "2025-10-01T17:56:37.713902700Z",
     "start_time": "2025-10-01T17:56:37.139469800Z"
    }
   }
  },
  {
   "cell_type": "code",
   "execution_count": 181,
   "outputs": [
    {
     "data": {
      "text/plain": "gvkey                           0\nyear                            0\nn_material                      0\nn_nonmaterial                   0\nn_car_1_material                0\nn_car_5_material                0\nn_rri_material                  0\nn_reach_material                0\nn_severity_material             0\ncusip                      200736\nSICS Codified Industry          0\nCodified SICS Sector            0\nsize                       237649\nbtm                        237650\nleverage                   227420\nrd_intensity               249933\nad_intensity               253635\nroa                        229140\nrdate                      232309\nInstOwn_Perc               232360\ndtype: int64"
     },
     "execution_count": 181,
     "metadata": {},
     "output_type": "execute_result"
    }
   ],
   "source": [
    "df.isna().sum()"
   ],
   "metadata": {
    "collapsed": false,
    "ExecuteTime": {
     "end_time": "2025-10-01T17:48:23.666162700Z",
     "start_time": "2025-10-01T17:48:23.585598900Z"
    }
   }
  },
  {
   "cell_type": "code",
   "execution_count": 197,
   "outputs": [
    {
     "data": {
      "text/plain": "           gvkey  year  n_material  n_nonmaterial  n_car_1_material  \\\n0         1004.0  2007           0              0                 0   \n1         1004.0  2008           0              0                 0   \n2         1004.0  2009           0              0                 0   \n3         1004.0  2010           0              1                 0   \n4         1004.0  2011           0              0                 0   \n...          ...   ...         ...            ...               ...   \n272862  367430.0  2019           0              0                 0   \n272863  367430.0  2020           0              0                 0   \n272864  367430.0  2021           0              0                 0   \n272865  367430.0  2022           0              0                 0   \n272866  367430.0  2023           0              0                 0   \n\n        n_car_5_material  n_rri_material  n_reach_material  \\\n0                      0               0                 0   \n1                      0               0                 0   \n2                      0               0                 0   \n3                      0               0                 1   \n4                      0               0                 0   \n...                  ...             ...               ...   \n272862                 0               0                 0   \n272863                 0               0                 0   \n272864                 0               0                 0   \n272865                 0               0                 0   \n272866                 0               0                 0   \n\n        n_severity_material     cusip       SICS Codified Industry   \\\n0                         0  00036110  Industrial Machinery & Goods   \n1                         0  00036110  Industrial Machinery & Goods   \n2                         0  00036110  Industrial Machinery & Goods   \n3                         0  00036110  Industrial Machinery & Goods   \n4                         0  00036110  Industrial Machinery & Goods   \n...                     ...       ...                           ...   \n272862                    0       NaN         Agricultural Products   \n272863                    0       NaN         Agricultural Products   \n272864                    0       NaN         Agricultural Products   \n272865                    0       NaN         Agricultural Products   \n272866                    0       NaN         Agricultural Products   \n\n          Codified SICS Sector       size       btm  leverage  rd_intensity  \\\n0       Resource Transformation  6.782904   0.47893  0.568136          <NA>   \n1       Resource Transformation  7.111669  0.403071  0.537067          <NA>   \n2       Resource Transformation  6.616792  0.782904  0.570301          <NA>   \n3       Resource Transformation   6.34843  1.149232  0.523129          <NA>   \n4       Resource Transformation  6.656514  0.960237  0.502779          <NA>   \n...                         ...       ...       ...       ...           ...   \n272862          Food & Beverage      <NA>      <NA>      <NA>          <NA>   \n272863          Food & Beverage      <NA>      <NA>      <NA>          <NA>   \n272864          Food & Beverage      <NA>      <NA>      <NA>          <NA>   \n272865          Food & Beverage      <NA>      <NA>      <NA>          <NA>   \n272866          Food & Beverage      <NA>      <NA>      <NA>          <NA>   \n\n        ad_intensity       roa       rdate  InstOwn_Perc  \n0               <NA>  0.058098  2008-12-31      1.140917  \n1               <NA>  0.062351  2009-12-31      0.996335  \n2               <NA>  0.058842  2010-12-31      0.990781  \n3               <NA>  0.031007  2011-12-31      0.915529  \n4               <NA>  0.045644  2012-12-31      0.841255  \n...              ...       ...         ...           ...  \n272862          <NA>      <NA>         NaN           NaN  \n272863          <NA>      <NA>         NaN           NaN  \n272864          <NA>      <NA>         NaN           NaN  \n272865          <NA>      <NA>         NaN           NaN  \n272866          <NA>      <NA>         NaN           NaN  \n\n[272867 rows x 20 columns]",
      "text/html": "<div>\n<style scoped>\n    .dataframe tbody tr th:only-of-type {\n        vertical-align: middle;\n    }\n\n    .dataframe tbody tr th {\n        vertical-align: top;\n    }\n\n    .dataframe thead th {\n        text-align: right;\n    }\n</style>\n<table border=\"1\" class=\"dataframe\">\n  <thead>\n    <tr style=\"text-align: right;\">\n      <th></th>\n      <th>gvkey</th>\n      <th>year</th>\n      <th>n_material</th>\n      <th>n_nonmaterial</th>\n      <th>n_car_1_material</th>\n      <th>n_car_5_material</th>\n      <th>n_rri_material</th>\n      <th>n_reach_material</th>\n      <th>n_severity_material</th>\n      <th>cusip</th>\n      <th>SICS Codified Industry</th>\n      <th>Codified SICS Sector</th>\n      <th>size</th>\n      <th>btm</th>\n      <th>leverage</th>\n      <th>rd_intensity</th>\n      <th>ad_intensity</th>\n      <th>roa</th>\n      <th>rdate</th>\n      <th>InstOwn_Perc</th>\n    </tr>\n  </thead>\n  <tbody>\n    <tr>\n      <th>0</th>\n      <td>1004.0</td>\n      <td>2007</td>\n      <td>0</td>\n      <td>0</td>\n      <td>0</td>\n      <td>0</td>\n      <td>0</td>\n      <td>0</td>\n      <td>0</td>\n      <td>00036110</td>\n      <td>Industrial Machinery &amp; Goods</td>\n      <td>Resource Transformation</td>\n      <td>6.782904</td>\n      <td>0.47893</td>\n      <td>0.568136</td>\n      <td>&lt;NA&gt;</td>\n      <td>&lt;NA&gt;</td>\n      <td>0.058098</td>\n      <td>2008-12-31</td>\n      <td>1.140917</td>\n    </tr>\n    <tr>\n      <th>1</th>\n      <td>1004.0</td>\n      <td>2008</td>\n      <td>0</td>\n      <td>0</td>\n      <td>0</td>\n      <td>0</td>\n      <td>0</td>\n      <td>0</td>\n      <td>0</td>\n      <td>00036110</td>\n      <td>Industrial Machinery &amp; Goods</td>\n      <td>Resource Transformation</td>\n      <td>7.111669</td>\n      <td>0.403071</td>\n      <td>0.537067</td>\n      <td>&lt;NA&gt;</td>\n      <td>&lt;NA&gt;</td>\n      <td>0.062351</td>\n      <td>2009-12-31</td>\n      <td>0.996335</td>\n    </tr>\n    <tr>\n      <th>2</th>\n      <td>1004.0</td>\n      <td>2009</td>\n      <td>0</td>\n      <td>0</td>\n      <td>0</td>\n      <td>0</td>\n      <td>0</td>\n      <td>0</td>\n      <td>0</td>\n      <td>00036110</td>\n      <td>Industrial Machinery &amp; Goods</td>\n      <td>Resource Transformation</td>\n      <td>6.616792</td>\n      <td>0.782904</td>\n      <td>0.570301</td>\n      <td>&lt;NA&gt;</td>\n      <td>&lt;NA&gt;</td>\n      <td>0.058842</td>\n      <td>2010-12-31</td>\n      <td>0.990781</td>\n    </tr>\n    <tr>\n      <th>3</th>\n      <td>1004.0</td>\n      <td>2010</td>\n      <td>0</td>\n      <td>1</td>\n      <td>0</td>\n      <td>0</td>\n      <td>0</td>\n      <td>1</td>\n      <td>0</td>\n      <td>00036110</td>\n      <td>Industrial Machinery &amp; Goods</td>\n      <td>Resource Transformation</td>\n      <td>6.34843</td>\n      <td>1.149232</td>\n      <td>0.523129</td>\n      <td>&lt;NA&gt;</td>\n      <td>&lt;NA&gt;</td>\n      <td>0.031007</td>\n      <td>2011-12-31</td>\n      <td>0.915529</td>\n    </tr>\n    <tr>\n      <th>4</th>\n      <td>1004.0</td>\n      <td>2011</td>\n      <td>0</td>\n      <td>0</td>\n      <td>0</td>\n      <td>0</td>\n      <td>0</td>\n      <td>0</td>\n      <td>0</td>\n      <td>00036110</td>\n      <td>Industrial Machinery &amp; Goods</td>\n      <td>Resource Transformation</td>\n      <td>6.656514</td>\n      <td>0.960237</td>\n      <td>0.502779</td>\n      <td>&lt;NA&gt;</td>\n      <td>&lt;NA&gt;</td>\n      <td>0.045644</td>\n      <td>2012-12-31</td>\n      <td>0.841255</td>\n    </tr>\n    <tr>\n      <th>...</th>\n      <td>...</td>\n      <td>...</td>\n      <td>...</td>\n      <td>...</td>\n      <td>...</td>\n      <td>...</td>\n      <td>...</td>\n      <td>...</td>\n      <td>...</td>\n      <td>...</td>\n      <td>...</td>\n      <td>...</td>\n      <td>...</td>\n      <td>...</td>\n      <td>...</td>\n      <td>...</td>\n      <td>...</td>\n      <td>...</td>\n      <td>...</td>\n      <td>...</td>\n    </tr>\n    <tr>\n      <th>272862</th>\n      <td>367430.0</td>\n      <td>2019</td>\n      <td>0</td>\n      <td>0</td>\n      <td>0</td>\n      <td>0</td>\n      <td>0</td>\n      <td>0</td>\n      <td>0</td>\n      <td>NaN</td>\n      <td>Agricultural Products</td>\n      <td>Food &amp; Beverage</td>\n      <td>&lt;NA&gt;</td>\n      <td>&lt;NA&gt;</td>\n      <td>&lt;NA&gt;</td>\n      <td>&lt;NA&gt;</td>\n      <td>&lt;NA&gt;</td>\n      <td>&lt;NA&gt;</td>\n      <td>NaN</td>\n      <td>NaN</td>\n    </tr>\n    <tr>\n      <th>272863</th>\n      <td>367430.0</td>\n      <td>2020</td>\n      <td>0</td>\n      <td>0</td>\n      <td>0</td>\n      <td>0</td>\n      <td>0</td>\n      <td>0</td>\n      <td>0</td>\n      <td>NaN</td>\n      <td>Agricultural Products</td>\n      <td>Food &amp; Beverage</td>\n      <td>&lt;NA&gt;</td>\n      <td>&lt;NA&gt;</td>\n      <td>&lt;NA&gt;</td>\n      <td>&lt;NA&gt;</td>\n      <td>&lt;NA&gt;</td>\n      <td>&lt;NA&gt;</td>\n      <td>NaN</td>\n      <td>NaN</td>\n    </tr>\n    <tr>\n      <th>272864</th>\n      <td>367430.0</td>\n      <td>2021</td>\n      <td>0</td>\n      <td>0</td>\n      <td>0</td>\n      <td>0</td>\n      <td>0</td>\n      <td>0</td>\n      <td>0</td>\n      <td>NaN</td>\n      <td>Agricultural Products</td>\n      <td>Food &amp; Beverage</td>\n      <td>&lt;NA&gt;</td>\n      <td>&lt;NA&gt;</td>\n      <td>&lt;NA&gt;</td>\n      <td>&lt;NA&gt;</td>\n      <td>&lt;NA&gt;</td>\n      <td>&lt;NA&gt;</td>\n      <td>NaN</td>\n      <td>NaN</td>\n    </tr>\n    <tr>\n      <th>272865</th>\n      <td>367430.0</td>\n      <td>2022</td>\n      <td>0</td>\n      <td>0</td>\n      <td>0</td>\n      <td>0</td>\n      <td>0</td>\n      <td>0</td>\n      <td>0</td>\n      <td>NaN</td>\n      <td>Agricultural Products</td>\n      <td>Food &amp; Beverage</td>\n      <td>&lt;NA&gt;</td>\n      <td>&lt;NA&gt;</td>\n      <td>&lt;NA&gt;</td>\n      <td>&lt;NA&gt;</td>\n      <td>&lt;NA&gt;</td>\n      <td>&lt;NA&gt;</td>\n      <td>NaN</td>\n      <td>NaN</td>\n    </tr>\n    <tr>\n      <th>272866</th>\n      <td>367430.0</td>\n      <td>2023</td>\n      <td>0</td>\n      <td>0</td>\n      <td>0</td>\n      <td>0</td>\n      <td>0</td>\n      <td>0</td>\n      <td>0</td>\n      <td>NaN</td>\n      <td>Agricultural Products</td>\n      <td>Food &amp; Beverage</td>\n      <td>&lt;NA&gt;</td>\n      <td>&lt;NA&gt;</td>\n      <td>&lt;NA&gt;</td>\n      <td>&lt;NA&gt;</td>\n      <td>&lt;NA&gt;</td>\n      <td>&lt;NA&gt;</td>\n      <td>NaN</td>\n      <td>NaN</td>\n    </tr>\n  </tbody>\n</table>\n<p>272867 rows × 20 columns</p>\n</div>"
     },
     "execution_count": 197,
     "metadata": {},
     "output_type": "execute_result"
    }
   ],
   "source": [
    "\n",
    "outs = [\n",
    "    size_df, btm_df, leverage_df, rd_df, ad_df, roa_df\n",
    "]\n",
    "\n",
    "df = reprisk_merged_yearly.copy()\n",
    "\n",
    "for o in outs:\n",
    "    o['year'] = pd.to_numeric(o['year'], errors='coerce').astype('Int64')\n",
    "    o['gvkey'] = pd.to_numeric(o['gvkey'], errors='coerce').astype('Int64')\n",
    "    df = df.merge(o, on=['gvkey','year'], how='left')\n",
    "\n",
    "df =df.merge(ownership_df, left_on=['cusip','year'], right_on=['cusip','year'], how='left')\n",
    "df"
   ],
   "metadata": {
    "collapsed": false,
    "ExecuteTime": {
     "end_time": "2025-10-01T18:10:29.865175600Z",
     "start_time": "2025-10-01T18:10:28.660588700Z"
    }
   }
  },
  {
   "cell_type": "code",
   "execution_count": 186,
   "outputs": [],
   "source": [
    "import pandas as pd\n",
    "import numpy as np\n",
    "import statsmodels.api as sm"
   ],
   "metadata": {
    "collapsed": false,
    "ExecuteTime": {
     "end_time": "2025-10-01T18:03:41.656800100Z",
     "start_time": "2025-10-01T18:03:39.786890200Z"
    }
   }
  },
  {
   "cell_type": "code",
   "execution_count": 205,
   "outputs": [],
   "source": [
    "# configure\n",
    "dep_vars  = ['n_car_1_material','n_car_5_material','n_rri_material',\n",
    "             'n_reach_material','n_severity_material','n_material']\n",
    "controls  = ['size','btm','leverage','rd_intensity','ad_intensity','roa','InstOwn_Perc']\n",
    "industry_col = 'Codified SICS Sector '   # change if needed\n",
    "year_col     = 'year'\n",
    "\n",
    "def crosssec_residuals_year_indFE(df):\n",
    "    out = df.copy()\n",
    "    # make controls numeric once\n",
    "    for c in controls:\n",
    "        if c not in out.columns:\n",
    "            raise KeyError(f\"Missing control column: {c}\")\n",
    "        out[c] = pd.to_numeric(out[c], errors='coerce')\n",
    "    if industry_col not in out.columns:\n",
    "        raise KeyError(f\"Missing industry column: {industry_col}\")\n",
    "\n",
    "    # init residual columns\n",
    "    for y in dep_vars:\n",
    "        out[f'resid_{y}'] = np.nan\n",
    "\n",
    "    # loop dependent variables\n",
    "    years = pd.to_numeric(out[year_col], errors='coerce')\n",
    "    out[year_col] = years  # ensure numeric year\n",
    "\n",
    "    for y in dep_vars:\n",
    "        if y not in out.columns:\n",
    "            continue\n",
    "        out[y] = pd.to_numeric(out[y], errors='coerce')\n",
    "\n",
    "        # run separate cross-section per year\n",
    "        for yr, gidx in out.groupby(year_col).groups.items():\n",
    "            if pd.isna(yr):\n",
    "                continue\n",
    "            sub = out.loc[gidx, [y] + controls + [industry_col]].copy()\n",
    "\n",
    "            # drop all NA rows for this year's regression (as requested)\n",
    "            sub = sub.replace([np.inf, -np.inf], np.nan).dropna(how='any')\n",
    "            if sub.empty:\n",
    "                continue\n",
    "\n",
    "            # industry FE for this year's industries only\n",
    "            ind_dum = pd.get_dummies(sub[industry_col], prefix='ind', drop_first=True, dtype=float)\n",
    "            X = pd.concat([sub[controls].astype(float), ind_dum], axis=1)\n",
    "            X = sm.add_constant(X)  # intercept\n",
    "            yy = sub[y].astype(float)\n",
    "\n",
    "            # need at least params+1 obs\n",
    "            if X.shape[0] <= X.shape[1]:\n",
    "                continue\n",
    "\n",
    "            fit = sm.OLS(yy.to_numpy(), X.to_numpy()).fit()\n",
    "\n",
    "            resid = pd.Series(yy.values - fit.fittedvalues, index=sub.index)\n",
    "            out.loc[resid.index, f'resid_{y}'] = resid\n",
    "\n",
    "    return out"
   ],
   "metadata": {
    "collapsed": false,
    "ExecuteTime": {
     "end_time": "2025-10-01T18:18:09.879194800Z",
     "start_time": "2025-10-01T18:18:09.868575900Z"
    }
   }
  },
  {
   "cell_type": "code",
   "execution_count": 206,
   "outputs": [
    {
     "name": "stdout",
     "output_type": "stream",
     "text": [
      "resid_n_car_1_material       0.972096\n",
      "resid_n_car_5_material       0.972096\n",
      "resid_n_rri_material         0.972096\n",
      "resid_n_reach_material       0.972096\n",
      "resid_n_severity_material    0.972096\n",
      "resid_n_material             0.972096\n",
      "dtype: float64\n"
     ]
    }
   ],
   "source": [
    "# run\n",
    "res_df = crosssec_residuals_year_indFE(df)"
   ],
   "metadata": {
    "collapsed": false,
    "ExecuteTime": {
     "end_time": "2025-10-01T18:18:16.200468200Z",
     "start_time": "2025-10-01T18:18:12.138835500Z"
    }
   }
  },
  {
   "cell_type": "code",
   "execution_count": 207,
   "outputs": [
    {
     "data": {
      "text/plain": "gvkey                        272867\nyear                         272867\nn_material                   272867\nn_nonmaterial                272867\nn_car_1_material             272867\nn_car_5_material             272867\nn_rri_material               272867\nn_reach_material             272867\nn_severity_material          272867\ncusip                         72131\nSICS Codified Industry       272867\nCodified SICS Sector         272867\nsize                          35218\nbtm                           35217\nleverage                      45447\nrd_intensity                  22934\nad_intensity                  19232\nroa                           43727\nrdate                         38552\nInstOwn_Perc                  38506\nresid_n_car_1_material         7614\nresid_n_car_5_material         7614\nresid_n_rri_material           7614\nresid_n_reach_material         7614\nresid_n_severity_material      7614\nresid_n_material               7614\ndtype: int64"
     },
     "execution_count": 207,
     "metadata": {},
     "output_type": "execute_result"
    }
   ],
   "source": [
    "res_df.notna().sum()"
   ],
   "metadata": {
    "collapsed": false,
    "ExecuteTime": {
     "end_time": "2025-10-01T18:18:20.694488100Z",
     "start_time": "2025-10-01T18:18:20.613167100Z"
    }
   }
  },
  {
   "cell_type": "code",
   "execution_count": 216,
   "outputs": [],
   "source": [
    "def add_industry_year_top_bottom_equal(\n",
    "    df,\n",
    "    resid_cols,\n",
    "    industry_col='SICS Codified Industry ',\n",
    "    year_col='year',\n",
    "    tail='quintile',     # 'quintile' (20%) or 'decile' (10%)\n",
    "    min_each=1           # at least this many per tail if the computed size is 0\n",
    "):\n",
    "    \"\"\"\n",
    "    Flags top/bottom *equal-sized* tails within each (industry, year) for each residual.\n",
    "    'Top' = lowest residuals.\n",
    "    Adds: topQ_<col>, botQ_<col>  OR topD_<col>, botD_<col> depending on 'tail'.\n",
    "    \"\"\"\n",
    "\n",
    "    out = df.copy()\n",
    "    if industry_col not in out.columns or year_col not in out.columns:\n",
    "        raise KeyError(\"Missing industry/year column.\")\n",
    "    out[year_col] = pd.to_numeric(out[year_col], errors='coerce')\n",
    "\n",
    "    group_keys = [industry_col, year_col]\n",
    "\n",
    "    # share to select\n",
    "    share = 0.20 if tail == 'quintile' else 0.10\n",
    "    top_flag = 'topQ_' if tail == 'quintile' else 'topD_'\n",
    "    bot_flag = 'botQ_' if tail == 'quintile' else 'botD_'\n",
    "\n",
    "    for col in resid_cols:\n",
    "        if col not in out.columns:\n",
    "            continue\n",
    "        out[col] = pd.to_numeric(out[col], errors='coerce')\n",
    "\n",
    "        # init flags as 0; NaNs stay 0 by default (they won't be selected)\n",
    "        out[top_flag + col] = np.int8(0)\n",
    "        out[bot_flag + col] = np.int8(0)\n",
    "\n",
    "        # work group by group to enforce exact counts\n",
    "        for (ind, yr), idx in out.groupby(group_keys, dropna=False).groups.items():\n",
    "            sub = out.loc[idx, [col]].copy()\n",
    "            valid = sub[col].notna()\n",
    "            if not valid.any():\n",
    "                continue\n",
    "\n",
    "            # deterministic ranks: ascending = better (top = lowest residuals)\n",
    "            # method='first' breaks ties by row order, keeping counts exact\n",
    "            ranks = sub.loc[valid, col].rank(method='first', ascending=True)\n",
    "            n = int(valid.sum())\n",
    "\n",
    "            k = max(min_each, int(np.floor(share * n)))  # equal count per tail\n",
    "            if k == 0:  # belt-and-braces\n",
    "                k = 1\n",
    "\n",
    "            # indices of top k (smallest residuals) and bottom k (largest residuals)\n",
    "            top_idx = ranks.nsmallest(k).index\n",
    "            bot_idx = ranks.nlargest(k).index\n",
    "\n",
    "            out.loc[top_idx, top_flag + col] = 1\n",
    "            out.loc[bot_idx, bot_flag + col] = 1\n",
    "\n",
    "    return out\n"
   ],
   "metadata": {
    "collapsed": false,
    "ExecuteTime": {
     "end_time": "2025-10-01T18:37:15.085095500Z",
     "start_time": "2025-10-01T18:37:15.067072800Z"
    }
   }
  },
  {
   "cell_type": "code",
   "execution_count": 221,
   "outputs": [
    {
     "name": "stdout",
     "output_type": "stream",
     "text": [
      "resid_n_car_1_material Q: 1469 1469 | D: 729 729\n",
      "resid_n_car_5_material Q: 1469 1469 | D: 729 729\n",
      "resid_n_rri_material Q: 1469 1469 | D: 729 729\n",
      "resid_n_reach_material Q: 1469 1469 | D: 729 729\n",
      "resid_n_severity_material Q: 1469 1469 | D: 729 729\n",
      "resid_n_material Q: 1469 1469 | D: 729 729\n"
     ]
    }
   ],
   "source": [
    "resid_cols = [\n",
    "    'resid_n_car_1_material','resid_n_car_5_material','resid_n_rri_material',\n",
    "    'resid_n_reach_material','resid_n_severity_material','resid_n_material'\n",
    "]\n",
    "\n",
    "# Equal-sized quintile tails (20%)\n",
    "df_ports_q = add_industry_year_top_bottom_equal(\n",
    "    res_df, resid_cols, industry_col='Codified SICS Sector ', year_col='year',\n",
    "    tail='quintile', min_each=1\n",
    ")\n",
    "\n",
    "# Equal-sized decile tails (10%)\n",
    "df_ports_d = add_industry_year_top_bottom_equal(\n",
    "    res_df, resid_cols, industry_col='Codified SICS Sector ', year_col='year',\n",
    "    tail='decile', min_each=1\n",
    ")\n",
    "\n",
    "# sanity check: counts are equal (top vs bottom) per residual\n",
    "for c in resid_cols:\n",
    "    tq, bq = df_ports_q['topQ_'+c].sum(), df_ports_q['botQ_'+c].sum()\n",
    "    td, bd = df_ports_d['topD_'+c].sum(), df_ports_d['botD_'+c].sum()\n",
    "    print(c, 'Q:', tq, bq, '| D:', td, bd)"
   ],
   "metadata": {
    "collapsed": false,
    "ExecuteTime": {
     "end_time": "2025-10-01T18:43:27.167686700Z",
     "start_time": "2025-10-01T18:43:07.667490500Z"
    }
   }
  },
  {
   "cell_type": "code",
   "execution_count": 270,
   "outputs": [
    {
     "data": {
      "text/plain": "           gvkey  year  n_material  n_nonmaterial  n_car_1_material  \\\n0         1004.0  2007           0              0                 0   \n1         1004.0  2008           0              0                 0   \n2         1004.0  2009           0              0                 0   \n3         1004.0  2010           0              1                 0   \n4         1004.0  2011           0              0                 0   \n...          ...   ...         ...            ...               ...   \n272862  367430.0  2019           0              0                 0   \n272863  367430.0  2020           0              0                 0   \n272864  367430.0  2021           0              0                 0   \n272865  367430.0  2022           0              0                 0   \n272866  367430.0  2023           0              0                 0   \n\n        n_car_5_material  n_rri_material  n_reach_material  \\\n0                      0               0                 0   \n1                      0               0                 0   \n2                      0               0                 0   \n3                      0               0                 1   \n4                      0               0                 0   \n...                  ...             ...               ...   \n272862                 0               0                 0   \n272863                 0               0                 0   \n272864                 0               0                 0   \n272865                 0               0                 0   \n272866                 0               0                 0   \n\n        n_severity_material     cusip  ... topD_resid_n_car_5_material  \\\n0                         0  00036110  ...                           0   \n1                         0  00036110  ...                           0   \n2                         0  00036110  ...                           0   \n3                         0  00036110  ...                           0   \n4                         0  00036110  ...                           0   \n...                     ...       ...  ...                         ...   \n272862                    0       NaN  ...                           0   \n272863                    0       NaN  ...                           0   \n272864                    0       NaN  ...                           0   \n272865                    0       NaN  ...                           0   \n272866                    0       NaN  ...                           0   \n\n       botD_resid_n_car_5_material  topD_resid_n_rri_material  \\\n0                                0                          0   \n1                                0                          0   \n2                                0                          0   \n3                                0                          0   \n4                                0                          0   \n...                            ...                        ...   \n272862                           0                          0   \n272863                           0                          0   \n272864                           0                          0   \n272865                           0                          0   \n272866                           0                          0   \n\n        botD_resid_n_rri_material  topD_resid_n_reach_material  \\\n0                               0                            0   \n1                               0                            0   \n2                               0                            0   \n3                               0                            0   \n4                               0                            0   \n...                           ...                          ...   \n272862                          0                            0   \n272863                          0                            0   \n272864                          0                            0   \n272865                          0                            0   \n272866                          0                            0   \n\n        botD_resid_n_reach_material  topD_resid_n_severity_material  \\\n0                                 0                               0   \n1                                 0                               0   \n2                                 0                               0   \n3                                 0                               0   \n4                                 0                               0   \n...                             ...                             ...   \n272862                            0                               0   \n272863                            0                               0   \n272864                            0                               0   \n272865                            0                               0   \n272866                            0                               0   \n\n        botD_resid_n_severity_material topD_resid_n_material  \\\n0                                    0                     0   \n1                                    0                     0   \n2                                    0                     0   \n3                                    0                     0   \n4                                    0                     0   \n...                                ...                   ...   \n272862                               0                     0   \n272863                               0                     0   \n272864                               0                     0   \n272865                               0                     0   \n272866                               0                     0   \n\n        botD_resid_n_material  \n0                           0  \n1                           0  \n2                           0  \n3                           0  \n4                           0  \n...                       ...  \n272862                      0  \n272863                      0  \n272864                      0  \n272865                      0  \n272866                      0  \n\n[272867 rows x 38 columns]",
      "text/html": "<div>\n<style scoped>\n    .dataframe tbody tr th:only-of-type {\n        vertical-align: middle;\n    }\n\n    .dataframe tbody tr th {\n        vertical-align: top;\n    }\n\n    .dataframe thead th {\n        text-align: right;\n    }\n</style>\n<table border=\"1\" class=\"dataframe\">\n  <thead>\n    <tr style=\"text-align: right;\">\n      <th></th>\n      <th>gvkey</th>\n      <th>year</th>\n      <th>n_material</th>\n      <th>n_nonmaterial</th>\n      <th>n_car_1_material</th>\n      <th>n_car_5_material</th>\n      <th>n_rri_material</th>\n      <th>n_reach_material</th>\n      <th>n_severity_material</th>\n      <th>cusip</th>\n      <th>...</th>\n      <th>topD_resid_n_car_5_material</th>\n      <th>botD_resid_n_car_5_material</th>\n      <th>topD_resid_n_rri_material</th>\n      <th>botD_resid_n_rri_material</th>\n      <th>topD_resid_n_reach_material</th>\n      <th>botD_resid_n_reach_material</th>\n      <th>topD_resid_n_severity_material</th>\n      <th>botD_resid_n_severity_material</th>\n      <th>topD_resid_n_material</th>\n      <th>botD_resid_n_material</th>\n    </tr>\n  </thead>\n  <tbody>\n    <tr>\n      <th>0</th>\n      <td>1004.0</td>\n      <td>2007</td>\n      <td>0</td>\n      <td>0</td>\n      <td>0</td>\n      <td>0</td>\n      <td>0</td>\n      <td>0</td>\n      <td>0</td>\n      <td>00036110</td>\n      <td>...</td>\n      <td>0</td>\n      <td>0</td>\n      <td>0</td>\n      <td>0</td>\n      <td>0</td>\n      <td>0</td>\n      <td>0</td>\n      <td>0</td>\n      <td>0</td>\n      <td>0</td>\n    </tr>\n    <tr>\n      <th>1</th>\n      <td>1004.0</td>\n      <td>2008</td>\n      <td>0</td>\n      <td>0</td>\n      <td>0</td>\n      <td>0</td>\n      <td>0</td>\n      <td>0</td>\n      <td>0</td>\n      <td>00036110</td>\n      <td>...</td>\n      <td>0</td>\n      <td>0</td>\n      <td>0</td>\n      <td>0</td>\n      <td>0</td>\n      <td>0</td>\n      <td>0</td>\n      <td>0</td>\n      <td>0</td>\n      <td>0</td>\n    </tr>\n    <tr>\n      <th>2</th>\n      <td>1004.0</td>\n      <td>2009</td>\n      <td>0</td>\n      <td>0</td>\n      <td>0</td>\n      <td>0</td>\n      <td>0</td>\n      <td>0</td>\n      <td>0</td>\n      <td>00036110</td>\n      <td>...</td>\n      <td>0</td>\n      <td>0</td>\n      <td>0</td>\n      <td>0</td>\n      <td>0</td>\n      <td>0</td>\n      <td>0</td>\n      <td>0</td>\n      <td>0</td>\n      <td>0</td>\n    </tr>\n    <tr>\n      <th>3</th>\n      <td>1004.0</td>\n      <td>2010</td>\n      <td>0</td>\n      <td>1</td>\n      <td>0</td>\n      <td>0</td>\n      <td>0</td>\n      <td>1</td>\n      <td>0</td>\n      <td>00036110</td>\n      <td>...</td>\n      <td>0</td>\n      <td>0</td>\n      <td>0</td>\n      <td>0</td>\n      <td>0</td>\n      <td>0</td>\n      <td>0</td>\n      <td>0</td>\n      <td>0</td>\n      <td>0</td>\n    </tr>\n    <tr>\n      <th>4</th>\n      <td>1004.0</td>\n      <td>2011</td>\n      <td>0</td>\n      <td>0</td>\n      <td>0</td>\n      <td>0</td>\n      <td>0</td>\n      <td>0</td>\n      <td>0</td>\n      <td>00036110</td>\n      <td>...</td>\n      <td>0</td>\n      <td>0</td>\n      <td>0</td>\n      <td>0</td>\n      <td>0</td>\n      <td>0</td>\n      <td>0</td>\n      <td>0</td>\n      <td>0</td>\n      <td>0</td>\n    </tr>\n    <tr>\n      <th>...</th>\n      <td>...</td>\n      <td>...</td>\n      <td>...</td>\n      <td>...</td>\n      <td>...</td>\n      <td>...</td>\n      <td>...</td>\n      <td>...</td>\n      <td>...</td>\n      <td>...</td>\n      <td>...</td>\n      <td>...</td>\n      <td>...</td>\n      <td>...</td>\n      <td>...</td>\n      <td>...</td>\n      <td>...</td>\n      <td>...</td>\n      <td>...</td>\n      <td>...</td>\n      <td>...</td>\n    </tr>\n    <tr>\n      <th>272862</th>\n      <td>367430.0</td>\n      <td>2019</td>\n      <td>0</td>\n      <td>0</td>\n      <td>0</td>\n      <td>0</td>\n      <td>0</td>\n      <td>0</td>\n      <td>0</td>\n      <td>NaN</td>\n      <td>...</td>\n      <td>0</td>\n      <td>0</td>\n      <td>0</td>\n      <td>0</td>\n      <td>0</td>\n      <td>0</td>\n      <td>0</td>\n      <td>0</td>\n      <td>0</td>\n      <td>0</td>\n    </tr>\n    <tr>\n      <th>272863</th>\n      <td>367430.0</td>\n      <td>2020</td>\n      <td>0</td>\n      <td>0</td>\n      <td>0</td>\n      <td>0</td>\n      <td>0</td>\n      <td>0</td>\n      <td>0</td>\n      <td>NaN</td>\n      <td>...</td>\n      <td>0</td>\n      <td>0</td>\n      <td>0</td>\n      <td>0</td>\n      <td>0</td>\n      <td>0</td>\n      <td>0</td>\n      <td>0</td>\n      <td>0</td>\n      <td>0</td>\n    </tr>\n    <tr>\n      <th>272864</th>\n      <td>367430.0</td>\n      <td>2021</td>\n      <td>0</td>\n      <td>0</td>\n      <td>0</td>\n      <td>0</td>\n      <td>0</td>\n      <td>0</td>\n      <td>0</td>\n      <td>NaN</td>\n      <td>...</td>\n      <td>0</td>\n      <td>0</td>\n      <td>0</td>\n      <td>0</td>\n      <td>0</td>\n      <td>0</td>\n      <td>0</td>\n      <td>0</td>\n      <td>0</td>\n      <td>0</td>\n    </tr>\n    <tr>\n      <th>272865</th>\n      <td>367430.0</td>\n      <td>2022</td>\n      <td>0</td>\n      <td>0</td>\n      <td>0</td>\n      <td>0</td>\n      <td>0</td>\n      <td>0</td>\n      <td>0</td>\n      <td>NaN</td>\n      <td>...</td>\n      <td>0</td>\n      <td>0</td>\n      <td>0</td>\n      <td>0</td>\n      <td>0</td>\n      <td>0</td>\n      <td>0</td>\n      <td>0</td>\n      <td>0</td>\n      <td>0</td>\n    </tr>\n    <tr>\n      <th>272866</th>\n      <td>367430.0</td>\n      <td>2023</td>\n      <td>0</td>\n      <td>0</td>\n      <td>0</td>\n      <td>0</td>\n      <td>0</td>\n      <td>0</td>\n      <td>0</td>\n      <td>NaN</td>\n      <td>...</td>\n      <td>0</td>\n      <td>0</td>\n      <td>0</td>\n      <td>0</td>\n      <td>0</td>\n      <td>0</td>\n      <td>0</td>\n      <td>0</td>\n      <td>0</td>\n      <td>0</td>\n    </tr>\n  </tbody>\n</table>\n<p>272867 rows × 38 columns</p>\n</div>"
     },
     "execution_count": 270,
     "metadata": {},
     "output_type": "execute_result"
    }
   ],
   "source": [
    "df_ports_d"
   ],
   "metadata": {
    "collapsed": false,
    "ExecuteTime": {
     "end_time": "2025-10-02T12:36:02.017342400Z",
     "start_time": "2025-10-02T12:36:01.867833200Z"
    }
   }
  },
  {
   "cell_type": "markdown",
   "source": [
    "# 3. Calculate Returns"
   ],
   "metadata": {
    "collapsed": false
   }
  },
  {
   "cell_type": "code",
   "execution_count": 223,
   "outputs": [
    {
     "name": "stdout",
     "output_type": "stream",
     "text": [
      "Loading library list...\n",
      "Done\n"
     ]
    }
   ],
   "source": [
    "project_root = Path(r\"E:\\GermanBusinessPanelTeam\\Schrader\\Forschung\\ESGmateriality\")\n",
    "\n",
    "# ── Load WRDS creds from wrds.env in the project root ─────────────────────────\n",
    "env_path = project_root / \"wrds.env\"\n",
    "load_dotenv(dotenv_path=env_path)\n",
    "# ── Connect to WRDS ───────────────────────────────────────────────────────────\n",
    "db = wrds.Connection(\n",
    "    wrds_username=os.getenv(\"WRDS_YALE_USERNAME\"),\n",
    "    wrds_password=os.getenv(\"WRDS_YALE_PASSWORD\")\n",
    ")"
   ],
   "metadata": {
    "collapsed": false,
    "ExecuteTime": {
     "end_time": "2025-10-01T19:56:45.467372300Z",
     "start_time": "2025-10-01T19:56:42.762224900Z"
    }
   }
  },
  {
   "cell_type": "code",
   "execution_count": 228,
   "outputs": [],
   "source": [
    "# ---------- PARAMETERS ----------\n",
    "# set your window (CRSP coverage typical range is wide; adjust as needed)\n",
    "START = \"2007-01-01\"\n",
    "END   = \"2024-12-31\"\n",
    "from pandas.tseries.offsets import MonthEnd"
   ],
   "metadata": {
    "collapsed": false,
    "ExecuteTime": {
     "end_time": "2025-10-01T20:02:03.243090300Z",
     "start_time": "2025-10-01T20:02:03.228580800Z"
    }
   }
  },
  {
   "cell_type": "code",
   "execution_count": 225,
   "outputs": [],
   "source": [
    "\n",
    "# ---------- 1) CRSP monthly returns (common stocks) ----------\n",
    "# ret = total return; prc, shrout used for market equity; we’ll add delist return\n",
    "sql_msf = f\"\"\"\n",
    "select permno, date, ret, retx, prc, shrout\n",
    "from crsp.msf\n",
    "where date between '{START}' and '{END}'\n",
    "\"\"\"\n",
    "msf = db.raw_sql(sql_msf, date_cols=['date'])\n",
    "msf['me'] = msf['prc'].abs() * msf['shrout'] * 1000.0"
   ],
   "metadata": {
    "collapsed": false,
    "ExecuteTime": {
     "end_time": "2025-10-01T20:00:02.524205100Z",
     "start_time": "2025-10-01T19:59:25.733164Z"
    }
   }
  },
  {
   "cell_type": "code",
   "execution_count": 226,
   "outputs": [],
   "source": [
    "# ---- 2) Names table to get shrcd/exchcd as of date ----\n",
    "# Use msenames (monthly security names history). Filter to primary share classes (optional).\n",
    "sql_names = \"\"\"\n",
    "select permno, namedt, coalesce(nameendt, '9999-12-31') as nameendt, shrcd, exchcd\n",
    "from crsp.msenames\n",
    "\"\"\"\n",
    "names = db.raw_sql(sql_names, date_cols=['namedt', 'nameendt'])\n",
    "\n",
    "# Merge names onto msf by permno where date is within [namedt, nameendt]\n",
    "msf = msf.merge(names, on='permno', how='left')\n",
    "msf = msf[(msf['date'] >= msf['namedt']) & (msf['date'] <= msf['nameendt'])].copy()\n",
    "\n",
    "# Optional: keep common shares on major exchanges\n",
    "msf = msf[msf['shrcd'].isin([10, 11]) & msf['exchcd'].isin([1, 2, 3])]\n"
   ],
   "metadata": {
    "collapsed": false,
    "ExecuteTime": {
     "end_time": "2025-10-01T20:00:11.197320Z",
     "start_time": "2025-10-01T20:00:06.599613200Z"
    }
   }
  },
  {
   "cell_type": "code",
   "execution_count": 227,
   "outputs": [
    {
     "data": {
      "text/plain": "         permno       date       ret      retx      prc     shrout  \\\n4         10001 2007-01-31  0.023279  0.023279  11.3584     2959.0   \n15        10002 2007-01-31 -0.158307 -0.158307    21.48    11166.0   \n17        10025 2007-01-31 -0.125305 -0.125305    46.63     7936.0   \n21        10026 2007-01-31 -0.002899 -0.002899    41.28    18541.0   \n37        10028 2007-01-31  0.078701  0.078701   2.7399     4913.0   \n...         ...        ...       ...       ...      ...        ...   \n8099800   93374 2024-12-31  -0.10221 -0.109907    62.44   103004.0   \n8099832   93397 2024-12-31 -0.117446 -0.120144    24.46    18033.0   \n8099848   93426 2024-12-31  0.021768  0.021768    23.47    12216.0   \n8099862   93434 2024-12-31  0.133333  0.133333     7.99     2284.0   \n8099866   93436 2024-12-31  0.170008  0.170008   403.84  3210060.0   \n\n                           me     namedt   nameendt  shrcd  exchcd  \n4                  33609505.6 2004-12-27 2008-02-04     11       3  \n15                239845680.0 2006-06-30 2013-02-15     11       3  \n17                370055680.0 2004-06-10 2009-01-29     11       3  \n21                765372480.0 2004-06-10 2019-08-04     11       3  \n37                 13461128.7 2004-06-10 2007-10-30     11       3  \n...                       ...        ...        ...    ...     ...  \n8099800          6431569760.0 2014-02-13 2024-12-31     11       1  \n8099832           441087180.0 2019-09-11 2024-12-31     11       3  \n8099848           286709520.0 2012-05-02 2024-12-31     11       1  \n8099862            18249160.0 2024-10-18 2024-12-31     11       3  \n8099866  1296350630399.999756 2024-06-20 2024-12-31     11       3  \n\n[847893 rows x 11 columns]",
      "text/html": "<div>\n<style scoped>\n    .dataframe tbody tr th:only-of-type {\n        vertical-align: middle;\n    }\n\n    .dataframe tbody tr th {\n        vertical-align: top;\n    }\n\n    .dataframe thead th {\n        text-align: right;\n    }\n</style>\n<table border=\"1\" class=\"dataframe\">\n  <thead>\n    <tr style=\"text-align: right;\">\n      <th></th>\n      <th>permno</th>\n      <th>date</th>\n      <th>ret</th>\n      <th>retx</th>\n      <th>prc</th>\n      <th>shrout</th>\n      <th>me</th>\n      <th>namedt</th>\n      <th>nameendt</th>\n      <th>shrcd</th>\n      <th>exchcd</th>\n    </tr>\n  </thead>\n  <tbody>\n    <tr>\n      <th>4</th>\n      <td>10001</td>\n      <td>2007-01-31</td>\n      <td>0.023279</td>\n      <td>0.023279</td>\n      <td>11.3584</td>\n      <td>2959.0</td>\n      <td>33609505.6</td>\n      <td>2004-12-27</td>\n      <td>2008-02-04</td>\n      <td>11</td>\n      <td>3</td>\n    </tr>\n    <tr>\n      <th>15</th>\n      <td>10002</td>\n      <td>2007-01-31</td>\n      <td>-0.158307</td>\n      <td>-0.158307</td>\n      <td>21.48</td>\n      <td>11166.0</td>\n      <td>239845680.0</td>\n      <td>2006-06-30</td>\n      <td>2013-02-15</td>\n      <td>11</td>\n      <td>3</td>\n    </tr>\n    <tr>\n      <th>17</th>\n      <td>10025</td>\n      <td>2007-01-31</td>\n      <td>-0.125305</td>\n      <td>-0.125305</td>\n      <td>46.63</td>\n      <td>7936.0</td>\n      <td>370055680.0</td>\n      <td>2004-06-10</td>\n      <td>2009-01-29</td>\n      <td>11</td>\n      <td>3</td>\n    </tr>\n    <tr>\n      <th>21</th>\n      <td>10026</td>\n      <td>2007-01-31</td>\n      <td>-0.002899</td>\n      <td>-0.002899</td>\n      <td>41.28</td>\n      <td>18541.0</td>\n      <td>765372480.0</td>\n      <td>2004-06-10</td>\n      <td>2019-08-04</td>\n      <td>11</td>\n      <td>3</td>\n    </tr>\n    <tr>\n      <th>37</th>\n      <td>10028</td>\n      <td>2007-01-31</td>\n      <td>0.078701</td>\n      <td>0.078701</td>\n      <td>2.7399</td>\n      <td>4913.0</td>\n      <td>13461128.7</td>\n      <td>2004-06-10</td>\n      <td>2007-10-30</td>\n      <td>11</td>\n      <td>3</td>\n    </tr>\n    <tr>\n      <th>...</th>\n      <td>...</td>\n      <td>...</td>\n      <td>...</td>\n      <td>...</td>\n      <td>...</td>\n      <td>...</td>\n      <td>...</td>\n      <td>...</td>\n      <td>...</td>\n      <td>...</td>\n      <td>...</td>\n    </tr>\n    <tr>\n      <th>8099800</th>\n      <td>93374</td>\n      <td>2024-12-31</td>\n      <td>-0.10221</td>\n      <td>-0.109907</td>\n      <td>62.44</td>\n      <td>103004.0</td>\n      <td>6431569760.0</td>\n      <td>2014-02-13</td>\n      <td>2024-12-31</td>\n      <td>11</td>\n      <td>1</td>\n    </tr>\n    <tr>\n      <th>8099832</th>\n      <td>93397</td>\n      <td>2024-12-31</td>\n      <td>-0.117446</td>\n      <td>-0.120144</td>\n      <td>24.46</td>\n      <td>18033.0</td>\n      <td>441087180.0</td>\n      <td>2019-09-11</td>\n      <td>2024-12-31</td>\n      <td>11</td>\n      <td>3</td>\n    </tr>\n    <tr>\n      <th>8099848</th>\n      <td>93426</td>\n      <td>2024-12-31</td>\n      <td>0.021768</td>\n      <td>0.021768</td>\n      <td>23.47</td>\n      <td>12216.0</td>\n      <td>286709520.0</td>\n      <td>2012-05-02</td>\n      <td>2024-12-31</td>\n      <td>11</td>\n      <td>1</td>\n    </tr>\n    <tr>\n      <th>8099862</th>\n      <td>93434</td>\n      <td>2024-12-31</td>\n      <td>0.133333</td>\n      <td>0.133333</td>\n      <td>7.99</td>\n      <td>2284.0</td>\n      <td>18249160.0</td>\n      <td>2024-10-18</td>\n      <td>2024-12-31</td>\n      <td>11</td>\n      <td>3</td>\n    </tr>\n    <tr>\n      <th>8099866</th>\n      <td>93436</td>\n      <td>2024-12-31</td>\n      <td>0.170008</td>\n      <td>0.170008</td>\n      <td>403.84</td>\n      <td>3210060.0</td>\n      <td>1296350630399.999756</td>\n      <td>2024-06-20</td>\n      <td>2024-12-31</td>\n      <td>11</td>\n      <td>3</td>\n    </tr>\n  </tbody>\n</table>\n<p>847893 rows × 11 columns</p>\n</div>"
     },
     "execution_count": 227,
     "metadata": {},
     "output_type": "execute_result"
    }
   ],
   "source": [
    "msf"
   ],
   "metadata": {
    "collapsed": false,
    "ExecuteTime": {
     "end_time": "2025-10-01T20:00:17.558693200Z",
     "start_time": "2025-10-01T20:00:17.538838300Z"
    }
   }
  },
  {
   "cell_type": "code",
   "execution_count": 229,
   "outputs": [],
   "source": [
    "# ---- 3) Delisting returns & adjusted return ----\n",
    "sql_dl = f\"\"\"\n",
    "select permno, dlstdt as date, dlret\n",
    "from crsp.msedelist\n",
    "where dlstdt between '{START}' and '{END}'\n",
    "\"\"\"\n",
    "dl = db.raw_sql(sql_dl, date_cols=['date'])\n",
    "dl['date'] = dl['date'] + MonthEnd(0)  # align to month-end\n",
    "\n",
    "crsp = msf.merge(dl.rename(columns={'date':'dl_date'}),\n",
    "                 left_on=['permno','date'], right_on=['permno','dl_date'], how='left')\n",
    "crsp['dlret'] = pd.to_numeric(crsp['dlret'], errors='coerce')\n",
    "crsp['ret']   = pd.to_numeric(crsp['ret'], errors='coerce')\n",
    "crsp['ret_adj'] = (1.0 + crsp['ret'].fillna(0.0)) * (1.0 + crsp['dlret'].fillna(0.0)) - 1.0"
   ],
   "metadata": {
    "collapsed": false,
    "ExecuteTime": {
     "end_time": "2025-10-01T20:02:10.516717500Z",
     "start_time": "2025-10-01T20:02:09.321070500Z"
    }
   }
  },
  {
   "cell_type": "code",
   "execution_count": 230,
   "outputs": [
    {
     "data": {
      "text/plain": "        permno       date   ret_adj                    me  \\\n0        10001 2007-01-31  0.023279            33609505.6   \n4672     10001 2007-02-28  0.261621            42413910.0   \n9332     10001 2007-03-30  0.019732            43438940.0   \n13992    10001 2007-04-30  0.002764            43559020.0   \n18636    10001 2007-05-31  0.043418            45014970.0   \n...        ...        ...       ...                   ...   \n832555   93436 2024-08-30 -0.077391   684004370400.000122   \n836414   93436 2024-09-30  0.221942        839047410000.0   \n840259   93436 2024-10-31 -0.045025   802033523100.599976   \n844088   93436 2024-11-29  0.381469  1107984309600.000244   \n847892   93436 2024-12-31  0.170008  1296350630399.999756   \n\n                      me_lag  shrcd  exchcd  \n0                       <NA>     11       3  \n4672              33609505.6     11       3  \n9332              42413910.0     11       3  \n13992             43438940.0     11       3  \n18636             43559020.0     11       3  \n...                      ...    ...     ...  \n832555   741380136746.400024     11       3  \n836414   684004370400.000122     11       3  \n840259        839047410000.0     11       3  \n844088   802033523100.599976     11       3  \n847892  1107984309600.000244     11       3  \n\n[847893 rows x 7 columns]",
      "text/html": "<div>\n<style scoped>\n    .dataframe tbody tr th:only-of-type {\n        vertical-align: middle;\n    }\n\n    .dataframe tbody tr th {\n        vertical-align: top;\n    }\n\n    .dataframe thead th {\n        text-align: right;\n    }\n</style>\n<table border=\"1\" class=\"dataframe\">\n  <thead>\n    <tr style=\"text-align: right;\">\n      <th></th>\n      <th>permno</th>\n      <th>date</th>\n      <th>ret_adj</th>\n      <th>me</th>\n      <th>me_lag</th>\n      <th>shrcd</th>\n      <th>exchcd</th>\n    </tr>\n  </thead>\n  <tbody>\n    <tr>\n      <th>0</th>\n      <td>10001</td>\n      <td>2007-01-31</td>\n      <td>0.023279</td>\n      <td>33609505.6</td>\n      <td>&lt;NA&gt;</td>\n      <td>11</td>\n      <td>3</td>\n    </tr>\n    <tr>\n      <th>4672</th>\n      <td>10001</td>\n      <td>2007-02-28</td>\n      <td>0.261621</td>\n      <td>42413910.0</td>\n      <td>33609505.6</td>\n      <td>11</td>\n      <td>3</td>\n    </tr>\n    <tr>\n      <th>9332</th>\n      <td>10001</td>\n      <td>2007-03-30</td>\n      <td>0.019732</td>\n      <td>43438940.0</td>\n      <td>42413910.0</td>\n      <td>11</td>\n      <td>3</td>\n    </tr>\n    <tr>\n      <th>13992</th>\n      <td>10001</td>\n      <td>2007-04-30</td>\n      <td>0.002764</td>\n      <td>43559020.0</td>\n      <td>43438940.0</td>\n      <td>11</td>\n      <td>3</td>\n    </tr>\n    <tr>\n      <th>18636</th>\n      <td>10001</td>\n      <td>2007-05-31</td>\n      <td>0.043418</td>\n      <td>45014970.0</td>\n      <td>43559020.0</td>\n      <td>11</td>\n      <td>3</td>\n    </tr>\n    <tr>\n      <th>...</th>\n      <td>...</td>\n      <td>...</td>\n      <td>...</td>\n      <td>...</td>\n      <td>...</td>\n      <td>...</td>\n      <td>...</td>\n    </tr>\n    <tr>\n      <th>832555</th>\n      <td>93436</td>\n      <td>2024-08-30</td>\n      <td>-0.077391</td>\n      <td>684004370400.000122</td>\n      <td>741380136746.400024</td>\n      <td>11</td>\n      <td>3</td>\n    </tr>\n    <tr>\n      <th>836414</th>\n      <td>93436</td>\n      <td>2024-09-30</td>\n      <td>0.221942</td>\n      <td>839047410000.0</td>\n      <td>684004370400.000122</td>\n      <td>11</td>\n      <td>3</td>\n    </tr>\n    <tr>\n      <th>840259</th>\n      <td>93436</td>\n      <td>2024-10-31</td>\n      <td>-0.045025</td>\n      <td>802033523100.599976</td>\n      <td>839047410000.0</td>\n      <td>11</td>\n      <td>3</td>\n    </tr>\n    <tr>\n      <th>844088</th>\n      <td>93436</td>\n      <td>2024-11-29</td>\n      <td>0.381469</td>\n      <td>1107984309600.000244</td>\n      <td>802033523100.599976</td>\n      <td>11</td>\n      <td>3</td>\n    </tr>\n    <tr>\n      <th>847892</th>\n      <td>93436</td>\n      <td>2024-12-31</td>\n      <td>0.170008</td>\n      <td>1296350630399.999756</td>\n      <td>1107984309600.000244</td>\n      <td>11</td>\n      <td>3</td>\n    </tr>\n  </tbody>\n</table>\n<p>847893 rows × 7 columns</p>\n</div>"
     },
     "execution_count": 230,
     "metadata": {},
     "output_type": "execute_result"
    }
   ],
   "source": [
    "# ---- 4) Lagged ME for VW weights (use ME at t-1 for month t) ----\n",
    "crsp = crsp.sort_values(['permno','date'])\n",
    "crsp['me_lag'] = crsp.groupby('permno')['me'].shift(1)\n",
    "\n",
    "crsp_panel = crsp[['permno','date','ret_adj','me','me_lag','shrcd','exchcd']].copy()\n",
    "crsp_panel"
   ],
   "metadata": {
    "collapsed": false,
    "ExecuteTime": {
     "end_time": "2025-10-01T20:02:45.918940Z",
     "start_time": "2025-10-01T20:02:45.300359700Z"
    }
   }
  },
  {
   "cell_type": "code",
   "execution_count": 231,
   "outputs": [],
   "source": [
    "# ---- 5) Fama–French monthly factors ----\n",
    "ff = db.raw_sql(f\"\"\"\n",
    "select *\n",
    "from ff.factors_monthly\n",
    "where date between '{START}' and '{END}'\n",
    "\"\"\", date_cols=['date'])\n",
    "\n",
    "# Convert to decimals if table is in %\n",
    "for col in ff.columns:\n",
    "    if col.lower() != 'date' and pd.api.types.is_numeric_dtype(ff[col]):\n",
    "        med = ff[col].abs().median(skipna=True)\n",
    "        if pd.notna(med) and med > 0.5:  # crude but effective\n",
    "            ff[col] = ff[col] / 100.0\n",
    "\n",
    "ff = ff.rename(columns={\n",
    "    'mktrf':'MKT_RF', 'smb':'SMB', 'hml':'HML', 'rf':'RF',\n",
    "    'rmw':'RMW' if 'rmw' in ff.columns else 'RMW',\n",
    "    'cma':'CMA' if 'cma' in ff.columns else 'CMA',\n",
    "    'umd':'MOM' if 'umd' in ff.columns else 'MOM'\n",
    "})\n",
    "ff['date'] = ff['date'] + MonthEnd(0)"
   ],
   "metadata": {
    "collapsed": false,
    "ExecuteTime": {
     "end_time": "2025-10-01T20:11:47.379787200Z",
     "start_time": "2025-10-01T20:11:47.143998800Z"
    }
   }
  },
  {
   "cell_type": "code",
   "execution_count": 232,
   "outputs": [
    {
     "data": {
      "text/plain": "          date  MKT_RF     SMB     HML      RF   year  month     MOM  \\\n0   2007-01-31  0.0138  0.0009 -0.0068  0.0044  20.07   0.01  0.0017   \n1   2007-02-28 -0.0196  0.0123 -0.0008  0.0038  20.07   0.02 -0.0129   \n2   2007-03-31  0.0071  0.0009 -0.0088  0.0043  20.07   0.03  0.0258   \n3   2007-04-30  0.0349 -0.0221 -0.0144  0.0044  20.07   0.04 -0.0016   \n4   2007-05-31  0.0323  0.0016 -0.0059  0.0041  20.07   0.05 -0.0033   \n..         ...     ...     ...     ...     ...    ...    ...     ...   \n211 2024-08-31   0.016 -0.0349  -0.011  0.0048  20.24   0.08  0.0481   \n212 2024-09-30  0.0172 -0.0013 -0.0277   0.004  20.24   0.09 -0.0062   \n213 2024-10-31   -0.01 -0.0099  0.0086  0.0039  20.24    0.1  0.0298   \n214 2024-11-30  0.0649  0.0446  0.0015   0.004  20.24   0.11  0.0099   \n215 2024-12-31 -0.0317 -0.0271   -0.03  0.0037  20.24   0.12  -0.003   \n\n         dateff  \n0    2007-01-31  \n1    2007-02-28  \n2    2007-03-30  \n3    2007-04-30  \n4    2007-05-31  \n..          ...  \n211  2024-08-30  \n212  2024-09-30  \n213  2024-10-31  \n214  2024-11-29  \n215  2024-12-31  \n\n[216 rows x 9 columns]",
      "text/html": "<div>\n<style scoped>\n    .dataframe tbody tr th:only-of-type {\n        vertical-align: middle;\n    }\n\n    .dataframe tbody tr th {\n        vertical-align: top;\n    }\n\n    .dataframe thead th {\n        text-align: right;\n    }\n</style>\n<table border=\"1\" class=\"dataframe\">\n  <thead>\n    <tr style=\"text-align: right;\">\n      <th></th>\n      <th>date</th>\n      <th>MKT_RF</th>\n      <th>SMB</th>\n      <th>HML</th>\n      <th>RF</th>\n      <th>year</th>\n      <th>month</th>\n      <th>MOM</th>\n      <th>dateff</th>\n    </tr>\n  </thead>\n  <tbody>\n    <tr>\n      <th>0</th>\n      <td>2007-01-31</td>\n      <td>0.0138</td>\n      <td>0.0009</td>\n      <td>-0.0068</td>\n      <td>0.0044</td>\n      <td>20.07</td>\n      <td>0.01</td>\n      <td>0.0017</td>\n      <td>2007-01-31</td>\n    </tr>\n    <tr>\n      <th>1</th>\n      <td>2007-02-28</td>\n      <td>-0.0196</td>\n      <td>0.0123</td>\n      <td>-0.0008</td>\n      <td>0.0038</td>\n      <td>20.07</td>\n      <td>0.02</td>\n      <td>-0.0129</td>\n      <td>2007-02-28</td>\n    </tr>\n    <tr>\n      <th>2</th>\n      <td>2007-03-31</td>\n      <td>0.0071</td>\n      <td>0.0009</td>\n      <td>-0.0088</td>\n      <td>0.0043</td>\n      <td>20.07</td>\n      <td>0.03</td>\n      <td>0.0258</td>\n      <td>2007-03-30</td>\n    </tr>\n    <tr>\n      <th>3</th>\n      <td>2007-04-30</td>\n      <td>0.0349</td>\n      <td>-0.0221</td>\n      <td>-0.0144</td>\n      <td>0.0044</td>\n      <td>20.07</td>\n      <td>0.04</td>\n      <td>-0.0016</td>\n      <td>2007-04-30</td>\n    </tr>\n    <tr>\n      <th>4</th>\n      <td>2007-05-31</td>\n      <td>0.0323</td>\n      <td>0.0016</td>\n      <td>-0.0059</td>\n      <td>0.0041</td>\n      <td>20.07</td>\n      <td>0.05</td>\n      <td>-0.0033</td>\n      <td>2007-05-31</td>\n    </tr>\n    <tr>\n      <th>...</th>\n      <td>...</td>\n      <td>...</td>\n      <td>...</td>\n      <td>...</td>\n      <td>...</td>\n      <td>...</td>\n      <td>...</td>\n      <td>...</td>\n      <td>...</td>\n    </tr>\n    <tr>\n      <th>211</th>\n      <td>2024-08-31</td>\n      <td>0.016</td>\n      <td>-0.0349</td>\n      <td>-0.011</td>\n      <td>0.0048</td>\n      <td>20.24</td>\n      <td>0.08</td>\n      <td>0.0481</td>\n      <td>2024-08-30</td>\n    </tr>\n    <tr>\n      <th>212</th>\n      <td>2024-09-30</td>\n      <td>0.0172</td>\n      <td>-0.0013</td>\n      <td>-0.0277</td>\n      <td>0.004</td>\n      <td>20.24</td>\n      <td>0.09</td>\n      <td>-0.0062</td>\n      <td>2024-09-30</td>\n    </tr>\n    <tr>\n      <th>213</th>\n      <td>2024-10-31</td>\n      <td>-0.01</td>\n      <td>-0.0099</td>\n      <td>0.0086</td>\n      <td>0.0039</td>\n      <td>20.24</td>\n      <td>0.1</td>\n      <td>0.0298</td>\n      <td>2024-10-31</td>\n    </tr>\n    <tr>\n      <th>214</th>\n      <td>2024-11-30</td>\n      <td>0.0649</td>\n      <td>0.0446</td>\n      <td>0.0015</td>\n      <td>0.004</td>\n      <td>20.24</td>\n      <td>0.11</td>\n      <td>0.0099</td>\n      <td>2024-11-29</td>\n    </tr>\n    <tr>\n      <th>215</th>\n      <td>2024-12-31</td>\n      <td>-0.0317</td>\n      <td>-0.0271</td>\n      <td>-0.03</td>\n      <td>0.0037</td>\n      <td>20.24</td>\n      <td>0.12</td>\n      <td>-0.003</td>\n      <td>2024-12-31</td>\n    </tr>\n  </tbody>\n</table>\n<p>216 rows × 9 columns</p>\n</div>"
     },
     "execution_count": 232,
     "metadata": {},
     "output_type": "execute_result"
    }
   ],
   "source": [
    "ff"
   ],
   "metadata": {
    "collapsed": false,
    "ExecuteTime": {
     "end_time": "2025-10-01T20:11:53.456035Z",
     "start_time": "2025-10-01T20:11:53.428044500Z"
    }
   }
  },
  {
   "cell_type": "code",
   "execution_count": 234,
   "outputs": [
    {
     "data": {
      "text/plain": "        permno     namedt   nameendt     cusip    ncusip\n0        10000 1986-01-07 1986-12-03  68391610  68391610\n1        10000 1986-12-04 1987-03-09  68391610  68391610\n2        10000 1987-03-10 1987-06-11  68391610  68391610\n3        10001 1986-01-09 1993-11-21  36720410  39040610\n4        10001 1993-11-22 2004-06-09  36720410  29274A10\n...        ...        ...        ...       ...       ...\n117825   93435 2010-06-14 2012-05-18  82936G20  82936G20\n117826   93436 2010-06-29 2017-02-01  88160R10  88160R10\n117827   93436 2017-02-02 2023-04-02  88160R10  88160R10\n117828   93436 2023-04-03 2024-06-19  88160R10  88160R10\n117829   93436 2024-06-20 2024-12-31  88160R10  88160R10\n\n[117830 rows x 5 columns]",
      "text/html": "<div>\n<style scoped>\n    .dataframe tbody tr th:only-of-type {\n        vertical-align: middle;\n    }\n\n    .dataframe tbody tr th {\n        vertical-align: top;\n    }\n\n    .dataframe thead th {\n        text-align: right;\n    }\n</style>\n<table border=\"1\" class=\"dataframe\">\n  <thead>\n    <tr style=\"text-align: right;\">\n      <th></th>\n      <th>permno</th>\n      <th>namedt</th>\n      <th>nameendt</th>\n      <th>cusip</th>\n      <th>ncusip</th>\n    </tr>\n  </thead>\n  <tbody>\n    <tr>\n      <th>0</th>\n      <td>10000</td>\n      <td>1986-01-07</td>\n      <td>1986-12-03</td>\n      <td>68391610</td>\n      <td>68391610</td>\n    </tr>\n    <tr>\n      <th>1</th>\n      <td>10000</td>\n      <td>1986-12-04</td>\n      <td>1987-03-09</td>\n      <td>68391610</td>\n      <td>68391610</td>\n    </tr>\n    <tr>\n      <th>2</th>\n      <td>10000</td>\n      <td>1987-03-10</td>\n      <td>1987-06-11</td>\n      <td>68391610</td>\n      <td>68391610</td>\n    </tr>\n    <tr>\n      <th>3</th>\n      <td>10001</td>\n      <td>1986-01-09</td>\n      <td>1993-11-21</td>\n      <td>36720410</td>\n      <td>39040610</td>\n    </tr>\n    <tr>\n      <th>4</th>\n      <td>10001</td>\n      <td>1993-11-22</td>\n      <td>2004-06-09</td>\n      <td>36720410</td>\n      <td>29274A10</td>\n    </tr>\n    <tr>\n      <th>...</th>\n      <td>...</td>\n      <td>...</td>\n      <td>...</td>\n      <td>...</td>\n      <td>...</td>\n    </tr>\n    <tr>\n      <th>117825</th>\n      <td>93435</td>\n      <td>2010-06-14</td>\n      <td>2012-05-18</td>\n      <td>82936G20</td>\n      <td>82936G20</td>\n    </tr>\n    <tr>\n      <th>117826</th>\n      <td>93436</td>\n      <td>2010-06-29</td>\n      <td>2017-02-01</td>\n      <td>88160R10</td>\n      <td>88160R10</td>\n    </tr>\n    <tr>\n      <th>117827</th>\n      <td>93436</td>\n      <td>2017-02-02</td>\n      <td>2023-04-02</td>\n      <td>88160R10</td>\n      <td>88160R10</td>\n    </tr>\n    <tr>\n      <th>117828</th>\n      <td>93436</td>\n      <td>2023-04-03</td>\n      <td>2024-06-19</td>\n      <td>88160R10</td>\n      <td>88160R10</td>\n    </tr>\n    <tr>\n      <th>117829</th>\n      <td>93436</td>\n      <td>2024-06-20</td>\n      <td>2024-12-31</td>\n      <td>88160R10</td>\n      <td>88160R10</td>\n    </tr>\n  </tbody>\n</table>\n<p>117830 rows × 5 columns</p>\n</div>"
     },
     "execution_count": 234,
     "metadata": {},
     "output_type": "execute_result"
    }
   ],
   "source": [
    "# --- pull CUSIP/NCUSIP name history ---\n",
    "sql_names = \"\"\"\n",
    "select\n",
    "    permno,\n",
    "    namedt,\n",
    "    coalesce(nameendt, '9999-12-31') as nameendt,\n",
    "    cusip,\n",
    "    ncusip\n",
    "from crsp.msenames\n",
    "\"\"\"\n",
    "names = db.raw_sql(sql_names, date_cols=['namedt','nameendt'])"
   ],
   "metadata": {
    "collapsed": false,
    "ExecuteTime": {
     "end_time": "2025-10-01T20:24:35.478140300Z",
     "start_time": "2025-10-01T20:24:32.496923500Z"
    }
   }
  },
  {
   "cell_type": "code",
   "execution_count": 238,
   "outputs": [
    {
     "data": {
      "text/plain": "        permno     namedt   nameendt     cusip    ncusip\n2        10000 1987-03-10 1987-06-11  68391610  68391610\n12       10001 2010-07-09 2017-08-03  36720410  36720410\n18       10002 2006-06-30 2013-02-15  05978R10  05978R10\n20       10003 1987-04-01 1995-12-15  39031810  39031810\n21       10005 1986-01-15 1991-07-11  95815510  95815510\n...        ...        ...        ...       ...       ...\n117819   93432 2010-06-08 2011-05-31  47737R10  47737R10\n117822   93433 2013-04-24 2016-12-22  92870X30  92870X30\n117824   93434 2024-10-18 2024-12-31  78513530  78513530\n117825   93435 2010-06-14 2012-05-18  82936G20  82936G20\n117829   93436 2024-06-20 2024-12-31  88160R10  88160R10\n\n[38843 rows x 5 columns]",
      "text/html": "<div>\n<style scoped>\n    .dataframe tbody tr th:only-of-type {\n        vertical-align: middle;\n    }\n\n    .dataframe tbody tr th {\n        vertical-align: top;\n    }\n\n    .dataframe thead th {\n        text-align: right;\n    }\n</style>\n<table border=\"1\" class=\"dataframe\">\n  <thead>\n    <tr style=\"text-align: right;\">\n      <th></th>\n      <th>permno</th>\n      <th>namedt</th>\n      <th>nameendt</th>\n      <th>cusip</th>\n      <th>ncusip</th>\n    </tr>\n  </thead>\n  <tbody>\n    <tr>\n      <th>2</th>\n      <td>10000</td>\n      <td>1987-03-10</td>\n      <td>1987-06-11</td>\n      <td>68391610</td>\n      <td>68391610</td>\n    </tr>\n    <tr>\n      <th>12</th>\n      <td>10001</td>\n      <td>2010-07-09</td>\n      <td>2017-08-03</td>\n      <td>36720410</td>\n      <td>36720410</td>\n    </tr>\n    <tr>\n      <th>18</th>\n      <td>10002</td>\n      <td>2006-06-30</td>\n      <td>2013-02-15</td>\n      <td>05978R10</td>\n      <td>05978R10</td>\n    </tr>\n    <tr>\n      <th>20</th>\n      <td>10003</td>\n      <td>1987-04-01</td>\n      <td>1995-12-15</td>\n      <td>39031810</td>\n      <td>39031810</td>\n    </tr>\n    <tr>\n      <th>21</th>\n      <td>10005</td>\n      <td>1986-01-15</td>\n      <td>1991-07-11</td>\n      <td>95815510</td>\n      <td>95815510</td>\n    </tr>\n    <tr>\n      <th>...</th>\n      <td>...</td>\n      <td>...</td>\n      <td>...</td>\n      <td>...</td>\n      <td>...</td>\n    </tr>\n    <tr>\n      <th>117819</th>\n      <td>93432</td>\n      <td>2010-06-08</td>\n      <td>2011-05-31</td>\n      <td>47737R10</td>\n      <td>47737R10</td>\n    </tr>\n    <tr>\n      <th>117822</th>\n      <td>93433</td>\n      <td>2013-04-24</td>\n      <td>2016-12-22</td>\n      <td>92870X30</td>\n      <td>92870X30</td>\n    </tr>\n    <tr>\n      <th>117824</th>\n      <td>93434</td>\n      <td>2024-10-18</td>\n      <td>2024-12-31</td>\n      <td>78513530</td>\n      <td>78513530</td>\n    </tr>\n    <tr>\n      <th>117825</th>\n      <td>93435</td>\n      <td>2010-06-14</td>\n      <td>2012-05-18</td>\n      <td>82936G20</td>\n      <td>82936G20</td>\n    </tr>\n    <tr>\n      <th>117829</th>\n      <td>93436</td>\n      <td>2024-06-20</td>\n      <td>2024-12-31</td>\n      <td>88160R10</td>\n      <td>88160R10</td>\n    </tr>\n  </tbody>\n</table>\n<p>38843 rows × 5 columns</p>\n</div>"
     },
     "execution_count": 238,
     "metadata": {},
     "output_type": "execute_result"
    }
   ],
   "source": [
    "names.drop_duplicates(['permno'], keep='last', inplace=True)"
   ],
   "metadata": {
    "collapsed": false,
    "ExecuteTime": {
     "end_time": "2025-10-01T20:27:27.805482500Z",
     "start_time": "2025-10-01T20:27:27.668846100Z"
    }
   }
  },
  {
   "cell_type": "code",
   "execution_count": 239,
   "outputs": [
    {
     "data": {
      "text/plain": "        permno       date   ret_adj                    me  \\\n0        10001 2007-01-31  0.023279            33609505.6   \n1        10001 2007-02-28  0.261621            42413910.0   \n2        10001 2007-03-30  0.019732            43438940.0   \n3        10001 2007-04-30  0.002764            43559020.0   \n4        10001 2007-05-31  0.043418            45014970.0   \n...        ...        ...       ...                   ...   \n847888   93436 2024-08-30 -0.077391   684004370400.000122   \n847889   93436 2024-09-30  0.221942        839047410000.0   \n847890   93436 2024-10-31 -0.045025   802033523100.599976   \n847891   93436 2024-11-29  0.381469  1107984309600.000244   \n847892   93436 2024-12-31  0.170008  1296350630399.999756   \n\n                      me_lag  shrcd  exchcd     namedt   nameendt     cusip  \\\n0                       <NA>     11       3 2010-07-09 2017-08-03  36720410   \n1                 33609505.6     11       3 2010-07-09 2017-08-03  36720410   \n2                 42413910.0     11       3 2010-07-09 2017-08-03  36720410   \n3                 43438940.0     11       3 2010-07-09 2017-08-03  36720410   \n4                 43559020.0     11       3 2010-07-09 2017-08-03  36720410   \n...                      ...    ...     ...        ...        ...       ...   \n847888   741380136746.400024     11       3 2024-06-20 2024-12-31  88160R10   \n847889   684004370400.000122     11       3 2024-06-20 2024-12-31  88160R10   \n847890        839047410000.0     11       3 2024-06-20 2024-12-31  88160R10   \n847891   802033523100.599976     11       3 2024-06-20 2024-12-31  88160R10   \n847892  1107984309600.000244     11       3 2024-06-20 2024-12-31  88160R10   \n\n          ncusip  \n0       36720410  \n1       36720410  \n2       36720410  \n3       36720410  \n4       36720410  \n...          ...  \n847888  88160R10  \n847889  88160R10  \n847890  88160R10  \n847891  88160R10  \n847892  88160R10  \n\n[847893 rows x 11 columns]",
      "text/html": "<div>\n<style scoped>\n    .dataframe tbody tr th:only-of-type {\n        vertical-align: middle;\n    }\n\n    .dataframe tbody tr th {\n        vertical-align: top;\n    }\n\n    .dataframe thead th {\n        text-align: right;\n    }\n</style>\n<table border=\"1\" class=\"dataframe\">\n  <thead>\n    <tr style=\"text-align: right;\">\n      <th></th>\n      <th>permno</th>\n      <th>date</th>\n      <th>ret_adj</th>\n      <th>me</th>\n      <th>me_lag</th>\n      <th>shrcd</th>\n      <th>exchcd</th>\n      <th>namedt</th>\n      <th>nameendt</th>\n      <th>cusip</th>\n      <th>ncusip</th>\n    </tr>\n  </thead>\n  <tbody>\n    <tr>\n      <th>0</th>\n      <td>10001</td>\n      <td>2007-01-31</td>\n      <td>0.023279</td>\n      <td>33609505.6</td>\n      <td>&lt;NA&gt;</td>\n      <td>11</td>\n      <td>3</td>\n      <td>2010-07-09</td>\n      <td>2017-08-03</td>\n      <td>36720410</td>\n      <td>36720410</td>\n    </tr>\n    <tr>\n      <th>1</th>\n      <td>10001</td>\n      <td>2007-02-28</td>\n      <td>0.261621</td>\n      <td>42413910.0</td>\n      <td>33609505.6</td>\n      <td>11</td>\n      <td>3</td>\n      <td>2010-07-09</td>\n      <td>2017-08-03</td>\n      <td>36720410</td>\n      <td>36720410</td>\n    </tr>\n    <tr>\n      <th>2</th>\n      <td>10001</td>\n      <td>2007-03-30</td>\n      <td>0.019732</td>\n      <td>43438940.0</td>\n      <td>42413910.0</td>\n      <td>11</td>\n      <td>3</td>\n      <td>2010-07-09</td>\n      <td>2017-08-03</td>\n      <td>36720410</td>\n      <td>36720410</td>\n    </tr>\n    <tr>\n      <th>3</th>\n      <td>10001</td>\n      <td>2007-04-30</td>\n      <td>0.002764</td>\n      <td>43559020.0</td>\n      <td>43438940.0</td>\n      <td>11</td>\n      <td>3</td>\n      <td>2010-07-09</td>\n      <td>2017-08-03</td>\n      <td>36720410</td>\n      <td>36720410</td>\n    </tr>\n    <tr>\n      <th>4</th>\n      <td>10001</td>\n      <td>2007-05-31</td>\n      <td>0.043418</td>\n      <td>45014970.0</td>\n      <td>43559020.0</td>\n      <td>11</td>\n      <td>3</td>\n      <td>2010-07-09</td>\n      <td>2017-08-03</td>\n      <td>36720410</td>\n      <td>36720410</td>\n    </tr>\n    <tr>\n      <th>...</th>\n      <td>...</td>\n      <td>...</td>\n      <td>...</td>\n      <td>...</td>\n      <td>...</td>\n      <td>...</td>\n      <td>...</td>\n      <td>...</td>\n      <td>...</td>\n      <td>...</td>\n      <td>...</td>\n    </tr>\n    <tr>\n      <th>847888</th>\n      <td>93436</td>\n      <td>2024-08-30</td>\n      <td>-0.077391</td>\n      <td>684004370400.000122</td>\n      <td>741380136746.400024</td>\n      <td>11</td>\n      <td>3</td>\n      <td>2024-06-20</td>\n      <td>2024-12-31</td>\n      <td>88160R10</td>\n      <td>88160R10</td>\n    </tr>\n    <tr>\n      <th>847889</th>\n      <td>93436</td>\n      <td>2024-09-30</td>\n      <td>0.221942</td>\n      <td>839047410000.0</td>\n      <td>684004370400.000122</td>\n      <td>11</td>\n      <td>3</td>\n      <td>2024-06-20</td>\n      <td>2024-12-31</td>\n      <td>88160R10</td>\n      <td>88160R10</td>\n    </tr>\n    <tr>\n      <th>847890</th>\n      <td>93436</td>\n      <td>2024-10-31</td>\n      <td>-0.045025</td>\n      <td>802033523100.599976</td>\n      <td>839047410000.0</td>\n      <td>11</td>\n      <td>3</td>\n      <td>2024-06-20</td>\n      <td>2024-12-31</td>\n      <td>88160R10</td>\n      <td>88160R10</td>\n    </tr>\n    <tr>\n      <th>847891</th>\n      <td>93436</td>\n      <td>2024-11-29</td>\n      <td>0.381469</td>\n      <td>1107984309600.000244</td>\n      <td>802033523100.599976</td>\n      <td>11</td>\n      <td>3</td>\n      <td>2024-06-20</td>\n      <td>2024-12-31</td>\n      <td>88160R10</td>\n      <td>88160R10</td>\n    </tr>\n    <tr>\n      <th>847892</th>\n      <td>93436</td>\n      <td>2024-12-31</td>\n      <td>0.170008</td>\n      <td>1296350630399.999756</td>\n      <td>1107984309600.000244</td>\n      <td>11</td>\n      <td>3</td>\n      <td>2024-06-20</td>\n      <td>2024-12-31</td>\n      <td>88160R10</td>\n      <td>88160R10</td>\n    </tr>\n  </tbody>\n</table>\n<p>847893 rows × 11 columns</p>\n</div>"
     },
     "execution_count": 239,
     "metadata": {},
     "output_type": "execute_result"
    }
   ],
   "source": [
    "# --- align to month-end dates in crsp_panel ---\n",
    "# merge then filter rows where crsp date is within [namedt, nameendt]\n",
    "crsp_with_cusip = crsp_panel.merge(names, on='permno', how='left')\n",
    "crsp_with_cusip"
   ],
   "metadata": {
    "collapsed": false,
    "ExecuteTime": {
     "end_time": "2025-10-01T20:28:07.856230700Z",
     "start_time": "2025-10-01T20:28:07.710309100Z"
    }
   }
  },
  {
   "cell_type": "markdown",
   "source": [
    "# 4. Portfolio Returns"
   ],
   "metadata": {
    "collapsed": false
   }
  },
  {
   "cell_type": "code",
   "execution_count": 240,
   "outputs": [],
   "source": [
    "# ----------------------------\n",
    "# 0) Helpers\n",
    "# ----------------------------\n",
    "\n",
    "def choose_primary_class(df, by=['cusip','date']):\n",
    "    \"\"\"\n",
    "    If multiple PERMNOs share the same cusip8 at a date,\n",
    "    keep the one with the largest lagged market cap (me_lag).\n",
    "    \"\"\"\n",
    "    df = df.copy()\n",
    "    df['_rank'] = df.groupby(by)['me_lag'].rank(method='first', ascending=False)\n",
    "    out = df.loc[df['_rank'] == 1].drop(columns=['_rank'])\n",
    "    return out"
   ],
   "metadata": {
    "collapsed": false,
    "ExecuteTime": {
     "end_time": "2025-10-01T20:49:47.745206700Z",
     "start_time": "2025-10-01T20:49:47.714781300Z"
    }
   }
  },
  {
   "cell_type": "code",
   "execution_count": 242,
   "outputs": [],
   "source": [
    "# ----------------------------\n",
    "# 1) Prepare CRSP monthly panel\n",
    "# ----------------------------\n",
    "crsp = crsp_with_cusip.copy()\n",
    "crsp['date'] = pd.to_datetime(crsp['date'])\n",
    "\n",
    "\n",
    "# If same cusip8 maps to multiple permnos per month, keep largest me_lag\n",
    "crsp_1class = choose_primary_class(crsp, by=['cusip','date'])"
   ],
   "metadata": {
    "collapsed": false,
    "ExecuteTime": {
     "end_time": "2025-10-01T20:50:23.963119200Z",
     "start_time": "2025-10-01T20:50:23.004267100Z"
    }
   }
  },
  {
   "cell_type": "code",
   "execution_count": null,
   "outputs": [],
   "source": [
    "# ----------------------------\n",
    "# 2) Prepare factors\n",
    "# ----------------------------\n",
    "ff = ff.copy()\n",
    "ff['date'] = pd.to_datetime(ff['date']) + MonthEnd(0)"
   ],
   "metadata": {
    "collapsed": false
   }
  },
  {
   "cell_type": "code",
   "execution_count": 295,
   "outputs": [],
   "source": [
    "# ----------------------------\n",
    "# 3) Build holdings months from yearly portfolio file\n",
    "# ----------------------------\n",
    "ports = wide_flags.copy()\n",
    "ports['year'] = pd.to_numeric(ports['year'], errors='coerce').astype('Int64')\n",
    "\n",
    "# --- detect ALL portfolio-flag columns automatically ---\n",
    "flag_cols = [c for c in ports.columns\n",
    "             if (c.startswith(('topQ_', 'botQ_', 'topD_', 'botD_', 'noInc_', 'inc_')))]\n",
    "\n",
    "if not flag_cols:\n",
    "    raise ValueError(\"No portfolio flags found. Expecting columns like 'topQ_resid_...' etc.\")\n",
    "\n",
    "# --- expand each firm-year row to Jan–Dec of (year+1) and carry ALL flags ---\n",
    "def _expand_hold_months(row):\n",
    "    y = int(row['year']) + 1\n",
    "    months = pd.date_range(f'{y}-01-01', f'{y}-12-31', freq='ME')  # month-ends\n",
    "    out = pd.DataFrame({'date': months})\n",
    "    out['cusip'] = row['cusip']\n",
    "    out['hold_from_year'] = int(row['year'])\n",
    "    # copy all detected flags into the monthly rows\n",
    "    for col in flag_cols:\n",
    "        out[col] = row.get(col, 0)\n",
    "    return out\n",
    "\n",
    "hold_list = [_expand_hold_months(r) for _, r in ports.iterrows()]\n",
    "holds_all = pd.concat(hold_list, ignore_index=True)\n",
    "\n",
    "# keep only months where a stock is in at least one portfolio (any flag == 1)\n",
    "any_flag = holds_all[flag_cols].fillna(0).astype('int8').sum(axis=1) > 0\n",
    "holds_all = holds_all.loc[any_flag].reset_index(drop=True)"
   ],
   "metadata": {
    "collapsed": false,
    "ExecuteTime": {
     "end_time": "2025-10-02T15:29:42.729780600Z",
     "start_time": "2025-10-02T15:25:22.172264800Z"
    }
   }
  },
  {
   "cell_type": "code",
   "execution_count": 296,
   "outputs": [
    {
     "data": {
      "text/plain": "             date     cusip  hold_from_year  noInc_material  inc_material  \\\n0      2008-01-31  00030710            2007               1             0   \n1      2008-02-29  00030710            2007               1             0   \n2      2008-03-31  00030710            2007               1             0   \n3      2008-04-30  00030710            2007               1             0   \n4      2008-05-31  00030710            2007               1             0   \n...           ...       ...             ...             ...           ...   \n865771 2024-08-31       NaN            2023               1             0   \n865772 2024-09-30       NaN            2023               1             0   \n865773 2024-10-31       NaN            2023               1             0   \n865774 2024-11-30       NaN            2023               1             0   \n865775 2024-12-31       NaN            2023               1             0   \n\n        noInc_car_1  inc_car_1  noInc_car_5  inc_car_5  noInc_reach  \\\n0                 1          0            1          0            1   \n1                 1          0            1          0            1   \n2                 1          0            1          0            1   \n3                 1          0            1          0            1   \n4                 1          0            1          0            1   \n...             ...        ...          ...        ...          ...   \n865771            1          0            1          0            1   \n865772            1          0            1          0            1   \n865773            1          0            1          0            1   \n865774            1          0            1          0            1   \n865775            1          0            1          0            1   \n\n        inc_reach  noInc_severity  inc_severity  \n0               0               1             0  \n1               0               1             0  \n2               0               1             0  \n3               0               1             0  \n4               0               1             0  \n...           ...             ...           ...  \n865771          0               1             0  \n865772          0               1             0  \n865773          0               1             0  \n865774          0               1             0  \n865775          0               1             0  \n\n[865776 rows x 13 columns]",
      "text/html": "<div>\n<style scoped>\n    .dataframe tbody tr th:only-of-type {\n        vertical-align: middle;\n    }\n\n    .dataframe tbody tr th {\n        vertical-align: top;\n    }\n\n    .dataframe thead th {\n        text-align: right;\n    }\n</style>\n<table border=\"1\" class=\"dataframe\">\n  <thead>\n    <tr style=\"text-align: right;\">\n      <th></th>\n      <th>date</th>\n      <th>cusip</th>\n      <th>hold_from_year</th>\n      <th>noInc_material</th>\n      <th>inc_material</th>\n      <th>noInc_car_1</th>\n      <th>inc_car_1</th>\n      <th>noInc_car_5</th>\n      <th>inc_car_5</th>\n      <th>noInc_reach</th>\n      <th>inc_reach</th>\n      <th>noInc_severity</th>\n      <th>inc_severity</th>\n    </tr>\n  </thead>\n  <tbody>\n    <tr>\n      <th>0</th>\n      <td>2008-01-31</td>\n      <td>00030710</td>\n      <td>2007</td>\n      <td>1</td>\n      <td>0</td>\n      <td>1</td>\n      <td>0</td>\n      <td>1</td>\n      <td>0</td>\n      <td>1</td>\n      <td>0</td>\n      <td>1</td>\n      <td>0</td>\n    </tr>\n    <tr>\n      <th>1</th>\n      <td>2008-02-29</td>\n      <td>00030710</td>\n      <td>2007</td>\n      <td>1</td>\n      <td>0</td>\n      <td>1</td>\n      <td>0</td>\n      <td>1</td>\n      <td>0</td>\n      <td>1</td>\n      <td>0</td>\n      <td>1</td>\n      <td>0</td>\n    </tr>\n    <tr>\n      <th>2</th>\n      <td>2008-03-31</td>\n      <td>00030710</td>\n      <td>2007</td>\n      <td>1</td>\n      <td>0</td>\n      <td>1</td>\n      <td>0</td>\n      <td>1</td>\n      <td>0</td>\n      <td>1</td>\n      <td>0</td>\n      <td>1</td>\n      <td>0</td>\n    </tr>\n    <tr>\n      <th>3</th>\n      <td>2008-04-30</td>\n      <td>00030710</td>\n      <td>2007</td>\n      <td>1</td>\n      <td>0</td>\n      <td>1</td>\n      <td>0</td>\n      <td>1</td>\n      <td>0</td>\n      <td>1</td>\n      <td>0</td>\n      <td>1</td>\n      <td>0</td>\n    </tr>\n    <tr>\n      <th>4</th>\n      <td>2008-05-31</td>\n      <td>00030710</td>\n      <td>2007</td>\n      <td>1</td>\n      <td>0</td>\n      <td>1</td>\n      <td>0</td>\n      <td>1</td>\n      <td>0</td>\n      <td>1</td>\n      <td>0</td>\n      <td>1</td>\n      <td>0</td>\n    </tr>\n    <tr>\n      <th>...</th>\n      <td>...</td>\n      <td>...</td>\n      <td>...</td>\n      <td>...</td>\n      <td>...</td>\n      <td>...</td>\n      <td>...</td>\n      <td>...</td>\n      <td>...</td>\n      <td>...</td>\n      <td>...</td>\n      <td>...</td>\n      <td>...</td>\n    </tr>\n    <tr>\n      <th>865771</th>\n      <td>2024-08-31</td>\n      <td>NaN</td>\n      <td>2023</td>\n      <td>1</td>\n      <td>0</td>\n      <td>1</td>\n      <td>0</td>\n      <td>1</td>\n      <td>0</td>\n      <td>1</td>\n      <td>0</td>\n      <td>1</td>\n      <td>0</td>\n    </tr>\n    <tr>\n      <th>865772</th>\n      <td>2024-09-30</td>\n      <td>NaN</td>\n      <td>2023</td>\n      <td>1</td>\n      <td>0</td>\n      <td>1</td>\n      <td>0</td>\n      <td>1</td>\n      <td>0</td>\n      <td>1</td>\n      <td>0</td>\n      <td>1</td>\n      <td>0</td>\n    </tr>\n    <tr>\n      <th>865773</th>\n      <td>2024-10-31</td>\n      <td>NaN</td>\n      <td>2023</td>\n      <td>1</td>\n      <td>0</td>\n      <td>1</td>\n      <td>0</td>\n      <td>1</td>\n      <td>0</td>\n      <td>1</td>\n      <td>0</td>\n      <td>1</td>\n      <td>0</td>\n    </tr>\n    <tr>\n      <th>865774</th>\n      <td>2024-11-30</td>\n      <td>NaN</td>\n      <td>2023</td>\n      <td>1</td>\n      <td>0</td>\n      <td>1</td>\n      <td>0</td>\n      <td>1</td>\n      <td>0</td>\n      <td>1</td>\n      <td>0</td>\n      <td>1</td>\n      <td>0</td>\n    </tr>\n    <tr>\n      <th>865775</th>\n      <td>2024-12-31</td>\n      <td>NaN</td>\n      <td>2023</td>\n      <td>1</td>\n      <td>0</td>\n      <td>1</td>\n      <td>0</td>\n      <td>1</td>\n      <td>0</td>\n      <td>1</td>\n      <td>0</td>\n      <td>1</td>\n      <td>0</td>\n    </tr>\n  </tbody>\n</table>\n<p>865776 rows × 13 columns</p>\n</div>"
     },
     "execution_count": 296,
     "metadata": {},
     "output_type": "execute_result"
    }
   ],
   "source": [
    "holds_all"
   ],
   "metadata": {
    "collapsed": false,
    "ExecuteTime": {
     "end_time": "2025-10-02T15:29:56.977686800Z",
     "start_time": "2025-10-02T15:29:56.963281500Z"
    }
   }
  },
  {
   "cell_type": "code",
   "execution_count": 297,
   "outputs": [
    {
     "data": {
      "text/plain": "             date     cusip  hold_from_year  noInc_material  inc_material  \\\n83     2014-12-31  00030710            2013               1             0   \n86     2015-03-31  00030710            2014               1             0   \n87     2015-04-30  00030710            2014               1             0   \n89     2015-06-30  00030710            2014               1             0   \n90     2015-07-31  00030710            2014               1             0   \n...           ...       ...             ...             ...           ...   \n851948 2011-09-30  98992210            2010               1             0   \n851949 2011-10-31  98992210            2010               1             0   \n851950 2011-11-30  98992210            2010               1             0   \n851952 2012-01-31  98992210            2011               1             0   \n851953 2012-02-29  98992210            2011               1             0   \n\n        noInc_car_1  inc_car_1  noInc_car_5  inc_car_5  noInc_reach  \\\n83                1          0            1          0            1   \n86                1          0            1          0            1   \n87                1          0            1          0            1   \n89                1          0            1          0            1   \n90                1          0            1          0            1   \n...             ...        ...          ...        ...          ...   \n851948            1          0            1          0            1   \n851949            1          0            1          0            1   \n851950            1          0            1          0            1   \n851952            1          0            1          0            1   \n851953            1          0            1          0            1   \n\n        inc_reach  noInc_severity  inc_severity  permno   ret_adj  \\\n83              0               1             0   14945  0.071379   \n86              0               1             0   14945  -0.15032   \n87              0               1             0   14945  0.133421   \n89              0               1             0   14945  0.120947   \n90              0               1             0   14945 -0.127411   \n...           ...             ...           ...     ...       ...   \n851948          0               1             0   77787 -0.155327   \n851949          0               1             0   77787  0.001855   \n851950          0               1             0   77787  0.217403   \n851952          0               1             0   77787  0.085945   \n851953          0               1             0   77787  0.066171   \n\n                  me        me_lag  \n83       651824520.0   608397660.0  \n86       666246460.0   758705190.0  \n87       754929460.0   666246460.0  \n89       951350400.0   848702400.0  \n90       830138400.0   951350400.0  \n...              ...           ...  \n851948   835827780.0   989215200.0  \n851949   837378070.0   835827780.0  \n851950  1019426410.0   837378070.0  \n851952  1523485050.0  1393371720.0  \n851953  1624295750.0  1523485050.0  \n\n[266074 rows x 17 columns]",
      "text/html": "<div>\n<style scoped>\n    .dataframe tbody tr th:only-of-type {\n        vertical-align: middle;\n    }\n\n    .dataframe tbody tr th {\n        vertical-align: top;\n    }\n\n    .dataframe thead th {\n        text-align: right;\n    }\n</style>\n<table border=\"1\" class=\"dataframe\">\n  <thead>\n    <tr style=\"text-align: right;\">\n      <th></th>\n      <th>date</th>\n      <th>cusip</th>\n      <th>hold_from_year</th>\n      <th>noInc_material</th>\n      <th>inc_material</th>\n      <th>noInc_car_1</th>\n      <th>inc_car_1</th>\n      <th>noInc_car_5</th>\n      <th>inc_car_5</th>\n      <th>noInc_reach</th>\n      <th>inc_reach</th>\n      <th>noInc_severity</th>\n      <th>inc_severity</th>\n      <th>permno</th>\n      <th>ret_adj</th>\n      <th>me</th>\n      <th>me_lag</th>\n    </tr>\n  </thead>\n  <tbody>\n    <tr>\n      <th>83</th>\n      <td>2014-12-31</td>\n      <td>00030710</td>\n      <td>2013</td>\n      <td>1</td>\n      <td>0</td>\n      <td>1</td>\n      <td>0</td>\n      <td>1</td>\n      <td>0</td>\n      <td>1</td>\n      <td>0</td>\n      <td>1</td>\n      <td>0</td>\n      <td>14945</td>\n      <td>0.071379</td>\n      <td>651824520.0</td>\n      <td>608397660.0</td>\n    </tr>\n    <tr>\n      <th>86</th>\n      <td>2015-03-31</td>\n      <td>00030710</td>\n      <td>2014</td>\n      <td>1</td>\n      <td>0</td>\n      <td>1</td>\n      <td>0</td>\n      <td>1</td>\n      <td>0</td>\n      <td>1</td>\n      <td>0</td>\n      <td>1</td>\n      <td>0</td>\n      <td>14945</td>\n      <td>-0.15032</td>\n      <td>666246460.0</td>\n      <td>758705190.0</td>\n    </tr>\n    <tr>\n      <th>87</th>\n      <td>2015-04-30</td>\n      <td>00030710</td>\n      <td>2014</td>\n      <td>1</td>\n      <td>0</td>\n      <td>1</td>\n      <td>0</td>\n      <td>1</td>\n      <td>0</td>\n      <td>1</td>\n      <td>0</td>\n      <td>1</td>\n      <td>0</td>\n      <td>14945</td>\n      <td>0.133421</td>\n      <td>754929460.0</td>\n      <td>666246460.0</td>\n    </tr>\n    <tr>\n      <th>89</th>\n      <td>2015-06-30</td>\n      <td>00030710</td>\n      <td>2014</td>\n      <td>1</td>\n      <td>0</td>\n      <td>1</td>\n      <td>0</td>\n      <td>1</td>\n      <td>0</td>\n      <td>1</td>\n      <td>0</td>\n      <td>1</td>\n      <td>0</td>\n      <td>14945</td>\n      <td>0.120947</td>\n      <td>951350400.0</td>\n      <td>848702400.0</td>\n    </tr>\n    <tr>\n      <th>90</th>\n      <td>2015-07-31</td>\n      <td>00030710</td>\n      <td>2014</td>\n      <td>1</td>\n      <td>0</td>\n      <td>1</td>\n      <td>0</td>\n      <td>1</td>\n      <td>0</td>\n      <td>1</td>\n      <td>0</td>\n      <td>1</td>\n      <td>0</td>\n      <td>14945</td>\n      <td>-0.127411</td>\n      <td>830138400.0</td>\n      <td>951350400.0</td>\n    </tr>\n    <tr>\n      <th>...</th>\n      <td>...</td>\n      <td>...</td>\n      <td>...</td>\n      <td>...</td>\n      <td>...</td>\n      <td>...</td>\n      <td>...</td>\n      <td>...</td>\n      <td>...</td>\n      <td>...</td>\n      <td>...</td>\n      <td>...</td>\n      <td>...</td>\n      <td>...</td>\n      <td>...</td>\n      <td>...</td>\n      <td>...</td>\n    </tr>\n    <tr>\n      <th>851948</th>\n      <td>2011-09-30</td>\n      <td>98992210</td>\n      <td>2010</td>\n      <td>1</td>\n      <td>0</td>\n      <td>1</td>\n      <td>0</td>\n      <td>1</td>\n      <td>0</td>\n      <td>1</td>\n      <td>0</td>\n      <td>1</td>\n      <td>0</td>\n      <td>77787</td>\n      <td>-0.155327</td>\n      <td>835827780.0</td>\n      <td>989215200.0</td>\n    </tr>\n    <tr>\n      <th>851949</th>\n      <td>2011-10-31</td>\n      <td>98992210</td>\n      <td>2010</td>\n      <td>1</td>\n      <td>0</td>\n      <td>1</td>\n      <td>0</td>\n      <td>1</td>\n      <td>0</td>\n      <td>1</td>\n      <td>0</td>\n      <td>1</td>\n      <td>0</td>\n      <td>77787</td>\n      <td>0.001855</td>\n      <td>837378070.0</td>\n      <td>835827780.0</td>\n    </tr>\n    <tr>\n      <th>851950</th>\n      <td>2011-11-30</td>\n      <td>98992210</td>\n      <td>2010</td>\n      <td>1</td>\n      <td>0</td>\n      <td>1</td>\n      <td>0</td>\n      <td>1</td>\n      <td>0</td>\n      <td>1</td>\n      <td>0</td>\n      <td>1</td>\n      <td>0</td>\n      <td>77787</td>\n      <td>0.217403</td>\n      <td>1019426410.0</td>\n      <td>837378070.0</td>\n    </tr>\n    <tr>\n      <th>851952</th>\n      <td>2012-01-31</td>\n      <td>98992210</td>\n      <td>2011</td>\n      <td>1</td>\n      <td>0</td>\n      <td>1</td>\n      <td>0</td>\n      <td>1</td>\n      <td>0</td>\n      <td>1</td>\n      <td>0</td>\n      <td>1</td>\n      <td>0</td>\n      <td>77787</td>\n      <td>0.085945</td>\n      <td>1523485050.0</td>\n      <td>1393371720.0</td>\n    </tr>\n    <tr>\n      <th>851953</th>\n      <td>2012-02-29</td>\n      <td>98992210</td>\n      <td>2011</td>\n      <td>1</td>\n      <td>0</td>\n      <td>1</td>\n      <td>0</td>\n      <td>1</td>\n      <td>0</td>\n      <td>1</td>\n      <td>0</td>\n      <td>1</td>\n      <td>0</td>\n      <td>77787</td>\n      <td>0.066171</td>\n      <td>1624295750.0</td>\n      <td>1523485050.0</td>\n    </tr>\n  </tbody>\n</table>\n<p>266074 rows × 17 columns</p>\n</div>"
     },
     "execution_count": 297,
     "metadata": {},
     "output_type": "execute_result"
    }
   ],
   "source": [
    "# ----------------------------\n",
    "# 4) Join holdings to CRSP returns by cusip8 + date\n",
    "# ----------------------------\n",
    "panel = holds_all.merge(crsp_1class[['cusip','date','permno','ret_adj','me','me_lag']],\n",
    "                    on=['cusip','date'], how='left')\n",
    "\n",
    "# If some holdings are missing returns (e.g., no CRSP coverage that month), drop them\n",
    "panel = panel.dropna(subset=['ret_adj'])\n",
    "panel"
   ],
   "metadata": {
    "collapsed": false,
    "ExecuteTime": {
     "end_time": "2025-10-02T15:30:07.979052300Z",
     "start_time": "2025-10-02T15:30:07.345630800Z"
    }
   }
  },
  {
   "cell_type": "code",
   "execution_count": 298,
   "outputs": [
    {
     "data": {
      "text/plain": "             date     cusip  hold_from_year  noInc_material  inc_material  \\\n0      2014-12-31  00030710            2013               1             0   \n1      2015-03-31  00030710            2014               1             0   \n2      2015-04-30  00030710            2014               1             0   \n3      2015-06-30  00030710            2014               1             0   \n4      2015-07-31  00030710            2014               1             0   \n...           ...       ...             ...             ...           ...   \n266069 2011-09-30  98992210            2010               1             0   \n266070 2011-10-31  98992210            2010               1             0   \n266071 2011-11-30  98992210            2010               1             0   \n266072 2012-01-31  98992210            2011               1             0   \n266073 2012-02-29  98992210            2011               1             0   \n\n        noInc_car_1  inc_car_1  noInc_car_5  inc_car_5  noInc_reach  ...  \\\n0                 1          0            1          0            1  ...   \n1                 1          0            1          0            1  ...   \n2                 1          0            1          0            1  ...   \n3                 1          0            1          0            1  ...   \n4                 1          0            1          0            1  ...   \n...             ...        ...          ...        ...          ...  ...   \n266069            1          0            1          0            1  ...   \n266070            1          0            1          0            1  ...   \n266071            1          0            1          0            1  ...   \n266072            1          0            1          0            1  ...   \n266073            1          0            1          0            1  ...   \n\n        year  Codified SICS Sector        SICS Codified Industry       size  \\\n0       2013            Health Care          Health Care Delivery -5.381699   \n1       2014            Health Care          Health Care Delivery  1.568616   \n2       2014            Health Care          Health Care Delivery  1.568616   \n3       2014            Health Care          Health Care Delivery  1.568616   \n4       2014            Health Care          Health Care Delivery  1.568616   \n...      ...                    ...                           ...       ...   \n266069  2010            Health Care  Medical Equipment & Supplies  6.116453   \n266070  2010            Health Care  Medical Equipment & Supplies  6.116453   \n266071  2010            Health Care  Medical Equipment & Supplies  6.116453   \n266072  2011            Health Care  Medical Equipment & Supplies  6.542377   \n266073  2011            Health Care  Medical Equipment & Supplies  6.542377   \n\n               btm  leverage  ad_intensity  rd_intensity       roa  \\\n0       408.913043  0.696052          <NA>           0.0  0.011624   \n1         1.704792  0.709388          <NA>           0.0   0.06633   \n2         1.704792  0.709388          <NA>           0.0   0.06633   \n3         1.704792  0.709388          <NA>           0.0   0.06633   \n4         1.704792  0.709388          <NA>           0.0   0.06633   \n...            ...       ...           ...           ...       ...   \n266069    0.618986  0.245502      0.005779      0.102481  0.047143   \n266070    0.618986  0.245502      0.005779      0.102481  0.047143   \n266071    0.618986  0.245502      0.005779      0.102481  0.047143   \n266072    0.451884  0.272052      0.005117      0.103451  0.069125   \n266073    0.451884  0.272052      0.005117      0.103451  0.069125   \n\n       InstOwn_Perc  \n0          0.264618  \n1          0.481705  \n2          0.481705  \n3          0.481705  \n4          0.481705  \n...             ...  \n266069     0.977690  \n266070     0.977690  \n266071     0.977690  \n266072     0.903878  \n266073     0.903878  \n\n[266074 rows x 27 columns]",
      "text/html": "<div>\n<style scoped>\n    .dataframe tbody tr th:only-of-type {\n        vertical-align: middle;\n    }\n\n    .dataframe tbody tr th {\n        vertical-align: top;\n    }\n\n    .dataframe thead th {\n        text-align: right;\n    }\n</style>\n<table border=\"1\" class=\"dataframe\">\n  <thead>\n    <tr style=\"text-align: right;\">\n      <th></th>\n      <th>date</th>\n      <th>cusip</th>\n      <th>hold_from_year</th>\n      <th>noInc_material</th>\n      <th>inc_material</th>\n      <th>noInc_car_1</th>\n      <th>inc_car_1</th>\n      <th>noInc_car_5</th>\n      <th>inc_car_5</th>\n      <th>noInc_reach</th>\n      <th>...</th>\n      <th>year</th>\n      <th>Codified SICS Sector</th>\n      <th>SICS Codified Industry</th>\n      <th>size</th>\n      <th>btm</th>\n      <th>leverage</th>\n      <th>ad_intensity</th>\n      <th>rd_intensity</th>\n      <th>roa</th>\n      <th>InstOwn_Perc</th>\n    </tr>\n  </thead>\n  <tbody>\n    <tr>\n      <th>0</th>\n      <td>2014-12-31</td>\n      <td>00030710</td>\n      <td>2013</td>\n      <td>1</td>\n      <td>0</td>\n      <td>1</td>\n      <td>0</td>\n      <td>1</td>\n      <td>0</td>\n      <td>1</td>\n      <td>...</td>\n      <td>2013</td>\n      <td>Health Care</td>\n      <td>Health Care Delivery</td>\n      <td>-5.381699</td>\n      <td>408.913043</td>\n      <td>0.696052</td>\n      <td>&lt;NA&gt;</td>\n      <td>0.0</td>\n      <td>0.011624</td>\n      <td>0.264618</td>\n    </tr>\n    <tr>\n      <th>1</th>\n      <td>2015-03-31</td>\n      <td>00030710</td>\n      <td>2014</td>\n      <td>1</td>\n      <td>0</td>\n      <td>1</td>\n      <td>0</td>\n      <td>1</td>\n      <td>0</td>\n      <td>1</td>\n      <td>...</td>\n      <td>2014</td>\n      <td>Health Care</td>\n      <td>Health Care Delivery</td>\n      <td>1.568616</td>\n      <td>1.704792</td>\n      <td>0.709388</td>\n      <td>&lt;NA&gt;</td>\n      <td>0.0</td>\n      <td>0.06633</td>\n      <td>0.481705</td>\n    </tr>\n    <tr>\n      <th>2</th>\n      <td>2015-04-30</td>\n      <td>00030710</td>\n      <td>2014</td>\n      <td>1</td>\n      <td>0</td>\n      <td>1</td>\n      <td>0</td>\n      <td>1</td>\n      <td>0</td>\n      <td>1</td>\n      <td>...</td>\n      <td>2014</td>\n      <td>Health Care</td>\n      <td>Health Care Delivery</td>\n      <td>1.568616</td>\n      <td>1.704792</td>\n      <td>0.709388</td>\n      <td>&lt;NA&gt;</td>\n      <td>0.0</td>\n      <td>0.06633</td>\n      <td>0.481705</td>\n    </tr>\n    <tr>\n      <th>3</th>\n      <td>2015-06-30</td>\n      <td>00030710</td>\n      <td>2014</td>\n      <td>1</td>\n      <td>0</td>\n      <td>1</td>\n      <td>0</td>\n      <td>1</td>\n      <td>0</td>\n      <td>1</td>\n      <td>...</td>\n      <td>2014</td>\n      <td>Health Care</td>\n      <td>Health Care Delivery</td>\n      <td>1.568616</td>\n      <td>1.704792</td>\n      <td>0.709388</td>\n      <td>&lt;NA&gt;</td>\n      <td>0.0</td>\n      <td>0.06633</td>\n      <td>0.481705</td>\n    </tr>\n    <tr>\n      <th>4</th>\n      <td>2015-07-31</td>\n      <td>00030710</td>\n      <td>2014</td>\n      <td>1</td>\n      <td>0</td>\n      <td>1</td>\n      <td>0</td>\n      <td>1</td>\n      <td>0</td>\n      <td>1</td>\n      <td>...</td>\n      <td>2014</td>\n      <td>Health Care</td>\n      <td>Health Care Delivery</td>\n      <td>1.568616</td>\n      <td>1.704792</td>\n      <td>0.709388</td>\n      <td>&lt;NA&gt;</td>\n      <td>0.0</td>\n      <td>0.06633</td>\n      <td>0.481705</td>\n    </tr>\n    <tr>\n      <th>...</th>\n      <td>...</td>\n      <td>...</td>\n      <td>...</td>\n      <td>...</td>\n      <td>...</td>\n      <td>...</td>\n      <td>...</td>\n      <td>...</td>\n      <td>...</td>\n      <td>...</td>\n      <td>...</td>\n      <td>...</td>\n      <td>...</td>\n      <td>...</td>\n      <td>...</td>\n      <td>...</td>\n      <td>...</td>\n      <td>...</td>\n      <td>...</td>\n      <td>...</td>\n      <td>...</td>\n    </tr>\n    <tr>\n      <th>266069</th>\n      <td>2011-09-30</td>\n      <td>98992210</td>\n      <td>2010</td>\n      <td>1</td>\n      <td>0</td>\n      <td>1</td>\n      <td>0</td>\n      <td>1</td>\n      <td>0</td>\n      <td>1</td>\n      <td>...</td>\n      <td>2010</td>\n      <td>Health Care</td>\n      <td>Medical Equipment &amp; Supplies</td>\n      <td>6.116453</td>\n      <td>0.618986</td>\n      <td>0.245502</td>\n      <td>0.005779</td>\n      <td>0.102481</td>\n      <td>0.047143</td>\n      <td>0.977690</td>\n    </tr>\n    <tr>\n      <th>266070</th>\n      <td>2011-10-31</td>\n      <td>98992210</td>\n      <td>2010</td>\n      <td>1</td>\n      <td>0</td>\n      <td>1</td>\n      <td>0</td>\n      <td>1</td>\n      <td>0</td>\n      <td>1</td>\n      <td>...</td>\n      <td>2010</td>\n      <td>Health Care</td>\n      <td>Medical Equipment &amp; Supplies</td>\n      <td>6.116453</td>\n      <td>0.618986</td>\n      <td>0.245502</td>\n      <td>0.005779</td>\n      <td>0.102481</td>\n      <td>0.047143</td>\n      <td>0.977690</td>\n    </tr>\n    <tr>\n      <th>266071</th>\n      <td>2011-11-30</td>\n      <td>98992210</td>\n      <td>2010</td>\n      <td>1</td>\n      <td>0</td>\n      <td>1</td>\n      <td>0</td>\n      <td>1</td>\n      <td>0</td>\n      <td>1</td>\n      <td>...</td>\n      <td>2010</td>\n      <td>Health Care</td>\n      <td>Medical Equipment &amp; Supplies</td>\n      <td>6.116453</td>\n      <td>0.618986</td>\n      <td>0.245502</td>\n      <td>0.005779</td>\n      <td>0.102481</td>\n      <td>0.047143</td>\n      <td>0.977690</td>\n    </tr>\n    <tr>\n      <th>266072</th>\n      <td>2012-01-31</td>\n      <td>98992210</td>\n      <td>2011</td>\n      <td>1</td>\n      <td>0</td>\n      <td>1</td>\n      <td>0</td>\n      <td>1</td>\n      <td>0</td>\n      <td>1</td>\n      <td>...</td>\n      <td>2011</td>\n      <td>Health Care</td>\n      <td>Medical Equipment &amp; Supplies</td>\n      <td>6.542377</td>\n      <td>0.451884</td>\n      <td>0.272052</td>\n      <td>0.005117</td>\n      <td>0.103451</td>\n      <td>0.069125</td>\n      <td>0.903878</td>\n    </tr>\n    <tr>\n      <th>266073</th>\n      <td>2012-02-29</td>\n      <td>98992210</td>\n      <td>2011</td>\n      <td>1</td>\n      <td>0</td>\n      <td>1</td>\n      <td>0</td>\n      <td>1</td>\n      <td>0</td>\n      <td>1</td>\n      <td>...</td>\n      <td>2011</td>\n      <td>Health Care</td>\n      <td>Medical Equipment &amp; Supplies</td>\n      <td>6.542377</td>\n      <td>0.451884</td>\n      <td>0.272052</td>\n      <td>0.005117</td>\n      <td>0.103451</td>\n      <td>0.069125</td>\n      <td>0.903878</td>\n    </tr>\n  </tbody>\n</table>\n<p>266074 rows × 27 columns</p>\n</div>"
     },
     "execution_count": 298,
     "metadata": {},
     "output_type": "execute_result"
    }
   ],
   "source": [
    "# create panel with firsm financials, portfolio flags, returns, lagged ME\n",
    "panel_firms = panel.merge(df_ports_q[['cusip','year','Codified SICS Sector ', 'SICS Codified Industry ', 'size', 'btm', 'leverage', 'ad_intensity', 'rd_intensity', 'roa', 'InstOwn_Perc']],\n",
    "                          left_on=['cusip','hold_from_year'], right_on=['cusip','year'], how='left')\n",
    "panel_firms"
   ],
   "metadata": {
    "collapsed": false,
    "ExecuteTime": {
     "end_time": "2025-10-02T15:30:40.966650900Z",
     "start_time": "2025-10-02T15:30:40.704755100Z"
    }
   }
  },
  {
   "cell_type": "code",
   "execution_count": 299,
   "outputs": [],
   "source": [
    "panel_firms.to_csv('Output/panel_firms_binary.csv', index=False)"
   ],
   "metadata": {
    "collapsed": false,
    "ExecuteTime": {
     "end_time": "2025-10-02T15:31:10.716156700Z",
     "start_time": "2025-10-02T15:31:03.872026Z"
    }
   }
  },
  {
   "cell_type": "code",
   "execution_count": 301,
   "outputs": [
    {
     "data": {
      "text/plain": "            inc_car_1_EW  inc_car_1_VW  inc_car_5_EW  inc_car_5_VW  \\\ndate                                                                 \n2008-01-31     -0.043552     -0.059848     -0.037122     -0.050044   \n2008-02-29     -0.017988     -0.028959     -0.016238      -0.03099   \n2008-03-31     -0.013511      0.005017      -0.01288      0.004214   \n2008-04-30      0.064591      0.042797      0.061127      0.039771   \n2008-06-30     -0.079437     -0.062494     -0.080191     -0.064553   \n...                  ...           ...           ...           ...   \n2024-05-31      0.038093      0.073672      0.048165      0.068224   \n2024-07-31      0.041408     -0.002599      0.052251      0.002575   \n2024-09-30      0.030945      0.026545      0.032015      0.021478   \n2024-10-31       -0.0053     -0.008663      0.002779      -0.01155   \n2024-12-31     -0.043344      -0.00313     -0.054673       0.00407   \n\n            inc_material_EW  inc_material_VW  inc_reach_EW  inc_reach_VW  \\\ndate                                                                       \n2008-01-31        -0.052275        -0.066274     -0.046602     -0.062281   \n2008-02-29        -0.013421        -0.026427     -0.024984      -0.03348   \n2008-03-31        -0.004687         0.006752     -0.009747      0.012905   \n2008-04-30         0.059162         0.043015      0.069173      0.040434   \n2008-06-30        -0.077088        -0.074078     -0.070016     -0.069754   \n...                     ...              ...           ...           ...   \n2024-05-31         0.044393          0.05248      0.027095      0.047713   \n2024-07-31         0.067843         0.008925      0.041667      0.007048   \n2024-09-30          0.01889         0.023167      0.027947      0.034433   \n2024-10-31        -0.004198        -0.006146      0.013754     -0.015005   \n2024-12-31        -0.057652        -0.026295     -0.050042      0.000084   \n\n            inc_severity_EW  inc_severity_VW  ...  LS_EW_car_1  LS_VW_car_1  \\\ndate                                          ...                             \n2008-01-31        -0.023825        -0.065291  ...    -0.008517    -0.008046   \n2008-02-29        -0.030951        -0.023468  ...    -0.009425     0.003093   \n2008-03-31        -0.022878         0.003264  ...      0.00268    -0.010228   \n2008-04-30         0.041424         0.053966  ...    -0.026485     0.004769   \n2008-06-30        -0.064777        -0.049494  ...    -0.019852    -0.026206   \n...                     ...              ...  ...          ...          ...   \n2024-05-31         0.026821         0.048931  ...     0.019596    -0.047401   \n2024-07-31         0.044218         0.001449  ...     0.040366      0.03539   \n2024-09-30         0.020034         0.025705  ...    -0.014236    -0.006164   \n2024-10-31        -0.019954        -0.025731  ...    -0.002461     0.000049   \n2024-12-31        -0.061552        -0.008075  ...    -0.016261    -0.047541   \n\n            LS_EW_car_5  LS_VW_car_5  LS_EW_material  LS_VW_material  \\\ndate                                                                   \n2008-01-31    -0.015301    -0.022452        0.000592        0.001747   \n2008-02-29    -0.011315      0.00613        -0.01501        -0.00081   \n2008-03-31     0.002036     -0.00919       -0.006885       -0.017683   \n2008-04-30    -0.023016     0.009299       -0.022053        0.006211   \n2008-06-30    -0.019183    -0.023521       -0.023603       -0.013261   \n...                 ...          ...             ...             ...   \n2024-05-31     0.008636    -0.039366         0.01927       -0.018808   \n2024-07-31     0.028673     0.026702        0.017408        0.033498   \n2024-09-30    -0.015517     0.003997       -0.001608         0.00123   \n2024-10-31    -0.011372     0.006037       -0.005586       -0.013083   \n2024-12-31    -0.003889    -0.064732       -0.000917       -0.006811   \n\n            LS_EW_reach  LS_VW_reach  LS_EW_severity  LS_VW_severity  \ndate                                                                  \n2008-01-31    -0.005321     -0.00434       -0.028757       -0.000146  \n2008-02-29    -0.002136     0.009246        0.004024       -0.004252  \n2008-03-31    -0.001231     -0.02071        0.012305       -0.006719  \n2008-04-30    -0.031101     0.007845       -0.002329       -0.009986  \n2008-06-30    -0.029527    -0.015092       -0.034765       -0.039463  \n...                 ...          ...             ...             ...  \n2024-05-31     0.031028     0.001989         0.03099       -0.000127  \n2024-07-31      0.03932     0.014377        0.036192        0.020885  \n2024-09-30    -0.010754    -0.019371       -0.002238       -0.003463  \n2024-10-31    -0.022866     0.011268         0.01317        0.025708  \n2024-12-31    -0.008764    -0.049159        0.003557       -0.028939  \n\n[143 rows x 30 columns]",
      "text/html": "<div>\n<style scoped>\n    .dataframe tbody tr th:only-of-type {\n        vertical-align: middle;\n    }\n\n    .dataframe tbody tr th {\n        vertical-align: top;\n    }\n\n    .dataframe thead th {\n        text-align: right;\n    }\n</style>\n<table border=\"1\" class=\"dataframe\">\n  <thead>\n    <tr style=\"text-align: right;\">\n      <th></th>\n      <th>inc_car_1_EW</th>\n      <th>inc_car_1_VW</th>\n      <th>inc_car_5_EW</th>\n      <th>inc_car_5_VW</th>\n      <th>inc_material_EW</th>\n      <th>inc_material_VW</th>\n      <th>inc_reach_EW</th>\n      <th>inc_reach_VW</th>\n      <th>inc_severity_EW</th>\n      <th>inc_severity_VW</th>\n      <th>...</th>\n      <th>LS_EW_car_1</th>\n      <th>LS_VW_car_1</th>\n      <th>LS_EW_car_5</th>\n      <th>LS_VW_car_5</th>\n      <th>LS_EW_material</th>\n      <th>LS_VW_material</th>\n      <th>LS_EW_reach</th>\n      <th>LS_VW_reach</th>\n      <th>LS_EW_severity</th>\n      <th>LS_VW_severity</th>\n    </tr>\n    <tr>\n      <th>date</th>\n      <th></th>\n      <th></th>\n      <th></th>\n      <th></th>\n      <th></th>\n      <th></th>\n      <th></th>\n      <th></th>\n      <th></th>\n      <th></th>\n      <th></th>\n      <th></th>\n      <th></th>\n      <th></th>\n      <th></th>\n      <th></th>\n      <th></th>\n      <th></th>\n      <th></th>\n      <th></th>\n      <th></th>\n    </tr>\n  </thead>\n  <tbody>\n    <tr>\n      <th>2008-01-31</th>\n      <td>-0.043552</td>\n      <td>-0.059848</td>\n      <td>-0.037122</td>\n      <td>-0.050044</td>\n      <td>-0.052275</td>\n      <td>-0.066274</td>\n      <td>-0.046602</td>\n      <td>-0.062281</td>\n      <td>-0.023825</td>\n      <td>-0.065291</td>\n      <td>...</td>\n      <td>-0.008517</td>\n      <td>-0.008046</td>\n      <td>-0.015301</td>\n      <td>-0.022452</td>\n      <td>0.000592</td>\n      <td>0.001747</td>\n      <td>-0.005321</td>\n      <td>-0.00434</td>\n      <td>-0.028757</td>\n      <td>-0.000146</td>\n    </tr>\n    <tr>\n      <th>2008-02-29</th>\n      <td>-0.017988</td>\n      <td>-0.028959</td>\n      <td>-0.016238</td>\n      <td>-0.03099</td>\n      <td>-0.013421</td>\n      <td>-0.026427</td>\n      <td>-0.024984</td>\n      <td>-0.03348</td>\n      <td>-0.030951</td>\n      <td>-0.023468</td>\n      <td>...</td>\n      <td>-0.009425</td>\n      <td>0.003093</td>\n      <td>-0.011315</td>\n      <td>0.00613</td>\n      <td>-0.01501</td>\n      <td>-0.00081</td>\n      <td>-0.002136</td>\n      <td>0.009246</td>\n      <td>0.004024</td>\n      <td>-0.004252</td>\n    </tr>\n    <tr>\n      <th>2008-03-31</th>\n      <td>-0.013511</td>\n      <td>0.005017</td>\n      <td>-0.01288</td>\n      <td>0.004214</td>\n      <td>-0.004687</td>\n      <td>0.006752</td>\n      <td>-0.009747</td>\n      <td>0.012905</td>\n      <td>-0.022878</td>\n      <td>0.003264</td>\n      <td>...</td>\n      <td>0.00268</td>\n      <td>-0.010228</td>\n      <td>0.002036</td>\n      <td>-0.00919</td>\n      <td>-0.006885</td>\n      <td>-0.017683</td>\n      <td>-0.001231</td>\n      <td>-0.02071</td>\n      <td>0.012305</td>\n      <td>-0.006719</td>\n    </tr>\n    <tr>\n      <th>2008-04-30</th>\n      <td>0.064591</td>\n      <td>0.042797</td>\n      <td>0.061127</td>\n      <td>0.039771</td>\n      <td>0.059162</td>\n      <td>0.043015</td>\n      <td>0.069173</td>\n      <td>0.040434</td>\n      <td>0.041424</td>\n      <td>0.053966</td>\n      <td>...</td>\n      <td>-0.026485</td>\n      <td>0.004769</td>\n      <td>-0.023016</td>\n      <td>0.009299</td>\n      <td>-0.022053</td>\n      <td>0.006211</td>\n      <td>-0.031101</td>\n      <td>0.007845</td>\n      <td>-0.002329</td>\n      <td>-0.009986</td>\n    </tr>\n    <tr>\n      <th>2008-06-30</th>\n      <td>-0.079437</td>\n      <td>-0.062494</td>\n      <td>-0.080191</td>\n      <td>-0.064553</td>\n      <td>-0.077088</td>\n      <td>-0.074078</td>\n      <td>-0.070016</td>\n      <td>-0.069754</td>\n      <td>-0.064777</td>\n      <td>-0.049494</td>\n      <td>...</td>\n      <td>-0.019852</td>\n      <td>-0.026206</td>\n      <td>-0.019183</td>\n      <td>-0.023521</td>\n      <td>-0.023603</td>\n      <td>-0.013261</td>\n      <td>-0.029527</td>\n      <td>-0.015092</td>\n      <td>-0.034765</td>\n      <td>-0.039463</td>\n    </tr>\n    <tr>\n      <th>...</th>\n      <td>...</td>\n      <td>...</td>\n      <td>...</td>\n      <td>...</td>\n      <td>...</td>\n      <td>...</td>\n      <td>...</td>\n      <td>...</td>\n      <td>...</td>\n      <td>...</td>\n      <td>...</td>\n      <td>...</td>\n      <td>...</td>\n      <td>...</td>\n      <td>...</td>\n      <td>...</td>\n      <td>...</td>\n      <td>...</td>\n      <td>...</td>\n      <td>...</td>\n      <td>...</td>\n    </tr>\n    <tr>\n      <th>2024-05-31</th>\n      <td>0.038093</td>\n      <td>0.073672</td>\n      <td>0.048165</td>\n      <td>0.068224</td>\n      <td>0.044393</td>\n      <td>0.05248</td>\n      <td>0.027095</td>\n      <td>0.047713</td>\n      <td>0.026821</td>\n      <td>0.048931</td>\n      <td>...</td>\n      <td>0.019596</td>\n      <td>-0.047401</td>\n      <td>0.008636</td>\n      <td>-0.039366</td>\n      <td>0.01927</td>\n      <td>-0.018808</td>\n      <td>0.031028</td>\n      <td>0.001989</td>\n      <td>0.03099</td>\n      <td>-0.000127</td>\n    </tr>\n    <tr>\n      <th>2024-07-31</th>\n      <td>0.041408</td>\n      <td>-0.002599</td>\n      <td>0.052251</td>\n      <td>0.002575</td>\n      <td>0.067843</td>\n      <td>0.008925</td>\n      <td>0.041667</td>\n      <td>0.007048</td>\n      <td>0.044218</td>\n      <td>0.001449</td>\n      <td>...</td>\n      <td>0.040366</td>\n      <td>0.03539</td>\n      <td>0.028673</td>\n      <td>0.026702</td>\n      <td>0.017408</td>\n      <td>0.033498</td>\n      <td>0.03932</td>\n      <td>0.014377</td>\n      <td>0.036192</td>\n      <td>0.020885</td>\n    </tr>\n    <tr>\n      <th>2024-09-30</th>\n      <td>0.030945</td>\n      <td>0.026545</td>\n      <td>0.032015</td>\n      <td>0.021478</td>\n      <td>0.01889</td>\n      <td>0.023167</td>\n      <td>0.027947</td>\n      <td>0.034433</td>\n      <td>0.020034</td>\n      <td>0.025705</td>\n      <td>...</td>\n      <td>-0.014236</td>\n      <td>-0.006164</td>\n      <td>-0.015517</td>\n      <td>0.003997</td>\n      <td>-0.001608</td>\n      <td>0.00123</td>\n      <td>-0.010754</td>\n      <td>-0.019371</td>\n      <td>-0.002238</td>\n      <td>-0.003463</td>\n    </tr>\n    <tr>\n      <th>2024-10-31</th>\n      <td>-0.0053</td>\n      <td>-0.008663</td>\n      <td>0.002779</td>\n      <td>-0.01155</td>\n      <td>-0.004198</td>\n      <td>-0.006146</td>\n      <td>0.013754</td>\n      <td>-0.015005</td>\n      <td>-0.019954</td>\n      <td>-0.025731</td>\n      <td>...</td>\n      <td>-0.002461</td>\n      <td>0.000049</td>\n      <td>-0.011372</td>\n      <td>0.006037</td>\n      <td>-0.005586</td>\n      <td>-0.013083</td>\n      <td>-0.022866</td>\n      <td>0.011268</td>\n      <td>0.01317</td>\n      <td>0.025708</td>\n    </tr>\n    <tr>\n      <th>2024-12-31</th>\n      <td>-0.043344</td>\n      <td>-0.00313</td>\n      <td>-0.054673</td>\n      <td>0.00407</td>\n      <td>-0.057652</td>\n      <td>-0.026295</td>\n      <td>-0.050042</td>\n      <td>0.000084</td>\n      <td>-0.061552</td>\n      <td>-0.008075</td>\n      <td>...</td>\n      <td>-0.016261</td>\n      <td>-0.047541</td>\n      <td>-0.003889</td>\n      <td>-0.064732</td>\n      <td>-0.000917</td>\n      <td>-0.006811</td>\n      <td>-0.008764</td>\n      <td>-0.049159</td>\n      <td>0.003557</td>\n      <td>-0.028939</td>\n    </tr>\n  </tbody>\n</table>\n<p>143 rows × 30 columns</p>\n</div>"
     },
     "execution_count": 301,
     "metadata": {},
     "output_type": "execute_result"
    }
   ],
   "source": [
    "def compute_all_quintile_portfolio_returns(panel):\n",
    "    panel = panel.copy()\n",
    "    panel['date'] = pd.to_datetime(panel['date'])\n",
    "\n",
    "    # 1) detect all top/bottom quintile flags\n",
    "    top_flags = [c for c in panel.columns if c.startswith('noInc_')]\n",
    "    bot_flags = [c for c in panel.columns if c.startswith('inc_')]\n",
    "\n",
    "    if not top_flags or not bot_flags:\n",
    "        raise ValueError(\"No topQ_/botQ_ columns found in panel.\")\n",
    "\n",
    "    # 2) helper: return series for one flag (EW or VW)\n",
    "    def _flag_returns(df, flag_col, weight='EW'):\n",
    "        p = df.loc[df[flag_col] == 1].copy()\n",
    "        if p.empty:\n",
    "            return pd.Series(dtype=float, name=f\"{flag_col}_{weight}\")\n",
    "        if weight == 'EW':\n",
    "            return (p.groupby('date')['ret_adj']\n",
    "                     .mean()\n",
    "                     .rename(f\"{flag_col}_{weight}\"))\n",
    "        # VW: lagged ME as start-of-month weight\n",
    "        p = p.dropna(subset=['me_lag']).copy()\n",
    "        if p.empty:\n",
    "            return pd.Series(dtype=float, name=f\"{flag_col}_{weight}\")\n",
    "        wsum = p.groupby('date')['me_lag'].sum().rename('W')\n",
    "        p = p.merge(wsum, on='date', how='left')\n",
    "        p['w'] = np.where(p['W'] > 0, p['me_lag'] / p['W'], np.nan)\n",
    "        return (p['w'] * p['ret_adj']).groupby(p['date']).sum().rename(f\"{flag_col}_{weight}\")\n",
    "\n",
    "    # 3) compute EW/VW for every individual flag\n",
    "    parts = []\n",
    "    for flag in sorted(set(top_flags + bot_flags)):\n",
    "        parts.append(_flag_returns(panel, flag, 'EW'))\n",
    "        parts.append(_flag_returns(panel, flag, 'VW'))\n",
    "\n",
    "    ts_flags = pd.concat(parts, axis=1).sort_index()\n",
    "\n",
    "    # 4) build long–short per “base signal”: topQ_xxx − botQ_xxx (both EW and VW)\n",
    "    #    infer base names by stripping the prefixes\n",
    "    def _basename(col):  # 'topQ_resid_n_material' -> 'resid_n_material'\n",
    "        return col.split('noInc_', 1)[1] if col.startswith('noInc_') else col.split('inc_', 1)[1]\n",
    "\n",
    "    top_map = {_basename(c): c for c in top_flags}\n",
    "    bot_map = {_basename(c): c for c in bot_flags}\n",
    "    common_bases = sorted(set(top_map).intersection(bot_map))\n",
    "\n",
    "    for base in common_bases:\n",
    "        tflag, bflag = top_map[base], bot_map[base]\n",
    "        # EW spread\n",
    "        t_ew = f\"{tflag}_EW\"\n",
    "        b_ew = f\"{bflag}_EW\"\n",
    "        if t_ew in ts_flags.columns and b_ew in ts_flags.columns:\n",
    "            ts_flags[f\"LS_EW_{base}\"] = ts_flags[t_ew] - ts_flags[b_ew]\n",
    "        # VW spread\n",
    "        t_vw = f\"{tflag}_VW\"\n",
    "        b_vw = f\"{bflag}_VW\"\n",
    "        if t_vw in ts_flags.columns and b_vw in ts_flags.columns:\n",
    "            ts_flags[f\"LS_VW_{base}\"] = ts_flags[t_vw] - ts_flags[b_vw]\n",
    "\n",
    "    return ts_flags\n",
    "\n",
    "# ---- run it ----\n",
    "ts_all = compute_all_quintile_portfolio_returns(panel)\n",
    "ts_all"
   ],
   "metadata": {
    "collapsed": false,
    "ExecuteTime": {
     "end_time": "2025-10-02T15:32:26.199415500Z",
     "start_time": "2025-10-02T15:32:24.964682700Z"
    }
   }
  },
  {
   "cell_type": "code",
   "execution_count": 302,
   "outputs": [],
   "source": [
    "def add_excess_returns_for_all(ts_all, ff, rf_col='RF', subtract_rf_ls=False):\n",
    "    \"\"\"\n",
    "    Merge RF and create _ex (excess) versions of all portfolio series.\n",
    "    - Subtract RF from all *legs* (top/bot, EW/VW).\n",
    "    - For LS spreads, subtraction is optional (subtract_rf_ls flag).\n",
    "    Returns a new DataFrame with added *_ex columns.\n",
    "    \"\"\"\n",
    "    ts = ts_all.merge(ff[['date', rf_col]], on='date', how='left').copy()\n",
    "\n",
    "    # Identify columns\n",
    "    leg_cols = [c for c in ts.columns\n",
    "                if (c.endswith('_EW') or c.endswith('_VW'))\n",
    "                and not c.startswith('LS_')]  # top/bot legs only\n",
    "\n",
    "    ls_cols = [c for c in ts.columns\n",
    "               if c.startswith('LS_EW_') or c.startswith('LS_VW_') or c.startswith('LS_')]\n",
    "\n",
    "    # Excess for legs (always subtract RF)\n",
    "    for col in leg_cols:\n",
    "        ts[f\"{col}_ex\"] = ts[col] - ts[rf_col]\n",
    "\n",
    "    # Excess for LS (optional)\n",
    "    if subtract_rf_ls:\n",
    "        for col in ls_cols:\n",
    "            ts[f\"{col}_ex\"] = ts[col] - ts[rf_col]\n",
    "\n",
    "    return ts\n",
    "\n",
    "# ---- example usage ----\n",
    "# ts_all: from compute_all_quintile_portfolio_returns(panel)\n",
    "# ff: your factor DataFrame with 'date' and 'RF' (in decimals)\n",
    "# Option A (common): don't subtract RF from LS\n",
    "ts_with_ex = add_excess_returns_for_all(ts_all, ff, rf_col='RF', subtract_rf_ls=False)"
   ],
   "metadata": {
    "collapsed": false,
    "ExecuteTime": {
     "end_time": "2025-10-02T15:32:54.518292200Z",
     "start_time": "2025-10-02T15:32:54.404703300Z"
    }
   }
  },
  {
   "cell_type": "code",
   "execution_count": 303,
   "outputs": [],
   "source": [
    "ts_with_ex.to_csv('Output/portfolio_returns_binary.csv', index=False)"
   ],
   "metadata": {
    "collapsed": false,
    "ExecuteTime": {
     "end_time": "2025-10-02T15:33:08.223397700Z",
     "start_time": "2025-10-02T15:33:08.180229Z"
    }
   }
  },
  {
   "cell_type": "code",
   "execution_count": 249,
   "outputs": [],
   "source": [
    "# Choose factor set available in your ff file:\n",
    "factor_cols = [c for c in ['MKT_RF','SMB','HML','RMW','CMA','MOM'] if c in ts_with_ex.columns]\n",
    "\n",
    "def span_reg(ycol, df, factors=factor_cols, nw_lags=6):\n",
    "    d = df.dropna(subset=[ycol] + factors).copy()\n",
    "    y = d[ycol].astype(float)\n",
    "    X = sm.add_constant(d[factors].astype(float))\n",
    "    fit = sm.OLS(y, X).fit(cov_type='HAC', cov_kwds={'maxlags': nw_lags})\n",
    "    alpha = fit.params['const']\n",
    "    t_alpha = fit.tvalues['const']\n",
    "    return fit, alpha, t_alpha"
   ],
   "metadata": {
    "collapsed": false,
    "ExecuteTime": {
     "end_time": "2025-10-01T21:03:25.752327200Z",
     "start_time": "2025-10-01T21:03:25.733123400Z"
    }
   }
  },
  {
   "cell_type": "code",
   "execution_count": 250,
   "outputs": [
    {
     "name": "stdout",
     "output_type": "stream",
     "text": [
      "Long–Short (EW): alpha = -0.4482%, t = -2.04\n",
      "Long–Short (VW): alpha = -0.1671%, t = -1.00\n"
     ]
    }
   ],
   "source": [
    "# Example: alpha for long–short (EW and VW)\n",
    "fit_EW, alpha_EW, t_EW = span_reg('LS_EW_ex', ts)\n",
    "fit_VW, alpha_VW, t_VW = span_reg('LS_VW_ex', ts)\n",
    "\n",
    "print(\"Long–Short (EW): alpha = {:.4%}, t = {:.2f}\".format(alpha_EW, t_EW))\n",
    "print(\"Long–Short (VW): alpha = {:.4%}, t = {:.2f}\".format(alpha_VW, t_VW))"
   ],
   "metadata": {
    "collapsed": false,
    "ExecuteTime": {
     "end_time": "2025-10-01T21:04:12.423094800Z",
     "start_time": "2025-10-01T21:04:12.376113400Z"
    }
   }
  },
  {
   "cell_type": "code",
   "execution_count": 251,
   "outputs": [
    {
     "name": "stdout",
     "output_type": "stream",
     "text": [
      "Long-only (EW):  alpha = 0.3574%, t = 2.14\n",
      "Short-only (EW): alpha = 0.7308%, t = 3.69\n"
     ]
    }
   ],
   "source": [
    "# You can also get alphas for the long and short legs separately:\n",
    "fit_long_EW, a_l_ew, t_l_ew = span_reg(f'{LONG_FLAG}_EW_ex', ts)\n",
    "fit_short_EW, a_s_ew, t_s_ew = span_reg(f'{SHORT_FLAG}_EW_ex', ts)\n",
    "print(\"Long-only (EW):  alpha = {:.4%}, t = {:.2f}\".format(a_l_ew, t_l_ew))\n",
    "print(\"Short-only (EW): alpha = {:.4%}, t = {:.2f}\".format(a_s_ew, t_s_ew))\n"
   ],
   "metadata": {
    "collapsed": false,
    "ExecuteTime": {
     "end_time": "2025-10-01T21:04:34.844366300Z",
     "start_time": "2025-10-01T21:04:34.771124400Z"
    }
   }
  },
  {
   "cell_type": "code",
   "execution_count": null,
   "outputs": [],
   "source": [],
   "metadata": {
    "collapsed": false
   }
  }
 ],
 "metadata": {
  "kernelspec": {
   "display_name": "Python 3",
   "language": "python",
   "name": "python3"
  },
  "language_info": {
   "codemirror_mode": {
    "name": "ipython",
    "version": 2
   },
   "file_extension": ".py",
   "mimetype": "text/x-python",
   "name": "python",
   "nbconvert_exporter": "python",
   "pygments_lexer": "ipython2",
   "version": "2.7.6"
  }
 },
 "nbformat": 4,
 "nbformat_minor": 0
}
