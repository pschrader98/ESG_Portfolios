{
 "cells": [
  {
   "cell_type": "code",
   "execution_count": 307,
   "outputs": [],
   "source": [
    "import pandas as pd\n",
    "import numpy as np\n",
    "import re"
   ],
   "metadata": {
    "collapsed": false,
    "ExecuteTime": {
     "end_time": "2025-10-21T16:59:48.323888400Z",
     "start_time": "2025-10-21T16:59:48.185202600Z"
    }
   }
  },
  {
   "cell_type": "code",
   "execution_count": 388,
   "outputs": [
    {
     "data": {
      "text/plain": "           gvkey          isin cusip  reprisk_id  story_id  adopter     sic  \\\n0       213199.0  TW0002353000   NaN          10       826      1.0  3571.0   \n1       213199.0  TW0002353000   NaN          10      1793      1.0  3571.0   \n2       213199.0  TW0002353000   NaN          10      2335      1.0  3571.0   \n3       213199.0  TW0002353000   NaN          10      2365      1.0  3571.0   \n4       213199.0  TW0002353000   NaN          10      2513      1.0  3571.0   \n...          ...           ...   ...         ...       ...      ...     ...   \n295249  295326.0  CNE100000TP3   NaN       99984   8294414      1.0  3678.0   \n295250  295326.0  CNE100000TP3   NaN       99984   8339482      1.0  3678.0   \n295251  295326.0  CNE100000TP3   NaN       99984   8362588      1.0  3678.0   \n295252  295326.0  CNE100000TP3   NaN       99984   8376615      1.0  3678.0   \n295253  295557.0  CNE100000VY1   NaN       99985    921467      1.0  3663.0   \n\n                  SICS Codified Industry         Codified SICS Sector   \\\n0                                Hardware  Technology & Communications   \n1                                Hardware  Technology & Communications   \n2                                Hardware  Technology & Communications   \n3                                Hardware  Technology & Communications   \n4                                Hardware  Technology & Communications   \n...                                   ...                          ...   \n295249  Electrical & Electronic Equipment      Resource Transformation   \n295250  Electrical & Electronic Equipment      Resource Transformation   \n295251  Electrical & Electronic Equipment      Resource Transformation   \n295252  Electrical & Electronic Equipment      Resource Transformation   \n295253                           Hardware  Technology & Communications   \n\n        severity  ...  incident_date  cusip_cusip_tic  year YearQuarter  \\\n0              2  ...     2007-02-28              NaN  2007      2007Q1   \n1              1  ...     2007-09-09              NaN  2007      2007Q3   \n2              1  ...     2007-11-26              NaN  2007      2007Q4   \n3              2  ...     2007-08-21              NaN  2007      2007Q3   \n4              1  ...     2007-11-30              NaN  2007      2007Q4   \n...          ...  ...            ...              ...   ...         ...   \n295249         1  ...     2022-08-30              NaN  2022      2022Q3   \n295250         1  ...     2023-01-01              NaN  2023      2023Q1   \n295251         1  ...     2022-10-28              NaN  2022      2022Q4   \n295252         2  ...     2023-04-20              NaN  2023      2023Q2   \n295253         1  ...     2019-08-19              NaN  2019      2019Q3   \n\n       materiality_reach  materiality_severity materiality_car_1  \\\n0                      0                     0                 0   \n1                      0                     0                 0   \n2                      1                     0                 0   \n3                      0                     1                 0   \n4                      0                     0                 0   \n...                  ...                   ...               ...   \n295249                 0                     0                 0   \n295250                 0                     0                 1   \n295251                 0                     0                 0   \n295252                 1                     0                 0   \n295253                 0                     0                 0   \n\n        materiality_car_5  materiality_rri  material_flag  \n0                       0                0              1  \n1                       0                0              1  \n2                       0                0              0  \n3                       0                0              1  \n4                       0                0              1  \n...                   ...              ...            ...  \n295249                  0                1              1  \n295250                  1                0              0  \n295251                  0                0              0  \n295252                  0                0              1  \n295253                  0                0              1  \n\n[295254 rows x 23 columns]",
      "text/html": "<div>\n<style scoped>\n    .dataframe tbody tr th:only-of-type {\n        vertical-align: middle;\n    }\n\n    .dataframe tbody tr th {\n        vertical-align: top;\n    }\n\n    .dataframe thead th {\n        text-align: right;\n    }\n</style>\n<table border=\"1\" class=\"dataframe\">\n  <thead>\n    <tr style=\"text-align: right;\">\n      <th></th>\n      <th>gvkey</th>\n      <th>isin</th>\n      <th>cusip</th>\n      <th>reprisk_id</th>\n      <th>story_id</th>\n      <th>adopter</th>\n      <th>sic</th>\n      <th>SICS Codified Industry</th>\n      <th>Codified SICS Sector</th>\n      <th>severity</th>\n      <th>...</th>\n      <th>incident_date</th>\n      <th>cusip_cusip_tic</th>\n      <th>year</th>\n      <th>YearQuarter</th>\n      <th>materiality_reach</th>\n      <th>materiality_severity</th>\n      <th>materiality_car_1</th>\n      <th>materiality_car_5</th>\n      <th>materiality_rri</th>\n      <th>material_flag</th>\n    </tr>\n  </thead>\n  <tbody>\n    <tr>\n      <th>0</th>\n      <td>213199.0</td>\n      <td>TW0002353000</td>\n      <td>NaN</td>\n      <td>10</td>\n      <td>826</td>\n      <td>1.0</td>\n      <td>3571.0</td>\n      <td>Hardware</td>\n      <td>Technology &amp; Communications</td>\n      <td>2</td>\n      <td>...</td>\n      <td>2007-02-28</td>\n      <td>NaN</td>\n      <td>2007</td>\n      <td>2007Q1</td>\n      <td>0</td>\n      <td>0</td>\n      <td>0</td>\n      <td>0</td>\n      <td>0</td>\n      <td>1</td>\n    </tr>\n    <tr>\n      <th>1</th>\n      <td>213199.0</td>\n      <td>TW0002353000</td>\n      <td>NaN</td>\n      <td>10</td>\n      <td>1793</td>\n      <td>1.0</td>\n      <td>3571.0</td>\n      <td>Hardware</td>\n      <td>Technology &amp; Communications</td>\n      <td>1</td>\n      <td>...</td>\n      <td>2007-09-09</td>\n      <td>NaN</td>\n      <td>2007</td>\n      <td>2007Q3</td>\n      <td>0</td>\n      <td>0</td>\n      <td>0</td>\n      <td>0</td>\n      <td>0</td>\n      <td>1</td>\n    </tr>\n    <tr>\n      <th>2</th>\n      <td>213199.0</td>\n      <td>TW0002353000</td>\n      <td>NaN</td>\n      <td>10</td>\n      <td>2335</td>\n      <td>1.0</td>\n      <td>3571.0</td>\n      <td>Hardware</td>\n      <td>Technology &amp; Communications</td>\n      <td>1</td>\n      <td>...</td>\n      <td>2007-11-26</td>\n      <td>NaN</td>\n      <td>2007</td>\n      <td>2007Q4</td>\n      <td>1</td>\n      <td>0</td>\n      <td>0</td>\n      <td>0</td>\n      <td>0</td>\n      <td>0</td>\n    </tr>\n    <tr>\n      <th>3</th>\n      <td>213199.0</td>\n      <td>TW0002353000</td>\n      <td>NaN</td>\n      <td>10</td>\n      <td>2365</td>\n      <td>1.0</td>\n      <td>3571.0</td>\n      <td>Hardware</td>\n      <td>Technology &amp; Communications</td>\n      <td>2</td>\n      <td>...</td>\n      <td>2007-08-21</td>\n      <td>NaN</td>\n      <td>2007</td>\n      <td>2007Q3</td>\n      <td>0</td>\n      <td>1</td>\n      <td>0</td>\n      <td>0</td>\n      <td>0</td>\n      <td>1</td>\n    </tr>\n    <tr>\n      <th>4</th>\n      <td>213199.0</td>\n      <td>TW0002353000</td>\n      <td>NaN</td>\n      <td>10</td>\n      <td>2513</td>\n      <td>1.0</td>\n      <td>3571.0</td>\n      <td>Hardware</td>\n      <td>Technology &amp; Communications</td>\n      <td>1</td>\n      <td>...</td>\n      <td>2007-11-30</td>\n      <td>NaN</td>\n      <td>2007</td>\n      <td>2007Q4</td>\n      <td>0</td>\n      <td>0</td>\n      <td>0</td>\n      <td>0</td>\n      <td>0</td>\n      <td>1</td>\n    </tr>\n    <tr>\n      <th>...</th>\n      <td>...</td>\n      <td>...</td>\n      <td>...</td>\n      <td>...</td>\n      <td>...</td>\n      <td>...</td>\n      <td>...</td>\n      <td>...</td>\n      <td>...</td>\n      <td>...</td>\n      <td>...</td>\n      <td>...</td>\n      <td>...</td>\n      <td>...</td>\n      <td>...</td>\n      <td>...</td>\n      <td>...</td>\n      <td>...</td>\n      <td>...</td>\n      <td>...</td>\n      <td>...</td>\n    </tr>\n    <tr>\n      <th>295249</th>\n      <td>295326.0</td>\n      <td>CNE100000TP3</td>\n      <td>NaN</td>\n      <td>99984</td>\n      <td>8294414</td>\n      <td>1.0</td>\n      <td>3678.0</td>\n      <td>Electrical &amp; Electronic Equipment</td>\n      <td>Resource Transformation</td>\n      <td>1</td>\n      <td>...</td>\n      <td>2022-08-30</td>\n      <td>NaN</td>\n      <td>2022</td>\n      <td>2022Q3</td>\n      <td>0</td>\n      <td>0</td>\n      <td>0</td>\n      <td>0</td>\n      <td>1</td>\n      <td>1</td>\n    </tr>\n    <tr>\n      <th>295250</th>\n      <td>295326.0</td>\n      <td>CNE100000TP3</td>\n      <td>NaN</td>\n      <td>99984</td>\n      <td>8339482</td>\n      <td>1.0</td>\n      <td>3678.0</td>\n      <td>Electrical &amp; Electronic Equipment</td>\n      <td>Resource Transformation</td>\n      <td>1</td>\n      <td>...</td>\n      <td>2023-01-01</td>\n      <td>NaN</td>\n      <td>2023</td>\n      <td>2023Q1</td>\n      <td>0</td>\n      <td>0</td>\n      <td>1</td>\n      <td>1</td>\n      <td>0</td>\n      <td>0</td>\n    </tr>\n    <tr>\n      <th>295251</th>\n      <td>295326.0</td>\n      <td>CNE100000TP3</td>\n      <td>NaN</td>\n      <td>99984</td>\n      <td>8362588</td>\n      <td>1.0</td>\n      <td>3678.0</td>\n      <td>Electrical &amp; Electronic Equipment</td>\n      <td>Resource Transformation</td>\n      <td>1</td>\n      <td>...</td>\n      <td>2022-10-28</td>\n      <td>NaN</td>\n      <td>2022</td>\n      <td>2022Q4</td>\n      <td>0</td>\n      <td>0</td>\n      <td>0</td>\n      <td>0</td>\n      <td>0</td>\n      <td>0</td>\n    </tr>\n    <tr>\n      <th>295252</th>\n      <td>295326.0</td>\n      <td>CNE100000TP3</td>\n      <td>NaN</td>\n      <td>99984</td>\n      <td>8376615</td>\n      <td>1.0</td>\n      <td>3678.0</td>\n      <td>Electrical &amp; Electronic Equipment</td>\n      <td>Resource Transformation</td>\n      <td>2</td>\n      <td>...</td>\n      <td>2023-04-20</td>\n      <td>NaN</td>\n      <td>2023</td>\n      <td>2023Q2</td>\n      <td>1</td>\n      <td>0</td>\n      <td>0</td>\n      <td>0</td>\n      <td>0</td>\n      <td>1</td>\n    </tr>\n    <tr>\n      <th>295253</th>\n      <td>295557.0</td>\n      <td>CNE100000VY1</td>\n      <td>NaN</td>\n      <td>99985</td>\n      <td>921467</td>\n      <td>1.0</td>\n      <td>3663.0</td>\n      <td>Hardware</td>\n      <td>Technology &amp; Communications</td>\n      <td>1</td>\n      <td>...</td>\n      <td>2019-08-19</td>\n      <td>NaN</td>\n      <td>2019</td>\n      <td>2019Q3</td>\n      <td>0</td>\n      <td>0</td>\n      <td>0</td>\n      <td>0</td>\n      <td>0</td>\n      <td>1</td>\n    </tr>\n  </tbody>\n</table>\n<p>295254 rows × 23 columns</p>\n</div>"
     },
     "execution_count": 388,
     "metadata": {},
     "output_type": "execute_result"
    }
   ],
   "source": [
    "reprisk_incidents = pd.read_csv('data/new_materiality_with_rri.csv') # Calculation in \"CreateDataset\" of \"ESGmateriality\" project\n",
    "reprisk_incidents = reprisk_incidents[['gvkey', 'isin', 'cusip', 'reprisk_id', 'story_id', 'adopter', 'sic', 'SICS Codified Industry ', 'Codified SICS Sector ', 'severity', 'reach', 'novelty', 'incident_list', 'incident_date', 'cusip_cusip_tic', 'year', 'YearQuarter', 'materiality_reach', 'materiality_severity', 'materiality_car_1', 'materiality_car_5', 'materiality_rri', 'material_flag']]\n",
    "reprisk_incidents"
   ],
   "metadata": {
    "collapsed": false,
    "ExecuteTime": {
     "end_time": "2025-10-03T12:59:15.825124600Z",
     "start_time": "2025-10-03T12:59:09.657574Z"
    }
   }
  },
  {
   "cell_type": "code",
   "execution_count": 21,
   "outputs": [
    {
     "data": {
      "text/plain": "            gvkey YearQuarter  n_material  n_nonmaterial  n_car_1_material  \\\n0          1004.0      2007Q1           0              0                 0   \n1          1004.0      2007Q2           0              0                 0   \n2          1004.0      2007Q3           0              0                 0   \n3          1004.0      2007Q4           0              0                 0   \n4          1004.0      2008Q1           0              0                 0   \n...           ...         ...         ...            ...               ...   \n1091463  367430.0      2022Q4           0              0                 0   \n1091464  367430.0      2023Q1           0              0                 0   \n1091465  367430.0      2023Q2           0              0                 0   \n1091466  367430.0      2023Q3           0              0                 0   \n1091467  367430.0      2023Q4           0              0                 0   \n\n         n_car_5_material  n_rri_material  n_reach_material  \\\n0                       0               0                 0   \n1                       0               0                 0   \n2                       0               0                 0   \n3                       0               0                 0   \n4                       0               0                 0   \n...                   ...             ...               ...   \n1091463                 0               0                 0   \n1091464                 0               0                 0   \n1091465                 0               0                 0   \n1091466                 0               0                 0   \n1091467                 0               0                 0   \n\n         n_severity_material  \n0                          0  \n1                          0  \n2                          0  \n3                          0  \n4                          0  \n...                      ...  \n1091463                    0  \n1091464                    0  \n1091465                    0  \n1091466                    0  \n1091467                    0  \n\n[1091468 rows x 9 columns]",
      "text/html": "<div>\n<style scoped>\n    .dataframe tbody tr th:only-of-type {\n        vertical-align: middle;\n    }\n\n    .dataframe tbody tr th {\n        vertical-align: top;\n    }\n\n    .dataframe thead th {\n        text-align: right;\n    }\n</style>\n<table border=\"1\" class=\"dataframe\">\n  <thead>\n    <tr style=\"text-align: right;\">\n      <th></th>\n      <th>gvkey</th>\n      <th>YearQuarter</th>\n      <th>n_material</th>\n      <th>n_nonmaterial</th>\n      <th>n_car_1_material</th>\n      <th>n_car_5_material</th>\n      <th>n_rri_material</th>\n      <th>n_reach_material</th>\n      <th>n_severity_material</th>\n    </tr>\n  </thead>\n  <tbody>\n    <tr>\n      <th>0</th>\n      <td>1004.0</td>\n      <td>2007Q1</td>\n      <td>0</td>\n      <td>0</td>\n      <td>0</td>\n      <td>0</td>\n      <td>0</td>\n      <td>0</td>\n      <td>0</td>\n    </tr>\n    <tr>\n      <th>1</th>\n      <td>1004.0</td>\n      <td>2007Q2</td>\n      <td>0</td>\n      <td>0</td>\n      <td>0</td>\n      <td>0</td>\n      <td>0</td>\n      <td>0</td>\n      <td>0</td>\n    </tr>\n    <tr>\n      <th>2</th>\n      <td>1004.0</td>\n      <td>2007Q3</td>\n      <td>0</td>\n      <td>0</td>\n      <td>0</td>\n      <td>0</td>\n      <td>0</td>\n      <td>0</td>\n      <td>0</td>\n    </tr>\n    <tr>\n      <th>3</th>\n      <td>1004.0</td>\n      <td>2007Q4</td>\n      <td>0</td>\n      <td>0</td>\n      <td>0</td>\n      <td>0</td>\n      <td>0</td>\n      <td>0</td>\n      <td>0</td>\n    </tr>\n    <tr>\n      <th>4</th>\n      <td>1004.0</td>\n      <td>2008Q1</td>\n      <td>0</td>\n      <td>0</td>\n      <td>0</td>\n      <td>0</td>\n      <td>0</td>\n      <td>0</td>\n      <td>0</td>\n    </tr>\n    <tr>\n      <th>...</th>\n      <td>...</td>\n      <td>...</td>\n      <td>...</td>\n      <td>...</td>\n      <td>...</td>\n      <td>...</td>\n      <td>...</td>\n      <td>...</td>\n      <td>...</td>\n    </tr>\n    <tr>\n      <th>1091463</th>\n      <td>367430.0</td>\n      <td>2022Q4</td>\n      <td>0</td>\n      <td>0</td>\n      <td>0</td>\n      <td>0</td>\n      <td>0</td>\n      <td>0</td>\n      <td>0</td>\n    </tr>\n    <tr>\n      <th>1091464</th>\n      <td>367430.0</td>\n      <td>2023Q1</td>\n      <td>0</td>\n      <td>0</td>\n      <td>0</td>\n      <td>0</td>\n      <td>0</td>\n      <td>0</td>\n      <td>0</td>\n    </tr>\n    <tr>\n      <th>1091465</th>\n      <td>367430.0</td>\n      <td>2023Q2</td>\n      <td>0</td>\n      <td>0</td>\n      <td>0</td>\n      <td>0</td>\n      <td>0</td>\n      <td>0</td>\n      <td>0</td>\n    </tr>\n    <tr>\n      <th>1091466</th>\n      <td>367430.0</td>\n      <td>2023Q3</td>\n      <td>0</td>\n      <td>0</td>\n      <td>0</td>\n      <td>0</td>\n      <td>0</td>\n      <td>0</td>\n      <td>0</td>\n    </tr>\n    <tr>\n      <th>1091467</th>\n      <td>367430.0</td>\n      <td>2023Q4</td>\n      <td>0</td>\n      <td>0</td>\n      <td>0</td>\n      <td>0</td>\n      <td>0</td>\n      <td>0</td>\n      <td>0</td>\n    </tr>\n  </tbody>\n</table>\n<p>1091468 rows × 9 columns</p>\n</div>"
     },
     "execution_count": 21,
     "metadata": {},
     "output_type": "execute_result"
    }
   ],
   "source": [
    "df = reprisk_incidents.copy()\n",
    "\n",
    "# Ensure proper quarterly Periods\n",
    "df['YearQuarter'] = pd.PeriodIndex(df['YearQuarter'].astype(str), freq='Q')\n",
    "\n",
    "# Coerce flags to numeric and treat missing as 0\n",
    "flag_cols = [\n",
    "    'material_flag',\n",
    "    'materiality_car_1', 'materiality_car_5',\n",
    "    'materiality_rri', 'materiality_reach', 'materiality_severity'\n",
    "]\n",
    "df[flag_cols] = df[flag_cols].apply(pd.to_numeric, errors='coerce').fillna(0)\n",
    "\n",
    "key = [\"gvkey\", \"YearQuarter\"]\n",
    "\n",
    "# 1) Aggregate incidents per firm-quarter\n",
    "agg_fq = (\n",
    "    df.groupby(key, dropna=False)\n",
    "      .agg(\n",
    "          n_material          = ('material_flag',         lambda s: (s == 1).sum()),\n",
    "          n_nonmaterial       = ('material_flag',         lambda s: (s == 0).sum()),\n",
    "          n_car_1_material    = ('materiality_car_1',     lambda s: (s == 1).sum()),\n",
    "          n_car_5_material    = ('materiality_car_5',     lambda s: (s == 1).sum()),\n",
    "          n_rri_material      = ('materiality_rri',       lambda s: (s == 1).sum()),\n",
    "          n_reach_material    = ('materiality_reach',     lambda s: (s == 1).sum()),\n",
    "          n_severity_material = ('materiality_severity',  lambda s: (s == 1).sum()),\n",
    "      )\n",
    "      .reset_index()\n",
    ")\n",
    "\n",
    "# 2) Build the BALANCED universe = all firms × all quarters (global min..max)\n",
    "firms = (\n",
    "    df['gvkey']\n",
    "    .dropna()\n",
    "    .unique()\n",
    ")\n",
    "qmin = df['YearQuarter'].min()\n",
    "qmax = df['YearQuarter'].max()\n",
    "quarters = pd.period_range(qmin, qmax, freq='Q')\n",
    "\n",
    "balanced_idx = pd.MultiIndex.from_product([firms, quarters], names=key)\n",
    "balanced_universe = pd.DataFrame(index=balanced_idx).reset_index()\n",
    "\n",
    "# 3) Merge counts onto balanced universe and fill missing with zeros\n",
    "reprisk = (\n",
    "    balanced_universe\n",
    "      .merge(agg_fq, on=key, how='left')\n",
    "      .fillna(0)\n",
    "      .sort_values(key)\n",
    "      .reset_index(drop=True)\n",
    ")\n",
    "\n",
    "# 4) Cast counts to ints\n",
    "count_cols = [\n",
    "    'n_material','n_nonmaterial','n_car_1_material','n_car_5_material',\n",
    "    'n_rri_material','n_reach_material','n_severity_material'\n",
    "]\n",
    "reprisk[count_cols] = reprisk[count_cols].astype('int16')\n",
    "\n",
    "# (optional) If you prefer strings for YearQuarter:\n",
    "reprisk['YearQuarter'] = reprisk['YearQuarter'].astype(str)\n",
    "\n",
    "reprisk"
   ],
   "metadata": {
    "collapsed": false,
    "ExecuteTime": {
     "end_time": "2025-09-30T21:31:49.508068300Z",
     "start_time": "2025-09-30T21:30:19.103671100Z"
    }
   }
  },
  {
   "cell_type": "code",
   "execution_count": 24,
   "outputs": [
    {
     "data": {
      "text/plain": "            gvkey YearQuarter  n_material  n_nonmaterial  n_car_1_material  \\\n0          1004.0      2007Q1           0              0                 0   \n1          1004.0      2007Q2           0              0                 0   \n2          1004.0      2007Q3           0              0                 0   \n3          1004.0      2007Q4           0              0                 0   \n4          1004.0      2008Q1           0              0                 0   \n...           ...         ...         ...            ...               ...   \n1091463  367430.0      2022Q4           0              0                 0   \n1091464  367430.0      2023Q1           0              0                 0   \n1091465  367430.0      2023Q2           0              0                 0   \n1091466  367430.0      2023Q3           0              0                 0   \n1091467  367430.0      2023Q4           0              0                 0   \n\n         n_car_5_material  n_rri_material  n_reach_material  \\\n0                       0               0                 0   \n1                       0               0                 0   \n2                       0               0                 0   \n3                       0               0                 0   \n4                       0               0                 0   \n...                   ...             ...               ...   \n1091463                 0               0                 0   \n1091464                 0               0                 0   \n1091465                 0               0                 0   \n1091466                 0               0                 0   \n1091467                 0               0                 0   \n\n         n_severity_material     cusip       SICS Codified Industry   \\\n0                          0  00036110  Industrial Machinery & Goods   \n1                          0  00036110  Industrial Machinery & Goods   \n2                          0  00036110  Industrial Machinery & Goods   \n3                          0  00036110  Industrial Machinery & Goods   \n4                          0  00036110  Industrial Machinery & Goods   \n...                      ...       ...                           ...   \n1091463                    0       NaN         Agricultural Products   \n1091464                    0       NaN         Agricultural Products   \n1091465                    0       NaN         Agricultural Products   \n1091466                    0       NaN         Agricultural Products   \n1091467                    0       NaN         Agricultural Products   \n\n           Codified SICS Sector   \n0        Resource Transformation  \n1        Resource Transformation  \n2        Resource Transformation  \n3        Resource Transformation  \n4        Resource Transformation  \n...                          ...  \n1091463          Food & Beverage  \n1091464          Food & Beverage  \n1091465          Food & Beverage  \n1091466          Food & Beverage  \n1091467          Food & Beverage  \n\n[1091468 rows x 12 columns]",
      "text/html": "<div>\n<style scoped>\n    .dataframe tbody tr th:only-of-type {\n        vertical-align: middle;\n    }\n\n    .dataframe tbody tr th {\n        vertical-align: top;\n    }\n\n    .dataframe thead th {\n        text-align: right;\n    }\n</style>\n<table border=\"1\" class=\"dataframe\">\n  <thead>\n    <tr style=\"text-align: right;\">\n      <th></th>\n      <th>gvkey</th>\n      <th>YearQuarter</th>\n      <th>n_material</th>\n      <th>n_nonmaterial</th>\n      <th>n_car_1_material</th>\n      <th>n_car_5_material</th>\n      <th>n_rri_material</th>\n      <th>n_reach_material</th>\n      <th>n_severity_material</th>\n      <th>cusip</th>\n      <th>SICS Codified Industry</th>\n      <th>Codified SICS Sector</th>\n    </tr>\n  </thead>\n  <tbody>\n    <tr>\n      <th>0</th>\n      <td>1004.0</td>\n      <td>2007Q1</td>\n      <td>0</td>\n      <td>0</td>\n      <td>0</td>\n      <td>0</td>\n      <td>0</td>\n      <td>0</td>\n      <td>0</td>\n      <td>00036110</td>\n      <td>Industrial Machinery &amp; Goods</td>\n      <td>Resource Transformation</td>\n    </tr>\n    <tr>\n      <th>1</th>\n      <td>1004.0</td>\n      <td>2007Q2</td>\n      <td>0</td>\n      <td>0</td>\n      <td>0</td>\n      <td>0</td>\n      <td>0</td>\n      <td>0</td>\n      <td>0</td>\n      <td>00036110</td>\n      <td>Industrial Machinery &amp; Goods</td>\n      <td>Resource Transformation</td>\n    </tr>\n    <tr>\n      <th>2</th>\n      <td>1004.0</td>\n      <td>2007Q3</td>\n      <td>0</td>\n      <td>0</td>\n      <td>0</td>\n      <td>0</td>\n      <td>0</td>\n      <td>0</td>\n      <td>0</td>\n      <td>00036110</td>\n      <td>Industrial Machinery &amp; Goods</td>\n      <td>Resource Transformation</td>\n    </tr>\n    <tr>\n      <th>3</th>\n      <td>1004.0</td>\n      <td>2007Q4</td>\n      <td>0</td>\n      <td>0</td>\n      <td>0</td>\n      <td>0</td>\n      <td>0</td>\n      <td>0</td>\n      <td>0</td>\n      <td>00036110</td>\n      <td>Industrial Machinery &amp; Goods</td>\n      <td>Resource Transformation</td>\n    </tr>\n    <tr>\n      <th>4</th>\n      <td>1004.0</td>\n      <td>2008Q1</td>\n      <td>0</td>\n      <td>0</td>\n      <td>0</td>\n      <td>0</td>\n      <td>0</td>\n      <td>0</td>\n      <td>0</td>\n      <td>00036110</td>\n      <td>Industrial Machinery &amp; Goods</td>\n      <td>Resource Transformation</td>\n    </tr>\n    <tr>\n      <th>...</th>\n      <td>...</td>\n      <td>...</td>\n      <td>...</td>\n      <td>...</td>\n      <td>...</td>\n      <td>...</td>\n      <td>...</td>\n      <td>...</td>\n      <td>...</td>\n      <td>...</td>\n      <td>...</td>\n      <td>...</td>\n    </tr>\n    <tr>\n      <th>1091463</th>\n      <td>367430.0</td>\n      <td>2022Q4</td>\n      <td>0</td>\n      <td>0</td>\n      <td>0</td>\n      <td>0</td>\n      <td>0</td>\n      <td>0</td>\n      <td>0</td>\n      <td>NaN</td>\n      <td>Agricultural Products</td>\n      <td>Food &amp; Beverage</td>\n    </tr>\n    <tr>\n      <th>1091464</th>\n      <td>367430.0</td>\n      <td>2023Q1</td>\n      <td>0</td>\n      <td>0</td>\n      <td>0</td>\n      <td>0</td>\n      <td>0</td>\n      <td>0</td>\n      <td>0</td>\n      <td>NaN</td>\n      <td>Agricultural Products</td>\n      <td>Food &amp; Beverage</td>\n    </tr>\n    <tr>\n      <th>1091465</th>\n      <td>367430.0</td>\n      <td>2023Q2</td>\n      <td>0</td>\n      <td>0</td>\n      <td>0</td>\n      <td>0</td>\n      <td>0</td>\n      <td>0</td>\n      <td>0</td>\n      <td>NaN</td>\n      <td>Agricultural Products</td>\n      <td>Food &amp; Beverage</td>\n    </tr>\n    <tr>\n      <th>1091466</th>\n      <td>367430.0</td>\n      <td>2023Q3</td>\n      <td>0</td>\n      <td>0</td>\n      <td>0</td>\n      <td>0</td>\n      <td>0</td>\n      <td>0</td>\n      <td>0</td>\n      <td>NaN</td>\n      <td>Agricultural Products</td>\n      <td>Food &amp; Beverage</td>\n    </tr>\n    <tr>\n      <th>1091467</th>\n      <td>367430.0</td>\n      <td>2023Q4</td>\n      <td>0</td>\n      <td>0</td>\n      <td>0</td>\n      <td>0</td>\n      <td>0</td>\n      <td>0</td>\n      <td>0</td>\n      <td>NaN</td>\n      <td>Agricultural Products</td>\n      <td>Food &amp; Beverage</td>\n    </tr>\n  </tbody>\n</table>\n<p>1091468 rows × 12 columns</p>\n</div>"
     },
     "execution_count": 24,
     "metadata": {},
     "output_type": "execute_result"
    }
   ],
   "source": [
    "reprisk_merged = reprisk.merge(reprisk_incidents[['gvkey', 'cusip', 'SICS Codified Industry ', 'Codified SICS Sector ']].drop_duplicates(), on='gvkey', how='left')\n",
    "reprisk_merged"
   ],
   "metadata": {
    "collapsed": false,
    "ExecuteTime": {
     "end_time": "2025-09-30T21:33:27.213737200Z",
     "start_time": "2025-09-30T21:33:26.941545200Z"
    }
   }
  },
  {
   "cell_type": "code",
   "execution_count": 28,
   "outputs": [
    {
     "data": {
      "text/plain": "           gvkey  year  n_material  n_nonmaterial  n_car_1_material  \\\n0         1004.0  2007           0              0                 0   \n1         1004.0  2008           0              0                 0   \n2         1004.0  2009           0              0                 0   \n3         1004.0  2010           0              1                 0   \n4         1004.0  2011           0              0                 0   \n...          ...   ...         ...            ...               ...   \n272862  367430.0  2019           0              0                 0   \n272863  367430.0  2020           0              0                 0   \n272864  367430.0  2021           0              0                 0   \n272865  367430.0  2022           0              0                 0   \n272866  367430.0  2023           0              0                 0   \n\n        n_car_5_material  n_rri_material  n_reach_material  \\\n0                      0               0                 0   \n1                      0               0                 0   \n2                      0               0                 0   \n3                      0               0                 1   \n4                      0               0                 0   \n...                  ...             ...               ...   \n272862                 0               0                 0   \n272863                 0               0                 0   \n272864                 0               0                 0   \n272865                 0               0                 0   \n272866                 0               0                 0   \n\n        n_severity_material  \n0                         0  \n1                         0  \n2                         0  \n3                         0  \n4                         0  \n...                     ...  \n272862                    0  \n272863                    0  \n272864                    0  \n272865                    0  \n272866                    0  \n\n[272867 rows x 9 columns]",
      "text/html": "<div>\n<style scoped>\n    .dataframe tbody tr th:only-of-type {\n        vertical-align: middle;\n    }\n\n    .dataframe tbody tr th {\n        vertical-align: top;\n    }\n\n    .dataframe thead th {\n        text-align: right;\n    }\n</style>\n<table border=\"1\" class=\"dataframe\">\n  <thead>\n    <tr style=\"text-align: right;\">\n      <th></th>\n      <th>gvkey</th>\n      <th>year</th>\n      <th>n_material</th>\n      <th>n_nonmaterial</th>\n      <th>n_car_1_material</th>\n      <th>n_car_5_material</th>\n      <th>n_rri_material</th>\n      <th>n_reach_material</th>\n      <th>n_severity_material</th>\n    </tr>\n  </thead>\n  <tbody>\n    <tr>\n      <th>0</th>\n      <td>1004.0</td>\n      <td>2007</td>\n      <td>0</td>\n      <td>0</td>\n      <td>0</td>\n      <td>0</td>\n      <td>0</td>\n      <td>0</td>\n      <td>0</td>\n    </tr>\n    <tr>\n      <th>1</th>\n      <td>1004.0</td>\n      <td>2008</td>\n      <td>0</td>\n      <td>0</td>\n      <td>0</td>\n      <td>0</td>\n      <td>0</td>\n      <td>0</td>\n      <td>0</td>\n    </tr>\n    <tr>\n      <th>2</th>\n      <td>1004.0</td>\n      <td>2009</td>\n      <td>0</td>\n      <td>0</td>\n      <td>0</td>\n      <td>0</td>\n      <td>0</td>\n      <td>0</td>\n      <td>0</td>\n    </tr>\n    <tr>\n      <th>3</th>\n      <td>1004.0</td>\n      <td>2010</td>\n      <td>0</td>\n      <td>1</td>\n      <td>0</td>\n      <td>0</td>\n      <td>0</td>\n      <td>1</td>\n      <td>0</td>\n    </tr>\n    <tr>\n      <th>4</th>\n      <td>1004.0</td>\n      <td>2011</td>\n      <td>0</td>\n      <td>0</td>\n      <td>0</td>\n      <td>0</td>\n      <td>0</td>\n      <td>0</td>\n      <td>0</td>\n    </tr>\n    <tr>\n      <th>...</th>\n      <td>...</td>\n      <td>...</td>\n      <td>...</td>\n      <td>...</td>\n      <td>...</td>\n      <td>...</td>\n      <td>...</td>\n      <td>...</td>\n      <td>...</td>\n    </tr>\n    <tr>\n      <th>272862</th>\n      <td>367430.0</td>\n      <td>2019</td>\n      <td>0</td>\n      <td>0</td>\n      <td>0</td>\n      <td>0</td>\n      <td>0</td>\n      <td>0</td>\n      <td>0</td>\n    </tr>\n    <tr>\n      <th>272863</th>\n      <td>367430.0</td>\n      <td>2020</td>\n      <td>0</td>\n      <td>0</td>\n      <td>0</td>\n      <td>0</td>\n      <td>0</td>\n      <td>0</td>\n      <td>0</td>\n    </tr>\n    <tr>\n      <th>272864</th>\n      <td>367430.0</td>\n      <td>2021</td>\n      <td>0</td>\n      <td>0</td>\n      <td>0</td>\n      <td>0</td>\n      <td>0</td>\n      <td>0</td>\n      <td>0</td>\n    </tr>\n    <tr>\n      <th>272865</th>\n      <td>367430.0</td>\n      <td>2022</td>\n      <td>0</td>\n      <td>0</td>\n      <td>0</td>\n      <td>0</td>\n      <td>0</td>\n      <td>0</td>\n      <td>0</td>\n    </tr>\n    <tr>\n      <th>272866</th>\n      <td>367430.0</td>\n      <td>2023</td>\n      <td>0</td>\n      <td>0</td>\n      <td>0</td>\n      <td>0</td>\n      <td>0</td>\n      <td>0</td>\n      <td>0</td>\n    </tr>\n  </tbody>\n</table>\n<p>272867 rows × 9 columns</p>\n</div>"
     },
     "execution_count": 28,
     "metadata": {},
     "output_type": "execute_result"
    }
   ],
   "source": [
    "df = reprisk_incidents.copy()\n",
    "\n",
    "# --- Use existing year column ---\n",
    "# Make sure it's integer-like\n",
    "df['year'] = pd.to_numeric(df['year'], errors='coerce').astype('Int64')\n",
    "\n",
    "key_y = ['gvkey', 'year']\n",
    "\n",
    "# --- Incident counts per firm–year ---\n",
    "counts = (\n",
    "    df.groupby(key_y, dropna=False)\n",
    "      .agg(\n",
    "          n_material          = ('material_flag',        lambda s: (s == 1).sum()),\n",
    "          n_nonmaterial       = ('material_flag',        lambda s: (s == 0).sum()),\n",
    "          n_car_1_material    = ('materiality_car_1',    lambda s: (s == 1).sum()),\n",
    "          n_car_5_material    = ('materiality_car_5',    lambda s: (s == 1).sum()),\n",
    "          n_rri_material      = ('materiality_rri',      lambda s: (s == 1).sum()),\n",
    "          n_reach_material    = ('materiality_reach',    lambda s: (s == 1).sum()),\n",
    "          n_severity_material = ('materiality_severity', lambda s: (s == 1).sum()),\n",
    "      )\n",
    "      .reset_index()\n",
    ")\n",
    "\n",
    "# --- Balanced universe: all firms × all years (global min..max of df['year']) ---\n",
    "firms = df['gvkey'].dropna().unique()\n",
    "ymin  = int(df['year'].min())\n",
    "ymax  = int(df['year'].max())\n",
    "years = pd.Index(range(ymin, ymax + 1), name='year')\n",
    "\n",
    "balanced = (\n",
    "    pd.MultiIndex.from_product([firms, years], names=key_y)\n",
    "      .to_frame(index=False)\n",
    ")\n",
    "\n",
    "# --- Merge counts; zeros where no incidents ---\n",
    "reprisk_yearly = (\n",
    "    balanced.merge(counts, on=key_y, how='left')\n",
    "            .fillna(0)\n",
    "            .sort_values(key_y)\n",
    "            .reset_index(drop=True)\n",
    ")\n",
    "\n",
    "count_cols = [\n",
    "    'n_material','n_nonmaterial','n_car_1_material','n_car_5_material',\n",
    "    'n_rri_material','n_reach_material','n_severity_material'\n",
    "]\n",
    "reprisk_yearly[count_cols] = reprisk_yearly[count_cols].astype('int16')\n",
    "\n",
    "\n",
    "reprisk_yearly\n"
   ],
   "metadata": {
    "collapsed": false,
    "ExecuteTime": {
     "end_time": "2025-09-30T21:42:44.639581200Z",
     "start_time": "2025-09-30T21:41:55.654877800Z"
    }
   }
  },
  {
   "cell_type": "code",
   "execution_count": 29,
   "outputs": [
    {
     "data": {
      "text/plain": "           gvkey  year  n_material  n_nonmaterial  n_car_1_material  \\\n0         1004.0  2007           0              0                 0   \n1         1004.0  2008           0              0                 0   \n2         1004.0  2009           0              0                 0   \n3         1004.0  2010           0              1                 0   \n4         1004.0  2011           0              0                 0   \n...          ...   ...         ...            ...               ...   \n272862  367430.0  2019           0              0                 0   \n272863  367430.0  2020           0              0                 0   \n272864  367430.0  2021           0              0                 0   \n272865  367430.0  2022           0              0                 0   \n272866  367430.0  2023           0              0                 0   \n\n        n_car_5_material  n_rri_material  n_reach_material  \\\n0                      0               0                 0   \n1                      0               0                 0   \n2                      0               0                 0   \n3                      0               0                 1   \n4                      0               0                 0   \n...                  ...             ...               ...   \n272862                 0               0                 0   \n272863                 0               0                 0   \n272864                 0               0                 0   \n272865                 0               0                 0   \n272866                 0               0                 0   \n\n        n_severity_material     cusip       SICS Codified Industry   \\\n0                         0  00036110  Industrial Machinery & Goods   \n1                         0  00036110  Industrial Machinery & Goods   \n2                         0  00036110  Industrial Machinery & Goods   \n3                         0  00036110  Industrial Machinery & Goods   \n4                         0  00036110  Industrial Machinery & Goods   \n...                     ...       ...                           ...   \n272862                    0       NaN         Agricultural Products   \n272863                    0       NaN         Agricultural Products   \n272864                    0       NaN         Agricultural Products   \n272865                    0       NaN         Agricultural Products   \n272866                    0       NaN         Agricultural Products   \n\n          Codified SICS Sector   \n0       Resource Transformation  \n1       Resource Transformation  \n2       Resource Transformation  \n3       Resource Transformation  \n4       Resource Transformation  \n...                         ...  \n272862          Food & Beverage  \n272863          Food & Beverage  \n272864          Food & Beverage  \n272865          Food & Beverage  \n272866          Food & Beverage  \n\n[272867 rows x 12 columns]",
      "text/html": "<div>\n<style scoped>\n    .dataframe tbody tr th:only-of-type {\n        vertical-align: middle;\n    }\n\n    .dataframe tbody tr th {\n        vertical-align: top;\n    }\n\n    .dataframe thead th {\n        text-align: right;\n    }\n</style>\n<table border=\"1\" class=\"dataframe\">\n  <thead>\n    <tr style=\"text-align: right;\">\n      <th></th>\n      <th>gvkey</th>\n      <th>year</th>\n      <th>n_material</th>\n      <th>n_nonmaterial</th>\n      <th>n_car_1_material</th>\n      <th>n_car_5_material</th>\n      <th>n_rri_material</th>\n      <th>n_reach_material</th>\n      <th>n_severity_material</th>\n      <th>cusip</th>\n      <th>SICS Codified Industry</th>\n      <th>Codified SICS Sector</th>\n    </tr>\n  </thead>\n  <tbody>\n    <tr>\n      <th>0</th>\n      <td>1004.0</td>\n      <td>2007</td>\n      <td>0</td>\n      <td>0</td>\n      <td>0</td>\n      <td>0</td>\n      <td>0</td>\n      <td>0</td>\n      <td>0</td>\n      <td>00036110</td>\n      <td>Industrial Machinery &amp; Goods</td>\n      <td>Resource Transformation</td>\n    </tr>\n    <tr>\n      <th>1</th>\n      <td>1004.0</td>\n      <td>2008</td>\n      <td>0</td>\n      <td>0</td>\n      <td>0</td>\n      <td>0</td>\n      <td>0</td>\n      <td>0</td>\n      <td>0</td>\n      <td>00036110</td>\n      <td>Industrial Machinery &amp; Goods</td>\n      <td>Resource Transformation</td>\n    </tr>\n    <tr>\n      <th>2</th>\n      <td>1004.0</td>\n      <td>2009</td>\n      <td>0</td>\n      <td>0</td>\n      <td>0</td>\n      <td>0</td>\n      <td>0</td>\n      <td>0</td>\n      <td>0</td>\n      <td>00036110</td>\n      <td>Industrial Machinery &amp; Goods</td>\n      <td>Resource Transformation</td>\n    </tr>\n    <tr>\n      <th>3</th>\n      <td>1004.0</td>\n      <td>2010</td>\n      <td>0</td>\n      <td>1</td>\n      <td>0</td>\n      <td>0</td>\n      <td>0</td>\n      <td>1</td>\n      <td>0</td>\n      <td>00036110</td>\n      <td>Industrial Machinery &amp; Goods</td>\n      <td>Resource Transformation</td>\n    </tr>\n    <tr>\n      <th>4</th>\n      <td>1004.0</td>\n      <td>2011</td>\n      <td>0</td>\n      <td>0</td>\n      <td>0</td>\n      <td>0</td>\n      <td>0</td>\n      <td>0</td>\n      <td>0</td>\n      <td>00036110</td>\n      <td>Industrial Machinery &amp; Goods</td>\n      <td>Resource Transformation</td>\n    </tr>\n    <tr>\n      <th>...</th>\n      <td>...</td>\n      <td>...</td>\n      <td>...</td>\n      <td>...</td>\n      <td>...</td>\n      <td>...</td>\n      <td>...</td>\n      <td>...</td>\n      <td>...</td>\n      <td>...</td>\n      <td>...</td>\n      <td>...</td>\n    </tr>\n    <tr>\n      <th>272862</th>\n      <td>367430.0</td>\n      <td>2019</td>\n      <td>0</td>\n      <td>0</td>\n      <td>0</td>\n      <td>0</td>\n      <td>0</td>\n      <td>0</td>\n      <td>0</td>\n      <td>NaN</td>\n      <td>Agricultural Products</td>\n      <td>Food &amp; Beverage</td>\n    </tr>\n    <tr>\n      <th>272863</th>\n      <td>367430.0</td>\n      <td>2020</td>\n      <td>0</td>\n      <td>0</td>\n      <td>0</td>\n      <td>0</td>\n      <td>0</td>\n      <td>0</td>\n      <td>0</td>\n      <td>NaN</td>\n      <td>Agricultural Products</td>\n      <td>Food &amp; Beverage</td>\n    </tr>\n    <tr>\n      <th>272864</th>\n      <td>367430.0</td>\n      <td>2021</td>\n      <td>0</td>\n      <td>0</td>\n      <td>0</td>\n      <td>0</td>\n      <td>0</td>\n      <td>0</td>\n      <td>0</td>\n      <td>NaN</td>\n      <td>Agricultural Products</td>\n      <td>Food &amp; Beverage</td>\n    </tr>\n    <tr>\n      <th>272865</th>\n      <td>367430.0</td>\n      <td>2022</td>\n      <td>0</td>\n      <td>0</td>\n      <td>0</td>\n      <td>0</td>\n      <td>0</td>\n      <td>0</td>\n      <td>0</td>\n      <td>NaN</td>\n      <td>Agricultural Products</td>\n      <td>Food &amp; Beverage</td>\n    </tr>\n    <tr>\n      <th>272866</th>\n      <td>367430.0</td>\n      <td>2023</td>\n      <td>0</td>\n      <td>0</td>\n      <td>0</td>\n      <td>0</td>\n      <td>0</td>\n      <td>0</td>\n      <td>0</td>\n      <td>NaN</td>\n      <td>Agricultural Products</td>\n      <td>Food &amp; Beverage</td>\n    </tr>\n  </tbody>\n</table>\n<p>272867 rows × 12 columns</p>\n</div>"
     },
     "execution_count": 29,
     "metadata": {},
     "output_type": "execute_result"
    }
   ],
   "source": [
    "reprisk_merged_yearly = reprisk_yearly.merge(reprisk_incidents[['gvkey', 'cusip', 'SICS Codified Industry ', 'Codified SICS Sector ']].drop_duplicates(), on='gvkey', how='left')\n",
    "reprisk_merged_yearly"
   ],
   "metadata": {
    "collapsed": false,
    "ExecuteTime": {
     "end_time": "2025-09-30T21:42:56.534809600Z",
     "start_time": "2025-09-30T21:42:56.320928Z"
    }
   }
  },
  {
   "cell_type": "code",
   "execution_count": 394,
   "outputs": [
    {
     "data": {
      "text/plain": "year\n2007    4243\n2008    4243\n2009    4243\n2010    4243\n2011    4243\n2012    4243\n2013    4243\n2014    4243\n2015    4243\n2016    4243\n2017    4243\n2018    4243\n2019    4243\n2020    4243\n2021    4243\n2022    4243\n2023    4243\nName: cusip, dtype: int64"
     },
     "execution_count": 394,
     "metadata": {},
     "output_type": "execute_result"
    }
   ],
   "source": [
    "reprisk_merged_yearly.groupby('year')['cusip'].nunique()"
   ],
   "metadata": {
    "collapsed": false,
    "ExecuteTime": {
     "end_time": "2025-10-03T13:05:28.684693200Z",
     "start_time": "2025-10-03T13:05:28.621546Z"
    }
   }
  },
  {
   "cell_type": "code",
   "execution_count": 395,
   "outputs": [
    {
     "data": {
      "text/plain": "gvkey                      272867\nyear                       272867\nn_material                 272867\nn_nonmaterial              272867\nn_car_1_material           272867\nn_car_5_material           272867\nn_rri_material             272867\nn_reach_material           272867\nn_severity_material        272867\ncusip                       72131\nSICS Codified Industry     272867\nCodified SICS Sector       272867\ndtype: int64"
     },
     "execution_count": 395,
     "metadata": {},
     "output_type": "execute_result"
    }
   ],
   "source": [
    "reprisk_merged_yearly.notna().sum()"
   ],
   "metadata": {
    "collapsed": false,
    "ExecuteTime": {
     "end_time": "2025-10-03T13:05:57.154072500Z",
     "start_time": "2025-10-03T13:05:57.086426200Z"
    }
   }
  },
  {
   "cell_type": "markdown",
   "source": [
    "# 1. Portfolios based on material incidents (yes/no)"
   ],
   "metadata": {
    "collapsed": false
   }
  },
  {
   "cell_type": "code",
   "execution_count": 288,
   "outputs": [],
   "source": [
    "# df = your yearly panel\n",
    "df = reprisk_merged_yearly.copy()\n",
    "df.drop_duplicates(['cusip', 'year'], keep='last', inplace=True)\n",
    "df['year'] = pd.to_numeric(df['year'], errors='coerce').astype('Int64')\n",
    "\n",
    "metrics = {\n",
    "    'material': 'n_material',\n",
    "    'car_1':    'n_car_1_material',\n",
    "    'car_5':    'n_car_5_material',\n",
    "    'reach':    'n_reach_material',\n",
    "    'severity': 'n_severity_material',\n",
    "}\n",
    "\n",
    "# --- Long memberships (one row per cusip-year-metric) ---\n",
    "frames = []\n",
    "for mname, mcol in metrics.items():\n",
    "    tmp = df[['cusip', 'year', mcol]].copy()\n",
    "    tmp['metric'] = mname\n",
    "    tmp['portfolio'] = np.where(tmp[mcol] > 0, 'incident', 'no_incident')\n",
    "    frames.append(tmp[['cusip', 'year', 'metric', 'portfolio']])\n",
    "\n",
    "portfolios_long = pd.concat(frames, ignore_index=True)\n",
    "\n",
    "# --- Wide memberships (one row per cusip-year; one column per metric) ---\n",
    "wide = df[['cusip', 'year']].drop_duplicates().sort_values(['cusip', 'year']).copy()\n",
    "wide_idx = wide.set_index(['cusip', 'year']).index\n",
    "\n",
    "for mname, mcol in metrics.items():\n",
    "    # make a Series aligned on (gvkey, year) index\n",
    "    s = df.set_index(['cusip', 'year'])[mcol]\n",
    "    s = (s > 0).map({True: 'incident', False: 'no_incident'})\n",
    "    # align to the wide index\n",
    "    wide[f'{mname}_portfolio'] = s.reindex(wide_idx).to_numpy()\n",
    "\n",
    "# Example: counts per year & portfolio\n",
    "portfolio_counts = (\n",
    "    portfolios_long\n",
    "    .groupby(['metric', 'year', 'portfolio'], as_index=False)\n",
    "    .agg(n_firms=('cusip', 'nunique'))\n",
    "    .sort_values(['metric', 'year', 'portfolio'])\n",
    ")\n"
   ],
   "metadata": {
    "collapsed": false,
    "ExecuteTime": {
     "end_time": "2025-10-02T14:19:21.680850900Z",
     "start_time": "2025-10-02T14:19:20.981898600Z"
    }
   }
  },
  {
   "cell_type": "code",
   "execution_count": 289,
   "outputs": [],
   "source": [
    "def build_incident_flags(df):\n",
    "    out = df.copy()\n",
    "\n",
    "    # 1) find all portfolio label columns\n",
    "    port_cols = [c for c in out.columns if c.endswith('_portfolio')]\n",
    "\n",
    "    # 3) create 0/1 flags per portfolio column\n",
    "    #    naming: noInc_<base>, inc_<base>  (e.g., noInc_material, inc_material)\n",
    "    for c in port_cols:\n",
    "        base = c.replace('_portfolio', '')  # e.g., 'material'\n",
    "        out[f'noInc_{base}'] = (out[c] == 'no_incident').astype('int8')\n",
    "        out[f'inc_{base}']   = (out[c] == 'incident').astype('int8')\n",
    "\n",
    "\n",
    "    return out"
   ],
   "metadata": {
    "collapsed": false,
    "ExecuteTime": {
     "end_time": "2025-10-02T14:19:23.814697400Z",
     "start_time": "2025-10-02T14:19:23.783295700Z"
    }
   }
  },
  {
   "cell_type": "code",
   "execution_count": 290,
   "outputs": [
    {
     "data": {
      "text/plain": "           cusip  year material_portfolio car_1_portfolio car_5_portfolio  \\\n81991   00030710  2007        no_incident     no_incident     no_incident   \n81992   00030710  2008        no_incident     no_incident     no_incident   \n81993   00030710  2009        no_incident     no_incident     no_incident   \n81994   00030710  2010        no_incident     no_incident     no_incident   \n81995   00030710  2011        no_incident     no_incident     no_incident   \n...          ...   ...                ...             ...             ...   \n272862       NaN  2019        no_incident     no_incident     no_incident   \n272863       NaN  2020        no_incident     no_incident     no_incident   \n272864       NaN  2021        no_incident     no_incident     no_incident   \n272865       NaN  2022        no_incident     no_incident     no_incident   \n272866       NaN  2023        no_incident     no_incident     no_incident   \n\n       reach_portfolio severity_portfolio  noInc_material  inc_material  \\\n81991      no_incident        no_incident               1             0   \n81992      no_incident        no_incident               1             0   \n81993      no_incident        no_incident               1             0   \n81994      no_incident        no_incident               1             0   \n81995      no_incident        no_incident               1             0   \n...                ...                ...             ...           ...   \n272862     no_incident        no_incident               1             0   \n272863     no_incident        no_incident               1             0   \n272864     no_incident        no_incident               1             0   \n272865     no_incident        no_incident               1             0   \n272866     no_incident        no_incident               1             0   \n\n        noInc_car_1  inc_car_1  noInc_car_5  inc_car_5  noInc_reach  \\\n81991             1          0            1          0            1   \n81992             1          0            1          0            1   \n81993             1          0            1          0            1   \n81994             1          0            1          0            1   \n81995             1          0            1          0            1   \n...             ...        ...          ...        ...          ...   \n272862            1          0            1          0            1   \n272863            1          0            1          0            1   \n272864            1          0            1          0            1   \n272865            1          0            1          0            1   \n272866            1          0            1          0            1   \n\n        inc_reach  noInc_severity  inc_severity  \n81991           0               1             0  \n81992           0               1             0  \n81993           0               1             0  \n81994           0               1             0  \n81995           0               1             0  \n...           ...             ...           ...  \n272862          0               1             0  \n272863          0               1             0  \n272864          0               1             0  \n272865          0               1             0  \n272866          0               1             0  \n\n[72148 rows x 17 columns]",
      "text/html": "<div>\n<style scoped>\n    .dataframe tbody tr th:only-of-type {\n        vertical-align: middle;\n    }\n\n    .dataframe tbody tr th {\n        vertical-align: top;\n    }\n\n    .dataframe thead th {\n        text-align: right;\n    }\n</style>\n<table border=\"1\" class=\"dataframe\">\n  <thead>\n    <tr style=\"text-align: right;\">\n      <th></th>\n      <th>cusip</th>\n      <th>year</th>\n      <th>material_portfolio</th>\n      <th>car_1_portfolio</th>\n      <th>car_5_portfolio</th>\n      <th>reach_portfolio</th>\n      <th>severity_portfolio</th>\n      <th>noInc_material</th>\n      <th>inc_material</th>\n      <th>noInc_car_1</th>\n      <th>inc_car_1</th>\n      <th>noInc_car_5</th>\n      <th>inc_car_5</th>\n      <th>noInc_reach</th>\n      <th>inc_reach</th>\n      <th>noInc_severity</th>\n      <th>inc_severity</th>\n    </tr>\n  </thead>\n  <tbody>\n    <tr>\n      <th>81991</th>\n      <td>00030710</td>\n      <td>2007</td>\n      <td>no_incident</td>\n      <td>no_incident</td>\n      <td>no_incident</td>\n      <td>no_incident</td>\n      <td>no_incident</td>\n      <td>1</td>\n      <td>0</td>\n      <td>1</td>\n      <td>0</td>\n      <td>1</td>\n      <td>0</td>\n      <td>1</td>\n      <td>0</td>\n      <td>1</td>\n      <td>0</td>\n    </tr>\n    <tr>\n      <th>81992</th>\n      <td>00030710</td>\n      <td>2008</td>\n      <td>no_incident</td>\n      <td>no_incident</td>\n      <td>no_incident</td>\n      <td>no_incident</td>\n      <td>no_incident</td>\n      <td>1</td>\n      <td>0</td>\n      <td>1</td>\n      <td>0</td>\n      <td>1</td>\n      <td>0</td>\n      <td>1</td>\n      <td>0</td>\n      <td>1</td>\n      <td>0</td>\n    </tr>\n    <tr>\n      <th>81993</th>\n      <td>00030710</td>\n      <td>2009</td>\n      <td>no_incident</td>\n      <td>no_incident</td>\n      <td>no_incident</td>\n      <td>no_incident</td>\n      <td>no_incident</td>\n      <td>1</td>\n      <td>0</td>\n      <td>1</td>\n      <td>0</td>\n      <td>1</td>\n      <td>0</td>\n      <td>1</td>\n      <td>0</td>\n      <td>1</td>\n      <td>0</td>\n    </tr>\n    <tr>\n      <th>81994</th>\n      <td>00030710</td>\n      <td>2010</td>\n      <td>no_incident</td>\n      <td>no_incident</td>\n      <td>no_incident</td>\n      <td>no_incident</td>\n      <td>no_incident</td>\n      <td>1</td>\n      <td>0</td>\n      <td>1</td>\n      <td>0</td>\n      <td>1</td>\n      <td>0</td>\n      <td>1</td>\n      <td>0</td>\n      <td>1</td>\n      <td>0</td>\n    </tr>\n    <tr>\n      <th>81995</th>\n      <td>00030710</td>\n      <td>2011</td>\n      <td>no_incident</td>\n      <td>no_incident</td>\n      <td>no_incident</td>\n      <td>no_incident</td>\n      <td>no_incident</td>\n      <td>1</td>\n      <td>0</td>\n      <td>1</td>\n      <td>0</td>\n      <td>1</td>\n      <td>0</td>\n      <td>1</td>\n      <td>0</td>\n      <td>1</td>\n      <td>0</td>\n    </tr>\n    <tr>\n      <th>...</th>\n      <td>...</td>\n      <td>...</td>\n      <td>...</td>\n      <td>...</td>\n      <td>...</td>\n      <td>...</td>\n      <td>...</td>\n      <td>...</td>\n      <td>...</td>\n      <td>...</td>\n      <td>...</td>\n      <td>...</td>\n      <td>...</td>\n      <td>...</td>\n      <td>...</td>\n      <td>...</td>\n      <td>...</td>\n    </tr>\n    <tr>\n      <th>272862</th>\n      <td>NaN</td>\n      <td>2019</td>\n      <td>no_incident</td>\n      <td>no_incident</td>\n      <td>no_incident</td>\n      <td>no_incident</td>\n      <td>no_incident</td>\n      <td>1</td>\n      <td>0</td>\n      <td>1</td>\n      <td>0</td>\n      <td>1</td>\n      <td>0</td>\n      <td>1</td>\n      <td>0</td>\n      <td>1</td>\n      <td>0</td>\n    </tr>\n    <tr>\n      <th>272863</th>\n      <td>NaN</td>\n      <td>2020</td>\n      <td>no_incident</td>\n      <td>no_incident</td>\n      <td>no_incident</td>\n      <td>no_incident</td>\n      <td>no_incident</td>\n      <td>1</td>\n      <td>0</td>\n      <td>1</td>\n      <td>0</td>\n      <td>1</td>\n      <td>0</td>\n      <td>1</td>\n      <td>0</td>\n      <td>1</td>\n      <td>0</td>\n    </tr>\n    <tr>\n      <th>272864</th>\n      <td>NaN</td>\n      <td>2021</td>\n      <td>no_incident</td>\n      <td>no_incident</td>\n      <td>no_incident</td>\n      <td>no_incident</td>\n      <td>no_incident</td>\n      <td>1</td>\n      <td>0</td>\n      <td>1</td>\n      <td>0</td>\n      <td>1</td>\n      <td>0</td>\n      <td>1</td>\n      <td>0</td>\n      <td>1</td>\n      <td>0</td>\n    </tr>\n    <tr>\n      <th>272865</th>\n      <td>NaN</td>\n      <td>2022</td>\n      <td>no_incident</td>\n      <td>no_incident</td>\n      <td>no_incident</td>\n      <td>no_incident</td>\n      <td>no_incident</td>\n      <td>1</td>\n      <td>0</td>\n      <td>1</td>\n      <td>0</td>\n      <td>1</td>\n      <td>0</td>\n      <td>1</td>\n      <td>0</td>\n      <td>1</td>\n      <td>0</td>\n    </tr>\n    <tr>\n      <th>272866</th>\n      <td>NaN</td>\n      <td>2023</td>\n      <td>no_incident</td>\n      <td>no_incident</td>\n      <td>no_incident</td>\n      <td>no_incident</td>\n      <td>no_incident</td>\n      <td>1</td>\n      <td>0</td>\n      <td>1</td>\n      <td>0</td>\n      <td>1</td>\n      <td>0</td>\n      <td>1</td>\n      <td>0</td>\n      <td>1</td>\n      <td>0</td>\n    </tr>\n  </tbody>\n</table>\n<p>72148 rows × 17 columns</p>\n</div>"
     },
     "execution_count": 290,
     "metadata": {},
     "output_type": "execute_result"
    }
   ],
   "source": [
    "# ---- use it ----\n",
    "wide_flags = build_incident_flags(wide)  # replace df_inc with your DataFrame name\n",
    "\n",
    "wide_flags\n"
   ],
   "metadata": {
    "collapsed": false,
    "ExecuteTime": {
     "end_time": "2025-10-02T14:19:24.830300200Z",
     "start_time": "2025-10-02T14:19:24.741564700Z"
    }
   }
  },
  {
   "cell_type": "markdown",
   "source": [
    "# 2. Get financials"
   ],
   "metadata": {
    "collapsed": false
   }
  },
  {
   "cell_type": "code",
   "execution_count": 130,
   "outputs": [
    {
     "data": {
      "text/plain": "            gvkey   YearMonth  n_material  n_nonmaterial  n_car_1_material  \\\n0          1004.0  2007-01-01           0              0                 0   \n1          1004.0  2007-02-01           0              0                 0   \n2          1004.0  2007-03-01           0              0                 0   \n3          1004.0  2007-04-01           0              0                 0   \n4          1004.0  2007-05-01           0              0                 0   \n...           ...         ...         ...            ...               ...   \n2390467  356128.0  2023-08-01           0              0                 0   \n2390468  356128.0  2023-09-01           0              0                 0   \n2390469  356128.0  2023-10-01           0              0                 0   \n2390470  356128.0  2023-11-01           0              0                 0   \n2390471  356128.0  2023-12-01           0              0                 0   \n\n         n_car_5_material  n_reach_material  n_severity_material      cusip  \\\n0                       0                 0                    0  000361105   \n1                       0                 0                    0  000361105   \n2                       0                 0                    0  000361105   \n3                       0                 0                    0  000361105   \n4                       0                 0                    0  000361105   \n...                   ...               ...                  ...        ...   \n2390467                 0                 0                    0  48581R205   \n2390468                 0                 0                    0  48581R205   \n2390469                 0                 0                    0  48581R205   \n2390470                 0                 0                    0  48581R205   \n2390471                 0                 0                    0  48581R205   \n\n              SICS Codified Industry   ... industry_n_car_1_material  \\\n0        Industrial Machinery & Goods  ...                         0   \n1        Industrial Machinery & Goods  ...                         2   \n2        Industrial Machinery & Goods  ...                         1   \n3        Industrial Machinery & Goods  ...                         0   \n4        Industrial Machinery & Goods  ...                         1   \n...                               ...  ...                       ...   \n2390467              Consumer Finance  ...                         3   \n2390468              Consumer Finance  ...                         0   \n2390469              Consumer Finance  ...                         0   \n2390470              Consumer Finance  ...                         1   \n2390471              Consumer Finance  ...                         3   \n\n         industry_n_car_5_material  industry_n_reach_material  \\\n0                                0                          5   \n1                                2                          7   \n2                                1                          6   \n3                                0                          7   \n4                                1                          8   \n...                            ...                        ...   \n2390467                          3                         14   \n2390468                          0                         10   \n2390469                          0                          7   \n2390470                          0                          1   \n2390471                          3                          8   \n\n         industry_n_severity_material        date     mktrf       smb  \\\n0                                   5  2007-01-01  0.000138  0.000009   \n1                                   7  2007-02-01 -0.000196  0.000123   \n2                                   6  2007-03-01  0.000071  0.000009   \n3                                   7  2007-04-01  0.000349 -0.000221   \n4                                   9  2007-05-01  0.000323  0.000016   \n...                               ...         ...       ...       ...   \n2390467                            14  2023-08-01 -0.000236 -0.000314   \n2390468                            10  2023-09-01 -0.000523 -0.000251   \n2390469                             7  2023-10-01 -0.000315 -0.000386   \n2390470                             1  2023-11-01  0.000888 -0.000010   \n2390471                             8  2023-12-01  0.000485  0.000630   \n\n              hml        rf       umd  \n0       -0.000068  0.000044  0.000017  \n1       -0.000008  0.000038 -0.000129  \n2       -0.000088  0.000043  0.000258  \n3       -0.000144  0.000044 -0.000016  \n4       -0.000059  0.000041 -0.000033  \n...           ...       ...       ...  \n2390467 -0.000115  0.000045  0.000378  \n2390468  0.000149  0.000043  0.000033  \n2390469  0.000020  0.000047  0.000167  \n2390470  0.000167  0.000044  0.000256  \n2390471  0.000489  0.000043 -0.000553  \n\n[2390472 rows x 23 columns]",
      "text/html": "<div>\n<style scoped>\n    .dataframe tbody tr th:only-of-type {\n        vertical-align: middle;\n    }\n\n    .dataframe tbody tr th {\n        vertical-align: top;\n    }\n\n    .dataframe thead th {\n        text-align: right;\n    }\n</style>\n<table border=\"1\" class=\"dataframe\">\n  <thead>\n    <tr style=\"text-align: right;\">\n      <th></th>\n      <th>gvkey</th>\n      <th>YearMonth</th>\n      <th>n_material</th>\n      <th>n_nonmaterial</th>\n      <th>n_car_1_material</th>\n      <th>n_car_5_material</th>\n      <th>n_reach_material</th>\n      <th>n_severity_material</th>\n      <th>cusip</th>\n      <th>SICS Codified Industry</th>\n      <th>...</th>\n      <th>industry_n_car_1_material</th>\n      <th>industry_n_car_5_material</th>\n      <th>industry_n_reach_material</th>\n      <th>industry_n_severity_material</th>\n      <th>date</th>\n      <th>mktrf</th>\n      <th>smb</th>\n      <th>hml</th>\n      <th>rf</th>\n      <th>umd</th>\n    </tr>\n  </thead>\n  <tbody>\n    <tr>\n      <th>0</th>\n      <td>1004.0</td>\n      <td>2007-01-01</td>\n      <td>0</td>\n      <td>0</td>\n      <td>0</td>\n      <td>0</td>\n      <td>0</td>\n      <td>0</td>\n      <td>000361105</td>\n      <td>Industrial Machinery &amp; Goods</td>\n      <td>...</td>\n      <td>0</td>\n      <td>0</td>\n      <td>5</td>\n      <td>5</td>\n      <td>2007-01-01</td>\n      <td>0.000138</td>\n      <td>0.000009</td>\n      <td>-0.000068</td>\n      <td>0.000044</td>\n      <td>0.000017</td>\n    </tr>\n    <tr>\n      <th>1</th>\n      <td>1004.0</td>\n      <td>2007-02-01</td>\n      <td>0</td>\n      <td>0</td>\n      <td>0</td>\n      <td>0</td>\n      <td>0</td>\n      <td>0</td>\n      <td>000361105</td>\n      <td>Industrial Machinery &amp; Goods</td>\n      <td>...</td>\n      <td>2</td>\n      <td>2</td>\n      <td>7</td>\n      <td>7</td>\n      <td>2007-02-01</td>\n      <td>-0.000196</td>\n      <td>0.000123</td>\n      <td>-0.000008</td>\n      <td>0.000038</td>\n      <td>-0.000129</td>\n    </tr>\n    <tr>\n      <th>2</th>\n      <td>1004.0</td>\n      <td>2007-03-01</td>\n      <td>0</td>\n      <td>0</td>\n      <td>0</td>\n      <td>0</td>\n      <td>0</td>\n      <td>0</td>\n      <td>000361105</td>\n      <td>Industrial Machinery &amp; Goods</td>\n      <td>...</td>\n      <td>1</td>\n      <td>1</td>\n      <td>6</td>\n      <td>6</td>\n      <td>2007-03-01</td>\n      <td>0.000071</td>\n      <td>0.000009</td>\n      <td>-0.000088</td>\n      <td>0.000043</td>\n      <td>0.000258</td>\n    </tr>\n    <tr>\n      <th>3</th>\n      <td>1004.0</td>\n      <td>2007-04-01</td>\n      <td>0</td>\n      <td>0</td>\n      <td>0</td>\n      <td>0</td>\n      <td>0</td>\n      <td>0</td>\n      <td>000361105</td>\n      <td>Industrial Machinery &amp; Goods</td>\n      <td>...</td>\n      <td>0</td>\n      <td>0</td>\n      <td>7</td>\n      <td>7</td>\n      <td>2007-04-01</td>\n      <td>0.000349</td>\n      <td>-0.000221</td>\n      <td>-0.000144</td>\n      <td>0.000044</td>\n      <td>-0.000016</td>\n    </tr>\n    <tr>\n      <th>4</th>\n      <td>1004.0</td>\n      <td>2007-05-01</td>\n      <td>0</td>\n      <td>0</td>\n      <td>0</td>\n      <td>0</td>\n      <td>0</td>\n      <td>0</td>\n      <td>000361105</td>\n      <td>Industrial Machinery &amp; Goods</td>\n      <td>...</td>\n      <td>1</td>\n      <td>1</td>\n      <td>8</td>\n      <td>9</td>\n      <td>2007-05-01</td>\n      <td>0.000323</td>\n      <td>0.000016</td>\n      <td>-0.000059</td>\n      <td>0.000041</td>\n      <td>-0.000033</td>\n    </tr>\n    <tr>\n      <th>...</th>\n      <td>...</td>\n      <td>...</td>\n      <td>...</td>\n      <td>...</td>\n      <td>...</td>\n      <td>...</td>\n      <td>...</td>\n      <td>...</td>\n      <td>...</td>\n      <td>...</td>\n      <td>...</td>\n      <td>...</td>\n      <td>...</td>\n      <td>...</td>\n      <td>...</td>\n      <td>...</td>\n      <td>...</td>\n      <td>...</td>\n      <td>...</td>\n      <td>...</td>\n      <td>...</td>\n    </tr>\n    <tr>\n      <th>2390467</th>\n      <td>356128.0</td>\n      <td>2023-08-01</td>\n      <td>0</td>\n      <td>0</td>\n      <td>0</td>\n      <td>0</td>\n      <td>0</td>\n      <td>0</td>\n      <td>48581R205</td>\n      <td>Consumer Finance</td>\n      <td>...</td>\n      <td>3</td>\n      <td>3</td>\n      <td>14</td>\n      <td>14</td>\n      <td>2023-08-01</td>\n      <td>-0.000236</td>\n      <td>-0.000314</td>\n      <td>-0.000115</td>\n      <td>0.000045</td>\n      <td>0.000378</td>\n    </tr>\n    <tr>\n      <th>2390468</th>\n      <td>356128.0</td>\n      <td>2023-09-01</td>\n      <td>0</td>\n      <td>0</td>\n      <td>0</td>\n      <td>0</td>\n      <td>0</td>\n      <td>0</td>\n      <td>48581R205</td>\n      <td>Consumer Finance</td>\n      <td>...</td>\n      <td>0</td>\n      <td>0</td>\n      <td>10</td>\n      <td>10</td>\n      <td>2023-09-01</td>\n      <td>-0.000523</td>\n      <td>-0.000251</td>\n      <td>0.000149</td>\n      <td>0.000043</td>\n      <td>0.000033</td>\n    </tr>\n    <tr>\n      <th>2390469</th>\n      <td>356128.0</td>\n      <td>2023-10-01</td>\n      <td>0</td>\n      <td>0</td>\n      <td>0</td>\n      <td>0</td>\n      <td>0</td>\n      <td>0</td>\n      <td>48581R205</td>\n      <td>Consumer Finance</td>\n      <td>...</td>\n      <td>0</td>\n      <td>0</td>\n      <td>7</td>\n      <td>7</td>\n      <td>2023-10-01</td>\n      <td>-0.000315</td>\n      <td>-0.000386</td>\n      <td>0.000020</td>\n      <td>0.000047</td>\n      <td>0.000167</td>\n    </tr>\n    <tr>\n      <th>2390470</th>\n      <td>356128.0</td>\n      <td>2023-11-01</td>\n      <td>0</td>\n      <td>0</td>\n      <td>0</td>\n      <td>0</td>\n      <td>0</td>\n      <td>0</td>\n      <td>48581R205</td>\n      <td>Consumer Finance</td>\n      <td>...</td>\n      <td>1</td>\n      <td>0</td>\n      <td>1</td>\n      <td>1</td>\n      <td>2023-11-01</td>\n      <td>0.000888</td>\n      <td>-0.000010</td>\n      <td>0.000167</td>\n      <td>0.000044</td>\n      <td>0.000256</td>\n    </tr>\n    <tr>\n      <th>2390471</th>\n      <td>356128.0</td>\n      <td>2023-12-01</td>\n      <td>0</td>\n      <td>0</td>\n      <td>0</td>\n      <td>0</td>\n      <td>0</td>\n      <td>0</td>\n      <td>48581R205</td>\n      <td>Consumer Finance</td>\n      <td>...</td>\n      <td>3</td>\n      <td>3</td>\n      <td>8</td>\n      <td>8</td>\n      <td>2023-12-01</td>\n      <td>0.000485</td>\n      <td>0.000630</td>\n      <td>0.000489</td>\n      <td>0.000043</td>\n      <td>-0.000553</td>\n    </tr>\n  </tbody>\n</table>\n<p>2390472 rows × 23 columns</p>\n</div>"
     },
     "execution_count": 130,
     "metadata": {},
     "output_type": "execute_result"
    }
   ],
   "source": [
    "reprisk_merged_yearly = pd.read_csv('Data/incidents_rolling_industry_all.csv')\n",
    "reprisk_merged_yearly"
   ],
   "metadata": {
    "collapsed": false,
    "ExecuteTime": {
     "end_time": "2025-10-20T13:21:56.136117800Z",
     "start_time": "2025-10-20T13:21:43.061778100Z"
    }
   }
  },
  {
   "cell_type": "code",
   "execution_count": 131,
   "outputs": [],
   "source": [
    "reprisk_merged_yearly['YearQuarter'] = pd.to_datetime(reprisk_merged_yearly['YearMonth']).dt.to_period('Q')\n",
    "reprisk_merged_yearly['YearQuarter_prior'] = reprisk_merged_yearly['YearQuarter'] - 1\n",
    "reprisk_merged_yearly['YearQuarter_prior'] = reprisk_merged_yearly['YearQuarter_prior'].astype(str)"
   ],
   "metadata": {
    "collapsed": false,
    "ExecuteTime": {
     "end_time": "2025-10-20T13:21:58.276817700Z",
     "start_time": "2025-10-20T13:21:56.109395600Z"
    }
   }
  },
  {
   "cell_type": "code",
   "execution_count": 26,
   "outputs": [],
   "source": [
    "# Export unique gvkey as int to txt\n",
    "reprisk_merged_yearly['gvkey'].drop_duplicates().astype(str).str.replace(r'\\.0$', '', regex=True).to_csv('data/gvkeys.txt', index=False, header=False)"
   ],
   "metadata": {
    "collapsed": false,
    "ExecuteTime": {
     "end_time": "2025-10-18T15:59:12.204335800Z",
     "start_time": "2025-10-18T15:59:12.122555700Z"
    }
   }
  },
  {
   "cell_type": "code",
   "execution_count": 207,
   "outputs": [
    {
     "name": "stdout",
     "output_type": "stream",
     "text": [
      "Loading library list...\n",
      "Done\n"
     ]
    }
   ],
   "source": [
    "import wrds\n",
    "from pathlib import Path\n",
    "from dotenv import load_dotenv\n",
    "import os\n",
    "\n",
    "project_root = Path(r\"E:\\GermanBusinessPanelTeam\\Schrader\\Forschung\\ESGmateriality\")\n",
    "\n",
    "# ── Load WRDS creds from wrds.env in the project root ─────────────────────────\n",
    "env_path = project_root / \"wrds.env\"\n",
    "load_dotenv(dotenv_path=env_path)\n",
    "# ── Connect to WRDS ───────────────────────────────────────────────────────────\n",
    "db = wrds.Connection(\n",
    "    wrds_username=os.getenv(\"WRDS_YALE_USERNAME\"),\n",
    "    wrds_password=os.getenv(\"WRDS_YALE_PASSWORD\")\n",
    ")"
   ],
   "metadata": {
    "collapsed": false,
    "ExecuteTime": {
     "end_time": "2025-10-20T19:02:24.269444700Z",
     "start_time": "2025-10-20T19:02:21.402006500Z"
    }
   }
  },
  {
   "cell_type": "code",
   "execution_count": 41,
   "outputs": [],
   "source": [
    "# ---------- tiny helper: keys + single Compustat QUARTERLY pull ----------\n",
    "\n",
    "def _parse_yearquarter(s):\n",
    "    \"\"\"\n",
    "    Accepts strings like '2022Q3', '2022-Q3', '2022 Q3', Periods, or timestamps.\n",
    "    Returns a pandas.Period (freq='Q-DEC').\n",
    "    \"\"\"\n",
    "    if pd.isna(s):\n",
    "        return pd.NaT\n",
    "    if isinstance(s, pd.Period):\n",
    "        return s.asfreq('Q-DEC')\n",
    "    s = str(s).strip().upper().replace('-', '').replace(' ', '')\n",
    "    if 'Q' in s:\n",
    "        y, q = s.split('Q', 1)\n",
    "        return pd.Period(year=int(y), quarter=int(q), freq='Q-DEC')\n",
    "    try:\n",
    "        dt = pd.to_datetime(s, errors='raise')\n",
    "        return dt.to_period('Q-DEC')\n",
    "    except Exception:\n",
    "        return pd.NaT\n",
    "\n",
    "def _keys(df):\n",
    "    \"\"\"\n",
    "    For quarterly pulls:\n",
    "      - expects columns ['gvkey', 'YearQuarter_prior'] (e.g., '2024Q3')\n",
    "      - returns distinct gvkey + quarter keys, also provides 'year' and 'quarter'\n",
    "    \"\"\"\n",
    "    out = (df[['gvkey', 'YearQuarter_prior']].dropna()\n",
    "           .assign(\n",
    "               gvkey=lambda d: d['gvkey'].astype(str).str.replace(r'\\.0$', '', regex=True).str.zfill(6),\n",
    "               qtr  =lambda d: d['YearQuarter_prior'].map(_parse_yearquarter))\n",
    "           .dropna(subset=['qtr'])\n",
    "           .drop_duplicates())\n",
    "    out['year']    = out['qtr'].dt.year.astype(int)\n",
    "    out['quarter'] = out['qtr'].dt.quarter.astype(int)\n",
    "    return out[['gvkey','qtr','year','quarter']]\n",
    "\n",
    "def _pull_compustat_quarterly(db, keys):\n",
    "    \"\"\"\n",
    "    Pull ONLY the variables needed for:\n",
    "      - Market cap / Size: prccq, cshoq\n",
    "      - ROA: ibq, atq\n",
    "      - Leverage: ltq, atq\n",
    "      - Book-to-Market: seqq, ceqq, pstkq, txditcq\n",
    "\n",
    "    Returns compq with calendar quarter fields and a normalized join key (gvkey_norm).\n",
    "    \"\"\"\n",
    "    import pandas as pd\n",
    "\n",
    "    if keys.empty:\n",
    "        return pd.DataFrame(columns=[\n",
    "            'gvkey','datadate','prccq','cshoq','ibq','atq','ltq','seqq','ceqq','pstkq','txditcq',\n",
    "            'calyear','calqtr','calyrqtr','gvkey_norm'\n",
    "        ])\n",
    "\n",
    "    # window: from (min quarter - 1) to max quarter (safe & small)\n",
    "    min_q = (keys['qtr'].min() - 1)\n",
    "    max_q = keys['qtr'].max()\n",
    "    start_date = min_q.asfreq('Q-DEC').to_timestamp(how='end').normalize()\n",
    "    end_date   = max_q.asfreq('Q-DEC').to_timestamp(how='end').normalize()\n",
    "\n",
    "    gvkeys = tuple(keys['gvkey'].unique().tolist())  # already normalized in _keys()\n",
    "\n",
    "    compq = db.raw_sql(\"\"\"\n",
    "        SELECT gvkey, datadate,\n",
    "               prccq, cshoq,           -- market cap\n",
    "               ibq, atq,               -- ROA\n",
    "               ltq,                    -- leverage\n",
    "               seqq, ceqq, pstkq, txditcq  -- book equity pieces\n",
    "        FROM comp.fundq\n",
    "        WHERE indfmt='INDL' AND datafmt='STD' AND consol='C'\n",
    "          AND gvkey IN %(g)s\n",
    "          AND datadate BETWEEN %(a)s AND %(b)s\n",
    "    \"\"\", params={\n",
    "        \"g\": gvkeys,\n",
    "        \"a\": pd.Timestamp(start_date),\n",
    "        \"b\": pd.Timestamp(end_date)\n",
    "    }, date_cols=['datadate'])\n",
    "\n",
    "    if compq.empty:\n",
    "        return pd.DataFrame(columns=[\n",
    "            'gvkey','datadate','prccq','cshoq','ibq','atq','ltq','seqq','ceqq','pstkq','txditcq',\n",
    "            'calyear','calqtr','calyrqtr','gvkey_norm'\n",
    "        ])\n",
    "\n",
    "    # calendar fields + normalized gvkey (for joining)\n",
    "    compq['datadate'] = pd.to_datetime(compq['datadate'])\n",
    "    compq['calyear']  = compq['datadate'].dt.year.astype('Int64')\n",
    "    compq['calqtr']   = compq['datadate'].dt.quarter.astype('Int64')\n",
    "    compq['calyrqtr'] = compq['calyear'].astype(str) + 'Q' + compq['calqtr'].astype(str)\n",
    "    compq['gvkey_norm'] = compq['gvkey'].astype(str).str.replace(r'\\.0$', '', regex=True).str.zfill(6)\n",
    "    return compq\n"
   ],
   "metadata": {
    "collapsed": false,
    "ExecuteTime": {
     "end_time": "2025-10-18T16:21:26.515370600Z",
     "start_time": "2025-10-18T16:21:26.421220700Z"
    }
   }
  },
  {
   "cell_type": "code",
   "execution_count": 51,
   "outputs": [],
   "source": [
    "# --- collapse comp.fundq to one row per (gvkey, quarter) and compute ratios ---\n",
    "def _compute_quarterly_metrics(compq: pd.DataFrame) -> pd.DataFrame:\n",
    "\n",
    "    if compq.empty:\n",
    "        return pd.DataFrame(columns=['gvkey_norm','calyrqtr','size','roa_q','lev_q','bm_q'])\n",
    "\n",
    "    compq = (compq.sort_values(['gvkey_norm','calyrqtr','datadate'])\n",
    "                  .drop_duplicates(['gvkey_norm','calyrqtr'], keep='last')).copy()\n",
    "\n",
    "    # to numeric Series\n",
    "    prccq   = pd.to_numeric(compq['prccq'],   errors='coerce')\n",
    "    cshoq   = pd.to_numeric(compq['cshoq'],   errors='coerce')\n",
    "    ibq     = pd.to_numeric(compq['ibq'],     errors='coerce')\n",
    "    atq     = pd.to_numeric(compq['atq'],     errors='coerce')\n",
    "    ltq     = pd.to_numeric(compq['ltq'],     errors='coerce')\n",
    "    seqq    = pd.to_numeric(compq['seqq'],    errors='coerce')\n",
    "    ceqq    = pd.to_numeric(compq['ceqq'],    errors='coerce')\n",
    "    pstkq   = pd.to_numeric(compq['pstkq'],   errors='coerce')\n",
    "    txditcq = pd.to_numeric(compq['txditcq'], errors='coerce')\n",
    "\n",
    "    # numpy views (avoid masked ufunc path)\n",
    "    prc   = prccq.to_numpy(dtype='float64')\n",
    "    csho  = cshoq.to_numpy(dtype='float64')\n",
    "    ib    = ibq.to_numpy(dtype='float64')\n",
    "    at    = atq.to_numpy(dtype='float64')\n",
    "    lt    = ltq.to_numpy(dtype='float64')\n",
    "    seq   = seqq.to_numpy(dtype='float64')\n",
    "    ceq   = ceqq.to_numpy(dtype='float64')\n",
    "    pstk  = pstkq.to_numpy(dtype='float64')\n",
    "    txd   = txditcq.to_numpy(dtype='float64')\n",
    "\n",
    "    # market cap\n",
    "    mktcap = prc * csho\n",
    "\n",
    "    # size = ln(mktcap) only if mktcap > 0\n",
    "    size = np.where(mktcap > 0, np.log(mktcap), np.nan)\n",
    "\n",
    "    # ROA and Leverage: safe divisions\n",
    "    roa_q = np.divide(ib, at, out=np.full_like(at, np.nan), where=(at != 0) & ~np.isnan(at))\n",
    "    lev_q = np.divide(lt, at, out=np.full_like(at, np.nan), where=(at != 0) & ~np.isnan(at))\n",
    "\n",
    "    # Book equity: BE = (SEQ if present else CEQ) + TXDITCQ − PSTKQ\n",
    "    seq_filled = np.where(~np.isnan(seq), seq, ceq)\n",
    "    be = seq_filled + txd - pstk\n",
    "\n",
    "    # Book-to-Market: only if mktcap > 0\n",
    "    bm_q = np.divide(be, mktcap, out=np.full_like(mktcap, np.nan), where=(mktcap > 0) & ~np.isnan(mktcap))\n",
    "\n",
    "    return pd.DataFrame({\n",
    "        'gvkey_norm': compq['gvkey_norm'].values,\n",
    "        'calyrqtr':   compq['calyrqtr'].values,\n",
    "        'size':       size,\n",
    "        'roa_q':      roa_q,\n",
    "        'lev_q':      lev_q,\n",
    "        'bm_q':       bm_q\n",
    "    })\n",
    "\n",
    "\n",
    "# --- build mapping (gvkey_norm, YearQuarter_prior) -> metrics ---\n",
    "def _get_quarterly_metrics_map(db, df_quarterly: pd.DataFrame) -> pd.DataFrame:\n",
    "    # keys with normalized gvkey + Period quarter (used for pull)\n",
    "    k0 = _keys(df_quarterly)\n",
    "    if k0.empty:\n",
    "        return pd.DataFrame(columns=['gvkey_norm','YearQuarter_prior','size','roa_q','lev_q','bm_q'])\n",
    "\n",
    "    # pull only once over the window\n",
    "    compq = _pull_compustat_quarterly(db, k0)\n",
    "\n",
    "    # compute metrics at (gvkey_norm, calyrqtr)\n",
    "    metrics = _compute_quarterly_metrics(compq)\n",
    "\n",
    "    # make left-side merge keys from k0 (string quarter like '2007Q1')\n",
    "    left_keys = (k0.assign(\n",
    "        YearQuarter_prior=k0['qtr'].astype(str),\n",
    "        calyrqtr=k0['qtr'].dt.year.astype(str) + 'Q' + k0['qtr'].dt.quarter.astype(str),\n",
    "        gvkey_norm=k0['gvkey'])\n",
    "        [['gvkey_norm','YearQuarter_prior','calyrqtr']].drop_duplicates()\n",
    "    )\n",
    "\n",
    "    # map metrics to (gvkey_norm, YearQuarter_prior)\n",
    "    out = left_keys.merge(metrics, on=['gvkey_norm','calyrqtr'], how='left')\n",
    "    return out[['gvkey_norm','YearQuarter_prior','size','roa_q','lev_q','bm_q']]\n",
    "\n",
    "# --- public: add quarterly metrics back to your original dataframe ---\n",
    "def add_quarterly_metrics(db, reprisk_merged_quarterly: pd.DataFrame) -> pd.DataFrame:\n",
    "    df = reprisk_merged_quarterly.copy()\n",
    "\n",
    "    # temp normalized key for joining (same as _keys)\n",
    "    df['gvkey_norm'] = df['gvkey'].astype(str).str.replace(r'\\.0$', '', regex=True).str.zfill(6)\n",
    "\n",
    "    metrics_map = _get_quarterly_metrics_map(db, df)\n",
    "\n",
    "    out = df.merge(metrics_map,\n",
    "                   on=['gvkey_norm','YearQuarter_prior'],\n",
    "                   how='left')\n",
    "\n",
    "    return out.drop(columns=['gvkey_norm'])"
   ],
   "metadata": {
    "collapsed": false,
    "ExecuteTime": {
     "end_time": "2025-10-18T16:49:52.139546Z",
     "start_time": "2025-10-18T16:49:52.124351500Z"
    }
   }
  },
  {
   "cell_type": "code",
   "execution_count": 52,
   "outputs": [
    {
     "name": "stderr",
     "output_type": "stream",
     "text": [
      "C:\\Users\\PascalSchrader.WIN-T1MVMVKE25U.000\\AppData\\Local\\Temp\\9\\ipykernel_10332\\93899279.py:36: RuntimeWarning: divide by zero encountered in log\n",
      "  size = np.where(mktcap > 0, np.log(mktcap), np.nan)\n"
     ]
    },
    {
     "data": {
      "text/plain": "            gvkey   YearMonth  n_material  n_nonmaterial  n_car_1_material  \\\n0          1004.0  2007-01-01           0              0                 0   \n1          1004.0  2007-02-01           0              0                 0   \n2          1004.0  2007-03-01           0              0                 0   \n3          1004.0  2007-04-01           0              0                 0   \n4          1004.0  2007-05-01           0              0                 0   \n...           ...         ...         ...            ...               ...   \n2390467  356128.0  2023-08-01           0              0                 0   \n2390468  356128.0  2023-09-01           0              0                 0   \n2390469  356128.0  2023-10-01           0              0                 0   \n2390470  356128.0  2023-11-01           0              0                 0   \n2390471  356128.0  2023-12-01           0              0                 0   \n\n         n_car_5_material  n_reach_material  n_severity_material      cusip  \\\n0                       0                 0                    0  000361105   \n1                       0                 0                    0  000361105   \n2                       0                 0                    0  000361105   \n3                       0                 0                    0  000361105   \n4                       0                 0                    0  000361105   \n...                   ...               ...                  ...        ...   \n2390467                 0                 0                    0  48581R205   \n2390468                 0                 0                    0  48581R205   \n2390469                 0                 0                    0  48581R205   \n2390470                 0                 0                    0  48581R205   \n2390471                 0                 0                    0  48581R205   \n\n              SICS Codified Industry   ...       smb       hml        rf  \\\n0        Industrial Machinery & Goods  ...  0.000009 -0.000068  0.000044   \n1        Industrial Machinery & Goods  ...  0.000123 -0.000008  0.000038   \n2        Industrial Machinery & Goods  ...  0.000009 -0.000088  0.000043   \n3        Industrial Machinery & Goods  ... -0.000221 -0.000144  0.000044   \n4        Industrial Machinery & Goods  ...  0.000016 -0.000059  0.000041   \n...                               ...  ...       ...       ...       ...   \n2390467              Consumer Finance  ... -0.000314 -0.000115  0.000045   \n2390468              Consumer Finance  ... -0.000251  0.000149  0.000043   \n2390469              Consumer Finance  ... -0.000386  0.000020  0.000047   \n2390470              Consumer Finance  ... -0.000010  0.000167  0.000044   \n2390471              Consumer Finance  ...  0.000630  0.000489  0.000043   \n\n              umd  YearQuarter  YearQuarter_prior      size     roa_q  \\\n0        0.000017       2007Q1             2006Q4  6.889099  0.013968   \n1       -0.000129       2007Q1             2006Q4  6.889099  0.013968   \n2        0.000258       2007Q1             2006Q4  6.889099  0.013968   \n3       -0.000016       2007Q2             2007Q1  6.987112  0.015352   \n4       -0.000033       2007Q2             2007Q1  6.987112  0.015352   \n...           ...          ...                ...       ...       ...   \n2390467  0.000378       2023Q3             2023Q2       NaN       NaN   \n2390468  0.000033       2023Q3             2023Q2       NaN       NaN   \n2390469  0.000167       2023Q4             2023Q3  9.846527  0.034406   \n2390470  0.000256       2023Q4             2023Q3  9.846527  0.034406   \n2390471 -0.000553       2023Q4             2023Q3  9.846527  0.034406   \n\n            lev_q      bm_q  \n0        0.549214  0.495846  \n1        0.549214  0.495846  \n2        0.549214  0.495846  \n3        0.535340  0.468633  \n4        0.535340  0.468633  \n...           ...       ...  \n2390467       NaN       NaN  \n2390468       NaN       NaN  \n2390469  0.833953       NaN  \n2390470  0.833953       NaN  \n2390471  0.833953       NaN  \n\n[2390472 rows x 29 columns]",
      "text/html": "<div>\n<style scoped>\n    .dataframe tbody tr th:only-of-type {\n        vertical-align: middle;\n    }\n\n    .dataframe tbody tr th {\n        vertical-align: top;\n    }\n\n    .dataframe thead th {\n        text-align: right;\n    }\n</style>\n<table border=\"1\" class=\"dataframe\">\n  <thead>\n    <tr style=\"text-align: right;\">\n      <th></th>\n      <th>gvkey</th>\n      <th>YearMonth</th>\n      <th>n_material</th>\n      <th>n_nonmaterial</th>\n      <th>n_car_1_material</th>\n      <th>n_car_5_material</th>\n      <th>n_reach_material</th>\n      <th>n_severity_material</th>\n      <th>cusip</th>\n      <th>SICS Codified Industry</th>\n      <th>...</th>\n      <th>smb</th>\n      <th>hml</th>\n      <th>rf</th>\n      <th>umd</th>\n      <th>YearQuarter</th>\n      <th>YearQuarter_prior</th>\n      <th>size</th>\n      <th>roa_q</th>\n      <th>lev_q</th>\n      <th>bm_q</th>\n    </tr>\n  </thead>\n  <tbody>\n    <tr>\n      <th>0</th>\n      <td>1004.0</td>\n      <td>2007-01-01</td>\n      <td>0</td>\n      <td>0</td>\n      <td>0</td>\n      <td>0</td>\n      <td>0</td>\n      <td>0</td>\n      <td>000361105</td>\n      <td>Industrial Machinery &amp; Goods</td>\n      <td>...</td>\n      <td>0.000009</td>\n      <td>-0.000068</td>\n      <td>0.000044</td>\n      <td>0.000017</td>\n      <td>2007Q1</td>\n      <td>2006Q4</td>\n      <td>6.889099</td>\n      <td>0.013968</td>\n      <td>0.549214</td>\n      <td>0.495846</td>\n    </tr>\n    <tr>\n      <th>1</th>\n      <td>1004.0</td>\n      <td>2007-02-01</td>\n      <td>0</td>\n      <td>0</td>\n      <td>0</td>\n      <td>0</td>\n      <td>0</td>\n      <td>0</td>\n      <td>000361105</td>\n      <td>Industrial Machinery &amp; Goods</td>\n      <td>...</td>\n      <td>0.000123</td>\n      <td>-0.000008</td>\n      <td>0.000038</td>\n      <td>-0.000129</td>\n      <td>2007Q1</td>\n      <td>2006Q4</td>\n      <td>6.889099</td>\n      <td>0.013968</td>\n      <td>0.549214</td>\n      <td>0.495846</td>\n    </tr>\n    <tr>\n      <th>2</th>\n      <td>1004.0</td>\n      <td>2007-03-01</td>\n      <td>0</td>\n      <td>0</td>\n      <td>0</td>\n      <td>0</td>\n      <td>0</td>\n      <td>0</td>\n      <td>000361105</td>\n      <td>Industrial Machinery &amp; Goods</td>\n      <td>...</td>\n      <td>0.000009</td>\n      <td>-0.000088</td>\n      <td>0.000043</td>\n      <td>0.000258</td>\n      <td>2007Q1</td>\n      <td>2006Q4</td>\n      <td>6.889099</td>\n      <td>0.013968</td>\n      <td>0.549214</td>\n      <td>0.495846</td>\n    </tr>\n    <tr>\n      <th>3</th>\n      <td>1004.0</td>\n      <td>2007-04-01</td>\n      <td>0</td>\n      <td>0</td>\n      <td>0</td>\n      <td>0</td>\n      <td>0</td>\n      <td>0</td>\n      <td>000361105</td>\n      <td>Industrial Machinery &amp; Goods</td>\n      <td>...</td>\n      <td>-0.000221</td>\n      <td>-0.000144</td>\n      <td>0.000044</td>\n      <td>-0.000016</td>\n      <td>2007Q2</td>\n      <td>2007Q1</td>\n      <td>6.987112</td>\n      <td>0.015352</td>\n      <td>0.535340</td>\n      <td>0.468633</td>\n    </tr>\n    <tr>\n      <th>4</th>\n      <td>1004.0</td>\n      <td>2007-05-01</td>\n      <td>0</td>\n      <td>0</td>\n      <td>0</td>\n      <td>0</td>\n      <td>0</td>\n      <td>0</td>\n      <td>000361105</td>\n      <td>Industrial Machinery &amp; Goods</td>\n      <td>...</td>\n      <td>0.000016</td>\n      <td>-0.000059</td>\n      <td>0.000041</td>\n      <td>-0.000033</td>\n      <td>2007Q2</td>\n      <td>2007Q1</td>\n      <td>6.987112</td>\n      <td>0.015352</td>\n      <td>0.535340</td>\n      <td>0.468633</td>\n    </tr>\n    <tr>\n      <th>...</th>\n      <td>...</td>\n      <td>...</td>\n      <td>...</td>\n      <td>...</td>\n      <td>...</td>\n      <td>...</td>\n      <td>...</td>\n      <td>...</td>\n      <td>...</td>\n      <td>...</td>\n      <td>...</td>\n      <td>...</td>\n      <td>...</td>\n      <td>...</td>\n      <td>...</td>\n      <td>...</td>\n      <td>...</td>\n      <td>...</td>\n      <td>...</td>\n      <td>...</td>\n      <td>...</td>\n    </tr>\n    <tr>\n      <th>2390467</th>\n      <td>356128.0</td>\n      <td>2023-08-01</td>\n      <td>0</td>\n      <td>0</td>\n      <td>0</td>\n      <td>0</td>\n      <td>0</td>\n      <td>0</td>\n      <td>48581R205</td>\n      <td>Consumer Finance</td>\n      <td>...</td>\n      <td>-0.000314</td>\n      <td>-0.000115</td>\n      <td>0.000045</td>\n      <td>0.000378</td>\n      <td>2023Q3</td>\n      <td>2023Q2</td>\n      <td>NaN</td>\n      <td>NaN</td>\n      <td>NaN</td>\n      <td>NaN</td>\n    </tr>\n    <tr>\n      <th>2390468</th>\n      <td>356128.0</td>\n      <td>2023-09-01</td>\n      <td>0</td>\n      <td>0</td>\n      <td>0</td>\n      <td>0</td>\n      <td>0</td>\n      <td>0</td>\n      <td>48581R205</td>\n      <td>Consumer Finance</td>\n      <td>...</td>\n      <td>-0.000251</td>\n      <td>0.000149</td>\n      <td>0.000043</td>\n      <td>0.000033</td>\n      <td>2023Q3</td>\n      <td>2023Q2</td>\n      <td>NaN</td>\n      <td>NaN</td>\n      <td>NaN</td>\n      <td>NaN</td>\n    </tr>\n    <tr>\n      <th>2390469</th>\n      <td>356128.0</td>\n      <td>2023-10-01</td>\n      <td>0</td>\n      <td>0</td>\n      <td>0</td>\n      <td>0</td>\n      <td>0</td>\n      <td>0</td>\n      <td>48581R205</td>\n      <td>Consumer Finance</td>\n      <td>...</td>\n      <td>-0.000386</td>\n      <td>0.000020</td>\n      <td>0.000047</td>\n      <td>0.000167</td>\n      <td>2023Q4</td>\n      <td>2023Q3</td>\n      <td>9.846527</td>\n      <td>0.034406</td>\n      <td>0.833953</td>\n      <td>NaN</td>\n    </tr>\n    <tr>\n      <th>2390470</th>\n      <td>356128.0</td>\n      <td>2023-11-01</td>\n      <td>0</td>\n      <td>0</td>\n      <td>0</td>\n      <td>0</td>\n      <td>0</td>\n      <td>0</td>\n      <td>48581R205</td>\n      <td>Consumer Finance</td>\n      <td>...</td>\n      <td>-0.000010</td>\n      <td>0.000167</td>\n      <td>0.000044</td>\n      <td>0.000256</td>\n      <td>2023Q4</td>\n      <td>2023Q3</td>\n      <td>9.846527</td>\n      <td>0.034406</td>\n      <td>0.833953</td>\n      <td>NaN</td>\n    </tr>\n    <tr>\n      <th>2390471</th>\n      <td>356128.0</td>\n      <td>2023-12-01</td>\n      <td>0</td>\n      <td>0</td>\n      <td>0</td>\n      <td>0</td>\n      <td>0</td>\n      <td>0</td>\n      <td>48581R205</td>\n      <td>Consumer Finance</td>\n      <td>...</td>\n      <td>0.000630</td>\n      <td>0.000489</td>\n      <td>0.000043</td>\n      <td>-0.000553</td>\n      <td>2023Q4</td>\n      <td>2023Q3</td>\n      <td>9.846527</td>\n      <td>0.034406</td>\n      <td>0.833953</td>\n      <td>NaN</td>\n    </tr>\n  </tbody>\n</table>\n<p>2390472 rows × 29 columns</p>\n</div>"
     },
     "execution_count": 52,
     "metadata": {},
     "output_type": "execute_result"
    }
   ],
   "source": [
    "reprisk_with_metrics = add_quarterly_metrics(db, reprisk_merged_yearly)\n",
    "reprisk_with_metrics"
   ],
   "metadata": {
    "collapsed": false,
    "ExecuteTime": {
     "end_time": "2025-10-18T16:51:37.183978800Z",
     "start_time": "2025-10-18T16:49:52.144546300Z"
    }
   }
  },
  {
   "cell_type": "code",
   "execution_count": 53,
   "outputs": [
    {
     "data": {
      "text/plain": "gvkey                                 0\nYearMonth                             0\nn_material                            0\nn_nonmaterial                         0\nn_car_1_material                      0\nn_car_5_material                      0\nn_reach_material                      0\nn_severity_material                   0\ncusip                                 0\nSICS Codified Industry                0\nCodified SICS Sector                  0\nyear                                  0\nindustry_n_material                   0\nindustry_n_car_1_material             0\nindustry_n_car_5_material             0\nindustry_n_reach_material             0\nindustry_n_severity_material          0\ndate                                  0\nmktrf                                 0\nsmb                                   0\nhml                                   0\nrf                                    0\numd                                   0\nYearQuarter                           0\nYearQuarter_prior                     0\nsize                            1397655\nroa_q                           1382346\nlev_q                           1381434\nbm_q                            1602867\ndtype: int64"
     },
     "execution_count": 53,
     "metadata": {},
     "output_type": "execute_result"
    }
   ],
   "source": [
    "reprisk_with_metrics.isna().sum()"
   ],
   "metadata": {
    "collapsed": false,
    "ExecuteTime": {
     "end_time": "2025-10-18T16:51:38.163959800Z",
     "start_time": "2025-10-18T16:51:37.207666800Z"
    }
   }
  },
  {
   "cell_type": "code",
   "execution_count": 821,
   "outputs": [],
   "source": [
    "# ---------- 4) R&D intensity ----------\n",
    "\n",
    "def get_rd_intensity(db, reprisk_merged_yearly):\n",
    "    \"\"\"\n",
    "    R&D intensity = xrd / sale using year-1 values.\n",
    "    \"\"\"\n",
    "    keys = _keys(reprisk_merged_yearly)\n",
    "    if keys.empty:\n",
    "        return pd.DataFrame(columns=['gvkey','year','rd_intensity'])\n",
    "    comp = _pull_compustat(db, keys)\n",
    "\n",
    "    fy1 = (comp.assign(year=lambda d: d['calyear'] + 1)\n",
    "                .sort_values(['gvkey','year','datadate'])\n",
    "                .drop_duplicates(['gvkey','year'], keep='last')\n",
    "                [['gvkey','year','xrd','sale']])\n",
    "\n",
    "    sale_pos = fy1['sale'].where(fy1['sale'] > 0, np.nan)\n",
    "    out = fy1[['gvkey','year']].copy()\n",
    "    out['rd_intensity'] = fy1['xrd'] / sale_pos\n",
    "    return keys.merge(out, on=['gvkey','year'], how='left')"
   ],
   "metadata": {
    "collapsed": false,
    "ExecuteTime": {
     "end_time": "2025-10-14T13:27:15.688901700Z",
     "start_time": "2025-10-14T13:27:15.639844500Z"
    }
   }
  },
  {
   "cell_type": "code",
   "execution_count": 822,
   "outputs": [
    {
     "data": {
      "text/plain": "gvkey           273598\nyear            273598\nrd_intensity     22968\ndtype: int64"
     },
     "execution_count": 822,
     "metadata": {},
     "output_type": "execute_result"
    }
   ],
   "source": [
    "rd_df = get_rd_intensity(db, keys_df)\n",
    "rd_df.notna().sum()"
   ],
   "metadata": {
    "collapsed": false,
    "ExecuteTime": {
     "end_time": "2025-10-14T13:27:25.440209900Z",
     "start_time": "2025-10-14T13:27:15.653869500Z"
    }
   }
  },
  {
   "cell_type": "code",
   "execution_count": 823,
   "outputs": [],
   "source": [
    "# ---------- 5) Advertising intensity ----------\n",
    "\n",
    "def get_ad_intensity(db, reprisk_merged_yearly):\n",
    "    \"\"\"\n",
    "    Advertising intensity = xad / sale using year-1 values.\n",
    "    \"\"\"\n",
    "    keys = _keys(reprisk_merged_yearly)\n",
    "    if keys.empty:\n",
    "        return pd.DataFrame(columns=['gvkey','year','ad_intensity'])\n",
    "    comp = _pull_compustat(db, keys)\n",
    "\n",
    "    fy1 = (comp.assign(year=lambda d: d['calyear'] + 1)\n",
    "                .sort_values(['gvkey','year','datadate'])\n",
    "                .drop_duplicates(['gvkey','year'], keep='last')\n",
    "                [['gvkey','year','xad','sale']])\n",
    "\n",
    "    sale_pos = fy1['sale'].where(fy1['sale'] > 0, np.nan)\n",
    "    out = fy1[['gvkey','year']].copy()\n",
    "    out['ad_intensity'] = fy1['xad'] / sale_pos\n",
    "    return keys.merge(out, on=['gvkey','year'], how='left')"
   ],
   "metadata": {
    "collapsed": false,
    "ExecuteTime": {
     "end_time": "2025-10-14T13:27:25.441211600Z",
     "start_time": "2025-10-14T13:27:25.402671800Z"
    }
   }
  },
  {
   "cell_type": "code",
   "execution_count": 824,
   "outputs": [
    {
     "data": {
      "text/plain": "gvkey           273598\nyear            273598\nad_intensity     19305\ndtype: int64"
     },
     "execution_count": 824,
     "metadata": {},
     "output_type": "execute_result"
    }
   ],
   "source": [
    "ad_df = get_ad_intensity(db, keys_df)\n",
    "ad_df.notna().sum()"
   ],
   "metadata": {
    "collapsed": false,
    "ExecuteTime": {
     "end_time": "2025-10-14T13:27:35.460108600Z",
     "start_time": "2025-10-14T13:27:25.412184600Z"
    }
   }
  },
  {
   "cell_type": "code",
   "execution_count": 152,
   "outputs": [
    {
     "name": "stdout",
     "output_type": "stream",
     "text": [
      "Distinct firms (total): 27108\n",
      "   year  n_firms\n",
      "0  2007    11529\n",
      "1  2008    11376\n",
      "2  2009    11255\n",
      "3  2010    11368\n",
      "4  2011    11680\n",
      "       yq  n_firms\n",
      "0  2007Q1    11156\n",
      "1  2007Q2    11085\n",
      "2  2007Q3    10996\n",
      "3  2007Q4    10798\n",
      "4  2008Q1    11072\n"
     ]
    }
   ],
   "source": [
    "import pandas as pd\n",
    "\n",
    "def pull_compustat_quarterly_min(db, start=\"1990-01-01\", end=\"2025-12-31\"):\n",
    "    sql = f\"\"\"\n",
    "        SELECT\n",
    "            gvkey,\n",
    "            datadate::date AS datadate\n",
    "        FROM comp.fundq\n",
    "        WHERE datadate BETWEEN DATE '{start}' AND DATE '{end}'\n",
    "          AND indfmt = 'INDL'\n",
    "          AND datafmt = 'STD'\n",
    "          AND popsrc = 'D'\n",
    "          AND consol = 'C'\n",
    "    \"\"\"\n",
    "    return db.raw_sql(sql, date_cols=['datadate']).sort_values(['gvkey','datadate']).reset_index(drop=True)\n",
    "\n",
    "# Example pull\n",
    "df_min = pull_compustat_quarterly_min(db, start=\"2007-01-01\", end=\"2025-12-31\")\n",
    "\n",
    "# --- coverage stats ---\n",
    "# total distinct firms\n",
    "n_firms_total = df_min['gvkey'].nunique()\n",
    "\n",
    "# by calendar year\n",
    "firms_by_year = (\n",
    "    df_min.assign(year=df_min['datadate'].dt.year)\n",
    "          .groupby('year')['gvkey'].nunique()\n",
    "          .rename('n_firms')\n",
    "          .reset_index()\n",
    ")\n",
    "\n",
    "# by calendar quarter\n",
    "firms_by_quarter = (\n",
    "    df_min.assign(yq=df_min['datadate'].dt.to_period('Q'))\n",
    "          .groupby('yq')['gvkey'].nunique()\n",
    "          .rename('n_firms')\n",
    "          .reset_index()\n",
    ")\n",
    "\n",
    "print(\"Distinct firms (total):\", n_firms_total)\n",
    "print(firms_by_year.head())\n",
    "print(firms_by_quarter.head())\n"
   ],
   "metadata": {
    "collapsed": false,
    "ExecuteTime": {
     "end_time": "2025-10-20T15:09:06.702204500Z",
     "start_time": "2025-10-20T15:08:44.330320700Z"
    }
   }
  },
  {
   "cell_type": "code",
   "execution_count": 129,
   "outputs": [
    {
     "data": {
      "text/plain": "         gvkey   datadate  fyearq  fqtr  fyr curcdq   tic      cusip  \\\n0       001004 2007-02-28    2006     3    5    USD   AIR  000361105   \n1       001004 2007-05-31    2006     4    5    USD   AIR  000361105   \n2       001004 2007-08-31    2007     1    5    USD   AIR  000361105   \n3       001004 2007-11-30    2007     2    5    USD   AIR  000361105   \n4       001004 2008-02-29    2007     3    5    USD   AIR  000361105   \n...        ...        ...     ...   ...  ...    ...   ...        ...   \n868911  366911 2024-06-30    2024     2   12    USD  AMRZ  H2927K103   \n868912  366911 2024-09-30    2024     3   12    USD  AMRZ  H2927K103   \n868913  366911 2024-12-31    2024     4   12    USD  AMRZ  H2927K103   \n868914  366911 2025-03-31    2025     1   12    USD  AMRZ  H2927K103   \n868915  366911 2025-06-30    2025     2   12    USD  AMRZ  H2927K103   \n\n               cik  prccq  ...       atq      ltq     seqq     ceqq  pstkq  \\\n0       0000001750  29.08  ...  1010.849  541.148  469.701  469.701    0.0   \n1       0000001750   32.5  ...  1067.633   573.39  494.243  494.243    0.0   \n2       0000001750   31.4  ...  1076.976  567.596   509.38   509.38    0.0   \n3       0000001750  33.02  ...   1137.29  606.963  530.327  530.327    0.0   \n4       0000001750  25.89  ...  1333.454  768.958  564.496  564.496    0.0   \n...            ...    ...  ...       ...      ...      ...      ...    ...   \n868911  0002035989   <NA>  ...      <NA>     <NA>     <NA>     <NA>   <NA>   \n868912  0002035989   <NA>  ...      <NA>     <NA>     <NA>     <NA>   <NA>   \n868913  0002035989   <NA>  ...   23805.0  13891.0   9915.0   9915.0    0.0   \n868914  0002035989   <NA>  ...   23194.0  13444.0   9750.0   9750.0    0.0   \n868915  0002035989  49.55  ...   23782.0  11349.0  12434.0  12434.0    0.0   \n\n        txditcq     roa_q     lev_q     be_q      bm_q  \n0        37.637  0.015352   0.53534  507.338  0.468633  \n1        40.121  0.016595  0.537067  534.364  0.435791  \n2        40.471  0.014165  0.527028  549.851   0.46434  \n3        41.573  0.015729  0.533692    571.9  0.459131  \n4        19.426  0.015212  0.576666  583.922  0.582218  \n...         ...       ...       ...      ...       ...  \n868911     <NA>      <NA>      <NA>     <NA>      <NA>  \n868912     <NA>      <NA>      <NA>     <NA>      <NA>  \n868913    936.0  0.035455  0.583533  10851.0      <NA>  \n868914    937.0 -0.003751  0.579633  10687.0      <NA>  \n868915    928.0  0.018039   0.47721  13362.0  0.487571  \n\n[868916 rows x 23 columns]",
      "text/html": "<div>\n<style scoped>\n    .dataframe tbody tr th:only-of-type {\n        vertical-align: middle;\n    }\n\n    .dataframe tbody tr th {\n        vertical-align: top;\n    }\n\n    .dataframe thead th {\n        text-align: right;\n    }\n</style>\n<table border=\"1\" class=\"dataframe\">\n  <thead>\n    <tr style=\"text-align: right;\">\n      <th></th>\n      <th>gvkey</th>\n      <th>datadate</th>\n      <th>fyearq</th>\n      <th>fqtr</th>\n      <th>fyr</th>\n      <th>curcdq</th>\n      <th>tic</th>\n      <th>cusip</th>\n      <th>cik</th>\n      <th>prccq</th>\n      <th>...</th>\n      <th>atq</th>\n      <th>ltq</th>\n      <th>seqq</th>\n      <th>ceqq</th>\n      <th>pstkq</th>\n      <th>txditcq</th>\n      <th>roa_q</th>\n      <th>lev_q</th>\n      <th>be_q</th>\n      <th>bm_q</th>\n    </tr>\n  </thead>\n  <tbody>\n    <tr>\n      <th>0</th>\n      <td>001004</td>\n      <td>2007-02-28</td>\n      <td>2006</td>\n      <td>3</td>\n      <td>5</td>\n      <td>USD</td>\n      <td>AIR</td>\n      <td>000361105</td>\n      <td>0000001750</td>\n      <td>29.08</td>\n      <td>...</td>\n      <td>1010.849</td>\n      <td>541.148</td>\n      <td>469.701</td>\n      <td>469.701</td>\n      <td>0.0</td>\n      <td>37.637</td>\n      <td>0.015352</td>\n      <td>0.53534</td>\n      <td>507.338</td>\n      <td>0.468633</td>\n    </tr>\n    <tr>\n      <th>1</th>\n      <td>001004</td>\n      <td>2007-05-31</td>\n      <td>2006</td>\n      <td>4</td>\n      <td>5</td>\n      <td>USD</td>\n      <td>AIR</td>\n      <td>000361105</td>\n      <td>0000001750</td>\n      <td>32.5</td>\n      <td>...</td>\n      <td>1067.633</td>\n      <td>573.39</td>\n      <td>494.243</td>\n      <td>494.243</td>\n      <td>0.0</td>\n      <td>40.121</td>\n      <td>0.016595</td>\n      <td>0.537067</td>\n      <td>534.364</td>\n      <td>0.435791</td>\n    </tr>\n    <tr>\n      <th>2</th>\n      <td>001004</td>\n      <td>2007-08-31</td>\n      <td>2007</td>\n      <td>1</td>\n      <td>5</td>\n      <td>USD</td>\n      <td>AIR</td>\n      <td>000361105</td>\n      <td>0000001750</td>\n      <td>31.4</td>\n      <td>...</td>\n      <td>1076.976</td>\n      <td>567.596</td>\n      <td>509.38</td>\n      <td>509.38</td>\n      <td>0.0</td>\n      <td>40.471</td>\n      <td>0.014165</td>\n      <td>0.527028</td>\n      <td>549.851</td>\n      <td>0.46434</td>\n    </tr>\n    <tr>\n      <th>3</th>\n      <td>001004</td>\n      <td>2007-11-30</td>\n      <td>2007</td>\n      <td>2</td>\n      <td>5</td>\n      <td>USD</td>\n      <td>AIR</td>\n      <td>000361105</td>\n      <td>0000001750</td>\n      <td>33.02</td>\n      <td>...</td>\n      <td>1137.29</td>\n      <td>606.963</td>\n      <td>530.327</td>\n      <td>530.327</td>\n      <td>0.0</td>\n      <td>41.573</td>\n      <td>0.015729</td>\n      <td>0.533692</td>\n      <td>571.9</td>\n      <td>0.459131</td>\n    </tr>\n    <tr>\n      <th>4</th>\n      <td>001004</td>\n      <td>2008-02-29</td>\n      <td>2007</td>\n      <td>3</td>\n      <td>5</td>\n      <td>USD</td>\n      <td>AIR</td>\n      <td>000361105</td>\n      <td>0000001750</td>\n      <td>25.89</td>\n      <td>...</td>\n      <td>1333.454</td>\n      <td>768.958</td>\n      <td>564.496</td>\n      <td>564.496</td>\n      <td>0.0</td>\n      <td>19.426</td>\n      <td>0.015212</td>\n      <td>0.576666</td>\n      <td>583.922</td>\n      <td>0.582218</td>\n    </tr>\n    <tr>\n      <th>...</th>\n      <td>...</td>\n      <td>...</td>\n      <td>...</td>\n      <td>...</td>\n      <td>...</td>\n      <td>...</td>\n      <td>...</td>\n      <td>...</td>\n      <td>...</td>\n      <td>...</td>\n      <td>...</td>\n      <td>...</td>\n      <td>...</td>\n      <td>...</td>\n      <td>...</td>\n      <td>...</td>\n      <td>...</td>\n      <td>...</td>\n      <td>...</td>\n      <td>...</td>\n      <td>...</td>\n    </tr>\n    <tr>\n      <th>868911</th>\n      <td>366911</td>\n      <td>2024-06-30</td>\n      <td>2024</td>\n      <td>2</td>\n      <td>12</td>\n      <td>USD</td>\n      <td>AMRZ</td>\n      <td>H2927K103</td>\n      <td>0002035989</td>\n      <td>&lt;NA&gt;</td>\n      <td>...</td>\n      <td>&lt;NA&gt;</td>\n      <td>&lt;NA&gt;</td>\n      <td>&lt;NA&gt;</td>\n      <td>&lt;NA&gt;</td>\n      <td>&lt;NA&gt;</td>\n      <td>&lt;NA&gt;</td>\n      <td>&lt;NA&gt;</td>\n      <td>&lt;NA&gt;</td>\n      <td>&lt;NA&gt;</td>\n      <td>&lt;NA&gt;</td>\n    </tr>\n    <tr>\n      <th>868912</th>\n      <td>366911</td>\n      <td>2024-09-30</td>\n      <td>2024</td>\n      <td>3</td>\n      <td>12</td>\n      <td>USD</td>\n      <td>AMRZ</td>\n      <td>H2927K103</td>\n      <td>0002035989</td>\n      <td>&lt;NA&gt;</td>\n      <td>...</td>\n      <td>&lt;NA&gt;</td>\n      <td>&lt;NA&gt;</td>\n      <td>&lt;NA&gt;</td>\n      <td>&lt;NA&gt;</td>\n      <td>&lt;NA&gt;</td>\n      <td>&lt;NA&gt;</td>\n      <td>&lt;NA&gt;</td>\n      <td>&lt;NA&gt;</td>\n      <td>&lt;NA&gt;</td>\n      <td>&lt;NA&gt;</td>\n    </tr>\n    <tr>\n      <th>868913</th>\n      <td>366911</td>\n      <td>2024-12-31</td>\n      <td>2024</td>\n      <td>4</td>\n      <td>12</td>\n      <td>USD</td>\n      <td>AMRZ</td>\n      <td>H2927K103</td>\n      <td>0002035989</td>\n      <td>&lt;NA&gt;</td>\n      <td>...</td>\n      <td>23805.0</td>\n      <td>13891.0</td>\n      <td>9915.0</td>\n      <td>9915.0</td>\n      <td>0.0</td>\n      <td>936.0</td>\n      <td>0.035455</td>\n      <td>0.583533</td>\n      <td>10851.0</td>\n      <td>&lt;NA&gt;</td>\n    </tr>\n    <tr>\n      <th>868914</th>\n      <td>366911</td>\n      <td>2025-03-31</td>\n      <td>2025</td>\n      <td>1</td>\n      <td>12</td>\n      <td>USD</td>\n      <td>AMRZ</td>\n      <td>H2927K103</td>\n      <td>0002035989</td>\n      <td>&lt;NA&gt;</td>\n      <td>...</td>\n      <td>23194.0</td>\n      <td>13444.0</td>\n      <td>9750.0</td>\n      <td>9750.0</td>\n      <td>0.0</td>\n      <td>937.0</td>\n      <td>-0.003751</td>\n      <td>0.579633</td>\n      <td>10687.0</td>\n      <td>&lt;NA&gt;</td>\n    </tr>\n    <tr>\n      <th>868915</th>\n      <td>366911</td>\n      <td>2025-06-30</td>\n      <td>2025</td>\n      <td>2</td>\n      <td>12</td>\n      <td>USD</td>\n      <td>AMRZ</td>\n      <td>H2927K103</td>\n      <td>0002035989</td>\n      <td>49.55</td>\n      <td>...</td>\n      <td>23782.0</td>\n      <td>11349.0</td>\n      <td>12434.0</td>\n      <td>12434.0</td>\n      <td>0.0</td>\n      <td>928.0</td>\n      <td>0.018039</td>\n      <td>0.47721</td>\n      <td>13362.0</td>\n      <td>0.487571</td>\n    </tr>\n  </tbody>\n</table>\n<p>868916 rows × 23 columns</p>\n</div>"
     },
     "execution_count": 129,
     "metadata": {},
     "output_type": "execute_result"
    }
   ],
   "source": [
    "def pull_compustat_quarterly(db, start=\"1990-01-01\", end=\"2025-12-31\"):\n",
    "    sql = f\"\"\"\n",
    "        SELECT\n",
    "            gvkey,\n",
    "            datadate::date,\n",
    "            fyearq, fqtr, fyr,\n",
    "            indfmt, datafmt, popsrc, consol,\n",
    "            curcdq, tic, cusip, cik,\n",
    "\n",
    "            -- raw variables\n",
    "            prccq,      -- price (quarter-end)\n",
    "            cshoq,      -- common shares outstanding (millions)\n",
    "            ibq,        -- income before extraordinary items (quarter)\n",
    "            atq,        -- total assets (quarter)\n",
    "            ltq,        -- total liabilities (quarter)\n",
    "            seqq,       -- stockholders' equity (quarter)\n",
    "            ceqq,       -- common equity (quarter)\n",
    "            pstkq,      -- preferred stock (quarter)\n",
    "            txditcq    -- deferred taxes & ITC (quarter)\n",
    "        FROM comp.fundq\n",
    "        WHERE datadate BETWEEN DATE '{start}' AND DATE '{end}'\n",
    "          AND indfmt = 'INDL'\n",
    "          AND datafmt = 'STD'\n",
    "          AND popsrc = 'D'\n",
    "          AND consol = 'C'\n",
    "    \"\"\"\n",
    "\n",
    "    df = db.raw_sql(sql, date_cols=['datadate'])\n",
    "\n",
    "    # numeric helpers\n",
    "    prccq = pd.to_numeric(df['prccq'], errors='coerce')\n",
    "    cshoq = pd.to_numeric(df['cshoq'], errors='coerce')  # in millions\n",
    "    ibq   = pd.to_numeric(df['ibq'],   errors='coerce')\n",
    "    atq   = pd.to_numeric(df['atq'],   errors='coerce')\n",
    "    ltq   = pd.to_numeric(df['ltq'],   errors='coerce')\n",
    "    seqq  = pd.to_numeric(df['seqq'],  errors='coerce')\n",
    "    ceqq  = pd.to_numeric(df['ceqq'],  errors='coerce')\n",
    "    pstkq = pd.to_numeric(df['pstkq'], errors='coerce')\n",
    "    txd   = pd.to_numeric(df['txditcq'], errors='coerce')\n",
    "\n",
    "    # derived metrics\n",
    "    df['mktcap'] = prccq * cshoq                     # $ * (millions of shares) -> $ millions\n",
    "    df['roa_q']  = ibq / atq\n",
    "    df['lev_q']  = ltq / atq\n",
    "\n",
    "    be_from_seqq = seqq + txd - pstkq\n",
    "    be_from_ceqq = ceqq + txd - pstkq\n",
    "    df['be_q']   = be_from_seqq.where(seqq.notna(), be_from_ceqq)\n",
    "\n",
    "    df['bm_q'] = df['be_q'] / df['mktcap']\n",
    "\n",
    "    cols = [\n",
    "        'gvkey','datadate','fyearq','fqtr','fyr','curcdq','tic','cusip','cik',\n",
    "        'prccq','cshoq','mktcap',\n",
    "        'ibq','atq','ltq','seqq','ceqq','pstkq','txditcq',\n",
    "        'roa_q','lev_q','be_q','bm_q'\n",
    "    ]\n",
    "    return df[cols].sort_values(['gvkey','datadate']).reset_index(drop=True)\n",
    "\n",
    "# Example:\n",
    "df_q = pull_compustat_quarterly(db, start=\"2007-01-01\", end=\"2025-12-31\")\n",
    "df_q"
   ],
   "metadata": {
    "collapsed": false,
    "ExecuteTime": {
     "end_time": "2025-10-20T13:20:02.979382100Z",
     "start_time": "2025-10-20T13:19:08.408676500Z"
    }
   }
  },
  {
   "cell_type": "code",
   "execution_count": 137,
   "outputs": [
    {
     "data": {
      "text/plain": "gvkey                                 0\nYearMonth                             0\nn_material                            0\nn_nonmaterial                         0\nn_car_1_material                      0\nn_car_5_material                      0\nn_reach_material                      0\nn_severity_material                   0\ncusip                                 0\nSICS Codified Industry                0\nCodified SICS Sector                  0\nyear                                  0\nindustry_n_material                   0\nindustry_n_car_1_material             0\nindustry_n_car_5_material             0\nindustry_n_reach_material             0\nindustry_n_severity_material          0\ndate                                  0\nmktrf                                 0\nsmb                                   0\nhml                                   0\nrf                                    0\numd                                   0\nYearQuarter_x                         0\nYearQuarter_prior                     0\nYearQuarter_y                   1278957\nmktcap                          1414569\nbm_q                            1616622\nlev_q                           1394271\nroa_q                           1395252\ndtype: int64"
     },
     "execution_count": 137,
     "metadata": {},
     "output_type": "execute_result"
    }
   ],
   "source": [
    "df_q['YearQuarter'] = pd.to_datetime(df_q['datadate']).dt.to_period('Q').astype(str)\n",
    "reprisk_merged_yearly['gvkey'] = pd.to_numeric(reprisk_merged_yearly['gvkey'], errors='coerce').astype('Int64')\n",
    "df_q['gvkey'] = pd.to_numeric(df_q['gvkey'], errors='coerce').astype('Int64')\n",
    "df_q.drop_duplicates(['gvkey','YearQuarter'], keep='last', inplace=True)\n",
    "reprisk_with_metrics = reprisk_merged_yearly.merge(df_q[['gvkey','YearQuarter','mktcap','bm_q','lev_q','roa_q']], left_on=['gvkey','YearQuarter_prior'],right_on=['gvkey', 'YearQuarter'], how='left')\n",
    "reprisk_with_metrics.isna().sum()"
   ],
   "metadata": {
    "collapsed": false,
    "ExecuteTime": {
     "end_time": "2025-10-20T13:29:16.467077100Z",
     "start_time": "2025-10-20T13:29:12.350645800Z"
    }
   }
  },
  {
   "cell_type": "code",
   "execution_count": 149,
   "outputs": [
    {
     "data": {
      "text/plain": "YearQuarter_prior\n2006Q4    11718\n2007Q1    11718\n2007Q2    11718\n2007Q3    11718\n2007Q4    11718\n          ...  \n2022Q3    11718\n2022Q4    11718\n2023Q1    11718\n2023Q2    11718\n2023Q3    11718\nName: gvkey, Length: 68, dtype: int64"
     },
     "execution_count": 149,
     "metadata": {},
     "output_type": "execute_result"
    }
   ],
   "source": [
    "reprisk_with_metrics.groupby('YearQuarter_prior')['gvkey'].nunique()"
   ],
   "metadata": {
    "collapsed": false,
    "ExecuteTime": {
     "end_time": "2025-10-20T14:56:45.713638300Z",
     "start_time": "2025-10-20T14:56:45.100502900Z"
    }
   }
  },
  {
   "cell_type": "code",
   "execution_count": 150,
   "outputs": [
    {
     "name": "stdout",
     "output_type": "stream",
     "text": [
      "9830\n"
     ]
    },
    {
     "data": {
      "text/plain": "YearQuarter_prior\n2007Q1    5566\n2007Q2    5606\n2007Q3    5514\n2007Q4    5627\n2008Q1    5468\n          ... \n2022Q3    4586\n2022Q4    4630\n2023Q1    4487\n2023Q2    4496\n2023Q3    4360\nName: gvkey, Length: 67, dtype: int64"
     },
     "execution_count": 150,
     "metadata": {},
     "output_type": "execute_result"
    }
   ],
   "source": [
    "not_na = reprisk_with_metrics.dropna(subset=['roa_q'])\n",
    "print(not_na['gvkey'].nunique())\n",
    "not_na.groupby('YearQuarter_prior')['gvkey'].nunique()"
   ],
   "metadata": {
    "collapsed": false,
    "ExecuteTime": {
     "end_time": "2025-10-20T14:57:04.061553500Z",
     "start_time": "2025-10-20T14:57:03.212465Z"
    }
   }
  },
  {
   "cell_type": "code",
   "execution_count": null,
   "outputs": [],
   "source": [],
   "metadata": {
    "collapsed": false
   }
  },
  {
   "cell_type": "code",
   "execution_count": 636,
   "outputs": [],
   "source": [
    "# ---------- Institutional Ownership ----------\n",
    "\n",
    "# Export unique cusips to txt\n",
    "reprisk_merged_yearly['cusip'].dropna().astype(str).str.replace(r'\\.0$', '', regex=True).drop_duplicates().to_csv('data/cusips.txt', index=False, header=False)"
   ],
   "metadata": {
    "collapsed": false,
    "ExecuteTime": {
     "end_time": "2025-10-07T20:14:39.811602800Z",
     "start_time": "2025-10-07T20:14:39.212538500Z"
    }
   }
  },
  {
   "cell_type": "code",
   "execution_count": 827,
   "outputs": [
    {
     "data": {
      "text/plain": "           cusip       rdate  InstOwn_Perc  year\n62148   00030710  2014-12-31  2.646183e-01  2015\n70952   00030710  2015-12-31  4.817053e-01  2016\n79872   00030710  2016-12-31  4.499213e-01  2017\n88711   00030710  2017-12-31  6.102770e-01  2018\n98929   00030710  2018-12-31  4.897175e-01  2019\n...          ...         ...           ...   ...\n104123  Y1477R20  2019-03-31  4.851384e-06  2020\n114648  Y1477R20  2020-03-31  4.481560e-05  2021\n146015  Y1477R20  2023-03-31  3.830040e-08  2024\n112048  Y1501010  2019-12-31  4.962090e-05  2020\n140828  Y1501010  2022-09-30  4.342182e-06  2023\n\n[40558 rows x 4 columns]",
      "text/html": "<div>\n<style scoped>\n    .dataframe tbody tr th:only-of-type {\n        vertical-align: middle;\n    }\n\n    .dataframe tbody tr th {\n        vertical-align: top;\n    }\n\n    .dataframe thead th {\n        text-align: right;\n    }\n</style>\n<table border=\"1\" class=\"dataframe\">\n  <thead>\n    <tr style=\"text-align: right;\">\n      <th></th>\n      <th>cusip</th>\n      <th>rdate</th>\n      <th>InstOwn_Perc</th>\n      <th>year</th>\n    </tr>\n  </thead>\n  <tbody>\n    <tr>\n      <th>62148</th>\n      <td>00030710</td>\n      <td>2014-12-31</td>\n      <td>2.646183e-01</td>\n      <td>2015</td>\n    </tr>\n    <tr>\n      <th>70952</th>\n      <td>00030710</td>\n      <td>2015-12-31</td>\n      <td>4.817053e-01</td>\n      <td>2016</td>\n    </tr>\n    <tr>\n      <th>79872</th>\n      <td>00030710</td>\n      <td>2016-12-31</td>\n      <td>4.499213e-01</td>\n      <td>2017</td>\n    </tr>\n    <tr>\n      <th>88711</th>\n      <td>00030710</td>\n      <td>2017-12-31</td>\n      <td>6.102770e-01</td>\n      <td>2018</td>\n    </tr>\n    <tr>\n      <th>98929</th>\n      <td>00030710</td>\n      <td>2018-12-31</td>\n      <td>4.897175e-01</td>\n      <td>2019</td>\n    </tr>\n    <tr>\n      <th>...</th>\n      <td>...</td>\n      <td>...</td>\n      <td>...</td>\n      <td>...</td>\n    </tr>\n    <tr>\n      <th>104123</th>\n      <td>Y1477R20</td>\n      <td>2019-03-31</td>\n      <td>4.851384e-06</td>\n      <td>2020</td>\n    </tr>\n    <tr>\n      <th>114648</th>\n      <td>Y1477R20</td>\n      <td>2020-03-31</td>\n      <td>4.481560e-05</td>\n      <td>2021</td>\n    </tr>\n    <tr>\n      <th>146015</th>\n      <td>Y1477R20</td>\n      <td>2023-03-31</td>\n      <td>3.830040e-08</td>\n      <td>2024</td>\n    </tr>\n    <tr>\n      <th>112048</th>\n      <td>Y1501010</td>\n      <td>2019-12-31</td>\n      <td>4.962090e-05</td>\n      <td>2020</td>\n    </tr>\n    <tr>\n      <th>140828</th>\n      <td>Y1501010</td>\n      <td>2022-09-30</td>\n      <td>4.342182e-06</td>\n      <td>2023</td>\n    </tr>\n  </tbody>\n</table>\n<p>40558 rows × 4 columns</p>\n</div>"
     },
     "execution_count": 827,
     "metadata": {},
     "output_type": "execute_result"
    }
   ],
   "source": [
    "ownership_df = pd.read_csv('data/inst_ownership.csv')  # Exported from LSEG Stock Ownership Tool\n",
    "ownership_df = ownership_df[['cusip', 'rdate', 'InstOwn_Perc']].sort_values(['cusip', 'rdate'])\n",
    "ownership_df['year'] = pd.to_datetime(ownership_df['rdate']).dt.year + 1\n",
    "ownership_df.drop_duplicates(['cusip', 'year'], keep='last', inplace=True)\n",
    "ownership_df"
   ],
   "metadata": {
    "collapsed": false,
    "ExecuteTime": {
     "end_time": "2025-10-14T13:27:46.335650300Z",
     "start_time": "2025-10-14T13:27:45.497030300Z"
    }
   }
  },
  {
   "cell_type": "code",
   "execution_count": 828,
   "outputs": [
    {
     "data": {
      "text/plain": "            gvkey YearMonth  n_material  n_nonmaterial  n_car_1_material  \\\n0          1004.0   2007-01           0              0                 0   \n1          1004.0   2007-02           0              0                 0   \n2          1004.0   2007-03           0              0                 0   \n3          1004.0   2007-04           0              0                 0   \n4          1004.0   2007-05           0              0                 0   \n...           ...       ...         ...            ...               ...   \n3283171  367430.0   2023-08           0              0                 0   \n3283172  367430.0   2023-09           0              0                 0   \n3283173  367430.0   2023-10           0              0                 0   \n3283174  367430.0   2023-11           0              0                 0   \n3283175  367430.0   2023-12           0              0                 0   \n\n         n_car_5_material  n_reach_material  n_severity_material     cusip  \\\n0                       0                 0                    0  00036110   \n1                       0                 0                    0  00036110   \n2                       0                 0                    0  00036110   \n3                       0                 0                    0  00036110   \n4                       0                 0                    0  00036110   \n...                   ...               ...                  ...       ...   \n3283171                 0                 0                    0       NaN   \n3283172                 0                 0                    0       NaN   \n3283173                 0                 0                    0       NaN   \n3283174                 0                 0                    0       NaN   \n3283175                 0                 0                    0       NaN   \n\n              SICS Codified Industry   ... industry_n_reach_material  \\\n0        Industrial Machinery & Goods  ...                       5.0   \n1        Industrial Machinery & Goods  ...                       7.0   \n2        Industrial Machinery & Goods  ...                       6.0   \n3        Industrial Machinery & Goods  ...                       7.0   \n4        Industrial Machinery & Goods  ...                       8.0   \n...                               ...  ...                       ...   \n3283171         Agricultural Products  ...                       5.0   \n3283172         Agricultural Products  ...                      13.0   \n3283173         Agricultural Products  ...                      10.0   \n3283174         Agricultural Products  ...                      14.0   \n3283175         Agricultural Products  ...                      12.0   \n\n         industry_n_severity_material      size       btm  leverage  \\\n0                                 5.0  6.258968  0.602174  0.570157   \n1                                 7.0  6.258968  0.602174  0.570157   \n2                                 6.0  6.258968  0.602174  0.570157   \n3                                 7.0  6.258968  0.602174  0.570157   \n4                                 9.0  6.258968  0.602174  0.570157   \n...                               ...       ...       ...       ...   \n3283171                           5.0      <NA>      <NA>      <NA>   \n3283172                          13.0      <NA>      <NA>      <NA>   \n3283173                           8.0      <NA>      <NA>      <NA>   \n3283174                          12.0      <NA>      <NA>      <NA>   \n3283175                          12.0      <NA>      <NA>      <NA>   \n\n         rd_intensity  ad_intensity       roa  rdate  InstOwn_Perc  \n0                <NA>          <NA>  0.041101    NaN           NaN  \n1                <NA>          <NA>  0.041101    NaN           NaN  \n2                <NA>          <NA>  0.041101    NaN           NaN  \n3                <NA>          <NA>  0.041101    NaN           NaN  \n4                <NA>          <NA>  0.041101    NaN           NaN  \n...               ...           ...       ...    ...           ...  \n3283171          <NA>          <NA>      <NA>    NaN           NaN  \n3283172          <NA>          <NA>      <NA>    NaN           NaN  \n3283173          <NA>          <NA>      <NA>    NaN           NaN  \n3283174          <NA>          <NA>      <NA>    NaN           NaN  \n3283175          <NA>          <NA>      <NA>    NaN           NaN  \n\n[3283176 rows x 26 columns]",
      "text/html": "<div>\n<style scoped>\n    .dataframe tbody tr th:only-of-type {\n        vertical-align: middle;\n    }\n\n    .dataframe tbody tr th {\n        vertical-align: top;\n    }\n\n    .dataframe thead th {\n        text-align: right;\n    }\n</style>\n<table border=\"1\" class=\"dataframe\">\n  <thead>\n    <tr style=\"text-align: right;\">\n      <th></th>\n      <th>gvkey</th>\n      <th>YearMonth</th>\n      <th>n_material</th>\n      <th>n_nonmaterial</th>\n      <th>n_car_1_material</th>\n      <th>n_car_5_material</th>\n      <th>n_reach_material</th>\n      <th>n_severity_material</th>\n      <th>cusip</th>\n      <th>SICS Codified Industry</th>\n      <th>...</th>\n      <th>industry_n_reach_material</th>\n      <th>industry_n_severity_material</th>\n      <th>size</th>\n      <th>btm</th>\n      <th>leverage</th>\n      <th>rd_intensity</th>\n      <th>ad_intensity</th>\n      <th>roa</th>\n      <th>rdate</th>\n      <th>InstOwn_Perc</th>\n    </tr>\n  </thead>\n  <tbody>\n    <tr>\n      <th>0</th>\n      <td>1004.0</td>\n      <td>2007-01</td>\n      <td>0</td>\n      <td>0</td>\n      <td>0</td>\n      <td>0</td>\n      <td>0</td>\n      <td>0</td>\n      <td>00036110</td>\n      <td>Industrial Machinery &amp; Goods</td>\n      <td>...</td>\n      <td>5.0</td>\n      <td>5.0</td>\n      <td>6.258968</td>\n      <td>0.602174</td>\n      <td>0.570157</td>\n      <td>&lt;NA&gt;</td>\n      <td>&lt;NA&gt;</td>\n      <td>0.041101</td>\n      <td>NaN</td>\n      <td>NaN</td>\n    </tr>\n    <tr>\n      <th>1</th>\n      <td>1004.0</td>\n      <td>2007-02</td>\n      <td>0</td>\n      <td>0</td>\n      <td>0</td>\n      <td>0</td>\n      <td>0</td>\n      <td>0</td>\n      <td>00036110</td>\n      <td>Industrial Machinery &amp; Goods</td>\n      <td>...</td>\n      <td>7.0</td>\n      <td>7.0</td>\n      <td>6.258968</td>\n      <td>0.602174</td>\n      <td>0.570157</td>\n      <td>&lt;NA&gt;</td>\n      <td>&lt;NA&gt;</td>\n      <td>0.041101</td>\n      <td>NaN</td>\n      <td>NaN</td>\n    </tr>\n    <tr>\n      <th>2</th>\n      <td>1004.0</td>\n      <td>2007-03</td>\n      <td>0</td>\n      <td>0</td>\n      <td>0</td>\n      <td>0</td>\n      <td>0</td>\n      <td>0</td>\n      <td>00036110</td>\n      <td>Industrial Machinery &amp; Goods</td>\n      <td>...</td>\n      <td>6.0</td>\n      <td>6.0</td>\n      <td>6.258968</td>\n      <td>0.602174</td>\n      <td>0.570157</td>\n      <td>&lt;NA&gt;</td>\n      <td>&lt;NA&gt;</td>\n      <td>0.041101</td>\n      <td>NaN</td>\n      <td>NaN</td>\n    </tr>\n    <tr>\n      <th>3</th>\n      <td>1004.0</td>\n      <td>2007-04</td>\n      <td>0</td>\n      <td>0</td>\n      <td>0</td>\n      <td>0</td>\n      <td>0</td>\n      <td>0</td>\n      <td>00036110</td>\n      <td>Industrial Machinery &amp; Goods</td>\n      <td>...</td>\n      <td>7.0</td>\n      <td>7.0</td>\n      <td>6.258968</td>\n      <td>0.602174</td>\n      <td>0.570157</td>\n      <td>&lt;NA&gt;</td>\n      <td>&lt;NA&gt;</td>\n      <td>0.041101</td>\n      <td>NaN</td>\n      <td>NaN</td>\n    </tr>\n    <tr>\n      <th>4</th>\n      <td>1004.0</td>\n      <td>2007-05</td>\n      <td>0</td>\n      <td>0</td>\n      <td>0</td>\n      <td>0</td>\n      <td>0</td>\n      <td>0</td>\n      <td>00036110</td>\n      <td>Industrial Machinery &amp; Goods</td>\n      <td>...</td>\n      <td>8.0</td>\n      <td>9.0</td>\n      <td>6.258968</td>\n      <td>0.602174</td>\n      <td>0.570157</td>\n      <td>&lt;NA&gt;</td>\n      <td>&lt;NA&gt;</td>\n      <td>0.041101</td>\n      <td>NaN</td>\n      <td>NaN</td>\n    </tr>\n    <tr>\n      <th>...</th>\n      <td>...</td>\n      <td>...</td>\n      <td>...</td>\n      <td>...</td>\n      <td>...</td>\n      <td>...</td>\n      <td>...</td>\n      <td>...</td>\n      <td>...</td>\n      <td>...</td>\n      <td>...</td>\n      <td>...</td>\n      <td>...</td>\n      <td>...</td>\n      <td>...</td>\n      <td>...</td>\n      <td>...</td>\n      <td>...</td>\n      <td>...</td>\n      <td>...</td>\n      <td>...</td>\n    </tr>\n    <tr>\n      <th>3283171</th>\n      <td>367430.0</td>\n      <td>2023-08</td>\n      <td>0</td>\n      <td>0</td>\n      <td>0</td>\n      <td>0</td>\n      <td>0</td>\n      <td>0</td>\n      <td>NaN</td>\n      <td>Agricultural Products</td>\n      <td>...</td>\n      <td>5.0</td>\n      <td>5.0</td>\n      <td>&lt;NA&gt;</td>\n      <td>&lt;NA&gt;</td>\n      <td>&lt;NA&gt;</td>\n      <td>&lt;NA&gt;</td>\n      <td>&lt;NA&gt;</td>\n      <td>&lt;NA&gt;</td>\n      <td>NaN</td>\n      <td>NaN</td>\n    </tr>\n    <tr>\n      <th>3283172</th>\n      <td>367430.0</td>\n      <td>2023-09</td>\n      <td>0</td>\n      <td>0</td>\n      <td>0</td>\n      <td>0</td>\n      <td>0</td>\n      <td>0</td>\n      <td>NaN</td>\n      <td>Agricultural Products</td>\n      <td>...</td>\n      <td>13.0</td>\n      <td>13.0</td>\n      <td>&lt;NA&gt;</td>\n      <td>&lt;NA&gt;</td>\n      <td>&lt;NA&gt;</td>\n      <td>&lt;NA&gt;</td>\n      <td>&lt;NA&gt;</td>\n      <td>&lt;NA&gt;</td>\n      <td>NaN</td>\n      <td>NaN</td>\n    </tr>\n    <tr>\n      <th>3283173</th>\n      <td>367430.0</td>\n      <td>2023-10</td>\n      <td>0</td>\n      <td>0</td>\n      <td>0</td>\n      <td>0</td>\n      <td>0</td>\n      <td>0</td>\n      <td>NaN</td>\n      <td>Agricultural Products</td>\n      <td>...</td>\n      <td>10.0</td>\n      <td>8.0</td>\n      <td>&lt;NA&gt;</td>\n      <td>&lt;NA&gt;</td>\n      <td>&lt;NA&gt;</td>\n      <td>&lt;NA&gt;</td>\n      <td>&lt;NA&gt;</td>\n      <td>&lt;NA&gt;</td>\n      <td>NaN</td>\n      <td>NaN</td>\n    </tr>\n    <tr>\n      <th>3283174</th>\n      <td>367430.0</td>\n      <td>2023-11</td>\n      <td>0</td>\n      <td>0</td>\n      <td>0</td>\n      <td>0</td>\n      <td>0</td>\n      <td>0</td>\n      <td>NaN</td>\n      <td>Agricultural Products</td>\n      <td>...</td>\n      <td>14.0</td>\n      <td>12.0</td>\n      <td>&lt;NA&gt;</td>\n      <td>&lt;NA&gt;</td>\n      <td>&lt;NA&gt;</td>\n      <td>&lt;NA&gt;</td>\n      <td>&lt;NA&gt;</td>\n      <td>&lt;NA&gt;</td>\n      <td>NaN</td>\n      <td>NaN</td>\n    </tr>\n    <tr>\n      <th>3283175</th>\n      <td>367430.0</td>\n      <td>2023-12</td>\n      <td>0</td>\n      <td>0</td>\n      <td>0</td>\n      <td>0</td>\n      <td>0</td>\n      <td>0</td>\n      <td>NaN</td>\n      <td>Agricultural Products</td>\n      <td>...</td>\n      <td>12.0</td>\n      <td>12.0</td>\n      <td>&lt;NA&gt;</td>\n      <td>&lt;NA&gt;</td>\n      <td>&lt;NA&gt;</td>\n      <td>&lt;NA&gt;</td>\n      <td>&lt;NA&gt;</td>\n      <td>&lt;NA&gt;</td>\n      <td>NaN</td>\n      <td>NaN</td>\n    </tr>\n  </tbody>\n</table>\n<p>3283176 rows × 26 columns</p>\n</div>"
     },
     "execution_count": 828,
     "metadata": {},
     "output_type": "execute_result"
    }
   ],
   "source": [
    "outs = [\n",
    "    size_df, btm_df, leverage_df, rd_df, ad_df, roa_df\n",
    "]\n",
    "\n",
    "df = reprisk_merged_yearly.copy()\n",
    "\n",
    "for o in outs:\n",
    "    o['year'] = pd.to_numeric(o['year'], errors='coerce').astype('Int64')\n",
    "    o['gvkey'] = pd.to_numeric(o['gvkey'], errors='coerce').astype('Int64')\n",
    "    df = df.merge(o, on=['gvkey','year'], how='left')\n",
    "\n",
    "df =df.merge(ownership_df, left_on=['cusip','year'], right_on=['cusip','year'], how='left')\n",
    "df"
   ],
   "metadata": {
    "collapsed": false,
    "ExecuteTime": {
     "end_time": "2025-10-14T13:27:59.526594100Z",
     "start_time": "2025-10-14T13:27:46.340658100Z"
    }
   }
  },
  {
   "cell_type": "code",
   "execution_count": null,
   "outputs": [],
   "source": [],
   "metadata": {
    "collapsed": false
   }
  },
  {
   "cell_type": "markdown",
   "source": [
    "# 3. Calculate Returns"
   ],
   "metadata": {
    "collapsed": false
   }
  },
  {
   "cell_type": "code",
   "execution_count": 314,
   "outputs": [
    {
     "name": "stdout",
     "output_type": "stream",
     "text": [
      "Loading library list...\n",
      "Done\n"
     ]
    }
   ],
   "source": [
    "project_root = Path(r\"E:\\GermanBusinessPanelTeam\\Schrader\\Forschung\\ESGmateriality\")\n",
    "\n",
    "# ── Load WRDS creds from wrds.env in the project root ─────────────────────────\n",
    "env_path = project_root / \"wrds.env\"\n",
    "load_dotenv(dotenv_path=env_path)\n",
    "# ── Connect to WRDS ───────────────────────────────────────────────────────────\n",
    "db = wrds.Connection(\n",
    "    wrds_username=os.getenv(\"WRDS_YALE_USERNAME\"),\n",
    "    wrds_password=os.getenv(\"WRDS_YALE_PASSWORD\")\n",
    ")"
   ],
   "metadata": {
    "collapsed": false,
    "ExecuteTime": {
     "end_time": "2025-10-21T17:05:42.884127600Z",
     "start_time": "2025-10-21T17:05:38.665147Z"
    }
   }
  },
  {
   "cell_type": "code",
   "execution_count": 96,
   "outputs": [],
   "source": [
    "# ---------- PARAMETERS ----------\n",
    "# set your window\n",
    "START = \"2005-01-01\"\n",
    "END   = \"2024-12-31\"\n",
    "from pandas.tseries.offsets import MonthEnd"
   ],
   "metadata": {
    "collapsed": false,
    "ExecuteTime": {
     "end_time": "2025-10-20T12:26:51.648644200Z",
     "start_time": "2025-10-20T12:26:51.590238100Z"
    }
   }
  },
  {
   "cell_type": "code",
   "execution_count": 97,
   "outputs": [],
   "source": [
    "\n",
    "# ---------- 1) CRSP monthly returns (common stocks) ----------\n",
    "# ret = total return; prc, shrout used for market equity; we’ll add delist return\n",
    "sql_msf = f\"\"\"\n",
    "select permno, date, ret, retx, prc, shrout\n",
    "from crsp.msf\n",
    "where date between '{START}' and '{END}'\n",
    "\"\"\"\n",
    "msf = db.raw_sql(sql_msf, date_cols=['date'])\n",
    "msf['me'] = msf['prc'].abs() * msf['shrout'] * 1000.0"
   ],
   "metadata": {
    "collapsed": false,
    "ExecuteTime": {
     "end_time": "2025-10-20T12:27:31.142492500Z",
     "start_time": "2025-10-20T12:26:51.633019Z"
    }
   }
  },
  {
   "cell_type": "code",
   "execution_count": 98,
   "outputs": [],
   "source": [
    "# ---- 2) Names table to get shrcd/exchcd as of date ----\n",
    "# Use msenames (monthly security names history). Filter to primary share classes (optional).\n",
    "sql_names = \"\"\"\n",
    "select permno, namedt, coalesce(nameendt, '9999-12-31') as nameendt, shrcd, exchcd\n",
    "from crsp.msenames\n",
    "\"\"\"\n",
    "names = db.raw_sql(sql_names, date_cols=['namedt', 'nameendt'])\n",
    "\n",
    "# Merge names onto msf by permno where date is within [namedt, nameendt]\n",
    "msf = msf.merge(names, on='permno', how='left')\n",
    "msf = msf[(msf['date'] >= msf['namedt']) & (msf['date'] <= msf['nameendt'])].copy()\n",
    "\n",
    "# Optional: keep common shares on major exchanges\n",
    "msf = msf[msf['shrcd'].isin([10, 11]) & msf['exchcd'].isin([1, 2, 3])]\n"
   ],
   "metadata": {
    "collapsed": false,
    "ExecuteTime": {
     "end_time": "2025-10-20T12:27:36.330278200Z",
     "start_time": "2025-10-20T12:27:31.142492500Z"
    }
   }
  },
  {
   "cell_type": "code",
   "execution_count": 99,
   "outputs": [],
   "source": [
    "# ---- 3) Add delisting returns and compute adjusted return ----\n",
    "sql_dl = f\"\"\"\n",
    "select permno, dlstdt as date, dlret\n",
    "from crsp.msedelist\n",
    "where dlstdt between '{START}' and '{END}'\n",
    "\"\"\"\n",
    "dl = db.raw_sql(sql_dl, date_cols=['date'])\n",
    "\n",
    "# Merge dlret onto the monthly file and build adjusted returns:\n",
    "# ret_adj = (1 + ret) * (1 + dlret) - 1  (with dlret=0 if missing)\n",
    "crsp = msf.merge(dl, on=['permno','date'], how='left')\n",
    "crsp['ret_adj'] = (1.0 + crsp['ret'].astype(float)) * (1.0 + crsp['dlret'].fillna(0).astype(float)) - 1.0\n"
   ],
   "metadata": {
    "collapsed": false,
    "ExecuteTime": {
     "end_time": "2025-10-20T12:27:37.490310100Z",
     "start_time": "2025-10-20T12:27:36.306847900Z"
    }
   }
  },
  {
   "cell_type": "code",
   "execution_count": 100,
   "outputs": [
    {
     "data": {
      "text/plain": "        permno       date   ret_adj                    me  \\\n0        10001 2005-01-31 -0.040580            17178900.0   \n4808     10001 2005-02-28 -0.045166            16428279.0   \n9621     10001 2005-03-31  0.124822            18663750.0   \n14424    10001 2005-04-29 -0.074684            17269875.0   \n19223    10001 2005-05-31  0.219030            21052500.0   \n...        ...        ...       ...                   ...   \n946608   93436 2024-08-30 -0.077391   684004370400.000122   \n950467   93436 2024-09-30  0.221942        839047410000.0   \n954312   93436 2024-10-31 -0.045025   802033523100.599976   \n958141   93436 2024-11-29  0.381469  1107984309600.000244   \n961945   93436 2024-12-31  0.170008  1296350630399.999756   \n\n                      me_lag  shrcd  exchcd  \n0                       <NA>     11       3  \n4808              17178900.0     11       3  \n9621              16428279.0     11       3  \n14424             18663750.0     11       3  \n19223             17269875.0     11       3  \n...                      ...    ...     ...  \n946608   741380136746.400024     11       3  \n950467   684004370400.000122     11       3  \n954312        839047410000.0     11       3  \n958141   802033523100.599976     11       3  \n961945  1107984309600.000244     11       3  \n\n[961946 rows x 7 columns]",
      "text/html": "<div>\n<style scoped>\n    .dataframe tbody tr th:only-of-type {\n        vertical-align: middle;\n    }\n\n    .dataframe tbody tr th {\n        vertical-align: top;\n    }\n\n    .dataframe thead th {\n        text-align: right;\n    }\n</style>\n<table border=\"1\" class=\"dataframe\">\n  <thead>\n    <tr style=\"text-align: right;\">\n      <th></th>\n      <th>permno</th>\n      <th>date</th>\n      <th>ret_adj</th>\n      <th>me</th>\n      <th>me_lag</th>\n      <th>shrcd</th>\n      <th>exchcd</th>\n    </tr>\n  </thead>\n  <tbody>\n    <tr>\n      <th>0</th>\n      <td>10001</td>\n      <td>2005-01-31</td>\n      <td>-0.040580</td>\n      <td>17178900.0</td>\n      <td>&lt;NA&gt;</td>\n      <td>11</td>\n      <td>3</td>\n    </tr>\n    <tr>\n      <th>4808</th>\n      <td>10001</td>\n      <td>2005-02-28</td>\n      <td>-0.045166</td>\n      <td>16428279.0</td>\n      <td>17178900.0</td>\n      <td>11</td>\n      <td>3</td>\n    </tr>\n    <tr>\n      <th>9621</th>\n      <td>10001</td>\n      <td>2005-03-31</td>\n      <td>0.124822</td>\n      <td>18663750.0</td>\n      <td>16428279.0</td>\n      <td>11</td>\n      <td>3</td>\n    </tr>\n    <tr>\n      <th>14424</th>\n      <td>10001</td>\n      <td>2005-04-29</td>\n      <td>-0.074684</td>\n      <td>17269875.0</td>\n      <td>18663750.0</td>\n      <td>11</td>\n      <td>3</td>\n    </tr>\n    <tr>\n      <th>19223</th>\n      <td>10001</td>\n      <td>2005-05-31</td>\n      <td>0.219030</td>\n      <td>21052500.0</td>\n      <td>17269875.0</td>\n      <td>11</td>\n      <td>3</td>\n    </tr>\n    <tr>\n      <th>...</th>\n      <td>...</td>\n      <td>...</td>\n      <td>...</td>\n      <td>...</td>\n      <td>...</td>\n      <td>...</td>\n      <td>...</td>\n    </tr>\n    <tr>\n      <th>946608</th>\n      <td>93436</td>\n      <td>2024-08-30</td>\n      <td>-0.077391</td>\n      <td>684004370400.000122</td>\n      <td>741380136746.400024</td>\n      <td>11</td>\n      <td>3</td>\n    </tr>\n    <tr>\n      <th>950467</th>\n      <td>93436</td>\n      <td>2024-09-30</td>\n      <td>0.221942</td>\n      <td>839047410000.0</td>\n      <td>684004370400.000122</td>\n      <td>11</td>\n      <td>3</td>\n    </tr>\n    <tr>\n      <th>954312</th>\n      <td>93436</td>\n      <td>2024-10-31</td>\n      <td>-0.045025</td>\n      <td>802033523100.599976</td>\n      <td>839047410000.0</td>\n      <td>11</td>\n      <td>3</td>\n    </tr>\n    <tr>\n      <th>958141</th>\n      <td>93436</td>\n      <td>2024-11-29</td>\n      <td>0.381469</td>\n      <td>1107984309600.000244</td>\n      <td>802033523100.599976</td>\n      <td>11</td>\n      <td>3</td>\n    </tr>\n    <tr>\n      <th>961945</th>\n      <td>93436</td>\n      <td>2024-12-31</td>\n      <td>0.170008</td>\n      <td>1296350630399.999756</td>\n      <td>1107984309600.000244</td>\n      <td>11</td>\n      <td>3</td>\n    </tr>\n  </tbody>\n</table>\n<p>961946 rows × 7 columns</p>\n</div>"
     },
     "execution_count": 100,
     "metadata": {},
     "output_type": "execute_result"
    }
   ],
   "source": [
    "# ---- 4) Lagged ME for VW weights (use ME at t-1 for month t) ----\n",
    "crsp = crsp.sort_values(['permno','date'])\n",
    "crsp['me_lag'] = crsp.groupby('permno')['me'].shift(1)\n",
    "\n",
    "crsp_panel = crsp[['permno','date','ret_adj','me','me_lag','shrcd','exchcd']].copy()\n",
    "crsp_panel"
   ],
   "metadata": {
    "collapsed": false,
    "ExecuteTime": {
     "end_time": "2025-10-20T12:27:37.946930100Z",
     "start_time": "2025-10-20T12:27:37.490310100Z"
    }
   }
  },
  {
   "cell_type": "code",
   "execution_count": 101,
   "outputs": [
    {
     "data": {
      "text/plain": "          date  MKT_RF     SMB     HML      RF   year  month     MOM  \\\n0   2005-01-31 -0.0275 -0.0166  0.0206  0.0016  20.05   0.01  0.0296   \n1   2005-02-28  0.0188 -0.0057  0.0141  0.0016  20.05   0.02  0.0343   \n2   2005-03-31 -0.0194 -0.0141  0.0207  0.0021  20.05   0.03  0.0043   \n3   2005-04-30 -0.0261 -0.0393  0.0005  0.0021  20.05   0.04 -0.0068   \n4   2005-05-31  0.0365  0.0286 -0.0058  0.0024  20.05   0.05  0.0037   \n..         ...     ...     ...     ...     ...    ...    ...     ...   \n235 2024-08-31   0.016 -0.0349  -0.011  0.0048  20.24   0.08  0.0481   \n236 2024-09-30  0.0172 -0.0013 -0.0277   0.004  20.24   0.09 -0.0062   \n237 2024-10-31   -0.01 -0.0099  0.0086  0.0039  20.24    0.1    0.03   \n238 2024-11-30  0.0649  0.0446  0.0015   0.004  20.24   0.11    0.01   \n239 2024-12-31 -0.0317 -0.0271   -0.03  0.0037  20.24   0.12  -0.003   \n\n         dateff  \n0    2005-01-31  \n1    2005-02-28  \n2    2005-03-31  \n3    2005-04-29  \n4    2005-05-31  \n..          ...  \n235  2024-08-30  \n236  2024-09-30  \n237  2024-10-31  \n238  2024-11-29  \n239  2024-12-31  \n\n[240 rows x 9 columns]",
      "text/html": "<div>\n<style scoped>\n    .dataframe tbody tr th:only-of-type {\n        vertical-align: middle;\n    }\n\n    .dataframe tbody tr th {\n        vertical-align: top;\n    }\n\n    .dataframe thead th {\n        text-align: right;\n    }\n</style>\n<table border=\"1\" class=\"dataframe\">\n  <thead>\n    <tr style=\"text-align: right;\">\n      <th></th>\n      <th>date</th>\n      <th>MKT_RF</th>\n      <th>SMB</th>\n      <th>HML</th>\n      <th>RF</th>\n      <th>year</th>\n      <th>month</th>\n      <th>MOM</th>\n      <th>dateff</th>\n    </tr>\n  </thead>\n  <tbody>\n    <tr>\n      <th>0</th>\n      <td>2005-01-31</td>\n      <td>-0.0275</td>\n      <td>-0.0166</td>\n      <td>0.0206</td>\n      <td>0.0016</td>\n      <td>20.05</td>\n      <td>0.01</td>\n      <td>0.0296</td>\n      <td>2005-01-31</td>\n    </tr>\n    <tr>\n      <th>1</th>\n      <td>2005-02-28</td>\n      <td>0.0188</td>\n      <td>-0.0057</td>\n      <td>0.0141</td>\n      <td>0.0016</td>\n      <td>20.05</td>\n      <td>0.02</td>\n      <td>0.0343</td>\n      <td>2005-02-28</td>\n    </tr>\n    <tr>\n      <th>2</th>\n      <td>2005-03-31</td>\n      <td>-0.0194</td>\n      <td>-0.0141</td>\n      <td>0.0207</td>\n      <td>0.0021</td>\n      <td>20.05</td>\n      <td>0.03</td>\n      <td>0.0043</td>\n      <td>2005-03-31</td>\n    </tr>\n    <tr>\n      <th>3</th>\n      <td>2005-04-30</td>\n      <td>-0.0261</td>\n      <td>-0.0393</td>\n      <td>0.0005</td>\n      <td>0.0021</td>\n      <td>20.05</td>\n      <td>0.04</td>\n      <td>-0.0068</td>\n      <td>2005-04-29</td>\n    </tr>\n    <tr>\n      <th>4</th>\n      <td>2005-05-31</td>\n      <td>0.0365</td>\n      <td>0.0286</td>\n      <td>-0.0058</td>\n      <td>0.0024</td>\n      <td>20.05</td>\n      <td>0.05</td>\n      <td>0.0037</td>\n      <td>2005-05-31</td>\n    </tr>\n    <tr>\n      <th>...</th>\n      <td>...</td>\n      <td>...</td>\n      <td>...</td>\n      <td>...</td>\n      <td>...</td>\n      <td>...</td>\n      <td>...</td>\n      <td>...</td>\n      <td>...</td>\n    </tr>\n    <tr>\n      <th>235</th>\n      <td>2024-08-31</td>\n      <td>0.016</td>\n      <td>-0.0349</td>\n      <td>-0.011</td>\n      <td>0.0048</td>\n      <td>20.24</td>\n      <td>0.08</td>\n      <td>0.0481</td>\n      <td>2024-08-30</td>\n    </tr>\n    <tr>\n      <th>236</th>\n      <td>2024-09-30</td>\n      <td>0.0172</td>\n      <td>-0.0013</td>\n      <td>-0.0277</td>\n      <td>0.004</td>\n      <td>20.24</td>\n      <td>0.09</td>\n      <td>-0.0062</td>\n      <td>2024-09-30</td>\n    </tr>\n    <tr>\n      <th>237</th>\n      <td>2024-10-31</td>\n      <td>-0.01</td>\n      <td>-0.0099</td>\n      <td>0.0086</td>\n      <td>0.0039</td>\n      <td>20.24</td>\n      <td>0.1</td>\n      <td>0.03</td>\n      <td>2024-10-31</td>\n    </tr>\n    <tr>\n      <th>238</th>\n      <td>2024-11-30</td>\n      <td>0.0649</td>\n      <td>0.0446</td>\n      <td>0.0015</td>\n      <td>0.004</td>\n      <td>20.24</td>\n      <td>0.11</td>\n      <td>0.01</td>\n      <td>2024-11-29</td>\n    </tr>\n    <tr>\n      <th>239</th>\n      <td>2024-12-31</td>\n      <td>-0.0317</td>\n      <td>-0.0271</td>\n      <td>-0.03</td>\n      <td>0.0037</td>\n      <td>20.24</td>\n      <td>0.12</td>\n      <td>-0.003</td>\n      <td>2024-12-31</td>\n    </tr>\n  </tbody>\n</table>\n<p>240 rows × 9 columns</p>\n</div>"
     },
     "execution_count": 101,
     "metadata": {},
     "output_type": "execute_result"
    }
   ],
   "source": [
    "# ---- 5) Fama–French monthly factors ----\n",
    "ff = db.raw_sql(f\"\"\"\n",
    "select *\n",
    "from ff.factors_monthly\n",
    "where date between '{START}' and '{END}'\n",
    "\"\"\", date_cols=['date'])\n",
    "\n",
    "# Convert to decimals if table is in %\n",
    "for col in ff.columns:\n",
    "    if col.lower() != 'date' and pd.api.types.is_numeric_dtype(ff[col]):\n",
    "        med = ff[col].abs().median(skipna=True)\n",
    "        if pd.notna(med) and med > 0.5:  # crude but effective\n",
    "            ff[col] = ff[col] / 100.0\n",
    "\n",
    "ff = ff.rename(columns={\n",
    "    'mktrf':'MKT_RF', 'smb':'SMB', 'hml':'HML', 'rf':'RF',\n",
    "    'rmw':'RMW' if 'rmw' in ff.columns else 'RMW',\n",
    "    'cma':'CMA' if 'cma' in ff.columns else 'CMA',\n",
    "    'umd':'MOM' if 'umd' in ff.columns else 'MOM'\n",
    "})\n",
    "ff['date'] = ff['date'] + MonthEnd(0)\n",
    "ff"
   ],
   "metadata": {
    "collapsed": false,
    "ExecuteTime": {
     "end_time": "2025-10-20T12:27:38.204879500Z",
     "start_time": "2025-10-20T12:27:37.915667300Z"
    }
   }
  },
  {
   "cell_type": "code",
   "execution_count": 102,
   "outputs": [],
   "source": [
    "# --- pull CUSIP/NCUSIP name history ---\n",
    "sql_names = \"\"\"\n",
    "select\n",
    "    permno,\n",
    "    namedt,\n",
    "    coalesce(nameendt, '9999-12-31') as nameendt,\n",
    "    cusip,\n",
    "    ncusip\n",
    "from crsp.msenames\n",
    "\"\"\"\n",
    "names = db.raw_sql(sql_names, date_cols=['namedt','nameendt'])"
   ],
   "metadata": {
    "collapsed": false,
    "ExecuteTime": {
     "end_time": "2025-10-20T12:27:40.847009700Z",
     "start_time": "2025-10-20T12:27:38.056361900Z"
    }
   }
  },
  {
   "cell_type": "code",
   "execution_count": 103,
   "outputs": [],
   "source": [
    "names.drop_duplicates(['permno'], keep='last', inplace=True)"
   ],
   "metadata": {
    "collapsed": false,
    "ExecuteTime": {
     "end_time": "2025-10-20T12:27:40.872482900Z",
     "start_time": "2025-10-20T12:27:40.847009700Z"
    }
   }
  },
  {
   "cell_type": "code",
   "execution_count": 104,
   "outputs": [],
   "source": [
    "# --- align to month-end dates in crsp_panel ---\n",
    "# merge then filter rows where crsp date is within [namedt, nameendt]\n",
    "crsp_with_cusip = crsp_panel.merge(names, on='permno', how='left')"
   ],
   "metadata": {
    "collapsed": false,
    "ExecuteTime": {
     "end_time": "2025-10-20T12:27:41.366996200Z",
     "start_time": "2025-10-20T12:27:40.872482900Z"
    }
   }
  },
  {
   "cell_type": "markdown",
   "source": [
    "# 4. Merge all"
   ],
   "metadata": {
    "collapsed": false
   }
  },
  {
   "cell_type": "code",
   "execution_count": 105,
   "outputs": [],
   "source": [
    "#----------------------------\n",
    "# 0) Helpers\n",
    "# ----------------------------\n",
    "\n",
    "def choose_primary_class(df, by=['cusip', 'date']):\n",
    "    \"\"\"\n",
    "    If multiple PERMNOs share the same cusip8 at a date,\n",
    "    keep the one with the largest lagged market cap (me_lag).\n",
    "    \"\"\"\n",
    "    df = df.copy()\n",
    "    df['_rank'] = df.groupby(by)['me_lag'].rank(method='first', ascending=False)\n",
    "    out = df.loc[df['_rank'] == 1].drop(columns=['_rank'])\n",
    "    return out\n",
    "\n",
    "\n",
    "# ----------------------------\n",
    "# 1) Prepare CRSP monthly panel\n",
    "# ----------------------------\n",
    "crsp = crsp_with_cusip.copy()\n",
    "crsp['date'] = pd.to_datetime(crsp['date'])\n",
    "\n",
    "# If same cusip8 maps to multiple permnos per month, keep largest me_lag\n",
    "crsp_1class = choose_primary_class(crsp, by=['cusip', 'date'])\n",
    "# ----------------------------\n",
    "# 2) Prepare factors\n",
    "# ----------------------------\n",
    "ff = ff.copy()\n",
    "ff['date'] = pd.to_datetime(ff['date']) + MonthEnd(0)"
   ],
   "metadata": {
    "collapsed": false,
    "ExecuteTime": {
     "end_time": "2025-10-20T12:27:42.750085900Z",
     "start_time": "2025-10-20T12:27:41.367997Z"
    }
   }
  },
  {
   "cell_type": "code",
   "execution_count": 106,
   "outputs": [],
   "source": [
    "# For industry data\n",
    "crsp_with_cusip['month'] = pd.to_datetime(crsp_with_cusip['date']).dt.to_period('M')\n",
    "crsp_with_cusip['month_prior'] = pd.to_datetime(crsp_with_cusip['date']).dt.to_period('M')-1"
   ],
   "metadata": {
    "collapsed": false,
    "ExecuteTime": {
     "end_time": "2025-10-20T12:27:42.976544100Z",
     "start_time": "2025-10-20T12:27:42.750085900Z"
    }
   }
  },
  {
   "cell_type": "code",
   "execution_count": 107,
   "outputs": [
    {
     "ename": "TypeError",
     "evalue": "Passing PeriodDtype data is invalid. Use `data.to_timestamp()` instead",
     "output_type": "error",
     "traceback": [
      "\u001B[31m---------------------------------------------------------------------------\u001B[39m",
      "\u001B[31mTypeError\u001B[39m                                 Traceback (most recent call last)",
      "\u001B[36mCell\u001B[39m\u001B[36m \u001B[39m\u001B[32mIn[107]\u001B[39m\u001B[32m, line 1\u001B[39m\n\u001B[32m----> \u001B[39m\u001B[32m1\u001B[39m reprisk_with_metrics[\u001B[33m'\u001B[39m\u001B[33mYearMonth\u001B[39m\u001B[33m'\u001B[39m] = \u001B[43mpd\u001B[49m\u001B[43m.\u001B[49m\u001B[43mto_datetime\u001B[49m\u001B[43m(\u001B[49m\u001B[43mreprisk_with_metrics\u001B[49m\u001B[43m[\u001B[49m\u001B[33;43m'\u001B[39;49m\u001B[33;43mYearMonth\u001B[39;49m\u001B[33;43m'\u001B[39;49m\u001B[43m]\u001B[49m\u001B[43m)\u001B[49m.dt.to_period(\u001B[33m'\u001B[39m\u001B[33mM\u001B[39m\u001B[33m'\u001B[39m)\n",
      "\u001B[36mFile \u001B[39m\u001B[32mE:\\GermanBusinessPanelTeam\\Schrader\\Forschung\\ESG_Portfolios\\venv\\Lib\\site-packages\\pandas\\core\\tools\\datetimes.py:1063\u001B[39m, in \u001B[36mto_datetime\u001B[39m\u001B[34m(arg, errors, dayfirst, yearfirst, utc, format, exact, unit, infer_datetime_format, origin, cache)\u001B[39m\n\u001B[32m   1061\u001B[39m             result = arg.tz_localize(\u001B[33m\"\u001B[39m\u001B[33mutc\u001B[39m\u001B[33m\"\u001B[39m)\n\u001B[32m   1062\u001B[39m \u001B[38;5;28;01melif\u001B[39;00m \u001B[38;5;28misinstance\u001B[39m(arg, ABCSeries):\n\u001B[32m-> \u001B[39m\u001B[32m1063\u001B[39m     cache_array = \u001B[43m_maybe_cache\u001B[49m\u001B[43m(\u001B[49m\u001B[43marg\u001B[49m\u001B[43m,\u001B[49m\u001B[43m \u001B[49m\u001B[38;5;28;43mformat\u001B[39;49m\u001B[43m,\u001B[49m\u001B[43m \u001B[49m\u001B[43mcache\u001B[49m\u001B[43m,\u001B[49m\u001B[43m \u001B[49m\u001B[43mconvert_listlike\u001B[49m\u001B[43m)\u001B[49m\n\u001B[32m   1064\u001B[39m     \u001B[38;5;28;01mif\u001B[39;00m \u001B[38;5;129;01mnot\u001B[39;00m cache_array.empty:\n\u001B[32m   1065\u001B[39m         result = arg.map(cache_array)\n",
      "\u001B[36mFile \u001B[39m\u001B[32mE:\\GermanBusinessPanelTeam\\Schrader\\Forschung\\ESG_Portfolios\\venv\\Lib\\site-packages\\pandas\\core\\tools\\datetimes.py:247\u001B[39m, in \u001B[36m_maybe_cache\u001B[39m\u001B[34m(arg, format, cache, convert_listlike)\u001B[39m\n\u001B[32m    245\u001B[39m unique_dates = unique(arg)\n\u001B[32m    246\u001B[39m \u001B[38;5;28;01mif\u001B[39;00m \u001B[38;5;28mlen\u001B[39m(unique_dates) < \u001B[38;5;28mlen\u001B[39m(arg):\n\u001B[32m--> \u001B[39m\u001B[32m247\u001B[39m     cache_dates = \u001B[43mconvert_listlike\u001B[49m\u001B[43m(\u001B[49m\u001B[43munique_dates\u001B[49m\u001B[43m,\u001B[49m\u001B[43m \u001B[49m\u001B[38;5;28;43mformat\u001B[39;49m\u001B[43m)\u001B[49m\n\u001B[32m    248\u001B[39m     \u001B[38;5;66;03m# GH#45319\u001B[39;00m\n\u001B[32m    249\u001B[39m     \u001B[38;5;28;01mtry\u001B[39;00m:\n",
      "\u001B[36mFile \u001B[39m\u001B[32mE:\\GermanBusinessPanelTeam\\Schrader\\Forschung\\ESG_Portfolios\\venv\\Lib\\site-packages\\pandas\\core\\tools\\datetimes.py:416\u001B[39m, in \u001B[36m_convert_listlike_datetimes\u001B[39m\u001B[34m(arg, format, name, utc, unit, errors, dayfirst, yearfirst, exact)\u001B[39m\n\u001B[32m    413\u001B[39m \u001B[38;5;66;03m# warn if passing timedelta64, raise for PeriodDtype\u001B[39;00m\n\u001B[32m    414\u001B[39m \u001B[38;5;66;03m# NB: this must come after unit transformation\u001B[39;00m\n\u001B[32m    415\u001B[39m \u001B[38;5;28;01mtry\u001B[39;00m:\n\u001B[32m--> \u001B[39m\u001B[32m416\u001B[39m     arg, _ = \u001B[43mmaybe_convert_dtype\u001B[49m\u001B[43m(\u001B[49m\u001B[43marg\u001B[49m\u001B[43m,\u001B[49m\u001B[43m \u001B[49m\u001B[43mcopy\u001B[49m\u001B[43m=\u001B[49m\u001B[38;5;28;43;01mFalse\u001B[39;49;00m\u001B[43m,\u001B[49m\u001B[43m \u001B[49m\u001B[43mtz\u001B[49m\u001B[43m=\u001B[49m\u001B[43mlibtimezones\u001B[49m\u001B[43m.\u001B[49m\u001B[43mmaybe_get_tz\u001B[49m\u001B[43m(\u001B[49m\u001B[43mtz\u001B[49m\u001B[43m)\u001B[49m\u001B[43m)\u001B[49m\n\u001B[32m    417\u001B[39m \u001B[38;5;28;01mexcept\u001B[39;00m \u001B[38;5;167;01mTypeError\u001B[39;00m:\n\u001B[32m    418\u001B[39m     \u001B[38;5;28;01mif\u001B[39;00m errors == \u001B[33m\"\u001B[39m\u001B[33mcoerce\u001B[39m\u001B[33m\"\u001B[39m:\n",
      "\u001B[36mFile \u001B[39m\u001B[32mE:\\GermanBusinessPanelTeam\\Schrader\\Forschung\\ESG_Portfolios\\venv\\Lib\\site-packages\\pandas\\core\\arrays\\datetimes.py:2466\u001B[39m, in \u001B[36mmaybe_convert_dtype\u001B[39m\u001B[34m(data, copy, tz)\u001B[39m\n\u001B[32m   2462\u001B[39m     \u001B[38;5;28;01mraise\u001B[39;00m \u001B[38;5;167;01mTypeError\u001B[39;00m(\u001B[33mf\u001B[39m\u001B[33m\"\u001B[39m\u001B[33mdtype \u001B[39m\u001B[38;5;132;01m{\u001B[39;00mdata.dtype\u001B[38;5;132;01m}\u001B[39;00m\u001B[33m cannot be converted to datetime64[ns]\u001B[39m\u001B[33m\"\u001B[39m)\n\u001B[32m   2463\u001B[39m \u001B[38;5;28;01melif\u001B[39;00m \u001B[38;5;28misinstance\u001B[39m(data.dtype, PeriodDtype):\n\u001B[32m   2464\u001B[39m     \u001B[38;5;66;03m# Note: without explicitly raising here, PeriodIndex\u001B[39;00m\n\u001B[32m   2465\u001B[39m     \u001B[38;5;66;03m#  test_setops.test_join_does_not_recur fails\u001B[39;00m\n\u001B[32m-> \u001B[39m\u001B[32m2466\u001B[39m     \u001B[38;5;28;01mraise\u001B[39;00m \u001B[38;5;167;01mTypeError\u001B[39;00m(\n\u001B[32m   2467\u001B[39m         \u001B[33m\"\u001B[39m\u001B[33mPassing PeriodDtype data is invalid. Use `data.to_timestamp()` instead\u001B[39m\u001B[33m\"\u001B[39m\n\u001B[32m   2468\u001B[39m     )\n\u001B[32m   2470\u001B[39m \u001B[38;5;28;01melif\u001B[39;00m \u001B[38;5;28misinstance\u001B[39m(data.dtype, ExtensionDtype) \u001B[38;5;129;01mand\u001B[39;00m \u001B[38;5;129;01mnot\u001B[39;00m \u001B[38;5;28misinstance\u001B[39m(\n\u001B[32m   2471\u001B[39m     data.dtype, DatetimeTZDtype\n\u001B[32m   2472\u001B[39m ):\n\u001B[32m   2473\u001B[39m     \u001B[38;5;66;03m# TODO: We have no tests for these\u001B[39;00m\n\u001B[32m   2474\u001B[39m     data = np.array(data, dtype=np.object_)\n",
      "\u001B[31mTypeError\u001B[39m: Passing PeriodDtype data is invalid. Use `data.to_timestamp()` instead"
     ]
    }
   ],
   "source": [
    "reprisk_with_metrics['YearMonth'] = pd.to_datetime(reprisk_with_metrics['YearMonth']).dt.to_period('M')"
   ],
   "metadata": {
    "collapsed": false,
    "ExecuteTime": {
     "end_time": "2025-10-20T12:27:43.266831800Z",
     "start_time": "2025-10-20T12:27:42.976544100Z"
    }
   }
  },
  {
   "cell_type": "code",
   "execution_count": 114,
   "outputs": [
    {
     "data": {
      "text/plain": "        permno       date   ret_adj                    me  \\\n0        10001 2005-01-31 -0.040580            17178900.0   \n1        10001 2005-02-28 -0.045166            16428279.0   \n2        10001 2005-03-31  0.124822            18663750.0   \n3        10001 2005-04-29 -0.074684            17269875.0   \n4        10001 2005-05-31  0.219030            21052500.0   \n...        ...        ...       ...                   ...   \n961941   93436 2024-08-30 -0.077391   684004370400.000122   \n961942   93436 2024-09-30  0.221942        839047410000.0   \n961943   93436 2024-10-31 -0.045025   802033523100.599976   \n961944   93436 2024-11-29  0.381469  1107984309600.000244   \n961945   93436 2024-12-31  0.170008  1296350630399.999756   \n\n                      me_lag     cusip    month month_prior  gvkey  year  ...  \\\n0                       <NA>  36720410  2005-01     2004-12    NaN   NaN  ...   \n1                 17178900.0  36720410  2005-02     2005-01    NaN   NaN  ...   \n2                 16428279.0  36720410  2005-03     2005-02    NaN   NaN  ...   \n3                 18663750.0  36720410  2005-04     2005-03    NaN   NaN  ...   \n4                 17269875.0  36720410  2005-05     2005-04    NaN   NaN  ...   \n...                      ...       ...      ...         ...    ...   ...  ...   \n961941   741380136746.400024  88160R10  2024-08     2024-07    NaN   NaN  ...   \n961942   684004370400.000122  88160R10  2024-09     2024-08    NaN   NaN  ...   \n961943        839047410000.0  88160R10  2024-10     2024-09    NaN   NaN  ...   \n961944   802033523100.599976  88160R10  2024-11     2024-10    NaN   NaN  ...   \n961945  1107984309600.000244  88160R10  2024-12     2024-11    NaN   NaN  ...   \n\n       industry_n_material industry_n_reach_material  \\\n0                      NaN                       NaN   \n1                      NaN                       NaN   \n2                      NaN                       NaN   \n3                      NaN                       NaN   \n4                      NaN                       NaN   \n...                    ...                       ...   \n961941                 NaN                       NaN   \n961942                 NaN                       NaN   \n961943                 NaN                       NaN   \n961944                 NaN                       NaN   \n961945                 NaN                       NaN   \n\n       industry_n_severity_material     dateff    date_ff  MKT_RF     SMB  \\\n0                               NaN 2005-01-31 2005-01-31 -0.0275 -0.0166   \n1                               NaN 2005-02-28 2005-02-28  0.0188 -0.0057   \n2                               NaN 2005-03-31 2005-03-31 -0.0194 -0.0141   \n3                               NaN 2005-04-29 2005-04-30 -0.0261 -0.0393   \n4                               NaN 2005-05-31 2005-05-31  0.0365  0.0286   \n...                             ...        ...        ...     ...     ...   \n961941                          NaN 2024-08-30 2024-08-31   0.016 -0.0349   \n961942                          NaN 2024-09-30 2024-09-30  0.0172 -0.0013   \n961943                          NaN 2024-10-31 2024-10-31   -0.01 -0.0099   \n961944                          NaN 2024-11-29 2024-11-30  0.0649  0.0446   \n961945                          NaN 2024-12-31 2024-12-31 -0.0317 -0.0271   \n\n           HML      RF     MOM  \n0       0.0206  0.0016  0.0296  \n1       0.0141  0.0016  0.0343  \n2       0.0207  0.0021  0.0043  \n3       0.0005  0.0021 -0.0068  \n4      -0.0058  0.0024  0.0037  \n...        ...     ...     ...  \n961941  -0.011  0.0048  0.0481  \n961942 -0.0277   0.004 -0.0062  \n961943  0.0086  0.0039    0.03  \n961944  0.0015   0.004    0.01  \n961945   -0.03  0.0037  -0.003  \n\n[961946 rows x 34 columns]",
      "text/html": "<div>\n<style scoped>\n    .dataframe tbody tr th:only-of-type {\n        vertical-align: middle;\n    }\n\n    .dataframe tbody tr th {\n        vertical-align: top;\n    }\n\n    .dataframe thead th {\n        text-align: right;\n    }\n</style>\n<table border=\"1\" class=\"dataframe\">\n  <thead>\n    <tr style=\"text-align: right;\">\n      <th></th>\n      <th>permno</th>\n      <th>date</th>\n      <th>ret_adj</th>\n      <th>me</th>\n      <th>me_lag</th>\n      <th>cusip</th>\n      <th>month</th>\n      <th>month_prior</th>\n      <th>gvkey</th>\n      <th>year</th>\n      <th>...</th>\n      <th>industry_n_material</th>\n      <th>industry_n_reach_material</th>\n      <th>industry_n_severity_material</th>\n      <th>dateff</th>\n      <th>date_ff</th>\n      <th>MKT_RF</th>\n      <th>SMB</th>\n      <th>HML</th>\n      <th>RF</th>\n      <th>MOM</th>\n    </tr>\n  </thead>\n  <tbody>\n    <tr>\n      <th>0</th>\n      <td>10001</td>\n      <td>2005-01-31</td>\n      <td>-0.040580</td>\n      <td>17178900.0</td>\n      <td>&lt;NA&gt;</td>\n      <td>36720410</td>\n      <td>2005-01</td>\n      <td>2004-12</td>\n      <td>NaN</td>\n      <td>NaN</td>\n      <td>...</td>\n      <td>NaN</td>\n      <td>NaN</td>\n      <td>NaN</td>\n      <td>2005-01-31</td>\n      <td>2005-01-31</td>\n      <td>-0.0275</td>\n      <td>-0.0166</td>\n      <td>0.0206</td>\n      <td>0.0016</td>\n      <td>0.0296</td>\n    </tr>\n    <tr>\n      <th>1</th>\n      <td>10001</td>\n      <td>2005-02-28</td>\n      <td>-0.045166</td>\n      <td>16428279.0</td>\n      <td>17178900.0</td>\n      <td>36720410</td>\n      <td>2005-02</td>\n      <td>2005-01</td>\n      <td>NaN</td>\n      <td>NaN</td>\n      <td>...</td>\n      <td>NaN</td>\n      <td>NaN</td>\n      <td>NaN</td>\n      <td>2005-02-28</td>\n      <td>2005-02-28</td>\n      <td>0.0188</td>\n      <td>-0.0057</td>\n      <td>0.0141</td>\n      <td>0.0016</td>\n      <td>0.0343</td>\n    </tr>\n    <tr>\n      <th>2</th>\n      <td>10001</td>\n      <td>2005-03-31</td>\n      <td>0.124822</td>\n      <td>18663750.0</td>\n      <td>16428279.0</td>\n      <td>36720410</td>\n      <td>2005-03</td>\n      <td>2005-02</td>\n      <td>NaN</td>\n      <td>NaN</td>\n      <td>...</td>\n      <td>NaN</td>\n      <td>NaN</td>\n      <td>NaN</td>\n      <td>2005-03-31</td>\n      <td>2005-03-31</td>\n      <td>-0.0194</td>\n      <td>-0.0141</td>\n      <td>0.0207</td>\n      <td>0.0021</td>\n      <td>0.0043</td>\n    </tr>\n    <tr>\n      <th>3</th>\n      <td>10001</td>\n      <td>2005-04-29</td>\n      <td>-0.074684</td>\n      <td>17269875.0</td>\n      <td>18663750.0</td>\n      <td>36720410</td>\n      <td>2005-04</td>\n      <td>2005-03</td>\n      <td>NaN</td>\n      <td>NaN</td>\n      <td>...</td>\n      <td>NaN</td>\n      <td>NaN</td>\n      <td>NaN</td>\n      <td>2005-04-29</td>\n      <td>2005-04-30</td>\n      <td>-0.0261</td>\n      <td>-0.0393</td>\n      <td>0.0005</td>\n      <td>0.0021</td>\n      <td>-0.0068</td>\n    </tr>\n    <tr>\n      <th>4</th>\n      <td>10001</td>\n      <td>2005-05-31</td>\n      <td>0.219030</td>\n      <td>21052500.0</td>\n      <td>17269875.0</td>\n      <td>36720410</td>\n      <td>2005-05</td>\n      <td>2005-04</td>\n      <td>NaN</td>\n      <td>NaN</td>\n      <td>...</td>\n      <td>NaN</td>\n      <td>NaN</td>\n      <td>NaN</td>\n      <td>2005-05-31</td>\n      <td>2005-05-31</td>\n      <td>0.0365</td>\n      <td>0.0286</td>\n      <td>-0.0058</td>\n      <td>0.0024</td>\n      <td>0.0037</td>\n    </tr>\n    <tr>\n      <th>...</th>\n      <td>...</td>\n      <td>...</td>\n      <td>...</td>\n      <td>...</td>\n      <td>...</td>\n      <td>...</td>\n      <td>...</td>\n      <td>...</td>\n      <td>...</td>\n      <td>...</td>\n      <td>...</td>\n      <td>...</td>\n      <td>...</td>\n      <td>...</td>\n      <td>...</td>\n      <td>...</td>\n      <td>...</td>\n      <td>...</td>\n      <td>...</td>\n      <td>...</td>\n      <td>...</td>\n    </tr>\n    <tr>\n      <th>961941</th>\n      <td>93436</td>\n      <td>2024-08-30</td>\n      <td>-0.077391</td>\n      <td>684004370400.000122</td>\n      <td>741380136746.400024</td>\n      <td>88160R10</td>\n      <td>2024-08</td>\n      <td>2024-07</td>\n      <td>NaN</td>\n      <td>NaN</td>\n      <td>...</td>\n      <td>NaN</td>\n      <td>NaN</td>\n      <td>NaN</td>\n      <td>2024-08-30</td>\n      <td>2024-08-31</td>\n      <td>0.016</td>\n      <td>-0.0349</td>\n      <td>-0.011</td>\n      <td>0.0048</td>\n      <td>0.0481</td>\n    </tr>\n    <tr>\n      <th>961942</th>\n      <td>93436</td>\n      <td>2024-09-30</td>\n      <td>0.221942</td>\n      <td>839047410000.0</td>\n      <td>684004370400.000122</td>\n      <td>88160R10</td>\n      <td>2024-09</td>\n      <td>2024-08</td>\n      <td>NaN</td>\n      <td>NaN</td>\n      <td>...</td>\n      <td>NaN</td>\n      <td>NaN</td>\n      <td>NaN</td>\n      <td>2024-09-30</td>\n      <td>2024-09-30</td>\n      <td>0.0172</td>\n      <td>-0.0013</td>\n      <td>-0.0277</td>\n      <td>0.004</td>\n      <td>-0.0062</td>\n    </tr>\n    <tr>\n      <th>961943</th>\n      <td>93436</td>\n      <td>2024-10-31</td>\n      <td>-0.045025</td>\n      <td>802033523100.599976</td>\n      <td>839047410000.0</td>\n      <td>88160R10</td>\n      <td>2024-10</td>\n      <td>2024-09</td>\n      <td>NaN</td>\n      <td>NaN</td>\n      <td>...</td>\n      <td>NaN</td>\n      <td>NaN</td>\n      <td>NaN</td>\n      <td>2024-10-31</td>\n      <td>2024-10-31</td>\n      <td>-0.01</td>\n      <td>-0.0099</td>\n      <td>0.0086</td>\n      <td>0.0039</td>\n      <td>0.03</td>\n    </tr>\n    <tr>\n      <th>961944</th>\n      <td>93436</td>\n      <td>2024-11-29</td>\n      <td>0.381469</td>\n      <td>1107984309600.000244</td>\n      <td>802033523100.599976</td>\n      <td>88160R10</td>\n      <td>2024-11</td>\n      <td>2024-10</td>\n      <td>NaN</td>\n      <td>NaN</td>\n      <td>...</td>\n      <td>NaN</td>\n      <td>NaN</td>\n      <td>NaN</td>\n      <td>2024-11-29</td>\n      <td>2024-11-30</td>\n      <td>0.0649</td>\n      <td>0.0446</td>\n      <td>0.0015</td>\n      <td>0.004</td>\n      <td>0.01</td>\n    </tr>\n    <tr>\n      <th>961945</th>\n      <td>93436</td>\n      <td>2024-12-31</td>\n      <td>0.170008</td>\n      <td>1296350630399.999756</td>\n      <td>1107984309600.000244</td>\n      <td>88160R10</td>\n      <td>2024-12</td>\n      <td>2024-11</td>\n      <td>NaN</td>\n      <td>NaN</td>\n      <td>...</td>\n      <td>NaN</td>\n      <td>NaN</td>\n      <td>NaN</td>\n      <td>2024-12-31</td>\n      <td>2024-12-31</td>\n      <td>-0.0317</td>\n      <td>-0.0271</td>\n      <td>-0.03</td>\n      <td>0.0037</td>\n      <td>-0.003</td>\n    </tr>\n  </tbody>\n</table>\n<p>961946 rows × 34 columns</p>\n</div>"
     },
     "execution_count": 114,
     "metadata": {},
     "output_type": "execute_result"
    }
   ],
   "source": [
    "reprisk_with_metrics[\"cusip\"] = reprisk_with_metrics[\"cusip\"].astype(str).str.strip().str.upper().str.slice(0, 8)\n",
    "\n",
    "panel_firms = crsp_with_cusip[['permno', 'date', 'ret_adj', 'me', 'me_lag', 'cusip', 'month', 'month_prior']].merge(\n",
    "    reprisk_with_metrics[['cusip', 'gvkey', 'year', 'Codified SICS Sector ', 'SICS Codified Industry ', 'YearMonth',\n",
    "        'size','roa_q','lev_q','bm_q', 'n_material', 'n_car_1_material','n_car_5_material','n_reach_material','n_severity_material', 'industry_n_car_1_material', 'industry_n_car_5_material',\n",
    "        'industry_n_material', 'industry_n_reach_material', 'industry_n_severity_material']], left_on=['cusip', 'month_prior'], right_on=['cusip', 'YearMonth'], how='left')\n",
    "ff['dateff'] = pd.to_datetime(ff['dateff'])\n",
    "panel_firms = panel_firms.merge(ff[['dateff', 'date', 'MKT_RF', 'SMB', 'HML', 'RF', 'MOM']], left_on='date',\n",
    "                                right_on='dateff', how='left', suffixes=('', '_ff'))\n",
    "panel_firms"
   ],
   "metadata": {
    "collapsed": false,
    "ExecuteTime": {
     "end_time": "2025-10-20T12:41:08.525022900Z",
     "start_time": "2025-10-20T12:41:03.110327200Z"
    }
   }
  },
  {
   "cell_type": "code",
   "execution_count": 115,
   "outputs": [
    {
     "data": {
      "text/plain": "        permno       date   ret_adj                    me  \\\n151      10002 2005-01-31 -0.132466           235298350.0   \n152      10002 2005-02-28 -0.033255           227473440.0   \n153      10002 2005-03-31 -0.013081           225109280.0   \n154      10002 2005-04-29 -0.066700           209263420.0   \n155      10002 2005-05-31  0.046586           218932980.0   \n...        ...        ...       ...                   ...   \n961941   93436 2024-08-30 -0.077391   684004370400.000122   \n961942   93436 2024-09-30  0.221942        839047410000.0   \n961943   93436 2024-10-31 -0.045025   802033523100.599976   \n961944   93436 2024-11-29  0.381469  1107984309600.000244   \n961945   93436 2024-12-31  0.170008  1296350630399.999756   \n\n                      me_lag     cusip    month month_prior  gvkey  year  ...  \\\n151                     <NA>  05978R10  2005-01     2004-12    NaN   NaN  ...   \n152              235298350.0  05978R10  2005-02     2005-01    NaN   NaN  ...   \n153              227473440.0  05978R10  2005-03     2005-02    NaN   NaN  ...   \n154              225109280.0  05978R10  2005-04     2005-03    NaN   NaN  ...   \n155              209263420.0  05978R10  2005-05     2005-04    NaN   NaN  ...   \n...                      ...       ...      ...         ...    ...   ...  ...   \n961941   741380136746.400024  88160R10  2024-08     2024-07    NaN   NaN  ...   \n961942   684004370400.000122  88160R10  2024-09     2024-08    NaN   NaN  ...   \n961943        839047410000.0  88160R10  2024-10     2024-09    NaN   NaN  ...   \n961944   802033523100.599976  88160R10  2024-11     2024-10    NaN   NaN  ...   \n961945  1107984309600.000244  88160R10  2024-12     2024-11    NaN   NaN  ...   \n\n       industry_n_material industry_n_reach_material  \\\n151                    NaN                       NaN   \n152                    NaN                       NaN   \n153                    NaN                       NaN   \n154                    NaN                       NaN   \n155                    NaN                       NaN   \n...                    ...                       ...   \n961941                 NaN                       NaN   \n961942                 NaN                       NaN   \n961943                 NaN                       NaN   \n961944                 NaN                       NaN   \n961945                 NaN                       NaN   \n\n       industry_n_severity_material     dateff    date_ff  MKT_RF     SMB  \\\n151                             NaN 2005-01-31 2005-01-31 -0.0275 -0.0166   \n152                             NaN 2005-02-28 2005-02-28  0.0188 -0.0057   \n153                             NaN 2005-03-31 2005-03-31 -0.0194 -0.0141   \n154                             NaN 2005-04-29 2005-04-30 -0.0261 -0.0393   \n155                             NaN 2005-05-31 2005-05-31  0.0365  0.0286   \n...                             ...        ...        ...     ...     ...   \n961941                          NaN 2024-08-30 2024-08-31   0.016 -0.0349   \n961942                          NaN 2024-09-30 2024-09-30  0.0172 -0.0013   \n961943                          NaN 2024-10-31 2024-10-31   -0.01 -0.0099   \n961944                          NaN 2024-11-29 2024-11-30  0.0649  0.0446   \n961945                          NaN 2024-12-31 2024-12-31 -0.0317 -0.0271   \n\n           HML      RF     MOM  \n151     0.0206  0.0016  0.0296  \n152     0.0141  0.0016  0.0343  \n153     0.0207  0.0021  0.0043  \n154     0.0005  0.0021 -0.0068  \n155    -0.0058  0.0024  0.0037  \n...        ...     ...     ...  \n961941  -0.011  0.0048  0.0481  \n961942 -0.0277   0.004 -0.0062  \n961943  0.0086  0.0039    0.03  \n961944  0.0015   0.004    0.01  \n961945   -0.03  0.0037  -0.003  \n\n[812627 rows x 34 columns]",
      "text/html": "<div>\n<style scoped>\n    .dataframe tbody tr th:only-of-type {\n        vertical-align: middle;\n    }\n\n    .dataframe tbody tr th {\n        vertical-align: top;\n    }\n\n    .dataframe thead th {\n        text-align: right;\n    }\n</style>\n<table border=\"1\" class=\"dataframe\">\n  <thead>\n    <tr style=\"text-align: right;\">\n      <th></th>\n      <th>permno</th>\n      <th>date</th>\n      <th>ret_adj</th>\n      <th>me</th>\n      <th>me_lag</th>\n      <th>cusip</th>\n      <th>month</th>\n      <th>month_prior</th>\n      <th>gvkey</th>\n      <th>year</th>\n      <th>...</th>\n      <th>industry_n_material</th>\n      <th>industry_n_reach_material</th>\n      <th>industry_n_severity_material</th>\n      <th>dateff</th>\n      <th>date_ff</th>\n      <th>MKT_RF</th>\n      <th>SMB</th>\n      <th>HML</th>\n      <th>RF</th>\n      <th>MOM</th>\n    </tr>\n  </thead>\n  <tbody>\n    <tr>\n      <th>151</th>\n      <td>10002</td>\n      <td>2005-01-31</td>\n      <td>-0.132466</td>\n      <td>235298350.0</td>\n      <td>&lt;NA&gt;</td>\n      <td>05978R10</td>\n      <td>2005-01</td>\n      <td>2004-12</td>\n      <td>NaN</td>\n      <td>NaN</td>\n      <td>...</td>\n      <td>NaN</td>\n      <td>NaN</td>\n      <td>NaN</td>\n      <td>2005-01-31</td>\n      <td>2005-01-31</td>\n      <td>-0.0275</td>\n      <td>-0.0166</td>\n      <td>0.0206</td>\n      <td>0.0016</td>\n      <td>0.0296</td>\n    </tr>\n    <tr>\n      <th>152</th>\n      <td>10002</td>\n      <td>2005-02-28</td>\n      <td>-0.033255</td>\n      <td>227473440.0</td>\n      <td>235298350.0</td>\n      <td>05978R10</td>\n      <td>2005-02</td>\n      <td>2005-01</td>\n      <td>NaN</td>\n      <td>NaN</td>\n      <td>...</td>\n      <td>NaN</td>\n      <td>NaN</td>\n      <td>NaN</td>\n      <td>2005-02-28</td>\n      <td>2005-02-28</td>\n      <td>0.0188</td>\n      <td>-0.0057</td>\n      <td>0.0141</td>\n      <td>0.0016</td>\n      <td>0.0343</td>\n    </tr>\n    <tr>\n      <th>153</th>\n      <td>10002</td>\n      <td>2005-03-31</td>\n      <td>-0.013081</td>\n      <td>225109280.0</td>\n      <td>227473440.0</td>\n      <td>05978R10</td>\n      <td>2005-03</td>\n      <td>2005-02</td>\n      <td>NaN</td>\n      <td>NaN</td>\n      <td>...</td>\n      <td>NaN</td>\n      <td>NaN</td>\n      <td>NaN</td>\n      <td>2005-03-31</td>\n      <td>2005-03-31</td>\n      <td>-0.0194</td>\n      <td>-0.0141</td>\n      <td>0.0207</td>\n      <td>0.0021</td>\n      <td>0.0043</td>\n    </tr>\n    <tr>\n      <th>154</th>\n      <td>10002</td>\n      <td>2005-04-29</td>\n      <td>-0.066700</td>\n      <td>209263420.0</td>\n      <td>225109280.0</td>\n      <td>05978R10</td>\n      <td>2005-04</td>\n      <td>2005-03</td>\n      <td>NaN</td>\n      <td>NaN</td>\n      <td>...</td>\n      <td>NaN</td>\n      <td>NaN</td>\n      <td>NaN</td>\n      <td>2005-04-29</td>\n      <td>2005-04-30</td>\n      <td>-0.0261</td>\n      <td>-0.0393</td>\n      <td>0.0005</td>\n      <td>0.0021</td>\n      <td>-0.0068</td>\n    </tr>\n    <tr>\n      <th>155</th>\n      <td>10002</td>\n      <td>2005-05-31</td>\n      <td>0.046586</td>\n      <td>218932980.0</td>\n      <td>209263420.0</td>\n      <td>05978R10</td>\n      <td>2005-05</td>\n      <td>2005-04</td>\n      <td>NaN</td>\n      <td>NaN</td>\n      <td>...</td>\n      <td>NaN</td>\n      <td>NaN</td>\n      <td>NaN</td>\n      <td>2005-05-31</td>\n      <td>2005-05-31</td>\n      <td>0.0365</td>\n      <td>0.0286</td>\n      <td>-0.0058</td>\n      <td>0.0024</td>\n      <td>0.0037</td>\n    </tr>\n    <tr>\n      <th>...</th>\n      <td>...</td>\n      <td>...</td>\n      <td>...</td>\n      <td>...</td>\n      <td>...</td>\n      <td>...</td>\n      <td>...</td>\n      <td>...</td>\n      <td>...</td>\n      <td>...</td>\n      <td>...</td>\n      <td>...</td>\n      <td>...</td>\n      <td>...</td>\n      <td>...</td>\n      <td>...</td>\n      <td>...</td>\n      <td>...</td>\n      <td>...</td>\n      <td>...</td>\n      <td>...</td>\n    </tr>\n    <tr>\n      <th>961941</th>\n      <td>93436</td>\n      <td>2024-08-30</td>\n      <td>-0.077391</td>\n      <td>684004370400.000122</td>\n      <td>741380136746.400024</td>\n      <td>88160R10</td>\n      <td>2024-08</td>\n      <td>2024-07</td>\n      <td>NaN</td>\n      <td>NaN</td>\n      <td>...</td>\n      <td>NaN</td>\n      <td>NaN</td>\n      <td>NaN</td>\n      <td>2024-08-30</td>\n      <td>2024-08-31</td>\n      <td>0.016</td>\n      <td>-0.0349</td>\n      <td>-0.011</td>\n      <td>0.0048</td>\n      <td>0.0481</td>\n    </tr>\n    <tr>\n      <th>961942</th>\n      <td>93436</td>\n      <td>2024-09-30</td>\n      <td>0.221942</td>\n      <td>839047410000.0</td>\n      <td>684004370400.000122</td>\n      <td>88160R10</td>\n      <td>2024-09</td>\n      <td>2024-08</td>\n      <td>NaN</td>\n      <td>NaN</td>\n      <td>...</td>\n      <td>NaN</td>\n      <td>NaN</td>\n      <td>NaN</td>\n      <td>2024-09-30</td>\n      <td>2024-09-30</td>\n      <td>0.0172</td>\n      <td>-0.0013</td>\n      <td>-0.0277</td>\n      <td>0.004</td>\n      <td>-0.0062</td>\n    </tr>\n    <tr>\n      <th>961943</th>\n      <td>93436</td>\n      <td>2024-10-31</td>\n      <td>-0.045025</td>\n      <td>802033523100.599976</td>\n      <td>839047410000.0</td>\n      <td>88160R10</td>\n      <td>2024-10</td>\n      <td>2024-09</td>\n      <td>NaN</td>\n      <td>NaN</td>\n      <td>...</td>\n      <td>NaN</td>\n      <td>NaN</td>\n      <td>NaN</td>\n      <td>2024-10-31</td>\n      <td>2024-10-31</td>\n      <td>-0.01</td>\n      <td>-0.0099</td>\n      <td>0.0086</td>\n      <td>0.0039</td>\n      <td>0.03</td>\n    </tr>\n    <tr>\n      <th>961944</th>\n      <td>93436</td>\n      <td>2024-11-29</td>\n      <td>0.381469</td>\n      <td>1107984309600.000244</td>\n      <td>802033523100.599976</td>\n      <td>88160R10</td>\n      <td>2024-11</td>\n      <td>2024-10</td>\n      <td>NaN</td>\n      <td>NaN</td>\n      <td>...</td>\n      <td>NaN</td>\n      <td>NaN</td>\n      <td>NaN</td>\n      <td>2024-11-29</td>\n      <td>2024-11-30</td>\n      <td>0.0649</td>\n      <td>0.0446</td>\n      <td>0.0015</td>\n      <td>0.004</td>\n      <td>0.01</td>\n    </tr>\n    <tr>\n      <th>961945</th>\n      <td>93436</td>\n      <td>2024-12-31</td>\n      <td>0.170008</td>\n      <td>1296350630399.999756</td>\n      <td>1107984309600.000244</td>\n      <td>88160R10</td>\n      <td>2024-12</td>\n      <td>2024-11</td>\n      <td>NaN</td>\n      <td>NaN</td>\n      <td>...</td>\n      <td>NaN</td>\n      <td>NaN</td>\n      <td>NaN</td>\n      <td>2024-12-31</td>\n      <td>2024-12-31</td>\n      <td>-0.0317</td>\n      <td>-0.0271</td>\n      <td>-0.03</td>\n      <td>0.0037</td>\n      <td>-0.003</td>\n    </tr>\n  </tbody>\n</table>\n<p>812627 rows × 34 columns</p>\n</div>"
     },
     "execution_count": 115,
     "metadata": {},
     "output_type": "execute_result"
    }
   ],
   "source": [
    "# filter for cusip in df\n",
    "# fill to nine digits\n",
    "panel_firms = panel_firms[panel_firms['cusip'].isin(reprisk_with_metrics['cusip'].dropna().unique())]\n",
    "panel_firms"
   ],
   "metadata": {
    "collapsed": false,
    "ExecuteTime": {
     "end_time": "2025-10-20T12:41:09.790156400Z",
     "start_time": "2025-10-20T12:41:08.517995700Z"
    }
   }
  },
  {
   "cell_type": "code",
   "execution_count": 116,
   "outputs": [],
   "source": [
    "panel_firms.to_csv('Output/panel_industries.csv', index=False)"
   ],
   "metadata": {
    "collapsed": false,
    "ExecuteTime": {
     "end_time": "2025-10-20T12:42:40.554513300Z",
     "start_time": "2025-10-20T12:41:49.753775100Z"
    }
   }
  },
  {
   "cell_type": "markdown",
   "source": [
    "# 5. Portfolios based on sum"
   ],
   "metadata": {
    "collapsed": false
   }
  },
  {
   "cell_type": "code",
   "execution_count": 337,
   "outputs": [],
   "source": [
    "df = pd.read_csv('Output/panel_industries.csv')"
   ],
   "metadata": {
    "collapsed": false,
    "ExecuteTime": {
     "end_time": "2025-10-21T18:26:15.246015700Z",
     "start_time": "2025-10-21T18:26:09.037421700Z"
    }
   }
  },
  {
   "cell_type": "code",
   "execution_count": 338,
   "outputs": [],
   "source": [
    "df = df[df['YearMonth']>'2006-12']"
   ],
   "metadata": {
    "collapsed": false,
    "ExecuteTime": {
     "end_time": "2025-10-21T18:26:15.432790400Z",
     "start_time": "2025-10-21T18:26:15.231001100Z"
    }
   }
  },
  {
   "cell_type": "code",
   "execution_count": 339,
   "outputs": [
    {
     "data": {
      "text/plain": "        permno        date   ret_adj            me        me_lag     cusip  \\\n25       10002  2007-02-28  0.033054  2.477735e+08  2.398457e+08  05978R10   \n26       10002  2007-03-30 -0.040559  2.366534e+08  2.477735e+08  05978R10   \n27       10002  2007-04-30 -0.053403  2.240155e+08  2.366534e+08  05978R10   \n28       10002  2007-05-31  0.000499  2.241875e+08  2.240155e+08  05978R10   \n29       10002  2007-06-29  0.054391  2.351160e+08  2.241875e+08  05978R10   \n...        ...         ...       ...           ...           ...       ...   \n812611   93436  2023-09-29 -0.030456  7.954494e+11  8.191443e+11  88160R10   \n812612   93436  2023-10-31 -0.197346  6.384545e+11  7.954494e+11  88160R10   \n812613   93436  2023-11-30  0.195379  7.631954e+11  6.384545e+11  88160R10   \n812614   93436  2023-12-29  0.034988  7.914088e+11  7.631954e+11  88160R10   \n812615   93436  2024-01-31 -0.246257  5.964793e+11  7.914088e+11  88160R10   \n\n          month month_prior     gvkey    year  ... n_material_24m  \\\n25      2007-02     2007-01   19049.0  2007.0  ...            0.0   \n26      2007-03     2007-02   19049.0  2007.0  ...            0.0   \n27      2007-04     2007-03   19049.0  2007.0  ...            0.0   \n28      2007-05     2007-04   19049.0  2007.0  ...            0.0   \n29      2007-06     2007-05   19049.0  2007.0  ...            0.0   \n...         ...         ...       ...     ...  ...            ...   \n812611  2023-09     2023-08  184996.0  2023.0  ...           42.0   \n812612  2023-10     2023-09  184996.0  2023.0  ...           43.0   \n812613  2023-11     2023-10  184996.0  2023.0  ...           46.0   \n812614  2023-12     2023-11  184996.0  2023.0  ...           49.0   \n812615  2024-01     2023-12  184996.0  2023.0  ...           49.0   \n\n       n_car_1_material_24m n_car_5_material_24m  n_reach_material_24m  \\\n25                      0.0                  0.0                   0.0   \n26                      0.0                  0.0                   0.0   \n27                      0.0                  0.0                   0.0   \n28                      0.0                  0.0                   0.0   \n29                      0.0                  0.0                   0.0   \n...                     ...                  ...                   ...   \n812611                145.0                121.0                 150.0   \n812612                147.0                122.0                 149.0   \n812613                154.0                129.0                 154.0   \n812614                156.0                131.0                 156.0   \n812615                156.0                131.0                 156.0   \n\n        n_severity_material_24m  industry_n_material_24m  \\\n25                          0.0                      7.0   \n26                          0.0                     18.0   \n27                          0.0                     23.0   \n28                          0.0                     30.0   \n29                          0.0                     70.0   \n...                         ...                      ...   \n812611                    154.0                    555.0   \n812612                    153.0                    546.0   \n812613                    158.0                    557.0   \n812614                    160.0                    554.0   \n812615                    160.0                    549.0   \n\n        industry_n_car_1_material_24m  industry_n_car_5_material_24m  \\\n25                                5.0                            5.0   \n26                                6.0                            6.0   \n27                                9.0                            9.0   \n28                               11.0                           10.0   \n29                               11.0                           14.0   \n...                               ...                            ...   \n812611                         2063.0                         1449.0   \n812612                         2143.0                         1431.0   \n812613                         2216.0                         1550.0   \n812614                         2260.0                         1594.0   \n812615                         2332.0                         1666.0   \n\n        industry_n_reach_material_24m  industry_n_severity_material_24m  \n25                                9.0                               9.0  \n26                               20.0                              20.0  \n27                               25.0                              25.0  \n28                               28.0                              28.0  \n29                               71.0                              71.0  \n...                               ...                               ...  \n812611                         2089.0                            2064.0  \n812612                         2133.0                            2108.0  \n812613                         2216.0                            2191.0  \n812614                         2260.0                            2235.0  \n812615                         2332.0                            2307.0  \n\n[684178 rows x 44 columns]",
      "text/html": "<div>\n<style scoped>\n    .dataframe tbody tr th:only-of-type {\n        vertical-align: middle;\n    }\n\n    .dataframe tbody tr th {\n        vertical-align: top;\n    }\n\n    .dataframe thead th {\n        text-align: right;\n    }\n</style>\n<table border=\"1\" class=\"dataframe\">\n  <thead>\n    <tr style=\"text-align: right;\">\n      <th></th>\n      <th>permno</th>\n      <th>date</th>\n      <th>ret_adj</th>\n      <th>me</th>\n      <th>me_lag</th>\n      <th>cusip</th>\n      <th>month</th>\n      <th>month_prior</th>\n      <th>gvkey</th>\n      <th>year</th>\n      <th>...</th>\n      <th>n_material_24m</th>\n      <th>n_car_1_material_24m</th>\n      <th>n_car_5_material_24m</th>\n      <th>n_reach_material_24m</th>\n      <th>n_severity_material_24m</th>\n      <th>industry_n_material_24m</th>\n      <th>industry_n_car_1_material_24m</th>\n      <th>industry_n_car_5_material_24m</th>\n      <th>industry_n_reach_material_24m</th>\n      <th>industry_n_severity_material_24m</th>\n    </tr>\n  </thead>\n  <tbody>\n    <tr>\n      <th>25</th>\n      <td>10002</td>\n      <td>2007-02-28</td>\n      <td>0.033054</td>\n      <td>2.477735e+08</td>\n      <td>2.398457e+08</td>\n      <td>05978R10</td>\n      <td>2007-02</td>\n      <td>2007-01</td>\n      <td>19049.0</td>\n      <td>2007.0</td>\n      <td>...</td>\n      <td>0.0</td>\n      <td>0.0</td>\n      <td>0.0</td>\n      <td>0.0</td>\n      <td>0.0</td>\n      <td>7.0</td>\n      <td>5.0</td>\n      <td>5.0</td>\n      <td>9.0</td>\n      <td>9.0</td>\n    </tr>\n    <tr>\n      <th>26</th>\n      <td>10002</td>\n      <td>2007-03-30</td>\n      <td>-0.040559</td>\n      <td>2.366534e+08</td>\n      <td>2.477735e+08</td>\n      <td>05978R10</td>\n      <td>2007-03</td>\n      <td>2007-02</td>\n      <td>19049.0</td>\n      <td>2007.0</td>\n      <td>...</td>\n      <td>0.0</td>\n      <td>0.0</td>\n      <td>0.0</td>\n      <td>0.0</td>\n      <td>0.0</td>\n      <td>18.0</td>\n      <td>6.0</td>\n      <td>6.0</td>\n      <td>20.0</td>\n      <td>20.0</td>\n    </tr>\n    <tr>\n      <th>27</th>\n      <td>10002</td>\n      <td>2007-04-30</td>\n      <td>-0.053403</td>\n      <td>2.240155e+08</td>\n      <td>2.366534e+08</td>\n      <td>05978R10</td>\n      <td>2007-04</td>\n      <td>2007-03</td>\n      <td>19049.0</td>\n      <td>2007.0</td>\n      <td>...</td>\n      <td>0.0</td>\n      <td>0.0</td>\n      <td>0.0</td>\n      <td>0.0</td>\n      <td>0.0</td>\n      <td>23.0</td>\n      <td>9.0</td>\n      <td>9.0</td>\n      <td>25.0</td>\n      <td>25.0</td>\n    </tr>\n    <tr>\n      <th>28</th>\n      <td>10002</td>\n      <td>2007-05-31</td>\n      <td>0.000499</td>\n      <td>2.241875e+08</td>\n      <td>2.240155e+08</td>\n      <td>05978R10</td>\n      <td>2007-05</td>\n      <td>2007-04</td>\n      <td>19049.0</td>\n      <td>2007.0</td>\n      <td>...</td>\n      <td>0.0</td>\n      <td>0.0</td>\n      <td>0.0</td>\n      <td>0.0</td>\n      <td>0.0</td>\n      <td>30.0</td>\n      <td>11.0</td>\n      <td>10.0</td>\n      <td>28.0</td>\n      <td>28.0</td>\n    </tr>\n    <tr>\n      <th>29</th>\n      <td>10002</td>\n      <td>2007-06-29</td>\n      <td>0.054391</td>\n      <td>2.351160e+08</td>\n      <td>2.241875e+08</td>\n      <td>05978R10</td>\n      <td>2007-06</td>\n      <td>2007-05</td>\n      <td>19049.0</td>\n      <td>2007.0</td>\n      <td>...</td>\n      <td>0.0</td>\n      <td>0.0</td>\n      <td>0.0</td>\n      <td>0.0</td>\n      <td>0.0</td>\n      <td>70.0</td>\n      <td>11.0</td>\n      <td>14.0</td>\n      <td>71.0</td>\n      <td>71.0</td>\n    </tr>\n    <tr>\n      <th>...</th>\n      <td>...</td>\n      <td>...</td>\n      <td>...</td>\n      <td>...</td>\n      <td>...</td>\n      <td>...</td>\n      <td>...</td>\n      <td>...</td>\n      <td>...</td>\n      <td>...</td>\n      <td>...</td>\n      <td>...</td>\n      <td>...</td>\n      <td>...</td>\n      <td>...</td>\n      <td>...</td>\n      <td>...</td>\n      <td>...</td>\n      <td>...</td>\n      <td>...</td>\n      <td>...</td>\n    </tr>\n    <tr>\n      <th>812611</th>\n      <td>93436</td>\n      <td>2023-09-29</td>\n      <td>-0.030456</td>\n      <td>7.954494e+11</td>\n      <td>8.191443e+11</td>\n      <td>88160R10</td>\n      <td>2023-09</td>\n      <td>2023-08</td>\n      <td>184996.0</td>\n      <td>2023.0</td>\n      <td>...</td>\n      <td>42.0</td>\n      <td>145.0</td>\n      <td>121.0</td>\n      <td>150.0</td>\n      <td>154.0</td>\n      <td>555.0</td>\n      <td>2063.0</td>\n      <td>1449.0</td>\n      <td>2089.0</td>\n      <td>2064.0</td>\n    </tr>\n    <tr>\n      <th>812612</th>\n      <td>93436</td>\n      <td>2023-10-31</td>\n      <td>-0.197346</td>\n      <td>6.384545e+11</td>\n      <td>7.954494e+11</td>\n      <td>88160R10</td>\n      <td>2023-10</td>\n      <td>2023-09</td>\n      <td>184996.0</td>\n      <td>2023.0</td>\n      <td>...</td>\n      <td>43.0</td>\n      <td>147.0</td>\n      <td>122.0</td>\n      <td>149.0</td>\n      <td>153.0</td>\n      <td>546.0</td>\n      <td>2143.0</td>\n      <td>1431.0</td>\n      <td>2133.0</td>\n      <td>2108.0</td>\n    </tr>\n    <tr>\n      <th>812613</th>\n      <td>93436</td>\n      <td>2023-11-30</td>\n      <td>0.195379</td>\n      <td>7.631954e+11</td>\n      <td>6.384545e+11</td>\n      <td>88160R10</td>\n      <td>2023-11</td>\n      <td>2023-10</td>\n      <td>184996.0</td>\n      <td>2023.0</td>\n      <td>...</td>\n      <td>46.0</td>\n      <td>154.0</td>\n      <td>129.0</td>\n      <td>154.0</td>\n      <td>158.0</td>\n      <td>557.0</td>\n      <td>2216.0</td>\n      <td>1550.0</td>\n      <td>2216.0</td>\n      <td>2191.0</td>\n    </tr>\n    <tr>\n      <th>812614</th>\n      <td>93436</td>\n      <td>2023-12-29</td>\n      <td>0.034988</td>\n      <td>7.914088e+11</td>\n      <td>7.631954e+11</td>\n      <td>88160R10</td>\n      <td>2023-12</td>\n      <td>2023-11</td>\n      <td>184996.0</td>\n      <td>2023.0</td>\n      <td>...</td>\n      <td>49.0</td>\n      <td>156.0</td>\n      <td>131.0</td>\n      <td>156.0</td>\n      <td>160.0</td>\n      <td>554.0</td>\n      <td>2260.0</td>\n      <td>1594.0</td>\n      <td>2260.0</td>\n      <td>2235.0</td>\n    </tr>\n    <tr>\n      <th>812615</th>\n      <td>93436</td>\n      <td>2024-01-31</td>\n      <td>-0.246257</td>\n      <td>5.964793e+11</td>\n      <td>7.914088e+11</td>\n      <td>88160R10</td>\n      <td>2024-01</td>\n      <td>2023-12</td>\n      <td>184996.0</td>\n      <td>2023.0</td>\n      <td>...</td>\n      <td>49.0</td>\n      <td>156.0</td>\n      <td>131.0</td>\n      <td>156.0</td>\n      <td>160.0</td>\n      <td>549.0</td>\n      <td>2332.0</td>\n      <td>1666.0</td>\n      <td>2332.0</td>\n      <td>2307.0</td>\n    </tr>\n  </tbody>\n</table>\n<p>684178 rows × 44 columns</p>\n</div>"
     },
     "execution_count": 339,
     "metadata": {},
     "output_type": "execute_result"
    }
   ],
   "source": [
    "cols = ['n_material','n_car_1_material','n_car_5_material','n_reach_material','n_severity_material',\n",
    "        'industry_n_material','industry_n_car_1_material','industry_n_car_5_material',\n",
    "        'industry_n_reach_material','industry_n_severity_material']\n",
    "\n",
    "df = df.sort_values(['permno','date'])\n",
    "for c in cols:\n",
    "    df[f'{c}_24m'] = df.groupby('permno')[c].transform(lambda s: s.fillna(0).rolling(24, min_periods=1).sum())\n",
    "\n",
    "df"
   ],
   "metadata": {
    "collapsed": false,
    "ExecuteTime": {
     "end_time": "2025-10-21T18:26:46.102167900Z",
     "start_time": "2025-10-21T18:26:19.998896500Z"
    }
   }
  },
  {
   "cell_type": "code",
   "execution_count": 340,
   "outputs": [],
   "source": [
    "df.dropna(subset=['ret_adj'], inplace=True)"
   ],
   "metadata": {
    "collapsed": false,
    "ExecuteTime": {
     "end_time": "2025-10-21T18:26:46.349747400Z",
     "start_time": "2025-10-21T18:26:46.074362300Z"
    }
   }
  },
  {
   "cell_type": "code",
   "execution_count": 341,
   "outputs": [],
   "source": [
    "def add_portfolios_three_selections(\n",
    "    df: pd.DataFrame,\n",
    "    date_col: str = \"YearMonth\",\n",
    "    industry_col: str = \"SICS Codified Industry\",\n",
    "):\n",
    "    \"\"\"\n",
    "    Adds tertile/quintile bins + top/bottom flags for three scopes:\n",
    "      (A) firm incidents within month×industry  → *_tertile_industry, *_quintile_industry, flags\n",
    "      (B) firm incidents within month (overall) → *_tertile, *_quintile, flags\n",
    "      (C) industry-peers incidents within month → *_tertile_industry_peers, *_quintile_industry_peers, flags\n",
    "\n",
    "    Firm incident columns:\n",
    "      ['n_material','n_car_1_material','n_car_5_material','n_reach_material','n_severity_material']\n",
    "\n",
    "    Industry-peers incident columns:\n",
    "      ['industry_n_material','industry_n_car_1_material','industry_n_car_5_material',\n",
    "       'industry_n_reach_material','industry_n_severity_material']\n",
    "    \"\"\"\n",
    "    out = df.copy()\n",
    "\n",
    "    # --- Month key (safe parsing) ---\n",
    "    if date_col not in out.columns:\n",
    "        raise KeyError(f\"{date_col} not found.\")\n",
    "    s = out[date_col]\n",
    "    if isinstance(s.dtype, pd.PeriodDtype):\n",
    "        out[\"_mkey_\"] = s.asfreq(\"M\")\n",
    "    elif pd.api.types.is_datetime64_any_dtype(s):\n",
    "        out[\"_mkey_\"] = s.dt.to_period(\"M\")\n",
    "    else:\n",
    "        out[\"_mkey_\"] = pd.to_datetime(s, errors=\"coerce\").dt.to_period(\"M\")\n",
    "\n",
    "    # --- Column sets (keep only numeric present in df) ---\n",
    "    firm_cols = [\n",
    "        'n_material','n_car_1_material','n_car_5_material','n_reach_material','n_severity_material'\n",
    "    ]\n",
    "    firm_cols = [c for c in firm_cols if c in out.columns and pd.api.types.is_numeric_dtype(out[c])]\n",
    "\n",
    "    ind_cols = [\n",
    "        'industry_n_material','industry_n_car_1_material','industry_n_car_5_material',\n",
    "        'industry_n_reach_material','industry_n_severity_material'\n",
    "    ]\n",
    "    ind_cols = [c for c in ind_cols if c in out.columns and pd.api.types.is_numeric_dtype(out[c])]\n",
    "\n",
    "    def _bins_by_quantiles(s: pd.Series, quantiles) -> pd.Series:\n",
    "        \"\"\"Return Int64 bins using cutpoints from s.quantile(quantiles).\"\"\"\n",
    "        s = pd.to_numeric(s, errors=\"coerce\")\n",
    "        mask = s.notna()\n",
    "        res = pd.Series(pd.NA, index=s.index, dtype=\"Int64\")\n",
    "        n = int(mask.sum())\n",
    "        if n == 0:\n",
    "            return res\n",
    "        nbins = len(quantiles) + 1\n",
    "        if n < nbins:\n",
    "            return res\n",
    "        x = s[mask]\n",
    "        if x.min() == x.max():\n",
    "            res.loc[mask] = (nbins + 1) // 2   # middle bin (2 for tertiles, 3 for quintiles)\n",
    "            return res\n",
    "        qs = x.quantile(quantiles)\n",
    "        if nbins == 3:  # tertiles\n",
    "            q1, q2 = qs.iloc[0], qs.iloc[1]\n",
    "            b = pd.Series(2, index=x.index, dtype=\"Int64\")\n",
    "            b[x <= q1] = 1\n",
    "            b[x >  q2] = 3\n",
    "        else:          # quintiles\n",
    "            q20, q40, q60, q80 = qs.iloc[0], qs.iloc[1], qs.iloc[2], qs.iloc[3]\n",
    "            b = pd.Series(3, index=x.index, dtype=\"Int64\")\n",
    "            b[x <= q20] = 1\n",
    "            b[(x > q20) & (x <= q40)] = 2\n",
    "            b[(x > q40) & (x <= q60)] = 3\n",
    "            b[(x > q60) & (x <= q80)] = 4\n",
    "            b[x > q80] = 5\n",
    "        res.loc[b.index] = b\n",
    "        return res\n",
    "\n",
    "    def _apply_for_scope(cols, group_keys, suffix: str):\n",
    "        g = out.groupby(group_keys, observed=True, sort=False)\n",
    "        for col in cols:\n",
    "            # tertiles\n",
    "            tert = g[col].transform(lambda s: _bins_by_quantiles(s, [1/3, 2/3]))\n",
    "            out[f\"{col}_tertile{suffix}\"]          = tert\n",
    "            out[f\"{col}_top_tertile{suffix}\"]      = (tert == 3).astype(\"Int8\")\n",
    "            out[f\"{col}_bottom_tertile{suffix}\"]   = (tert == 1).astype(\"Int8\")\n",
    "\n",
    "            # quintiles (always computed)\n",
    "            quin = g[col].transform(lambda s: _bins_by_quantiles(s, [0.2, 0.4, 0.6, 0.8]))\n",
    "            out[f\"{col}_quintile{suffix}\"]         = quin\n",
    "            out[f\"{col}_top_quintile{suffix}\"]     = (quin == 5).astype(\"Int8\")\n",
    "            out[f\"{col}_bottom_quintile{suffix}\"]  = (quin == 1).astype(\"Int8\")\n",
    "\n",
    "    # (A) Within month × industry: firm incidents\n",
    "    if firm_cols and industry_col in out.columns:\n",
    "        _apply_for_scope(firm_cols, [\"_mkey_\", industry_col], suffix=\"_industry\")\n",
    "\n",
    "    # (B) Within month overall: firm incidents\n",
    "    if firm_cols:\n",
    "        _apply_for_scope(firm_cols, [\"_mkey_\"], suffix=\"\")\n",
    "\n",
    "    # (C) Within month overall: industry-peers incidents\n",
    "    if ind_cols:\n",
    "        _apply_for_scope(ind_cols, [\"_mkey_\"], suffix=\"_industry_peers\")\n",
    "\n",
    "    return out.drop(columns=[\"_mkey_\"])\n"
   ],
   "metadata": {
    "collapsed": false,
    "ExecuteTime": {
     "end_time": "2025-10-21T18:26:46.349747400Z",
     "start_time": "2025-10-21T18:26:46.265636800Z"
    }
   }
  },
  {
   "cell_type": "code",
   "execution_count": 302,
   "outputs": [
    {
     "data": {
      "text/plain": "        permno        date   ret_adj            me        me_lag     cusip  \\\n25       10002  2007-02-28  0.033054  2.477735e+08  2.398457e+08  05978R10   \n26       10002  2007-03-30 -0.040559  2.366534e+08  2.477735e+08  05978R10   \n27       10002  2007-04-30 -0.053403  2.240155e+08  2.366534e+08  05978R10   \n28       10002  2007-05-31  0.000499  2.241875e+08  2.240155e+08  05978R10   \n29       10002  2007-06-29  0.054391  2.351160e+08  2.241875e+08  05978R10   \n...        ...         ...       ...           ...           ...       ...   \n812611   93436  2023-09-29 -0.030456  7.954494e+11  8.191443e+11  88160R10   \n812612   93436  2023-10-31 -0.197346  6.384545e+11  7.954494e+11  88160R10   \n812613   93436  2023-11-30  0.195379  7.631954e+11  6.384545e+11  88160R10   \n812614   93436  2023-12-29  0.034988  7.914088e+11  7.631954e+11  88160R10   \n812615   93436  2024-01-31 -0.246257  5.964793e+11  7.914088e+11  88160R10   \n\n          month month_prior     gvkey    year  ...  \\\n25      2007-02     2007-01   19049.0  2007.0  ...   \n26      2007-03     2007-02   19049.0  2007.0  ...   \n27      2007-04     2007-03   19049.0  2007.0  ...   \n28      2007-05     2007-04   19049.0  2007.0  ...   \n29      2007-06     2007-05   19049.0  2007.0  ...   \n...         ...         ...       ...     ...  ...   \n812611  2023-09     2023-08  184996.0  2023.0  ...   \n812612  2023-10     2023-09  184996.0  2023.0  ...   \n812613  2023-11     2023-10  184996.0  2023.0  ...   \n812614  2023-12     2023-11  184996.0  2023.0  ...   \n812615  2024-01     2023-12  184996.0  2023.0  ...   \n\n       industry_n_reach_material_bottom_tertile_industry_peers  \\\n25                                                      0        \n26                                                      0        \n27                                                      0        \n28                                                      0        \n29                                                      0        \n...                                                   ...        \n812611                                                  0        \n812612                                                  0        \n812613                                                  0        \n812614                                                  0        \n812615                                                  0        \n\n       industry_n_reach_material_quintile_industry_peers  \\\n25                                                     5   \n26                                                     5   \n27                                                     5   \n28                                                     4   \n29                                                     5   \n...                                                  ...   \n812611                                                 5   \n812612                                                 5   \n812613                                                 5   \n812614                                                 5   \n812615                                                 5   \n\n       industry_n_reach_material_top_quintile_industry_peers  \\\n25                                                      1      \n26                                                      1      \n27                                                      1      \n28                                                      0      \n29                                                      1      \n...                                                   ...      \n812611                                                  1      \n812612                                                  1      \n812613                                                  1      \n812614                                                  1      \n812615                                                  1      \n\n        industry_n_reach_material_bottom_quintile_industry_peers  \\\n25                                                      0          \n26                                                      0          \n27                                                      0          \n28                                                      0          \n29                                                      0          \n...                                                   ...          \n812611                                                  0          \n812612                                                  0          \n812613                                                  0          \n812614                                                  0          \n812615                                                  0          \n\n        industry_n_severity_material_tertile_industry_peers  \\\n25                                                      3     \n26                                                      3     \n27                                                      3     \n28                                                      3     \n29                                                      3     \n...                                                   ...     \n812611                                                  3     \n812612                                                  3     \n812613                                                  3     \n812614                                                  3     \n812615                                                  3     \n\n        industry_n_severity_material_top_tertile_industry_peers  \\\n25                                                      1         \n26                                                      1         \n27                                                      1         \n28                                                      1         \n29                                                      1         \n...                                                   ...         \n812611                                                  1         \n812612                                                  1         \n812613                                                  1         \n812614                                                  1         \n812615                                                  1         \n\n        industry_n_severity_material_bottom_tertile_industry_peers  \\\n25                                                      0            \n26                                                      0            \n27                                                      0            \n28                                                      0            \n29                                                      0            \n...                                                   ...            \n812611                                                  0            \n812612                                                  0            \n812613                                                  0            \n812614                                                  0            \n812615                                                  0            \n\n        industry_n_severity_material_quintile_industry_peers  \\\n25                                                      5      \n26                                                      5      \n27                                                      5      \n28                                                      4      \n29                                                      5      \n...                                                   ...      \n812611                                                  5      \n812612                                                  5      \n812613                                                  5      \n812614                                                  5      \n812615                                                  5      \n\n        industry_n_severity_material_top_quintile_industry_peers  \\\n25                                                      1          \n26                                                      1          \n27                                                      1          \n28                                                      0          \n29                                                      1          \n...                                                   ...          \n812611                                                  1          \n812612                                                  1          \n812613                                                  1          \n812614                                                  1          \n812615                                                  1          \n\n        industry_n_severity_material_bottom_quintile_industry_peers  \n25                                                      0            \n26                                                      0            \n27                                                      0            \n28                                                      0            \n29                                                      0            \n...                                                   ...            \n812611                                                  0            \n812612                                                  0            \n812613                                                  0            \n812614                                                  0            \n812615                                                  0            \n\n[681231 rows x 134 columns]",
      "text/html": "<div>\n<style scoped>\n    .dataframe tbody tr th:only-of-type {\n        vertical-align: middle;\n    }\n\n    .dataframe tbody tr th {\n        vertical-align: top;\n    }\n\n    .dataframe thead th {\n        text-align: right;\n    }\n</style>\n<table border=\"1\" class=\"dataframe\">\n  <thead>\n    <tr style=\"text-align: right;\">\n      <th></th>\n      <th>permno</th>\n      <th>date</th>\n      <th>ret_adj</th>\n      <th>me</th>\n      <th>me_lag</th>\n      <th>cusip</th>\n      <th>month</th>\n      <th>month_prior</th>\n      <th>gvkey</th>\n      <th>year</th>\n      <th>...</th>\n      <th>industry_n_reach_material_bottom_tertile_industry_peers</th>\n      <th>industry_n_reach_material_quintile_industry_peers</th>\n      <th>industry_n_reach_material_top_quintile_industry_peers</th>\n      <th>industry_n_reach_material_bottom_quintile_industry_peers</th>\n      <th>industry_n_severity_material_tertile_industry_peers</th>\n      <th>industry_n_severity_material_top_tertile_industry_peers</th>\n      <th>industry_n_severity_material_bottom_tertile_industry_peers</th>\n      <th>industry_n_severity_material_quintile_industry_peers</th>\n      <th>industry_n_severity_material_top_quintile_industry_peers</th>\n      <th>industry_n_severity_material_bottom_quintile_industry_peers</th>\n    </tr>\n  </thead>\n  <tbody>\n    <tr>\n      <th>25</th>\n      <td>10002</td>\n      <td>2007-02-28</td>\n      <td>0.033054</td>\n      <td>2.477735e+08</td>\n      <td>2.398457e+08</td>\n      <td>05978R10</td>\n      <td>2007-02</td>\n      <td>2007-01</td>\n      <td>19049.0</td>\n      <td>2007.0</td>\n      <td>...</td>\n      <td>0</td>\n      <td>5</td>\n      <td>1</td>\n      <td>0</td>\n      <td>3</td>\n      <td>1</td>\n      <td>0</td>\n      <td>5</td>\n      <td>1</td>\n      <td>0</td>\n    </tr>\n    <tr>\n      <th>26</th>\n      <td>10002</td>\n      <td>2007-03-30</td>\n      <td>-0.040559</td>\n      <td>2.366534e+08</td>\n      <td>2.477735e+08</td>\n      <td>05978R10</td>\n      <td>2007-03</td>\n      <td>2007-02</td>\n      <td>19049.0</td>\n      <td>2007.0</td>\n      <td>...</td>\n      <td>0</td>\n      <td>5</td>\n      <td>1</td>\n      <td>0</td>\n      <td>3</td>\n      <td>1</td>\n      <td>0</td>\n      <td>5</td>\n      <td>1</td>\n      <td>0</td>\n    </tr>\n    <tr>\n      <th>27</th>\n      <td>10002</td>\n      <td>2007-04-30</td>\n      <td>-0.053403</td>\n      <td>2.240155e+08</td>\n      <td>2.366534e+08</td>\n      <td>05978R10</td>\n      <td>2007-04</td>\n      <td>2007-03</td>\n      <td>19049.0</td>\n      <td>2007.0</td>\n      <td>...</td>\n      <td>0</td>\n      <td>5</td>\n      <td>1</td>\n      <td>0</td>\n      <td>3</td>\n      <td>1</td>\n      <td>0</td>\n      <td>5</td>\n      <td>1</td>\n      <td>0</td>\n    </tr>\n    <tr>\n      <th>28</th>\n      <td>10002</td>\n      <td>2007-05-31</td>\n      <td>0.000499</td>\n      <td>2.241875e+08</td>\n      <td>2.240155e+08</td>\n      <td>05978R10</td>\n      <td>2007-05</td>\n      <td>2007-04</td>\n      <td>19049.0</td>\n      <td>2007.0</td>\n      <td>...</td>\n      <td>0</td>\n      <td>4</td>\n      <td>0</td>\n      <td>0</td>\n      <td>3</td>\n      <td>1</td>\n      <td>0</td>\n      <td>4</td>\n      <td>0</td>\n      <td>0</td>\n    </tr>\n    <tr>\n      <th>29</th>\n      <td>10002</td>\n      <td>2007-06-29</td>\n      <td>0.054391</td>\n      <td>2.351160e+08</td>\n      <td>2.241875e+08</td>\n      <td>05978R10</td>\n      <td>2007-06</td>\n      <td>2007-05</td>\n      <td>19049.0</td>\n      <td>2007.0</td>\n      <td>...</td>\n      <td>0</td>\n      <td>5</td>\n      <td>1</td>\n      <td>0</td>\n      <td>3</td>\n      <td>1</td>\n      <td>0</td>\n      <td>5</td>\n      <td>1</td>\n      <td>0</td>\n    </tr>\n    <tr>\n      <th>...</th>\n      <td>...</td>\n      <td>...</td>\n      <td>...</td>\n      <td>...</td>\n      <td>...</td>\n      <td>...</td>\n      <td>...</td>\n      <td>...</td>\n      <td>...</td>\n      <td>...</td>\n      <td>...</td>\n      <td>...</td>\n      <td>...</td>\n      <td>...</td>\n      <td>...</td>\n      <td>...</td>\n      <td>...</td>\n      <td>...</td>\n      <td>...</td>\n      <td>...</td>\n      <td>...</td>\n    </tr>\n    <tr>\n      <th>812611</th>\n      <td>93436</td>\n      <td>2023-09-29</td>\n      <td>-0.030456</td>\n      <td>7.954494e+11</td>\n      <td>8.191443e+11</td>\n      <td>88160R10</td>\n      <td>2023-09</td>\n      <td>2023-08</td>\n      <td>184996.0</td>\n      <td>2023.0</td>\n      <td>...</td>\n      <td>0</td>\n      <td>5</td>\n      <td>1</td>\n      <td>0</td>\n      <td>3</td>\n      <td>1</td>\n      <td>0</td>\n      <td>5</td>\n      <td>1</td>\n      <td>0</td>\n    </tr>\n    <tr>\n      <th>812612</th>\n      <td>93436</td>\n      <td>2023-10-31</td>\n      <td>-0.197346</td>\n      <td>6.384545e+11</td>\n      <td>7.954494e+11</td>\n      <td>88160R10</td>\n      <td>2023-10</td>\n      <td>2023-09</td>\n      <td>184996.0</td>\n      <td>2023.0</td>\n      <td>...</td>\n      <td>0</td>\n      <td>5</td>\n      <td>1</td>\n      <td>0</td>\n      <td>3</td>\n      <td>1</td>\n      <td>0</td>\n      <td>5</td>\n      <td>1</td>\n      <td>0</td>\n    </tr>\n    <tr>\n      <th>812613</th>\n      <td>93436</td>\n      <td>2023-11-30</td>\n      <td>0.195379</td>\n      <td>7.631954e+11</td>\n      <td>6.384545e+11</td>\n      <td>88160R10</td>\n      <td>2023-11</td>\n      <td>2023-10</td>\n      <td>184996.0</td>\n      <td>2023.0</td>\n      <td>...</td>\n      <td>0</td>\n      <td>5</td>\n      <td>1</td>\n      <td>0</td>\n      <td>3</td>\n      <td>1</td>\n      <td>0</td>\n      <td>5</td>\n      <td>1</td>\n      <td>0</td>\n    </tr>\n    <tr>\n      <th>812614</th>\n      <td>93436</td>\n      <td>2023-12-29</td>\n      <td>0.034988</td>\n      <td>7.914088e+11</td>\n      <td>7.631954e+11</td>\n      <td>88160R10</td>\n      <td>2023-12</td>\n      <td>2023-11</td>\n      <td>184996.0</td>\n      <td>2023.0</td>\n      <td>...</td>\n      <td>0</td>\n      <td>5</td>\n      <td>1</td>\n      <td>0</td>\n      <td>3</td>\n      <td>1</td>\n      <td>0</td>\n      <td>5</td>\n      <td>1</td>\n      <td>0</td>\n    </tr>\n    <tr>\n      <th>812615</th>\n      <td>93436</td>\n      <td>2024-01-31</td>\n      <td>-0.246257</td>\n      <td>5.964793e+11</td>\n      <td>7.914088e+11</td>\n      <td>88160R10</td>\n      <td>2024-01</td>\n      <td>2023-12</td>\n      <td>184996.0</td>\n      <td>2023.0</td>\n      <td>...</td>\n      <td>0</td>\n      <td>5</td>\n      <td>1</td>\n      <td>0</td>\n      <td>3</td>\n      <td>1</td>\n      <td>0</td>\n      <td>5</td>\n      <td>1</td>\n      <td>0</td>\n    </tr>\n  </tbody>\n</table>\n<p>681231 rows × 134 columns</p>\n</div>"
     },
     "execution_count": 302,
     "metadata": {},
     "output_type": "execute_result"
    }
   ],
   "source": [
    "df_ports = add_portfolios_three_selections(\n",
    "    df,\n",
    "    date_col=\"YearMonth\",\n",
    "    industry_col=\"SICS Codified Industry \"\n",
    ")\n",
    "df_ports"
   ],
   "metadata": {
    "collapsed": false,
    "ExecuteTime": {
     "end_time": "2025-10-21T15:33:00.501020500Z",
     "start_time": "2025-10-21T15:23:37.728093400Z"
    }
   }
  },
  {
   "cell_type": "code",
   "execution_count": 225,
   "outputs": [
    {
     "data": {
      "text/plain": "permno                                                0\ndate                                                  0\nret_adj                                               0\nme                                                    0\nme_lag                                              130\n                                                   ... \nindustry_n_severity_material_24m_top_tertile          0\nindustry_n_severity_material_24m_bottom_tertile       0\nindustry_n_severity_material_24m_quintile             0\nindustry_n_severity_material_24m_top_quintile         0\nindustry_n_severity_material_24m_bottom_quintile      0\nLength: 104, dtype: int64"
     },
     "execution_count": 225,
     "metadata": {},
     "output_type": "execute_result"
    }
   ],
   "source": [
    "df_ports.isna().sum()"
   ],
   "metadata": {
    "collapsed": false,
    "ExecuteTime": {
     "end_time": "2025-10-20T19:22:21.779117600Z",
     "start_time": "2025-10-20T19:22:21.320502600Z"
    }
   }
  },
  {
   "cell_type": "code",
   "execution_count": 311,
   "outputs": [],
   "source": [
    "import re\n",
    "import pandas as pd\n",
    "import numpy as np\n",
    "\n",
    "def portfolio_membership_counts(df, date_col=\"YearMonth\"):\n",
    "    # month → Period[M]\n",
    "    if np.issubdtype(df[date_col].dtype, np.datetime64):\n",
    "        m = df[date_col].dt.to_period(\"M\")\n",
    "    else:\n",
    "        m = pd.to_datetime(df[date_col].astype(str), errors=\"coerce\").dt.to_period(\"M\")\n",
    "    x = df.copy()\n",
    "    x[\"_m_\"] = m\n",
    "\n",
    "    # Matches:\n",
    "    #   <signal>_(top|bottom)_(quintile|tertile)           -> overall\n",
    "    #   <signal>_(top|bottom)_(quintile|tertile)_industry  -> industry\n",
    "    #   <signal>_(top|bottom)_(quintile|tertile)_industry_peers -> industry_peers\n",
    "    pat = re.compile(\n",
    "        r\"^(?P<signal>.+)_(?P<leg>top|bottom)_(?P<bucket>quintile|tertile)\"\n",
    "        r\"(?P<scope>_industry(?:_peers)?|)$\"  # empty string => overall\n",
    "    )\n",
    "\n",
    "    def scope_name(sfx: str) -> str:\n",
    "        if sfx == \"\":\n",
    "            return \"overall\"\n",
    "        if sfx == \"_industry\":\n",
    "            return \"industry\"\n",
    "        if sfx == \"_industry_peers\":\n",
    "            return \"industry_peers\"\n",
    "        return \"overall\"\n",
    "\n",
    "    rows = []\n",
    "    for c in x.columns:\n",
    "        mobj = pat.match(c)\n",
    "        if not mobj:\n",
    "            continue\n",
    "        d = mobj.groupdict()\n",
    "        signal = d[\"signal\"]\n",
    "        leg    = d[\"leg\"]\n",
    "        bucket = d[\"bucket\"]\n",
    "        scope  = scope_name(d[\"scope\"])\n",
    "\n",
    "        # membership: accept 1/0 ints, bools, or numeric with NaNs\n",
    "        col = x[c]\n",
    "        if col.dtype == bool:\n",
    "            mask = col\n",
    "        else:\n",
    "            mask = pd.to_numeric(col, errors=\"coerce\").fillna(0).astype(int).eq(1)\n",
    "\n",
    "        cnt = x.loc[mask].groupby(\"_m_\").size()\n",
    "        rows.append(cnt.rename(f\"{signal}__{scope}__{bucket}__{leg}\"))\n",
    "\n",
    "    if not rows:\n",
    "        return pd.DataFrame()\n",
    "\n",
    "    return (\n",
    "        pd.concat(rows, axis=1)\n",
    "          .fillna(0).astype(int)\n",
    "          .reset_index()\n",
    "          .rename(columns={\"_m_\": \"YearMonth\"})\n",
    "    )\n",
    "\n",
    "# Example:\n",
    "membership = portfolio_membership_counts(df_ports)\n",
    "membership"
   ],
   "metadata": {
    "collapsed": false,
    "ExecuteTime": {
     "end_time": "2025-10-21T17:04:24.234222100Z",
     "start_time": "2025-10-21T17:04:24.112174900Z"
    }
   }
  },
  {
   "cell_type": "code",
   "execution_count": 312,
   "outputs": [],
   "source": [
    "def ls_excess_from_top_bottom_named(\n",
    "    df: pd.DataFrame,\n",
    "    date_col: str = \"YearMonth\",\n",
    "    ret_col: str  = \"ret_adj\",\n",
    "    rf_col: str   = \"RF\",\n",
    "    weight_col: str = \"me_lag\",\n",
    "):\n",
    "    x = df.copy()\n",
    "\n",
    "    # Month key -> Period[M]\n",
    "    if np.issubdtype(x[date_col].dtype, np.datetime64):\n",
    "        x[\"_m_\"] = x[date_col].dt.to_period(\"M\")\n",
    "    else:\n",
    "        x[\"_m_\"] = pd.to_datetime(x[date_col].astype(str), errors=\"coerce\").dt.to_period(\"M\")\n",
    "\n",
    "    # Excess return and weights\n",
    "    x[\"_rex_\"] = (\n",
    "        pd.to_numeric(x.get(ret_col, np.nan), errors=\"coerce\")\n",
    "        - pd.to_numeric(x.get(rf_col, 0.0), errors=\"coerce\").fillna(0.0)\n",
    "    )\n",
    "    x[\"_w_\"] = pd.to_numeric(x.get(weight_col, np.nan), errors=\"coerce\")\n",
    "\n",
    "    # Recognize columns with optional scope suffix\n",
    "    pat = re.compile(\n",
    "        r\"^(?P<signal>.+)_(?P<leg>top|bottom)_(?P<bucket>tertile|quintile)\"\n",
    "        r\"(?P<scope>_industry(?:_peers)?)?$\"\n",
    "    )\n",
    "\n",
    "    def scope_tag(scope: str | None) -> str:\n",
    "        if not scope:\n",
    "            return \"overall\"\n",
    "        if scope == \"_industry\":\n",
    "            return \"industry\"\n",
    "        if scope == \"_industry_peers\":\n",
    "            return \"industry_peers\"\n",
    "        return \"overall\"\n",
    "\n",
    "    # Collect top/bottom pairs by (signal, scope, bucket)\n",
    "    pairs = {}\n",
    "    for c in x.columns:\n",
    "        m = pat.match(c)\n",
    "        if not m:\n",
    "            continue\n",
    "        d = m.groupdict()\n",
    "        key = (d[\"signal\"], scope_tag(d[\"scope\"]), d[\"bucket\"])\n",
    "        pairs.setdefault(key, {\"top\": None, \"bottom\": None})\n",
    "        pairs[key][d[\"leg\"]] = c\n",
    "\n",
    "    specs = [\n",
    "        (sig, scp, bkt, cols[\"top\"], cols[\"bottom\"])\n",
    "        for (sig, scp, bkt), cols in pairs.items()\n",
    "        if cols[\"top\"] is not None and cols[\"bottom\"] is not None\n",
    "    ]\n",
    "    if not specs:\n",
    "        raise ValueError(\"No complete top/bottom pairs found for overall/industry/industry_peers.\")\n",
    "\n",
    "    def _clean_signal(sig: str) -> str:\n",
    "        s = sig\n",
    "        s = re.sub(r\"^n_\", \"\", s)\n",
    "        s = s.replace(\"_material_24m\", \"\").replace(\"_material\", \"\")\n",
    "        s = s.replace(\"_24m\", \"\")\n",
    "        return s.strip(\"_\")\n",
    "\n",
    "    # --- SAFE mask converter ---\n",
    "    def _safe_bool(mask: pd.Series) -> pd.Series:\n",
    "        # works for bool, int/float (0/1), and object with '0'/'1'\n",
    "        if mask.dtype == bool:\n",
    "            return mask.astype(\"boolean\").fillna(False)\n",
    "        m = pd.to_numeric(mask, errors=\"coerce\")\n",
    "        return m.eq(1).astype(\"boolean\").fillna(False)\n",
    "\n",
    "    # EW & VW helpers on *excess* returns\n",
    "    def _ew(mask: pd.Series) -> pd.Series:\n",
    "        m = _safe_bool(mask)\n",
    "        if not m.any():\n",
    "            return pd.Series(dtype=float)\n",
    "        return x.loc[m].groupby(x.loc[m, \"_m_\"])[\"_rex_\"].mean()\n",
    "\n",
    "    def _vw(mask: pd.Series) -> pd.Series:\n",
    "        m = _safe_bool(mask)\n",
    "        tmp = x.loc[m, [\"_m_\", \"_rex_\", \"_w_\"]].copy()\n",
    "        if tmp.empty:\n",
    "            return pd.Series(dtype=float)\n",
    "        tmp[\"_w_\"] = tmp[\"_w_\"].clip(lower=0)\n",
    "        sumw = tmp.groupby(\"_m_\")[\"_w_\"].sum()\n",
    "        sumw = sumw.where(sumw > 0)  # NaN when no positive weight\n",
    "        tmp = tmp.join(sumw.rename(\"_sumw_\"), on=\"_m_\")\n",
    "        tmp[\"_contrib_\"] = tmp[\"_rex_\"] * (tmp[\"_w_\"] / tmp[\"_sumw_\"])\n",
    "        return tmp.groupby(\"_m_\")[\"_contrib_\"].sum()\n",
    "\n",
    "    frames = []\n",
    "    for sig, scp, bkt, top_col, bot_col in sorted(specs):\n",
    "        top_m = x[top_col]\n",
    "        bot_m = x[bot_col]\n",
    "\n",
    "        ew_top, ew_bot = _ew(top_m), _ew(bot_m)\n",
    "        vw_top, vw_bot = _vw(top_m), _vw(bot_m)\n",
    "\n",
    "        # align unions of months\n",
    "        idx = ew_top.index.union(ew_bot.index)\n",
    "        ew_ls_ex = ew_top.reindex(idx) - ew_bot.reindex(idx)\n",
    "\n",
    "        idx_vw = vw_top.index.union(vw_bot.index)\n",
    "        vw_ls_ex = vw_top.reindex(idx_vw) - vw_bot.reindex(idx_vw)\n",
    "        vw_ls_ex = vw_ls_ex.reindex(idx)\n",
    "\n",
    "        base = _clean_signal(sig)\n",
    "        if scp == \"industry\":\n",
    "            base = f\"industry_{base}\"\n",
    "        elif scp == \"industry_peers\":\n",
    "            base = f\"industry_peers_{base}\"\n",
    "\n",
    "        col_ew = f\"{base}_{bkt}_ls_ew\"\n",
    "        col_vw = f\"{base}_{bkt}_ls_vw\"\n",
    "\n",
    "        frames.append(pd.DataFrame({\n",
    "            \"YearMonth\": idx,\n",
    "            col_ew: ew_ls_ex.values,\n",
    "            col_vw: vw_ls_ex.values,\n",
    "        }))\n",
    "\n",
    "    out = frames[0]\n",
    "    for f in frames[1:]:\n",
    "        out = out.merge(f, on=\"YearMonth\", how=\"outer\")\n",
    "\n",
    "    return out.sort_values(\"YearMonth\").reset_index(drop=True)\n"
   ],
   "metadata": {
    "collapsed": false,
    "ExecuteTime": {
     "end_time": "2025-10-21T17:04:34.557060100Z",
     "start_time": "2025-10-21T17:04:34.430781500Z"
    }
   }
  },
  {
   "cell_type": "code",
   "execution_count": 313,
   "outputs": [
    {
     "data": {
      "text/plain": "    YearMonth  industry_peers_industry_n_car_1_quintile_ls_ew  \\\n0     2007-01                                       -0.007277   \n1     2007-02                                        0.006250   \n2     2007-03                                       -0.031157   \n3     2007-04                                        0.013616   \n4     2007-05                                       -0.012006   \n..        ...                                             ...   \n199   2023-08                                        0.007513   \n200   2023-09                                        0.007605   \n201   2023-10                                       -0.007662   \n202   2023-11                                        0.005668   \n203   2023-12                                       -0.013809   \n\n     industry_peers_industry_n_car_1_quintile_ls_vw  \\\n0                                         -0.004943   \n1                                          0.013804   \n2                                         -0.005128   \n3                                          0.042829   \n4                                          0.009796   \n..                                              ...   \n199                                       -0.000675   \n200                                       -0.013586   \n201                                        0.009303   \n202                                        0.015046   \n203                                       -0.049008   \n\n     industry_peers_industry_n_car_1_tertile_ls_ew  \\\n0                                        -0.007277   \n1                                         0.006250   \n2                                        -0.031157   \n3                                        -0.025647   \n4                                        -0.010417   \n..                                             ...   \n199                                       0.006169   \n200                                       0.018436   \n201                                       0.000764   \n202                                       0.002535   \n203                                       0.034990   \n\n     industry_peers_industry_n_car_1_tertile_ls_vw  \\\n0                                        -0.004943   \n1                                         0.013804   \n2                                        -0.005128   \n3                                        -0.010104   \n4                                         0.002787   \n..                                             ...   \n199                                      -0.014052   \n200                                      -0.013823   \n201                                       0.024287   \n202                                       0.016108   \n203                                      -0.030416   \n\n     industry_peers_industry_n_car_5_quintile_ls_ew  \\\n0                                         -0.009758   \n1                                          0.006250   \n2                                         -0.036645   \n3                                         -0.024847   \n4                                         -0.019502   \n..                                              ...   \n199                                        0.001993   \n200                                        0.015277   \n201                                       -0.011749   \n202                                        0.014657   \n203                                       -0.002511   \n\n     industry_peers_industry_n_car_5_quintile_ls_vw  \\\n0                                         -0.004380   \n1                                          0.013804   \n2                                         -0.025260   \n3                                         -0.009405   \n4                                          0.001631   \n..                                              ...   \n199                                       -0.014365   \n200                                       -0.001421   \n201                                       -0.016558   \n202                                        0.005715   \n203                                       -0.091604   \n\n     industry_peers_industry_n_car_5_tertile_ls_ew  \\\n0                                        -0.007702   \n1                                         0.006250   \n2                                        -0.036645   \n3                                        -0.024390   \n4                                        -0.018817   \n..                                             ...   \n199                                       0.002296   \n200                                      -0.018117   \n201                                       0.004562   \n202                                       0.012749   \n203                                       0.036911   \n\n     industry_peers_industry_n_car_5_tertile_ls_vw  \\\n0                                        -0.004118   \n1                                         0.013804   \n2                                        -0.025260   \n3                                        -0.007571   \n4                                         0.001793   \n..                                             ...   \n199                                      -0.019216   \n200                                      -0.014550   \n201                                      -0.004092   \n202                                       0.021855   \n203                                      -0.045630   \n\n     industry_peers_industry_n_quintile_ls_ew  ...  reach_tertile_ls_ew  \\\n0                                   -0.005500  ...            -0.023924   \n1                                   -0.009696  ...             0.006067   \n2                                   -0.039467  ...             0.016917   \n3                                   -0.007613  ...             0.023047   \n4                                   -0.014101  ...             0.013641   \n..                                        ...  ...                  ...   \n199                                  0.002113  ...             0.004998   \n200                                  0.020745  ...             0.024368   \n201                                  0.009119  ...            -0.027422   \n202                                  0.024720  ...            -0.031855   \n203                                  0.006502  ...            -0.003277   \n\n     reach_tertile_ls_vw  industry_severity_quintile_ls_ew  \\\n0              -0.011437                         -0.024144   \n1               0.036809                          0.001559   \n2               0.011196                          0.013431   \n3              -0.007477                          0.009158   \n4               0.011768                          0.025424   \n..                   ...                               ...   \n199             0.001438                          0.008121   \n200             0.023411                          0.025808   \n201            -0.012753                          0.001499   \n202            -0.026213                         -0.040626   \n203            -0.011934                         -0.002534   \n\n     industry_severity_quintile_ls_vw  industry_severity_tertile_ls_ew  \\\n0                           -0.035310                        -0.027852   \n1                            0.021858                         0.001559   \n2                            0.007751                         0.013085   \n3                           -0.024406                         0.009158   \n4                            0.014051                         0.025408   \n..                                ...                              ...   \n199                          0.000815                         0.004500   \n200                          0.026964                         0.025872   \n201                         -0.006413                        -0.000416   \n202                         -0.018063                        -0.040201   \n203                         -0.002014                        -0.002145   \n\n     industry_severity_tertile_ls_vw  severity_quintile_ls_ew  \\\n0                          -0.032447                -0.022697   \n1                           0.021858                 0.006565   \n2                           0.005132                 0.016917   \n3                          -0.024406                 0.019648   \n4                           0.014035                 0.018303   \n..                               ...                      ...   \n199                         0.000705                 0.001731   \n200                         0.026087                 0.028035   \n201                        -0.008034                -0.021784   \n202                        -0.018572                -0.040076   \n203                        -0.000238                -0.000115   \n\n     severity_quintile_ls_vw  severity_tertile_ls_ew  severity_tertile_ls_vw  \n0                  -0.024004               -0.022697               -0.024004  \n1                   0.021926                0.006565                0.021926  \n2                   0.011196                0.016917                0.011196  \n3                  -0.011563                0.019648               -0.011563  \n4                   0.014206                0.018303                0.014206  \n..                       ...                     ...                     ...  \n199                -0.001148                0.001731               -0.001148  \n200                 0.027538                0.028035                0.027538  \n201                -0.010482               -0.021784               -0.010482  \n202                -0.027687               -0.040076               -0.027687  \n203                -0.012693               -0.000115               -0.012693  \n\n[204 rows x 61 columns]",
      "text/html": "<div>\n<style scoped>\n    .dataframe tbody tr th:only-of-type {\n        vertical-align: middle;\n    }\n\n    .dataframe tbody tr th {\n        vertical-align: top;\n    }\n\n    .dataframe thead th {\n        text-align: right;\n    }\n</style>\n<table border=\"1\" class=\"dataframe\">\n  <thead>\n    <tr style=\"text-align: right;\">\n      <th></th>\n      <th>YearMonth</th>\n      <th>industry_peers_industry_n_car_1_quintile_ls_ew</th>\n      <th>industry_peers_industry_n_car_1_quintile_ls_vw</th>\n      <th>industry_peers_industry_n_car_1_tertile_ls_ew</th>\n      <th>industry_peers_industry_n_car_1_tertile_ls_vw</th>\n      <th>industry_peers_industry_n_car_5_quintile_ls_ew</th>\n      <th>industry_peers_industry_n_car_5_quintile_ls_vw</th>\n      <th>industry_peers_industry_n_car_5_tertile_ls_ew</th>\n      <th>industry_peers_industry_n_car_5_tertile_ls_vw</th>\n      <th>industry_peers_industry_n_quintile_ls_ew</th>\n      <th>...</th>\n      <th>reach_tertile_ls_ew</th>\n      <th>reach_tertile_ls_vw</th>\n      <th>industry_severity_quintile_ls_ew</th>\n      <th>industry_severity_quintile_ls_vw</th>\n      <th>industry_severity_tertile_ls_ew</th>\n      <th>industry_severity_tertile_ls_vw</th>\n      <th>severity_quintile_ls_ew</th>\n      <th>severity_quintile_ls_vw</th>\n      <th>severity_tertile_ls_ew</th>\n      <th>severity_tertile_ls_vw</th>\n    </tr>\n  </thead>\n  <tbody>\n    <tr>\n      <th>0</th>\n      <td>2007-01</td>\n      <td>-0.007277</td>\n      <td>-0.004943</td>\n      <td>-0.007277</td>\n      <td>-0.004943</td>\n      <td>-0.009758</td>\n      <td>-0.004380</td>\n      <td>-0.007702</td>\n      <td>-0.004118</td>\n      <td>-0.005500</td>\n      <td>...</td>\n      <td>-0.023924</td>\n      <td>-0.011437</td>\n      <td>-0.024144</td>\n      <td>-0.035310</td>\n      <td>-0.027852</td>\n      <td>-0.032447</td>\n      <td>-0.022697</td>\n      <td>-0.024004</td>\n      <td>-0.022697</td>\n      <td>-0.024004</td>\n    </tr>\n    <tr>\n      <th>1</th>\n      <td>2007-02</td>\n      <td>0.006250</td>\n      <td>0.013804</td>\n      <td>0.006250</td>\n      <td>0.013804</td>\n      <td>0.006250</td>\n      <td>0.013804</td>\n      <td>0.006250</td>\n      <td>0.013804</td>\n      <td>-0.009696</td>\n      <td>...</td>\n      <td>0.006067</td>\n      <td>0.036809</td>\n      <td>0.001559</td>\n      <td>0.021858</td>\n      <td>0.001559</td>\n      <td>0.021858</td>\n      <td>0.006565</td>\n      <td>0.021926</td>\n      <td>0.006565</td>\n      <td>0.021926</td>\n    </tr>\n    <tr>\n      <th>2</th>\n      <td>2007-03</td>\n      <td>-0.031157</td>\n      <td>-0.005128</td>\n      <td>-0.031157</td>\n      <td>-0.005128</td>\n      <td>-0.036645</td>\n      <td>-0.025260</td>\n      <td>-0.036645</td>\n      <td>-0.025260</td>\n      <td>-0.039467</td>\n      <td>...</td>\n      <td>0.016917</td>\n      <td>0.011196</td>\n      <td>0.013431</td>\n      <td>0.007751</td>\n      <td>0.013085</td>\n      <td>0.005132</td>\n      <td>0.016917</td>\n      <td>0.011196</td>\n      <td>0.016917</td>\n      <td>0.011196</td>\n    </tr>\n    <tr>\n      <th>3</th>\n      <td>2007-04</td>\n      <td>0.013616</td>\n      <td>0.042829</td>\n      <td>-0.025647</td>\n      <td>-0.010104</td>\n      <td>-0.024847</td>\n      <td>-0.009405</td>\n      <td>-0.024390</td>\n      <td>-0.007571</td>\n      <td>-0.007613</td>\n      <td>...</td>\n      <td>0.023047</td>\n      <td>-0.007477</td>\n      <td>0.009158</td>\n      <td>-0.024406</td>\n      <td>0.009158</td>\n      <td>-0.024406</td>\n      <td>0.019648</td>\n      <td>-0.011563</td>\n      <td>0.019648</td>\n      <td>-0.011563</td>\n    </tr>\n    <tr>\n      <th>4</th>\n      <td>2007-05</td>\n      <td>-0.012006</td>\n      <td>0.009796</td>\n      <td>-0.010417</td>\n      <td>0.002787</td>\n      <td>-0.019502</td>\n      <td>0.001631</td>\n      <td>-0.018817</td>\n      <td>0.001793</td>\n      <td>-0.014101</td>\n      <td>...</td>\n      <td>0.013641</td>\n      <td>0.011768</td>\n      <td>0.025424</td>\n      <td>0.014051</td>\n      <td>0.025408</td>\n      <td>0.014035</td>\n      <td>0.018303</td>\n      <td>0.014206</td>\n      <td>0.018303</td>\n      <td>0.014206</td>\n    </tr>\n    <tr>\n      <th>...</th>\n      <td>...</td>\n      <td>...</td>\n      <td>...</td>\n      <td>...</td>\n      <td>...</td>\n      <td>...</td>\n      <td>...</td>\n      <td>...</td>\n      <td>...</td>\n      <td>...</td>\n      <td>...</td>\n      <td>...</td>\n      <td>...</td>\n      <td>...</td>\n      <td>...</td>\n      <td>...</td>\n      <td>...</td>\n      <td>...</td>\n      <td>...</td>\n      <td>...</td>\n      <td>...</td>\n    </tr>\n    <tr>\n      <th>199</th>\n      <td>2023-08</td>\n      <td>0.007513</td>\n      <td>-0.000675</td>\n      <td>0.006169</td>\n      <td>-0.014052</td>\n      <td>0.001993</td>\n      <td>-0.014365</td>\n      <td>0.002296</td>\n      <td>-0.019216</td>\n      <td>0.002113</td>\n      <td>...</td>\n      <td>0.004998</td>\n      <td>0.001438</td>\n      <td>0.008121</td>\n      <td>0.000815</td>\n      <td>0.004500</td>\n      <td>0.000705</td>\n      <td>0.001731</td>\n      <td>-0.001148</td>\n      <td>0.001731</td>\n      <td>-0.001148</td>\n    </tr>\n    <tr>\n      <th>200</th>\n      <td>2023-09</td>\n      <td>0.007605</td>\n      <td>-0.013586</td>\n      <td>0.018436</td>\n      <td>-0.013823</td>\n      <td>0.015277</td>\n      <td>-0.001421</td>\n      <td>-0.018117</td>\n      <td>-0.014550</td>\n      <td>0.020745</td>\n      <td>...</td>\n      <td>0.024368</td>\n      <td>0.023411</td>\n      <td>0.025808</td>\n      <td>0.026964</td>\n      <td>0.025872</td>\n      <td>0.026087</td>\n      <td>0.028035</td>\n      <td>0.027538</td>\n      <td>0.028035</td>\n      <td>0.027538</td>\n    </tr>\n    <tr>\n      <th>201</th>\n      <td>2023-10</td>\n      <td>-0.007662</td>\n      <td>0.009303</td>\n      <td>0.000764</td>\n      <td>0.024287</td>\n      <td>-0.011749</td>\n      <td>-0.016558</td>\n      <td>0.004562</td>\n      <td>-0.004092</td>\n      <td>0.009119</td>\n      <td>...</td>\n      <td>-0.027422</td>\n      <td>-0.012753</td>\n      <td>0.001499</td>\n      <td>-0.006413</td>\n      <td>-0.000416</td>\n      <td>-0.008034</td>\n      <td>-0.021784</td>\n      <td>-0.010482</td>\n      <td>-0.021784</td>\n      <td>-0.010482</td>\n    </tr>\n    <tr>\n      <th>202</th>\n      <td>2023-11</td>\n      <td>0.005668</td>\n      <td>0.015046</td>\n      <td>0.002535</td>\n      <td>0.016108</td>\n      <td>0.014657</td>\n      <td>0.005715</td>\n      <td>0.012749</td>\n      <td>0.021855</td>\n      <td>0.024720</td>\n      <td>...</td>\n      <td>-0.031855</td>\n      <td>-0.026213</td>\n      <td>-0.040626</td>\n      <td>-0.018063</td>\n      <td>-0.040201</td>\n      <td>-0.018572</td>\n      <td>-0.040076</td>\n      <td>-0.027687</td>\n      <td>-0.040076</td>\n      <td>-0.027687</td>\n    </tr>\n    <tr>\n      <th>203</th>\n      <td>2023-12</td>\n      <td>-0.013809</td>\n      <td>-0.049008</td>\n      <td>0.034990</td>\n      <td>-0.030416</td>\n      <td>-0.002511</td>\n      <td>-0.091604</td>\n      <td>0.036911</td>\n      <td>-0.045630</td>\n      <td>0.006502</td>\n      <td>...</td>\n      <td>-0.003277</td>\n      <td>-0.011934</td>\n      <td>-0.002534</td>\n      <td>-0.002014</td>\n      <td>-0.002145</td>\n      <td>-0.000238</td>\n      <td>-0.000115</td>\n      <td>-0.012693</td>\n      <td>-0.000115</td>\n      <td>-0.012693</td>\n    </tr>\n  </tbody>\n</table>\n<p>204 rows × 61 columns</p>\n</div>"
     },
     "execution_count": 313,
     "metadata": {},
     "output_type": "execute_result"
    }
   ],
   "source": [
    "df_ls = ls_excess_from_top_bottom_named(\n",
    "    df_ports,\n",
    "    date_col=\"YearMonth\",\n",
    "    ret_col=\"ret_adj\",\n",
    "    rf_col=\"RF\",\n",
    "    weight_col=\"me_lag\",\n",
    ")\n",
    "df_ls"
   ],
   "metadata": {
    "collapsed": false,
    "ExecuteTime": {
     "end_time": "2025-10-21T17:05:00.023801700Z",
     "start_time": "2025-10-21T17:04:39.592405900Z"
    }
   }
  },
  {
   "cell_type": "code",
   "execution_count": 315,
   "outputs": [
    {
     "data": {
      "text/plain": "          date  MKT_RF     SMB     HML      RF   year    month     MOM  \\\n0   2005-01-31 -0.0275 -0.0166  0.0206  0.0016  20.05  2005-01  0.0296   \n1   2005-02-28  0.0188 -0.0057  0.0141  0.0016  20.05  2005-02  0.0343   \n2   2005-03-31 -0.0194 -0.0141  0.0207  0.0021  20.05  2005-03  0.0043   \n3   2005-04-30 -0.0261 -0.0393  0.0005  0.0021  20.05  2005-04 -0.0068   \n4   2005-05-31  0.0365  0.0286 -0.0058  0.0024  20.05  2005-05  0.0037   \n..         ...     ...     ...     ...     ...    ...      ...     ...   \n235 2024-08-31   0.016 -0.0349  -0.011  0.0048  20.24  2024-08  0.0481   \n236 2024-09-30  0.0172 -0.0013 -0.0277   0.004  20.24  2024-09 -0.0062   \n237 2024-10-31   -0.01 -0.0099  0.0086  0.0039  20.24  2024-10    0.03   \n238 2024-11-30  0.0649  0.0446  0.0015   0.004  20.24  2024-11    0.01   \n239 2024-12-31 -0.0317 -0.0271   -0.03  0.0037  20.24  2024-12  -0.003   \n\n         dateff  \n0    2005-01-31  \n1    2005-02-28  \n2    2005-03-31  \n3    2005-04-29  \n4    2005-05-31  \n..          ...  \n235  2024-08-30  \n236  2024-09-30  \n237  2024-10-31  \n238  2024-11-29  \n239  2024-12-31  \n\n[240 rows x 9 columns]",
      "text/html": "<div>\n<style scoped>\n    .dataframe tbody tr th:only-of-type {\n        vertical-align: middle;\n    }\n\n    .dataframe tbody tr th {\n        vertical-align: top;\n    }\n\n    .dataframe thead th {\n        text-align: right;\n    }\n</style>\n<table border=\"1\" class=\"dataframe\">\n  <thead>\n    <tr style=\"text-align: right;\">\n      <th></th>\n      <th>date</th>\n      <th>MKT_RF</th>\n      <th>SMB</th>\n      <th>HML</th>\n      <th>RF</th>\n      <th>year</th>\n      <th>month</th>\n      <th>MOM</th>\n      <th>dateff</th>\n    </tr>\n  </thead>\n  <tbody>\n    <tr>\n      <th>0</th>\n      <td>2005-01-31</td>\n      <td>-0.0275</td>\n      <td>-0.0166</td>\n      <td>0.0206</td>\n      <td>0.0016</td>\n      <td>20.05</td>\n      <td>2005-01</td>\n      <td>0.0296</td>\n      <td>2005-01-31</td>\n    </tr>\n    <tr>\n      <th>1</th>\n      <td>2005-02-28</td>\n      <td>0.0188</td>\n      <td>-0.0057</td>\n      <td>0.0141</td>\n      <td>0.0016</td>\n      <td>20.05</td>\n      <td>2005-02</td>\n      <td>0.0343</td>\n      <td>2005-02-28</td>\n    </tr>\n    <tr>\n      <th>2</th>\n      <td>2005-03-31</td>\n      <td>-0.0194</td>\n      <td>-0.0141</td>\n      <td>0.0207</td>\n      <td>0.0021</td>\n      <td>20.05</td>\n      <td>2005-03</td>\n      <td>0.0043</td>\n      <td>2005-03-31</td>\n    </tr>\n    <tr>\n      <th>3</th>\n      <td>2005-04-30</td>\n      <td>-0.0261</td>\n      <td>-0.0393</td>\n      <td>0.0005</td>\n      <td>0.0021</td>\n      <td>20.05</td>\n      <td>2005-04</td>\n      <td>-0.0068</td>\n      <td>2005-04-29</td>\n    </tr>\n    <tr>\n      <th>4</th>\n      <td>2005-05-31</td>\n      <td>0.0365</td>\n      <td>0.0286</td>\n      <td>-0.0058</td>\n      <td>0.0024</td>\n      <td>20.05</td>\n      <td>2005-05</td>\n      <td>0.0037</td>\n      <td>2005-05-31</td>\n    </tr>\n    <tr>\n      <th>...</th>\n      <td>...</td>\n      <td>...</td>\n      <td>...</td>\n      <td>...</td>\n      <td>...</td>\n      <td>...</td>\n      <td>...</td>\n      <td>...</td>\n      <td>...</td>\n    </tr>\n    <tr>\n      <th>235</th>\n      <td>2024-08-31</td>\n      <td>0.016</td>\n      <td>-0.0349</td>\n      <td>-0.011</td>\n      <td>0.0048</td>\n      <td>20.24</td>\n      <td>2024-08</td>\n      <td>0.0481</td>\n      <td>2024-08-30</td>\n    </tr>\n    <tr>\n      <th>236</th>\n      <td>2024-09-30</td>\n      <td>0.0172</td>\n      <td>-0.0013</td>\n      <td>-0.0277</td>\n      <td>0.004</td>\n      <td>20.24</td>\n      <td>2024-09</td>\n      <td>-0.0062</td>\n      <td>2024-09-30</td>\n    </tr>\n    <tr>\n      <th>237</th>\n      <td>2024-10-31</td>\n      <td>-0.01</td>\n      <td>-0.0099</td>\n      <td>0.0086</td>\n      <td>0.0039</td>\n      <td>20.24</td>\n      <td>2024-10</td>\n      <td>0.03</td>\n      <td>2024-10-31</td>\n    </tr>\n    <tr>\n      <th>238</th>\n      <td>2024-11-30</td>\n      <td>0.0649</td>\n      <td>0.0446</td>\n      <td>0.0015</td>\n      <td>0.004</td>\n      <td>20.24</td>\n      <td>2024-11</td>\n      <td>0.01</td>\n      <td>2024-11-29</td>\n    </tr>\n    <tr>\n      <th>239</th>\n      <td>2024-12-31</td>\n      <td>-0.0317</td>\n      <td>-0.0271</td>\n      <td>-0.03</td>\n      <td>0.0037</td>\n      <td>20.24</td>\n      <td>2024-12</td>\n      <td>-0.003</td>\n      <td>2024-12-31</td>\n    </tr>\n  </tbody>\n</table>\n<p>240 rows × 9 columns</p>\n</div>"
     },
     "execution_count": 315,
     "metadata": {},
     "output_type": "execute_result"
    }
   ],
   "source": [
    "# ---- 5) Fama–French monthly factors ----\n",
    "ff = db.raw_sql(f\"\"\"\n",
    "select *\n",
    "from ff.factors_monthly\n",
    "where date between '{START}' and '{END}'\n",
    "\"\"\", date_cols=['date'])\n",
    "\n",
    "# Convert to decimals if table is in %\n",
    "for col in ff.columns:\n",
    "    if col.lower() != 'date' and pd.api.types.is_numeric_dtype(ff[col]):\n",
    "        med = ff[col].abs().median(skipna=True)\n",
    "        if pd.notna(med) and med > 0.5:  # crude but effective\n",
    "            ff[col] = ff[col] / 100.0\n",
    "\n",
    "ff = ff.rename(columns={\n",
    "    'mktrf':'MKT_RF', 'smb':'SMB', 'hml':'HML', 'rf':'RF',\n",
    "    'rmw':'RMW' if 'rmw' in ff.columns else 'RMW',\n",
    "    'cma':'CMA' if 'cma' in ff.columns else 'CMA',\n",
    "    'umd':'MOM' if 'umd' in ff.columns else 'MOM'\n",
    "})\n",
    "ff['date'] = ff['date'] + MonthEnd(0)\n",
    "ff['month'] = pd.to_datetime(ff['date']).dt.to_period('M')\n",
    "ff"
   ],
   "metadata": {
    "collapsed": false,
    "ExecuteTime": {
     "end_time": "2025-10-21T17:06:00.002440100Z",
     "start_time": "2025-10-21T17:05:59.727330400Z"
    }
   }
  },
  {
   "cell_type": "code",
   "execution_count": 316,
   "outputs": [
    {
     "data": {
      "text/plain": "    YearMonth  industry_peers_industry_n_car_1_quintile_ls_ew  \\\n0     2007-01                                       -0.007277   \n1     2007-02                                        0.006250   \n2     2007-03                                       -0.031157   \n3     2007-04                                        0.013616   \n4     2007-05                                       -0.012006   \n..        ...                                             ...   \n199   2023-08                                        0.007513   \n200   2023-09                                        0.007605   \n201   2023-10                                       -0.007662   \n202   2023-11                                        0.005668   \n203   2023-12                                       -0.013809   \n\n     industry_peers_industry_n_car_1_quintile_ls_vw  \\\n0                                         -0.004943   \n1                                          0.013804   \n2                                         -0.005128   \n3                                          0.042829   \n4                                          0.009796   \n..                                              ...   \n199                                       -0.000675   \n200                                       -0.013586   \n201                                        0.009303   \n202                                        0.015046   \n203                                       -0.049008   \n\n     industry_peers_industry_n_car_1_tertile_ls_ew  \\\n0                                        -0.007277   \n1                                         0.006250   \n2                                        -0.031157   \n3                                        -0.025647   \n4                                        -0.010417   \n..                                             ...   \n199                                       0.006169   \n200                                       0.018436   \n201                                       0.000764   \n202                                       0.002535   \n203                                       0.034990   \n\n     industry_peers_industry_n_car_1_tertile_ls_vw  \\\n0                                        -0.004943   \n1                                         0.013804   \n2                                        -0.005128   \n3                                        -0.010104   \n4                                         0.002787   \n..                                             ...   \n199                                      -0.014052   \n200                                      -0.013823   \n201                                       0.024287   \n202                                       0.016108   \n203                                      -0.030416   \n\n     industry_peers_industry_n_car_5_quintile_ls_ew  \\\n0                                         -0.009758   \n1                                          0.006250   \n2                                         -0.036645   \n3                                         -0.024847   \n4                                         -0.019502   \n..                                              ...   \n199                                        0.001993   \n200                                        0.015277   \n201                                       -0.011749   \n202                                        0.014657   \n203                                       -0.002511   \n\n     industry_peers_industry_n_car_5_quintile_ls_vw  \\\n0                                         -0.004380   \n1                                          0.013804   \n2                                         -0.025260   \n3                                         -0.009405   \n4                                          0.001631   \n..                                              ...   \n199                                       -0.014365   \n200                                       -0.001421   \n201                                       -0.016558   \n202                                        0.005715   \n203                                       -0.091604   \n\n     industry_peers_industry_n_car_5_tertile_ls_ew  \\\n0                                        -0.007702   \n1                                         0.006250   \n2                                        -0.036645   \n3                                        -0.024390   \n4                                        -0.018817   \n..                                             ...   \n199                                       0.002296   \n200                                      -0.018117   \n201                                       0.004562   \n202                                       0.012749   \n203                                       0.036911   \n\n     industry_peers_industry_n_car_5_tertile_ls_vw  \\\n0                                        -0.004118   \n1                                         0.013804   \n2                                        -0.025260   \n3                                        -0.007571   \n4                                         0.001793   \n..                                             ...   \n199                                      -0.019216   \n200                                      -0.014550   \n201                                      -0.004092   \n202                                       0.021855   \n203                                      -0.045630   \n\n     industry_peers_industry_n_quintile_ls_ew  ...  severity_quintile_ls_ew  \\\n0                                   -0.005500  ...                -0.022697   \n1                                   -0.009696  ...                 0.006565   \n2                                   -0.039467  ...                 0.016917   \n3                                   -0.007613  ...                 0.019648   \n4                                   -0.014101  ...                 0.018303   \n..                                        ...  ...                      ...   \n199                                  0.002113  ...                 0.001731   \n200                                  0.020745  ...                 0.028035   \n201                                  0.009119  ...                -0.021784   \n202                                  0.024720  ...                -0.040076   \n203                                  0.006502  ...                -0.000115   \n\n     severity_quintile_ls_vw  severity_tertile_ls_ew  severity_tertile_ls_vw  \\\n0                  -0.024004               -0.022697               -0.024004   \n1                   0.021926                0.006565                0.021926   \n2                   0.011196                0.016917                0.011196   \n3                  -0.011563                0.019648               -0.011563   \n4                   0.014206                0.018303                0.014206   \n..                       ...                     ...                     ...   \n199                -0.001148                0.001731               -0.001148   \n200                 0.027538                0.028035                0.027538   \n201                -0.010482               -0.021784               -0.010482   \n202                -0.027687               -0.040076               -0.027687   \n203                -0.012693               -0.000115               -0.012693   \n\n       month  MKT_RF     SMB     HML      RF     MOM  \n0    2007-01  0.0138  0.0009 -0.0068  0.0044  0.0017  \n1    2007-02 -0.0196  0.0123 -0.0008  0.0038 -0.0129  \n2    2007-03  0.0071  0.0009 -0.0088  0.0043  0.0258  \n3    2007-04  0.0349 -0.0221 -0.0144  0.0044 -0.0016  \n4    2007-05  0.0323  0.0016 -0.0059  0.0041 -0.0033  \n..       ...     ...     ...     ...     ...     ...  \n199  2023-08 -0.0236 -0.0314 -0.0115  0.0045  0.0378  \n200  2023-09 -0.0523 -0.0251  0.0149  0.0043  0.0033  \n201  2023-10 -0.0315 -0.0386   0.002  0.0047  0.0167  \n202  2023-11  0.0888  -0.001  0.0167  0.0044  0.0256  \n203  2023-12  0.0485   0.063  0.0489  0.0043 -0.0553  \n\n[204 rows x 67 columns]",
      "text/html": "<div>\n<style scoped>\n    .dataframe tbody tr th:only-of-type {\n        vertical-align: middle;\n    }\n\n    .dataframe tbody tr th {\n        vertical-align: top;\n    }\n\n    .dataframe thead th {\n        text-align: right;\n    }\n</style>\n<table border=\"1\" class=\"dataframe\">\n  <thead>\n    <tr style=\"text-align: right;\">\n      <th></th>\n      <th>YearMonth</th>\n      <th>industry_peers_industry_n_car_1_quintile_ls_ew</th>\n      <th>industry_peers_industry_n_car_1_quintile_ls_vw</th>\n      <th>industry_peers_industry_n_car_1_tertile_ls_ew</th>\n      <th>industry_peers_industry_n_car_1_tertile_ls_vw</th>\n      <th>industry_peers_industry_n_car_5_quintile_ls_ew</th>\n      <th>industry_peers_industry_n_car_5_quintile_ls_vw</th>\n      <th>industry_peers_industry_n_car_5_tertile_ls_ew</th>\n      <th>industry_peers_industry_n_car_5_tertile_ls_vw</th>\n      <th>industry_peers_industry_n_quintile_ls_ew</th>\n      <th>...</th>\n      <th>severity_quintile_ls_ew</th>\n      <th>severity_quintile_ls_vw</th>\n      <th>severity_tertile_ls_ew</th>\n      <th>severity_tertile_ls_vw</th>\n      <th>month</th>\n      <th>MKT_RF</th>\n      <th>SMB</th>\n      <th>HML</th>\n      <th>RF</th>\n      <th>MOM</th>\n    </tr>\n  </thead>\n  <tbody>\n    <tr>\n      <th>0</th>\n      <td>2007-01</td>\n      <td>-0.007277</td>\n      <td>-0.004943</td>\n      <td>-0.007277</td>\n      <td>-0.004943</td>\n      <td>-0.009758</td>\n      <td>-0.004380</td>\n      <td>-0.007702</td>\n      <td>-0.004118</td>\n      <td>-0.005500</td>\n      <td>...</td>\n      <td>-0.022697</td>\n      <td>-0.024004</td>\n      <td>-0.022697</td>\n      <td>-0.024004</td>\n      <td>2007-01</td>\n      <td>0.0138</td>\n      <td>0.0009</td>\n      <td>-0.0068</td>\n      <td>0.0044</td>\n      <td>0.0017</td>\n    </tr>\n    <tr>\n      <th>1</th>\n      <td>2007-02</td>\n      <td>0.006250</td>\n      <td>0.013804</td>\n      <td>0.006250</td>\n      <td>0.013804</td>\n      <td>0.006250</td>\n      <td>0.013804</td>\n      <td>0.006250</td>\n      <td>0.013804</td>\n      <td>-0.009696</td>\n      <td>...</td>\n      <td>0.006565</td>\n      <td>0.021926</td>\n      <td>0.006565</td>\n      <td>0.021926</td>\n      <td>2007-02</td>\n      <td>-0.0196</td>\n      <td>0.0123</td>\n      <td>-0.0008</td>\n      <td>0.0038</td>\n      <td>-0.0129</td>\n    </tr>\n    <tr>\n      <th>2</th>\n      <td>2007-03</td>\n      <td>-0.031157</td>\n      <td>-0.005128</td>\n      <td>-0.031157</td>\n      <td>-0.005128</td>\n      <td>-0.036645</td>\n      <td>-0.025260</td>\n      <td>-0.036645</td>\n      <td>-0.025260</td>\n      <td>-0.039467</td>\n      <td>...</td>\n      <td>0.016917</td>\n      <td>0.011196</td>\n      <td>0.016917</td>\n      <td>0.011196</td>\n      <td>2007-03</td>\n      <td>0.0071</td>\n      <td>0.0009</td>\n      <td>-0.0088</td>\n      <td>0.0043</td>\n      <td>0.0258</td>\n    </tr>\n    <tr>\n      <th>3</th>\n      <td>2007-04</td>\n      <td>0.013616</td>\n      <td>0.042829</td>\n      <td>-0.025647</td>\n      <td>-0.010104</td>\n      <td>-0.024847</td>\n      <td>-0.009405</td>\n      <td>-0.024390</td>\n      <td>-0.007571</td>\n      <td>-0.007613</td>\n      <td>...</td>\n      <td>0.019648</td>\n      <td>-0.011563</td>\n      <td>0.019648</td>\n      <td>-0.011563</td>\n      <td>2007-04</td>\n      <td>0.0349</td>\n      <td>-0.0221</td>\n      <td>-0.0144</td>\n      <td>0.0044</td>\n      <td>-0.0016</td>\n    </tr>\n    <tr>\n      <th>4</th>\n      <td>2007-05</td>\n      <td>-0.012006</td>\n      <td>0.009796</td>\n      <td>-0.010417</td>\n      <td>0.002787</td>\n      <td>-0.019502</td>\n      <td>0.001631</td>\n      <td>-0.018817</td>\n      <td>0.001793</td>\n      <td>-0.014101</td>\n      <td>...</td>\n      <td>0.018303</td>\n      <td>0.014206</td>\n      <td>0.018303</td>\n      <td>0.014206</td>\n      <td>2007-05</td>\n      <td>0.0323</td>\n      <td>0.0016</td>\n      <td>-0.0059</td>\n      <td>0.0041</td>\n      <td>-0.0033</td>\n    </tr>\n    <tr>\n      <th>...</th>\n      <td>...</td>\n      <td>...</td>\n      <td>...</td>\n      <td>...</td>\n      <td>...</td>\n      <td>...</td>\n      <td>...</td>\n      <td>...</td>\n      <td>...</td>\n      <td>...</td>\n      <td>...</td>\n      <td>...</td>\n      <td>...</td>\n      <td>...</td>\n      <td>...</td>\n      <td>...</td>\n      <td>...</td>\n      <td>...</td>\n      <td>...</td>\n      <td>...</td>\n      <td>...</td>\n    </tr>\n    <tr>\n      <th>199</th>\n      <td>2023-08</td>\n      <td>0.007513</td>\n      <td>-0.000675</td>\n      <td>0.006169</td>\n      <td>-0.014052</td>\n      <td>0.001993</td>\n      <td>-0.014365</td>\n      <td>0.002296</td>\n      <td>-0.019216</td>\n      <td>0.002113</td>\n      <td>...</td>\n      <td>0.001731</td>\n      <td>-0.001148</td>\n      <td>0.001731</td>\n      <td>-0.001148</td>\n      <td>2023-08</td>\n      <td>-0.0236</td>\n      <td>-0.0314</td>\n      <td>-0.0115</td>\n      <td>0.0045</td>\n      <td>0.0378</td>\n    </tr>\n    <tr>\n      <th>200</th>\n      <td>2023-09</td>\n      <td>0.007605</td>\n      <td>-0.013586</td>\n      <td>0.018436</td>\n      <td>-0.013823</td>\n      <td>0.015277</td>\n      <td>-0.001421</td>\n      <td>-0.018117</td>\n      <td>-0.014550</td>\n      <td>0.020745</td>\n      <td>...</td>\n      <td>0.028035</td>\n      <td>0.027538</td>\n      <td>0.028035</td>\n      <td>0.027538</td>\n      <td>2023-09</td>\n      <td>-0.0523</td>\n      <td>-0.0251</td>\n      <td>0.0149</td>\n      <td>0.0043</td>\n      <td>0.0033</td>\n    </tr>\n    <tr>\n      <th>201</th>\n      <td>2023-10</td>\n      <td>-0.007662</td>\n      <td>0.009303</td>\n      <td>0.000764</td>\n      <td>0.024287</td>\n      <td>-0.011749</td>\n      <td>-0.016558</td>\n      <td>0.004562</td>\n      <td>-0.004092</td>\n      <td>0.009119</td>\n      <td>...</td>\n      <td>-0.021784</td>\n      <td>-0.010482</td>\n      <td>-0.021784</td>\n      <td>-0.010482</td>\n      <td>2023-10</td>\n      <td>-0.0315</td>\n      <td>-0.0386</td>\n      <td>0.002</td>\n      <td>0.0047</td>\n      <td>0.0167</td>\n    </tr>\n    <tr>\n      <th>202</th>\n      <td>2023-11</td>\n      <td>0.005668</td>\n      <td>0.015046</td>\n      <td>0.002535</td>\n      <td>0.016108</td>\n      <td>0.014657</td>\n      <td>0.005715</td>\n      <td>0.012749</td>\n      <td>0.021855</td>\n      <td>0.024720</td>\n      <td>...</td>\n      <td>-0.040076</td>\n      <td>-0.027687</td>\n      <td>-0.040076</td>\n      <td>-0.027687</td>\n      <td>2023-11</td>\n      <td>0.0888</td>\n      <td>-0.001</td>\n      <td>0.0167</td>\n      <td>0.0044</td>\n      <td>0.0256</td>\n    </tr>\n    <tr>\n      <th>203</th>\n      <td>2023-12</td>\n      <td>-0.013809</td>\n      <td>-0.049008</td>\n      <td>0.034990</td>\n      <td>-0.030416</td>\n      <td>-0.002511</td>\n      <td>-0.091604</td>\n      <td>0.036911</td>\n      <td>-0.045630</td>\n      <td>0.006502</td>\n      <td>...</td>\n      <td>-0.000115</td>\n      <td>-0.012693</td>\n      <td>-0.000115</td>\n      <td>-0.012693</td>\n      <td>2023-12</td>\n      <td>0.0485</td>\n      <td>0.063</td>\n      <td>0.0489</td>\n      <td>0.0043</td>\n      <td>-0.0553</td>\n    </tr>\n  </tbody>\n</table>\n<p>204 rows × 67 columns</p>\n</div>"
     },
     "execution_count": 316,
     "metadata": {},
     "output_type": "execute_result"
    }
   ],
   "source": [
    "df_port_ff = df_ls.merge(ff[['month','MKT_RF','SMB','HML','RF','MOM']], left_on='YearMonth', right_on='month', how='left')\n",
    "df_port_ff"
   ],
   "metadata": {
    "collapsed": false,
    "ExecuteTime": {
     "end_time": "2025-10-21T17:06:10.852524500Z",
     "start_time": "2025-10-21T17:06:10.723015800Z"
    }
   }
  },
  {
   "cell_type": "code",
   "execution_count": 317,
   "outputs": [],
   "source": [
    "df_port_ff.to_csv('Output/portfolio_sum.csv', index=False)"
   ],
   "metadata": {
    "collapsed": false,
    "ExecuteTime": {
     "end_time": "2025-10-21T17:06:17.637723300Z",
     "start_time": "2025-10-21T17:06:17.540414200Z"
    }
   }
  },
  {
   "cell_type": "markdown",
   "source": [
    "# 5. Portfolios based on orthogonalization"
   ],
   "metadata": {
    "collapsed": false
   }
  },
  {
   "cell_type": "code",
   "execution_count": 357,
   "outputs": [
    {
     "data": {
      "text/plain": "        permno        date   ret_adj            me        me_lag     cusip  \\\n25       10002  2007-02-28  0.033054  2.477735e+08  2.398457e+08  05978R10   \n26       10002  2007-03-30 -0.040559  2.366534e+08  2.477735e+08  05978R10   \n27       10002  2007-04-30 -0.053403  2.240155e+08  2.366534e+08  05978R10   \n28       10002  2007-05-31  0.000499  2.241875e+08  2.240155e+08  05978R10   \n29       10002  2007-06-29  0.054391  2.351160e+08  2.241875e+08  05978R10   \n...        ...         ...       ...           ...           ...       ...   \n812611   93436  2023-09-29 -0.030456  7.954494e+11  8.191443e+11  88160R10   \n812612   93436  2023-10-31 -0.197346  6.384545e+11  7.954494e+11  88160R10   \n812613   93436  2023-11-30  0.195379  7.631954e+11  6.384545e+11  88160R10   \n812614   93436  2023-12-29  0.034988  7.914088e+11  7.631954e+11  88160R10   \n812615   93436  2024-01-31 -0.246257  5.964793e+11  7.914088e+11  88160R10   \n\n          month month_prior     gvkey    year  ... n_material_24m  \\\n25      2007-02     2007-01   19049.0  2007.0  ...            0.0   \n26      2007-03     2007-02   19049.0  2007.0  ...            0.0   \n27      2007-04     2007-03   19049.0  2007.0  ...            0.0   \n28      2007-05     2007-04   19049.0  2007.0  ...            0.0   \n29      2007-06     2007-05   19049.0  2007.0  ...            0.0   \n...         ...         ...       ...     ...  ...            ...   \n812611  2023-09     2023-08  184996.0  2023.0  ...           42.0   \n812612  2023-10     2023-09  184996.0  2023.0  ...           43.0   \n812613  2023-11     2023-10  184996.0  2023.0  ...           46.0   \n812614  2023-12     2023-11  184996.0  2023.0  ...           49.0   \n812615  2024-01     2023-12  184996.0  2023.0  ...           49.0   \n\n       n_car_1_material_24m n_car_5_material_24m  n_reach_material_24m  \\\n25                      0.0                  0.0                   0.0   \n26                      0.0                  0.0                   0.0   \n27                      0.0                  0.0                   0.0   \n28                      0.0                  0.0                   0.0   \n29                      0.0                  0.0                   0.0   \n...                     ...                  ...                   ...   \n812611                145.0                121.0                 150.0   \n812612                147.0                122.0                 149.0   \n812613                154.0                129.0                 154.0   \n812614                156.0                131.0                 156.0   \n812615                156.0                131.0                 156.0   \n\n        n_severity_material_24m  industry_n_material_24m  \\\n25                          0.0                      7.0   \n26                          0.0                     18.0   \n27                          0.0                     23.0   \n28                          0.0                     30.0   \n29                          0.0                     70.0   \n...                         ...                      ...   \n812611                    154.0                    555.0   \n812612                    153.0                    546.0   \n812613                    158.0                    557.0   \n812614                    160.0                    554.0   \n812615                    160.0                    549.0   \n\n        industry_n_car_1_material_24m  industry_n_car_5_material_24m  \\\n25                                5.0                            5.0   \n26                                6.0                            6.0   \n27                                9.0                            9.0   \n28                               11.0                           10.0   \n29                               11.0                           14.0   \n...                               ...                            ...   \n812611                         2063.0                         1449.0   \n812612                         2143.0                         1431.0   \n812613                         2216.0                         1550.0   \n812614                         2260.0                         1594.0   \n812615                         2332.0                         1666.0   \n\n        industry_n_reach_material_24m  industry_n_severity_material_24m  \n25                                9.0                               9.0  \n26                               20.0                              20.0  \n27                               25.0                              25.0  \n28                               28.0                              28.0  \n29                               71.0                              71.0  \n...                               ...                               ...  \n812611                         2089.0                            2064.0  \n812612                         2133.0                            2108.0  \n812613                         2216.0                            2191.0  \n812614                         2260.0                            2235.0  \n812615                         2332.0                            2307.0  \n\n[684178 rows x 44 columns]",
      "text/html": "<div>\n<style scoped>\n    .dataframe tbody tr th:only-of-type {\n        vertical-align: middle;\n    }\n\n    .dataframe tbody tr th {\n        vertical-align: top;\n    }\n\n    .dataframe thead th {\n        text-align: right;\n    }\n</style>\n<table border=\"1\" class=\"dataframe\">\n  <thead>\n    <tr style=\"text-align: right;\">\n      <th></th>\n      <th>permno</th>\n      <th>date</th>\n      <th>ret_adj</th>\n      <th>me</th>\n      <th>me_lag</th>\n      <th>cusip</th>\n      <th>month</th>\n      <th>month_prior</th>\n      <th>gvkey</th>\n      <th>year</th>\n      <th>...</th>\n      <th>n_material_24m</th>\n      <th>n_car_1_material_24m</th>\n      <th>n_car_5_material_24m</th>\n      <th>n_reach_material_24m</th>\n      <th>n_severity_material_24m</th>\n      <th>industry_n_material_24m</th>\n      <th>industry_n_car_1_material_24m</th>\n      <th>industry_n_car_5_material_24m</th>\n      <th>industry_n_reach_material_24m</th>\n      <th>industry_n_severity_material_24m</th>\n    </tr>\n  </thead>\n  <tbody>\n    <tr>\n      <th>25</th>\n      <td>10002</td>\n      <td>2007-02-28</td>\n      <td>0.033054</td>\n      <td>2.477735e+08</td>\n      <td>2.398457e+08</td>\n      <td>05978R10</td>\n      <td>2007-02</td>\n      <td>2007-01</td>\n      <td>19049.0</td>\n      <td>2007.0</td>\n      <td>...</td>\n      <td>0.0</td>\n      <td>0.0</td>\n      <td>0.0</td>\n      <td>0.0</td>\n      <td>0.0</td>\n      <td>7.0</td>\n      <td>5.0</td>\n      <td>5.0</td>\n      <td>9.0</td>\n      <td>9.0</td>\n    </tr>\n    <tr>\n      <th>26</th>\n      <td>10002</td>\n      <td>2007-03-30</td>\n      <td>-0.040559</td>\n      <td>2.366534e+08</td>\n      <td>2.477735e+08</td>\n      <td>05978R10</td>\n      <td>2007-03</td>\n      <td>2007-02</td>\n      <td>19049.0</td>\n      <td>2007.0</td>\n      <td>...</td>\n      <td>0.0</td>\n      <td>0.0</td>\n      <td>0.0</td>\n      <td>0.0</td>\n      <td>0.0</td>\n      <td>18.0</td>\n      <td>6.0</td>\n      <td>6.0</td>\n      <td>20.0</td>\n      <td>20.0</td>\n    </tr>\n    <tr>\n      <th>27</th>\n      <td>10002</td>\n      <td>2007-04-30</td>\n      <td>-0.053403</td>\n      <td>2.240155e+08</td>\n      <td>2.366534e+08</td>\n      <td>05978R10</td>\n      <td>2007-04</td>\n      <td>2007-03</td>\n      <td>19049.0</td>\n      <td>2007.0</td>\n      <td>...</td>\n      <td>0.0</td>\n      <td>0.0</td>\n      <td>0.0</td>\n      <td>0.0</td>\n      <td>0.0</td>\n      <td>23.0</td>\n      <td>9.0</td>\n      <td>9.0</td>\n      <td>25.0</td>\n      <td>25.0</td>\n    </tr>\n    <tr>\n      <th>28</th>\n      <td>10002</td>\n      <td>2007-05-31</td>\n      <td>0.000499</td>\n      <td>2.241875e+08</td>\n      <td>2.240155e+08</td>\n      <td>05978R10</td>\n      <td>2007-05</td>\n      <td>2007-04</td>\n      <td>19049.0</td>\n      <td>2007.0</td>\n      <td>...</td>\n      <td>0.0</td>\n      <td>0.0</td>\n      <td>0.0</td>\n      <td>0.0</td>\n      <td>0.0</td>\n      <td>30.0</td>\n      <td>11.0</td>\n      <td>10.0</td>\n      <td>28.0</td>\n      <td>28.0</td>\n    </tr>\n    <tr>\n      <th>29</th>\n      <td>10002</td>\n      <td>2007-06-29</td>\n      <td>0.054391</td>\n      <td>2.351160e+08</td>\n      <td>2.241875e+08</td>\n      <td>05978R10</td>\n      <td>2007-06</td>\n      <td>2007-05</td>\n      <td>19049.0</td>\n      <td>2007.0</td>\n      <td>...</td>\n      <td>0.0</td>\n      <td>0.0</td>\n      <td>0.0</td>\n      <td>0.0</td>\n      <td>0.0</td>\n      <td>70.0</td>\n      <td>11.0</td>\n      <td>14.0</td>\n      <td>71.0</td>\n      <td>71.0</td>\n    </tr>\n    <tr>\n      <th>...</th>\n      <td>...</td>\n      <td>...</td>\n      <td>...</td>\n      <td>...</td>\n      <td>...</td>\n      <td>...</td>\n      <td>...</td>\n      <td>...</td>\n      <td>...</td>\n      <td>...</td>\n      <td>...</td>\n      <td>...</td>\n      <td>...</td>\n      <td>...</td>\n      <td>...</td>\n      <td>...</td>\n      <td>...</td>\n      <td>...</td>\n      <td>...</td>\n      <td>...</td>\n      <td>...</td>\n    </tr>\n    <tr>\n      <th>812611</th>\n      <td>93436</td>\n      <td>2023-09-29</td>\n      <td>-0.030456</td>\n      <td>7.954494e+11</td>\n      <td>8.191443e+11</td>\n      <td>88160R10</td>\n      <td>2023-09</td>\n      <td>2023-08</td>\n      <td>184996.0</td>\n      <td>2023.0</td>\n      <td>...</td>\n      <td>42.0</td>\n      <td>145.0</td>\n      <td>121.0</td>\n      <td>150.0</td>\n      <td>154.0</td>\n      <td>555.0</td>\n      <td>2063.0</td>\n      <td>1449.0</td>\n      <td>2089.0</td>\n      <td>2064.0</td>\n    </tr>\n    <tr>\n      <th>812612</th>\n      <td>93436</td>\n      <td>2023-10-31</td>\n      <td>-0.197346</td>\n      <td>6.384545e+11</td>\n      <td>7.954494e+11</td>\n      <td>88160R10</td>\n      <td>2023-10</td>\n      <td>2023-09</td>\n      <td>184996.0</td>\n      <td>2023.0</td>\n      <td>...</td>\n      <td>43.0</td>\n      <td>147.0</td>\n      <td>122.0</td>\n      <td>149.0</td>\n      <td>153.0</td>\n      <td>546.0</td>\n      <td>2143.0</td>\n      <td>1431.0</td>\n      <td>2133.0</td>\n      <td>2108.0</td>\n    </tr>\n    <tr>\n      <th>812613</th>\n      <td>93436</td>\n      <td>2023-11-30</td>\n      <td>0.195379</td>\n      <td>7.631954e+11</td>\n      <td>6.384545e+11</td>\n      <td>88160R10</td>\n      <td>2023-11</td>\n      <td>2023-10</td>\n      <td>184996.0</td>\n      <td>2023.0</td>\n      <td>...</td>\n      <td>46.0</td>\n      <td>154.0</td>\n      <td>129.0</td>\n      <td>154.0</td>\n      <td>158.0</td>\n      <td>557.0</td>\n      <td>2216.0</td>\n      <td>1550.0</td>\n      <td>2216.0</td>\n      <td>2191.0</td>\n    </tr>\n    <tr>\n      <th>812614</th>\n      <td>93436</td>\n      <td>2023-12-29</td>\n      <td>0.034988</td>\n      <td>7.914088e+11</td>\n      <td>7.631954e+11</td>\n      <td>88160R10</td>\n      <td>2023-12</td>\n      <td>2023-11</td>\n      <td>184996.0</td>\n      <td>2023.0</td>\n      <td>...</td>\n      <td>49.0</td>\n      <td>156.0</td>\n      <td>131.0</td>\n      <td>156.0</td>\n      <td>160.0</td>\n      <td>554.0</td>\n      <td>2260.0</td>\n      <td>1594.0</td>\n      <td>2260.0</td>\n      <td>2235.0</td>\n    </tr>\n    <tr>\n      <th>812615</th>\n      <td>93436</td>\n      <td>2024-01-31</td>\n      <td>-0.246257</td>\n      <td>5.964793e+11</td>\n      <td>7.914088e+11</td>\n      <td>88160R10</td>\n      <td>2024-01</td>\n      <td>2023-12</td>\n      <td>184996.0</td>\n      <td>2023.0</td>\n      <td>...</td>\n      <td>49.0</td>\n      <td>156.0</td>\n      <td>131.0</td>\n      <td>156.0</td>\n      <td>160.0</td>\n      <td>549.0</td>\n      <td>2332.0</td>\n      <td>1666.0</td>\n      <td>2332.0</td>\n      <td>2307.0</td>\n    </tr>\n  </tbody>\n</table>\n<p>684178 rows × 44 columns</p>\n</div>"
     },
     "execution_count": 357,
     "metadata": {},
     "output_type": "execute_result"
    }
   ],
   "source": [
    "df = pd.read_csv('Output/panel_industries.csv')\n",
    "df = df[df['YearMonth'] > '2006-12']\n",
    "cols = ['n_material', 'n_car_1_material', 'n_car_5_material', 'n_reach_material', 'n_severity_material',\n",
    "        'industry_n_material', 'industry_n_car_1_material', 'industry_n_car_5_material',\n",
    "        'industry_n_reach_material', 'industry_n_severity_material']\n",
    "\n",
    "df = df.sort_values(['permno', 'date'])\n",
    "for c in cols:\n",
    "    df[f'{c}_24m'] = df.groupby('permno')[c].transform(lambda s: s.fillna(0).rolling(24, min_periods=1).sum())\n",
    "\n",
    "df"
   ],
   "metadata": {
    "collapsed": false,
    "ExecuteTime": {
     "end_time": "2025-10-22T17:07:36.890063600Z",
     "start_time": "2025-10-22T17:07:06.011372100Z"
    }
   }
  },
  {
   "cell_type": "code",
   "execution_count": 358,
   "outputs": [],
   "source": [
    "import statsmodels.api as sm\n",
    "\n",
    "def _to_month_period(s: pd.Series) -> pd.Series:\n",
    "    \"\"\"Coerce to monthly PeriodIndex safely.\"\"\"\n",
    "    if isinstance(s.dtype, pd.PeriodDtype):\n",
    "        try:\n",
    "            return s.dt.asfreq(\"M\")\n",
    "        except Exception:\n",
    "            return s.astype(\"period[M]\")\n",
    "    return pd.to_datetime(s, errors=\"coerce\").dt.to_period(\"M\")\n",
    "\n",
    "def crosssec_residuals_month(\n",
    "    df: pd.DataFrame,\n",
    "    dep_vars,\n",
    "    controls,\n",
    "    industry_col: str = \"SICS Codified Industry\",\n",
    "    month_col: str = \"YearMonth\",\n",
    "):\n",
    "    out = df.copy()\n",
    "\n",
    "    # --- keys & basic checks\n",
    "    if month_col not in out.columns:\n",
    "        raise KeyError(f\"{month_col} not found.\")\n",
    "    if industry_col not in out.columns:\n",
    "        raise KeyError(f\"Missing industry column: {industry_col}\")\n",
    "\n",
    "    out[\"_m_\"] = _to_month_period(out[month_col])\n",
    "\n",
    "    # coerce numerics for controls and y's\n",
    "    for c in controls:\n",
    "        if c not in out.columns:\n",
    "            raise KeyError(f\"Missing control: {c}\")\n",
    "        out[c] = pd.to_numeric(out[c], errors=\"coerce\")\n",
    "\n",
    "    for y in dep_vars:\n",
    "        if y not in out.columns:\n",
    "            raise KeyError(f\"Missing dependent var: {y}\")\n",
    "        out[y] = pd.to_numeric(out[y], errors=\"coerce\")\n",
    "        out[f\"resid_{y}\"] = np.nan              # across industries (per month)\n",
    "        out[f\"resid_{y}_industry\"] = np.nan     # within industry (per month×industry)\n",
    "\n",
    "    def _fit_resid(sub: pd.DataFrame, y: str):\n",
    "        \"\"\"Return residuals (Series) of y ~ controls on sub; None if underidentified.\"\"\"\n",
    "        # drop any NA rows in variables used\n",
    "        use_cols = [y] + controls\n",
    "        dat = sub[use_cols].replace([np.inf, -np.inf], np.nan).dropna(how=\"any\")\n",
    "        if dat.empty:\n",
    "            return None\n",
    "        X = sm.add_constant(dat[controls].astype(float), has_constant=\"add\")\n",
    "        yy = dat[y].astype(float)\n",
    "        # need more rows than parameters\n",
    "        if X.shape[0] <= X.shape[1]:\n",
    "            return None\n",
    "        try:\n",
    "            fit = sm.OLS(yy, X).fit()\n",
    "        except Exception:\n",
    "            return None\n",
    "        return (yy - fit.fittedvalues)\n",
    "\n",
    "    # --- loop by month (across industries)\n",
    "    for m, idx_m in out.groupby(\"_m_\").groups.items():\n",
    "        sub_m = out.loc[idx_m]\n",
    "\n",
    "        for y in dep_vars:\n",
    "            # across industries (no suffix)\n",
    "            r = _fit_resid(sub_m, y)\n",
    "            if r is not None:\n",
    "                out.loc[r.index, f\"resid_{y}\"] = r.values\n",
    "\n",
    "            # within industry (month × industry)\n",
    "            for ind, idx_mi in sub_m.groupby(industry_col, dropna=False).groups.items():\n",
    "                sub_mi = out.loc[idx_mi]\n",
    "                r_i = _fit_resid(sub_mi, y)\n",
    "                if r_i is not None:\n",
    "                    out.loc[r_i.index, f\"resid_{y}_industry\"] = r_i.values\n",
    "\n",
    "    return out.drop(columns=[\"_m_\"])\n"
   ],
   "metadata": {
    "collapsed": false,
    "ExecuteTime": {
     "end_time": "2025-10-22T17:07:36.902304900Z",
     "start_time": "2025-10-22T17:07:36.893067100Z"
    }
   }
  },
  {
   "cell_type": "code",
   "execution_count": 359,
   "outputs": [
    {
     "data": {
      "text/plain": "resid_n_car_1_material_24m       521699\nresid_n_car_5_material_24m       521699\nresid_n_reach_material_24m       521699\nresid_n_severity_material_24m    521699\nresid_n_material_24m             521699\ndtype: int64"
     },
     "execution_count": 359,
     "metadata": {},
     "output_type": "execute_result"
    }
   ],
   "source": [
    "#dep_vars = ['n_car_1_material','n_car_5_material','n_reach_material','n_severity_material','n_material']\n",
    "dep_vars = ['n_car_1_material_24m','n_car_5_material_24m','n_reach_material_24m','n_severity_material_24m','n_material_24m']\n",
    "controls = ['size','bm_q','lev_q','roa_q']\n",
    "\n",
    "res_df = crosssec_residuals_month(\n",
    "    df,                                # <- your firm-month panel\n",
    "    dep_vars=dep_vars,\n",
    "    controls=controls,\n",
    "    industry_col='SICS Codified Industry ',\n",
    "    month_col='YearMonth'                    # monthly cross-section\n",
    ")\n",
    "\n",
    "# sanity check: how many non-missing residuals per dep var?\n",
    "res_df[[f\"resid_{y}\" for y in dep_vars]].notna().sum()"
   ],
   "metadata": {
    "collapsed": false,
    "ExecuteTime": {
     "end_time": "2025-10-22T17:14:17.375117200Z",
     "start_time": "2025-10-22T17:07:42.713954300Z"
    }
   }
  },
  {
   "cell_type": "code",
   "execution_count": 361,
   "outputs": [
    {
     "data": {
      "text/plain": "        permno        date   ret_adj            me        me_lag     cusip  \\\n129      10025  2007-02-28 -0.028094  3.596595e+08  3.700557e+08  00103110   \n130      10025  2007-03-30 -0.051192  3.420650e+08  3.596595e+08  00103110   \n131      10025  2007-04-30 -0.010233  3.340109e+08  3.420650e+08  00103110   \n132      10025  2007-05-31  0.048872  3.503347e+08  3.340109e+08  00103110   \n133      10025  2007-06-29  0.008289  3.398255e+08  3.503347e+08  00103110   \n...        ...         ...       ...           ...           ...       ...   \n812602   93436  2022-12-30 -0.367334  3.897415e+11  6.148143e+11  88160R10   \n812603   93436  2023-01-31  0.406235  5.480859e+11  3.897415e+11  88160R10   \n812604   93436  2023-02-28  0.187565  6.508877e+11  5.480859e+11  88160R10   \n812605   93436  2023-03-31  0.008507  6.575059e+11  6.508877e+11  88160R10   \n812606   93436  2023-04-28 -0.207992  5.207812e+11  6.575059e+11  88160R10   \n\n          month month_prior     gvkey    year  ... resid_n_car_1_material_24m  \\\n129     2007-02     2007-01   11903.0  2007.0  ...                  -0.001732   \n130     2007-03     2007-02   11903.0  2007.0  ...                  -0.005624   \n131     2007-04     2007-03   11903.0  2007.0  ...                  -0.010389   \n132     2007-05     2007-04   11903.0  2007.0  ...                  -0.010259   \n133     2007-06     2007-05   11903.0  2007.0  ...                  -0.014911   \n...         ...         ...       ...     ...  ...                        ...   \n812602  2022-12     2022-11  184996.0  2022.0  ...                 100.756195   \n812603  2023-01     2022-12  184996.0  2022.0  ...                 105.747019   \n812604  2023-02     2023-01  184996.0  2023.0  ...                 109.750139   \n812605  2023-03     2023-02  184996.0  2023.0  ...                 113.705986   \n812606  2023-04     2023-03  184996.0  2023.0  ...                 117.618012   \n\n       resid_n_car_1_material_24m_industry resid_n_car_5_material_24m  \\\n129                               0.000000                  -0.001565   \n130                               0.000000                  -0.004964   \n131                               0.000000                  -0.008463   \n132                               0.000000                  -0.008968   \n133                               0.000000                  -0.016009   \n...                                    ...                        ...   \n812602                           95.157371                  81.038833   \n812603                           99.567799                  86.052041   \n812604                          104.052607                  89.884777   \n812605                          107.480691                  89.876662   \n812606                          110.987481                  97.809189   \n\n        resid_n_car_5_material_24m_industry  resid_n_reach_material_24m  \\\n129                                0.000000                   -0.002979   \n130                                0.000000                   -0.009022   \n131                                0.000000                   -0.016994   \n132                                0.000000                   -0.016761   \n133                                0.000000                   -0.024249   \n...                                     ...                         ...   \n812602                            77.546350                  146.838228   \n812603                            81.956778                  149.726655   \n812604                            86.083732                  152.655544   \n812605                            86.122399                  148.660978   \n812606                            93.619831                  148.568363   \n\n        resid_n_reach_material_24m_industry  resid_n_severity_material_24m  \\\n129                                0.000000                      -0.003356   \n130                                0.000000                      -0.009748   \n131                                0.000000                      -0.017716   \n132                                0.000000                      -0.017620   \n133                                0.000000                      -0.026290   \n...                                     ...                            ...   \n812602                           139.091561                     149.117155   \n812603                           141.844352                     153.001313   \n812604                           144.407095                     156.871860   \n812605                           140.462940                     152.851626   \n812606                           140.672234                     152.750615   \n\n        resid_n_severity_material_24m_industry  resid_n_material_24m  \\\n129                                   0.000000             -0.001063   \n130                                   0.000000             -0.004319   \n131                                   0.000000             -0.009959   \n132                                   0.000000             -0.009383   \n133                                   0.000000             -0.016088   \n...                                        ...                   ...   \n812602                              141.671255             26.371605   \n812603                              145.336467             27.341142   \n812604                              148.615256             30.632707   \n812605                              144.672335             30.513657   \n812606                              144.880071             31.356668   \n\n        resid_n_material_24m_industry  \n129                          0.000000  \n130                          0.000000  \n131                          0.000000  \n132                          0.000000  \n133                          0.000000  \n...                               ...  \n812602                      38.050545  \n812603                      38.983413  \n812604                      39.580618  \n812605                      39.472223  \n812606                      40.321714  \n\n[521699 rows x 54 columns]",
      "text/html": "<div>\n<style scoped>\n    .dataframe tbody tr th:only-of-type {\n        vertical-align: middle;\n    }\n\n    .dataframe tbody tr th {\n        vertical-align: top;\n    }\n\n    .dataframe thead th {\n        text-align: right;\n    }\n</style>\n<table border=\"1\" class=\"dataframe\">\n  <thead>\n    <tr style=\"text-align: right;\">\n      <th></th>\n      <th>permno</th>\n      <th>date</th>\n      <th>ret_adj</th>\n      <th>me</th>\n      <th>me_lag</th>\n      <th>cusip</th>\n      <th>month</th>\n      <th>month_prior</th>\n      <th>gvkey</th>\n      <th>year</th>\n      <th>...</th>\n      <th>resid_n_car_1_material_24m</th>\n      <th>resid_n_car_1_material_24m_industry</th>\n      <th>resid_n_car_5_material_24m</th>\n      <th>resid_n_car_5_material_24m_industry</th>\n      <th>resid_n_reach_material_24m</th>\n      <th>resid_n_reach_material_24m_industry</th>\n      <th>resid_n_severity_material_24m</th>\n      <th>resid_n_severity_material_24m_industry</th>\n      <th>resid_n_material_24m</th>\n      <th>resid_n_material_24m_industry</th>\n    </tr>\n  </thead>\n  <tbody>\n    <tr>\n      <th>129</th>\n      <td>10025</td>\n      <td>2007-02-28</td>\n      <td>-0.028094</td>\n      <td>3.596595e+08</td>\n      <td>3.700557e+08</td>\n      <td>00103110</td>\n      <td>2007-02</td>\n      <td>2007-01</td>\n      <td>11903.0</td>\n      <td>2007.0</td>\n      <td>...</td>\n      <td>-0.001732</td>\n      <td>0.000000</td>\n      <td>-0.001565</td>\n      <td>0.000000</td>\n      <td>-0.002979</td>\n      <td>0.000000</td>\n      <td>-0.003356</td>\n      <td>0.000000</td>\n      <td>-0.001063</td>\n      <td>0.000000</td>\n    </tr>\n    <tr>\n      <th>130</th>\n      <td>10025</td>\n      <td>2007-03-30</td>\n      <td>-0.051192</td>\n      <td>3.420650e+08</td>\n      <td>3.596595e+08</td>\n      <td>00103110</td>\n      <td>2007-03</td>\n      <td>2007-02</td>\n      <td>11903.0</td>\n      <td>2007.0</td>\n      <td>...</td>\n      <td>-0.005624</td>\n      <td>0.000000</td>\n      <td>-0.004964</td>\n      <td>0.000000</td>\n      <td>-0.009022</td>\n      <td>0.000000</td>\n      <td>-0.009748</td>\n      <td>0.000000</td>\n      <td>-0.004319</td>\n      <td>0.000000</td>\n    </tr>\n    <tr>\n      <th>131</th>\n      <td>10025</td>\n      <td>2007-04-30</td>\n      <td>-0.010233</td>\n      <td>3.340109e+08</td>\n      <td>3.420650e+08</td>\n      <td>00103110</td>\n      <td>2007-04</td>\n      <td>2007-03</td>\n      <td>11903.0</td>\n      <td>2007.0</td>\n      <td>...</td>\n      <td>-0.010389</td>\n      <td>0.000000</td>\n      <td>-0.008463</td>\n      <td>0.000000</td>\n      <td>-0.016994</td>\n      <td>0.000000</td>\n      <td>-0.017716</td>\n      <td>0.000000</td>\n      <td>-0.009959</td>\n      <td>0.000000</td>\n    </tr>\n    <tr>\n      <th>132</th>\n      <td>10025</td>\n      <td>2007-05-31</td>\n      <td>0.048872</td>\n      <td>3.503347e+08</td>\n      <td>3.340109e+08</td>\n      <td>00103110</td>\n      <td>2007-05</td>\n      <td>2007-04</td>\n      <td>11903.0</td>\n      <td>2007.0</td>\n      <td>...</td>\n      <td>-0.010259</td>\n      <td>0.000000</td>\n      <td>-0.008968</td>\n      <td>0.000000</td>\n      <td>-0.016761</td>\n      <td>0.000000</td>\n      <td>-0.017620</td>\n      <td>0.000000</td>\n      <td>-0.009383</td>\n      <td>0.000000</td>\n    </tr>\n    <tr>\n      <th>133</th>\n      <td>10025</td>\n      <td>2007-06-29</td>\n      <td>0.008289</td>\n      <td>3.398255e+08</td>\n      <td>3.503347e+08</td>\n      <td>00103110</td>\n      <td>2007-06</td>\n      <td>2007-05</td>\n      <td>11903.0</td>\n      <td>2007.0</td>\n      <td>...</td>\n      <td>-0.014911</td>\n      <td>0.000000</td>\n      <td>-0.016009</td>\n      <td>0.000000</td>\n      <td>-0.024249</td>\n      <td>0.000000</td>\n      <td>-0.026290</td>\n      <td>0.000000</td>\n      <td>-0.016088</td>\n      <td>0.000000</td>\n    </tr>\n    <tr>\n      <th>...</th>\n      <td>...</td>\n      <td>...</td>\n      <td>...</td>\n      <td>...</td>\n      <td>...</td>\n      <td>...</td>\n      <td>...</td>\n      <td>...</td>\n      <td>...</td>\n      <td>...</td>\n      <td>...</td>\n      <td>...</td>\n      <td>...</td>\n      <td>...</td>\n      <td>...</td>\n      <td>...</td>\n      <td>...</td>\n      <td>...</td>\n      <td>...</td>\n      <td>...</td>\n      <td>...</td>\n    </tr>\n    <tr>\n      <th>812602</th>\n      <td>93436</td>\n      <td>2022-12-30</td>\n      <td>-0.367334</td>\n      <td>3.897415e+11</td>\n      <td>6.148143e+11</td>\n      <td>88160R10</td>\n      <td>2022-12</td>\n      <td>2022-11</td>\n      <td>184996.0</td>\n      <td>2022.0</td>\n      <td>...</td>\n      <td>100.756195</td>\n      <td>95.157371</td>\n      <td>81.038833</td>\n      <td>77.546350</td>\n      <td>146.838228</td>\n      <td>139.091561</td>\n      <td>149.117155</td>\n      <td>141.671255</td>\n      <td>26.371605</td>\n      <td>38.050545</td>\n    </tr>\n    <tr>\n      <th>812603</th>\n      <td>93436</td>\n      <td>2023-01-31</td>\n      <td>0.406235</td>\n      <td>5.480859e+11</td>\n      <td>3.897415e+11</td>\n      <td>88160R10</td>\n      <td>2023-01</td>\n      <td>2022-12</td>\n      <td>184996.0</td>\n      <td>2022.0</td>\n      <td>...</td>\n      <td>105.747019</td>\n      <td>99.567799</td>\n      <td>86.052041</td>\n      <td>81.956778</td>\n      <td>149.726655</td>\n      <td>141.844352</td>\n      <td>153.001313</td>\n      <td>145.336467</td>\n      <td>27.341142</td>\n      <td>38.983413</td>\n    </tr>\n    <tr>\n      <th>812604</th>\n      <td>93436</td>\n      <td>2023-02-28</td>\n      <td>0.187565</td>\n      <td>6.508877e+11</td>\n      <td>5.480859e+11</td>\n      <td>88160R10</td>\n      <td>2023-02</td>\n      <td>2023-01</td>\n      <td>184996.0</td>\n      <td>2023.0</td>\n      <td>...</td>\n      <td>109.750139</td>\n      <td>104.052607</td>\n      <td>89.884777</td>\n      <td>86.083732</td>\n      <td>152.655544</td>\n      <td>144.407095</td>\n      <td>156.871860</td>\n      <td>148.615256</td>\n      <td>30.632707</td>\n      <td>39.580618</td>\n    </tr>\n    <tr>\n      <th>812605</th>\n      <td>93436</td>\n      <td>2023-03-31</td>\n      <td>0.008507</td>\n      <td>6.575059e+11</td>\n      <td>6.508877e+11</td>\n      <td>88160R10</td>\n      <td>2023-03</td>\n      <td>2023-02</td>\n      <td>184996.0</td>\n      <td>2023.0</td>\n      <td>...</td>\n      <td>113.705986</td>\n      <td>107.480691</td>\n      <td>89.876662</td>\n      <td>86.122399</td>\n      <td>148.660978</td>\n      <td>140.462940</td>\n      <td>152.851626</td>\n      <td>144.672335</td>\n      <td>30.513657</td>\n      <td>39.472223</td>\n    </tr>\n    <tr>\n      <th>812606</th>\n      <td>93436</td>\n      <td>2023-04-28</td>\n      <td>-0.207992</td>\n      <td>5.207812e+11</td>\n      <td>6.575059e+11</td>\n      <td>88160R10</td>\n      <td>2023-04</td>\n      <td>2023-03</td>\n      <td>184996.0</td>\n      <td>2023.0</td>\n      <td>...</td>\n      <td>117.618012</td>\n      <td>110.987481</td>\n      <td>97.809189</td>\n      <td>93.619831</td>\n      <td>148.568363</td>\n      <td>140.672234</td>\n      <td>152.750615</td>\n      <td>144.880071</td>\n      <td>31.356668</td>\n      <td>40.321714</td>\n    </tr>\n  </tbody>\n</table>\n<p>521699 rows × 54 columns</p>\n</div>"
     },
     "execution_count": 361,
     "metadata": {},
     "output_type": "execute_result"
    }
   ],
   "source": [
    "res_df.dropna(subset=['resid_n_car_1_material_24m'], inplace=True)\n",
    "res_df"
   ],
   "metadata": {
    "collapsed": false,
    "ExecuteTime": {
     "end_time": "2025-10-22T17:23:34.406769800Z",
     "start_time": "2025-10-22T17:23:33.716251800Z"
    }
   }
  },
  {
   "cell_type": "code",
   "execution_count": 362,
   "outputs": [],
   "source": [
    "def select_residual_tails(\n",
    "    df: pd.DataFrame,\n",
    "    resid_cols=None,                       # if None: all columns starting with 'resid_'\n",
    "    date_col: str = \"YearMonth\",\n",
    "    industry_col: str = \"SICS Codified Industry\",\n",
    "    buckets=(\"decile\",\"quintile\",\"tertile\"),\n",
    ") -> pd.DataFrame:\n",
    "    \"\"\"\n",
    "    Build top/bottom flags from residuals.\n",
    "    - For residuals like 'resid_y' (across-industry): bucket within month.\n",
    "    - For residuals like 'resid_y_industry' (within-industry): bucket within month×industry.\n",
    "    IMPORTANT: 'top' = LOWEST residuals, 'bottom' = HIGHEST residuals (flipped).\n",
    "    \"\"\"\n",
    "    out = df.copy()\n",
    "\n",
    "    # month key\n",
    "    if date_col not in out.columns:\n",
    "        raise KeyError(f\"{date_col} not found.\")\n",
    "    if isinstance(out[date_col].dtype, pd.PeriodDtype):\n",
    "        out[\"_m_\"] = out[date_col].dt.asfreq(\"M\")\n",
    "    else:\n",
    "        out[\"_m_\"] = pd.to_datetime(out[date_col], errors=\"coerce\").dt.to_period(\"M\")\n",
    "\n",
    "    # which residual columns?\n",
    "    if resid_cols is None:\n",
    "        resid_cols = [c for c in out.columns if c.startswith(\"resid_\")]\n",
    "    resid_cols = [c for c in resid_cols if c in out.columns]\n",
    "    if not resid_cols:\n",
    "        return out.drop(columns=[\"_m_\"])\n",
    "\n",
    "    # bucket shares\n",
    "    share = {\"decile\":0.10, \"quintile\":0.20, \"tertile\":1/3}\n",
    "    buckets = [b for b in buckets if b in share]\n",
    "    if not buckets:\n",
    "        return out.drop(columns=[\"_m_\"])\n",
    "\n",
    "    # tie-preserving flags (FLIPPED: top = lowest, bottom = highest)\n",
    "    def _top_flag_low(s: pd.Series, p: float) -> pd.Series:\n",
    "        x = pd.to_numeric(s, errors=\"coerce\")\n",
    "        thr = x.quantile(p, interpolation=\"lower\")        # include ties at the low tail\n",
    "        return x.le(thr) & x.notna()\n",
    "\n",
    "    def _bottom_flag_high(s: pd.Series, p: float) -> pd.Series:\n",
    "        x = pd.to_numeric(s, errors=\"coerce\")\n",
    "        thr = x.quantile(1 - p, interpolation=\"higher\")   # include ties at the high tail\n",
    "        return x.ge(thr) & x.notna()\n",
    "\n",
    "    # groupers\n",
    "    g_month = out.groupby([\"_m_\"], observed=True, sort=False)\n",
    "    g_m_ind = (out.groupby([\"_m_\", industry_col], observed=True, sort=False)\n",
    "               if industry_col in out.columns else None)\n",
    "\n",
    "    for col in resid_cols:\n",
    "        out[col] = pd.to_numeric(out[col], errors=\"coerce\")\n",
    "        is_within_industry = col.endswith(\"_industry\")\n",
    "\n",
    "        if is_within_industry:\n",
    "            if g_m_ind is None:\n",
    "                raise KeyError(f\"Industry column '{industry_col}' missing for within-industry residuals.\")\n",
    "            grouper = g_m_ind\n",
    "            suf = \"_industry\"     # keep your existing naming convention\n",
    "        else:\n",
    "            grouper = g_month\n",
    "            suf = \"\"\n",
    "\n",
    "        for b in buckets:\n",
    "            p = share[b]\n",
    "            # NOTE: flipped assignment here\n",
    "            out[f\"{col}_top_{b}{suf}\"]    = grouper[col].transform(lambda s, p=p: _top_flag_low(s, p)).astype(\"Int8\")\n",
    "            out[f\"{col}_bottom_{b}{suf}\"] = grouper[col].transform(lambda s, p=p: _bottom_flag_high(s, p)).astype(\"Int8\")\n",
    "\n",
    "    return out.drop(columns=[\"_m_\"])\n"
   ],
   "metadata": {
    "collapsed": false,
    "ExecuteTime": {
     "end_time": "2025-10-22T17:23:39.968243600Z",
     "start_time": "2025-10-22T17:23:39.924020300Z"
    }
   }
  },
  {
   "cell_type": "code",
   "execution_count": 363,
   "outputs": [
    {
     "data": {
      "text/plain": "        permno        date   ret_adj            me        me_lag     cusip  \\\n129      10025  2007-02-28 -0.028094  3.596595e+08  3.700557e+08  00103110   \n130      10025  2007-03-30 -0.051192  3.420650e+08  3.596595e+08  00103110   \n131      10025  2007-04-30 -0.010233  3.340109e+08  3.420650e+08  00103110   \n132      10025  2007-05-31  0.048872  3.503347e+08  3.340109e+08  00103110   \n133      10025  2007-06-29  0.008289  3.398255e+08  3.503347e+08  00103110   \n...        ...         ...       ...           ...           ...       ...   \n812602   93436  2022-12-30 -0.367334  3.897415e+11  6.148143e+11  88160R10   \n812603   93436  2023-01-31  0.406235  5.480859e+11  3.897415e+11  88160R10   \n812604   93436  2023-02-28  0.187565  6.508877e+11  5.480859e+11  88160R10   \n812605   93436  2023-03-31  0.008507  6.575059e+11  6.508877e+11  88160R10   \n812606   93436  2023-04-28 -0.207992  5.207812e+11  6.575059e+11  88160R10   \n\n          month month_prior     gvkey    year  ...  \\\n129     2007-02     2007-01   11903.0  2007.0  ...   \n130     2007-03     2007-02   11903.0  2007.0  ...   \n131     2007-04     2007-03   11903.0  2007.0  ...   \n132     2007-05     2007-04   11903.0  2007.0  ...   \n133     2007-06     2007-05   11903.0  2007.0  ...   \n...         ...         ...       ...     ...  ...   \n812602  2022-12     2022-11  184996.0  2022.0  ...   \n812603  2023-01     2022-12  184996.0  2022.0  ...   \n812604  2023-02     2023-01  184996.0  2023.0  ...   \n812605  2023-03     2023-02  184996.0  2023.0  ...   \n812606  2023-04     2023-03  184996.0  2023.0  ...   \n\n       resid_n_material_24m_top_quintile resid_n_material_24m_bottom_quintile  \\\n129                                    0                                    0   \n130                                    0                                    0   \n131                                    0                                    0   \n132                                    0                                    0   \n133                                    0                                    0   \n...                                  ...                                  ...   \n812602                                 0                                    1   \n812603                                 0                                    1   \n812604                                 0                                    1   \n812605                                 0                                    1   \n812606                                 0                                    1   \n\n       resid_n_material_24m_top_tertile  resid_n_material_24m_bottom_tertile  \\\n129                                   0                                    0   \n130                                   0                                    0   \n131                                   0                                    0   \n132                                   0                                    0   \n133                                   0                                    0   \n...                                 ...                                  ...   \n812602                                0                                    1   \n812603                                0                                    1   \n812604                                0                                    1   \n812605                                0                                    1   \n812606                                0                                    1   \n\n        resid_n_material_24m_industry_top_decile_industry  \\\n129                                                     1   \n130                                                     1   \n131                                                     1   \n132                                                     1   \n133                                                     1   \n...                                                   ...   \n812602                                                  0   \n812603                                                  0   \n812604                                                  0   \n812605                                                  0   \n812606                                                  0   \n\n        resid_n_material_24m_industry_bottom_decile_industry  \\\n129                                                     1      \n130                                                     1      \n131                                                     1      \n132                                                     1      \n133                                                     1      \n...                                                   ...      \n812602                                                  1      \n812603                                                  1      \n812604                                                  1      \n812605                                                  1      \n812606                                                  1      \n\n        resid_n_material_24m_industry_top_quintile_industry  \\\n129                                                     1     \n130                                                     1     \n131                                                     1     \n132                                                     1     \n133                                                     1     \n...                                                   ...     \n812602                                                  0     \n812603                                                  0     \n812604                                                  0     \n812605                                                  0     \n812606                                                  0     \n\n        resid_n_material_24m_industry_bottom_quintile_industry  \\\n129                                                     1        \n130                                                     1        \n131                                                     1        \n132                                                     1        \n133                                                     1        \n...                                                   ...        \n812602                                                  1        \n812603                                                  1        \n812604                                                  1        \n812605                                                  1        \n812606                                                  1        \n\n        resid_n_material_24m_industry_top_tertile_industry  \\\n129                                                     1    \n130                                                     1    \n131                                                     1    \n132                                                     1    \n133                                                     1    \n...                                                   ...    \n812602                                                  0    \n812603                                                  0    \n812604                                                  0    \n812605                                                  0    \n812606                                                  0    \n\n        resid_n_material_24m_industry_bottom_tertile_industry  \n129                                                     1      \n130                                                     1      \n131                                                     1      \n132                                                     1      \n133                                                     1      \n...                                                   ...      \n812602                                                  1      \n812603                                                  1      \n812604                                                  1      \n812605                                                  1      \n812606                                                  1      \n\n[521699 rows x 114 columns]",
      "text/html": "<div>\n<style scoped>\n    .dataframe tbody tr th:only-of-type {\n        vertical-align: middle;\n    }\n\n    .dataframe tbody tr th {\n        vertical-align: top;\n    }\n\n    .dataframe thead th {\n        text-align: right;\n    }\n</style>\n<table border=\"1\" class=\"dataframe\">\n  <thead>\n    <tr style=\"text-align: right;\">\n      <th></th>\n      <th>permno</th>\n      <th>date</th>\n      <th>ret_adj</th>\n      <th>me</th>\n      <th>me_lag</th>\n      <th>cusip</th>\n      <th>month</th>\n      <th>month_prior</th>\n      <th>gvkey</th>\n      <th>year</th>\n      <th>...</th>\n      <th>resid_n_material_24m_top_quintile</th>\n      <th>resid_n_material_24m_bottom_quintile</th>\n      <th>resid_n_material_24m_top_tertile</th>\n      <th>resid_n_material_24m_bottom_tertile</th>\n      <th>resid_n_material_24m_industry_top_decile_industry</th>\n      <th>resid_n_material_24m_industry_bottom_decile_industry</th>\n      <th>resid_n_material_24m_industry_top_quintile_industry</th>\n      <th>resid_n_material_24m_industry_bottom_quintile_industry</th>\n      <th>resid_n_material_24m_industry_top_tertile_industry</th>\n      <th>resid_n_material_24m_industry_bottom_tertile_industry</th>\n    </tr>\n  </thead>\n  <tbody>\n    <tr>\n      <th>129</th>\n      <td>10025</td>\n      <td>2007-02-28</td>\n      <td>-0.028094</td>\n      <td>3.596595e+08</td>\n      <td>3.700557e+08</td>\n      <td>00103110</td>\n      <td>2007-02</td>\n      <td>2007-01</td>\n      <td>11903.0</td>\n      <td>2007.0</td>\n      <td>...</td>\n      <td>0</td>\n      <td>0</td>\n      <td>0</td>\n      <td>0</td>\n      <td>1</td>\n      <td>1</td>\n      <td>1</td>\n      <td>1</td>\n      <td>1</td>\n      <td>1</td>\n    </tr>\n    <tr>\n      <th>130</th>\n      <td>10025</td>\n      <td>2007-03-30</td>\n      <td>-0.051192</td>\n      <td>3.420650e+08</td>\n      <td>3.596595e+08</td>\n      <td>00103110</td>\n      <td>2007-03</td>\n      <td>2007-02</td>\n      <td>11903.0</td>\n      <td>2007.0</td>\n      <td>...</td>\n      <td>0</td>\n      <td>0</td>\n      <td>0</td>\n      <td>0</td>\n      <td>1</td>\n      <td>1</td>\n      <td>1</td>\n      <td>1</td>\n      <td>1</td>\n      <td>1</td>\n    </tr>\n    <tr>\n      <th>131</th>\n      <td>10025</td>\n      <td>2007-04-30</td>\n      <td>-0.010233</td>\n      <td>3.340109e+08</td>\n      <td>3.420650e+08</td>\n      <td>00103110</td>\n      <td>2007-04</td>\n      <td>2007-03</td>\n      <td>11903.0</td>\n      <td>2007.0</td>\n      <td>...</td>\n      <td>0</td>\n      <td>0</td>\n      <td>0</td>\n      <td>0</td>\n      <td>1</td>\n      <td>1</td>\n      <td>1</td>\n      <td>1</td>\n      <td>1</td>\n      <td>1</td>\n    </tr>\n    <tr>\n      <th>132</th>\n      <td>10025</td>\n      <td>2007-05-31</td>\n      <td>0.048872</td>\n      <td>3.503347e+08</td>\n      <td>3.340109e+08</td>\n      <td>00103110</td>\n      <td>2007-05</td>\n      <td>2007-04</td>\n      <td>11903.0</td>\n      <td>2007.0</td>\n      <td>...</td>\n      <td>0</td>\n      <td>0</td>\n      <td>0</td>\n      <td>0</td>\n      <td>1</td>\n      <td>1</td>\n      <td>1</td>\n      <td>1</td>\n      <td>1</td>\n      <td>1</td>\n    </tr>\n    <tr>\n      <th>133</th>\n      <td>10025</td>\n      <td>2007-06-29</td>\n      <td>0.008289</td>\n      <td>3.398255e+08</td>\n      <td>3.503347e+08</td>\n      <td>00103110</td>\n      <td>2007-06</td>\n      <td>2007-05</td>\n      <td>11903.0</td>\n      <td>2007.0</td>\n      <td>...</td>\n      <td>0</td>\n      <td>0</td>\n      <td>0</td>\n      <td>0</td>\n      <td>1</td>\n      <td>1</td>\n      <td>1</td>\n      <td>1</td>\n      <td>1</td>\n      <td>1</td>\n    </tr>\n    <tr>\n      <th>...</th>\n      <td>...</td>\n      <td>...</td>\n      <td>...</td>\n      <td>...</td>\n      <td>...</td>\n      <td>...</td>\n      <td>...</td>\n      <td>...</td>\n      <td>...</td>\n      <td>...</td>\n      <td>...</td>\n      <td>...</td>\n      <td>...</td>\n      <td>...</td>\n      <td>...</td>\n      <td>...</td>\n      <td>...</td>\n      <td>...</td>\n      <td>...</td>\n      <td>...</td>\n      <td>...</td>\n    </tr>\n    <tr>\n      <th>812602</th>\n      <td>93436</td>\n      <td>2022-12-30</td>\n      <td>-0.367334</td>\n      <td>3.897415e+11</td>\n      <td>6.148143e+11</td>\n      <td>88160R10</td>\n      <td>2022-12</td>\n      <td>2022-11</td>\n      <td>184996.0</td>\n      <td>2022.0</td>\n      <td>...</td>\n      <td>0</td>\n      <td>1</td>\n      <td>0</td>\n      <td>1</td>\n      <td>0</td>\n      <td>1</td>\n      <td>0</td>\n      <td>1</td>\n      <td>0</td>\n      <td>1</td>\n    </tr>\n    <tr>\n      <th>812603</th>\n      <td>93436</td>\n      <td>2023-01-31</td>\n      <td>0.406235</td>\n      <td>5.480859e+11</td>\n      <td>3.897415e+11</td>\n      <td>88160R10</td>\n      <td>2023-01</td>\n      <td>2022-12</td>\n      <td>184996.0</td>\n      <td>2022.0</td>\n      <td>...</td>\n      <td>0</td>\n      <td>1</td>\n      <td>0</td>\n      <td>1</td>\n      <td>0</td>\n      <td>1</td>\n      <td>0</td>\n      <td>1</td>\n      <td>0</td>\n      <td>1</td>\n    </tr>\n    <tr>\n      <th>812604</th>\n      <td>93436</td>\n      <td>2023-02-28</td>\n      <td>0.187565</td>\n      <td>6.508877e+11</td>\n      <td>5.480859e+11</td>\n      <td>88160R10</td>\n      <td>2023-02</td>\n      <td>2023-01</td>\n      <td>184996.0</td>\n      <td>2023.0</td>\n      <td>...</td>\n      <td>0</td>\n      <td>1</td>\n      <td>0</td>\n      <td>1</td>\n      <td>0</td>\n      <td>1</td>\n      <td>0</td>\n      <td>1</td>\n      <td>0</td>\n      <td>1</td>\n    </tr>\n    <tr>\n      <th>812605</th>\n      <td>93436</td>\n      <td>2023-03-31</td>\n      <td>0.008507</td>\n      <td>6.575059e+11</td>\n      <td>6.508877e+11</td>\n      <td>88160R10</td>\n      <td>2023-03</td>\n      <td>2023-02</td>\n      <td>184996.0</td>\n      <td>2023.0</td>\n      <td>...</td>\n      <td>0</td>\n      <td>1</td>\n      <td>0</td>\n      <td>1</td>\n      <td>0</td>\n      <td>1</td>\n      <td>0</td>\n      <td>1</td>\n      <td>0</td>\n      <td>1</td>\n    </tr>\n    <tr>\n      <th>812606</th>\n      <td>93436</td>\n      <td>2023-04-28</td>\n      <td>-0.207992</td>\n      <td>5.207812e+11</td>\n      <td>6.575059e+11</td>\n      <td>88160R10</td>\n      <td>2023-04</td>\n      <td>2023-03</td>\n      <td>184996.0</td>\n      <td>2023.0</td>\n      <td>...</td>\n      <td>0</td>\n      <td>1</td>\n      <td>0</td>\n      <td>1</td>\n      <td>0</td>\n      <td>1</td>\n      <td>0</td>\n      <td>1</td>\n      <td>0</td>\n      <td>1</td>\n    </tr>\n  </tbody>\n</table>\n<p>521699 rows × 114 columns</p>\n</div>"
     },
     "execution_count": 363,
     "metadata": {},
     "output_type": "execute_result"
    }
   ],
   "source": [
    "df_with_flags = select_residual_tails(\n",
    "    res_df,\n",
    "    resid_cols=None,\n",
    "    date_col=\"YearMonth\",\n",
    "    industry_col=\"SICS Codified Industry \",\n",
    "    buckets=(\"decile\",\"quintile\",\"tertile\")\n",
    ")\n",
    "\n",
    "\n",
    "df_with_flags"
   ],
   "metadata": {
    "collapsed": false,
    "ExecuteTime": {
     "end_time": "2025-10-22T17:34:10.962664Z",
     "start_time": "2025-10-22T17:23:45.114753Z"
    }
   }
  },
  {
   "cell_type": "code",
   "execution_count": 348,
   "outputs": [
    {
     "data": {
      "text/plain": "    YearMonth  resid_n_car_1_material__overall__decile__bottom  \\\n0     2007-01                                              296   \n1     2007-02                                              296   \n2     2007-03                                              295   \n3     2007-04                                              286   \n4     2007-05                                              284   \n..        ...                                              ...   \n199   2023-08                                              262   \n200   2023-09                                              260   \n201   2023-10                                              259   \n202   2023-11                                              257   \n203   2023-12                                              256   \n\n     resid_n_car_1_material__overall__decile__top  \\\n0                                             296   \n1                                             296   \n2                                             295   \n3                                             286   \n4                                             284   \n..                                            ...   \n199                                           262   \n200                                           260   \n201                                           259   \n202                                           257   \n203                                           256   \n\n     resid_n_car_1_material__overall__quintile__bottom  \\\n0                                                  592   \n1                                                  592   \n2                                                  589   \n3                                                  571   \n4                                                  567   \n..                                                 ...   \n199                                                523   \n200                                                519   \n201                                                517   \n202                                                513   \n203                                                511   \n\n     resid_n_car_1_material__overall__quintile__top  \\\n0                                               592   \n1                                               592   \n2                                               589   \n3                                               571   \n4                                               567   \n..                                              ...   \n199                                             523   \n200                                             519   \n201                                             517   \n202                                             513   \n203                                             511   \n\n     resid_n_car_1_material__overall__tertile__bottom  \\\n0                                                 987   \n1                                                 986   \n2                                                 981   \n3                                                 951   \n4                                                 944   \n..                                                ...   \n199                                               871   \n200                                               864   \n201                                               861   \n202                                               854   \n203                                               851   \n\n     resid_n_car_1_material__overall__tertile__top  \\\n0                                              987   \n1                                              986   \n2                                              981   \n3                                              951   \n4                                              944   \n..                                             ...   \n199                                            871   \n200                                            864   \n201                                            861   \n202                                            854   \n203                                            851   \n\n     resid_n_car_1_material_industry__industry__decile__bottom  \\\n0                                                 2410           \n1                                                 2191           \n2                                                 2237           \n3                                                 2761           \n4                                                 2616           \n..                                                 ...           \n199                                               1117           \n200                                                758           \n201                                                942           \n202                                                651           \n203                                                961           \n\n     resid_n_car_1_material_industry__industry__decile__top  \\\n0                                                 2410        \n1                                                 2191        \n2                                                 2237        \n3                                                 2761        \n4                                                 2616        \n..                                                 ...        \n199                                               1117        \n200                                                758        \n201                                                942        \n202                                                651        \n203                                                961        \n\n     resid_n_car_1_material_industry__industry__quintile__bottom  ...  \\\n0                                                 2467            ...   \n1                                                 2273            ...   \n2                                                 2312            ...   \n3                                                 2768            ...   \n4                                                 2637            ...   \n..                                                 ...            ...   \n199                                               1279            ...   \n200                                                960            ...   \n201                                               1120            ...   \n202                                                862            ...   \n203                                               1135            ...   \n\n     resid_n_material__overall__quintile__bottom  \\\n0                                            592   \n1                                            592   \n2                                            589   \n3                                            571   \n4                                            567   \n..                                           ...   \n199                                          523   \n200                                          519   \n201                                          517   \n202                                          513   \n203                                          511   \n\n     resid_n_material__overall__quintile__top  \\\n0                                         592   \n1                                         592   \n2                                         589   \n3                                         571   \n4                                         567   \n..                                        ...   \n199                                       523   \n200                                       519   \n201                                       517   \n202                                       513   \n203                                       511   \n\n     resid_n_material__overall__tertile__bottom  \\\n0                                           987   \n1                                           986   \n2                                           981   \n3                                           951   \n4                                           944   \n..                                          ...   \n199                                         871   \n200                                         864   \n201                                         861   \n202                                         854   \n203                                         851   \n\n     resid_n_material__overall__tertile__top  \\\n0                                        987   \n1                                        986   \n2                                        981   \n3                                        951   \n4                                        944   \n..                                       ...   \n199                                      871   \n200                                      864   \n201                                      861   \n202                                      854   \n203                                      851   \n\n     resid_n_material_industry__industry__decile__bottom  \\\n0                                                 2577     \n1                                                 2151     \n2                                                 2043     \n3                                                 2130     \n4                                                 2321     \n..                                                 ...     \n199                                                554     \n200                                                624     \n201                                                673     \n202                                                604     \n203                                                575     \n\n     resid_n_material_industry__industry__decile__top  \\\n0                                                2577   \n1                                                2151   \n2                                                2043   \n3                                                2130   \n4                                                2321   \n..                                                ...   \n199                                               554   \n200                                               624   \n201                                               673   \n202                                               604   \n203                                               575   \n\n     resid_n_material_industry__industry__quintile__bottom  \\\n0                                                 2616       \n1                                                 2237       \n2                                                 2140       \n3                                                 2209       \n4                                                 2375       \n..                                                 ...       \n199                                                778       \n200                                                839       \n201                                                880       \n202                                                820       \n203                                                790       \n\n     resid_n_material_industry__industry__quintile__top  \\\n0                                                 2616    \n1                                                 2237    \n2                                                 2140    \n3                                                 2209    \n4                                                 2375    \n..                                                 ...    \n199                                                778    \n200                                                839    \n201                                                880    \n202                                                820    \n203                                                790    \n\n     resid_n_material_industry__industry__tertile__bottom  \\\n0                                                 2666      \n1                                                 2347      \n2                                                 2263      \n3                                                 2310      \n4                                                 2445      \n..                                                 ...      \n199                                               1065      \n200                                               1114      \n201                                               1146      \n202                                               1091      \n203                                               1065      \n\n     resid_n_material_industry__industry__tertile__top  \n0                                                 2666  \n1                                                 2347  \n2                                                 2263  \n3                                                 2310  \n4                                                 2445  \n..                                                 ...  \n199                                               1066  \n200                                               1116  \n201                                               1149  \n202                                               1092  \n203                                               1068  \n\n[204 rows x 61 columns]",
      "text/html": "<div>\n<style scoped>\n    .dataframe tbody tr th:only-of-type {\n        vertical-align: middle;\n    }\n\n    .dataframe tbody tr th {\n        vertical-align: top;\n    }\n\n    .dataframe thead th {\n        text-align: right;\n    }\n</style>\n<table border=\"1\" class=\"dataframe\">\n  <thead>\n    <tr style=\"text-align: right;\">\n      <th></th>\n      <th>YearMonth</th>\n      <th>resid_n_car_1_material__overall__decile__bottom</th>\n      <th>resid_n_car_1_material__overall__decile__top</th>\n      <th>resid_n_car_1_material__overall__quintile__bottom</th>\n      <th>resid_n_car_1_material__overall__quintile__top</th>\n      <th>resid_n_car_1_material__overall__tertile__bottom</th>\n      <th>resid_n_car_1_material__overall__tertile__top</th>\n      <th>resid_n_car_1_material_industry__industry__decile__bottom</th>\n      <th>resid_n_car_1_material_industry__industry__decile__top</th>\n      <th>resid_n_car_1_material_industry__industry__quintile__bottom</th>\n      <th>...</th>\n      <th>resid_n_material__overall__quintile__bottom</th>\n      <th>resid_n_material__overall__quintile__top</th>\n      <th>resid_n_material__overall__tertile__bottom</th>\n      <th>resid_n_material__overall__tertile__top</th>\n      <th>resid_n_material_industry__industry__decile__bottom</th>\n      <th>resid_n_material_industry__industry__decile__top</th>\n      <th>resid_n_material_industry__industry__quintile__bottom</th>\n      <th>resid_n_material_industry__industry__quintile__top</th>\n      <th>resid_n_material_industry__industry__tertile__bottom</th>\n      <th>resid_n_material_industry__industry__tertile__top</th>\n    </tr>\n  </thead>\n  <tbody>\n    <tr>\n      <th>0</th>\n      <td>2007-01</td>\n      <td>296</td>\n      <td>296</td>\n      <td>592</td>\n      <td>592</td>\n      <td>987</td>\n      <td>987</td>\n      <td>2410</td>\n      <td>2410</td>\n      <td>2467</td>\n      <td>...</td>\n      <td>592</td>\n      <td>592</td>\n      <td>987</td>\n      <td>987</td>\n      <td>2577</td>\n      <td>2577</td>\n      <td>2616</td>\n      <td>2616</td>\n      <td>2666</td>\n      <td>2666</td>\n    </tr>\n    <tr>\n      <th>1</th>\n      <td>2007-02</td>\n      <td>296</td>\n      <td>296</td>\n      <td>592</td>\n      <td>592</td>\n      <td>986</td>\n      <td>986</td>\n      <td>2191</td>\n      <td>2191</td>\n      <td>2273</td>\n      <td>...</td>\n      <td>592</td>\n      <td>592</td>\n      <td>986</td>\n      <td>986</td>\n      <td>2151</td>\n      <td>2151</td>\n      <td>2237</td>\n      <td>2237</td>\n      <td>2347</td>\n      <td>2347</td>\n    </tr>\n    <tr>\n      <th>2</th>\n      <td>2007-03</td>\n      <td>295</td>\n      <td>295</td>\n      <td>589</td>\n      <td>589</td>\n      <td>981</td>\n      <td>981</td>\n      <td>2237</td>\n      <td>2237</td>\n      <td>2312</td>\n      <td>...</td>\n      <td>589</td>\n      <td>589</td>\n      <td>981</td>\n      <td>981</td>\n      <td>2043</td>\n      <td>2043</td>\n      <td>2140</td>\n      <td>2140</td>\n      <td>2263</td>\n      <td>2263</td>\n    </tr>\n    <tr>\n      <th>3</th>\n      <td>2007-04</td>\n      <td>286</td>\n      <td>286</td>\n      <td>571</td>\n      <td>571</td>\n      <td>951</td>\n      <td>951</td>\n      <td>2761</td>\n      <td>2761</td>\n      <td>2768</td>\n      <td>...</td>\n      <td>571</td>\n      <td>571</td>\n      <td>951</td>\n      <td>951</td>\n      <td>2130</td>\n      <td>2130</td>\n      <td>2209</td>\n      <td>2209</td>\n      <td>2310</td>\n      <td>2310</td>\n    </tr>\n    <tr>\n      <th>4</th>\n      <td>2007-05</td>\n      <td>284</td>\n      <td>284</td>\n      <td>567</td>\n      <td>567</td>\n      <td>944</td>\n      <td>944</td>\n      <td>2616</td>\n      <td>2616</td>\n      <td>2637</td>\n      <td>...</td>\n      <td>567</td>\n      <td>567</td>\n      <td>944</td>\n      <td>944</td>\n      <td>2321</td>\n      <td>2321</td>\n      <td>2375</td>\n      <td>2375</td>\n      <td>2445</td>\n      <td>2445</td>\n    </tr>\n    <tr>\n      <th>...</th>\n      <td>...</td>\n      <td>...</td>\n      <td>...</td>\n      <td>...</td>\n      <td>...</td>\n      <td>...</td>\n      <td>...</td>\n      <td>...</td>\n      <td>...</td>\n      <td>...</td>\n      <td>...</td>\n      <td>...</td>\n      <td>...</td>\n      <td>...</td>\n      <td>...</td>\n      <td>...</td>\n      <td>...</td>\n      <td>...</td>\n      <td>...</td>\n      <td>...</td>\n      <td>...</td>\n    </tr>\n    <tr>\n      <th>199</th>\n      <td>2023-08</td>\n      <td>262</td>\n      <td>262</td>\n      <td>523</td>\n      <td>523</td>\n      <td>871</td>\n      <td>871</td>\n      <td>1117</td>\n      <td>1117</td>\n      <td>1279</td>\n      <td>...</td>\n      <td>523</td>\n      <td>523</td>\n      <td>871</td>\n      <td>871</td>\n      <td>554</td>\n      <td>554</td>\n      <td>778</td>\n      <td>778</td>\n      <td>1065</td>\n      <td>1066</td>\n    </tr>\n    <tr>\n      <th>200</th>\n      <td>2023-09</td>\n      <td>260</td>\n      <td>260</td>\n      <td>519</td>\n      <td>519</td>\n      <td>864</td>\n      <td>864</td>\n      <td>758</td>\n      <td>758</td>\n      <td>960</td>\n      <td>...</td>\n      <td>519</td>\n      <td>519</td>\n      <td>864</td>\n      <td>864</td>\n      <td>624</td>\n      <td>624</td>\n      <td>839</td>\n      <td>839</td>\n      <td>1114</td>\n      <td>1116</td>\n    </tr>\n    <tr>\n      <th>201</th>\n      <td>2023-10</td>\n      <td>259</td>\n      <td>259</td>\n      <td>517</td>\n      <td>517</td>\n      <td>861</td>\n      <td>861</td>\n      <td>942</td>\n      <td>942</td>\n      <td>1120</td>\n      <td>...</td>\n      <td>517</td>\n      <td>517</td>\n      <td>861</td>\n      <td>861</td>\n      <td>673</td>\n      <td>673</td>\n      <td>880</td>\n      <td>880</td>\n      <td>1146</td>\n      <td>1149</td>\n    </tr>\n    <tr>\n      <th>202</th>\n      <td>2023-11</td>\n      <td>257</td>\n      <td>257</td>\n      <td>513</td>\n      <td>513</td>\n      <td>854</td>\n      <td>854</td>\n      <td>651</td>\n      <td>651</td>\n      <td>862</td>\n      <td>...</td>\n      <td>513</td>\n      <td>513</td>\n      <td>854</td>\n      <td>854</td>\n      <td>604</td>\n      <td>604</td>\n      <td>820</td>\n      <td>820</td>\n      <td>1091</td>\n      <td>1092</td>\n    </tr>\n    <tr>\n      <th>203</th>\n      <td>2023-12</td>\n      <td>256</td>\n      <td>256</td>\n      <td>511</td>\n      <td>511</td>\n      <td>851</td>\n      <td>851</td>\n      <td>961</td>\n      <td>961</td>\n      <td>1135</td>\n      <td>...</td>\n      <td>511</td>\n      <td>511</td>\n      <td>851</td>\n      <td>851</td>\n      <td>575</td>\n      <td>575</td>\n      <td>790</td>\n      <td>790</td>\n      <td>1065</td>\n      <td>1068</td>\n    </tr>\n  </tbody>\n</table>\n<p>204 rows × 61 columns</p>\n</div>"
     },
     "execution_count": 348,
     "metadata": {},
     "output_type": "execute_result"
    }
   ],
   "source": [
    "def portfolio_membership_counts(df, date_col=\"YearMonth\", id_col=None):\n",
    "    \"\"\"\n",
    "    Count portfolio membership per month for columns like:\n",
    "      <signal>_(top|bottom)_(decile|quintile|tertile)[_industry]\n",
    "      industry_<signal>_(top|bottom)_(decile|quintile|tertile)\n",
    "\n",
    "    If id_col is None  -> count rows (firm-month obs).\n",
    "    If id_col provided -> count unique ids (e.g., cusip, permno).\n",
    "    \"\"\"\n",
    "    x = df.copy()\n",
    "    x[\"_m_\"] = _to_month_period(x[date_col])\n",
    "\n",
    "    # detect top/bottom indicators (both suffix- and prefix-style), incl. tertile\n",
    "    pat_suf = re.compile(r\"^(?P<signal>.+)_(?P<leg>top|bottom)_(?P<bucket>decile|quintile|tertile)(?P<scope>_industry)?$\")\n",
    "    pat_pre = re.compile(r\"^industry_(?P<signal>.+)_(?P<leg>top|bottom)_(?P<bucket>decile|quintile|tertile)$\")\n",
    "\n",
    "    cols = []\n",
    "    for c in x.columns:\n",
    "        m1, m2 = pat_suf.match(c), pat_pre.match(c)\n",
    "        if not (m1 or m2):\n",
    "            continue\n",
    "        d = (m1 or m2).groupdict()\n",
    "        scope = \"industry\" if (m1 and d.get(\"scope\")) or m2 else \"overall\"\n",
    "        key = f\"{d['signal']}__{scope}__{d['bucket']}__{d['leg']}\"\n",
    "        cols.append((c, key))\n",
    "\n",
    "    if not cols:\n",
    "        return pd.DataFrame()\n",
    "\n",
    "    # ensure numeric 0/1\n",
    "    for c, _ in cols:\n",
    "        x[c] = pd.to_numeric(x[c], errors=\"coerce\").fillna(0).astype(int)\n",
    "\n",
    "    rows = []\n",
    "    for c, key in cols:\n",
    "        mask = x[c] == 1\n",
    "        if id_col:\n",
    "            # unique ID count per month\n",
    "            cnt = (x.loc[mask, [\"_m_\", id_col]]\n",
    "                     .dropna(subset=[id_col])\n",
    "                     .groupby(\"_m_\")[id_col].nunique())\n",
    "        else:\n",
    "            # row count per month\n",
    "            cnt = x.loc[mask].groupby(\"_m_\").size()\n",
    "        rows.append(cnt.rename(key))\n",
    "\n",
    "    out = (pd.concat(rows, axis=1)\n",
    "             .fillna(0)\n",
    "             .astype(int)\n",
    "             .reset_index()\n",
    "             .rename(columns={\"_m_\": \"YearMonth\"}))\n",
    "    return out\n",
    "membership_rows = portfolio_membership_counts(df_with_flags, date_col=\"YearMonth\")\n",
    "membership_rows"
   ],
   "metadata": {
    "collapsed": false,
    "ExecuteTime": {
     "end_time": "2025-10-21T18:51:07.459843600Z",
     "start_time": "2025-10-21T18:50:52.569922900Z"
    }
   }
  },
  {
   "cell_type": "code",
   "execution_count": 364,
   "outputs": [],
   "source": [
    "def ls_excess_from_indicators(\n",
    "    df: pd.DataFrame,\n",
    "    date_col: str = \"YearMonth\",\n",
    "    ret_col: str  = \"ret_adj\",\n",
    "    rf_col: str   = \"RF\",\n",
    "    weight_col: str = \"me_lag\",\n",
    "):\n",
    "    \"\"\"\n",
    "    Long–short *excess* returns (EW & VW) from binary flags with these names:\n",
    "      overall:          <signal>_(top|bottom)_(tertile|quintile|decile)\n",
    "      within industry:  <signal>_(top|bottom)_(tertile|quintile|decile)_industry\n",
    "    (Legacy prefix 'industry_<signal>_...' is also supported → within industry.)\n",
    "\n",
    "    Outputs per spec:\n",
    "      <base>_<bucket>_ls_ew, <base>_<bucket>_ls_vw\n",
    "    where <base> is a cleaned signal; prefixed with 'industry_' only for within-industry.\n",
    "    \"\"\"\n",
    "    x = df.copy()\n",
    "\n",
    "    # Month key → Period[M]\n",
    "    if isinstance(x[date_col].dtype, pd.PeriodDtype):\n",
    "        try:\n",
    "            x[\"_m_\"] = x[date_col].dt.asfreq(\"M\")\n",
    "        except Exception:\n",
    "            x[\"_m_\"] = x[date_col].astype(\"period[M]\")\n",
    "    else:\n",
    "        x[\"_m_\"] = pd.to_datetime(x[date_col].astype(str), errors=\"coerce\").dt.to_period(\"M\")\n",
    "\n",
    "    # Excess returns & weights\n",
    "    x[\"_rex_\"] = (\n",
    "        pd.to_numeric(x.get(ret_col, np.nan), errors=\"coerce\")\n",
    "        - pd.to_numeric(x.get(rf_col, 0.0), errors=\"coerce\").fillna(0.0)\n",
    "    )\n",
    "    x[\"_w_\"] = pd.to_numeric(x.get(weight_col, np.nan), errors=\"coerce\")\n",
    "\n",
    "    # Recognize columns: overall (no suffix) or within-industry (suffix _industry or legacy prefix)\n",
    "    pat_suffix = re.compile(\n",
    "        r\"^(?P<signal>.+)_(?P<leg>top|bottom)_(?P<bucket>tertile|quintile|decile)\"\n",
    "        r\"(?P<scope>_industry)?$\"   # only '' or '_industry'\n",
    "    )\n",
    "    pat_prefix = re.compile(\n",
    "        r\"^(?P<pfx>industry_)(?P<signal>.+)_(?P<leg>top|bottom)_(?P<bucket>tertile|quintile|decile)$\"\n",
    "    )\n",
    "\n",
    "    def scope_from(groups):\n",
    "        s = groups.get(\"scope\") or \"\"\n",
    "        return \"industry\" if s == \"_industry\" else \"overall\"\n",
    "\n",
    "    # Collect complete top/bottom pairs by (signal, scope, bucket)\n",
    "    pairs = {}\n",
    "    for c in x.columns:\n",
    "        m = pat_suffix.match(c)\n",
    "        if m:\n",
    "            d = m.groupdict()\n",
    "            key = (d[\"signal\"], scope_from(d), d[\"bucket\"])\n",
    "        else:\n",
    "            m = pat_prefix.match(c)\n",
    "            if not m:\n",
    "                continue\n",
    "            d = m.groupdict()\n",
    "            key = (d[\"signal\"], \"industry\", d[\"bucket\"])\n",
    "        pairs.setdefault(key, {\"top\": None, \"bottom\": None})\n",
    "        pairs[key][d[\"leg\"]] = c\n",
    "\n",
    "    specs = [\n",
    "        (sig, scp, bkt, cols[\"top\"], cols[\"bottom\"])\n",
    "        for (sig, scp, bkt), cols in pairs.items()\n",
    "        if cols[\"top\"] is not None and cols[\"bottom\"] is not None\n",
    "    ]\n",
    "    if not specs:\n",
    "        raise ValueError(\"No complete top/bottom pairs found for overall/industry.\")\n",
    "\n",
    "    # Clean signal name for output\n",
    "    def _clean_signal(sig: str) -> str:\n",
    "        s = sig\n",
    "        s = re.sub(r\"^n_\", \"\", s)\n",
    "        s = s.replace(\"resid_\", \"\")\n",
    "        s = s.replace(\"_material_24m\", \"\").replace(\"_material\", \"\")\n",
    "        s = s.replace(\"_24m\", \"\")\n",
    "        return s.strip(\"_\")\n",
    "\n",
    "    # Safe mask conversion\n",
    "    def _safe_mask(col: pd.Series) -> pd.Series:\n",
    "        if col.dtype == bool:\n",
    "            return col.astype(\"boolean\").fillna(False)\n",
    "        return pd.to_numeric(col, errors=\"coerce\").eq(1).astype(\"boolean\").fillna(False)\n",
    "\n",
    "    # EW/VW on *excess* returns\n",
    "    def _ew(mask: pd.Series) -> pd.Series:\n",
    "        m = _safe_mask(mask)\n",
    "        if not m.any():\n",
    "            return pd.Series(dtype=float)\n",
    "        return x.loc[m].groupby(x.loc[m, \"_m_\"])[\"_rex_\"].mean()\n",
    "\n",
    "    def _vw(mask: pd.Series) -> pd.Series:\n",
    "        m = _safe_mask(mask)\n",
    "        tmp = x.loc[m, [\"_m_\", \"_rex_\", \"_w_\"]].copy()\n",
    "        if tmp.empty:\n",
    "            return pd.Series(dtype=float)\n",
    "        tmp[\"_w_\"] = tmp[\"_w_\"].clip(lower=0)\n",
    "        sumw = tmp.groupby(\"_m_\")[\"_w_\"].sum()\n",
    "        sumw = sumw.where(sumw > 0)\n",
    "        tmp = tmp.join(sumw.rename(\"_sumw_\"), on=\"_m_\")\n",
    "        tmp[\"_contrib_\"] = tmp[\"_rex_\"] * (tmp[\"_w_\"] / tmp[\"_sumw_\"])\n",
    "        return tmp.groupby(\"_m_\")[\"_contrib_\"].sum()\n",
    "\n",
    "    # Build LS series\n",
    "    frames = []\n",
    "    for sig, scp, bkt, top_col, bot_col in sorted(specs):\n",
    "        ew_top, ew_bot = _ew(x[top_col]), _ew(x[bot_col])\n",
    "        vw_top, vw_bot = _vw(x[top_col]), _vw(x[bot_col])\n",
    "\n",
    "        idx = ew_top.index.union(ew_bot.index)\n",
    "        ew_ls = ew_top.reindex(idx) - ew_bot.reindex(idx)\n",
    "\n",
    "        idx_vw = vw_top.index.union(vw_bot.index)\n",
    "        vw_ls = vw_top.reindex(idx_vw) - vw_bot.reindex(idx_vw)\n",
    "        vw_ls = vw_ls.reindex(idx)\n",
    "\n",
    "        base = _clean_signal(sig)\n",
    "        if scp == \"industry\":\n",
    "            base = f\"industry_{base}\"\n",
    "\n",
    "        frames.append(pd.DataFrame({\n",
    "            \"YearMonth\": idx,\n",
    "            f\"{base}_{bkt}_ls_ew\": ew_ls.values,\n",
    "            f\"{base}_{bkt}_ls_vw\": vw_ls.values,\n",
    "        }))\n",
    "\n",
    "    out = frames[0]\n",
    "    for f in frames[1:]:\n",
    "        out = out.merge(f, on=\"YearMonth\", how=\"outer\")\n",
    "\n",
    "    return out.sort_values(\"YearMonth\").reset_index(drop=True)\n"
   ],
   "metadata": {
    "collapsed": false,
    "ExecuteTime": {
     "end_time": "2025-10-22T17:41:07.058376300Z",
     "start_time": "2025-10-22T17:41:06.890045700Z"
    }
   }
  },
  {
   "cell_type": "code",
   "execution_count": 365,
   "outputs": [
    {
     "data": {
      "text/plain": "    YearMonth  n_car_1_decile_ls_ew  n_car_1_decile_ls_vw  \\\n0     2007-01             -0.011229              0.027097   \n1     2007-02              0.018276             -0.002157   \n2     2007-03             -0.001836             -0.004628   \n3     2007-04              0.025260             -0.001381   \n4     2007-05             -0.038253              0.010758   \n..        ...                   ...                   ...   \n199   2023-08             -0.016187             -0.017443   \n200   2023-09              0.024368             -0.018283   \n201   2023-10              0.012196              0.010117   \n202   2023-11              0.022722              0.041872   \n203   2023-12              0.005154              0.001301   \n\n     n_car_1_quintile_ls_ew  n_car_1_quintile_ls_vw  n_car_1_tertile_ls_ew  \\\n0                 -0.014843                0.027896              -0.011261   \n1                  0.021310               -0.001504               0.014657   \n2                  0.010708               -0.004001               0.002143   \n3                  0.037336                0.000259               0.031961   \n4                 -0.026296                0.011061              -0.028514   \n..                      ...                     ...                    ...   \n199               -0.012397               -0.019275               0.001567   \n200                0.017147               -0.023984               0.013342   \n201               -0.000756                0.016295               0.002297   \n202               -0.013532                0.046603              -0.027179   \n203               -0.010644               -0.000010              -0.034043   \n\n     n_car_1_tertile_ls_vw  industry_n_car_1_industry_decile_ls_ew  \\\n0                 0.025248                                0.000045   \n1                -0.001207                                0.001708   \n2                -0.004381                                0.001191   \n3                 0.001010                                0.001146   \n4                 0.009879                               -0.002885   \n..                     ...                                     ...   \n199              -0.028272                               -0.008856   \n200              -0.028685                                0.002036   \n201               0.021754                               -0.025815   \n202               0.042992                                0.051698   \n203               0.023027                               -0.015991   \n\n     industry_n_car_1_industry_decile_ls_vw  \\\n0                                  0.001588   \n1                                 -0.000694   \n2                                  0.000273   \n3                                  0.000764   \n4                                  0.012538   \n..                                      ...   \n199                               -0.006299   \n200                               -0.018823   \n201                               -0.004598   \n202                                0.040939   \n203                               -0.010851   \n\n     industry_n_car_1_industry_quintile_ls_ew  ...  n_severity_quintile_ls_ew  \\\n0                                    0.000093  ...                  -0.014225   \n1                                    0.001742  ...                   0.018685   \n2                                    0.002395  ...                   0.007515   \n3                                    0.002220  ...                   0.038647   \n4                                   -0.004025  ...                  -0.030220   \n..                                        ...  ...                        ...   \n199                                 -0.022515  ...                  -0.015686   \n200                                 -0.002361  ...                   0.014403   \n201                                 -0.007943  ...                  -0.000796   \n202                                  0.033875  ...                  -0.001902   \n203                                 -0.013538  ...                  -0.013306   \n\n     n_severity_quintile_ls_vw  n_severity_tertile_ls_ew  \\\n0                     0.033501                 -0.011227   \n1                    -0.012774                  0.014115   \n2                    -0.009082                  0.002086   \n3                    -0.001019                  0.036022   \n4                    -0.006281                 -0.030057   \n..                         ...                       ...   \n199                  -0.013675                 -0.002751   \n200                  -0.036036                  0.008371   \n201                   0.011132                  0.002557   \n202                   0.052779                 -0.023843   \n203                   0.000416                 -0.036197   \n\n     n_severity_tertile_ls_vw  industry_n_severity_industry_decile_ls_ew  \\\n0                    0.029062                                  -0.000108   \n1                   -0.011875                                   0.001400   \n2                   -0.009182                                  -0.000169   \n3                   -0.000053                                   0.000231   \n4                   -0.006692                                  -0.004440   \n..                        ...                                        ...   \n199                 -0.013220                                  -0.009867   \n200                 -0.035278                                   0.003485   \n201                  0.005583                                  -0.015791   \n202                  0.050538                                   0.041676   \n203                 -0.004260                                  -0.020079   \n\n     industry_n_severity_industry_decile_ls_vw  \\\n0                                     0.003308   \n1                                    -0.002785   \n2                                    -0.002034   \n3                                     0.001047   \n4                                     0.010359   \n..                                         ...   \n199                                  -0.010369   \n200                                  -0.035523   \n201                                  -0.005917   \n202                                   0.040156   \n203                                  -0.025331   \n\n     industry_n_severity_industry_quintile_ls_ew  \\\n0                                      -0.000601   \n1                                       0.001153   \n2                                       0.000700   \n3                                       0.002784   \n4                                      -0.005455   \n..                                           ...   \n199                                    -0.023194   \n200                                    -0.003190   \n201                                    -0.013256   \n202                                     0.027237   \n203                                    -0.019063   \n\n     industry_n_severity_industry_quintile_ls_vw  \\\n0                                       0.003803   \n1                                      -0.002279   \n2                                      -0.001682   \n3                                       0.002097   \n4                                       0.008264   \n..                                           ...   \n199                                    -0.007661   \n200                                    -0.033119   \n201                                    -0.004923   \n202                                     0.038589   \n203                                    -0.028920   \n\n     industry_n_severity_industry_tertile_ls_ew  \\\n0                                     -0.000118   \n1                                      0.003302   \n2                                      0.002182   \n3                                      0.006848   \n4                                     -0.008415   \n..                                          ...   \n199                                   -0.013236   \n200                                    0.000742   \n201                                    0.004643   \n202                                    0.020778   \n203                                   -0.019712   \n\n     industry_n_severity_industry_tertile_ls_vw  \n0                                      0.003996  \n1                                     -0.001360  \n2                                     -0.001747  \n3                                      0.002910  \n4                                      0.004777  \n..                                          ...  \n199                                   -0.011414  \n200                                   -0.030220  \n201                                   -0.010510  \n202                                    0.036515  \n203                                   -0.027289  \n\n[204 rows x 61 columns]",
      "text/html": "<div>\n<style scoped>\n    .dataframe tbody tr th:only-of-type {\n        vertical-align: middle;\n    }\n\n    .dataframe tbody tr th {\n        vertical-align: top;\n    }\n\n    .dataframe thead th {\n        text-align: right;\n    }\n</style>\n<table border=\"1\" class=\"dataframe\">\n  <thead>\n    <tr style=\"text-align: right;\">\n      <th></th>\n      <th>YearMonth</th>\n      <th>n_car_1_decile_ls_ew</th>\n      <th>n_car_1_decile_ls_vw</th>\n      <th>n_car_1_quintile_ls_ew</th>\n      <th>n_car_1_quintile_ls_vw</th>\n      <th>n_car_1_tertile_ls_ew</th>\n      <th>n_car_1_tertile_ls_vw</th>\n      <th>industry_n_car_1_industry_decile_ls_ew</th>\n      <th>industry_n_car_1_industry_decile_ls_vw</th>\n      <th>industry_n_car_1_industry_quintile_ls_ew</th>\n      <th>...</th>\n      <th>n_severity_quintile_ls_ew</th>\n      <th>n_severity_quintile_ls_vw</th>\n      <th>n_severity_tertile_ls_ew</th>\n      <th>n_severity_tertile_ls_vw</th>\n      <th>industry_n_severity_industry_decile_ls_ew</th>\n      <th>industry_n_severity_industry_decile_ls_vw</th>\n      <th>industry_n_severity_industry_quintile_ls_ew</th>\n      <th>industry_n_severity_industry_quintile_ls_vw</th>\n      <th>industry_n_severity_industry_tertile_ls_ew</th>\n      <th>industry_n_severity_industry_tertile_ls_vw</th>\n    </tr>\n  </thead>\n  <tbody>\n    <tr>\n      <th>0</th>\n      <td>2007-01</td>\n      <td>-0.011229</td>\n      <td>0.027097</td>\n      <td>-0.014843</td>\n      <td>0.027896</td>\n      <td>-0.011261</td>\n      <td>0.025248</td>\n      <td>0.000045</td>\n      <td>0.001588</td>\n      <td>0.000093</td>\n      <td>...</td>\n      <td>-0.014225</td>\n      <td>0.033501</td>\n      <td>-0.011227</td>\n      <td>0.029062</td>\n      <td>-0.000108</td>\n      <td>0.003308</td>\n      <td>-0.000601</td>\n      <td>0.003803</td>\n      <td>-0.000118</td>\n      <td>0.003996</td>\n    </tr>\n    <tr>\n      <th>1</th>\n      <td>2007-02</td>\n      <td>0.018276</td>\n      <td>-0.002157</td>\n      <td>0.021310</td>\n      <td>-0.001504</td>\n      <td>0.014657</td>\n      <td>-0.001207</td>\n      <td>0.001708</td>\n      <td>-0.000694</td>\n      <td>0.001742</td>\n      <td>...</td>\n      <td>0.018685</td>\n      <td>-0.012774</td>\n      <td>0.014115</td>\n      <td>-0.011875</td>\n      <td>0.001400</td>\n      <td>-0.002785</td>\n      <td>0.001153</td>\n      <td>-0.002279</td>\n      <td>0.003302</td>\n      <td>-0.001360</td>\n    </tr>\n    <tr>\n      <th>2</th>\n      <td>2007-03</td>\n      <td>-0.001836</td>\n      <td>-0.004628</td>\n      <td>0.010708</td>\n      <td>-0.004001</td>\n      <td>0.002143</td>\n      <td>-0.004381</td>\n      <td>0.001191</td>\n      <td>0.000273</td>\n      <td>0.002395</td>\n      <td>...</td>\n      <td>0.007515</td>\n      <td>-0.009082</td>\n      <td>0.002086</td>\n      <td>-0.009182</td>\n      <td>-0.000169</td>\n      <td>-0.002034</td>\n      <td>0.000700</td>\n      <td>-0.001682</td>\n      <td>0.002182</td>\n      <td>-0.001747</td>\n    </tr>\n    <tr>\n      <th>3</th>\n      <td>2007-04</td>\n      <td>0.025260</td>\n      <td>-0.001381</td>\n      <td>0.037336</td>\n      <td>0.000259</td>\n      <td>0.031961</td>\n      <td>0.001010</td>\n      <td>0.001146</td>\n      <td>0.000764</td>\n      <td>0.002220</td>\n      <td>...</td>\n      <td>0.038647</td>\n      <td>-0.001019</td>\n      <td>0.036022</td>\n      <td>-0.000053</td>\n      <td>0.000231</td>\n      <td>0.001047</td>\n      <td>0.002784</td>\n      <td>0.002097</td>\n      <td>0.006848</td>\n      <td>0.002910</td>\n    </tr>\n    <tr>\n      <th>4</th>\n      <td>2007-05</td>\n      <td>-0.038253</td>\n      <td>0.010758</td>\n      <td>-0.026296</td>\n      <td>0.011061</td>\n      <td>-0.028514</td>\n      <td>0.009879</td>\n      <td>-0.002885</td>\n      <td>0.012538</td>\n      <td>-0.004025</td>\n      <td>...</td>\n      <td>-0.030220</td>\n      <td>-0.006281</td>\n      <td>-0.030057</td>\n      <td>-0.006692</td>\n      <td>-0.004440</td>\n      <td>0.010359</td>\n      <td>-0.005455</td>\n      <td>0.008264</td>\n      <td>-0.008415</td>\n      <td>0.004777</td>\n    </tr>\n    <tr>\n      <th>...</th>\n      <td>...</td>\n      <td>...</td>\n      <td>...</td>\n      <td>...</td>\n      <td>...</td>\n      <td>...</td>\n      <td>...</td>\n      <td>...</td>\n      <td>...</td>\n      <td>...</td>\n      <td>...</td>\n      <td>...</td>\n      <td>...</td>\n      <td>...</td>\n      <td>...</td>\n      <td>...</td>\n      <td>...</td>\n      <td>...</td>\n      <td>...</td>\n      <td>...</td>\n      <td>...</td>\n    </tr>\n    <tr>\n      <th>199</th>\n      <td>2023-08</td>\n      <td>-0.016187</td>\n      <td>-0.017443</td>\n      <td>-0.012397</td>\n      <td>-0.019275</td>\n      <td>0.001567</td>\n      <td>-0.028272</td>\n      <td>-0.008856</td>\n      <td>-0.006299</td>\n      <td>-0.022515</td>\n      <td>...</td>\n      <td>-0.015686</td>\n      <td>-0.013675</td>\n      <td>-0.002751</td>\n      <td>-0.013220</td>\n      <td>-0.009867</td>\n      <td>-0.010369</td>\n      <td>-0.023194</td>\n      <td>-0.007661</td>\n      <td>-0.013236</td>\n      <td>-0.011414</td>\n    </tr>\n    <tr>\n      <th>200</th>\n      <td>2023-09</td>\n      <td>0.024368</td>\n      <td>-0.018283</td>\n      <td>0.017147</td>\n      <td>-0.023984</td>\n      <td>0.013342</td>\n      <td>-0.028685</td>\n      <td>0.002036</td>\n      <td>-0.018823</td>\n      <td>-0.002361</td>\n      <td>...</td>\n      <td>0.014403</td>\n      <td>-0.036036</td>\n      <td>0.008371</td>\n      <td>-0.035278</td>\n      <td>0.003485</td>\n      <td>-0.035523</td>\n      <td>-0.003190</td>\n      <td>-0.033119</td>\n      <td>0.000742</td>\n      <td>-0.030220</td>\n    </tr>\n    <tr>\n      <th>201</th>\n      <td>2023-10</td>\n      <td>0.012196</td>\n      <td>0.010117</td>\n      <td>-0.000756</td>\n      <td>0.016295</td>\n      <td>0.002297</td>\n      <td>0.021754</td>\n      <td>-0.025815</td>\n      <td>-0.004598</td>\n      <td>-0.007943</td>\n      <td>...</td>\n      <td>-0.000796</td>\n      <td>0.011132</td>\n      <td>0.002557</td>\n      <td>0.005583</td>\n      <td>-0.015791</td>\n      <td>-0.005917</td>\n      <td>-0.013256</td>\n      <td>-0.004923</td>\n      <td>0.004643</td>\n      <td>-0.010510</td>\n    </tr>\n    <tr>\n      <th>202</th>\n      <td>2023-11</td>\n      <td>0.022722</td>\n      <td>0.041872</td>\n      <td>-0.013532</td>\n      <td>0.046603</td>\n      <td>-0.027179</td>\n      <td>0.042992</td>\n      <td>0.051698</td>\n      <td>0.040939</td>\n      <td>0.033875</td>\n      <td>...</td>\n      <td>-0.001902</td>\n      <td>0.052779</td>\n      <td>-0.023843</td>\n      <td>0.050538</td>\n      <td>0.041676</td>\n      <td>0.040156</td>\n      <td>0.027237</td>\n      <td>0.038589</td>\n      <td>0.020778</td>\n      <td>0.036515</td>\n    </tr>\n    <tr>\n      <th>203</th>\n      <td>2023-12</td>\n      <td>0.005154</td>\n      <td>0.001301</td>\n      <td>-0.010644</td>\n      <td>-0.000010</td>\n      <td>-0.034043</td>\n      <td>0.023027</td>\n      <td>-0.015991</td>\n      <td>-0.010851</td>\n      <td>-0.013538</td>\n      <td>...</td>\n      <td>-0.013306</td>\n      <td>0.000416</td>\n      <td>-0.036197</td>\n      <td>-0.004260</td>\n      <td>-0.020079</td>\n      <td>-0.025331</td>\n      <td>-0.019063</td>\n      <td>-0.028920</td>\n      <td>-0.019712</td>\n      <td>-0.027289</td>\n    </tr>\n  </tbody>\n</table>\n<p>204 rows × 61 columns</p>\n</div>"
     },
     "execution_count": 365,
     "metadata": {},
     "output_type": "execute_result"
    }
   ],
   "source": [
    "# df_with_indicators: your dataframe that already contains the *_top_* and *_bottom_* flags\n",
    "ls_ret = ls_excess_from_indicators(df_with_flags)\n",
    "ls_ret"
   ],
   "metadata": {
    "collapsed": false,
    "ExecuteTime": {
     "end_time": "2025-10-22T17:41:22.393642Z",
     "start_time": "2025-10-22T17:41:12.486966500Z"
    }
   }
  },
  {
   "cell_type": "code",
   "execution_count": 366,
   "outputs": [],
   "source": [
    "df_ls.to_csv('Output/portfolio_residual_rolling.csv', index=False)"
   ],
   "metadata": {
    "collapsed": false,
    "ExecuteTime": {
     "end_time": "2025-10-22T17:41:46.982280600Z",
     "start_time": "2025-10-22T17:41:46.938682700Z"
    }
   }
  },
  {
   "cell_type": "markdown",
   "source": [
    "# 4. Portfolio Returns"
   ],
   "metadata": {
    "collapsed": false
   }
  },
  {
   "cell_type": "code",
   "execution_count": 844,
   "outputs": [],
   "source": [
    "# ----------------------------\n",
    "# 0) Helpers\n",
    "# ----------------------------\n",
    "\n",
    "def choose_primary_class(df, by=['cusip','date']):\n",
    "    \"\"\"\n",
    "    If multiple PERMNOs share the same cusip8 at a date,\n",
    "    keep the one with the largest lagged market cap (me_lag).\n",
    "    \"\"\"\n",
    "    df = df.copy()\n",
    "    df['_rank'] = df.groupby(by)['me_lag'].rank(method='first', ascending=False)\n",
    "    out = df.loc[df['_rank'] == 1].drop(columns=['_rank'])\n",
    "    return out"
   ],
   "metadata": {
    "collapsed": false,
    "ExecuteTime": {
     "end_time": "2025-10-14T14:34:27.228608200Z",
     "start_time": "2025-10-14T14:34:27.178197900Z"
    }
   }
  },
  {
   "cell_type": "code",
   "execution_count": 845,
   "outputs": [],
   "source": [
    "# ----------------------------\n",
    "# 1) Prepare CRSP monthly panel\n",
    "# ----------------------------\n",
    "crsp = crsp_with_cusip.copy()\n",
    "crsp['date'] = pd.to_datetime(crsp['date'])\n",
    "\n",
    "\n",
    "# If same cusip8 maps to multiple permnos per month, keep largest me_lag\n",
    "crsp_1class = choose_primary_class(crsp, by=['cusip','date'])"
   ],
   "metadata": {
    "collapsed": false,
    "ExecuteTime": {
     "end_time": "2025-10-14T14:34:30.734742700Z",
     "start_time": "2025-10-14T14:34:29.466787300Z"
    }
   }
  },
  {
   "cell_type": "code",
   "execution_count": 846,
   "outputs": [],
   "source": [
    "# ----------------------------\n",
    "# 2) Prepare factors\n",
    "# ----------------------------\n",
    "ff = ff.copy()\n",
    "ff['date'] = pd.to_datetime(ff['date']) + MonthEnd(0)"
   ],
   "metadata": {
    "collapsed": false,
    "ExecuteTime": {
     "end_time": "2025-10-14T14:34:30.736745100Z",
     "start_time": "2025-10-14T14:34:30.735743400Z"
    }
   }
  },
  {
   "cell_type": "code",
   "execution_count": 847,
   "outputs": [],
   "source": [
    "def compute_all_quintile_portfolio_returns(panel):\n",
    "    \"\"\"\n",
    "    Computes EW/VW time series for each flag column and long–short spreads per 'portfolio type':\n",
    "      - Quintile: topQ_* minus botQ_*\n",
    "      - Decile:   topD_* minus botD_*\n",
    "      - Incident: noInc_* minus inc_*\n",
    "\n",
    "    Expects columns:\n",
    "      - 'date' (datetime-like), 'ret_adj' (returns), optional 'me_lag' (for VW)\n",
    "      - Portfolio flags: topQ_/botQ_, topD_/botD_, noInc_/inc_\n",
    "    \"\"\"\n",
    "    panel = panel.copy()\n",
    "    panel['date'] = pd.to_datetime(panel['date'])\n",
    "\n",
    "    # 1) detect flags for all three portfolio types\n",
    "    top_flags = [c for c in panel.columns if c.startswith(('topQ_', 'topD_', 'noInc_'))]\n",
    "    bot_flags = [c for c in panel.columns if c.startswith(('botQ_', 'botD_', 'inc_'))]\n",
    "\n",
    "    if not top_flags and not bot_flags:\n",
    "        raise ValueError(\"No portfolio flag columns found (topQ_/botQ_/topD_/botD_/noInc_/inc_).\")\n",
    "\n",
    "    # 2) helper: return series for one flag (EW or VW)\n",
    "    def _flag_returns(df, flag_col, weight='EW'):\n",
    "        p = df.loc[df[flag_col] == 1].copy()\n",
    "        name = f\"{flag_col}_{weight}\"\n",
    "        if p.empty:\n",
    "            return pd.Series(dtype=float, name=name)\n",
    "        if weight == 'EW':\n",
    "            return p.groupby('date')['ret_adj'].mean().rename(name)\n",
    "        # VW uses lagged market equity\n",
    "        p = p.dropna(subset=['me_lag']).copy()\n",
    "        if p.empty:\n",
    "            return pd.Series(dtype=float, name=name)\n",
    "        wsum = p.groupby('date')['me_lag'].sum().rename('W')\n",
    "        p = p.merge(wsum, on='date', how='left')\n",
    "        p['w'] = np.where(p['W'] > 0, p['me_lag'] / p['W'], np.nan)\n",
    "        return (p['w'] * p['ret_adj']).groupby(p['date']).sum().rename(name)\n",
    "\n",
    "    # 3) compute EW/VW for every flag\n",
    "    parts = []\n",
    "    for flag in sorted(set(top_flags + bot_flags)):\n",
    "        parts.append(_flag_returns(panel, flag, 'EW'))\n",
    "        parts.append(_flag_returns(panel, flag, 'VW'))\n",
    "    ts_flags = pd.concat(parts, axis=1).sort_index()\n",
    "\n",
    "    # 4) parse (type, base) from a flag name so \"col split\" works for all types\n",
    "    # Returns (ptype, side, base) where:\n",
    "    #   ptype in {'Q','D','INC'}; side in {'top','bot'}\n",
    "    def _parse(col):\n",
    "        if col.startswith('topQ_'):  return ('Q',   'top', col[5:])\n",
    "        if col.startswith('botQ_'):  return ('Q',   'bot', col[5:])\n",
    "        if col.startswith('topD_'):  return ('D',   'top', col[5:])\n",
    "        if col.startswith('botD_'):  return ('D',   'bot', col[5:])\n",
    "        if col.startswith('noInc_'): return ('INC', 'top', col[6:])  # long leg = no incident\n",
    "        if col.startswith('inc_'):   return ('INC', 'bot', col[4:])  # short leg = incident\n",
    "        return (None, None, None)\n",
    "\n",
    "    # build maps: {(ptype, base): column_name}\n",
    "    top_map, bot_map = {}, {}\n",
    "    for c in top_flags:\n",
    "        ptype, side, base = _parse(c)\n",
    "        if ptype and side == 'top':\n",
    "            top_map[(ptype, base)] = c\n",
    "    for c in bot_flags:\n",
    "        ptype, side, base = _parse(c)\n",
    "        if ptype and side == 'bot':\n",
    "            bot_map[(ptype, base)] = c\n",
    "\n",
    "    # 5) long–short per (ptype, base)\n",
    "    common_keys = sorted(set(top_map).intersection(bot_map))\n",
    "    for ptype, base in common_keys:\n",
    "        tflag, bflag = top_map[(ptype, base)], bot_map[(ptype, base)]\n",
    "        # EW spread\n",
    "        t_ew = f\"{tflag}_EW\"; b_ew = f\"{bflag}_EW\"\n",
    "        if t_ew in ts_flags.columns and b_ew in ts_flags.columns:\n",
    "            ts_flags[f\"LS_{ptype}_EW_{base}\"] = ts_flags[t_ew] - ts_flags[b_ew]\n",
    "        # VW spread\n",
    "        t_vw = f\"{tflag}_VW\"; b_vw = f\"{bflag}_VW\"\n",
    "        if t_vw in ts_flags.columns and b_vw in ts_flags.columns:\n",
    "            ts_flags[f\"LS_{ptype}_VW_{base}\"] = ts_flags[t_vw] - ts_flags[b_vw]\n",
    "\n",
    "    return ts_flags"
   ],
   "metadata": {
    "collapsed": false,
    "ExecuteTime": {
     "end_time": "2025-10-14T14:34:33.390954Z",
     "start_time": "2025-10-14T14:34:33.342546500Z"
    }
   }
  },
  {
   "cell_type": "code",
   "execution_count": 856,
   "outputs": [
    {
     "data": {
      "text/plain": "            botQ_resid_n_car_1_material_EW  botQ_resid_n_car_1_material_VW  \\\ndate                                                                         \n2009-01-30                       -0.043333                       -0.082482   \n2009-02-27                       -0.089405                       -0.065724   \n2009-03-31                        0.140397                        0.084326   \n2009-04-30                        0.298713                        0.061675   \n2009-05-29                        0.075072                         0.02042   \n...                                    ...                             ...   \n2023-08-31                        -0.06273                         0.00596   \n2023-09-29                       -0.072279                       -0.048823   \n2023-10-31                       -0.075596                       -0.005215   \n2023-11-30                        0.096233                        0.056254   \n2023-12-29                        0.126149                        0.044182   \n\n            botQ_resid_n_car_5_material_EW  botQ_resid_n_car_5_material_VW  \\\ndate                                                                         \n2009-01-30                       -0.053108                       -0.130878   \n2009-02-27                       -0.085311                       -0.119433   \n2009-03-31                        0.167861                        0.066808   \n2009-04-30                        0.316874                        0.063588   \n2009-05-29                        0.051701                         0.03223   \n...                                    ...                             ...   \n2023-08-31                       -0.069024                        0.001336   \n2023-09-29                       -0.079409                        -0.04674   \n2023-10-31                       -0.071122                        0.003208   \n2023-11-30                        0.095974                         0.05363   \n2023-12-29                        0.133973                        0.040668   \n\n            botQ_resid_n_material_EW  botQ_resid_n_material_VW  \\\ndate                                                             \n2009-01-30                 -0.082064                 -0.103613   \n2009-02-27                 -0.092809                 -0.049271   \n2009-03-31                  0.154676                  0.076959   \n2009-04-30                   0.31296                  0.049921   \n2009-05-29                  0.064956                  0.023868   \n...                              ...                       ...   \n2023-08-31                 -0.065196                  0.000988   \n2023-09-29                 -0.066178                 -0.040277   \n2023-10-31                 -0.080543                  0.021351   \n2023-11-30                  0.106476                  0.088386   \n2023-12-29                  0.136825                  0.025206   \n\n            botQ_resid_n_reach_material_EW  botQ_resid_n_reach_material_VW  \\\ndate                                                                         \n2009-01-30                       -0.085532                        -0.10103   \n2009-02-27                       -0.092382                         -0.0575   \n2009-03-31                        0.155781                        0.087619   \n2009-04-30                        0.309689                        0.094739   \n2009-05-29                        0.054201                        0.010679   \n...                                    ...                             ...   \n2023-08-31                       -0.070525                       -0.000579   \n2023-09-29                       -0.067034                       -0.041843   \n2023-10-31                        -0.07693                        0.018555   \n2023-11-30                        0.090968                        0.067366   \n2023-12-29                        0.134087                        0.032942   \n\n            botQ_resid_n_severity_material_EW  \\\ndate                                            \n2009-01-30                          -0.069587   \n2009-02-27                          -0.083065   \n2009-03-31                           0.151328   \n2009-04-30                           0.312832   \n2009-05-29                           0.050629   \n...                                       ...   \n2023-08-31                          -0.067456   \n2023-09-29                          -0.065827   \n2023-10-31                          -0.075831   \n2023-11-30                           0.087679   \n2023-12-29                           0.126969   \n\n            botQ_resid_n_severity_material_VW  ...  \\\ndate                                           ...   \n2009-01-30                          -0.081988  ...   \n2009-02-27                           -0.05655  ...   \n2009-03-31                            0.08739  ...   \n2009-04-30                           0.049294  ...   \n2009-05-29                           0.013049  ...   \n...                                       ...  ...   \n2023-08-31                          -0.000881  ...   \n2023-09-29                          -0.039111  ...   \n2023-10-31                            0.02084  ...   \n2023-11-30                           0.069135  ...   \n2023-12-29                            0.02504  ...   \n\n            LS_Q_EW_resid_n_car_1_material  LS_Q_VW_resid_n_car_1_material  \\\ndate                                                                         \n2009-01-30                       -0.017887                        0.003828   \n2009-02-27                       -0.007929                       -0.011895   \n2009-03-31                        0.011009                         0.00786   \n2009-04-30                       -0.001111                        0.009046   \n2009-05-29                       -0.045585                          0.0067   \n...                                    ...                             ...   \n2023-08-31                        0.010752                       -0.023016   \n2023-09-29                        0.004012                       -0.000909   \n2023-10-31                        0.015726                        0.006191   \n2023-11-30                        0.032157                        0.060055   \n2023-12-29                       -0.018632                       -0.006061   \n\n            LS_Q_EW_resid_n_car_5_material  LS_Q_VW_resid_n_car_5_material  \\\ndate                                                                         \n2009-01-30                       -0.000732                        0.066437   \n2009-02-27                       -0.007843                        0.050074   \n2009-03-31                       -0.016864                         0.02945   \n2009-04-30                       -0.030423                        0.005339   \n2009-05-29                       -0.021639                       -0.006828   \n...                                    ...                             ...   \n2023-08-31                        0.014314                       -0.016058   \n2023-09-29                        0.012576                       -0.002129   \n2023-10-31                        0.016606                       -0.006338   \n2023-11-30                        0.028934                        0.052956   \n2023-12-29                       -0.036081                       -0.001874   \n\n            LS_Q_EW_resid_n_material  LS_Q_VW_resid_n_material  \\\ndate                                                             \n2009-01-30                  0.015229                  0.040192   \n2009-02-27                  0.001006                  -0.03439   \n2009-03-31                 -0.001941                  0.032217   \n2009-04-30                 -0.018159                   0.03076   \n2009-05-29                 -0.038167                 -0.000082   \n...                              ...                       ...   \n2023-08-31                  0.012974                 -0.019968   \n2023-09-29                 -0.006099                 -0.022383   \n2023-10-31                  0.023204                 -0.055873   \n2023-11-30                  0.024897                  0.031626   \n2023-12-29                 -0.035655                  0.032128   \n\n            LS_Q_EW_resid_n_reach_material  LS_Q_VW_resid_n_reach_material  \\\ndate                                                                         \n2009-01-30                        0.024623                         0.03275   \n2009-02-27                       -0.002811                       -0.017906   \n2009-03-31                         0.00428                        0.006709   \n2009-04-30                       -0.027615                       -0.030923   \n2009-05-29                       -0.019288                        0.018321   \n...                                    ...                             ...   \n2023-08-31                        0.016956                       -0.025519   \n2023-09-29                       -0.006309                       -0.015935   \n2023-10-31                        0.025533                       -0.046826   \n2023-11-30                         0.04233                        0.045606   \n2023-12-29                       -0.039205                        0.024265   \n\n            LS_Q_EW_resid_n_severity_material  \\\ndate                                            \n2009-01-30                           0.005983   \n2009-02-27                          -0.001342   \n2009-03-31                           0.001931   \n2009-04-30                          -0.025537   \n2009-05-29                            -0.0189   \n...                                       ...   \n2023-08-31                           0.014139   \n2023-09-29                          -0.006658   \n2023-10-31                             0.0203   \n2023-11-30                           0.042276   \n2023-12-29                          -0.030138   \n\n            LS_Q_VW_resid_n_severity_material  \ndate                                           \n2009-01-30                           0.003026  \n2009-02-27                          -0.018585  \n2009-03-31                           0.006093  \n2009-04-30                            0.02694  \n2009-05-29                           0.015722  \n...                                       ...  \n2023-08-31                          -0.022284  \n2023-09-29                          -0.018048  \n2023-10-31                          -0.056175  \n2023-11-30                            0.04456  \n2023-12-29                           0.041314  \n\n[180 rows x 30 columns]",
      "text/html": "<div>\n<style scoped>\n    .dataframe tbody tr th:only-of-type {\n        vertical-align: middle;\n    }\n\n    .dataframe tbody tr th {\n        vertical-align: top;\n    }\n\n    .dataframe thead th {\n        text-align: right;\n    }\n</style>\n<table border=\"1\" class=\"dataframe\">\n  <thead>\n    <tr style=\"text-align: right;\">\n      <th></th>\n      <th>botQ_resid_n_car_1_material_EW</th>\n      <th>botQ_resid_n_car_1_material_VW</th>\n      <th>botQ_resid_n_car_5_material_EW</th>\n      <th>botQ_resid_n_car_5_material_VW</th>\n      <th>botQ_resid_n_material_EW</th>\n      <th>botQ_resid_n_material_VW</th>\n      <th>botQ_resid_n_reach_material_EW</th>\n      <th>botQ_resid_n_reach_material_VW</th>\n      <th>botQ_resid_n_severity_material_EW</th>\n      <th>botQ_resid_n_severity_material_VW</th>\n      <th>...</th>\n      <th>LS_Q_EW_resid_n_car_1_material</th>\n      <th>LS_Q_VW_resid_n_car_1_material</th>\n      <th>LS_Q_EW_resid_n_car_5_material</th>\n      <th>LS_Q_VW_resid_n_car_5_material</th>\n      <th>LS_Q_EW_resid_n_material</th>\n      <th>LS_Q_VW_resid_n_material</th>\n      <th>LS_Q_EW_resid_n_reach_material</th>\n      <th>LS_Q_VW_resid_n_reach_material</th>\n      <th>LS_Q_EW_resid_n_severity_material</th>\n      <th>LS_Q_VW_resid_n_severity_material</th>\n    </tr>\n    <tr>\n      <th>date</th>\n      <th></th>\n      <th></th>\n      <th></th>\n      <th></th>\n      <th></th>\n      <th></th>\n      <th></th>\n      <th></th>\n      <th></th>\n      <th></th>\n      <th></th>\n      <th></th>\n      <th></th>\n      <th></th>\n      <th></th>\n      <th></th>\n      <th></th>\n      <th></th>\n      <th></th>\n      <th></th>\n      <th></th>\n    </tr>\n  </thead>\n  <tbody>\n    <tr>\n      <th>2009-01-30</th>\n      <td>-0.043333</td>\n      <td>-0.082482</td>\n      <td>-0.053108</td>\n      <td>-0.130878</td>\n      <td>-0.082064</td>\n      <td>-0.103613</td>\n      <td>-0.085532</td>\n      <td>-0.10103</td>\n      <td>-0.069587</td>\n      <td>-0.081988</td>\n      <td>...</td>\n      <td>-0.017887</td>\n      <td>0.003828</td>\n      <td>-0.000732</td>\n      <td>0.066437</td>\n      <td>0.015229</td>\n      <td>0.040192</td>\n      <td>0.024623</td>\n      <td>0.03275</td>\n      <td>0.005983</td>\n      <td>0.003026</td>\n    </tr>\n    <tr>\n      <th>2009-02-27</th>\n      <td>-0.089405</td>\n      <td>-0.065724</td>\n      <td>-0.085311</td>\n      <td>-0.119433</td>\n      <td>-0.092809</td>\n      <td>-0.049271</td>\n      <td>-0.092382</td>\n      <td>-0.0575</td>\n      <td>-0.083065</td>\n      <td>-0.05655</td>\n      <td>...</td>\n      <td>-0.007929</td>\n      <td>-0.011895</td>\n      <td>-0.007843</td>\n      <td>0.050074</td>\n      <td>0.001006</td>\n      <td>-0.03439</td>\n      <td>-0.002811</td>\n      <td>-0.017906</td>\n      <td>-0.001342</td>\n      <td>-0.018585</td>\n    </tr>\n    <tr>\n      <th>2009-03-31</th>\n      <td>0.140397</td>\n      <td>0.084326</td>\n      <td>0.167861</td>\n      <td>0.066808</td>\n      <td>0.154676</td>\n      <td>0.076959</td>\n      <td>0.155781</td>\n      <td>0.087619</td>\n      <td>0.151328</td>\n      <td>0.08739</td>\n      <td>...</td>\n      <td>0.011009</td>\n      <td>0.00786</td>\n      <td>-0.016864</td>\n      <td>0.02945</td>\n      <td>-0.001941</td>\n      <td>0.032217</td>\n      <td>0.00428</td>\n      <td>0.006709</td>\n      <td>0.001931</td>\n      <td>0.006093</td>\n    </tr>\n    <tr>\n      <th>2009-04-30</th>\n      <td>0.298713</td>\n      <td>0.061675</td>\n      <td>0.316874</td>\n      <td>0.063588</td>\n      <td>0.31296</td>\n      <td>0.049921</td>\n      <td>0.309689</td>\n      <td>0.094739</td>\n      <td>0.312832</td>\n      <td>0.049294</td>\n      <td>...</td>\n      <td>-0.001111</td>\n      <td>0.009046</td>\n      <td>-0.030423</td>\n      <td>0.005339</td>\n      <td>-0.018159</td>\n      <td>0.03076</td>\n      <td>-0.027615</td>\n      <td>-0.030923</td>\n      <td>-0.025537</td>\n      <td>0.02694</td>\n    </tr>\n    <tr>\n      <th>2009-05-29</th>\n      <td>0.075072</td>\n      <td>0.02042</td>\n      <td>0.051701</td>\n      <td>0.03223</td>\n      <td>0.064956</td>\n      <td>0.023868</td>\n      <td>0.054201</td>\n      <td>0.010679</td>\n      <td>0.050629</td>\n      <td>0.013049</td>\n      <td>...</td>\n      <td>-0.045585</td>\n      <td>0.0067</td>\n      <td>-0.021639</td>\n      <td>-0.006828</td>\n      <td>-0.038167</td>\n      <td>-0.000082</td>\n      <td>-0.019288</td>\n      <td>0.018321</td>\n      <td>-0.0189</td>\n      <td>0.015722</td>\n    </tr>\n    <tr>\n      <th>...</th>\n      <td>...</td>\n      <td>...</td>\n      <td>...</td>\n      <td>...</td>\n      <td>...</td>\n      <td>...</td>\n      <td>...</td>\n      <td>...</td>\n      <td>...</td>\n      <td>...</td>\n      <td>...</td>\n      <td>...</td>\n      <td>...</td>\n      <td>...</td>\n      <td>...</td>\n      <td>...</td>\n      <td>...</td>\n      <td>...</td>\n      <td>...</td>\n      <td>...</td>\n      <td>...</td>\n    </tr>\n    <tr>\n      <th>2023-08-31</th>\n      <td>-0.06273</td>\n      <td>0.00596</td>\n      <td>-0.069024</td>\n      <td>0.001336</td>\n      <td>-0.065196</td>\n      <td>0.000988</td>\n      <td>-0.070525</td>\n      <td>-0.000579</td>\n      <td>-0.067456</td>\n      <td>-0.000881</td>\n      <td>...</td>\n      <td>0.010752</td>\n      <td>-0.023016</td>\n      <td>0.014314</td>\n      <td>-0.016058</td>\n      <td>0.012974</td>\n      <td>-0.019968</td>\n      <td>0.016956</td>\n      <td>-0.025519</td>\n      <td>0.014139</td>\n      <td>-0.022284</td>\n    </tr>\n    <tr>\n      <th>2023-09-29</th>\n      <td>-0.072279</td>\n      <td>-0.048823</td>\n      <td>-0.079409</td>\n      <td>-0.04674</td>\n      <td>-0.066178</td>\n      <td>-0.040277</td>\n      <td>-0.067034</td>\n      <td>-0.041843</td>\n      <td>-0.065827</td>\n      <td>-0.039111</td>\n      <td>...</td>\n      <td>0.004012</td>\n      <td>-0.000909</td>\n      <td>0.012576</td>\n      <td>-0.002129</td>\n      <td>-0.006099</td>\n      <td>-0.022383</td>\n      <td>-0.006309</td>\n      <td>-0.015935</td>\n      <td>-0.006658</td>\n      <td>-0.018048</td>\n    </tr>\n    <tr>\n      <th>2023-10-31</th>\n      <td>-0.075596</td>\n      <td>-0.005215</td>\n      <td>-0.071122</td>\n      <td>0.003208</td>\n      <td>-0.080543</td>\n      <td>0.021351</td>\n      <td>-0.07693</td>\n      <td>0.018555</td>\n      <td>-0.075831</td>\n      <td>0.02084</td>\n      <td>...</td>\n      <td>0.015726</td>\n      <td>0.006191</td>\n      <td>0.016606</td>\n      <td>-0.006338</td>\n      <td>0.023204</td>\n      <td>-0.055873</td>\n      <td>0.025533</td>\n      <td>-0.046826</td>\n      <td>0.0203</td>\n      <td>-0.056175</td>\n    </tr>\n    <tr>\n      <th>2023-11-30</th>\n      <td>0.096233</td>\n      <td>0.056254</td>\n      <td>0.095974</td>\n      <td>0.05363</td>\n      <td>0.106476</td>\n      <td>0.088386</td>\n      <td>0.090968</td>\n      <td>0.067366</td>\n      <td>0.087679</td>\n      <td>0.069135</td>\n      <td>...</td>\n      <td>0.032157</td>\n      <td>0.060055</td>\n      <td>0.028934</td>\n      <td>0.052956</td>\n      <td>0.024897</td>\n      <td>0.031626</td>\n      <td>0.04233</td>\n      <td>0.045606</td>\n      <td>0.042276</td>\n      <td>0.04456</td>\n    </tr>\n    <tr>\n      <th>2023-12-29</th>\n      <td>0.126149</td>\n      <td>0.044182</td>\n      <td>0.133973</td>\n      <td>0.040668</td>\n      <td>0.136825</td>\n      <td>0.025206</td>\n      <td>0.134087</td>\n      <td>0.032942</td>\n      <td>0.126969</td>\n      <td>0.02504</td>\n      <td>...</td>\n      <td>-0.018632</td>\n      <td>-0.006061</td>\n      <td>-0.036081</td>\n      <td>-0.001874</td>\n      <td>-0.035655</td>\n      <td>0.032128</td>\n      <td>-0.039205</td>\n      <td>0.024265</td>\n      <td>-0.030138</td>\n      <td>0.041314</td>\n    </tr>\n  </tbody>\n</table>\n<p>180 rows × 30 columns</p>\n</div>"
     },
     "execution_count": 856,
     "metadata": {},
     "output_type": "execute_result"
    }
   ],
   "source": [
    "ts_all = compute_all_quintile_portfolio_returns(df_ports_q)\n",
    "ts_all"
   ],
   "metadata": {
    "collapsed": false,
    "ExecuteTime": {
     "end_time": "2025-10-14T14:39:47.472037600Z",
     "start_time": "2025-10-14T14:39:46.257621600Z"
    }
   }
  },
  {
   "cell_type": "code",
   "execution_count": 857,
   "outputs": [],
   "source": [
    "def add_factors_and_excess(ts_all, ff, rf_col='RF', subtract_rf_ls=False):\n",
    "    \"\"\"\n",
    "    Merge ALL factors from ff into ts_all and create *_ex series.\n",
    "    Returns (ts_with_factors, factor_cols_detected)\n",
    "    \"\"\"\n",
    "    # 1) merge all factor columns by date\n",
    "    fac_cols_all = [c for c in ff.columns if c != 'date']\n",
    "    ts = ts_all.merge(ff[['date'] + fac_cols_all], on='date', how='left').copy()\n",
    "\n",
    "    # 2) identify legs & LS\n",
    "    leg_cols = [c for c in ts.columns\n",
    "                if (c.endswith('_EW') or c.endswith('_VW')) and not c.startswith('LS_')]\n",
    "    ls_cols  = [c for c in ts.columns if c.startswith('LS_')]\n",
    "\n",
    "    # 3) build excess for legs\n",
    "    for col in leg_cols:\n",
    "        ts[f\"{col}_ex\"] = ts[col] - ts[rf_col]\n",
    "\n",
    "    # 4) LS excess (optional)\n",
    "    if subtract_rf_ls:\n",
    "        for col in ls_cols:\n",
    "            ts[f\"{col}_ex\"] = ts[col] - ts[rf_col]\n",
    "\n",
    "    # 5) detect factor columns actually present\n",
    "    wanted = ['MKT_RF','SMB','HML','RMW','CMA','MOM']\n",
    "    factor_cols = [c for c in wanted if c in ts.columns]\n",
    "    return ts, factor_cols\n",
    "\n",
    "# usage\n",
    "ts_with_ex, factor_cols = add_factors_and_excess(ts_all, ff, rf_col='RF', subtract_rf_ls=False)\n"
   ],
   "metadata": {
    "collapsed": false,
    "ExecuteTime": {
     "end_time": "2025-10-14T14:39:47.524789300Z",
     "start_time": "2025-10-14T14:39:47.473036400Z"
    }
   }
  },
  {
   "cell_type": "code",
   "execution_count": 858,
   "outputs": [
    {
     "data": {
      "text/plain": "          date  botQ_resid_n_car_1_material_EW  \\\n0   2009-01-30                       -0.043333   \n1   2009-02-27                       -0.089405   \n2   2009-03-31                        0.140397   \n3   2009-04-30                        0.298713   \n4   2009-05-29                        0.075072   \n..         ...                             ...   \n175 2023-08-31                        -0.06273   \n176 2023-09-29                       -0.072279   \n177 2023-10-31                       -0.075596   \n178 2023-11-30                        0.096233   \n179 2023-12-29                        0.126149   \n\n     botQ_resid_n_car_1_material_VW  botQ_resid_n_car_5_material_EW  \\\n0                         -0.082482                       -0.053108   \n1                         -0.065724                       -0.085311   \n2                          0.084326                        0.167861   \n3                          0.061675                        0.316874   \n4                           0.02042                        0.051701   \n..                              ...                             ...   \n175                         0.00596                       -0.069024   \n176                       -0.048823                       -0.079409   \n177                       -0.005215                       -0.071122   \n178                        0.056254                        0.095974   \n179                        0.044182                        0.133973   \n\n     botQ_resid_n_car_5_material_VW  botQ_resid_n_material_EW  \\\n0                         -0.130878                 -0.082064   \n1                         -0.119433                 -0.092809   \n2                          0.066808                  0.154676   \n3                          0.063588                   0.31296   \n4                           0.03223                  0.064956   \n..                              ...                       ...   \n175                        0.001336                 -0.065196   \n176                        -0.04674                 -0.066178   \n177                        0.003208                 -0.080543   \n178                         0.05363                  0.106476   \n179                        0.040668                  0.136825   \n\n     botQ_resid_n_material_VW  botQ_resid_n_reach_material_EW  \\\n0                   -0.103613                       -0.085532   \n1                   -0.049271                       -0.092382   \n2                    0.076959                        0.155781   \n3                    0.049921                        0.309689   \n4                    0.023868                        0.054201   \n..                        ...                             ...   \n175                  0.000988                       -0.070525   \n176                 -0.040277                       -0.067034   \n177                  0.021351                        -0.07693   \n178                  0.088386                        0.090968   \n179                  0.025206                        0.134087   \n\n     botQ_resid_n_reach_material_VW  botQ_resid_n_severity_material_EW  ...  \\\n0                          -0.10103                          -0.069587  ...   \n1                           -0.0575                          -0.083065  ...   \n2                          0.087619                           0.151328  ...   \n3                          0.094739                           0.312832  ...   \n4                          0.010679                           0.050629  ...   \n..                              ...                                ...  ...   \n175                       -0.000579                          -0.067456  ...   \n176                       -0.041843                          -0.065827  ...   \n177                        0.018555                          -0.075831  ...   \n178                        0.067366                           0.087679  ...   \n179                        0.032942                           0.126969  ...   \n\n     topQ_resid_n_car_1_material_EW_ex  topQ_resid_n_car_1_material_VW_ex  \\\n0                                 <NA>                               <NA>   \n1                                 <NA>                               <NA>   \n2                             0.151206                           0.091987   \n3                             0.297502                           0.070621   \n4                                 <NA>                               <NA>   \n..                                 ...                                ...   \n175                          -0.056477                          -0.021556   \n176                               <NA>                               <NA>   \n177                           -0.06457                          -0.003724   \n178                            0.12399                           0.111909   \n179                               <NA>                               <NA>   \n\n     topQ_resid_n_car_5_material_EW_ex  topQ_resid_n_car_5_material_VW_ex  \\\n0                                 <NA>                               <NA>   \n1                                 <NA>                               <NA>   \n2                             0.150797                           0.096058   \n3                             0.286351                           0.068827   \n4                                 <NA>                               <NA>   \n..                                 ...                                ...   \n175                           -0.05921                          -0.019222   \n176                               <NA>                               <NA>   \n177                          -0.059216                           -0.00783   \n178                           0.120508                           0.102186   \n179                               <NA>                               <NA>   \n\n     topQ_resid_n_material_EW_ex  topQ_resid_n_material_VW_ex  \\\n0                           <NA>                         <NA>   \n1                           <NA>                         <NA>   \n2                       0.152535                     0.108976   \n3                       0.294701                     0.080581   \n4                           <NA>                         <NA>   \n..                           ...                          ...   \n175                    -0.056722                     -0.02348   \n176                         <NA>                         <NA>   \n177                    -0.062039                    -0.039222   \n178                     0.126973                     0.115612   \n179                         <NA>                         <NA>   \n\n     topQ_resid_n_reach_material_EW_ex  topQ_resid_n_reach_material_VW_ex  \\\n0                                 <NA>                               <NA>   \n1                                 <NA>                               <NA>   \n2                             0.159861                           0.094128   \n3                             0.281973                           0.063717   \n4                                 <NA>                               <NA>   \n..                                 ...                                ...   \n175                           -0.05807                          -0.030598   \n176                               <NA>                               <NA>   \n177                          -0.056097                          -0.032971   \n178                           0.128897                           0.108572   \n179                               <NA>                               <NA>   \n\n     topQ_resid_n_severity_material_EW_ex  \\\n0                                    <NA>   \n1                                    <NA>   \n2                                0.153058   \n3                                0.287195   \n4                                    <NA>   \n..                                    ...   \n175                             -0.057816   \n176                                  <NA>   \n177                             -0.060232   \n178                              0.125555   \n179                                  <NA>   \n\n     topQ_resid_n_severity_material_VW_ex  \n0                                    <NA>  \n1                                    <NA>  \n2                                0.093283  \n3                                0.076134  \n4                                    <NA>  \n..                                    ...  \n175                             -0.027664  \n176                                  <NA>  \n177                             -0.040035  \n178                              0.109295  \n179                                  <NA>  \n\n[180 rows x 59 columns]",
      "text/html": "<div>\n<style scoped>\n    .dataframe tbody tr th:only-of-type {\n        vertical-align: middle;\n    }\n\n    .dataframe tbody tr th {\n        vertical-align: top;\n    }\n\n    .dataframe thead th {\n        text-align: right;\n    }\n</style>\n<table border=\"1\" class=\"dataframe\">\n  <thead>\n    <tr style=\"text-align: right;\">\n      <th></th>\n      <th>date</th>\n      <th>botQ_resid_n_car_1_material_EW</th>\n      <th>botQ_resid_n_car_1_material_VW</th>\n      <th>botQ_resid_n_car_5_material_EW</th>\n      <th>botQ_resid_n_car_5_material_VW</th>\n      <th>botQ_resid_n_material_EW</th>\n      <th>botQ_resid_n_material_VW</th>\n      <th>botQ_resid_n_reach_material_EW</th>\n      <th>botQ_resid_n_reach_material_VW</th>\n      <th>botQ_resid_n_severity_material_EW</th>\n      <th>...</th>\n      <th>topQ_resid_n_car_1_material_EW_ex</th>\n      <th>topQ_resid_n_car_1_material_VW_ex</th>\n      <th>topQ_resid_n_car_5_material_EW_ex</th>\n      <th>topQ_resid_n_car_5_material_VW_ex</th>\n      <th>topQ_resid_n_material_EW_ex</th>\n      <th>topQ_resid_n_material_VW_ex</th>\n      <th>topQ_resid_n_reach_material_EW_ex</th>\n      <th>topQ_resid_n_reach_material_VW_ex</th>\n      <th>topQ_resid_n_severity_material_EW_ex</th>\n      <th>topQ_resid_n_severity_material_VW_ex</th>\n    </tr>\n  </thead>\n  <tbody>\n    <tr>\n      <th>0</th>\n      <td>2009-01-30</td>\n      <td>-0.043333</td>\n      <td>-0.082482</td>\n      <td>-0.053108</td>\n      <td>-0.130878</td>\n      <td>-0.082064</td>\n      <td>-0.103613</td>\n      <td>-0.085532</td>\n      <td>-0.10103</td>\n      <td>-0.069587</td>\n      <td>...</td>\n      <td>&lt;NA&gt;</td>\n      <td>&lt;NA&gt;</td>\n      <td>&lt;NA&gt;</td>\n      <td>&lt;NA&gt;</td>\n      <td>&lt;NA&gt;</td>\n      <td>&lt;NA&gt;</td>\n      <td>&lt;NA&gt;</td>\n      <td>&lt;NA&gt;</td>\n      <td>&lt;NA&gt;</td>\n      <td>&lt;NA&gt;</td>\n    </tr>\n    <tr>\n      <th>1</th>\n      <td>2009-02-27</td>\n      <td>-0.089405</td>\n      <td>-0.065724</td>\n      <td>-0.085311</td>\n      <td>-0.119433</td>\n      <td>-0.092809</td>\n      <td>-0.049271</td>\n      <td>-0.092382</td>\n      <td>-0.0575</td>\n      <td>-0.083065</td>\n      <td>...</td>\n      <td>&lt;NA&gt;</td>\n      <td>&lt;NA&gt;</td>\n      <td>&lt;NA&gt;</td>\n      <td>&lt;NA&gt;</td>\n      <td>&lt;NA&gt;</td>\n      <td>&lt;NA&gt;</td>\n      <td>&lt;NA&gt;</td>\n      <td>&lt;NA&gt;</td>\n      <td>&lt;NA&gt;</td>\n      <td>&lt;NA&gt;</td>\n    </tr>\n    <tr>\n      <th>2</th>\n      <td>2009-03-31</td>\n      <td>0.140397</td>\n      <td>0.084326</td>\n      <td>0.167861</td>\n      <td>0.066808</td>\n      <td>0.154676</td>\n      <td>0.076959</td>\n      <td>0.155781</td>\n      <td>0.087619</td>\n      <td>0.151328</td>\n      <td>...</td>\n      <td>0.151206</td>\n      <td>0.091987</td>\n      <td>0.150797</td>\n      <td>0.096058</td>\n      <td>0.152535</td>\n      <td>0.108976</td>\n      <td>0.159861</td>\n      <td>0.094128</td>\n      <td>0.153058</td>\n      <td>0.093283</td>\n    </tr>\n    <tr>\n      <th>3</th>\n      <td>2009-04-30</td>\n      <td>0.298713</td>\n      <td>0.061675</td>\n      <td>0.316874</td>\n      <td>0.063588</td>\n      <td>0.31296</td>\n      <td>0.049921</td>\n      <td>0.309689</td>\n      <td>0.094739</td>\n      <td>0.312832</td>\n      <td>...</td>\n      <td>0.297502</td>\n      <td>0.070621</td>\n      <td>0.286351</td>\n      <td>0.068827</td>\n      <td>0.294701</td>\n      <td>0.080581</td>\n      <td>0.281973</td>\n      <td>0.063717</td>\n      <td>0.287195</td>\n      <td>0.076134</td>\n    </tr>\n    <tr>\n      <th>4</th>\n      <td>2009-05-29</td>\n      <td>0.075072</td>\n      <td>0.02042</td>\n      <td>0.051701</td>\n      <td>0.03223</td>\n      <td>0.064956</td>\n      <td>0.023868</td>\n      <td>0.054201</td>\n      <td>0.010679</td>\n      <td>0.050629</td>\n      <td>...</td>\n      <td>&lt;NA&gt;</td>\n      <td>&lt;NA&gt;</td>\n      <td>&lt;NA&gt;</td>\n      <td>&lt;NA&gt;</td>\n      <td>&lt;NA&gt;</td>\n      <td>&lt;NA&gt;</td>\n      <td>&lt;NA&gt;</td>\n      <td>&lt;NA&gt;</td>\n      <td>&lt;NA&gt;</td>\n      <td>&lt;NA&gt;</td>\n    </tr>\n    <tr>\n      <th>...</th>\n      <td>...</td>\n      <td>...</td>\n      <td>...</td>\n      <td>...</td>\n      <td>...</td>\n      <td>...</td>\n      <td>...</td>\n      <td>...</td>\n      <td>...</td>\n      <td>...</td>\n      <td>...</td>\n      <td>...</td>\n      <td>...</td>\n      <td>...</td>\n      <td>...</td>\n      <td>...</td>\n      <td>...</td>\n      <td>...</td>\n      <td>...</td>\n      <td>...</td>\n      <td>...</td>\n    </tr>\n    <tr>\n      <th>175</th>\n      <td>2023-08-31</td>\n      <td>-0.06273</td>\n      <td>0.00596</td>\n      <td>-0.069024</td>\n      <td>0.001336</td>\n      <td>-0.065196</td>\n      <td>0.000988</td>\n      <td>-0.070525</td>\n      <td>-0.000579</td>\n      <td>-0.067456</td>\n      <td>...</td>\n      <td>-0.056477</td>\n      <td>-0.021556</td>\n      <td>-0.05921</td>\n      <td>-0.019222</td>\n      <td>-0.056722</td>\n      <td>-0.02348</td>\n      <td>-0.05807</td>\n      <td>-0.030598</td>\n      <td>-0.057816</td>\n      <td>-0.027664</td>\n    </tr>\n    <tr>\n      <th>176</th>\n      <td>2023-09-29</td>\n      <td>-0.072279</td>\n      <td>-0.048823</td>\n      <td>-0.079409</td>\n      <td>-0.04674</td>\n      <td>-0.066178</td>\n      <td>-0.040277</td>\n      <td>-0.067034</td>\n      <td>-0.041843</td>\n      <td>-0.065827</td>\n      <td>...</td>\n      <td>&lt;NA&gt;</td>\n      <td>&lt;NA&gt;</td>\n      <td>&lt;NA&gt;</td>\n      <td>&lt;NA&gt;</td>\n      <td>&lt;NA&gt;</td>\n      <td>&lt;NA&gt;</td>\n      <td>&lt;NA&gt;</td>\n      <td>&lt;NA&gt;</td>\n      <td>&lt;NA&gt;</td>\n      <td>&lt;NA&gt;</td>\n    </tr>\n    <tr>\n      <th>177</th>\n      <td>2023-10-31</td>\n      <td>-0.075596</td>\n      <td>-0.005215</td>\n      <td>-0.071122</td>\n      <td>0.003208</td>\n      <td>-0.080543</td>\n      <td>0.021351</td>\n      <td>-0.07693</td>\n      <td>0.018555</td>\n      <td>-0.075831</td>\n      <td>...</td>\n      <td>-0.06457</td>\n      <td>-0.003724</td>\n      <td>-0.059216</td>\n      <td>-0.00783</td>\n      <td>-0.062039</td>\n      <td>-0.039222</td>\n      <td>-0.056097</td>\n      <td>-0.032971</td>\n      <td>-0.060232</td>\n      <td>-0.040035</td>\n    </tr>\n    <tr>\n      <th>178</th>\n      <td>2023-11-30</td>\n      <td>0.096233</td>\n      <td>0.056254</td>\n      <td>0.095974</td>\n      <td>0.05363</td>\n      <td>0.106476</td>\n      <td>0.088386</td>\n      <td>0.090968</td>\n      <td>0.067366</td>\n      <td>0.087679</td>\n      <td>...</td>\n      <td>0.12399</td>\n      <td>0.111909</td>\n      <td>0.120508</td>\n      <td>0.102186</td>\n      <td>0.126973</td>\n      <td>0.115612</td>\n      <td>0.128897</td>\n      <td>0.108572</td>\n      <td>0.125555</td>\n      <td>0.109295</td>\n    </tr>\n    <tr>\n      <th>179</th>\n      <td>2023-12-29</td>\n      <td>0.126149</td>\n      <td>0.044182</td>\n      <td>0.133973</td>\n      <td>0.040668</td>\n      <td>0.136825</td>\n      <td>0.025206</td>\n      <td>0.134087</td>\n      <td>0.032942</td>\n      <td>0.126969</td>\n      <td>...</td>\n      <td>&lt;NA&gt;</td>\n      <td>&lt;NA&gt;</td>\n      <td>&lt;NA&gt;</td>\n      <td>&lt;NA&gt;</td>\n      <td>&lt;NA&gt;</td>\n      <td>&lt;NA&gt;</td>\n      <td>&lt;NA&gt;</td>\n      <td>&lt;NA&gt;</td>\n      <td>&lt;NA&gt;</td>\n      <td>&lt;NA&gt;</td>\n    </tr>\n  </tbody>\n</table>\n<p>180 rows × 59 columns</p>\n</div>"
     },
     "execution_count": 858,
     "metadata": {},
     "output_type": "execute_result"
    }
   ],
   "source": [
    "ts_with_ex"
   ],
   "metadata": {
    "collapsed": false,
    "ExecuteTime": {
     "end_time": "2025-10-14T14:39:47.658164Z",
     "start_time": "2025-10-14T14:39:47.499768800Z"
    }
   }
  },
  {
   "cell_type": "code",
   "execution_count": 859,
   "outputs": [],
   "source": [
    "ts_with_ex.to_csv('Output/portfolio_returns_quintiles.csv', index=False)"
   ],
   "metadata": {
    "collapsed": false,
    "ExecuteTime": {
     "end_time": "2025-10-14T14:40:15.850409100Z",
     "start_time": "2025-10-14T14:40:15.842348Z"
    }
   }
  },
  {
   "cell_type": "markdown",
   "source": [
    "# 5. Sample Selection"
   ],
   "metadata": {
    "collapsed": false
   }
  },
  {
   "cell_type": "code",
   "execution_count": null,
   "outputs": [],
   "source": [
    "# Reprisk firms\n"
   ],
   "metadata": {
    "collapsed": false
   }
  },
  {
   "cell_type": "code",
   "execution_count": null,
   "outputs": [],
   "source": [],
   "metadata": {
    "collapsed": false
   }
  },
  {
   "cell_type": "code",
   "execution_count": null,
   "outputs": [],
   "source": [],
   "metadata": {
    "collapsed": false
   }
  },
  {
   "cell_type": "code",
   "execution_count": null,
   "outputs": [],
   "source": [],
   "metadata": {
    "collapsed": false
   }
  },
  {
   "cell_type": "code",
   "execution_count": 599,
   "outputs": [],
   "source": [
    "firms = pd.read_csv('data/panel_firms_quintile.csv')"
   ],
   "metadata": {
    "collapsed": false,
    "ExecuteTime": {
     "end_time": "2025-10-06T12:45:50.890131Z",
     "start_time": "2025-10-06T12:45:49.934848600Z"
    }
   }
  },
  {
   "cell_type": "code",
   "execution_count": 600,
   "outputs": [
    {
     "data": {
      "text/plain": "Unnamed: 0                        84493\npermno                            84493\ndate                              84493\nyearprior                         84493\nret_adj                           84493\nme                                84493\nme_lag                            84486\ncusip                             84493\nyear                              84493\nCodified SICS Sector              84493\nSICS Codified Industry            84493\nsize                              84493\nbtm                               84493\nleverage                          84493\nrd_intensity                      84493\nad_intensity                      84493\nroa                               84493\nInstOwn_Perc                      84493\nn_material                        84493\nn_car_1_material                  84493\nn_car_5_material                  84493\nn_reach_material                  84493\nn_rri_material                    84493\nn_severity_material               84493\ndateff                            84493\ndate_ff                           84493\nMKT_RF                            84493\nSMB                               84493\nHML                               84493\nRF                                84493\nMOM                               84493\nresid_n_car_1_material            84493\nresid_n_car_5_material            84493\nresid_n_rri_material              84493\nresid_n_reach_material            84493\nresid_n_severity_material         84493\nresid_n_material                  84493\ntopQ_resid_n_car_1_material       84493\nbotQ_resid_n_car_1_material       84493\ntopQ_resid_n_car_5_material       84493\nbotQ_resid_n_car_5_material       84493\ntopQ_resid_n_rri_material         84493\nbotQ_resid_n_rri_material         84493\ntopQ_resid_n_reach_material       84493\nbotQ_resid_n_reach_material       84493\ntopQ_resid_n_severity_material    84493\nbotQ_resid_n_severity_material    84493\ntopQ_resid_n_material             84493\nbotQ_resid_n_material             84493\ndtype: int64"
     },
     "execution_count": 600,
     "metadata": {},
     "output_type": "execute_result"
    }
   ],
   "source": [
    "firms.notna().sum()"
   ],
   "metadata": {
    "collapsed": false,
    "ExecuteTime": {
     "end_time": "2025-10-06T12:45:53.979509800Z",
     "start_time": "2025-10-06T12:45:53.904755300Z"
    }
   }
  },
  {
   "cell_type": "code",
   "execution_count": 601,
   "outputs": [
    {
     "data": {
      "text/plain": "904"
     },
     "execution_count": 601,
     "metadata": {},
     "output_type": "execute_result"
    }
   ],
   "source": [
    "firms['cusip'].nunique()"
   ],
   "metadata": {
    "collapsed": false,
    "ExecuteTime": {
     "end_time": "2025-10-06T12:46:10.709300100Z",
     "start_time": "2025-10-06T12:46:10.601408200Z"
    }
   }
  },
  {
   "cell_type": "code",
   "execution_count": 478,
   "outputs": [
    {
     "data": {
      "text/plain": "np.int64(7165)"
     },
     "execution_count": 478,
     "metadata": {},
     "output_type": "execute_result"
    }
   ],
   "source": [
    "# aggregate to yearprior level\n",
    "firms.groupby('yearprior')['cusip'].nunique().sum()"
   ],
   "metadata": {
    "collapsed": false,
    "ExecuteTime": {
     "end_time": "2025-10-03T16:05:13.677856700Z",
     "start_time": "2025-10-03T16:05:13.606773400Z"
    }
   }
  },
  {
   "cell_type": "code",
   "execution_count": 479,
   "outputs": [
    {
     "data": {
      "text/plain": "yearprior\n2008    387\n2009    397\n2010    409\n2011    411\n2012    416\n2013    428\n2014    442\n2015    452\n2016    453\n2017    449\n2018    475\n2019    479\n2020    469\n2021    478\n2022    516\n2023    504\nName: cusip, dtype: int64"
     },
     "execution_count": 479,
     "metadata": {},
     "output_type": "execute_result"
    }
   ],
   "source": [
    "firms.groupby('yearprior')['cusip'].nunique()"
   ],
   "metadata": {
    "collapsed": false,
    "ExecuteTime": {
     "end_time": "2025-10-03T16:11:48.659766100Z",
     "start_time": "2025-10-03T16:11:48.651401800Z"
    }
   }
  },
  {
   "cell_type": "code",
   "execution_count": null,
   "outputs": [],
   "source": [],
   "metadata": {
    "collapsed": false
   }
  }
 ],
 "metadata": {
  "kernelspec": {
   "display_name": "Python 3",
   "language": "python",
   "name": "python3"
  },
  "language_info": {
   "codemirror_mode": {
    "name": "ipython",
    "version": 2
   },
   "file_extension": ".py",
   "mimetype": "text/x-python",
   "name": "python",
   "nbconvert_exporter": "python",
   "pygments_lexer": "ipython2",
   "version": "2.7.6"
  }
 },
 "nbformat": 4,
 "nbformat_minor": 0
}
