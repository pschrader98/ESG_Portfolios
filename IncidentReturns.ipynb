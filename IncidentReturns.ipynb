{
 "cells": [
  {
   "cell_type": "code",
   "execution_count": 83,
   "outputs": [],
   "source": [
    "import pandas as pd\n",
    "import numpy as np\n",
    "import ast\n",
    "import re"
   ],
   "metadata": {
    "collapsed": false,
    "ExecuteTime": {
     "end_time": "2025-10-24T14:02:13.301958Z",
     "start_time": "2025-10-24T14:02:13.297258Z"
    }
   }
  },
  {
   "cell_type": "code",
   "execution_count": 90,
   "outputs": [],
   "source": [
    "reprisk_incidents = pd.read_csv(\n",
    "    'data/wrds_reprisk_incidents_ids_material_short_all.csv')  # Calculation in \"CreateDataset\" of \"ESGmateriality\" project\n",
    "reprisk_incidents = reprisk_incidents[\n",
    "    ['gvkey', 'isin', 'cusip', 'reprisk_id', 'story_id', 'adopter', 'sic', 'SICS Codified Industry ',\n",
    "     'Codified SICS Sector ', 'severity', 'reach', 'novelty', 'incident_list', 'incident_date', 'car_5', 'car_1',\n",
    "     'material_flag']]"
   ],
   "metadata": {
    "collapsed": false,
    "ExecuteTime": {
     "end_time": "2025-10-24T14:09:06.920532500Z",
     "start_time": "2025-10-24T14:09:02.907979100Z"
    }
   }
  },
  {
   "cell_type": "code",
   "execution_count": 91,
   "outputs": [],
   "source": [
    "# Create Year, YearMonth, YearQuarter columns\n",
    "reprisk_incidents['incident_date'] = pd.to_datetime(reprisk_incidents['incident_date'])\n",
    "reprisk_incidents['Year'] = reprisk_incidents['incident_date'].dt.year\n",
    "reprisk_incidents['YearMonth'] = reprisk_incidents['incident_date'].dt.to_period('M')\n",
    "reprisk_incidents['YearQuarter'] = reprisk_incidents['incident_date'].dt.to_period('Q')"
   ],
   "metadata": {
    "collapsed": false,
    "ExecuteTime": {
     "end_time": "2025-10-24T14:09:07.234860Z",
     "start_time": "2025-10-24T14:09:06.920532500Z"
    }
   }
  },
  {
   "cell_type": "markdown",
   "source": [
    "# 1. Calculate materiality based on rolling window"
   ],
   "metadata": {
    "collapsed": false
   }
  },
  {
   "cell_type": "code",
   "execution_count": 92,
   "outputs": [],
   "source": [
    "reprisk_incidents['incident_list'] = reprisk_incidents['incident_list'].apply(ast.literal_eval)\n",
    "exploded = reprisk_incidents[\n",
    "    ['SICS Codified Industry ', 'Year', 'YearQuarter', 'YearMonth', 'reach', 'car_1', 'car_5', 'severity',\n",
    "     'incident_list']] \\\n",
    "    .explode('incident_list') \\\n",
    "    .rename(columns={'incident_list': 'type'})"
   ],
   "metadata": {
    "collapsed": false,
    "ExecuteTime": {
     "end_time": "2025-10-24T14:09:15.224087300Z",
     "start_time": "2025-10-24T14:09:07.232863700Z"
    }
   }
  },
  {
   "cell_type": "code",
   "execution_count": 94,
   "outputs": [],
   "source": [
    "def pick_types_by_rolling_12m_period_dropna_balanced(\n",
    "        df,\n",
    "        industry_col='SICS Codified Industry ',\n",
    "        ym_col='YearMonth',  # must be Period[M]\n",
    "        type_col='type',\n",
    "        metrics=('reach', 'severity', 'car_1', 'car_5'),\n",
    "        window=12\n",
    "):\n",
    "    d = df.copy()\n",
    "    d[ym_col] = d[ym_col].astype('period[M]')\n",
    "    d = d[[industry_col, ym_col, type_col, *metrics]].copy()\n",
    "\n",
    "    # numeric coercion, keep NaNs\n",
    "    for m in metrics:\n",
    "        d[m] = pd.to_numeric(d[m], errors='coerce')\n",
    "\n",
    "    # aggregate to unique (industry, type, month)\n",
    "    d = (\n",
    "        d.groupby([industry_col, type_col, ym_col], as_index=False)[list(metrics)]\n",
    "        .sum(min_count=1)\n",
    "    )\n",
    "\n",
    "    # ---- Balanced panel over global YearMonth (for existing (industry,type) pairs only)\n",
    "    global_idx = pd.period_range(d[ym_col].min(), d[ym_col].max(), freq='M')\n",
    "    pairs = d[[industry_col, type_col]].drop_duplicates()\n",
    "    full = (\n",
    "        pairs.assign(_k=1)\n",
    "        .merge(pd.DataFrame({ym_col: global_idx, '_k': 1}), on='_k')\n",
    "        .drop(columns='_k')\n",
    "        .set_index([industry_col, type_col, ym_col])\n",
    "    )\n",
    "    base = d.set_index([industry_col, type_col, ym_col])\n",
    "    d = full.join(base, how='left').reset_index()\n",
    "\n",
    "    # rolling 12m sums by (industry, type); NaNs remain NaN\n",
    "    d = d.sort_values([industry_col, type_col, ym_col])\n",
    "    for m in metrics:\n",
    "        d[f'roll12_{m}'] = (\n",
    "            d.groupby([industry_col, type_col], group_keys=False)[m]\n",
    "            .transform(lambda s: s.rolling(window, min_periods=1).sum())\n",
    "        )\n",
    "\n",
    "    by = [industry_col, ym_col]\n",
    "\n",
    "    def pick_one(rollcol, take='max'):\n",
    "        tmp = d[[industry_col, ym_col, type_col, rollcol]].dropna(subset=[rollcol]).copy()\n",
    "        # tie-breaker: alphabetical type; for min we sort ascending by value, for max we invert via sort order\n",
    "        asc_val = (take == 'min')\n",
    "        tmp = tmp.sort_values(by + [rollcol, type_col],\n",
    "                              ascending=[True, True, asc_val, True])\n",
    "        picked = tmp.drop_duplicates(subset=by, keep='first')\n",
    "        metric = rollcol.replace('roll12_', '')\n",
    "        picked = picked.rename(columns={\n",
    "            type_col: f'{metric}_type',\n",
    "            rollcol: f'{metric}_roll12'\n",
    "        })\n",
    "        return picked[[industry_col, ym_col, f'{metric}_type', f'{metric}_roll12']]\n",
    "\n",
    "    reach_out = pick_one('roll12_reach', 'max')\n",
    "    severity_out = pick_one('roll12_severity', 'max')\n",
    "    car1_out = pick_one('roll12_car_1', 'min')\n",
    "    car5_out = pick_one('roll12_car_5', 'min')\n",
    "\n",
    "    res = (reach_out.merge(severity_out, on=by, how='outer')\n",
    "           .merge(car1_out, on=by, how='outer')\n",
    "           .merge(car5_out, on=by, how='outer')\n",
    "           .sort_values(by)\n",
    "           .reset_index(drop=True))\n",
    "    return res"
   ],
   "metadata": {
    "collapsed": false,
    "ExecuteTime": {
     "end_time": "2025-10-24T14:09:26.850351100Z",
     "start_time": "2025-10-24T14:09:26.834407400Z"
    }
   }
  },
  {
   "cell_type": "code",
   "execution_count": 95,
   "outputs": [
    {
     "data": {
      "text/plain": "          SICS Codified Industry  YearMonth                     reach_type  \\\n0         Advertising & Marketing   2007-12   discrimination_in_employment   \n1         Advertising & Marketing   2008-01   discrimination_in_employment   \n2         Advertising & Marketing   2008-02   discrimination_in_employment   \n3         Advertising & Marketing   2008-03   discrimination_in_employment   \n4         Advertising & Marketing   2008-04   discrimination_in_employment   \n...                           ...       ...                            ...   \n13044  Water Utilities & Services   2023-08                local_pollution   \n13045  Water Utilities & Services   2023-09                local_pollution   \n13046  Water Utilities & Services   2023-10  violation_of_natl_legislation   \n13047  Water Utilities & Services   2023-11  violation_of_natl_legislation   \n13048  Water Utilities & Services   2023-12  violation_of_natl_legislation   \n\n       reach_roll12                  severity_type  severity_roll12  \\\n0               1.0   discrimination_in_employment              1.0   \n1               1.0   discrimination_in_employment              1.0   \n2               1.0   discrimination_in_employment              1.0   \n3               1.0   discrimination_in_employment              1.0   \n4               1.0   discrimination_in_employment              1.0   \n...             ...                            ...              ...   \n13044          96.0         impacts_on_communities             67.0   \n13045          98.0         impacts_on_communities             66.0   \n13046         114.0  violation_of_natl_legislation             77.0   \n13047         117.0  violation_of_natl_legislation             78.0   \n13048         109.0  violation_of_natl_legislation             75.0   \n\n                         car_1_type  car_1_roll12  \\\n0      discrimination_in_employment     -0.006904   \n1      discrimination_in_employment     -0.006904   \n2      discrimination_in_employment     -0.006904   \n3      discrimination_in_employment     -0.006904   \n4      discrimination_in_employment     -0.006904   \n...                             ...           ...   \n13044        impacts_on_communities     -0.047760   \n13045  discrimination_in_employment     -0.011628   \n13046  discrimination_in_employment     -0.011628   \n13047  discrimination_in_employment     -0.011628   \n13048  discrimination_in_employment     -0.011628   \n\n                         car_5_type  car_5_roll12  \n0      discrimination_in_employment     -0.000448  \n1      discrimination_in_employment     -0.000448  \n2      discrimination_in_employment     -0.000448  \n3      discrimination_in_employment     -0.000448  \n4      discrimination_in_employment     -0.000448  \n...                             ...           ...  \n13044        impacts_on_communities     -0.110693  \n13045           occupational_health     -0.109424  \n13046           occupational_health     -0.109424  \n13047           occupational_health     -0.109424  \n13048           occupational_health     -0.109424  \n\n[13049 rows x 10 columns]",
      "text/html": "<div>\n<style scoped>\n    .dataframe tbody tr th:only-of-type {\n        vertical-align: middle;\n    }\n\n    .dataframe tbody tr th {\n        vertical-align: top;\n    }\n\n    .dataframe thead th {\n        text-align: right;\n    }\n</style>\n<table border=\"1\" class=\"dataframe\">\n  <thead>\n    <tr style=\"text-align: right;\">\n      <th></th>\n      <th>SICS Codified Industry</th>\n      <th>YearMonth</th>\n      <th>reach_type</th>\n      <th>reach_roll12</th>\n      <th>severity_type</th>\n      <th>severity_roll12</th>\n      <th>car_1_type</th>\n      <th>car_1_roll12</th>\n      <th>car_5_type</th>\n      <th>car_5_roll12</th>\n    </tr>\n  </thead>\n  <tbody>\n    <tr>\n      <th>0</th>\n      <td>Advertising &amp; Marketing</td>\n      <td>2007-12</td>\n      <td>discrimination_in_employment</td>\n      <td>1.0</td>\n      <td>discrimination_in_employment</td>\n      <td>1.0</td>\n      <td>discrimination_in_employment</td>\n      <td>-0.006904</td>\n      <td>discrimination_in_employment</td>\n      <td>-0.000448</td>\n    </tr>\n    <tr>\n      <th>1</th>\n      <td>Advertising &amp; Marketing</td>\n      <td>2008-01</td>\n      <td>discrimination_in_employment</td>\n      <td>1.0</td>\n      <td>discrimination_in_employment</td>\n      <td>1.0</td>\n      <td>discrimination_in_employment</td>\n      <td>-0.006904</td>\n      <td>discrimination_in_employment</td>\n      <td>-0.000448</td>\n    </tr>\n    <tr>\n      <th>2</th>\n      <td>Advertising &amp; Marketing</td>\n      <td>2008-02</td>\n      <td>discrimination_in_employment</td>\n      <td>1.0</td>\n      <td>discrimination_in_employment</td>\n      <td>1.0</td>\n      <td>discrimination_in_employment</td>\n      <td>-0.006904</td>\n      <td>discrimination_in_employment</td>\n      <td>-0.000448</td>\n    </tr>\n    <tr>\n      <th>3</th>\n      <td>Advertising &amp; Marketing</td>\n      <td>2008-03</td>\n      <td>discrimination_in_employment</td>\n      <td>1.0</td>\n      <td>discrimination_in_employment</td>\n      <td>1.0</td>\n      <td>discrimination_in_employment</td>\n      <td>-0.006904</td>\n      <td>discrimination_in_employment</td>\n      <td>-0.000448</td>\n    </tr>\n    <tr>\n      <th>4</th>\n      <td>Advertising &amp; Marketing</td>\n      <td>2008-04</td>\n      <td>discrimination_in_employment</td>\n      <td>1.0</td>\n      <td>discrimination_in_employment</td>\n      <td>1.0</td>\n      <td>discrimination_in_employment</td>\n      <td>-0.006904</td>\n      <td>discrimination_in_employment</td>\n      <td>-0.000448</td>\n    </tr>\n    <tr>\n      <th>...</th>\n      <td>...</td>\n      <td>...</td>\n      <td>...</td>\n      <td>...</td>\n      <td>...</td>\n      <td>...</td>\n      <td>...</td>\n      <td>...</td>\n      <td>...</td>\n      <td>...</td>\n    </tr>\n    <tr>\n      <th>13044</th>\n      <td>Water Utilities &amp; Services</td>\n      <td>2023-08</td>\n      <td>local_pollution</td>\n      <td>96.0</td>\n      <td>impacts_on_communities</td>\n      <td>67.0</td>\n      <td>impacts_on_communities</td>\n      <td>-0.047760</td>\n      <td>impacts_on_communities</td>\n      <td>-0.110693</td>\n    </tr>\n    <tr>\n      <th>13045</th>\n      <td>Water Utilities &amp; Services</td>\n      <td>2023-09</td>\n      <td>local_pollution</td>\n      <td>98.0</td>\n      <td>impacts_on_communities</td>\n      <td>66.0</td>\n      <td>discrimination_in_employment</td>\n      <td>-0.011628</td>\n      <td>occupational_health</td>\n      <td>-0.109424</td>\n    </tr>\n    <tr>\n      <th>13046</th>\n      <td>Water Utilities &amp; Services</td>\n      <td>2023-10</td>\n      <td>violation_of_natl_legislation</td>\n      <td>114.0</td>\n      <td>violation_of_natl_legislation</td>\n      <td>77.0</td>\n      <td>discrimination_in_employment</td>\n      <td>-0.011628</td>\n      <td>occupational_health</td>\n      <td>-0.109424</td>\n    </tr>\n    <tr>\n      <th>13047</th>\n      <td>Water Utilities &amp; Services</td>\n      <td>2023-11</td>\n      <td>violation_of_natl_legislation</td>\n      <td>117.0</td>\n      <td>violation_of_natl_legislation</td>\n      <td>78.0</td>\n      <td>discrimination_in_employment</td>\n      <td>-0.011628</td>\n      <td>occupational_health</td>\n      <td>-0.109424</td>\n    </tr>\n    <tr>\n      <th>13048</th>\n      <td>Water Utilities &amp; Services</td>\n      <td>2023-12</td>\n      <td>violation_of_natl_legislation</td>\n      <td>109.0</td>\n      <td>violation_of_natl_legislation</td>\n      <td>75.0</td>\n      <td>discrimination_in_employment</td>\n      <td>-0.011628</td>\n      <td>occupational_health</td>\n      <td>-0.109424</td>\n    </tr>\n  </tbody>\n</table>\n<p>13049 rows × 10 columns</p>\n</div>"
     },
     "execution_count": 95,
     "metadata": {},
     "output_type": "execute_result"
    }
   ],
   "source": [
    "# ---------------- Usage ----------------\n",
    "result = pick_types_by_rolling_12m_period_dropna_balanced(exploded)\n",
    "result"
   ],
   "metadata": {
    "collapsed": false,
    "ExecuteTime": {
     "end_time": "2025-10-24T14:09:37.313068100Z",
     "start_time": "2025-10-24T14:09:26.850351100Z"
    }
   }
  },
  {
   "cell_type": "code",
   "execution_count": 96,
   "outputs": [
    {
     "data": {
      "text/plain": "           gvkey          isin      cusip  reprisk_id  story_id  adopter  \\\n0       210418.0  US0003752047  000375204           2    1251.0        1   \n1       210418.0  US0003752047  000375204           2    1305.0        1   \n2       210418.0  US0003752047  000375204           2    4029.0        1   \n3       210418.0  US0003752047  000375204           2    4488.0        1   \n4       210418.0  US0003752047  000375204           2    4756.0        1   \n...          ...           ...        ...         ...       ...      ...   \n331365  355240.0  THB131010001        NaN     2683218       NaN        1   \n331366  349631.0  PK0126301016        NaN     2684126       NaN        1   \n331367  350690.0  GB00BLNNFY18        NaN     2685085       NaN        1   \n331368  350726.0  AU0000180200        NaN     2685460       NaN        1   \n331369  355325.0  TW0006935000        NaN     2685762       NaN        0   \n\n           sic            SICS Codified Industry   \\\n0       3613.0  Electrical & Electronic Equipment   \n1       3613.0  Electrical & Electronic Equipment   \n2       3613.0  Electrical & Electronic Equipment   \n3       3613.0  Electrical & Electronic Equipment   \n4       3613.0  Electrical & Electronic Equipment   \n...        ...                                ...   \n331365  5900.0                    Coal Operations   \n331366  3411.0             Containers & Packaging   \n331367  6726.0      Household & Personal Products   \n331368  1400.0                          Chemicals   \n331369  2834.0    Biotechnology & Pharmaceuticals   \n\n                    Codified SICS Sector   severity  ...  YearMonth  \\\n0                 Resource Transformation       1.0  ...    2007-06   \n1                 Resource Transformation       2.0  ...    2007-07   \n2                 Resource Transformation       2.0  ...    2008-04   \n3                 Resource Transformation       2.0  ...    2008-05   \n4                 Resource Transformation       1.0  ...    2007-01   \n...                                   ...       ...  ...        ...   \n331365  Extractives & Minerals Processing       0.0  ...        NaT   \n331366            Resource Transformation       0.0  ...        NaT   \n331367                     Consumer Goods       0.0  ...        NaT   \n331368            Resource Transformation       0.0  ...        NaT   \n331369                        Health Care       0.0  ...        NaT   \n\n        YearQuarter                     reach_type reach_roll12  \\\n0            2007Q2  violation_of_natl_legislation         28.0   \n1            2007Q3  violation_of_natl_legislation         28.0   \n2            2008Q2          impacts_on_landscapes         43.0   \n3            2008Q2            human_rights_abuses         47.0   \n4            2007Q1  violation_of_natl_legislation         21.0   \n...             ...                            ...          ...   \n331365          NaT                            NaN          NaN   \n331366          NaT                            NaN          NaN   \n331367          NaT                            NaN          NaN   \n331368          NaT                            NaN          NaN   \n331369          NaT                            NaN          NaN   \n\n                        severity_type  severity_roll12  \\\n0       violation_of_natl_legislation             18.0   \n1       violation_of_natl_legislation             18.0   \n2                 human_rights_abuses             41.0   \n3                 human_rights_abuses             54.0   \n4       violation_of_natl_legislation             11.0   \n...                               ...              ...   \n331365                            NaN              NaN   \n331366                            NaN              NaN   \n331367                            NaN              NaN   \n331368                            NaN              NaN   \n331369                            NaN              NaN   \n\n                    car_1_type  car_1_roll12              car_5_type  \\\n0       impacts_on_communities      0.009035  impacts_on_communities   \n1       impacts_on_communities      0.009035  impacts_on_communities   \n2        climate_ghg_pollution     -0.129756  impacts_on_communities   \n3        climate_ghg_pollution     -0.129756     supply_chain_issues   \n4       impacts_on_communities     -0.004342  impacts_on_communities   \n...                        ...           ...                     ...   \n331365                     NaN           NaN                     NaN   \n331366                     NaN           NaN                     NaN   \n331367                     NaN           NaN                     NaN   \n331368                     NaN           NaN                     NaN   \n331369                     NaN           NaN                     NaN   \n\n       car_5_roll12  \n0          0.016264  \n1          0.016264  \n2         -0.282756  \n3         -0.250865  \n4         -0.007518  \n...             ...  \n331365          NaN  \n331366          NaN  \n331367          NaN  \n331368          NaN  \n331369          NaN  \n\n[331370 rows x 28 columns]",
      "text/html": "<div>\n<style scoped>\n    .dataframe tbody tr th:only-of-type {\n        vertical-align: middle;\n    }\n\n    .dataframe tbody tr th {\n        vertical-align: top;\n    }\n\n    .dataframe thead th {\n        text-align: right;\n    }\n</style>\n<table border=\"1\" class=\"dataframe\">\n  <thead>\n    <tr style=\"text-align: right;\">\n      <th></th>\n      <th>gvkey</th>\n      <th>isin</th>\n      <th>cusip</th>\n      <th>reprisk_id</th>\n      <th>story_id</th>\n      <th>adopter</th>\n      <th>sic</th>\n      <th>SICS Codified Industry</th>\n      <th>Codified SICS Sector</th>\n      <th>severity</th>\n      <th>...</th>\n      <th>YearMonth</th>\n      <th>YearQuarter</th>\n      <th>reach_type</th>\n      <th>reach_roll12</th>\n      <th>severity_type</th>\n      <th>severity_roll12</th>\n      <th>car_1_type</th>\n      <th>car_1_roll12</th>\n      <th>car_5_type</th>\n      <th>car_5_roll12</th>\n    </tr>\n  </thead>\n  <tbody>\n    <tr>\n      <th>0</th>\n      <td>210418.0</td>\n      <td>US0003752047</td>\n      <td>000375204</td>\n      <td>2</td>\n      <td>1251.0</td>\n      <td>1</td>\n      <td>3613.0</td>\n      <td>Electrical &amp; Electronic Equipment</td>\n      <td>Resource Transformation</td>\n      <td>1.0</td>\n      <td>...</td>\n      <td>2007-06</td>\n      <td>2007Q2</td>\n      <td>violation_of_natl_legislation</td>\n      <td>28.0</td>\n      <td>violation_of_natl_legislation</td>\n      <td>18.0</td>\n      <td>impacts_on_communities</td>\n      <td>0.009035</td>\n      <td>impacts_on_communities</td>\n      <td>0.016264</td>\n    </tr>\n    <tr>\n      <th>1</th>\n      <td>210418.0</td>\n      <td>US0003752047</td>\n      <td>000375204</td>\n      <td>2</td>\n      <td>1305.0</td>\n      <td>1</td>\n      <td>3613.0</td>\n      <td>Electrical &amp; Electronic Equipment</td>\n      <td>Resource Transformation</td>\n      <td>2.0</td>\n      <td>...</td>\n      <td>2007-07</td>\n      <td>2007Q3</td>\n      <td>violation_of_natl_legislation</td>\n      <td>28.0</td>\n      <td>violation_of_natl_legislation</td>\n      <td>18.0</td>\n      <td>impacts_on_communities</td>\n      <td>0.009035</td>\n      <td>impacts_on_communities</td>\n      <td>0.016264</td>\n    </tr>\n    <tr>\n      <th>2</th>\n      <td>210418.0</td>\n      <td>US0003752047</td>\n      <td>000375204</td>\n      <td>2</td>\n      <td>4029.0</td>\n      <td>1</td>\n      <td>3613.0</td>\n      <td>Electrical &amp; Electronic Equipment</td>\n      <td>Resource Transformation</td>\n      <td>2.0</td>\n      <td>...</td>\n      <td>2008-04</td>\n      <td>2008Q2</td>\n      <td>impacts_on_landscapes</td>\n      <td>43.0</td>\n      <td>human_rights_abuses</td>\n      <td>41.0</td>\n      <td>climate_ghg_pollution</td>\n      <td>-0.129756</td>\n      <td>impacts_on_communities</td>\n      <td>-0.282756</td>\n    </tr>\n    <tr>\n      <th>3</th>\n      <td>210418.0</td>\n      <td>US0003752047</td>\n      <td>000375204</td>\n      <td>2</td>\n      <td>4488.0</td>\n      <td>1</td>\n      <td>3613.0</td>\n      <td>Electrical &amp; Electronic Equipment</td>\n      <td>Resource Transformation</td>\n      <td>2.0</td>\n      <td>...</td>\n      <td>2008-05</td>\n      <td>2008Q2</td>\n      <td>human_rights_abuses</td>\n      <td>47.0</td>\n      <td>human_rights_abuses</td>\n      <td>54.0</td>\n      <td>climate_ghg_pollution</td>\n      <td>-0.129756</td>\n      <td>supply_chain_issues</td>\n      <td>-0.250865</td>\n    </tr>\n    <tr>\n      <th>4</th>\n      <td>210418.0</td>\n      <td>US0003752047</td>\n      <td>000375204</td>\n      <td>2</td>\n      <td>4756.0</td>\n      <td>1</td>\n      <td>3613.0</td>\n      <td>Electrical &amp; Electronic Equipment</td>\n      <td>Resource Transformation</td>\n      <td>1.0</td>\n      <td>...</td>\n      <td>2007-01</td>\n      <td>2007Q1</td>\n      <td>violation_of_natl_legislation</td>\n      <td>21.0</td>\n      <td>violation_of_natl_legislation</td>\n      <td>11.0</td>\n      <td>impacts_on_communities</td>\n      <td>-0.004342</td>\n      <td>impacts_on_communities</td>\n      <td>-0.007518</td>\n    </tr>\n    <tr>\n      <th>...</th>\n      <td>...</td>\n      <td>...</td>\n      <td>...</td>\n      <td>...</td>\n      <td>...</td>\n      <td>...</td>\n      <td>...</td>\n      <td>...</td>\n      <td>...</td>\n      <td>...</td>\n      <td>...</td>\n      <td>...</td>\n      <td>...</td>\n      <td>...</td>\n      <td>...</td>\n      <td>...</td>\n      <td>...</td>\n      <td>...</td>\n      <td>...</td>\n      <td>...</td>\n      <td>...</td>\n    </tr>\n    <tr>\n      <th>331365</th>\n      <td>355240.0</td>\n      <td>THB131010001</td>\n      <td>NaN</td>\n      <td>2683218</td>\n      <td>NaN</td>\n      <td>1</td>\n      <td>5900.0</td>\n      <td>Coal Operations</td>\n      <td>Extractives &amp; Minerals Processing</td>\n      <td>0.0</td>\n      <td>...</td>\n      <td>NaT</td>\n      <td>NaT</td>\n      <td>NaN</td>\n      <td>NaN</td>\n      <td>NaN</td>\n      <td>NaN</td>\n      <td>NaN</td>\n      <td>NaN</td>\n      <td>NaN</td>\n      <td>NaN</td>\n    </tr>\n    <tr>\n      <th>331366</th>\n      <td>349631.0</td>\n      <td>PK0126301016</td>\n      <td>NaN</td>\n      <td>2684126</td>\n      <td>NaN</td>\n      <td>1</td>\n      <td>3411.0</td>\n      <td>Containers &amp; Packaging</td>\n      <td>Resource Transformation</td>\n      <td>0.0</td>\n      <td>...</td>\n      <td>NaT</td>\n      <td>NaT</td>\n      <td>NaN</td>\n      <td>NaN</td>\n      <td>NaN</td>\n      <td>NaN</td>\n      <td>NaN</td>\n      <td>NaN</td>\n      <td>NaN</td>\n      <td>NaN</td>\n    </tr>\n    <tr>\n      <th>331367</th>\n      <td>350690.0</td>\n      <td>GB00BLNNFY18</td>\n      <td>NaN</td>\n      <td>2685085</td>\n      <td>NaN</td>\n      <td>1</td>\n      <td>6726.0</td>\n      <td>Household &amp; Personal Products</td>\n      <td>Consumer Goods</td>\n      <td>0.0</td>\n      <td>...</td>\n      <td>NaT</td>\n      <td>NaT</td>\n      <td>NaN</td>\n      <td>NaN</td>\n      <td>NaN</td>\n      <td>NaN</td>\n      <td>NaN</td>\n      <td>NaN</td>\n      <td>NaN</td>\n      <td>NaN</td>\n    </tr>\n    <tr>\n      <th>331368</th>\n      <td>350726.0</td>\n      <td>AU0000180200</td>\n      <td>NaN</td>\n      <td>2685460</td>\n      <td>NaN</td>\n      <td>1</td>\n      <td>1400.0</td>\n      <td>Chemicals</td>\n      <td>Resource Transformation</td>\n      <td>0.0</td>\n      <td>...</td>\n      <td>NaT</td>\n      <td>NaT</td>\n      <td>NaN</td>\n      <td>NaN</td>\n      <td>NaN</td>\n      <td>NaN</td>\n      <td>NaN</td>\n      <td>NaN</td>\n      <td>NaN</td>\n      <td>NaN</td>\n    </tr>\n    <tr>\n      <th>331369</th>\n      <td>355325.0</td>\n      <td>TW0006935000</td>\n      <td>NaN</td>\n      <td>2685762</td>\n      <td>NaN</td>\n      <td>0</td>\n      <td>2834.0</td>\n      <td>Biotechnology &amp; Pharmaceuticals</td>\n      <td>Health Care</td>\n      <td>0.0</td>\n      <td>...</td>\n      <td>NaT</td>\n      <td>NaT</td>\n      <td>NaN</td>\n      <td>NaN</td>\n      <td>NaN</td>\n      <td>NaN</td>\n      <td>NaN</td>\n      <td>NaN</td>\n      <td>NaN</td>\n      <td>NaN</td>\n    </tr>\n  </tbody>\n</table>\n<p>331370 rows × 28 columns</p>\n</div>"
     },
     "execution_count": 96,
     "metadata": {},
     "output_type": "execute_result"
    }
   ],
   "source": [
    "# Merge back to original dataframe\n",
    "final = reprisk_incidents.merge(\n",
    "    result,\n",
    "    on=['SICS Codified Industry ', 'YearMonth'],\n",
    "    how='left'\n",
    ")\n",
    "final"
   ],
   "metadata": {
    "collapsed": false,
    "ExecuteTime": {
     "end_time": "2025-10-24T14:09:37.751272500Z",
     "start_time": "2025-10-24T14:09:37.313068100Z"
    }
   }
  },
  {
   "cell_type": "code",
   "execution_count": 97,
   "outputs": [],
   "source": [
    "def _in_list(t, lst):\n",
    "    if pd.isna(t):\n",
    "        return 0\n",
    "    return int(str(t) in lst)\n",
    "\n",
    "\n",
    "# --- 3) create materiality flags\n",
    "final['materiality_reach'] = [_in_list(t, L) for t, L in zip(final['reach_type'], final['incident_list'])]\n",
    "final['materiality_severity'] = [_in_list(t, L) for t, L in zip(final['severity_type'], final['incident_list'])]\n",
    "final['materiality_car_1'] = [_in_list(t, L) for t, L in zip(final['car_1_type'], final['incident_list'])]\n",
    "final['materiality_car_5'] = [_in_list(t, L) for t, L in zip(final['car_5_type'], final['incident_list'])]"
   ],
   "metadata": {
    "collapsed": false,
    "ExecuteTime": {
     "end_time": "2025-10-24T14:09:39.319056700Z",
     "start_time": "2025-10-24T14:09:37.687214800Z"
    }
   }
  },
  {
   "cell_type": "code",
   "execution_count": 98,
   "outputs": [
    {
     "data": {
      "text/plain": "           gvkey          isin      cusip  reprisk_id  story_id  adopter  \\\n0       210418.0  US0003752047  000375204           2    1251.0        1   \n1       210418.0  US0003752047  000375204           2    1305.0        1   \n2       210418.0  US0003752047  000375204           2    4029.0        1   \n3       210418.0  US0003752047  000375204           2    4488.0        1   \n4       210418.0  US0003752047  000375204           2    4756.0        1   \n...          ...           ...        ...         ...       ...      ...   \n331365  355240.0  THB131010001        NaN     2683218       NaN        1   \n331366  349631.0  PK0126301016        NaN     2684126       NaN        1   \n331367  350690.0  GB00BLNNFY18        NaN     2685085       NaN        1   \n331368  350726.0  AU0000180200        NaN     2685460       NaN        1   \n331369  355325.0  TW0006935000        NaN     2685762       NaN        0   \n\n           sic            SICS Codified Industry   \\\n0       3613.0  Electrical & Electronic Equipment   \n1       3613.0  Electrical & Electronic Equipment   \n2       3613.0  Electrical & Electronic Equipment   \n3       3613.0  Electrical & Electronic Equipment   \n4       3613.0  Electrical & Electronic Equipment   \n...        ...                                ...   \n331365  5900.0                    Coal Operations   \n331366  3411.0             Containers & Packaging   \n331367  6726.0      Household & Personal Products   \n331368  1400.0                          Chemicals   \n331369  2834.0    Biotechnology & Pharmaceuticals   \n\n                    Codified SICS Sector   severity  ...  \\\n0                 Resource Transformation       1.0  ...   \n1                 Resource Transformation       2.0  ...   \n2                 Resource Transformation       2.0  ...   \n3                 Resource Transformation       2.0  ...   \n4                 Resource Transformation       1.0  ...   \n...                                   ...       ...  ...   \n331365  Extractives & Minerals Processing       0.0  ...   \n331366            Resource Transformation       0.0  ...   \n331367                     Consumer Goods       0.0  ...   \n331368            Resource Transformation       0.0  ...   \n331369                        Health Care       0.0  ...   \n\n                        severity_type  severity_roll12  \\\n0       violation_of_natl_legislation             18.0   \n1       violation_of_natl_legislation             18.0   \n2                 human_rights_abuses             41.0   \n3                 human_rights_abuses             54.0   \n4       violation_of_natl_legislation             11.0   \n...                               ...              ...   \n331365                            NaN              NaN   \n331366                            NaN              NaN   \n331367                            NaN              NaN   \n331368                            NaN              NaN   \n331369                            NaN              NaN   \n\n                    car_1_type car_1_roll12              car_5_type  \\\n0       impacts_on_communities     0.009035  impacts_on_communities   \n1       impacts_on_communities     0.009035  impacts_on_communities   \n2        climate_ghg_pollution    -0.129756  impacts_on_communities   \n3        climate_ghg_pollution    -0.129756     supply_chain_issues   \n4       impacts_on_communities    -0.004342  impacts_on_communities   \n...                        ...          ...                     ...   \n331365                     NaN          NaN                     NaN   \n331366                     NaN          NaN                     NaN   \n331367                     NaN          NaN                     NaN   \n331368                     NaN          NaN                     NaN   \n331369                     NaN          NaN                     NaN   \n\n        car_5_roll12  materiality_reach  materiality_severity  \\\n0           0.016264                  0                     0   \n1           0.016264                  0                     0   \n2          -0.282756                  0                     1   \n3          -0.250865                  1                     1   \n4          -0.007518                  1                     1   \n...              ...                ...                   ...   \n331365           NaN                  0                     0   \n331366           NaN                  0                     0   \n331367           NaN                  0                     0   \n331368           NaN                  0                     0   \n331369           NaN                  0                     0   \n\n       materiality_car_1 materiality_car_5  \n0                      1                 1  \n1                      0                 0  \n2                      0                 1  \n3                      0                 0  \n4                      0                 0  \n...                  ...               ...  \n331365                 0                 0  \n331366                 0                 0  \n331367                 0                 0  \n331368                 0                 0  \n331369                 0                 0  \n\n[331370 rows x 32 columns]",
      "text/html": "<div>\n<style scoped>\n    .dataframe tbody tr th:only-of-type {\n        vertical-align: middle;\n    }\n\n    .dataframe tbody tr th {\n        vertical-align: top;\n    }\n\n    .dataframe thead th {\n        text-align: right;\n    }\n</style>\n<table border=\"1\" class=\"dataframe\">\n  <thead>\n    <tr style=\"text-align: right;\">\n      <th></th>\n      <th>gvkey</th>\n      <th>isin</th>\n      <th>cusip</th>\n      <th>reprisk_id</th>\n      <th>story_id</th>\n      <th>adopter</th>\n      <th>sic</th>\n      <th>SICS Codified Industry</th>\n      <th>Codified SICS Sector</th>\n      <th>severity</th>\n      <th>...</th>\n      <th>severity_type</th>\n      <th>severity_roll12</th>\n      <th>car_1_type</th>\n      <th>car_1_roll12</th>\n      <th>car_5_type</th>\n      <th>car_5_roll12</th>\n      <th>materiality_reach</th>\n      <th>materiality_severity</th>\n      <th>materiality_car_1</th>\n      <th>materiality_car_5</th>\n    </tr>\n  </thead>\n  <tbody>\n    <tr>\n      <th>0</th>\n      <td>210418.0</td>\n      <td>US0003752047</td>\n      <td>000375204</td>\n      <td>2</td>\n      <td>1251.0</td>\n      <td>1</td>\n      <td>3613.0</td>\n      <td>Electrical &amp; Electronic Equipment</td>\n      <td>Resource Transformation</td>\n      <td>1.0</td>\n      <td>...</td>\n      <td>violation_of_natl_legislation</td>\n      <td>18.0</td>\n      <td>impacts_on_communities</td>\n      <td>0.009035</td>\n      <td>impacts_on_communities</td>\n      <td>0.016264</td>\n      <td>0</td>\n      <td>0</td>\n      <td>1</td>\n      <td>1</td>\n    </tr>\n    <tr>\n      <th>1</th>\n      <td>210418.0</td>\n      <td>US0003752047</td>\n      <td>000375204</td>\n      <td>2</td>\n      <td>1305.0</td>\n      <td>1</td>\n      <td>3613.0</td>\n      <td>Electrical &amp; Electronic Equipment</td>\n      <td>Resource Transformation</td>\n      <td>2.0</td>\n      <td>...</td>\n      <td>violation_of_natl_legislation</td>\n      <td>18.0</td>\n      <td>impacts_on_communities</td>\n      <td>0.009035</td>\n      <td>impacts_on_communities</td>\n      <td>0.016264</td>\n      <td>0</td>\n      <td>0</td>\n      <td>0</td>\n      <td>0</td>\n    </tr>\n    <tr>\n      <th>2</th>\n      <td>210418.0</td>\n      <td>US0003752047</td>\n      <td>000375204</td>\n      <td>2</td>\n      <td>4029.0</td>\n      <td>1</td>\n      <td>3613.0</td>\n      <td>Electrical &amp; Electronic Equipment</td>\n      <td>Resource Transformation</td>\n      <td>2.0</td>\n      <td>...</td>\n      <td>human_rights_abuses</td>\n      <td>41.0</td>\n      <td>climate_ghg_pollution</td>\n      <td>-0.129756</td>\n      <td>impacts_on_communities</td>\n      <td>-0.282756</td>\n      <td>0</td>\n      <td>1</td>\n      <td>0</td>\n      <td>1</td>\n    </tr>\n    <tr>\n      <th>3</th>\n      <td>210418.0</td>\n      <td>US0003752047</td>\n      <td>000375204</td>\n      <td>2</td>\n      <td>4488.0</td>\n      <td>1</td>\n      <td>3613.0</td>\n      <td>Electrical &amp; Electronic Equipment</td>\n      <td>Resource Transformation</td>\n      <td>2.0</td>\n      <td>...</td>\n      <td>human_rights_abuses</td>\n      <td>54.0</td>\n      <td>climate_ghg_pollution</td>\n      <td>-0.129756</td>\n      <td>supply_chain_issues</td>\n      <td>-0.250865</td>\n      <td>1</td>\n      <td>1</td>\n      <td>0</td>\n      <td>0</td>\n    </tr>\n    <tr>\n      <th>4</th>\n      <td>210418.0</td>\n      <td>US0003752047</td>\n      <td>000375204</td>\n      <td>2</td>\n      <td>4756.0</td>\n      <td>1</td>\n      <td>3613.0</td>\n      <td>Electrical &amp; Electronic Equipment</td>\n      <td>Resource Transformation</td>\n      <td>1.0</td>\n      <td>...</td>\n      <td>violation_of_natl_legislation</td>\n      <td>11.0</td>\n      <td>impacts_on_communities</td>\n      <td>-0.004342</td>\n      <td>impacts_on_communities</td>\n      <td>-0.007518</td>\n      <td>1</td>\n      <td>1</td>\n      <td>0</td>\n      <td>0</td>\n    </tr>\n    <tr>\n      <th>...</th>\n      <td>...</td>\n      <td>...</td>\n      <td>...</td>\n      <td>...</td>\n      <td>...</td>\n      <td>...</td>\n      <td>...</td>\n      <td>...</td>\n      <td>...</td>\n      <td>...</td>\n      <td>...</td>\n      <td>...</td>\n      <td>...</td>\n      <td>...</td>\n      <td>...</td>\n      <td>...</td>\n      <td>...</td>\n      <td>...</td>\n      <td>...</td>\n      <td>...</td>\n      <td>...</td>\n    </tr>\n    <tr>\n      <th>331365</th>\n      <td>355240.0</td>\n      <td>THB131010001</td>\n      <td>NaN</td>\n      <td>2683218</td>\n      <td>NaN</td>\n      <td>1</td>\n      <td>5900.0</td>\n      <td>Coal Operations</td>\n      <td>Extractives &amp; Minerals Processing</td>\n      <td>0.0</td>\n      <td>...</td>\n      <td>NaN</td>\n      <td>NaN</td>\n      <td>NaN</td>\n      <td>NaN</td>\n      <td>NaN</td>\n      <td>NaN</td>\n      <td>0</td>\n      <td>0</td>\n      <td>0</td>\n      <td>0</td>\n    </tr>\n    <tr>\n      <th>331366</th>\n      <td>349631.0</td>\n      <td>PK0126301016</td>\n      <td>NaN</td>\n      <td>2684126</td>\n      <td>NaN</td>\n      <td>1</td>\n      <td>3411.0</td>\n      <td>Containers &amp; Packaging</td>\n      <td>Resource Transformation</td>\n      <td>0.0</td>\n      <td>...</td>\n      <td>NaN</td>\n      <td>NaN</td>\n      <td>NaN</td>\n      <td>NaN</td>\n      <td>NaN</td>\n      <td>NaN</td>\n      <td>0</td>\n      <td>0</td>\n      <td>0</td>\n      <td>0</td>\n    </tr>\n    <tr>\n      <th>331367</th>\n      <td>350690.0</td>\n      <td>GB00BLNNFY18</td>\n      <td>NaN</td>\n      <td>2685085</td>\n      <td>NaN</td>\n      <td>1</td>\n      <td>6726.0</td>\n      <td>Household &amp; Personal Products</td>\n      <td>Consumer Goods</td>\n      <td>0.0</td>\n      <td>...</td>\n      <td>NaN</td>\n      <td>NaN</td>\n      <td>NaN</td>\n      <td>NaN</td>\n      <td>NaN</td>\n      <td>NaN</td>\n      <td>0</td>\n      <td>0</td>\n      <td>0</td>\n      <td>0</td>\n    </tr>\n    <tr>\n      <th>331368</th>\n      <td>350726.0</td>\n      <td>AU0000180200</td>\n      <td>NaN</td>\n      <td>2685460</td>\n      <td>NaN</td>\n      <td>1</td>\n      <td>1400.0</td>\n      <td>Chemicals</td>\n      <td>Resource Transformation</td>\n      <td>0.0</td>\n      <td>...</td>\n      <td>NaN</td>\n      <td>NaN</td>\n      <td>NaN</td>\n      <td>NaN</td>\n      <td>NaN</td>\n      <td>NaN</td>\n      <td>0</td>\n      <td>0</td>\n      <td>0</td>\n      <td>0</td>\n    </tr>\n    <tr>\n      <th>331369</th>\n      <td>355325.0</td>\n      <td>TW0006935000</td>\n      <td>NaN</td>\n      <td>2685762</td>\n      <td>NaN</td>\n      <td>0</td>\n      <td>2834.0</td>\n      <td>Biotechnology &amp; Pharmaceuticals</td>\n      <td>Health Care</td>\n      <td>0.0</td>\n      <td>...</td>\n      <td>NaN</td>\n      <td>NaN</td>\n      <td>NaN</td>\n      <td>NaN</td>\n      <td>NaN</td>\n      <td>NaN</td>\n      <td>0</td>\n      <td>0</td>\n      <td>0</td>\n      <td>0</td>\n    </tr>\n  </tbody>\n</table>\n<p>331370 rows × 32 columns</p>\n</div>"
     },
     "execution_count": 98,
     "metadata": {},
     "output_type": "execute_result"
    }
   ],
   "source": [
    "final"
   ],
   "metadata": {
    "collapsed": false,
    "ExecuteTime": {
     "end_time": "2025-10-24T14:09:39.517954700Z",
     "start_time": "2025-10-24T14:09:39.319056700Z"
    }
   }
  },
  {
   "cell_type": "code",
   "execution_count": 99,
   "outputs": [],
   "source": [
    "final.to_csv('data/incidents_rolling_materiality.csv', index=False)"
   ],
   "metadata": {
    "collapsed": false,
    "ExecuteTime": {
     "end_time": "2025-10-24T14:10:16.490252100Z",
     "start_time": "2025-10-24T14:10:05.609378700Z"
    }
   }
  },
  {
   "cell_type": "markdown",
   "source": [
    "## 1.2 Add industry incident counts"
   ],
   "metadata": {
    "collapsed": false
   }
  },
  {
   "cell_type": "code",
   "execution_count": 115,
   "outputs": [
    {
     "data": {
      "text/plain": "             gvkey YearMonth  n_material  n_nonmaterial  n_car_1_material  \\\n0           1004.0   2007-01           0              0                 0   \n1           1004.0   2007-02           0              0                 0   \n2           1004.0   2007-03           0              0                 0   \n3           1004.0   2007-04           0              0                 0   \n4           1004.0   2007-05           0              0                 0   \n...            ...       ...         ...            ...               ...   \n10640431  367496.0   2023-08           0              0                 0   \n10640432  367496.0   2023-09           0              0                 0   \n10640433  367496.0   2023-10           0              0                 0   \n10640434  367496.0   2023-11           0              0                 0   \n10640435  367496.0   2023-12           0              0                 0   \n\n          n_car_5_material  n_reach_material  n_severity_material  \\\n0                        0                 0                    0   \n1                        0                 0                    0   \n2                        0                 0                    0   \n3                        0                 0                    0   \n4                        0                 0                    0   \n...                    ...               ...                  ...   \n10640431                 0                 0                    0   \n10640432                 0                 0                    0   \n10640433                 0                 0                    0   \n10640434                 0                 0                    0   \n10640435                 0                 0                    0   \n\n          n_material_24m  n_nonmaterial_24m  n_car_1_material_24m  \\\n0                      0                  0                     0   \n1                      0                  0                     0   \n2                      0                  0                     0   \n3                      0                  0                     0   \n4                      0                  0                     0   \n...                  ...                ...                   ...   \n10640431               0                  0                     0   \n10640432               0                  0                     0   \n10640433               0                  0                     0   \n10640434               0                  0                     0   \n10640435               0                  0                     0   \n\n          n_car_5_material_24m  n_reach_material_24m  n_severity_material_24m  \n0                            0                     0                        0  \n1                            0                     0                        0  \n2                            0                     0                        0  \n3                            0                     0                        0  \n4                            0                     0                        0  \n...                        ...                   ...                      ...  \n10640431                     0                     0                        0  \n10640432                     0                     0                        0  \n10640433                     0                     0                        0  \n10640434                     0                     0                        0  \n10640435                     0                     0                        0  \n\n[10640436 rows x 14 columns]",
      "text/html": "<div>\n<style scoped>\n    .dataframe tbody tr th:only-of-type {\n        vertical-align: middle;\n    }\n\n    .dataframe tbody tr th {\n        vertical-align: top;\n    }\n\n    .dataframe thead th {\n        text-align: right;\n    }\n</style>\n<table border=\"1\" class=\"dataframe\">\n  <thead>\n    <tr style=\"text-align: right;\">\n      <th></th>\n      <th>gvkey</th>\n      <th>YearMonth</th>\n      <th>n_material</th>\n      <th>n_nonmaterial</th>\n      <th>n_car_1_material</th>\n      <th>n_car_5_material</th>\n      <th>n_reach_material</th>\n      <th>n_severity_material</th>\n      <th>n_material_24m</th>\n      <th>n_nonmaterial_24m</th>\n      <th>n_car_1_material_24m</th>\n      <th>n_car_5_material_24m</th>\n      <th>n_reach_material_24m</th>\n      <th>n_severity_material_24m</th>\n    </tr>\n  </thead>\n  <tbody>\n    <tr>\n      <th>0</th>\n      <td>1004.0</td>\n      <td>2007-01</td>\n      <td>0</td>\n      <td>0</td>\n      <td>0</td>\n      <td>0</td>\n      <td>0</td>\n      <td>0</td>\n      <td>0</td>\n      <td>0</td>\n      <td>0</td>\n      <td>0</td>\n      <td>0</td>\n      <td>0</td>\n    </tr>\n    <tr>\n      <th>1</th>\n      <td>1004.0</td>\n      <td>2007-02</td>\n      <td>0</td>\n      <td>0</td>\n      <td>0</td>\n      <td>0</td>\n      <td>0</td>\n      <td>0</td>\n      <td>0</td>\n      <td>0</td>\n      <td>0</td>\n      <td>0</td>\n      <td>0</td>\n      <td>0</td>\n    </tr>\n    <tr>\n      <th>2</th>\n      <td>1004.0</td>\n      <td>2007-03</td>\n      <td>0</td>\n      <td>0</td>\n      <td>0</td>\n      <td>0</td>\n      <td>0</td>\n      <td>0</td>\n      <td>0</td>\n      <td>0</td>\n      <td>0</td>\n      <td>0</td>\n      <td>0</td>\n      <td>0</td>\n    </tr>\n    <tr>\n      <th>3</th>\n      <td>1004.0</td>\n      <td>2007-04</td>\n      <td>0</td>\n      <td>0</td>\n      <td>0</td>\n      <td>0</td>\n      <td>0</td>\n      <td>0</td>\n      <td>0</td>\n      <td>0</td>\n      <td>0</td>\n      <td>0</td>\n      <td>0</td>\n      <td>0</td>\n    </tr>\n    <tr>\n      <th>4</th>\n      <td>1004.0</td>\n      <td>2007-05</td>\n      <td>0</td>\n      <td>0</td>\n      <td>0</td>\n      <td>0</td>\n      <td>0</td>\n      <td>0</td>\n      <td>0</td>\n      <td>0</td>\n      <td>0</td>\n      <td>0</td>\n      <td>0</td>\n      <td>0</td>\n    </tr>\n    <tr>\n      <th>...</th>\n      <td>...</td>\n      <td>...</td>\n      <td>...</td>\n      <td>...</td>\n      <td>...</td>\n      <td>...</td>\n      <td>...</td>\n      <td>...</td>\n      <td>...</td>\n      <td>...</td>\n      <td>...</td>\n      <td>...</td>\n      <td>...</td>\n      <td>...</td>\n    </tr>\n    <tr>\n      <th>10640431</th>\n      <td>367496.0</td>\n      <td>2023-08</td>\n      <td>0</td>\n      <td>0</td>\n      <td>0</td>\n      <td>0</td>\n      <td>0</td>\n      <td>0</td>\n      <td>0</td>\n      <td>0</td>\n      <td>0</td>\n      <td>0</td>\n      <td>0</td>\n      <td>0</td>\n    </tr>\n    <tr>\n      <th>10640432</th>\n      <td>367496.0</td>\n      <td>2023-09</td>\n      <td>0</td>\n      <td>0</td>\n      <td>0</td>\n      <td>0</td>\n      <td>0</td>\n      <td>0</td>\n      <td>0</td>\n      <td>0</td>\n      <td>0</td>\n      <td>0</td>\n      <td>0</td>\n      <td>0</td>\n    </tr>\n    <tr>\n      <th>10640433</th>\n      <td>367496.0</td>\n      <td>2023-10</td>\n      <td>0</td>\n      <td>0</td>\n      <td>0</td>\n      <td>0</td>\n      <td>0</td>\n      <td>0</td>\n      <td>0</td>\n      <td>0</td>\n      <td>0</td>\n      <td>0</td>\n      <td>0</td>\n      <td>0</td>\n    </tr>\n    <tr>\n      <th>10640434</th>\n      <td>367496.0</td>\n      <td>2023-11</td>\n      <td>0</td>\n      <td>0</td>\n      <td>0</td>\n      <td>0</td>\n      <td>0</td>\n      <td>0</td>\n      <td>0</td>\n      <td>0</td>\n      <td>0</td>\n      <td>0</td>\n      <td>0</td>\n      <td>0</td>\n    </tr>\n    <tr>\n      <th>10640435</th>\n      <td>367496.0</td>\n      <td>2023-12</td>\n      <td>0</td>\n      <td>0</td>\n      <td>0</td>\n      <td>0</td>\n      <td>0</td>\n      <td>0</td>\n      <td>0</td>\n      <td>0</td>\n      <td>0</td>\n      <td>0</td>\n      <td>0</td>\n      <td>0</td>\n    </tr>\n  </tbody>\n</table>\n<p>10640436 rows × 14 columns</p>\n</div>"
     },
     "execution_count": 115,
     "metadata": {},
     "output_type": "execute_result"
    }
   ],
   "source": [
    "df = final.copy()\n",
    "\n",
    "# Coerce flags to numeric and treat missing as 0\n",
    "flag_cols = [\n",
    "    'material_flag',\n",
    "    'materiality_car_1', 'materiality_car_5', 'materiality_reach', 'materiality_severity'\n",
    "]\n",
    "df[flag_cols] = df[flag_cols].apply(pd.to_numeric, errors='coerce').fillna(0)\n",
    "\n",
    "key = [\"gvkey\", \"YearMonth\"]\n",
    "\n",
    "# 1) Monthly counts per firm\n",
    "agg_fm = (\n",
    "    df.groupby(key, dropna=False)\n",
    "    .agg(\n",
    "        n_material=('material_flag', lambda s: (s == 1).sum()),\n",
    "        n_nonmaterial=('material_flag', lambda s: (s == 0).sum()),\n",
    "        n_car_1_material=('materiality_car_1', lambda s: (s == 1).sum()),\n",
    "        n_car_5_material=('materiality_car_5', lambda s: (s == 1).sum()),\n",
    "        n_reach_material=('materiality_reach', lambda s: (s == 1).sum()),\n",
    "        n_severity_material=('materiality_severity', lambda s: (s == 1).sum()),\n",
    "    )\n",
    "    .reset_index()\n",
    ")\n",
    "\n",
    "# 2) Balanced universe: all firms × all months\n",
    "firms  = df['gvkey'].dropna().unique()\n",
    "mmin   = df['YearMonth'].min()\n",
    "mmax   = df['YearMonth'].max()\n",
    "months = pd.period_range(mmin, mmax, freq='M')\n",
    "\n",
    "balanced_idx      = pd.MultiIndex.from_product([firms, months], names=key)\n",
    "balanced_universe = pd.DataFrame(index=balanced_idx).reset_index()\n",
    "\n",
    "# 3) Merge and fill gaps with 0, sort\n",
    "reprisk = (\n",
    "    balanced_universe\n",
    "    .merge(agg_fm, on=key, how='left')\n",
    "    .fillna(0)\n",
    "    .sort_values(key)\n",
    "    .reset_index(drop=True)\n",
    ")\n",
    "\n",
    "count_cols = [\n",
    "    'n_material', 'n_nonmaterial', 'n_car_1_material', 'n_car_5_material',\n",
    "    'n_reach_material', 'n_severity_material'\n",
    "]\n",
    "\n",
    "# Ensure monthly counts are int64\n",
    "reprisk[count_cols] = reprisk[count_cols].astype('int64')\n",
    "\n",
    "# 4) 24-month rolling sums per firm (includes current month)\n",
    "roll_24m = (\n",
    "    reprisk.groupby('gvkey', group_keys=False)[count_cols]\n",
    "    .rolling(window=24, min_periods=1)\n",
    "    .sum()\n",
    "    .reset_index(level=0, drop=True)\n",
    "    .astype('int64')\n",
    ").add_suffix('_24m')\n",
    "\n",
    "# 5) Keep keys + monthly counts + rolling sums\n",
    "reprisk_out = pd.concat([reprisk[key + count_cols], roll_24m], axis=1)\n",
    "\n",
    "reprisk_out"
   ],
   "metadata": {
    "collapsed": false,
    "ExecuteTime": {
     "end_time": "2025-10-24T16:07:38.295621600Z",
     "start_time": "2025-10-24T16:04:49.649940300Z"
    }
   }
  },
  {
   "cell_type": "code",
   "execution_count": 116,
   "outputs": [
    {
     "data": {
      "text/plain": "             gvkey YearMonth  n_material  n_nonmaterial  n_car_1_material  \\\n0           1004.0   2007-01           0              0                 0   \n1           1004.0   2007-02           0              0                 0   \n2           1004.0   2007-03           0              0                 0   \n3           1004.0   2007-04           0              0                 0   \n4           1004.0   2007-05           0              0                 0   \n...            ...       ...         ...            ...               ...   \n10643287  367496.0   2023-08           0              0                 0   \n10643288  367496.0   2023-09           0              0                 0   \n10643289  367496.0   2023-10           0              0                 0   \n10643290  367496.0   2023-11           0              0                 0   \n10643291  367496.0   2023-12           0              0                 0   \n\n          n_car_5_material  n_reach_material  n_severity_material  \\\n0                        0                 0                    0   \n1                        0                 0                    0   \n2                        0                 0                    0   \n3                        0                 0                    0   \n4                        0                 0                    0   \n...                    ...               ...                  ...   \n10643287                 0                 0                    0   \n10643288                 0                 0                    0   \n10643289                 0                 0                    0   \n10643290                 0                 0                    0   \n10643291                 0                 0                    0   \n\n          n_material_24m  n_nonmaterial_24m  n_car_1_material_24m  \\\n0                      0                  0                     0   \n1                      0                  0                     0   \n2                      0                  0                     0   \n3                      0                  0                     0   \n4                      0                  0                     0   \n...                  ...                ...                   ...   \n10643287               0                  0                     0   \n10643288               0                  0                     0   \n10643289               0                  0                     0   \n10643290               0                  0                     0   \n10643291               0                  0                     0   \n\n          n_car_5_material_24m  n_reach_material_24m  n_severity_material_24m  \\\n0                            0                     0                        0   \n1                            0                     0                        0   \n2                            0                     0                        0   \n3                            0                     0                        0   \n4                            0                     0                        0   \n...                        ...                   ...                      ...   \n10643287                     0                     0                        0   \n10643288                     0                     0                        0   \n10643289                     0                     0                        0   \n10643290                     0                     0                        0   \n10643291                     0                     0                        0   \n\n              cusip       SICS Codified Industry     Codified SICS Sector   \n0         000361105  Industrial Machinery & Goods  Resource Transformation  \n1         000361105  Industrial Machinery & Goods  Resource Transformation  \n2         000361105  Industrial Machinery & Goods  Resource Transformation  \n3         000361105  Industrial Machinery & Goods  Resource Transformation  \n4         000361105  Industrial Machinery & Goods  Resource Transformation  \n...             ...                           ...                      ...  \n10643287        NaN                   Real Estate           Infrastructure  \n10643288        NaN                   Real Estate           Infrastructure  \n10643289        NaN                   Real Estate           Infrastructure  \n10643290        NaN                   Real Estate           Infrastructure  \n10643291        NaN                   Real Estate           Infrastructure  \n\n[10643292 rows x 17 columns]",
      "text/html": "<div>\n<style scoped>\n    .dataframe tbody tr th:only-of-type {\n        vertical-align: middle;\n    }\n\n    .dataframe tbody tr th {\n        vertical-align: top;\n    }\n\n    .dataframe thead th {\n        text-align: right;\n    }\n</style>\n<table border=\"1\" class=\"dataframe\">\n  <thead>\n    <tr style=\"text-align: right;\">\n      <th></th>\n      <th>gvkey</th>\n      <th>YearMonth</th>\n      <th>n_material</th>\n      <th>n_nonmaterial</th>\n      <th>n_car_1_material</th>\n      <th>n_car_5_material</th>\n      <th>n_reach_material</th>\n      <th>n_severity_material</th>\n      <th>n_material_24m</th>\n      <th>n_nonmaterial_24m</th>\n      <th>n_car_1_material_24m</th>\n      <th>n_car_5_material_24m</th>\n      <th>n_reach_material_24m</th>\n      <th>n_severity_material_24m</th>\n      <th>cusip</th>\n      <th>SICS Codified Industry</th>\n      <th>Codified SICS Sector</th>\n    </tr>\n  </thead>\n  <tbody>\n    <tr>\n      <th>0</th>\n      <td>1004.0</td>\n      <td>2007-01</td>\n      <td>0</td>\n      <td>0</td>\n      <td>0</td>\n      <td>0</td>\n      <td>0</td>\n      <td>0</td>\n      <td>0</td>\n      <td>0</td>\n      <td>0</td>\n      <td>0</td>\n      <td>0</td>\n      <td>0</td>\n      <td>000361105</td>\n      <td>Industrial Machinery &amp; Goods</td>\n      <td>Resource Transformation</td>\n    </tr>\n    <tr>\n      <th>1</th>\n      <td>1004.0</td>\n      <td>2007-02</td>\n      <td>0</td>\n      <td>0</td>\n      <td>0</td>\n      <td>0</td>\n      <td>0</td>\n      <td>0</td>\n      <td>0</td>\n      <td>0</td>\n      <td>0</td>\n      <td>0</td>\n      <td>0</td>\n      <td>0</td>\n      <td>000361105</td>\n      <td>Industrial Machinery &amp; Goods</td>\n      <td>Resource Transformation</td>\n    </tr>\n    <tr>\n      <th>2</th>\n      <td>1004.0</td>\n      <td>2007-03</td>\n      <td>0</td>\n      <td>0</td>\n      <td>0</td>\n      <td>0</td>\n      <td>0</td>\n      <td>0</td>\n      <td>0</td>\n      <td>0</td>\n      <td>0</td>\n      <td>0</td>\n      <td>0</td>\n      <td>0</td>\n      <td>000361105</td>\n      <td>Industrial Machinery &amp; Goods</td>\n      <td>Resource Transformation</td>\n    </tr>\n    <tr>\n      <th>3</th>\n      <td>1004.0</td>\n      <td>2007-04</td>\n      <td>0</td>\n      <td>0</td>\n      <td>0</td>\n      <td>0</td>\n      <td>0</td>\n      <td>0</td>\n      <td>0</td>\n      <td>0</td>\n      <td>0</td>\n      <td>0</td>\n      <td>0</td>\n      <td>0</td>\n      <td>000361105</td>\n      <td>Industrial Machinery &amp; Goods</td>\n      <td>Resource Transformation</td>\n    </tr>\n    <tr>\n      <th>4</th>\n      <td>1004.0</td>\n      <td>2007-05</td>\n      <td>0</td>\n      <td>0</td>\n      <td>0</td>\n      <td>0</td>\n      <td>0</td>\n      <td>0</td>\n      <td>0</td>\n      <td>0</td>\n      <td>0</td>\n      <td>0</td>\n      <td>0</td>\n      <td>0</td>\n      <td>000361105</td>\n      <td>Industrial Machinery &amp; Goods</td>\n      <td>Resource Transformation</td>\n    </tr>\n    <tr>\n      <th>...</th>\n      <td>...</td>\n      <td>...</td>\n      <td>...</td>\n      <td>...</td>\n      <td>...</td>\n      <td>...</td>\n      <td>...</td>\n      <td>...</td>\n      <td>...</td>\n      <td>...</td>\n      <td>...</td>\n      <td>...</td>\n      <td>...</td>\n      <td>...</td>\n      <td>...</td>\n      <td>...</td>\n      <td>...</td>\n    </tr>\n    <tr>\n      <th>10643287</th>\n      <td>367496.0</td>\n      <td>2023-08</td>\n      <td>0</td>\n      <td>0</td>\n      <td>0</td>\n      <td>0</td>\n      <td>0</td>\n      <td>0</td>\n      <td>0</td>\n      <td>0</td>\n      <td>0</td>\n      <td>0</td>\n      <td>0</td>\n      <td>0</td>\n      <td>NaN</td>\n      <td>Real Estate</td>\n      <td>Infrastructure</td>\n    </tr>\n    <tr>\n      <th>10643288</th>\n      <td>367496.0</td>\n      <td>2023-09</td>\n      <td>0</td>\n      <td>0</td>\n      <td>0</td>\n      <td>0</td>\n      <td>0</td>\n      <td>0</td>\n      <td>0</td>\n      <td>0</td>\n      <td>0</td>\n      <td>0</td>\n      <td>0</td>\n      <td>0</td>\n      <td>NaN</td>\n      <td>Real Estate</td>\n      <td>Infrastructure</td>\n    </tr>\n    <tr>\n      <th>10643289</th>\n      <td>367496.0</td>\n      <td>2023-10</td>\n      <td>0</td>\n      <td>0</td>\n      <td>0</td>\n      <td>0</td>\n      <td>0</td>\n      <td>0</td>\n      <td>0</td>\n      <td>0</td>\n      <td>0</td>\n      <td>0</td>\n      <td>0</td>\n      <td>0</td>\n      <td>NaN</td>\n      <td>Real Estate</td>\n      <td>Infrastructure</td>\n    </tr>\n    <tr>\n      <th>10643290</th>\n      <td>367496.0</td>\n      <td>2023-11</td>\n      <td>0</td>\n      <td>0</td>\n      <td>0</td>\n      <td>0</td>\n      <td>0</td>\n      <td>0</td>\n      <td>0</td>\n      <td>0</td>\n      <td>0</td>\n      <td>0</td>\n      <td>0</td>\n      <td>0</td>\n      <td>NaN</td>\n      <td>Real Estate</td>\n      <td>Infrastructure</td>\n    </tr>\n    <tr>\n      <th>10643291</th>\n      <td>367496.0</td>\n      <td>2023-12</td>\n      <td>0</td>\n      <td>0</td>\n      <td>0</td>\n      <td>0</td>\n      <td>0</td>\n      <td>0</td>\n      <td>0</td>\n      <td>0</td>\n      <td>0</td>\n      <td>0</td>\n      <td>0</td>\n      <td>0</td>\n      <td>NaN</td>\n      <td>Real Estate</td>\n      <td>Infrastructure</td>\n    </tr>\n  </tbody>\n</table>\n<p>10643292 rows × 17 columns</p>\n</div>"
     },
     "execution_count": 116,
     "metadata": {},
     "output_type": "execute_result"
    }
   ],
   "source": [
    "reprisk_merged = reprisk_out.merge(\n",
    "    reprisk_incidents[['gvkey', 'cusip', 'SICS Codified Industry ', 'Codified SICS Sector ']].drop_duplicates(),\n",
    "    on='gvkey', how='left')\n",
    "reprisk_merged"
   ],
   "metadata": {
    "collapsed": false,
    "ExecuteTime": {
     "end_time": "2025-10-24T16:07:53.078409500Z",
     "start_time": "2025-10-24T16:07:50.190941400Z"
    }
   }
  },
  {
   "cell_type": "code",
   "execution_count": 117,
   "outputs": [
    {
     "data": {
      "text/plain": "             gvkey YearMonth  n_material  n_nonmaterial  n_car_1_material  \\\n0           1004.0   2007-01           0              0                 0   \n1           1004.0   2007-02           0              0                 0   \n2           1004.0   2007-03           0              0                 0   \n3           1004.0   2007-04           0              0                 0   \n4           1004.0   2007-05           0              0                 0   \n...            ...       ...         ...            ...               ...   \n10543939  356128.0   2023-08           0              0                 0   \n10543940  356128.0   2023-09           0              0                 0   \n10543941  356128.0   2023-10           0              0                 0   \n10543942  356128.0   2023-11           0              0                 0   \n10543943  356128.0   2023-12           0              0                 0   \n\n          n_car_5_material  n_reach_material  n_severity_material  \\\n0                        0                 0                    0   \n1                        0                 0                    0   \n2                        0                 0                    0   \n3                        0                 0                    0   \n4                        0                 0                    0   \n...                    ...               ...                  ...   \n10543939                 0                 0                    0   \n10543940                 0                 0                    0   \n10543941                 0                 0                    0   \n10543942                 0                 0                    0   \n10543943                 0                 0                    0   \n\n          n_material_24m  n_nonmaterial_24m  ...      cusip  \\\n0                      0                  0  ...  000361105   \n1                      0                  0  ...  000361105   \n2                      0                  0  ...  000361105   \n3                      0                  0  ...  000361105   \n4                      0                  0  ...  000361105   \n...                  ...                ...  ...        ...   \n10543939               0                  0  ...  48581R205   \n10543940               0                  0  ...  48581R205   \n10543941               0                  0  ...  48581R205   \n10543942               0                  0  ...  48581R205   \n10543943               0                  0  ...  48581R205   \n\n               SICS Codified Industry     Codified SICS Sector   year  \\\n0         Industrial Machinery & Goods  Resource Transformation  2007   \n1         Industrial Machinery & Goods  Resource Transformation  2007   \n2         Industrial Machinery & Goods  Resource Transformation  2007   \n3         Industrial Machinery & Goods  Resource Transformation  2007   \n4         Industrial Machinery & Goods  Resource Transformation  2007   \n...                                ...                      ...   ...   \n10543939              Consumer Finance               Financials  2023   \n10543940              Consumer Finance               Financials  2023   \n10543941              Consumer Finance               Financials  2023   \n10543942              Consumer Finance               Financials  2023   \n10543943              Consumer Finance               Financials  2023   \n\n         industry_n_material_24m industry_n_nonmaterial_24m  \\\n0                              1                          8   \n1                              1                         19   \n2                              2                         26   \n3                              3                         38   \n4                              3                         50   \n...                          ...                        ...   \n10543939                     230                         36   \n10543940                     235                         36   \n10543941                     235                         35   \n10543942                     234                         34   \n10543943                     236                         36   \n\n         industry_n_car_1_material_24m  industry_n_car_5_material_24m  \\\n0                                    0                              0   \n1                                    2                              2   \n2                                    3                              3   \n3                                    3                              3   \n4                                    4                              4   \n...                                ...                            ...   \n10543939                            49                             49   \n10543940                            48                             47   \n10543941                            47                             46   \n10543942                            48                             46   \n10543943                            47                             49   \n\n          industry_n_reach_material_24m  industry_n_severity_material_24m  \n0                                     5                                 5  \n1                                    12                                12  \n2                                    18                                18  \n3                                    25                                25  \n4                                    33                                34  \n...                                 ...                               ...  \n10543939                            164                               164  \n10543940                            168                               168  \n10543941                            171                               171  \n10543942                            169                               169  \n10543943                            173                               173  \n\n[2390472 rows x 24 columns]",
      "text/html": "<div>\n<style scoped>\n    .dataframe tbody tr th:only-of-type {\n        vertical-align: middle;\n    }\n\n    .dataframe tbody tr th {\n        vertical-align: top;\n    }\n\n    .dataframe thead th {\n        text-align: right;\n    }\n</style>\n<table border=\"1\" class=\"dataframe\">\n  <thead>\n    <tr style=\"text-align: right;\">\n      <th></th>\n      <th>gvkey</th>\n      <th>YearMonth</th>\n      <th>n_material</th>\n      <th>n_nonmaterial</th>\n      <th>n_car_1_material</th>\n      <th>n_car_5_material</th>\n      <th>n_reach_material</th>\n      <th>n_severity_material</th>\n      <th>n_material_24m</th>\n      <th>n_nonmaterial_24m</th>\n      <th>...</th>\n      <th>cusip</th>\n      <th>SICS Codified Industry</th>\n      <th>Codified SICS Sector</th>\n      <th>year</th>\n      <th>industry_n_material_24m</th>\n      <th>industry_n_nonmaterial_24m</th>\n      <th>industry_n_car_1_material_24m</th>\n      <th>industry_n_car_5_material_24m</th>\n      <th>industry_n_reach_material_24m</th>\n      <th>industry_n_severity_material_24m</th>\n    </tr>\n  </thead>\n  <tbody>\n    <tr>\n      <th>0</th>\n      <td>1004.0</td>\n      <td>2007-01</td>\n      <td>0</td>\n      <td>0</td>\n      <td>0</td>\n      <td>0</td>\n      <td>0</td>\n      <td>0</td>\n      <td>0</td>\n      <td>0</td>\n      <td>...</td>\n      <td>000361105</td>\n      <td>Industrial Machinery &amp; Goods</td>\n      <td>Resource Transformation</td>\n      <td>2007</td>\n      <td>1</td>\n      <td>8</td>\n      <td>0</td>\n      <td>0</td>\n      <td>5</td>\n      <td>5</td>\n    </tr>\n    <tr>\n      <th>1</th>\n      <td>1004.0</td>\n      <td>2007-02</td>\n      <td>0</td>\n      <td>0</td>\n      <td>0</td>\n      <td>0</td>\n      <td>0</td>\n      <td>0</td>\n      <td>0</td>\n      <td>0</td>\n      <td>...</td>\n      <td>000361105</td>\n      <td>Industrial Machinery &amp; Goods</td>\n      <td>Resource Transformation</td>\n      <td>2007</td>\n      <td>1</td>\n      <td>19</td>\n      <td>2</td>\n      <td>2</td>\n      <td>12</td>\n      <td>12</td>\n    </tr>\n    <tr>\n      <th>2</th>\n      <td>1004.0</td>\n      <td>2007-03</td>\n      <td>0</td>\n      <td>0</td>\n      <td>0</td>\n      <td>0</td>\n      <td>0</td>\n      <td>0</td>\n      <td>0</td>\n      <td>0</td>\n      <td>...</td>\n      <td>000361105</td>\n      <td>Industrial Machinery &amp; Goods</td>\n      <td>Resource Transformation</td>\n      <td>2007</td>\n      <td>2</td>\n      <td>26</td>\n      <td>3</td>\n      <td>3</td>\n      <td>18</td>\n      <td>18</td>\n    </tr>\n    <tr>\n      <th>3</th>\n      <td>1004.0</td>\n      <td>2007-04</td>\n      <td>0</td>\n      <td>0</td>\n      <td>0</td>\n      <td>0</td>\n      <td>0</td>\n      <td>0</td>\n      <td>0</td>\n      <td>0</td>\n      <td>...</td>\n      <td>000361105</td>\n      <td>Industrial Machinery &amp; Goods</td>\n      <td>Resource Transformation</td>\n      <td>2007</td>\n      <td>3</td>\n      <td>38</td>\n      <td>3</td>\n      <td>3</td>\n      <td>25</td>\n      <td>25</td>\n    </tr>\n    <tr>\n      <th>4</th>\n      <td>1004.0</td>\n      <td>2007-05</td>\n      <td>0</td>\n      <td>0</td>\n      <td>0</td>\n      <td>0</td>\n      <td>0</td>\n      <td>0</td>\n      <td>0</td>\n      <td>0</td>\n      <td>...</td>\n      <td>000361105</td>\n      <td>Industrial Machinery &amp; Goods</td>\n      <td>Resource Transformation</td>\n      <td>2007</td>\n      <td>3</td>\n      <td>50</td>\n      <td>4</td>\n      <td>4</td>\n      <td>33</td>\n      <td>34</td>\n    </tr>\n    <tr>\n      <th>...</th>\n      <td>...</td>\n      <td>...</td>\n      <td>...</td>\n      <td>...</td>\n      <td>...</td>\n      <td>...</td>\n      <td>...</td>\n      <td>...</td>\n      <td>...</td>\n      <td>...</td>\n      <td>...</td>\n      <td>...</td>\n      <td>...</td>\n      <td>...</td>\n      <td>...</td>\n      <td>...</td>\n      <td>...</td>\n      <td>...</td>\n      <td>...</td>\n      <td>...</td>\n      <td>...</td>\n    </tr>\n    <tr>\n      <th>10543939</th>\n      <td>356128.0</td>\n      <td>2023-08</td>\n      <td>0</td>\n      <td>0</td>\n      <td>0</td>\n      <td>0</td>\n      <td>0</td>\n      <td>0</td>\n      <td>0</td>\n      <td>0</td>\n      <td>...</td>\n      <td>48581R205</td>\n      <td>Consumer Finance</td>\n      <td>Financials</td>\n      <td>2023</td>\n      <td>230</td>\n      <td>36</td>\n      <td>49</td>\n      <td>49</td>\n      <td>164</td>\n      <td>164</td>\n    </tr>\n    <tr>\n      <th>10543940</th>\n      <td>356128.0</td>\n      <td>2023-09</td>\n      <td>0</td>\n      <td>0</td>\n      <td>0</td>\n      <td>0</td>\n      <td>0</td>\n      <td>0</td>\n      <td>0</td>\n      <td>0</td>\n      <td>...</td>\n      <td>48581R205</td>\n      <td>Consumer Finance</td>\n      <td>Financials</td>\n      <td>2023</td>\n      <td>235</td>\n      <td>36</td>\n      <td>48</td>\n      <td>47</td>\n      <td>168</td>\n      <td>168</td>\n    </tr>\n    <tr>\n      <th>10543941</th>\n      <td>356128.0</td>\n      <td>2023-10</td>\n      <td>0</td>\n      <td>0</td>\n      <td>0</td>\n      <td>0</td>\n      <td>0</td>\n      <td>0</td>\n      <td>0</td>\n      <td>0</td>\n      <td>...</td>\n      <td>48581R205</td>\n      <td>Consumer Finance</td>\n      <td>Financials</td>\n      <td>2023</td>\n      <td>235</td>\n      <td>35</td>\n      <td>47</td>\n      <td>46</td>\n      <td>171</td>\n      <td>171</td>\n    </tr>\n    <tr>\n      <th>10543942</th>\n      <td>356128.0</td>\n      <td>2023-11</td>\n      <td>0</td>\n      <td>0</td>\n      <td>0</td>\n      <td>0</td>\n      <td>0</td>\n      <td>0</td>\n      <td>0</td>\n      <td>0</td>\n      <td>...</td>\n      <td>48581R205</td>\n      <td>Consumer Finance</td>\n      <td>Financials</td>\n      <td>2023</td>\n      <td>234</td>\n      <td>34</td>\n      <td>48</td>\n      <td>46</td>\n      <td>169</td>\n      <td>169</td>\n    </tr>\n    <tr>\n      <th>10543943</th>\n      <td>356128.0</td>\n      <td>2023-12</td>\n      <td>0</td>\n      <td>0</td>\n      <td>0</td>\n      <td>0</td>\n      <td>0</td>\n      <td>0</td>\n      <td>0</td>\n      <td>0</td>\n      <td>...</td>\n      <td>48581R205</td>\n      <td>Consumer Finance</td>\n      <td>Financials</td>\n      <td>2023</td>\n      <td>236</td>\n      <td>36</td>\n      <td>47</td>\n      <td>49</td>\n      <td>173</td>\n      <td>173</td>\n    </tr>\n  </tbody>\n</table>\n<p>2390472 rows × 24 columns</p>\n</div>"
     },
     "execution_count": 117,
     "metadata": {},
     "output_type": "execute_result"
    }
   ],
   "source": [
    "reprisk_merged['year'] = reprisk_merged['YearMonth'].dt.year\n",
    "agg_cols = [\n",
    "    'n_material_24m',\n",
    "    'n_nonmaterial_24m',\n",
    "    'n_car_1_material_24m',\n",
    "    'n_car_5_material_24m',\n",
    "    'n_reach_material_24m',\n",
    "    'n_severity_material_24m',\n",
    "]\n",
    "\n",
    "industry_col = 'SICS Codified Industry '  # use your exact column name\n",
    "ym_col = 'YearMonth'  # can be string or Period[M]\n",
    "\n",
    "# 1) Industry-level monthly counts (sum across firms)\n",
    "industry_counts = (\n",
    "    reprisk_merged.groupby([industry_col, ym_col], as_index=False)[agg_cols]\n",
    "    .sum(min_count=1)  # keeps NaN if an entire group/col is NaN\n",
    "    .rename(columns={c: f'industry_{c}' for c in agg_cols})\n",
    ")\n",
    "\n",
    "# 2) (Optional) merge back so each firm-month has the industry counts attached\n",
    "df_with_industry = reprisk_merged.merge(industry_counts, on=[industry_col, ym_col], how='left')\n",
    "df_with_industry.dropna(subset=['cusip'], inplace=True)\n",
    "df_with_industry"
   ],
   "metadata": {
    "collapsed": false,
    "ExecuteTime": {
     "end_time": "2025-10-24T16:08:02.843494100Z",
     "start_time": "2025-10-24T16:07:53.078409500Z"
    }
   }
  },
  {
   "cell_type": "code",
   "execution_count": 125,
   "outputs": [],
   "source": [
    "df_with_industry.to_csv('data/incidents_rolling_industry_all.csv', index=False)"
   ],
   "metadata": {
    "collapsed": false,
    "ExecuteTime": {
     "end_time": "2025-10-24T20:57:36.745022900Z",
     "start_time": "2025-10-24T20:57:13.259350Z"
    }
   }
  },
  {
   "cell_type": "code",
   "execution_count": 124,
   "outputs": [
    {
     "data": {
      "text/plain": "           n_material  n_nonmaterial  n_material_24m  n_nonmaterial_24m\nYearMonth                                                              \n2019-01           983            599           15522               8299\n2017-10           857            566           14263               8295\n2020-09           801            333           15990               8248\n2014-05           799            349           11220               5062\n2014-11           799            587           13182               6265\n...               ...            ...             ...                ...\n2007-09            60             65             581                349\n2007-03            58             38             133                 94\n2007-04            47             23             180                117\n2007-02            39             35              75                 56\n2007-01            36             21              36                 21\n\n[204 rows x 4 columns]",
      "text/html": "<div>\n<style scoped>\n    .dataframe tbody tr th:only-of-type {\n        vertical-align: middle;\n    }\n\n    .dataframe tbody tr th {\n        vertical-align: top;\n    }\n\n    .dataframe thead th {\n        text-align: right;\n    }\n</style>\n<table border=\"1\" class=\"dataframe\">\n  <thead>\n    <tr style=\"text-align: right;\">\n      <th></th>\n      <th>n_material</th>\n      <th>n_nonmaterial</th>\n      <th>n_material_24m</th>\n      <th>n_nonmaterial_24m</th>\n    </tr>\n    <tr>\n      <th>YearMonth</th>\n      <th></th>\n      <th></th>\n      <th></th>\n      <th></th>\n    </tr>\n  </thead>\n  <tbody>\n    <tr>\n      <th>2019-01</th>\n      <td>983</td>\n      <td>599</td>\n      <td>15522</td>\n      <td>8299</td>\n    </tr>\n    <tr>\n      <th>2017-10</th>\n      <td>857</td>\n      <td>566</td>\n      <td>14263</td>\n      <td>8295</td>\n    </tr>\n    <tr>\n      <th>2020-09</th>\n      <td>801</td>\n      <td>333</td>\n      <td>15990</td>\n      <td>8248</td>\n    </tr>\n    <tr>\n      <th>2014-05</th>\n      <td>799</td>\n      <td>349</td>\n      <td>11220</td>\n      <td>5062</td>\n    </tr>\n    <tr>\n      <th>2014-11</th>\n      <td>799</td>\n      <td>587</td>\n      <td>13182</td>\n      <td>6265</td>\n    </tr>\n    <tr>\n      <th>...</th>\n      <td>...</td>\n      <td>...</td>\n      <td>...</td>\n      <td>...</td>\n    </tr>\n    <tr>\n      <th>2007-09</th>\n      <td>60</td>\n      <td>65</td>\n      <td>581</td>\n      <td>349</td>\n    </tr>\n    <tr>\n      <th>2007-03</th>\n      <td>58</td>\n      <td>38</td>\n      <td>133</td>\n      <td>94</td>\n    </tr>\n    <tr>\n      <th>2007-04</th>\n      <td>47</td>\n      <td>23</td>\n      <td>180</td>\n      <td>117</td>\n    </tr>\n    <tr>\n      <th>2007-02</th>\n      <td>39</td>\n      <td>35</td>\n      <td>75</td>\n      <td>56</td>\n    </tr>\n    <tr>\n      <th>2007-01</th>\n      <td>36</td>\n      <td>21</td>\n      <td>36</td>\n      <td>21</td>\n    </tr>\n  </tbody>\n</table>\n<p>204 rows × 4 columns</p>\n</div>"
     },
     "execution_count": 124,
     "metadata": {},
     "output_type": "execute_result"
    }
   ],
   "source": [
    "df_with_industry.groupby('YearMonth')[['n_material', 'n_nonmaterial', 'n_material_24m', 'n_nonmaterial_24m']].sum().sort_values('n_material', ascending=False)"
   ],
   "metadata": {
    "collapsed": false,
    "ExecuteTime": {
     "end_time": "2025-10-24T16:23:46.758391300Z",
     "start_time": "2025-10-24T16:23:46.478658500Z"
    }
   }
  },
  {
   "cell_type": "code",
   "execution_count": 113,
   "outputs": [
    {
     "data": {
      "text/plain": "          SICS Codified Industry  YearMonth      mean  q20  q40  q60  q80  \\\n0         Advertising & Marketing   2007-01  0.000000  0.0  0.0  0.0  0.0   \n1         Advertising & Marketing   2007-02  0.000000  0.0  0.0  0.0  0.0   \n2         Advertising & Marketing   2007-03  0.000000  0.0  0.0  0.0  0.0   \n3         Advertising & Marketing   2007-04  0.000000  0.0  0.0  0.0  0.0   \n4         Advertising & Marketing   2007-05  0.000000  0.0  0.0  0.0  0.0   \n...                           ...       ...       ...  ...  ...  ...  ...   \n13867  Water Utilities & Services   2023-08  2.181818  0.0  0.0  0.0  2.0   \n13868  Water Utilities & Services   2023-09  2.136364  0.0  0.0  0.0  1.8   \n13869  Water Utilities & Services   2023-10  2.136364  0.0  0.0  0.0  1.0   \n13870  Water Utilities & Services   2023-11  1.954545  0.0  0.0  0.0  1.0   \n13871  Water Utilities & Services   2023-12  1.727273  0.0  0.0  0.0  0.8   \n\n       q90   n  \n0      0.0  16  \n1      0.0  16  \n2      0.0  16  \n3      0.0  16  \n4      0.0  16  \n...    ...  ..  \n13867  2.9  22  \n13868  2.9  22  \n13869  2.9  22  \n13870  2.0  22  \n13871  1.9  22  \n\n[13872 rows x 9 columns]",
      "text/html": "<div>\n<style scoped>\n    .dataframe tbody tr th:only-of-type {\n        vertical-align: middle;\n    }\n\n    .dataframe tbody tr th {\n        vertical-align: top;\n    }\n\n    .dataframe thead th {\n        text-align: right;\n    }\n</style>\n<table border=\"1\" class=\"dataframe\">\n  <thead>\n    <tr style=\"text-align: right;\">\n      <th></th>\n      <th>SICS Codified Industry</th>\n      <th>YearMonth</th>\n      <th>mean</th>\n      <th>q20</th>\n      <th>q40</th>\n      <th>q60</th>\n      <th>q80</th>\n      <th>q90</th>\n      <th>n</th>\n    </tr>\n  </thead>\n  <tbody>\n    <tr>\n      <th>0</th>\n      <td>Advertising &amp; Marketing</td>\n      <td>2007-01</td>\n      <td>0.000000</td>\n      <td>0.0</td>\n      <td>0.0</td>\n      <td>0.0</td>\n      <td>0.0</td>\n      <td>0.0</td>\n      <td>16</td>\n    </tr>\n    <tr>\n      <th>1</th>\n      <td>Advertising &amp; Marketing</td>\n      <td>2007-02</td>\n      <td>0.000000</td>\n      <td>0.0</td>\n      <td>0.0</td>\n      <td>0.0</td>\n      <td>0.0</td>\n      <td>0.0</td>\n      <td>16</td>\n    </tr>\n    <tr>\n      <th>2</th>\n      <td>Advertising &amp; Marketing</td>\n      <td>2007-03</td>\n      <td>0.000000</td>\n      <td>0.0</td>\n      <td>0.0</td>\n      <td>0.0</td>\n      <td>0.0</td>\n      <td>0.0</td>\n      <td>16</td>\n    </tr>\n    <tr>\n      <th>3</th>\n      <td>Advertising &amp; Marketing</td>\n      <td>2007-04</td>\n      <td>0.000000</td>\n      <td>0.0</td>\n      <td>0.0</td>\n      <td>0.0</td>\n      <td>0.0</td>\n      <td>0.0</td>\n      <td>16</td>\n    </tr>\n    <tr>\n      <th>4</th>\n      <td>Advertising &amp; Marketing</td>\n      <td>2007-05</td>\n      <td>0.000000</td>\n      <td>0.0</td>\n      <td>0.0</td>\n      <td>0.0</td>\n      <td>0.0</td>\n      <td>0.0</td>\n      <td>16</td>\n    </tr>\n    <tr>\n      <th>...</th>\n      <td>...</td>\n      <td>...</td>\n      <td>...</td>\n      <td>...</td>\n      <td>...</td>\n      <td>...</td>\n      <td>...</td>\n      <td>...</td>\n      <td>...</td>\n    </tr>\n    <tr>\n      <th>13867</th>\n      <td>Water Utilities &amp; Services</td>\n      <td>2023-08</td>\n      <td>2.181818</td>\n      <td>0.0</td>\n      <td>0.0</td>\n      <td>0.0</td>\n      <td>2.0</td>\n      <td>2.9</td>\n      <td>22</td>\n    </tr>\n    <tr>\n      <th>13868</th>\n      <td>Water Utilities &amp; Services</td>\n      <td>2023-09</td>\n      <td>2.136364</td>\n      <td>0.0</td>\n      <td>0.0</td>\n      <td>0.0</td>\n      <td>1.8</td>\n      <td>2.9</td>\n      <td>22</td>\n    </tr>\n    <tr>\n      <th>13869</th>\n      <td>Water Utilities &amp; Services</td>\n      <td>2023-10</td>\n      <td>2.136364</td>\n      <td>0.0</td>\n      <td>0.0</td>\n      <td>0.0</td>\n      <td>1.0</td>\n      <td>2.9</td>\n      <td>22</td>\n    </tr>\n    <tr>\n      <th>13870</th>\n      <td>Water Utilities &amp; Services</td>\n      <td>2023-11</td>\n      <td>1.954545</td>\n      <td>0.0</td>\n      <td>0.0</td>\n      <td>0.0</td>\n      <td>1.0</td>\n      <td>2.0</td>\n      <td>22</td>\n    </tr>\n    <tr>\n      <th>13871</th>\n      <td>Water Utilities &amp; Services</td>\n      <td>2023-12</td>\n      <td>1.727273</td>\n      <td>0.0</td>\n      <td>0.0</td>\n      <td>0.0</td>\n      <td>0.8</td>\n      <td>1.9</td>\n      <td>22</td>\n    </tr>\n  </tbody>\n</table>\n<p>13872 rows × 9 columns</p>\n</div>"
     },
     "execution_count": 113,
     "metadata": {},
     "output_type": "execute_result"
    }
   ],
   "source": [
    "df_with_industry.groupby(['SICS Codified Industry ', 'YearMonth'])['n_car_1_material_24m'].agg(\n",
    "        mean='mean',\n",
    "        q20=lambda s: s.quantile(0.20),\n",
    "        q40=lambda s: s.quantile(0.40),\n",
    "        q60=lambda s: s.quantile(0.60),\n",
    "        q80=lambda s: s.quantile(0.80),\n",
    "        q90=lambda s: s.quantile(0.90),\n",
    "        n='count'\n",
    "    ).reset_index()"
   ],
   "metadata": {
    "collapsed": false,
    "ExecuteTime": {
     "end_time": "2025-10-24T15:38:12.876666400Z",
     "start_time": "2025-10-24T15:37:43.841284600Z"
    }
   }
  },
  {
   "cell_type": "code",
   "execution_count": 114,
   "outputs": [
    {
     "data": {
      "text/plain": "          SICS Codified Industry  YearMonth   mean    q20    q40    q60  \\\n0         Advertising & Marketing   2007-01    0.0    0.0    0.0    0.0   \n1         Advertising & Marketing   2007-02    0.0    0.0    0.0    0.0   \n2         Advertising & Marketing   2007-03    0.0    0.0    0.0    0.0   \n3         Advertising & Marketing   2007-04    0.0    0.0    0.0    0.0   \n4         Advertising & Marketing   2007-05    0.0    0.0    0.0    0.0   \n...                           ...       ...    ...    ...    ...    ...   \n13867  Water Utilities & Services   2023-08  107.0  107.0  107.0  107.0   \n13868  Water Utilities & Services   2023-09  104.0  104.0  104.0  104.0   \n13869  Water Utilities & Services   2023-10  100.0  100.0  100.0  100.0   \n13870  Water Utilities & Services   2023-11   93.0   93.0   93.0   93.0   \n13871  Water Utilities & Services   2023-12   82.0   82.0   82.0   82.0   \n\n         q80    q90   n  \n0        0.0    0.0  16  \n1        0.0    0.0  16  \n2        0.0    0.0  16  \n3        0.0    0.0  16  \n4        0.0    0.0  16  \n...      ...    ...  ..  \n13867  107.0  107.0  22  \n13868  104.0  104.0  22  \n13869  100.0  100.0  22  \n13870   93.0   93.0  22  \n13871   82.0   82.0  22  \n\n[13872 rows x 9 columns]",
      "text/html": "<div>\n<style scoped>\n    .dataframe tbody tr th:only-of-type {\n        vertical-align: middle;\n    }\n\n    .dataframe tbody tr th {\n        vertical-align: top;\n    }\n\n    .dataframe thead th {\n        text-align: right;\n    }\n</style>\n<table border=\"1\" class=\"dataframe\">\n  <thead>\n    <tr style=\"text-align: right;\">\n      <th></th>\n      <th>SICS Codified Industry</th>\n      <th>YearMonth</th>\n      <th>mean</th>\n      <th>q20</th>\n      <th>q40</th>\n      <th>q60</th>\n      <th>q80</th>\n      <th>q90</th>\n      <th>n</th>\n    </tr>\n  </thead>\n  <tbody>\n    <tr>\n      <th>0</th>\n      <td>Advertising &amp; Marketing</td>\n      <td>2007-01</td>\n      <td>0.0</td>\n      <td>0.0</td>\n      <td>0.0</td>\n      <td>0.0</td>\n      <td>0.0</td>\n      <td>0.0</td>\n      <td>16</td>\n    </tr>\n    <tr>\n      <th>1</th>\n      <td>Advertising &amp; Marketing</td>\n      <td>2007-02</td>\n      <td>0.0</td>\n      <td>0.0</td>\n      <td>0.0</td>\n      <td>0.0</td>\n      <td>0.0</td>\n      <td>0.0</td>\n      <td>16</td>\n    </tr>\n    <tr>\n      <th>2</th>\n      <td>Advertising &amp; Marketing</td>\n      <td>2007-03</td>\n      <td>0.0</td>\n      <td>0.0</td>\n      <td>0.0</td>\n      <td>0.0</td>\n      <td>0.0</td>\n      <td>0.0</td>\n      <td>16</td>\n    </tr>\n    <tr>\n      <th>3</th>\n      <td>Advertising &amp; Marketing</td>\n      <td>2007-04</td>\n      <td>0.0</td>\n      <td>0.0</td>\n      <td>0.0</td>\n      <td>0.0</td>\n      <td>0.0</td>\n      <td>0.0</td>\n      <td>16</td>\n    </tr>\n    <tr>\n      <th>4</th>\n      <td>Advertising &amp; Marketing</td>\n      <td>2007-05</td>\n      <td>0.0</td>\n      <td>0.0</td>\n      <td>0.0</td>\n      <td>0.0</td>\n      <td>0.0</td>\n      <td>0.0</td>\n      <td>16</td>\n    </tr>\n    <tr>\n      <th>...</th>\n      <td>...</td>\n      <td>...</td>\n      <td>...</td>\n      <td>...</td>\n      <td>...</td>\n      <td>...</td>\n      <td>...</td>\n      <td>...</td>\n      <td>...</td>\n    </tr>\n    <tr>\n      <th>13867</th>\n      <td>Water Utilities &amp; Services</td>\n      <td>2023-08</td>\n      <td>107.0</td>\n      <td>107.0</td>\n      <td>107.0</td>\n      <td>107.0</td>\n      <td>107.0</td>\n      <td>107.0</td>\n      <td>22</td>\n    </tr>\n    <tr>\n      <th>13868</th>\n      <td>Water Utilities &amp; Services</td>\n      <td>2023-09</td>\n      <td>104.0</td>\n      <td>104.0</td>\n      <td>104.0</td>\n      <td>104.0</td>\n      <td>104.0</td>\n      <td>104.0</td>\n      <td>22</td>\n    </tr>\n    <tr>\n      <th>13869</th>\n      <td>Water Utilities &amp; Services</td>\n      <td>2023-10</td>\n      <td>100.0</td>\n      <td>100.0</td>\n      <td>100.0</td>\n      <td>100.0</td>\n      <td>100.0</td>\n      <td>100.0</td>\n      <td>22</td>\n    </tr>\n    <tr>\n      <th>13870</th>\n      <td>Water Utilities &amp; Services</td>\n      <td>2023-11</td>\n      <td>93.0</td>\n      <td>93.0</td>\n      <td>93.0</td>\n      <td>93.0</td>\n      <td>93.0</td>\n      <td>93.0</td>\n      <td>22</td>\n    </tr>\n    <tr>\n      <th>13871</th>\n      <td>Water Utilities &amp; Services</td>\n      <td>2023-12</td>\n      <td>82.0</td>\n      <td>82.0</td>\n      <td>82.0</td>\n      <td>82.0</td>\n      <td>82.0</td>\n      <td>82.0</td>\n      <td>22</td>\n    </tr>\n  </tbody>\n</table>\n<p>13872 rows × 9 columns</p>\n</div>"
     },
     "execution_count": 114,
     "metadata": {},
     "output_type": "execute_result"
    }
   ],
   "source": [
    "df_with_industry.groupby(['SICS Codified Industry ', 'YearMonth'])['industry_n_car_1_material_24m'].agg(\n",
    "        mean='mean',\n",
    "        q20=lambda s: s.quantile(0.20),\n",
    "        q40=lambda s: s.quantile(0.40),\n",
    "        q60=lambda s: s.quantile(0.60),\n",
    "        q80=lambda s: s.quantile(0.80),\n",
    "        q90=lambda s: s.quantile(0.90),\n",
    "        n='count'\n",
    "    ).reset_index()"
   ],
   "metadata": {
    "collapsed": false,
    "ExecuteTime": {
     "end_time": "2025-10-24T15:51:56.789376900Z",
     "start_time": "2025-10-24T15:51:24.397378100Z"
    }
   }
  },
  {
   "cell_type": "markdown",
   "source": [
    "# 2. Merge financials"
   ],
   "metadata": {
    "collapsed": false
   }
  },
  {
   "cell_type": "code",
   "execution_count": 126,
   "outputs": [],
   "source": [
    "reprisk_merged_yearly = pd.read_csv('data/incidents_rolling_industry_all.csv')"
   ],
   "metadata": {
    "collapsed": false,
    "ExecuteTime": {
     "end_time": "2025-10-24T20:58:03.713678500Z",
     "start_time": "2025-10-24T20:57:52.749114300Z"
    }
   }
  },
  {
   "cell_type": "code",
   "execution_count": 127,
   "outputs": [],
   "source": [
    "reprisk_merged_yearly['YearQuarter'] = pd.to_datetime(reprisk_merged_yearly['YearMonth']).dt.to_period('Q')\n",
    "reprisk_merged_yearly['YearQuarter_prior'] = reprisk_merged_yearly['YearQuarter'] - 1\n",
    "reprisk_merged_yearly['YearQuarter_prior'] = reprisk_merged_yearly['YearQuarter_prior'].astype(str)"
   ],
   "metadata": {
    "collapsed": false,
    "ExecuteTime": {
     "end_time": "2025-10-24T20:58:16.698533700Z",
     "start_time": "2025-10-24T20:58:14.931792Z"
    }
   }
  },
  {
   "cell_type": "code",
   "execution_count": 128,
   "outputs": [
    {
     "name": "stdout",
     "output_type": "stream",
     "text": [
      "Loading library list...\n",
      "Done\n"
     ]
    }
   ],
   "source": [
    "import wrds\n",
    "from pathlib import Path\n",
    "from dotenv import load_dotenv\n",
    "import os\n",
    "\n",
    "project_root = Path(r\"E:\\GermanBusinessPanelTeam\\Schrader\\Forschung\\ESGmateriality\")\n",
    "\n",
    "# ── Load WRDS creds from wrds.env in the project root ─────────────────────────\n",
    "env_path = project_root / \"wrds.env\"\n",
    "load_dotenv(dotenv_path=env_path)\n",
    "# ── Connect to WRDS ───────────────────────────────────────────────────────────\n",
    "db = wrds.Connection(\n",
    "    wrds_username=os.getenv(\"WRDS_YALE_USERNAME\"),\n",
    "    wrds_password=os.getenv(\"WRDS_YALE_PASSWORD\")\n",
    ")"
   ],
   "metadata": {
    "collapsed": false,
    "ExecuteTime": {
     "end_time": "2025-10-24T20:58:31.263733500Z",
     "start_time": "2025-10-24T20:58:28.430670400Z"
    }
   }
  },
  {
   "cell_type": "code",
   "execution_count": 129,
   "outputs": [],
   "source": [
    "# ---------- tiny helper: keys + single Compustat QUARTERLY pull ----------\n",
    "\n",
    "def _parse_yearquarter(s):\n",
    "    \"\"\"\n",
    "    Accepts strings like '2022Q3', '2022-Q3', '2022 Q3', Periods, or timestamps.\n",
    "    Returns a pandas.Period (freq='Q-DEC').\n",
    "    \"\"\"\n",
    "    if pd.isna(s):\n",
    "        return pd.NaT\n",
    "    if isinstance(s, pd.Period):\n",
    "        return s.asfreq('Q-DEC')\n",
    "    s = str(s).strip().upper().replace('-', '').replace(' ', '')\n",
    "    if 'Q' in s:\n",
    "        y, q = s.split('Q', 1)\n",
    "        return pd.Period(year=int(y), quarter=int(q), freq='Q-DEC')\n",
    "    try:\n",
    "        dt = pd.to_datetime(s, errors='raise')\n",
    "        return dt.to_period('Q-DEC')\n",
    "    except Exception:\n",
    "        return pd.NaT"
   ],
   "metadata": {
    "collapsed": false,
    "ExecuteTime": {
     "end_time": "2025-10-24T20:58:31.263733500Z",
     "start_time": "2025-10-24T20:58:31.245983300Z"
    }
   }
  },
  {
   "cell_type": "code",
   "execution_count": 130,
   "outputs": [],
   "source": [
    "def _keys(df):\n",
    "    \"\"\"\n",
    "    For quarterly pulls:\n",
    "      - expects columns ['gvkey', 'YearQuarter_prior'] (e.g., '2024Q3')\n",
    "      - returns distinct gvkey + quarter keys, also provides 'year' and 'quarter'\n",
    "    \"\"\"\n",
    "    out = (df[['gvkey', 'YearQuarter_prior']].dropna()\n",
    "           .assign(\n",
    "        gvkey=lambda d: d['gvkey'].astype(str).str.replace(r'\\.0$', '', regex=True).str.zfill(6),\n",
    "        qtr=lambda d: d['YearQuarter_prior'].map(_parse_yearquarter))\n",
    "           .dropna(subset=['qtr'])\n",
    "           .drop_duplicates())\n",
    "    out['year'] = out['qtr'].dt.year.astype(int)\n",
    "    out['quarter'] = out['qtr'].dt.quarter.astype(int)\n",
    "    return out[['gvkey', 'qtr', 'year', 'quarter']]"
   ],
   "metadata": {
    "collapsed": false,
    "ExecuteTime": {
     "end_time": "2025-10-24T20:58:31.279156100Z",
     "start_time": "2025-10-24T20:58:31.252029800Z"
    }
   }
  },
  {
   "cell_type": "code",
   "execution_count": 131,
   "outputs": [],
   "source": [
    "def _pull_compustat_quarterly(db, keys):\n",
    "    \"\"\"\n",
    "    Pull ONLY the variables needed for:\n",
    "      - Market cap / Size: prccq, cshoq\n",
    "      - ROA: ibq, atq\n",
    "      - Leverage: ltq, atq\n",
    "      - Book-to-Market: seqq, ceqq, pstkq, txditcq\n",
    "\n",
    "    Returns compq with calendar quarter fields and a normalized join key (gvkey_norm).\n",
    "    \"\"\"\n",
    "\n",
    "\n",
    "    if keys.empty:\n",
    "        return pd.DataFrame(columns=[\n",
    "            'gvkey', 'datadate', 'prccq', 'cshoq', 'ibq', 'atq', 'ltq', 'seqq', 'ceqq', 'pstkq', 'txditcq',\n",
    "            'calyear', 'calqtr', 'calyrqtr', 'gvkey_norm'\n",
    "        ])\n",
    "\n",
    "    # window: from (min quarter - 1) to max quarter (safe & small)\n",
    "    min_q = (keys['qtr'].min() - 1)\n",
    "    max_q = keys['qtr'].max()\n",
    "    start_date = min_q.asfreq('Q-DEC').to_timestamp(how='end').normalize()\n",
    "    end_date = max_q.asfreq('Q-DEC').to_timestamp(how='end').normalize()\n",
    "\n",
    "    gvkeys = tuple(keys['gvkey'].unique().tolist())  # already normalized in _keys()\n",
    "\n",
    "    compq = db.raw_sql(\"\"\"\n",
    "        SELECT gvkey, datadate,\n",
    "               prccq, cshoq,           -- market cap\n",
    "               ibq, atq,               -- ROA\n",
    "               ltq,                    -- leverage\n",
    "               seqq, ceqq, pstkq, txditcq  -- book equity pieces\n",
    "        FROM comp.fundq\n",
    "        WHERE indfmt='INDL' AND datafmt='STD' AND consol='C'\n",
    "          AND gvkey IN %(g)s\n",
    "          AND datadate BETWEEN %(a)s AND %(b)s\n",
    "    \"\"\", params={\n",
    "        \"g\": gvkeys,\n",
    "        \"a\": pd.Timestamp(start_date),\n",
    "        \"b\": pd.Timestamp(end_date)\n",
    "    }, date_cols=['datadate'])\n",
    "\n",
    "    if compq.empty:\n",
    "        return pd.DataFrame(columns=[\n",
    "            'gvkey', 'datadate', 'prccq', 'cshoq', 'ibq', 'atq', 'ltq', 'seqq', 'ceqq', 'pstkq', 'txditcq',\n",
    "            'calyear', 'calqtr', 'calyrqtr', 'gvkey_norm'\n",
    "        ])\n",
    "\n",
    "    # calendar fields + normalized gvkey (for joining)\n",
    "    compq['datadate'] = pd.to_datetime(compq['datadate'])\n",
    "    compq['calyear'] = compq['datadate'].dt.year.astype('Int64')\n",
    "    compq['calqtr'] = compq['datadate'].dt.quarter.astype('Int64')\n",
    "    compq['calyrqtr'] = compq['calyear'].astype(str) + 'Q' + compq['calqtr'].astype(str)\n",
    "    compq['gvkey_norm'] = compq['gvkey'].astype(str).str.replace(r'\\.0$', '', regex=True).str.zfill(6)\n",
    "    return compq"
   ],
   "metadata": {
    "collapsed": false,
    "ExecuteTime": {
     "end_time": "2025-10-24T20:58:31.279156100Z",
     "start_time": "2025-10-24T20:58:31.279156100Z"
    }
   }
  },
  {
   "cell_type": "code",
   "execution_count": 132,
   "outputs": [],
   "source": [
    "# --- collapse comp.fundq to one row per (gvkey, quarter) and compute ratios ---\n",
    "def _compute_quarterly_metrics(compq: pd.DataFrame) -> pd.DataFrame:\n",
    "    if compq.empty:\n",
    "        return pd.DataFrame(columns=['gvkey_norm', 'calyrqtr', 'size', 'roa_q', 'lev_q', 'bm_q'])\n",
    "\n",
    "    compq = (compq.sort_values(['gvkey_norm', 'calyrqtr', 'datadate'])\n",
    "             .drop_duplicates(['gvkey_norm', 'calyrqtr'], keep='last')).copy()\n",
    "\n",
    "    # to numeric Series\n",
    "    prccq = pd.to_numeric(compq['prccq'], errors='coerce')\n",
    "    cshoq = pd.to_numeric(compq['cshoq'], errors='coerce')\n",
    "    ibq = pd.to_numeric(compq['ibq'], errors='coerce')\n",
    "    atq = pd.to_numeric(compq['atq'], errors='coerce')\n",
    "    ltq = pd.to_numeric(compq['ltq'], errors='coerce')\n",
    "    seqq = pd.to_numeric(compq['seqq'], errors='coerce')\n",
    "    ceqq = pd.to_numeric(compq['ceqq'], errors='coerce')\n",
    "    pstkq = pd.to_numeric(compq['pstkq'], errors='coerce')\n",
    "    txditcq = pd.to_numeric(compq['txditcq'], errors='coerce')\n",
    "\n",
    "    # numpy views (avoid masked ufunc path)\n",
    "    prc = prccq.to_numpy(dtype='float64')\n",
    "    csho = cshoq.to_numpy(dtype='float64')\n",
    "    ib = ibq.to_numpy(dtype='float64')\n",
    "    at = atq.to_numpy(dtype='float64')\n",
    "    lt = ltq.to_numpy(dtype='float64')\n",
    "    seq = seqq.to_numpy(dtype='float64')\n",
    "    ceq = ceqq.to_numpy(dtype='float64')\n",
    "    pstk = pstkq.to_numpy(dtype='float64')\n",
    "    txd = txditcq.to_numpy(dtype='float64')\n",
    "\n",
    "    # market cap\n",
    "    mktcap = prc * csho\n",
    "\n",
    "    # size = ln(mktcap) only if mktcap > 0\n",
    "    size = np.where(mktcap > 0, np.log(mktcap), np.nan)\n",
    "\n",
    "    # ROA and Leverage: safe divisions\n",
    "    roa_q = np.divide(ib, at, out=np.full_like(at, np.nan), where=(at != 0) & ~np.isnan(at))\n",
    "    lev_q = np.divide(lt, at, out=np.full_like(at, np.nan), where=(at != 0) & ~np.isnan(at))\n",
    "\n",
    "    # Book equity: BE = (SEQ if present else CEQ) + TXDITCQ − PSTKQ\n",
    "    seq_filled = np.where(~np.isnan(seq), seq, ceq)\n",
    "    be = seq_filled + txd - pstk\n",
    "\n",
    "    # Book-to-Market: only if mktcap > 0\n",
    "    bm_q = np.divide(be, mktcap, out=np.full_like(mktcap, np.nan), where=(mktcap > 0) & ~np.isnan(mktcap))\n",
    "\n",
    "    return pd.DataFrame({\n",
    "        'gvkey_norm': compq['gvkey_norm'].values,\n",
    "        'calyrqtr': compq['calyrqtr'].values,\n",
    "        'size': size,\n",
    "        'roa_q': roa_q,\n",
    "        'lev_q': lev_q,\n",
    "        'bm_q': bm_q\n",
    "    })"
   ],
   "metadata": {
    "collapsed": false,
    "ExecuteTime": {
     "end_time": "2025-10-24T20:58:31.369838700Z",
     "start_time": "2025-10-24T20:58:31.279156100Z"
    }
   }
  },
  {
   "cell_type": "code",
   "execution_count": 133,
   "outputs": [],
   "source": [
    "# --- build mapping (gvkey_norm, YearQuarter_prior) -> metrics ---\n",
    "def _get_quarterly_metrics_map(db, df_quarterly: pd.DataFrame) -> pd.DataFrame:\n",
    "    # keys with normalized gvkey + Period quarter (used for pull)\n",
    "    k0 = _keys(df_quarterly)\n",
    "    if k0.empty:\n",
    "        return pd.DataFrame(columns=['gvkey_norm', 'YearQuarter_prior', 'size', 'roa_q', 'lev_q', 'bm_q'])\n",
    "\n",
    "    # pull only once over the window\n",
    "    compq = _pull_compustat_quarterly(db, k0)\n",
    "\n",
    "    # compute metrics at (gvkey_norm, calyrqtr)\n",
    "    metrics = _compute_quarterly_metrics(compq)\n",
    "\n",
    "    # make left-side merge keys from k0 (string quarter like '2007Q1')\n",
    "    left_keys = (k0.assign(\n",
    "        YearQuarter_prior=k0['qtr'].astype(str),\n",
    "        calyrqtr=k0['qtr'].dt.year.astype(str) + 'Q' + k0['qtr'].dt.quarter.astype(str),\n",
    "        gvkey_norm=k0['gvkey'])\n",
    "                 [['gvkey_norm', 'YearQuarter_prior', 'calyrqtr']].drop_duplicates()\n",
    "                 )\n",
    "\n",
    "    # map metrics to (gvkey_norm, YearQuarter_prior)\n",
    "    out = left_keys.merge(metrics, on=['gvkey_norm', 'calyrqtr'], how='left')\n",
    "    return out[['gvkey_norm', 'YearQuarter_prior', 'size', 'roa_q', 'lev_q', 'bm_q']]\n"
   ],
   "metadata": {
    "collapsed": false,
    "ExecuteTime": {
     "end_time": "2025-10-24T20:58:31.401090100Z",
     "start_time": "2025-10-24T20:58:31.294655500Z"
    }
   }
  },
  {
   "cell_type": "code",
   "execution_count": 134,
   "outputs": [],
   "source": [
    "# --- add quarterly metrics back to your original dataframe ---\n",
    "def add_quarterly_metrics(db, reprisk_merged_quarterly: pd.DataFrame) -> pd.DataFrame:\n",
    "    df = reprisk_merged_quarterly.copy()\n",
    "\n",
    "    # temp normalized key for joining (same as _keys)\n",
    "    df['gvkey_norm'] = df['gvkey'].astype(str).str.replace(r'\\.0$', '', regex=True).str.zfill(6)\n",
    "\n",
    "    metrics_map = _get_quarterly_metrics_map(db, df)\n",
    "\n",
    "    out = df.merge(metrics_map,\n",
    "                   on=['gvkey_norm', 'YearQuarter_prior'],\n",
    "                   how='left')\n",
    "\n",
    "    return out.drop(columns=['gvkey_norm'])"
   ],
   "metadata": {
    "collapsed": false,
    "ExecuteTime": {
     "end_time": "2025-10-24T20:58:31.401090100Z",
     "start_time": "2025-10-24T20:58:31.298290500Z"
    }
   }
  },
  {
   "cell_type": "code",
   "execution_count": 135,
   "outputs": [
    {
     "name": "stderr",
     "output_type": "stream",
     "text": [
      "C:\\Users\\PascalSchrader.WIN-T1MVMVKE25U.000\\AppData\\Local\\Temp\\9\\ipykernel_74912\\3559760879.py:35: RuntimeWarning: divide by zero encountered in log\n",
      "  size = np.where(mktcap > 0, np.log(mktcap), np.nan)\n"
     ]
    },
    {
     "data": {
      "text/plain": "            gvkey YearMonth  n_material  n_nonmaterial  n_car_1_material  \\\n0          1004.0   2007-01           0              0                 0   \n1          1004.0   2007-02           0              0                 0   \n2          1004.0   2007-03           0              0                 0   \n3          1004.0   2007-04           0              0                 0   \n4          1004.0   2007-05           0              0                 0   \n...           ...       ...         ...            ...               ...   \n2390467  356128.0   2023-08           0              0                 0   \n2390468  356128.0   2023-09           0              0                 0   \n2390469  356128.0   2023-10           0              0                 0   \n2390470  356128.0   2023-11           0              0                 0   \n2390471  356128.0   2023-12           0              0                 0   \n\n         n_car_5_material  n_reach_material  n_severity_material  \\\n0                       0                 0                    0   \n1                       0                 0                    0   \n2                       0                 0                    0   \n3                       0                 0                    0   \n4                       0                 0                    0   \n...                   ...               ...                  ...   \n2390467                 0                 0                    0   \n2390468                 0                 0                    0   \n2390469                 0                 0                    0   \n2390470                 0                 0                    0   \n2390471                 0                 0                    0   \n\n         n_material_24m  n_nonmaterial_24m  ...  \\\n0                     0                  0  ...   \n1                     0                  0  ...   \n2                     0                  0  ...   \n3                     0                  0  ...   \n4                     0                  0  ...   \n...                 ...                ...  ...   \n2390467               0                  0  ...   \n2390468               0                  0  ...   \n2390469               0                  0  ...   \n2390470               0                  0  ...   \n2390471               0                  0  ...   \n\n         industry_n_car_1_material_24m  industry_n_car_5_material_24m  \\\n0                                    0                              0   \n1                                    2                              2   \n2                                    3                              3   \n3                                    3                              3   \n4                                    4                              4   \n...                                ...                            ...   \n2390467                             49                             49   \n2390468                             48                             47   \n2390469                             47                             46   \n2390470                             48                             46   \n2390471                             47                             49   \n\n         industry_n_reach_material_24m  industry_n_severity_material_24m  \\\n0                                    5                                 5   \n1                                   12                                12   \n2                                   18                                18   \n3                                   25                                25   \n4                                   33                                34   \n...                                ...                               ...   \n2390467                            164                               164   \n2390468                            168                               168   \n2390469                            171                               171   \n2390470                            169                               169   \n2390471                            173                               173   \n\n        YearQuarter YearQuarter_prior      size     roa_q     lev_q      bm_q  \n0            2007Q1            2006Q4  6.889099  0.013968  0.549214  0.495846  \n1            2007Q1            2006Q4  6.889099  0.013968  0.549214  0.495846  \n2            2007Q1            2006Q4  6.889099  0.013968  0.549214  0.495846  \n3            2007Q2            2007Q1  6.987112  0.015352  0.535340  0.468633  \n4            2007Q2            2007Q1  6.987112  0.015352  0.535340  0.468633  \n...             ...               ...       ...       ...       ...       ...  \n2390467      2023Q3            2023Q2       NaN       NaN       NaN       NaN  \n2390468      2023Q3            2023Q2       NaN       NaN       NaN       NaN  \n2390469      2023Q4            2023Q3  9.846527  0.034406  0.833953       NaN  \n2390470      2023Q4            2023Q3  9.846527  0.034406  0.833953       NaN  \n2390471      2023Q4            2023Q3  9.846527  0.034406  0.833953       NaN  \n\n[2390472 rows x 30 columns]",
      "text/html": "<div>\n<style scoped>\n    .dataframe tbody tr th:only-of-type {\n        vertical-align: middle;\n    }\n\n    .dataframe tbody tr th {\n        vertical-align: top;\n    }\n\n    .dataframe thead th {\n        text-align: right;\n    }\n</style>\n<table border=\"1\" class=\"dataframe\">\n  <thead>\n    <tr style=\"text-align: right;\">\n      <th></th>\n      <th>gvkey</th>\n      <th>YearMonth</th>\n      <th>n_material</th>\n      <th>n_nonmaterial</th>\n      <th>n_car_1_material</th>\n      <th>n_car_5_material</th>\n      <th>n_reach_material</th>\n      <th>n_severity_material</th>\n      <th>n_material_24m</th>\n      <th>n_nonmaterial_24m</th>\n      <th>...</th>\n      <th>industry_n_car_1_material_24m</th>\n      <th>industry_n_car_5_material_24m</th>\n      <th>industry_n_reach_material_24m</th>\n      <th>industry_n_severity_material_24m</th>\n      <th>YearQuarter</th>\n      <th>YearQuarter_prior</th>\n      <th>size</th>\n      <th>roa_q</th>\n      <th>lev_q</th>\n      <th>bm_q</th>\n    </tr>\n  </thead>\n  <tbody>\n    <tr>\n      <th>0</th>\n      <td>1004.0</td>\n      <td>2007-01</td>\n      <td>0</td>\n      <td>0</td>\n      <td>0</td>\n      <td>0</td>\n      <td>0</td>\n      <td>0</td>\n      <td>0</td>\n      <td>0</td>\n      <td>...</td>\n      <td>0</td>\n      <td>0</td>\n      <td>5</td>\n      <td>5</td>\n      <td>2007Q1</td>\n      <td>2006Q4</td>\n      <td>6.889099</td>\n      <td>0.013968</td>\n      <td>0.549214</td>\n      <td>0.495846</td>\n    </tr>\n    <tr>\n      <th>1</th>\n      <td>1004.0</td>\n      <td>2007-02</td>\n      <td>0</td>\n      <td>0</td>\n      <td>0</td>\n      <td>0</td>\n      <td>0</td>\n      <td>0</td>\n      <td>0</td>\n      <td>0</td>\n      <td>...</td>\n      <td>2</td>\n      <td>2</td>\n      <td>12</td>\n      <td>12</td>\n      <td>2007Q1</td>\n      <td>2006Q4</td>\n      <td>6.889099</td>\n      <td>0.013968</td>\n      <td>0.549214</td>\n      <td>0.495846</td>\n    </tr>\n    <tr>\n      <th>2</th>\n      <td>1004.0</td>\n      <td>2007-03</td>\n      <td>0</td>\n      <td>0</td>\n      <td>0</td>\n      <td>0</td>\n      <td>0</td>\n      <td>0</td>\n      <td>0</td>\n      <td>0</td>\n      <td>...</td>\n      <td>3</td>\n      <td>3</td>\n      <td>18</td>\n      <td>18</td>\n      <td>2007Q1</td>\n      <td>2006Q4</td>\n      <td>6.889099</td>\n      <td>0.013968</td>\n      <td>0.549214</td>\n      <td>0.495846</td>\n    </tr>\n    <tr>\n      <th>3</th>\n      <td>1004.0</td>\n      <td>2007-04</td>\n      <td>0</td>\n      <td>0</td>\n      <td>0</td>\n      <td>0</td>\n      <td>0</td>\n      <td>0</td>\n      <td>0</td>\n      <td>0</td>\n      <td>...</td>\n      <td>3</td>\n      <td>3</td>\n      <td>25</td>\n      <td>25</td>\n      <td>2007Q2</td>\n      <td>2007Q1</td>\n      <td>6.987112</td>\n      <td>0.015352</td>\n      <td>0.535340</td>\n      <td>0.468633</td>\n    </tr>\n    <tr>\n      <th>4</th>\n      <td>1004.0</td>\n      <td>2007-05</td>\n      <td>0</td>\n      <td>0</td>\n      <td>0</td>\n      <td>0</td>\n      <td>0</td>\n      <td>0</td>\n      <td>0</td>\n      <td>0</td>\n      <td>...</td>\n      <td>4</td>\n      <td>4</td>\n      <td>33</td>\n      <td>34</td>\n      <td>2007Q2</td>\n      <td>2007Q1</td>\n      <td>6.987112</td>\n      <td>0.015352</td>\n      <td>0.535340</td>\n      <td>0.468633</td>\n    </tr>\n    <tr>\n      <th>...</th>\n      <td>...</td>\n      <td>...</td>\n      <td>...</td>\n      <td>...</td>\n      <td>...</td>\n      <td>...</td>\n      <td>...</td>\n      <td>...</td>\n      <td>...</td>\n      <td>...</td>\n      <td>...</td>\n      <td>...</td>\n      <td>...</td>\n      <td>...</td>\n      <td>...</td>\n      <td>...</td>\n      <td>...</td>\n      <td>...</td>\n      <td>...</td>\n      <td>...</td>\n      <td>...</td>\n    </tr>\n    <tr>\n      <th>2390467</th>\n      <td>356128.0</td>\n      <td>2023-08</td>\n      <td>0</td>\n      <td>0</td>\n      <td>0</td>\n      <td>0</td>\n      <td>0</td>\n      <td>0</td>\n      <td>0</td>\n      <td>0</td>\n      <td>...</td>\n      <td>49</td>\n      <td>49</td>\n      <td>164</td>\n      <td>164</td>\n      <td>2023Q3</td>\n      <td>2023Q2</td>\n      <td>NaN</td>\n      <td>NaN</td>\n      <td>NaN</td>\n      <td>NaN</td>\n    </tr>\n    <tr>\n      <th>2390468</th>\n      <td>356128.0</td>\n      <td>2023-09</td>\n      <td>0</td>\n      <td>0</td>\n      <td>0</td>\n      <td>0</td>\n      <td>0</td>\n      <td>0</td>\n      <td>0</td>\n      <td>0</td>\n      <td>...</td>\n      <td>48</td>\n      <td>47</td>\n      <td>168</td>\n      <td>168</td>\n      <td>2023Q3</td>\n      <td>2023Q2</td>\n      <td>NaN</td>\n      <td>NaN</td>\n      <td>NaN</td>\n      <td>NaN</td>\n    </tr>\n    <tr>\n      <th>2390469</th>\n      <td>356128.0</td>\n      <td>2023-10</td>\n      <td>0</td>\n      <td>0</td>\n      <td>0</td>\n      <td>0</td>\n      <td>0</td>\n      <td>0</td>\n      <td>0</td>\n      <td>0</td>\n      <td>...</td>\n      <td>47</td>\n      <td>46</td>\n      <td>171</td>\n      <td>171</td>\n      <td>2023Q4</td>\n      <td>2023Q3</td>\n      <td>9.846527</td>\n      <td>0.034406</td>\n      <td>0.833953</td>\n      <td>NaN</td>\n    </tr>\n    <tr>\n      <th>2390470</th>\n      <td>356128.0</td>\n      <td>2023-11</td>\n      <td>0</td>\n      <td>0</td>\n      <td>0</td>\n      <td>0</td>\n      <td>0</td>\n      <td>0</td>\n      <td>0</td>\n      <td>0</td>\n      <td>...</td>\n      <td>48</td>\n      <td>46</td>\n      <td>169</td>\n      <td>169</td>\n      <td>2023Q4</td>\n      <td>2023Q3</td>\n      <td>9.846527</td>\n      <td>0.034406</td>\n      <td>0.833953</td>\n      <td>NaN</td>\n    </tr>\n    <tr>\n      <th>2390471</th>\n      <td>356128.0</td>\n      <td>2023-12</td>\n      <td>0</td>\n      <td>0</td>\n      <td>0</td>\n      <td>0</td>\n      <td>0</td>\n      <td>0</td>\n      <td>0</td>\n      <td>0</td>\n      <td>...</td>\n      <td>47</td>\n      <td>49</td>\n      <td>173</td>\n      <td>173</td>\n      <td>2023Q4</td>\n      <td>2023Q3</td>\n      <td>9.846527</td>\n      <td>0.034406</td>\n      <td>0.833953</td>\n      <td>NaN</td>\n    </tr>\n  </tbody>\n</table>\n<p>2390472 rows × 30 columns</p>\n</div>"
     },
     "execution_count": 135,
     "metadata": {},
     "output_type": "execute_result"
    }
   ],
   "source": [
    "reprisk_with_metrics = add_quarterly_metrics(db, reprisk_merged_yearly)\n",
    "reprisk_with_metrics"
   ],
   "metadata": {
    "collapsed": false,
    "ExecuteTime": {
     "end_time": "2025-10-24T21:00:28.430813500Z",
     "start_time": "2025-10-24T20:58:31.304433300Z"
    }
   }
  },
  {
   "cell_type": "code",
   "execution_count": 136,
   "outputs": [],
   "source": [
    "reprisk_with_metrics.to_csv('data/incidents_rolling_industry_all.csv', index=False)"
   ],
   "metadata": {
    "collapsed": false,
    "ExecuteTime": {
     "end_time": "2025-10-24T21:02:10.180791600Z",
     "start_time": "2025-10-24T21:01:27.835999Z"
    }
   }
  },
  {
   "cell_type": "code",
   "execution_count": 33,
   "outputs": [
    {
     "data": {
      "text/plain": "cusip                                   0\nincident_date                           0\ndate                                    0\nCAR_0_1                                 0\nseverity                         17124977\nreach                            17124977\nnovelty                          17124977\nmaterial_flag                           0\nmateriality_car_5                       0\nmateriality_reach                       0\nmateriality_car_1                       0\nmateriality_severity                    0\nincident                                0\ngvkey                                   0\nSICS Codified Industry                  0\nCodified SICS Sector                    0\nindustry_material_flag                  0\nindustry_materiality_car_5              0\nindustry_materiality_reach              0\nindustry_materiality_car_1              0\nindustry_materiality_severity           0\nindustry_incident                       0\nMKT_2d                               3931\nSMB_2d                               3931\nHML_2d                               3931\nRF_2d                                3931\nUMD_2d                               3931\npeer_severity3                          0\npeer_reach3                             0\nbottom_quintile_industry                0\nbottom_decile_industry                  0\nbottom_quintile                         0\nbottom_decile                           0\nYearQuarter_prior                       0\nYearMonth                               0\nYearQuarter                             0\nsize                              1057546\nroa_q                             1207343\nlev_q                             1193712\nbm_q                              4566507\ndtype: int64"
     },
     "execution_count": 33,
     "metadata": {},
     "output_type": "execute_result"
    }
   ],
   "source": [
    "reprisk_with_metrics.isna().sum()"
   ],
   "metadata": {
    "collapsed": false,
    "ExecuteTime": {
     "end_time": "2025-10-23T15:47:56.694880700Z",
     "start_time": "2025-10-23T15:47:51.116019800Z"
    }
   }
  },
  {
   "cell_type": "markdown",
   "source": [
    "# 3. Calculate short term market reaction"
   ],
   "metadata": {
    "collapsed": false
   }
  },
  {
   "cell_type": "code",
   "execution_count": 4,
   "outputs": [
    {
     "data": {
      "text/plain": "           gvkey          isin     cusip  reprisk_id  story_id  adopter  \\\n0       210418.0  US0003752047  00037520           2    1251.0        1   \n1       210418.0  US0003752047  00037520           2    1305.0        1   \n2       210418.0  US0003752047  00037520           2    4029.0        1   \n3       210418.0  US0003752047  00037520           2    4488.0        1   \n4       210418.0  US0003752047  00037520           2    4756.0        1   \n...          ...           ...       ...         ...       ...      ...   \n331365  355240.0  THB131010001       NAN     2683218       NaN        1   \n331366  349631.0  PK0126301016       NAN     2684126       NaN        1   \n331367  350690.0  GB00BLNNFY18       NAN     2685085       NaN        1   \n331368  350726.0  AU0000180200       NAN     2685460       NaN        1   \n331369  355325.0  TW0006935000       NAN     2685762       NaN        0   \n\n           sic            SICS Codified Industry   \\\n0       3613.0  Electrical & Electronic Equipment   \n1       3613.0  Electrical & Electronic Equipment   \n2       3613.0  Electrical & Electronic Equipment   \n3       3613.0  Electrical & Electronic Equipment   \n4       3613.0  Electrical & Electronic Equipment   \n...        ...                                ...   \n331365  5900.0                    Coal Operations   \n331366  3411.0             Containers & Packaging   \n331367  6726.0      Household & Personal Products   \n331368  1400.0                          Chemicals   \n331369  2834.0    Biotechnology & Pharmaceuticals   \n\n                    Codified SICS Sector   severity  ...  car_5_roll12  \\\n0                 Resource Transformation       1.0  ...      0.016264   \n1                 Resource Transformation       2.0  ...      0.016264   \n2                 Resource Transformation       2.0  ...     -0.282756   \n3                 Resource Transformation       2.0  ...     -0.250865   \n4                 Resource Transformation       1.0  ...     -0.007518   \n...                                   ...       ...  ...           ...   \n331365  Extractives & Minerals Processing       0.0  ...           NaN   \n331366            Resource Transformation       0.0  ...           NaN   \n331367                     Consumer Goods       0.0  ...           NaN   \n331368            Resource Transformation       0.0  ...           NaN   \n331369                        Health Care       0.0  ...           NaN   \n\n        materiality_reach materiality_severity materiality_car_1  \\\n0                       0                    0                 1   \n1                       0                    0                 0   \n2                       0                    1                 0   \n3                       1                    1                 0   \n4                       1                    1                 0   \n...                   ...                  ...               ...   \n331365                  0                    0                 0   \n331366                  0                    0                 0   \n331367                  0                    0                 0   \n331368                  0                    0                 0   \n331369                  0                    0                 0   \n\n        materiality_car_5  YearQuarter_prior       size     roa_q     lev_q  \\\n0                       1             2007Q1        NaN  0.020228  0.706106   \n1                       0             2007Q2        NaN  0.026238  0.700164   \n2                       1             2008Q1  11.042192  0.029648  0.623712   \n3                       0             2008Q1  11.042192  0.029648  0.623712   \n4                       0             2006Q4  10.575869  0.019768  0.741906   \n...                   ...                ...        ...       ...       ...   \n331365                  0                NaT        NaN       NaN       NaN   \n331366                  0                NaT        NaN       NaN       NaN   \n331367                  0                NaT        NaN       NaN       NaN   \n331368                  0                NaT        NaN       NaN       NaN   \n331369                  0                NaT        NaN       NaN       NaN   \n\n            bm_q  \n0            NaN  \n1            NaN  \n2       0.199570  \n3       0.199570  \n4       0.173746  \n...          ...  \n331365       NaN  \n331366       NaN  \n331367       NaN  \n331368       NaN  \n331369       NaN  \n\n[331370 rows x 37 columns]",
      "text/html": "<div>\n<style scoped>\n    .dataframe tbody tr th:only-of-type {\n        vertical-align: middle;\n    }\n\n    .dataframe tbody tr th {\n        vertical-align: top;\n    }\n\n    .dataframe thead th {\n        text-align: right;\n    }\n</style>\n<table border=\"1\" class=\"dataframe\">\n  <thead>\n    <tr style=\"text-align: right;\">\n      <th></th>\n      <th>gvkey</th>\n      <th>isin</th>\n      <th>cusip</th>\n      <th>reprisk_id</th>\n      <th>story_id</th>\n      <th>adopter</th>\n      <th>sic</th>\n      <th>SICS Codified Industry</th>\n      <th>Codified SICS Sector</th>\n      <th>severity</th>\n      <th>...</th>\n      <th>car_5_roll12</th>\n      <th>materiality_reach</th>\n      <th>materiality_severity</th>\n      <th>materiality_car_1</th>\n      <th>materiality_car_5</th>\n      <th>YearQuarter_prior</th>\n      <th>size</th>\n      <th>roa_q</th>\n      <th>lev_q</th>\n      <th>bm_q</th>\n    </tr>\n  </thead>\n  <tbody>\n    <tr>\n      <th>0</th>\n      <td>210418.0</td>\n      <td>US0003752047</td>\n      <td>00037520</td>\n      <td>2</td>\n      <td>1251.0</td>\n      <td>1</td>\n      <td>3613.0</td>\n      <td>Electrical &amp; Electronic Equipment</td>\n      <td>Resource Transformation</td>\n      <td>1.0</td>\n      <td>...</td>\n      <td>0.016264</td>\n      <td>0</td>\n      <td>0</td>\n      <td>1</td>\n      <td>1</td>\n      <td>2007Q1</td>\n      <td>NaN</td>\n      <td>0.020228</td>\n      <td>0.706106</td>\n      <td>NaN</td>\n    </tr>\n    <tr>\n      <th>1</th>\n      <td>210418.0</td>\n      <td>US0003752047</td>\n      <td>00037520</td>\n      <td>2</td>\n      <td>1305.0</td>\n      <td>1</td>\n      <td>3613.0</td>\n      <td>Electrical &amp; Electronic Equipment</td>\n      <td>Resource Transformation</td>\n      <td>2.0</td>\n      <td>...</td>\n      <td>0.016264</td>\n      <td>0</td>\n      <td>0</td>\n      <td>0</td>\n      <td>0</td>\n      <td>2007Q2</td>\n      <td>NaN</td>\n      <td>0.026238</td>\n      <td>0.700164</td>\n      <td>NaN</td>\n    </tr>\n    <tr>\n      <th>2</th>\n      <td>210418.0</td>\n      <td>US0003752047</td>\n      <td>00037520</td>\n      <td>2</td>\n      <td>4029.0</td>\n      <td>1</td>\n      <td>3613.0</td>\n      <td>Electrical &amp; Electronic Equipment</td>\n      <td>Resource Transformation</td>\n      <td>2.0</td>\n      <td>...</td>\n      <td>-0.282756</td>\n      <td>0</td>\n      <td>1</td>\n      <td>0</td>\n      <td>1</td>\n      <td>2008Q1</td>\n      <td>11.042192</td>\n      <td>0.029648</td>\n      <td>0.623712</td>\n      <td>0.199570</td>\n    </tr>\n    <tr>\n      <th>3</th>\n      <td>210418.0</td>\n      <td>US0003752047</td>\n      <td>00037520</td>\n      <td>2</td>\n      <td>4488.0</td>\n      <td>1</td>\n      <td>3613.0</td>\n      <td>Electrical &amp; Electronic Equipment</td>\n      <td>Resource Transformation</td>\n      <td>2.0</td>\n      <td>...</td>\n      <td>-0.250865</td>\n      <td>1</td>\n      <td>1</td>\n      <td>0</td>\n      <td>0</td>\n      <td>2008Q1</td>\n      <td>11.042192</td>\n      <td>0.029648</td>\n      <td>0.623712</td>\n      <td>0.199570</td>\n    </tr>\n    <tr>\n      <th>4</th>\n      <td>210418.0</td>\n      <td>US0003752047</td>\n      <td>00037520</td>\n      <td>2</td>\n      <td>4756.0</td>\n      <td>1</td>\n      <td>3613.0</td>\n      <td>Electrical &amp; Electronic Equipment</td>\n      <td>Resource Transformation</td>\n      <td>1.0</td>\n      <td>...</td>\n      <td>-0.007518</td>\n      <td>1</td>\n      <td>1</td>\n      <td>0</td>\n      <td>0</td>\n      <td>2006Q4</td>\n      <td>10.575869</td>\n      <td>0.019768</td>\n      <td>0.741906</td>\n      <td>0.173746</td>\n    </tr>\n    <tr>\n      <th>...</th>\n      <td>...</td>\n      <td>...</td>\n      <td>...</td>\n      <td>...</td>\n      <td>...</td>\n      <td>...</td>\n      <td>...</td>\n      <td>...</td>\n      <td>...</td>\n      <td>...</td>\n      <td>...</td>\n      <td>...</td>\n      <td>...</td>\n      <td>...</td>\n      <td>...</td>\n      <td>...</td>\n      <td>...</td>\n      <td>...</td>\n      <td>...</td>\n      <td>...</td>\n      <td>...</td>\n    </tr>\n    <tr>\n      <th>331365</th>\n      <td>355240.0</td>\n      <td>THB131010001</td>\n      <td>NAN</td>\n      <td>2683218</td>\n      <td>NaN</td>\n      <td>1</td>\n      <td>5900.0</td>\n      <td>Coal Operations</td>\n      <td>Extractives &amp; Minerals Processing</td>\n      <td>0.0</td>\n      <td>...</td>\n      <td>NaN</td>\n      <td>0</td>\n      <td>0</td>\n      <td>0</td>\n      <td>0</td>\n      <td>NaT</td>\n      <td>NaN</td>\n      <td>NaN</td>\n      <td>NaN</td>\n      <td>NaN</td>\n    </tr>\n    <tr>\n      <th>331366</th>\n      <td>349631.0</td>\n      <td>PK0126301016</td>\n      <td>NAN</td>\n      <td>2684126</td>\n      <td>NaN</td>\n      <td>1</td>\n      <td>3411.0</td>\n      <td>Containers &amp; Packaging</td>\n      <td>Resource Transformation</td>\n      <td>0.0</td>\n      <td>...</td>\n      <td>NaN</td>\n      <td>0</td>\n      <td>0</td>\n      <td>0</td>\n      <td>0</td>\n      <td>NaT</td>\n      <td>NaN</td>\n      <td>NaN</td>\n      <td>NaN</td>\n      <td>NaN</td>\n    </tr>\n    <tr>\n      <th>331367</th>\n      <td>350690.0</td>\n      <td>GB00BLNNFY18</td>\n      <td>NAN</td>\n      <td>2685085</td>\n      <td>NaN</td>\n      <td>1</td>\n      <td>6726.0</td>\n      <td>Household &amp; Personal Products</td>\n      <td>Consumer Goods</td>\n      <td>0.0</td>\n      <td>...</td>\n      <td>NaN</td>\n      <td>0</td>\n      <td>0</td>\n      <td>0</td>\n      <td>0</td>\n      <td>NaT</td>\n      <td>NaN</td>\n      <td>NaN</td>\n      <td>NaN</td>\n      <td>NaN</td>\n    </tr>\n    <tr>\n      <th>331368</th>\n      <td>350726.0</td>\n      <td>AU0000180200</td>\n      <td>NAN</td>\n      <td>2685460</td>\n      <td>NaN</td>\n      <td>1</td>\n      <td>1400.0</td>\n      <td>Chemicals</td>\n      <td>Resource Transformation</td>\n      <td>0.0</td>\n      <td>...</td>\n      <td>NaN</td>\n      <td>0</td>\n      <td>0</td>\n      <td>0</td>\n      <td>0</td>\n      <td>NaT</td>\n      <td>NaN</td>\n      <td>NaN</td>\n      <td>NaN</td>\n      <td>NaN</td>\n    </tr>\n    <tr>\n      <th>331369</th>\n      <td>355325.0</td>\n      <td>TW0006935000</td>\n      <td>NAN</td>\n      <td>2685762</td>\n      <td>NaN</td>\n      <td>0</td>\n      <td>2834.0</td>\n      <td>Biotechnology &amp; Pharmaceuticals</td>\n      <td>Health Care</td>\n      <td>0.0</td>\n      <td>...</td>\n      <td>NaN</td>\n      <td>0</td>\n      <td>0</td>\n      <td>0</td>\n      <td>0</td>\n      <td>NaT</td>\n      <td>NaN</td>\n      <td>NaN</td>\n      <td>NaN</td>\n      <td>NaN</td>\n    </tr>\n  </tbody>\n</table>\n<p>331370 rows × 37 columns</p>\n</div>"
     },
     "execution_count": 4,
     "metadata": {},
     "output_type": "execute_result"
    }
   ],
   "source": [
    "final = pd.read_csv('data/incidents_rolling_firm_all.csv')\n",
    "final['cusip'] = final['cusip'].astype(str).str.strip().str[:8].str.upper()\n",
    "final"
   ],
   "metadata": {
    "collapsed": false,
    "ExecuteTime": {
     "end_time": "2025-10-23T15:07:28.124883Z",
     "start_time": "2025-10-23T15:07:22.851474600Z"
    }
   }
  },
  {
   "cell_type": "code",
   "execution_count": 53,
   "outputs": [
    {
     "name": "stdout",
     "output_type": "stream",
     "text": [
      "Loading library list...\n",
      "Done\n"
     ]
    }
   ],
   "source": [
    "import wrds\n",
    "from pathlib import Path\n",
    "from dotenv import load_dotenv\n",
    "import os\n",
    "from itertools import islice\n",
    "\n",
    "project_root = Path(r\"E:\\GermanBusinessPanelTeam\\Schrader\\Forschung\\ESGmateriality\")\n",
    "\n",
    "# ── Load WRDS creds from wrds.env in the project root ─────────────────────────\n",
    "env_path = project_root / \"wrds.env\"\n",
    "load_dotenv(dotenv_path=env_path)\n",
    "# ── Connect to WRDS ───────────────────────────────────────────────────────────\n",
    "db = wrds.Connection(\n",
    "    wrds_username=os.getenv(\"WRDS_YALE_USERNAME\"),\n",
    "    wrds_password=os.getenv(\"WRDS_YALE_PASSWORD\")\n",
    ")"
   ],
   "metadata": {
    "collapsed": false,
    "ExecuteTime": {
     "end_time": "2025-10-23T21:05:17.274838200Z",
     "start_time": "2025-10-23T21:05:14.003933Z"
    }
   }
  },
  {
   "cell_type": "code",
   "execution_count": 60,
   "outputs": [
    {
     "data": {
      "text/plain": "             cusip       date       ret\n0         00030710 2014-10-02      <NA>\n1         00030710 2014-10-03  0.008108\n2         00030710 2014-10-06  0.031635\n3         00030710 2014-10-07       0.0\n4         00030710 2014-10-08 -0.005717\n...            ...        ...       ...\n17481590  U7260311 2017-12-13       0.0\n17481591  U7260311 2017-12-14       0.0\n17481592  U7260311 2017-12-15       0.0\n17481593  U7260311 2017-12-18 -0.002222\n17481594  U7260311 2017-12-19       0.0\n\n[17481595 rows x 3 columns]",
      "text/html": "<div>\n<style scoped>\n    .dataframe tbody tr th:only-of-type {\n        vertical-align: middle;\n    }\n\n    .dataframe tbody tr th {\n        vertical-align: top;\n    }\n\n    .dataframe thead th {\n        text-align: right;\n    }\n</style>\n<table border=\"1\" class=\"dataframe\">\n  <thead>\n    <tr style=\"text-align: right;\">\n      <th></th>\n      <th>cusip</th>\n      <th>date</th>\n      <th>ret</th>\n    </tr>\n  </thead>\n  <tbody>\n    <tr>\n      <th>0</th>\n      <td>00030710</td>\n      <td>2014-10-02</td>\n      <td>&lt;NA&gt;</td>\n    </tr>\n    <tr>\n      <th>1</th>\n      <td>00030710</td>\n      <td>2014-10-03</td>\n      <td>0.008108</td>\n    </tr>\n    <tr>\n      <th>2</th>\n      <td>00030710</td>\n      <td>2014-10-06</td>\n      <td>0.031635</td>\n    </tr>\n    <tr>\n      <th>3</th>\n      <td>00030710</td>\n      <td>2014-10-07</td>\n      <td>0.0</td>\n    </tr>\n    <tr>\n      <th>4</th>\n      <td>00030710</td>\n      <td>2014-10-08</td>\n      <td>-0.005717</td>\n    </tr>\n    <tr>\n      <th>...</th>\n      <td>...</td>\n      <td>...</td>\n      <td>...</td>\n    </tr>\n    <tr>\n      <th>17481590</th>\n      <td>U7260311</td>\n      <td>2017-12-13</td>\n      <td>0.0</td>\n    </tr>\n    <tr>\n      <th>17481591</th>\n      <td>U7260311</td>\n      <td>2017-12-14</td>\n      <td>0.0</td>\n    </tr>\n    <tr>\n      <th>17481592</th>\n      <td>U7260311</td>\n      <td>2017-12-15</td>\n      <td>0.0</td>\n    </tr>\n    <tr>\n      <th>17481593</th>\n      <td>U7260311</td>\n      <td>2017-12-18</td>\n      <td>-0.002222</td>\n    </tr>\n    <tr>\n      <th>17481594</th>\n      <td>U7260311</td>\n      <td>2017-12-19</td>\n      <td>0.0</td>\n    </tr>\n  </tbody>\n</table>\n<p>17481595 rows × 3 columns</p>\n</div>"
     },
     "execution_count": 60,
     "metadata": {},
     "output_type": "execute_result"
    }
   ],
   "source": [
    "# --- 1) Unique CUSIPs and date bounds (work on copies; your df_incidents stays untouched)\n",
    "cusips = final['cusip'].astype(str).str.strip().str[:8].str.upper().dropna().unique().tolist()\n",
    "\n",
    "dates = pd.to_datetime(pd.Series(final['incident_date'].dropna()), errors='coerce').dropna()\n",
    "start_date = dates.min().strftime('%Y-%m-%d')\n",
    "end_date = (dates.max() + pd.Timedelta(days=1)).strftime('%Y-%m-%d')  # include +1 day\n",
    "\n",
    "\n",
    "# --- 2) Query CRSP.dsf in manageable chunks\n",
    "def chunks(seq, size):\n",
    "    it = iter(seq)\n",
    "    while True:\n",
    "        block = list(islice(it, size))\n",
    "        if not block:\n",
    "            break\n",
    "        yield block\n",
    "\n",
    "\n",
    "dfs = []\n",
    "for block in chunks(cusips, 2000):  # adjust chunk size if needed\n",
    "    cusip_list_sql = \"(\" + \",\".join(f\"'{c}'\" for c in block) + \")\"\n",
    "    sql = f\"\"\"\n",
    "        SELECT cusip, date, ret\n",
    "        FROM crsp.dsf\n",
    "        WHERE date BETWEEN '{start_date}' AND '{end_date}'\n",
    "          AND cusip IN {cusip_list_sql}\n",
    "    \"\"\"\n",
    "    dfs.append(db.raw_sql(sql, date_cols=['date']))\n",
    "\n",
    "\n",
    "# --- 3) Concatenate & tidy\n",
    "all_returns = (\n",
    "    pd.concat(dfs, ignore_index=True) if dfs else pd.DataFrame(columns=['cusip', 'date', 'ret'])\n",
    "    .astype({'cusip': 'object'})\n",
    ")\n",
    "all_returns['ret'] = pd.to_numeric(all_returns['ret'], errors='coerce')\n",
    "all_returns = all_returns.sort_values(['cusip', 'date']).reset_index(drop=True)\n",
    "all_returns"
   ],
   "metadata": {
    "collapsed": false,
    "ExecuteTime": {
     "end_time": "2025-10-22T18:28:58.578155Z",
     "start_time": "2025-10-22T18:24:05.601797600Z"
    }
   }
  },
  {
   "cell_type": "code",
   "execution_count": 61,
   "outputs": [],
   "source": [
    "def fill_and_bfill(g):\n",
    "    # full daily calendar from first to last observed date\n",
    "    full_idx = pd.date_range(g['date'].min(), g['date'].max(), freq='D')\n",
    "    g2 = (g.set_index('date')\n",
    "          .reindex(full_idx)  # adds missing days as NaNs\n",
    "          .rename_axis('date'))\n",
    "    # keep cusip, then backfill ret (use next trading day's value)\n",
    "    g2['cusip'] = g2['cusip'].ffill().bfill()\n",
    "    g2['ret'] = g2['ret'].bfill()\n",
    "    return g2.reset_index()"
   ],
   "metadata": {
    "collapsed": false,
    "ExecuteTime": {
     "end_time": "2025-10-22T18:59:14.007394200Z",
     "start_time": "2025-10-22T18:59:13.949300500Z"
    }
   }
  },
  {
   "cell_type": "code",
   "execution_count": 62,
   "outputs": [
    {
     "name": "stderr",
     "output_type": "stream",
     "text": [
      "C:\\Users\\PascalSchrader.WIN-T1MVMVKE25U.000\\AppData\\Local\\Temp\\9\\ipykernel_70464\\1758142003.py:2: DeprecationWarning: DataFrameGroupBy.apply operated on the grouping columns. This behavior is deprecated, and in a future version of pandas the grouping columns will be excluded from the operation. Either pass `include_groups=False` to exclude the groupings or explicitly select the grouping columns after groupby to silence this warning.\n",
      "  .apply(fill_and_bfill)\n"
     ]
    }
   ],
   "source": [
    "df_filled = (all_returns.groupby('cusip', group_keys=False)\n",
    "             .apply(fill_and_bfill)\n",
    "             .sort_values(['cusip', 'date'])\n",
    "             .reset_index(drop=True))"
   ],
   "metadata": {
    "collapsed": false,
    "ExecuteTime": {
     "end_time": "2025-10-22T19:00:13.634076700Z",
     "start_time": "2025-10-22T18:59:20.502165100Z"
    }
   }
  },
  {
   "cell_type": "code",
   "execution_count": 65,
   "outputs": [],
   "source": [
    "# final must have: 'cusip', 'incident_date'\n",
    "cusips = pd.Series(final['cusip'].dropna().unique()).astype(str)\n",
    "\n",
    "d = pd.to_datetime(final['incident_date'], errors='coerce').dropna()\n",
    "dates = pd.Index(d.dt.normalize().unique()).sort_values()  # unique YYYY-MM-DD (midnight)\n",
    "\n",
    "pairs = pd.MultiIndex.from_product([cusips, dates], names=['cusip', 'incident_date']).to_frame(index=False)"
   ],
   "metadata": {
    "collapsed": false,
    "ExecuteTime": {
     "end_time": "2025-10-22T19:00:52.525295700Z",
     "start_time": "2025-10-22T19:00:50.675477900Z"
    }
   }
  },
  {
   "cell_type": "code",
   "execution_count": 68,
   "outputs": [
    {
     "data": {
      "text/plain": "      cusip       date       ret\n0  00030710 2014-10-02      <NA>\n1  00030710 2014-10-03  0.008108\n2  00030710 2014-10-06  0.031635\n3  00030710 2014-10-07       0.0\n4  00030710 2014-10-08 -0.005717",
      "text/html": "<div>\n<style scoped>\n    .dataframe tbody tr th:only-of-type {\n        vertical-align: middle;\n    }\n\n    .dataframe tbody tr th {\n        vertical-align: top;\n    }\n\n    .dataframe thead th {\n        text-align: right;\n    }\n</style>\n<table border=\"1\" class=\"dataframe\">\n  <thead>\n    <tr style=\"text-align: right;\">\n      <th></th>\n      <th>cusip</th>\n      <th>date</th>\n      <th>ret</th>\n    </tr>\n  </thead>\n  <tbody>\n    <tr>\n      <th>0</th>\n      <td>00030710</td>\n      <td>2014-10-02</td>\n      <td>&lt;NA&gt;</td>\n    </tr>\n    <tr>\n      <th>1</th>\n      <td>00030710</td>\n      <td>2014-10-03</td>\n      <td>0.008108</td>\n    </tr>\n    <tr>\n      <th>2</th>\n      <td>00030710</td>\n      <td>2014-10-06</td>\n      <td>0.031635</td>\n    </tr>\n    <tr>\n      <th>3</th>\n      <td>00030710</td>\n      <td>2014-10-07</td>\n      <td>0.0</td>\n    </tr>\n    <tr>\n      <th>4</th>\n      <td>00030710</td>\n      <td>2014-10-08</td>\n      <td>-0.005717</td>\n    </tr>\n  </tbody>\n</table>\n</div>"
     },
     "execution_count": 68,
     "metadata": {},
     "output_type": "execute_result"
    }
   ],
   "source": [
    "# Date window: [min(incident_date), max(incident_date)+1 day] (add a small buffer if you like)\n",
    "start_date = dates.min().strftime('%Y-%m-%d')\n",
    "end_date = (dates.max() + pd.Timedelta(days=1)).strftime('%Y-%m-%d')\n",
    "\n",
    "# Single query version (simple). If your CUSIP list is huge and SQL IN is too long, split manually.\n",
    "cusip_list_sql = \"(\" + \",\".join(f\"'{c}'\" for c in cusips.tolist()) + \")\"\n",
    "\n",
    "sql_dsf = f\"\"\"\n",
    "    SELECT cusip, date, ret\n",
    "    FROM crsp.dsf\n",
    "    WHERE date BETWEEN '{start_date}' AND '{end_date}'\n",
    "      AND cusip IN {cusip_list_sql}\n",
    "\"\"\"\n",
    "dsf = db.raw_sql(sql_dsf, date_cols=['date'])\n",
    "\n",
    "# Tidy\n",
    "dsf['cusip'] = dsf['cusip'].astype(str)\n",
    "dsf['ret'] = pd.to_numeric(dsf['ret'], errors='coerce')\n",
    "dsf = dsf.dropna(subset=['cusip', 'date']).sort_values(['cusip', 'date']).reset_index(drop=True)\n",
    "\n",
    "dsf.head()"
   ],
   "metadata": {
    "collapsed": false,
    "ExecuteTime": {
     "end_time": "2025-10-22T19:06:26.865708100Z",
     "start_time": "2025-10-22T19:02:09.571400400Z"
    }
   }
  },
  {
   "cell_type": "code",
   "execution_count": 69,
   "outputs": [],
   "source": [
    "sql_mkt = f\"\"\"\n",
    "    SELECT date, vwretd\n",
    "    FROM crsp.dsi\n",
    "    WHERE date BETWEEN '{start_date}' AND '{end_date}'\n",
    "\"\"\"\n",
    "mkt = db.raw_sql(sql_mkt, date_cols=['date'])\n",
    "mkt['vwretd'] = pd.to_numeric(mkt['vwretd'], errors='coerce')"
   ],
   "metadata": {
    "collapsed": false,
    "ExecuteTime": {
     "end_time": "2025-10-22T19:07:10.574660900Z",
     "start_time": "2025-10-22T19:07:10.087215Z"
    }
   }
  },
  {
   "cell_type": "code",
   "execution_count": 70,
   "outputs": [],
   "source": [
    "dsf_ar = dsf.merge(mkt, on='date', how='left')\n",
    "dsf_ar['ar'] = dsf_ar['ret'] - dsf_ar['vwretd']"
   ],
   "metadata": {
    "collapsed": false,
    "ExecuteTime": {
     "end_time": "2025-10-22T19:07:21.033950Z",
     "start_time": "2025-10-22T19:07:17.620249500Z"
    }
   }
  },
  {
   "cell_type": "code",
   "execution_count": 71,
   "outputs": [
    {
     "data": {
      "text/plain": "      cusip       date        ar  next_date   next_ar\n0  00030710 2014-10-02      <NA> 2014-10-03 -0.000988\n1  00030710 2014-10-03 -0.000988 2014-10-06  0.033217\n2  00030710 2014-10-06  0.033217 2014-10-07   0.01499\n3  00030710 2014-10-07   0.01499 2014-10-08 -0.021572\n4  00030710 2014-10-08 -0.021572 2014-10-09  0.027493",
      "text/html": "<div>\n<style scoped>\n    .dataframe tbody tr th:only-of-type {\n        vertical-align: middle;\n    }\n\n    .dataframe tbody tr th {\n        vertical-align: top;\n    }\n\n    .dataframe thead th {\n        text-align: right;\n    }\n</style>\n<table border=\"1\" class=\"dataframe\">\n  <thead>\n    <tr style=\"text-align: right;\">\n      <th></th>\n      <th>cusip</th>\n      <th>date</th>\n      <th>ar</th>\n      <th>next_date</th>\n      <th>next_ar</th>\n    </tr>\n  </thead>\n  <tbody>\n    <tr>\n      <th>0</th>\n      <td>00030710</td>\n      <td>2014-10-02</td>\n      <td>&lt;NA&gt;</td>\n      <td>2014-10-03</td>\n      <td>-0.000988</td>\n    </tr>\n    <tr>\n      <th>1</th>\n      <td>00030710</td>\n      <td>2014-10-03</td>\n      <td>-0.000988</td>\n      <td>2014-10-06</td>\n      <td>0.033217</td>\n    </tr>\n    <tr>\n      <th>2</th>\n      <td>00030710</td>\n      <td>2014-10-06</td>\n      <td>0.033217</td>\n      <td>2014-10-07</td>\n      <td>0.01499</td>\n    </tr>\n    <tr>\n      <th>3</th>\n      <td>00030710</td>\n      <td>2014-10-07</td>\n      <td>0.01499</td>\n      <td>2014-10-08</td>\n      <td>-0.021572</td>\n    </tr>\n    <tr>\n      <th>4</th>\n      <td>00030710</td>\n      <td>2014-10-08</td>\n      <td>-0.021572</td>\n      <td>2014-10-09</td>\n      <td>0.027493</td>\n    </tr>\n  </tbody>\n</table>\n</div>"
     },
     "execution_count": 71,
     "metadata": {},
     "output_type": "execute_result"
    }
   ],
   "source": [
    "# For Day 1 we’ll need the next trading day’s AR; compute it via groupby().shift(-1)\n",
    "dsf_ar = dsf_ar.sort_values(['cusip', 'date']).reset_index(drop=True)\n",
    "dsf_ar['next_ar'] = dsf_ar.groupby('cusip')['ar'].shift(-1)\n",
    "dsf_ar['next_date'] = dsf_ar.groupby('cusip')['date'].shift(-1)\n",
    "\n",
    "dsf_ar[['cusip', 'date', 'ar', 'next_date', 'next_ar']].head()"
   ],
   "metadata": {
    "collapsed": false,
    "ExecuteTime": {
     "end_time": "2025-10-22T19:07:56.917303200Z",
     "start_time": "2025-10-22T19:07:21.033950Z"
    }
   }
  },
  {
   "cell_type": "code",
   "execution_count": 72,
   "outputs": [
    {
     "data": {
      "text/plain": "             cusip       date       ret    vwretd        ar   next_ar  \\\n0         00030710 2014-10-02      <NA>  0.000775      <NA> -0.000988   \n1         00030710 2014-10-03  0.008108  0.009096 -0.000988  0.033217   \n2         00030710 2014-10-06  0.031635 -0.001582  0.033217   0.01499   \n3         00030710 2014-10-07       0.0  -0.01499   0.01499 -0.021572   \n4         00030710 2014-10-08 -0.005717  0.015855 -0.021572  0.027493   \n...            ...        ...       ...       ...       ...       ...   \n17481590  U7260311 2017-12-13       0.0  0.000541 -0.000541  0.004374   \n17481591  U7260311 2017-12-14       0.0 -0.004374  0.004374 -0.007951   \n17481592  U7260311 2017-12-15       0.0  0.007951 -0.007951 -0.008971   \n17481593  U7260311 2017-12-18 -0.002222  0.006749 -0.008971  0.003411   \n17481594  U7260311 2017-12-19       0.0 -0.003411  0.003411      <NA>   \n\n          next_date   CAR_0_1  \n0        2014-10-03      <NA>  \n1        2014-10-06  0.032229  \n2        2014-10-07  0.048207  \n3        2014-10-08 -0.006582  \n4        2014-10-09  0.005921  \n...             ...       ...  \n17481590 2017-12-14  0.003833  \n17481591 2017-12-15 -0.003577  \n17481592 2017-12-18 -0.016922  \n17481593 2017-12-19  -0.00556  \n17481594        NaT      <NA>  \n\n[17481595 rows x 8 columns]",
      "text/html": "<div>\n<style scoped>\n    .dataframe tbody tr th:only-of-type {\n        vertical-align: middle;\n    }\n\n    .dataframe tbody tr th {\n        vertical-align: top;\n    }\n\n    .dataframe thead th {\n        text-align: right;\n    }\n</style>\n<table border=\"1\" class=\"dataframe\">\n  <thead>\n    <tr style=\"text-align: right;\">\n      <th></th>\n      <th>cusip</th>\n      <th>date</th>\n      <th>ret</th>\n      <th>vwretd</th>\n      <th>ar</th>\n      <th>next_ar</th>\n      <th>next_date</th>\n      <th>CAR_0_1</th>\n    </tr>\n  </thead>\n  <tbody>\n    <tr>\n      <th>0</th>\n      <td>00030710</td>\n      <td>2014-10-02</td>\n      <td>&lt;NA&gt;</td>\n      <td>0.000775</td>\n      <td>&lt;NA&gt;</td>\n      <td>-0.000988</td>\n      <td>2014-10-03</td>\n      <td>&lt;NA&gt;</td>\n    </tr>\n    <tr>\n      <th>1</th>\n      <td>00030710</td>\n      <td>2014-10-03</td>\n      <td>0.008108</td>\n      <td>0.009096</td>\n      <td>-0.000988</td>\n      <td>0.033217</td>\n      <td>2014-10-06</td>\n      <td>0.032229</td>\n    </tr>\n    <tr>\n      <th>2</th>\n      <td>00030710</td>\n      <td>2014-10-06</td>\n      <td>0.031635</td>\n      <td>-0.001582</td>\n      <td>0.033217</td>\n      <td>0.01499</td>\n      <td>2014-10-07</td>\n      <td>0.048207</td>\n    </tr>\n    <tr>\n      <th>3</th>\n      <td>00030710</td>\n      <td>2014-10-07</td>\n      <td>0.0</td>\n      <td>-0.01499</td>\n      <td>0.01499</td>\n      <td>-0.021572</td>\n      <td>2014-10-08</td>\n      <td>-0.006582</td>\n    </tr>\n    <tr>\n      <th>4</th>\n      <td>00030710</td>\n      <td>2014-10-08</td>\n      <td>-0.005717</td>\n      <td>0.015855</td>\n      <td>-0.021572</td>\n      <td>0.027493</td>\n      <td>2014-10-09</td>\n      <td>0.005921</td>\n    </tr>\n    <tr>\n      <th>...</th>\n      <td>...</td>\n      <td>...</td>\n      <td>...</td>\n      <td>...</td>\n      <td>...</td>\n      <td>...</td>\n      <td>...</td>\n      <td>...</td>\n    </tr>\n    <tr>\n      <th>17481590</th>\n      <td>U7260311</td>\n      <td>2017-12-13</td>\n      <td>0.0</td>\n      <td>0.000541</td>\n      <td>-0.000541</td>\n      <td>0.004374</td>\n      <td>2017-12-14</td>\n      <td>0.003833</td>\n    </tr>\n    <tr>\n      <th>17481591</th>\n      <td>U7260311</td>\n      <td>2017-12-14</td>\n      <td>0.0</td>\n      <td>-0.004374</td>\n      <td>0.004374</td>\n      <td>-0.007951</td>\n      <td>2017-12-15</td>\n      <td>-0.003577</td>\n    </tr>\n    <tr>\n      <th>17481592</th>\n      <td>U7260311</td>\n      <td>2017-12-15</td>\n      <td>0.0</td>\n      <td>0.007951</td>\n      <td>-0.007951</td>\n      <td>-0.008971</td>\n      <td>2017-12-18</td>\n      <td>-0.016922</td>\n    </tr>\n    <tr>\n      <th>17481593</th>\n      <td>U7260311</td>\n      <td>2017-12-18</td>\n      <td>-0.002222</td>\n      <td>0.006749</td>\n      <td>-0.008971</td>\n      <td>0.003411</td>\n      <td>2017-12-19</td>\n      <td>-0.00556</td>\n    </tr>\n    <tr>\n      <th>17481594</th>\n      <td>U7260311</td>\n      <td>2017-12-19</td>\n      <td>0.0</td>\n      <td>-0.003411</td>\n      <td>0.003411</td>\n      <td>&lt;NA&gt;</td>\n      <td>NaT</td>\n      <td>&lt;NA&gt;</td>\n    </tr>\n  </tbody>\n</table>\n<p>17481595 rows × 8 columns</p>\n</div>"
     },
     "execution_count": 72,
     "metadata": {},
     "output_type": "execute_result"
    }
   ],
   "source": [
    "# df has: ['cusip','date','ar','next_date','next_ar']\n",
    "df = dsf_ar.copy()\n",
    "df['CAR_0_1'] = df['ar'] + df['next_ar']  # stays NaN if either side is NaN\n",
    "df"
   ],
   "metadata": {
    "collapsed": false,
    "ExecuteTime": {
     "end_time": "2025-10-22T19:07:57.943684800Z",
     "start_time": "2025-10-22T19:07:56.916301200Z"
    }
   }
  },
  {
   "cell_type": "code",
   "execution_count": 73,
   "outputs": [
    {
     "data": {
      "text/plain": "             cusip incident_date       date   CAR_0_1\n0         00037520    2007-01-03 2007-01-03 -0.040097\n1         00037520    2007-01-04 2007-01-04  -0.04379\n2         00037520    2007-01-05 2007-01-05  0.002126\n3         00037520    2007-01-08 2007-01-08  0.009886\n4         00037520    2007-01-09 2007-01-09  -0.00442\n...            ...           ...        ...       ...\n17445915  15096410    2023-12-22 2023-12-22  0.026127\n17445916  15096410    2023-12-26 2023-12-26  0.020036\n17445917  15096410    2023-12-27 2023-12-27 -0.008414\n17445918  15096410    2023-12-28 2023-12-28 -0.048472\n17445919  15096410    2023-12-29 2023-12-29      <NA>\n\n[17445920 rows x 4 columns]",
      "text/html": "<div>\n<style scoped>\n    .dataframe tbody tr th:only-of-type {\n        vertical-align: middle;\n    }\n\n    .dataframe tbody tr th {\n        vertical-align: top;\n    }\n\n    .dataframe thead th {\n        text-align: right;\n    }\n</style>\n<table border=\"1\" class=\"dataframe\">\n  <thead>\n    <tr style=\"text-align: right;\">\n      <th></th>\n      <th>cusip</th>\n      <th>incident_date</th>\n      <th>date</th>\n      <th>CAR_0_1</th>\n    </tr>\n  </thead>\n  <tbody>\n    <tr>\n      <th>0</th>\n      <td>00037520</td>\n      <td>2007-01-03</td>\n      <td>2007-01-03</td>\n      <td>-0.040097</td>\n    </tr>\n    <tr>\n      <th>1</th>\n      <td>00037520</td>\n      <td>2007-01-04</td>\n      <td>2007-01-04</td>\n      <td>-0.04379</td>\n    </tr>\n    <tr>\n      <th>2</th>\n      <td>00037520</td>\n      <td>2007-01-05</td>\n      <td>2007-01-05</td>\n      <td>0.002126</td>\n    </tr>\n    <tr>\n      <th>3</th>\n      <td>00037520</td>\n      <td>2007-01-08</td>\n      <td>2007-01-08</td>\n      <td>0.009886</td>\n    </tr>\n    <tr>\n      <th>4</th>\n      <td>00037520</td>\n      <td>2007-01-09</td>\n      <td>2007-01-09</td>\n      <td>-0.00442</td>\n    </tr>\n    <tr>\n      <th>...</th>\n      <td>...</td>\n      <td>...</td>\n      <td>...</td>\n      <td>...</td>\n    </tr>\n    <tr>\n      <th>17445915</th>\n      <td>15096410</td>\n      <td>2023-12-22</td>\n      <td>2023-12-22</td>\n      <td>0.026127</td>\n    </tr>\n    <tr>\n      <th>17445916</th>\n      <td>15096410</td>\n      <td>2023-12-26</td>\n      <td>2023-12-26</td>\n      <td>0.020036</td>\n    </tr>\n    <tr>\n      <th>17445917</th>\n      <td>15096410</td>\n      <td>2023-12-27</td>\n      <td>2023-12-27</td>\n      <td>-0.008414</td>\n    </tr>\n    <tr>\n      <th>17445918</th>\n      <td>15096410</td>\n      <td>2023-12-28</td>\n      <td>2023-12-28</td>\n      <td>-0.048472</td>\n    </tr>\n    <tr>\n      <th>17445919</th>\n      <td>15096410</td>\n      <td>2023-12-29</td>\n      <td>2023-12-29</td>\n      <td>&lt;NA&gt;</td>\n    </tr>\n  </tbody>\n</table>\n<p>17445920 rows × 4 columns</p>\n</div>"
     },
     "execution_count": 73,
     "metadata": {},
     "output_type": "execute_result"
    }
   ],
   "source": [
    "pairs_merged = pairs.merge(df[['cusip', 'date', 'CAR_0_1']],\n",
    "                           left_on=['cusip', 'incident_date'],\n",
    "                           right_on=['cusip', 'date'],\n",
    "                           how='inner')\n",
    "pairs_merged"
   ],
   "metadata": {
    "collapsed": false,
    "ExecuteTime": {
     "end_time": "2025-10-22T19:08:50.991844400Z",
     "start_time": "2025-10-22T19:08:14.924849500Z"
    }
   }
  },
  {
   "cell_type": "code",
   "execution_count": 75,
   "outputs": [
    {
     "data": {
      "text/plain": "             cusip incident_date       date   CAR_0_1  severity  reach  \\\n0         00037520    2007-01-03 2007-01-03 -0.040097       NaN    NaN   \n1         00037520    2007-01-04 2007-01-04  -0.04379       NaN    NaN   \n2         00037520    2007-01-05 2007-01-05  0.002126       NaN    NaN   \n3         00037520    2007-01-08 2007-01-08  0.009886       NaN    NaN   \n4         00037520    2007-01-09 2007-01-09  -0.00442       NaN    NaN   \n...            ...           ...        ...       ...       ...    ...   \n17445915  15096410    2023-12-22 2023-12-22  0.026127       NaN    NaN   \n17445916  15096410    2023-12-26 2023-12-26  0.020036       NaN    NaN   \n17445917  15096410    2023-12-27 2023-12-27 -0.008414       NaN    NaN   \n17445918  15096410    2023-12-28 2023-12-28 -0.048472       NaN    NaN   \n17445919  15096410    2023-12-29 2023-12-29      <NA>       NaN    NaN   \n\n          novelty  material_flag  materiality_car_5  materiality_reach  \\\n0             NaN            NaN                NaN                NaN   \n1             NaN            NaN                NaN                NaN   \n2             NaN            NaN                NaN                NaN   \n3             NaN            NaN                NaN                NaN   \n4             NaN            NaN                NaN                NaN   \n...           ...            ...                ...                ...   \n17445915      NaN            NaN                NaN                NaN   \n17445916      NaN            NaN                NaN                NaN   \n17445917      NaN            NaN                NaN                NaN   \n17445918      NaN            NaN                NaN                NaN   \n17445919      NaN            NaN                NaN                NaN   \n\n          materiality_car_1  materiality_severity  \n0                       NaN                   NaN  \n1                       NaN                   NaN  \n2                       NaN                   NaN  \n3                       NaN                   NaN  \n4                       NaN                   NaN  \n...                     ...                   ...  \n17445915                NaN                   NaN  \n17445916                NaN                   NaN  \n17445917                NaN                   NaN  \n17445918                NaN                   NaN  \n17445919                NaN                   NaN  \n\n[17445920 rows x 12 columns]",
      "text/html": "<div>\n<style scoped>\n    .dataframe tbody tr th:only-of-type {\n        vertical-align: middle;\n    }\n\n    .dataframe tbody tr th {\n        vertical-align: top;\n    }\n\n    .dataframe thead th {\n        text-align: right;\n    }\n</style>\n<table border=\"1\" class=\"dataframe\">\n  <thead>\n    <tr style=\"text-align: right;\">\n      <th></th>\n      <th>cusip</th>\n      <th>incident_date</th>\n      <th>date</th>\n      <th>CAR_0_1</th>\n      <th>severity</th>\n      <th>reach</th>\n      <th>novelty</th>\n      <th>material_flag</th>\n      <th>materiality_car_5</th>\n      <th>materiality_reach</th>\n      <th>materiality_car_1</th>\n      <th>materiality_severity</th>\n    </tr>\n  </thead>\n  <tbody>\n    <tr>\n      <th>0</th>\n      <td>00037520</td>\n      <td>2007-01-03</td>\n      <td>2007-01-03</td>\n      <td>-0.040097</td>\n      <td>NaN</td>\n      <td>NaN</td>\n      <td>NaN</td>\n      <td>NaN</td>\n      <td>NaN</td>\n      <td>NaN</td>\n      <td>NaN</td>\n      <td>NaN</td>\n    </tr>\n    <tr>\n      <th>1</th>\n      <td>00037520</td>\n      <td>2007-01-04</td>\n      <td>2007-01-04</td>\n      <td>-0.04379</td>\n      <td>NaN</td>\n      <td>NaN</td>\n      <td>NaN</td>\n      <td>NaN</td>\n      <td>NaN</td>\n      <td>NaN</td>\n      <td>NaN</td>\n      <td>NaN</td>\n    </tr>\n    <tr>\n      <th>2</th>\n      <td>00037520</td>\n      <td>2007-01-05</td>\n      <td>2007-01-05</td>\n      <td>0.002126</td>\n      <td>NaN</td>\n      <td>NaN</td>\n      <td>NaN</td>\n      <td>NaN</td>\n      <td>NaN</td>\n      <td>NaN</td>\n      <td>NaN</td>\n      <td>NaN</td>\n    </tr>\n    <tr>\n      <th>3</th>\n      <td>00037520</td>\n      <td>2007-01-08</td>\n      <td>2007-01-08</td>\n      <td>0.009886</td>\n      <td>NaN</td>\n      <td>NaN</td>\n      <td>NaN</td>\n      <td>NaN</td>\n      <td>NaN</td>\n      <td>NaN</td>\n      <td>NaN</td>\n      <td>NaN</td>\n    </tr>\n    <tr>\n      <th>4</th>\n      <td>00037520</td>\n      <td>2007-01-09</td>\n      <td>2007-01-09</td>\n      <td>-0.00442</td>\n      <td>NaN</td>\n      <td>NaN</td>\n      <td>NaN</td>\n      <td>NaN</td>\n      <td>NaN</td>\n      <td>NaN</td>\n      <td>NaN</td>\n      <td>NaN</td>\n    </tr>\n    <tr>\n      <th>...</th>\n      <td>...</td>\n      <td>...</td>\n      <td>...</td>\n      <td>...</td>\n      <td>...</td>\n      <td>...</td>\n      <td>...</td>\n      <td>...</td>\n      <td>...</td>\n      <td>...</td>\n      <td>...</td>\n      <td>...</td>\n    </tr>\n    <tr>\n      <th>17445915</th>\n      <td>15096410</td>\n      <td>2023-12-22</td>\n      <td>2023-12-22</td>\n      <td>0.026127</td>\n      <td>NaN</td>\n      <td>NaN</td>\n      <td>NaN</td>\n      <td>NaN</td>\n      <td>NaN</td>\n      <td>NaN</td>\n      <td>NaN</td>\n      <td>NaN</td>\n    </tr>\n    <tr>\n      <th>17445916</th>\n      <td>15096410</td>\n      <td>2023-12-26</td>\n      <td>2023-12-26</td>\n      <td>0.020036</td>\n      <td>NaN</td>\n      <td>NaN</td>\n      <td>NaN</td>\n      <td>NaN</td>\n      <td>NaN</td>\n      <td>NaN</td>\n      <td>NaN</td>\n      <td>NaN</td>\n    </tr>\n    <tr>\n      <th>17445917</th>\n      <td>15096410</td>\n      <td>2023-12-27</td>\n      <td>2023-12-27</td>\n      <td>-0.008414</td>\n      <td>NaN</td>\n      <td>NaN</td>\n      <td>NaN</td>\n      <td>NaN</td>\n      <td>NaN</td>\n      <td>NaN</td>\n      <td>NaN</td>\n      <td>NaN</td>\n    </tr>\n    <tr>\n      <th>17445918</th>\n      <td>15096410</td>\n      <td>2023-12-28</td>\n      <td>2023-12-28</td>\n      <td>-0.048472</td>\n      <td>NaN</td>\n      <td>NaN</td>\n      <td>NaN</td>\n      <td>NaN</td>\n      <td>NaN</td>\n      <td>NaN</td>\n      <td>NaN</td>\n      <td>NaN</td>\n    </tr>\n    <tr>\n      <th>17445919</th>\n      <td>15096410</td>\n      <td>2023-12-29</td>\n      <td>2023-12-29</td>\n      <td>&lt;NA&gt;</td>\n      <td>NaN</td>\n      <td>NaN</td>\n      <td>NaN</td>\n      <td>NaN</td>\n      <td>NaN</td>\n      <td>NaN</td>\n      <td>NaN</td>\n      <td>NaN</td>\n    </tr>\n  </tbody>\n</table>\n<p>17445920 rows × 12 columns</p>\n</div>"
     },
     "execution_count": 75,
     "metadata": {},
     "output_type": "execute_result"
    }
   ],
   "source": [
    "final.drop_duplicates(subset=['cusip', 'incident_date'], inplace=True)\n",
    "final['incident_date'] = pd.to_datetime(final['incident_date'], errors='coerce')\n",
    "pairs_incidents = pairs_merged.merge(final[['cusip', 'incident_date', 'severity', 'reach', 'novelty', 'material_flag',\n",
    "                                            'materiality_car_5', 'materiality_reach', 'materiality_car_1',\n",
    "                                            'materiality_severity']], on=['cusip', 'incident_date'], how='left')\n",
    "pairs_incidents"
   ],
   "metadata": {
    "collapsed": false,
    "ExecuteTime": {
     "end_time": "2025-10-22T19:10:00.446226700Z",
     "start_time": "2025-10-22T19:09:49.475784600Z"
    }
   }
  },
  {
   "cell_type": "code",
   "execution_count": 76,
   "outputs": [],
   "source": [
    "# Indicator column if material_flag is not na\n",
    "pairs_incidents['incident'] = np.where(pairs_incidents['material_flag'].notna(), 1, 0)"
   ],
   "metadata": {
    "collapsed": false,
    "ExecuteTime": {
     "end_time": "2025-10-22T19:10:05.965137900Z",
     "start_time": "2025-10-22T19:10:05.865950100Z"
    }
   }
  },
  {
   "cell_type": "code",
   "execution_count": 83,
   "outputs": [
    {
     "data": {
      "text/plain": "             cusip incident_date       date   CAR_0_1  severity  reach  \\\n0         00037520    2007-01-03 2007-01-03 -0.040097       NaN    NaN   \n1         00037520    2007-01-04 2007-01-04  -0.04379       NaN    NaN   \n2         00037520    2007-01-05 2007-01-05  0.002126       NaN    NaN   \n3         00037520    2007-01-08 2007-01-08  0.009886       NaN    NaN   \n4         00037520    2007-01-09 2007-01-09  -0.00442       NaN    NaN   \n...            ...           ...        ...       ...       ...    ...   \n17445914  15096410    2023-12-21 2023-12-21  0.028607       NaN    NaN   \n17445915  15096410    2023-12-22 2023-12-22  0.026127       NaN    NaN   \n17445916  15096410    2023-12-26 2023-12-26  0.020036       NaN    NaN   \n17445917  15096410    2023-12-27 2023-12-27 -0.008414       NaN    NaN   \n17445918  15096410    2023-12-28 2023-12-28 -0.048472       NaN    NaN   \n\n          novelty  material_flag  materiality_car_5  materiality_reach  \\\n0             NaN            NaN                NaN                NaN   \n1             NaN            NaN                NaN                NaN   \n2             NaN            NaN                NaN                NaN   \n3             NaN            NaN                NaN                NaN   \n4             NaN            NaN                NaN                NaN   \n...           ...            ...                ...                ...   \n17445914      NaN            NaN                NaN                NaN   \n17445915      NaN            NaN                NaN                NaN   \n17445916      NaN            NaN                NaN                NaN   \n17445917      NaN            NaN                NaN                NaN   \n17445918      NaN            NaN                NaN                NaN   \n\n          materiality_car_1  materiality_severity  incident     gvkey  \\\n0                       NaN                   NaN         0  210418.0   \n1                       NaN                   NaN         0  210418.0   \n2                       NaN                   NaN         0  210418.0   \n3                       NaN                   NaN         0  210418.0   \n4                       NaN                   NaN         0  210418.0   \n...                     ...                   ...       ...       ...   \n17445914                NaN                   NaN         0   33706.0   \n17445915                NaN                   NaN         0   33706.0   \n17445916                NaN                   NaN         0   33706.0   \n17445917                NaN                   NaN         0   33706.0   \n17445918                NaN                   NaN         0   33706.0   \n\n                    SICS Codified Industry     Codified SICS Sector   \n0         Electrical & Electronic Equipment  Resource Transformation  \n1         Electrical & Electronic Equipment  Resource Transformation  \n2         Electrical & Electronic Equipment  Resource Transformation  \n3         Electrical & Electronic Equipment  Resource Transformation  \n4         Electrical & Electronic Equipment  Resource Transformation  \n...                                     ...                      ...  \n17445914       Industrial Machinery & Goods  Resource Transformation  \n17445915       Industrial Machinery & Goods  Resource Transformation  \n17445916       Industrial Machinery & Goods  Resource Transformation  \n17445917       Industrial Machinery & Goods  Resource Transformation  \n17445918       Industrial Machinery & Goods  Resource Transformation  \n\n[17211780 rows x 16 columns]",
      "text/html": "<div>\n<style scoped>\n    .dataframe tbody tr th:only-of-type {\n        vertical-align: middle;\n    }\n\n    .dataframe tbody tr th {\n        vertical-align: top;\n    }\n\n    .dataframe thead th {\n        text-align: right;\n    }\n</style>\n<table border=\"1\" class=\"dataframe\">\n  <thead>\n    <tr style=\"text-align: right;\">\n      <th></th>\n      <th>cusip</th>\n      <th>incident_date</th>\n      <th>date</th>\n      <th>CAR_0_1</th>\n      <th>severity</th>\n      <th>reach</th>\n      <th>novelty</th>\n      <th>material_flag</th>\n      <th>materiality_car_5</th>\n      <th>materiality_reach</th>\n      <th>materiality_car_1</th>\n      <th>materiality_severity</th>\n      <th>incident</th>\n      <th>gvkey</th>\n      <th>SICS Codified Industry</th>\n      <th>Codified SICS Sector</th>\n    </tr>\n  </thead>\n  <tbody>\n    <tr>\n      <th>0</th>\n      <td>00037520</td>\n      <td>2007-01-03</td>\n      <td>2007-01-03</td>\n      <td>-0.040097</td>\n      <td>NaN</td>\n      <td>NaN</td>\n      <td>NaN</td>\n      <td>NaN</td>\n      <td>NaN</td>\n      <td>NaN</td>\n      <td>NaN</td>\n      <td>NaN</td>\n      <td>0</td>\n      <td>210418.0</td>\n      <td>Electrical &amp; Electronic Equipment</td>\n      <td>Resource Transformation</td>\n    </tr>\n    <tr>\n      <th>1</th>\n      <td>00037520</td>\n      <td>2007-01-04</td>\n      <td>2007-01-04</td>\n      <td>-0.04379</td>\n      <td>NaN</td>\n      <td>NaN</td>\n      <td>NaN</td>\n      <td>NaN</td>\n      <td>NaN</td>\n      <td>NaN</td>\n      <td>NaN</td>\n      <td>NaN</td>\n      <td>0</td>\n      <td>210418.0</td>\n      <td>Electrical &amp; Electronic Equipment</td>\n      <td>Resource Transformation</td>\n    </tr>\n    <tr>\n      <th>2</th>\n      <td>00037520</td>\n      <td>2007-01-05</td>\n      <td>2007-01-05</td>\n      <td>0.002126</td>\n      <td>NaN</td>\n      <td>NaN</td>\n      <td>NaN</td>\n      <td>NaN</td>\n      <td>NaN</td>\n      <td>NaN</td>\n      <td>NaN</td>\n      <td>NaN</td>\n      <td>0</td>\n      <td>210418.0</td>\n      <td>Electrical &amp; Electronic Equipment</td>\n      <td>Resource Transformation</td>\n    </tr>\n    <tr>\n      <th>3</th>\n      <td>00037520</td>\n      <td>2007-01-08</td>\n      <td>2007-01-08</td>\n      <td>0.009886</td>\n      <td>NaN</td>\n      <td>NaN</td>\n      <td>NaN</td>\n      <td>NaN</td>\n      <td>NaN</td>\n      <td>NaN</td>\n      <td>NaN</td>\n      <td>NaN</td>\n      <td>0</td>\n      <td>210418.0</td>\n      <td>Electrical &amp; Electronic Equipment</td>\n      <td>Resource Transformation</td>\n    </tr>\n    <tr>\n      <th>4</th>\n      <td>00037520</td>\n      <td>2007-01-09</td>\n      <td>2007-01-09</td>\n      <td>-0.00442</td>\n      <td>NaN</td>\n      <td>NaN</td>\n      <td>NaN</td>\n      <td>NaN</td>\n      <td>NaN</td>\n      <td>NaN</td>\n      <td>NaN</td>\n      <td>NaN</td>\n      <td>0</td>\n      <td>210418.0</td>\n      <td>Electrical &amp; Electronic Equipment</td>\n      <td>Resource Transformation</td>\n    </tr>\n    <tr>\n      <th>...</th>\n      <td>...</td>\n      <td>...</td>\n      <td>...</td>\n      <td>...</td>\n      <td>...</td>\n      <td>...</td>\n      <td>...</td>\n      <td>...</td>\n      <td>...</td>\n      <td>...</td>\n      <td>...</td>\n      <td>...</td>\n      <td>...</td>\n      <td>...</td>\n      <td>...</td>\n      <td>...</td>\n    </tr>\n    <tr>\n      <th>17445914</th>\n      <td>15096410</td>\n      <td>2023-12-21</td>\n      <td>2023-12-21</td>\n      <td>0.028607</td>\n      <td>NaN</td>\n      <td>NaN</td>\n      <td>NaN</td>\n      <td>NaN</td>\n      <td>NaN</td>\n      <td>NaN</td>\n      <td>NaN</td>\n      <td>NaN</td>\n      <td>0</td>\n      <td>33706.0</td>\n      <td>Industrial Machinery &amp; Goods</td>\n      <td>Resource Transformation</td>\n    </tr>\n    <tr>\n      <th>17445915</th>\n      <td>15096410</td>\n      <td>2023-12-22</td>\n      <td>2023-12-22</td>\n      <td>0.026127</td>\n      <td>NaN</td>\n      <td>NaN</td>\n      <td>NaN</td>\n      <td>NaN</td>\n      <td>NaN</td>\n      <td>NaN</td>\n      <td>NaN</td>\n      <td>NaN</td>\n      <td>0</td>\n      <td>33706.0</td>\n      <td>Industrial Machinery &amp; Goods</td>\n      <td>Resource Transformation</td>\n    </tr>\n    <tr>\n      <th>17445916</th>\n      <td>15096410</td>\n      <td>2023-12-26</td>\n      <td>2023-12-26</td>\n      <td>0.020036</td>\n      <td>NaN</td>\n      <td>NaN</td>\n      <td>NaN</td>\n      <td>NaN</td>\n      <td>NaN</td>\n      <td>NaN</td>\n      <td>NaN</td>\n      <td>NaN</td>\n      <td>0</td>\n      <td>33706.0</td>\n      <td>Industrial Machinery &amp; Goods</td>\n      <td>Resource Transformation</td>\n    </tr>\n    <tr>\n      <th>17445917</th>\n      <td>15096410</td>\n      <td>2023-12-27</td>\n      <td>2023-12-27</td>\n      <td>-0.008414</td>\n      <td>NaN</td>\n      <td>NaN</td>\n      <td>NaN</td>\n      <td>NaN</td>\n      <td>NaN</td>\n      <td>NaN</td>\n      <td>NaN</td>\n      <td>NaN</td>\n      <td>0</td>\n      <td>33706.0</td>\n      <td>Industrial Machinery &amp; Goods</td>\n      <td>Resource Transformation</td>\n    </tr>\n    <tr>\n      <th>17445918</th>\n      <td>15096410</td>\n      <td>2023-12-28</td>\n      <td>2023-12-28</td>\n      <td>-0.048472</td>\n      <td>NaN</td>\n      <td>NaN</td>\n      <td>NaN</td>\n      <td>NaN</td>\n      <td>NaN</td>\n      <td>NaN</td>\n      <td>NaN</td>\n      <td>NaN</td>\n      <td>0</td>\n      <td>33706.0</td>\n      <td>Industrial Machinery &amp; Goods</td>\n      <td>Resource Transformation</td>\n    </tr>\n  </tbody>\n</table>\n<p>17211780 rows × 16 columns</p>\n</div>"
     },
     "execution_count": 83,
     "metadata": {},
     "output_type": "execute_result"
    }
   ],
   "source": [
    "# Merge gvkey\n",
    "reprisk_incidents['cusip'] = reprisk_incidents['cusip'].astype(str).str.strip().str[:8].str.upper()\n",
    "pairs_industry = pairs_incidents.merge(reprisk_incidents[['cusip', 'gvkey']].drop_duplicates(), on='cusip', how='left')\n",
    "# Merge Industry and Sector\n",
    "pairs_industry = pairs_industry.merge(\n",
    "    reprisk_incidents[['cusip', 'SICS Codified Industry ', 'Codified SICS Sector ']].drop_duplicates(), on='cusip',\n",
    "    how='left')\n",
    "pairs_industry.notna().sum()\n",
    "pairs_industry.dropna(subset=['SICS Codified Industry ', 'Codified SICS Sector ', 'CAR_0_1'], inplace=True)\n",
    "pairs_industry"
   ],
   "metadata": {
    "collapsed": false,
    "ExecuteTime": {
     "end_time": "2025-10-22T21:03:23.555614600Z",
     "start_time": "2025-10-22T21:03:10.678067Z"
    }
   }
  },
  {
   "cell_type": "code",
   "execution_count": 84,
   "outputs": [
    {
     "data": {
      "text/plain": "             cusip incident_date       date   CAR_0_1  severity  reach  \\\n0         00037520    2007-01-03 2007-01-03 -0.040097       NaN    NaN   \n1         00037520    2007-01-04 2007-01-04  -0.04379       NaN    NaN   \n2         00037520    2007-01-05 2007-01-05  0.002126       NaN    NaN   \n3         00037520    2007-01-08 2007-01-08  0.009886       NaN    NaN   \n4         00037520    2007-01-09 2007-01-09  -0.00442       NaN    NaN   \n...            ...           ...        ...       ...       ...    ...   \n17211775  15096410    2023-12-21 2023-12-21  0.028607       NaN    NaN   \n17211776  15096410    2023-12-22 2023-12-22  0.026127       NaN    NaN   \n17211777  15096410    2023-12-26 2023-12-26  0.020036       NaN    NaN   \n17211778  15096410    2023-12-27 2023-12-27 -0.008414       NaN    NaN   \n17211779  15096410    2023-12-28 2023-12-28 -0.048472       NaN    NaN   \n\n          novelty  material_flag  materiality_car_5  materiality_reach  ...  \\\n0             NaN            NaN                NaN                NaN  ...   \n1             NaN            NaN                NaN                NaN  ...   \n2             NaN            NaN                NaN                NaN  ...   \n3             NaN            NaN                NaN                NaN  ...   \n4             NaN            NaN                NaN                NaN  ...   \n...           ...            ...                ...                ...  ...   \n17211775      NaN            NaN                NaN                NaN  ...   \n17211776      NaN            NaN                NaN                NaN  ...   \n17211777      NaN            NaN                NaN                NaN  ...   \n17211778      NaN            NaN                NaN                NaN  ...   \n17211779      NaN            NaN                NaN                NaN  ...   \n\n          incident     gvkey            SICS Codified Industry   \\\n0                0  210418.0  Electrical & Electronic Equipment   \n1                0  210418.0  Electrical & Electronic Equipment   \n2                0  210418.0  Electrical & Electronic Equipment   \n3                0  210418.0  Electrical & Electronic Equipment   \n4                0  210418.0  Electrical & Electronic Equipment   \n...            ...       ...                                ...   \n17211775         0   33706.0       Industrial Machinery & Goods   \n17211776         0   33706.0       Industrial Machinery & Goods   \n17211777         0   33706.0       Industrial Machinery & Goods   \n17211778         0   33706.0       Industrial Machinery & Goods   \n17211779         0   33706.0       Industrial Machinery & Goods   \n\n            Codified SICS Sector  industry_material_flag  \\\n0         Resource Transformation                      0   \n1         Resource Transformation                      0   \n2         Resource Transformation                      0   \n3         Resource Transformation                      0   \n4         Resource Transformation                      0   \n...                           ...                    ...   \n17211775  Resource Transformation                      0   \n17211776  Resource Transformation                      0   \n17211777  Resource Transformation                      0   \n17211778  Resource Transformation                      0   \n17211779  Resource Transformation                      0   \n\n         industry_materiality_car_5  industry_materiality_reach  \\\n0                                 0                           0   \n1                                 0                           0   \n2                                 0                           0   \n3                                 0                           0   \n4                                 0                           0   \n...                             ...                         ...   \n17211775                          1                           1   \n17211776                          1                           1   \n17211777                          0                           0   \n17211778                          1                           1   \n17211779                          0                           0   \n\n          industry_materiality_car_1  industry_materiality_severity  \\\n0                                  0                              0   \n1                                  0                              0   \n2                                  0                              0   \n3                                  0                              0   \n4                                  0                              0   \n...                              ...                            ...   \n17211775                           1                              1   \n17211776                           1                              1   \n17211777                           0                              0   \n17211778                           1                              1   \n17211779                           0                              0   \n\n          industry_incident  \n0                         0  \n1                         0  \n2                         0  \n3                         0  \n4                         0  \n...                     ...  \n17211775                  1  \n17211776                  1  \n17211777                  0  \n17211778                  1  \n17211779                  0  \n\n[17211780 rows x 22 columns]",
      "text/html": "<div>\n<style scoped>\n    .dataframe tbody tr th:only-of-type {\n        vertical-align: middle;\n    }\n\n    .dataframe tbody tr th {\n        vertical-align: top;\n    }\n\n    .dataframe thead th {\n        text-align: right;\n    }\n</style>\n<table border=\"1\" class=\"dataframe\">\n  <thead>\n    <tr style=\"text-align: right;\">\n      <th></th>\n      <th>cusip</th>\n      <th>incident_date</th>\n      <th>date</th>\n      <th>CAR_0_1</th>\n      <th>severity</th>\n      <th>reach</th>\n      <th>novelty</th>\n      <th>material_flag</th>\n      <th>materiality_car_5</th>\n      <th>materiality_reach</th>\n      <th>...</th>\n      <th>incident</th>\n      <th>gvkey</th>\n      <th>SICS Codified Industry</th>\n      <th>Codified SICS Sector</th>\n      <th>industry_material_flag</th>\n      <th>industry_materiality_car_5</th>\n      <th>industry_materiality_reach</th>\n      <th>industry_materiality_car_1</th>\n      <th>industry_materiality_severity</th>\n      <th>industry_incident</th>\n    </tr>\n  </thead>\n  <tbody>\n    <tr>\n      <th>0</th>\n      <td>00037520</td>\n      <td>2007-01-03</td>\n      <td>2007-01-03</td>\n      <td>-0.040097</td>\n      <td>NaN</td>\n      <td>NaN</td>\n      <td>NaN</td>\n      <td>NaN</td>\n      <td>NaN</td>\n      <td>NaN</td>\n      <td>...</td>\n      <td>0</td>\n      <td>210418.0</td>\n      <td>Electrical &amp; Electronic Equipment</td>\n      <td>Resource Transformation</td>\n      <td>0</td>\n      <td>0</td>\n      <td>0</td>\n      <td>0</td>\n      <td>0</td>\n      <td>0</td>\n    </tr>\n    <tr>\n      <th>1</th>\n      <td>00037520</td>\n      <td>2007-01-04</td>\n      <td>2007-01-04</td>\n      <td>-0.04379</td>\n      <td>NaN</td>\n      <td>NaN</td>\n      <td>NaN</td>\n      <td>NaN</td>\n      <td>NaN</td>\n      <td>NaN</td>\n      <td>...</td>\n      <td>0</td>\n      <td>210418.0</td>\n      <td>Electrical &amp; Electronic Equipment</td>\n      <td>Resource Transformation</td>\n      <td>0</td>\n      <td>0</td>\n      <td>0</td>\n      <td>0</td>\n      <td>0</td>\n      <td>0</td>\n    </tr>\n    <tr>\n      <th>2</th>\n      <td>00037520</td>\n      <td>2007-01-05</td>\n      <td>2007-01-05</td>\n      <td>0.002126</td>\n      <td>NaN</td>\n      <td>NaN</td>\n      <td>NaN</td>\n      <td>NaN</td>\n      <td>NaN</td>\n      <td>NaN</td>\n      <td>...</td>\n      <td>0</td>\n      <td>210418.0</td>\n      <td>Electrical &amp; Electronic Equipment</td>\n      <td>Resource Transformation</td>\n      <td>0</td>\n      <td>0</td>\n      <td>0</td>\n      <td>0</td>\n      <td>0</td>\n      <td>0</td>\n    </tr>\n    <tr>\n      <th>3</th>\n      <td>00037520</td>\n      <td>2007-01-08</td>\n      <td>2007-01-08</td>\n      <td>0.009886</td>\n      <td>NaN</td>\n      <td>NaN</td>\n      <td>NaN</td>\n      <td>NaN</td>\n      <td>NaN</td>\n      <td>NaN</td>\n      <td>...</td>\n      <td>0</td>\n      <td>210418.0</td>\n      <td>Electrical &amp; Electronic Equipment</td>\n      <td>Resource Transformation</td>\n      <td>0</td>\n      <td>0</td>\n      <td>0</td>\n      <td>0</td>\n      <td>0</td>\n      <td>0</td>\n    </tr>\n    <tr>\n      <th>4</th>\n      <td>00037520</td>\n      <td>2007-01-09</td>\n      <td>2007-01-09</td>\n      <td>-0.00442</td>\n      <td>NaN</td>\n      <td>NaN</td>\n      <td>NaN</td>\n      <td>NaN</td>\n      <td>NaN</td>\n      <td>NaN</td>\n      <td>...</td>\n      <td>0</td>\n      <td>210418.0</td>\n      <td>Electrical &amp; Electronic Equipment</td>\n      <td>Resource Transformation</td>\n      <td>0</td>\n      <td>0</td>\n      <td>0</td>\n      <td>0</td>\n      <td>0</td>\n      <td>0</td>\n    </tr>\n    <tr>\n      <th>...</th>\n      <td>...</td>\n      <td>...</td>\n      <td>...</td>\n      <td>...</td>\n      <td>...</td>\n      <td>...</td>\n      <td>...</td>\n      <td>...</td>\n      <td>...</td>\n      <td>...</td>\n      <td>...</td>\n      <td>...</td>\n      <td>...</td>\n      <td>...</td>\n      <td>...</td>\n      <td>...</td>\n      <td>...</td>\n      <td>...</td>\n      <td>...</td>\n      <td>...</td>\n      <td>...</td>\n    </tr>\n    <tr>\n      <th>17211775</th>\n      <td>15096410</td>\n      <td>2023-12-21</td>\n      <td>2023-12-21</td>\n      <td>0.028607</td>\n      <td>NaN</td>\n      <td>NaN</td>\n      <td>NaN</td>\n      <td>NaN</td>\n      <td>NaN</td>\n      <td>NaN</td>\n      <td>...</td>\n      <td>0</td>\n      <td>33706.0</td>\n      <td>Industrial Machinery &amp; Goods</td>\n      <td>Resource Transformation</td>\n      <td>0</td>\n      <td>1</td>\n      <td>1</td>\n      <td>1</td>\n      <td>1</td>\n      <td>1</td>\n    </tr>\n    <tr>\n      <th>17211776</th>\n      <td>15096410</td>\n      <td>2023-12-22</td>\n      <td>2023-12-22</td>\n      <td>0.026127</td>\n      <td>NaN</td>\n      <td>NaN</td>\n      <td>NaN</td>\n      <td>NaN</td>\n      <td>NaN</td>\n      <td>NaN</td>\n      <td>...</td>\n      <td>0</td>\n      <td>33706.0</td>\n      <td>Industrial Machinery &amp; Goods</td>\n      <td>Resource Transformation</td>\n      <td>0</td>\n      <td>1</td>\n      <td>1</td>\n      <td>1</td>\n      <td>1</td>\n      <td>1</td>\n    </tr>\n    <tr>\n      <th>17211777</th>\n      <td>15096410</td>\n      <td>2023-12-26</td>\n      <td>2023-12-26</td>\n      <td>0.020036</td>\n      <td>NaN</td>\n      <td>NaN</td>\n      <td>NaN</td>\n      <td>NaN</td>\n      <td>NaN</td>\n      <td>NaN</td>\n      <td>...</td>\n      <td>0</td>\n      <td>33706.0</td>\n      <td>Industrial Machinery &amp; Goods</td>\n      <td>Resource Transformation</td>\n      <td>0</td>\n      <td>0</td>\n      <td>0</td>\n      <td>0</td>\n      <td>0</td>\n      <td>0</td>\n    </tr>\n    <tr>\n      <th>17211778</th>\n      <td>15096410</td>\n      <td>2023-12-27</td>\n      <td>2023-12-27</td>\n      <td>-0.008414</td>\n      <td>NaN</td>\n      <td>NaN</td>\n      <td>NaN</td>\n      <td>NaN</td>\n      <td>NaN</td>\n      <td>NaN</td>\n      <td>...</td>\n      <td>0</td>\n      <td>33706.0</td>\n      <td>Industrial Machinery &amp; Goods</td>\n      <td>Resource Transformation</td>\n      <td>0</td>\n      <td>1</td>\n      <td>1</td>\n      <td>1</td>\n      <td>1</td>\n      <td>1</td>\n    </tr>\n    <tr>\n      <th>17211779</th>\n      <td>15096410</td>\n      <td>2023-12-28</td>\n      <td>2023-12-28</td>\n      <td>-0.048472</td>\n      <td>NaN</td>\n      <td>NaN</td>\n      <td>NaN</td>\n      <td>NaN</td>\n      <td>NaN</td>\n      <td>NaN</td>\n      <td>...</td>\n      <td>0</td>\n      <td>33706.0</td>\n      <td>Industrial Machinery &amp; Goods</td>\n      <td>Resource Transformation</td>\n      <td>0</td>\n      <td>0</td>\n      <td>0</td>\n      <td>0</td>\n      <td>0</td>\n      <td>0</td>\n    </tr>\n  </tbody>\n</table>\n<p>17211780 rows × 22 columns</p>\n</div>"
     },
     "execution_count": 84,
     "metadata": {},
     "output_type": "execute_result"
    }
   ],
   "source": [
    "# Create indicator column if material incident in same SICS Industry\n",
    "df = pairs_industry.copy()\n",
    "\n",
    "mat_cols = ['material_flag', 'materiality_car_5', 'materiality_reach',\n",
    "            'materiality_car_1', 'materiality_severity', 'incident']\n",
    "\n",
    "# 1) Clean to 0/1 at firm-day (NaN -> 0; any nonzero -> 1)\n",
    "tmp = df[['SICS Codified Industry ', 'date'] + mat_cols].copy()\n",
    "for c in mat_cols:\n",
    "    tmp[c] = (pd.to_numeric(tmp[c], errors='coerce').fillna(0) != 0).astype(int)\n",
    "\n",
    "# 2) Industry-date flags: any firm in industry had an incident today under each definition\n",
    "ind_flags = (\n",
    "    tmp.groupby(['SICS Codified Industry ', 'date'])[mat_cols]\n",
    "    .max()\n",
    "    .reset_index()\n",
    "    .rename(columns={c: f'industry_{c}' for c in mat_cols})\n",
    ")\n",
    "\n",
    "# 3) Merge back to firm-day\n",
    "df = df.merge(ind_flags, on=['SICS Codified Industry ', 'date'], how='left')\n",
    "\n",
    "df"
   ],
   "metadata": {
    "collapsed": false,
    "ExecuteTime": {
     "end_time": "2025-10-22T21:03:47.626911400Z",
     "start_time": "2025-10-22T21:03:29.021029500Z"
    }
   }
  },
  {
   "cell_type": "code",
   "execution_count": 85,
   "outputs": [
    {
     "data": {
      "text/plain": "             cusip incident_date       date   CAR_0_1  severity  reach  \\\n0         00037520    2007-01-03 2007-01-03 -0.040097       NaN    NaN   \n1         00037520    2007-01-04 2007-01-04  -0.04379       NaN    NaN   \n2         00037520    2007-01-05 2007-01-05  0.002126       NaN    NaN   \n3         00037520    2007-01-08 2007-01-08  0.009886       NaN    NaN   \n4         00037520    2007-01-09 2007-01-09  -0.00442       NaN    NaN   \n...            ...           ...        ...       ...       ...    ...   \n17211775  15096410    2023-12-21 2023-12-21  0.028607       NaN    NaN   \n17211776  15096410    2023-12-22 2023-12-22  0.026127       NaN    NaN   \n17211777  15096410    2023-12-26 2023-12-26  0.020036       NaN    NaN   \n17211778  15096410    2023-12-27 2023-12-27 -0.008414       NaN    NaN   \n17211779  15096410    2023-12-28 2023-12-28 -0.048472       NaN    NaN   \n\n          novelty  material_flag  materiality_car_5  materiality_reach  ...  \\\n0             NaN              0                  0                  0  ...   \n1             NaN              0                  0                  0  ...   \n2             NaN              0                  0                  0  ...   \n3             NaN              0                  0                  0  ...   \n4             NaN              0                  0                  0  ...   \n...           ...            ...                ...                ...  ...   \n17211775      NaN              0                  0                  0  ...   \n17211776      NaN              0                  0                  0  ...   \n17211777      NaN              0                  0                  0  ...   \n17211778      NaN              0                  0                  0  ...   \n17211779      NaN              0                  0                  0  ...   \n\n          incident     gvkey            SICS Codified Industry   \\\n0                0  210418.0  Electrical & Electronic Equipment   \n1                0  210418.0  Electrical & Electronic Equipment   \n2                0  210418.0  Electrical & Electronic Equipment   \n3                0  210418.0  Electrical & Electronic Equipment   \n4                0  210418.0  Electrical & Electronic Equipment   \n...            ...       ...                                ...   \n17211775         0   33706.0       Industrial Machinery & Goods   \n17211776         0   33706.0       Industrial Machinery & Goods   \n17211777         0   33706.0       Industrial Machinery & Goods   \n17211778         0   33706.0       Industrial Machinery & Goods   \n17211779         0   33706.0       Industrial Machinery & Goods   \n\n            Codified SICS Sector  industry_material_flag  \\\n0         Resource Transformation                      0   \n1         Resource Transformation                      0   \n2         Resource Transformation                      0   \n3         Resource Transformation                      0   \n4         Resource Transformation                      0   \n...                           ...                    ...   \n17211775  Resource Transformation                      0   \n17211776  Resource Transformation                      0   \n17211777  Resource Transformation                      0   \n17211778  Resource Transformation                      0   \n17211779  Resource Transformation                      0   \n\n         industry_materiality_car_5  industry_materiality_reach  \\\n0                                 0                           0   \n1                                 0                           0   \n2                                 0                           0   \n3                                 0                           0   \n4                                 0                           0   \n...                             ...                         ...   \n17211775                          1                           1   \n17211776                          1                           1   \n17211777                          0                           0   \n17211778                          1                           1   \n17211779                          0                           0   \n\n          industry_materiality_car_1  industry_materiality_severity  \\\n0                                  0                              0   \n1                                  0                              0   \n2                                  0                              0   \n3                                  0                              0   \n4                                  0                              0   \n...                              ...                            ...   \n17211775                           1                              1   \n17211776                           1                              1   \n17211777                           0                              0   \n17211778                           1                              1   \n17211779                           0                              0   \n\n          industry_incident  \n0                         0  \n1                         0  \n2                         0  \n3                         0  \n4                         0  \n...                     ...  \n17211775                  1  \n17211776                  1  \n17211777                  0  \n17211778                  1  \n17211779                  0  \n\n[17211780 rows x 22 columns]",
      "text/html": "<div>\n<style scoped>\n    .dataframe tbody tr th:only-of-type {\n        vertical-align: middle;\n    }\n\n    .dataframe tbody tr th {\n        vertical-align: top;\n    }\n\n    .dataframe thead th {\n        text-align: right;\n    }\n</style>\n<table border=\"1\" class=\"dataframe\">\n  <thead>\n    <tr style=\"text-align: right;\">\n      <th></th>\n      <th>cusip</th>\n      <th>incident_date</th>\n      <th>date</th>\n      <th>CAR_0_1</th>\n      <th>severity</th>\n      <th>reach</th>\n      <th>novelty</th>\n      <th>material_flag</th>\n      <th>materiality_car_5</th>\n      <th>materiality_reach</th>\n      <th>...</th>\n      <th>incident</th>\n      <th>gvkey</th>\n      <th>SICS Codified Industry</th>\n      <th>Codified SICS Sector</th>\n      <th>industry_material_flag</th>\n      <th>industry_materiality_car_5</th>\n      <th>industry_materiality_reach</th>\n      <th>industry_materiality_car_1</th>\n      <th>industry_materiality_severity</th>\n      <th>industry_incident</th>\n    </tr>\n  </thead>\n  <tbody>\n    <tr>\n      <th>0</th>\n      <td>00037520</td>\n      <td>2007-01-03</td>\n      <td>2007-01-03</td>\n      <td>-0.040097</td>\n      <td>NaN</td>\n      <td>NaN</td>\n      <td>NaN</td>\n      <td>0</td>\n      <td>0</td>\n      <td>0</td>\n      <td>...</td>\n      <td>0</td>\n      <td>210418.0</td>\n      <td>Electrical &amp; Electronic Equipment</td>\n      <td>Resource Transformation</td>\n      <td>0</td>\n      <td>0</td>\n      <td>0</td>\n      <td>0</td>\n      <td>0</td>\n      <td>0</td>\n    </tr>\n    <tr>\n      <th>1</th>\n      <td>00037520</td>\n      <td>2007-01-04</td>\n      <td>2007-01-04</td>\n      <td>-0.04379</td>\n      <td>NaN</td>\n      <td>NaN</td>\n      <td>NaN</td>\n      <td>0</td>\n      <td>0</td>\n      <td>0</td>\n      <td>...</td>\n      <td>0</td>\n      <td>210418.0</td>\n      <td>Electrical &amp; Electronic Equipment</td>\n      <td>Resource Transformation</td>\n      <td>0</td>\n      <td>0</td>\n      <td>0</td>\n      <td>0</td>\n      <td>0</td>\n      <td>0</td>\n    </tr>\n    <tr>\n      <th>2</th>\n      <td>00037520</td>\n      <td>2007-01-05</td>\n      <td>2007-01-05</td>\n      <td>0.002126</td>\n      <td>NaN</td>\n      <td>NaN</td>\n      <td>NaN</td>\n      <td>0</td>\n      <td>0</td>\n      <td>0</td>\n      <td>...</td>\n      <td>0</td>\n      <td>210418.0</td>\n      <td>Electrical &amp; Electronic Equipment</td>\n      <td>Resource Transformation</td>\n      <td>0</td>\n      <td>0</td>\n      <td>0</td>\n      <td>0</td>\n      <td>0</td>\n      <td>0</td>\n    </tr>\n    <tr>\n      <th>3</th>\n      <td>00037520</td>\n      <td>2007-01-08</td>\n      <td>2007-01-08</td>\n      <td>0.009886</td>\n      <td>NaN</td>\n      <td>NaN</td>\n      <td>NaN</td>\n      <td>0</td>\n      <td>0</td>\n      <td>0</td>\n      <td>...</td>\n      <td>0</td>\n      <td>210418.0</td>\n      <td>Electrical &amp; Electronic Equipment</td>\n      <td>Resource Transformation</td>\n      <td>0</td>\n      <td>0</td>\n      <td>0</td>\n      <td>0</td>\n      <td>0</td>\n      <td>0</td>\n    </tr>\n    <tr>\n      <th>4</th>\n      <td>00037520</td>\n      <td>2007-01-09</td>\n      <td>2007-01-09</td>\n      <td>-0.00442</td>\n      <td>NaN</td>\n      <td>NaN</td>\n      <td>NaN</td>\n      <td>0</td>\n      <td>0</td>\n      <td>0</td>\n      <td>...</td>\n      <td>0</td>\n      <td>210418.0</td>\n      <td>Electrical &amp; Electronic Equipment</td>\n      <td>Resource Transformation</td>\n      <td>0</td>\n      <td>0</td>\n      <td>0</td>\n      <td>0</td>\n      <td>0</td>\n      <td>0</td>\n    </tr>\n    <tr>\n      <th>...</th>\n      <td>...</td>\n      <td>...</td>\n      <td>...</td>\n      <td>...</td>\n      <td>...</td>\n      <td>...</td>\n      <td>...</td>\n      <td>...</td>\n      <td>...</td>\n      <td>...</td>\n      <td>...</td>\n      <td>...</td>\n      <td>...</td>\n      <td>...</td>\n      <td>...</td>\n      <td>...</td>\n      <td>...</td>\n      <td>...</td>\n      <td>...</td>\n      <td>...</td>\n      <td>...</td>\n    </tr>\n    <tr>\n      <th>17211775</th>\n      <td>15096410</td>\n      <td>2023-12-21</td>\n      <td>2023-12-21</td>\n      <td>0.028607</td>\n      <td>NaN</td>\n      <td>NaN</td>\n      <td>NaN</td>\n      <td>0</td>\n      <td>0</td>\n      <td>0</td>\n      <td>...</td>\n      <td>0</td>\n      <td>33706.0</td>\n      <td>Industrial Machinery &amp; Goods</td>\n      <td>Resource Transformation</td>\n      <td>0</td>\n      <td>1</td>\n      <td>1</td>\n      <td>1</td>\n      <td>1</td>\n      <td>1</td>\n    </tr>\n    <tr>\n      <th>17211776</th>\n      <td>15096410</td>\n      <td>2023-12-22</td>\n      <td>2023-12-22</td>\n      <td>0.026127</td>\n      <td>NaN</td>\n      <td>NaN</td>\n      <td>NaN</td>\n      <td>0</td>\n      <td>0</td>\n      <td>0</td>\n      <td>...</td>\n      <td>0</td>\n      <td>33706.0</td>\n      <td>Industrial Machinery &amp; Goods</td>\n      <td>Resource Transformation</td>\n      <td>0</td>\n      <td>1</td>\n      <td>1</td>\n      <td>1</td>\n      <td>1</td>\n      <td>1</td>\n    </tr>\n    <tr>\n      <th>17211777</th>\n      <td>15096410</td>\n      <td>2023-12-26</td>\n      <td>2023-12-26</td>\n      <td>0.020036</td>\n      <td>NaN</td>\n      <td>NaN</td>\n      <td>NaN</td>\n      <td>0</td>\n      <td>0</td>\n      <td>0</td>\n      <td>...</td>\n      <td>0</td>\n      <td>33706.0</td>\n      <td>Industrial Machinery &amp; Goods</td>\n      <td>Resource Transformation</td>\n      <td>0</td>\n      <td>0</td>\n      <td>0</td>\n      <td>0</td>\n      <td>0</td>\n      <td>0</td>\n    </tr>\n    <tr>\n      <th>17211778</th>\n      <td>15096410</td>\n      <td>2023-12-27</td>\n      <td>2023-12-27</td>\n      <td>-0.008414</td>\n      <td>NaN</td>\n      <td>NaN</td>\n      <td>NaN</td>\n      <td>0</td>\n      <td>0</td>\n      <td>0</td>\n      <td>...</td>\n      <td>0</td>\n      <td>33706.0</td>\n      <td>Industrial Machinery &amp; Goods</td>\n      <td>Resource Transformation</td>\n      <td>0</td>\n      <td>1</td>\n      <td>1</td>\n      <td>1</td>\n      <td>1</td>\n      <td>1</td>\n    </tr>\n    <tr>\n      <th>17211779</th>\n      <td>15096410</td>\n      <td>2023-12-28</td>\n      <td>2023-12-28</td>\n      <td>-0.048472</td>\n      <td>NaN</td>\n      <td>NaN</td>\n      <td>NaN</td>\n      <td>0</td>\n      <td>0</td>\n      <td>0</td>\n      <td>...</td>\n      <td>0</td>\n      <td>33706.0</td>\n      <td>Industrial Machinery &amp; Goods</td>\n      <td>Resource Transformation</td>\n      <td>0</td>\n      <td>0</td>\n      <td>0</td>\n      <td>0</td>\n      <td>0</td>\n      <td>0</td>\n    </tr>\n  </tbody>\n</table>\n<p>17211780 rows × 22 columns</p>\n</div>"
     },
     "execution_count": 85,
     "metadata": {},
     "output_type": "execute_result"
    }
   ],
   "source": [
    "# Fill material columns NaNs with 0 (no incident -> no material incident)\n",
    "# select only columns that already start with 'materiality_'\n",
    "mat_cols = [c for c in df.columns if c.startswith('materiality_')]\n",
    "if 'material_flag' in df.columns:\n",
    "    mat_cols.append('material_flag')\n",
    "\n",
    "# coerce to numeric, fill NAs with 0, cast to int\n",
    "df[mat_cols] = (\n",
    "    df[mat_cols]\n",
    "    .apply(lambda s: pd.to_numeric(s, errors='coerce'))\n",
    "    .fillna(0)\n",
    "    .astype(int)\n",
    ")\n",
    "df"
   ],
   "metadata": {
    "collapsed": false,
    "ExecuteTime": {
     "end_time": "2025-10-22T21:04:03.406623900Z",
     "start_time": "2025-10-22T21:03:55.334398700Z"
    }
   }
  },
  {
   "cell_type": "code",
   "execution_count": 87,
   "outputs": [
    {
     "data": {
      "text/plain": "           date     mktrf       smb       hml        rf       umd\n0    2007-01-03 -0.000005  0.000003   0.00002  0.000002 -0.000045\n1    2007-01-04  0.000016  0.000023 -0.000051  0.000002 -0.000056\n2    2007-01-05 -0.000073 -0.000094 -0.000029  0.000002  0.000005\n3    2007-01-08  0.000024 -0.000009  0.000004  0.000002  0.000032\n4    2007-01-09       0.0  0.000029 -0.000031  0.000002  0.000025\n...         ...       ...       ...       ...       ...       ...\n4272 2023-12-21  0.000109  0.000074 -0.000004  0.000002  -0.00002\n4273 2023-12-22   0.00002  0.000064   0.00001  0.000002 -0.000048\n4274 2023-12-26  0.000048   0.00007  0.000044  0.000002 -0.000021\n4275 2023-12-27  0.000016  0.000013  0.000011  0.000002  0.000011\n4276 2023-12-28 -0.000001 -0.000036  0.000003  0.000002 -0.000048\n\n[4277 rows x 6 columns]",
      "text/html": "<div>\n<style scoped>\n    .dataframe tbody tr th:only-of-type {\n        vertical-align: middle;\n    }\n\n    .dataframe tbody tr th {\n        vertical-align: top;\n    }\n\n    .dataframe thead th {\n        text-align: right;\n    }\n</style>\n<table border=\"1\" class=\"dataframe\">\n  <thead>\n    <tr style=\"text-align: right;\">\n      <th></th>\n      <th>date</th>\n      <th>mktrf</th>\n      <th>smb</th>\n      <th>hml</th>\n      <th>rf</th>\n      <th>umd</th>\n    </tr>\n  </thead>\n  <tbody>\n    <tr>\n      <th>0</th>\n      <td>2007-01-03</td>\n      <td>-0.000005</td>\n      <td>0.000003</td>\n      <td>0.00002</td>\n      <td>0.000002</td>\n      <td>-0.000045</td>\n    </tr>\n    <tr>\n      <th>1</th>\n      <td>2007-01-04</td>\n      <td>0.000016</td>\n      <td>0.000023</td>\n      <td>-0.000051</td>\n      <td>0.000002</td>\n      <td>-0.000056</td>\n    </tr>\n    <tr>\n      <th>2</th>\n      <td>2007-01-05</td>\n      <td>-0.000073</td>\n      <td>-0.000094</td>\n      <td>-0.000029</td>\n      <td>0.000002</td>\n      <td>0.000005</td>\n    </tr>\n    <tr>\n      <th>3</th>\n      <td>2007-01-08</td>\n      <td>0.000024</td>\n      <td>-0.000009</td>\n      <td>0.000004</td>\n      <td>0.000002</td>\n      <td>0.000032</td>\n    </tr>\n    <tr>\n      <th>4</th>\n      <td>2007-01-09</td>\n      <td>0.0</td>\n      <td>0.000029</td>\n      <td>-0.000031</td>\n      <td>0.000002</td>\n      <td>0.000025</td>\n    </tr>\n    <tr>\n      <th>...</th>\n      <td>...</td>\n      <td>...</td>\n      <td>...</td>\n      <td>...</td>\n      <td>...</td>\n      <td>...</td>\n    </tr>\n    <tr>\n      <th>4272</th>\n      <td>2023-12-21</td>\n      <td>0.000109</td>\n      <td>0.000074</td>\n      <td>-0.000004</td>\n      <td>0.000002</td>\n      <td>-0.00002</td>\n    </tr>\n    <tr>\n      <th>4273</th>\n      <td>2023-12-22</td>\n      <td>0.00002</td>\n      <td>0.000064</td>\n      <td>0.00001</td>\n      <td>0.000002</td>\n      <td>-0.000048</td>\n    </tr>\n    <tr>\n      <th>4274</th>\n      <td>2023-12-26</td>\n      <td>0.000048</td>\n      <td>0.00007</td>\n      <td>0.000044</td>\n      <td>0.000002</td>\n      <td>-0.000021</td>\n    </tr>\n    <tr>\n      <th>4275</th>\n      <td>2023-12-27</td>\n      <td>0.000016</td>\n      <td>0.000013</td>\n      <td>0.000011</td>\n      <td>0.000002</td>\n      <td>0.000011</td>\n    </tr>\n    <tr>\n      <th>4276</th>\n      <td>2023-12-28</td>\n      <td>-0.000001</td>\n      <td>-0.000036</td>\n      <td>0.000003</td>\n      <td>0.000002</td>\n      <td>-0.000048</td>\n    </tr>\n  </tbody>\n</table>\n<p>4277 rows × 6 columns</p>\n</div>"
     },
     "execution_count": 87,
     "metadata": {},
     "output_type": "execute_result"
    }
   ],
   "source": [
    "def fetch_ff3_mom_daily(db, start_date, end_date):\n",
    "    \"\"\"Return daily FF3+RF+UMD (all in decimals) for [start_date, end_date].\"\"\"\n",
    "    sql_ff = f\"\"\"\n",
    "        SELECT date, mktrf, smb, hml, rf, umd\n",
    "        FROM ff.factors_daily\n",
    "        WHERE date BETWEEN '{start_date}' AND '{end_date}'\n",
    "    \"\"\"\n",
    "    ff = db.raw_sql(sql_ff, date_cols=['date']).sort_values('date')\n",
    "\n",
    "    # Convert % to decimals\n",
    "    for c in ['mktrf', 'smb', 'hml', 'rf', 'umd']:\n",
    "        ff[c] = pd.to_numeric(ff[c], errors='coerce') / 100.0\n",
    "\n",
    "    return ff\n",
    "\n",
    "\n",
    "# ---- Example usage with your event list df_events ----\n",
    "evt = df.copy()  # your table above\n",
    "evt['date'] = pd.to_datetime(evt['date'])\n",
    "\n",
    "start_date = evt['date'].min()\n",
    "end_date = evt['date'].max()\n",
    "\n",
    "factors = fetch_ff3_mom_daily(db, start_date, end_date)\n",
    "factors"
   ],
   "metadata": {
    "collapsed": false,
    "ExecuteTime": {
     "end_time": "2025-10-22T21:04:34.349383100Z",
     "start_time": "2025-10-22T21:04:30.831860500Z"
    }
   }
  },
  {
   "cell_type": "code",
   "execution_count": 88,
   "outputs": [
    {
     "data": {
      "text/plain": "           date    MKT_2d    SMB_2d    HML_2d     RF_2d    UMD_2d\n0    2007-01-03  0.000011  0.000026 -0.000031  0.000004 -0.000101\n1    2007-01-04 -0.000057 -0.000071  -0.00008  0.000004 -0.000051\n2    2007-01-05 -0.000049 -0.000103 -0.000025  0.000004  0.000037\n3    2007-01-08  0.000024   0.00002 -0.000027  0.000004  0.000057\n4    2007-01-09  0.000023  0.000019  -0.00005  0.000004  0.000028\n...         ...       ...       ...       ...       ...       ...\n4271 2023-12-20 -0.000046  0.000037  0.000009  0.000004   0.00004\n4272 2023-12-21  0.000129  0.000138  0.000006  0.000004 -0.000068\n4273 2023-12-22  0.000068  0.000134  0.000054  0.000004 -0.000069\n4274 2023-12-26  0.000064  0.000083  0.000055  0.000004  -0.00001\n4275 2023-12-27  0.000015 -0.000023  0.000014  0.000004 -0.000037\n\n[4276 rows x 6 columns]",
      "text/html": "<div>\n<style scoped>\n    .dataframe tbody tr th:only-of-type {\n        vertical-align: middle;\n    }\n\n    .dataframe tbody tr th {\n        vertical-align: top;\n    }\n\n    .dataframe thead th {\n        text-align: right;\n    }\n</style>\n<table border=\"1\" class=\"dataframe\">\n  <thead>\n    <tr style=\"text-align: right;\">\n      <th></th>\n      <th>date</th>\n      <th>MKT_2d</th>\n      <th>SMB_2d</th>\n      <th>HML_2d</th>\n      <th>RF_2d</th>\n      <th>UMD_2d</th>\n    </tr>\n  </thead>\n  <tbody>\n    <tr>\n      <th>0</th>\n      <td>2007-01-03</td>\n      <td>0.000011</td>\n      <td>0.000026</td>\n      <td>-0.000031</td>\n      <td>0.000004</td>\n      <td>-0.000101</td>\n    </tr>\n    <tr>\n      <th>1</th>\n      <td>2007-01-04</td>\n      <td>-0.000057</td>\n      <td>-0.000071</td>\n      <td>-0.00008</td>\n      <td>0.000004</td>\n      <td>-0.000051</td>\n    </tr>\n    <tr>\n      <th>2</th>\n      <td>2007-01-05</td>\n      <td>-0.000049</td>\n      <td>-0.000103</td>\n      <td>-0.000025</td>\n      <td>0.000004</td>\n      <td>0.000037</td>\n    </tr>\n    <tr>\n      <th>3</th>\n      <td>2007-01-08</td>\n      <td>0.000024</td>\n      <td>0.00002</td>\n      <td>-0.000027</td>\n      <td>0.000004</td>\n      <td>0.000057</td>\n    </tr>\n    <tr>\n      <th>4</th>\n      <td>2007-01-09</td>\n      <td>0.000023</td>\n      <td>0.000019</td>\n      <td>-0.00005</td>\n      <td>0.000004</td>\n      <td>0.000028</td>\n    </tr>\n    <tr>\n      <th>...</th>\n      <td>...</td>\n      <td>...</td>\n      <td>...</td>\n      <td>...</td>\n      <td>...</td>\n      <td>...</td>\n    </tr>\n    <tr>\n      <th>4271</th>\n      <td>2023-12-20</td>\n      <td>-0.000046</td>\n      <td>0.000037</td>\n      <td>0.000009</td>\n      <td>0.000004</td>\n      <td>0.00004</td>\n    </tr>\n    <tr>\n      <th>4272</th>\n      <td>2023-12-21</td>\n      <td>0.000129</td>\n      <td>0.000138</td>\n      <td>0.000006</td>\n      <td>0.000004</td>\n      <td>-0.000068</td>\n    </tr>\n    <tr>\n      <th>4273</th>\n      <td>2023-12-22</td>\n      <td>0.000068</td>\n      <td>0.000134</td>\n      <td>0.000054</td>\n      <td>0.000004</td>\n      <td>-0.000069</td>\n    </tr>\n    <tr>\n      <th>4274</th>\n      <td>2023-12-26</td>\n      <td>0.000064</td>\n      <td>0.000083</td>\n      <td>0.000055</td>\n      <td>0.000004</td>\n      <td>-0.00001</td>\n    </tr>\n    <tr>\n      <th>4275</th>\n      <td>2023-12-27</td>\n      <td>0.000015</td>\n      <td>-0.000023</td>\n      <td>0.000014</td>\n      <td>0.000004</td>\n      <td>-0.000037</td>\n    </tr>\n  </tbody>\n</table>\n<p>4276 rows × 6 columns</p>\n</div>"
     },
     "execution_count": 88,
     "metadata": {},
     "output_type": "execute_result"
    }
   ],
   "source": [
    "# 2) Build next-day factors and 2-day sums (t + t+1 trading day)\n",
    "sum_cols = ['mktrf', 'smb', 'hml', 'rf', 'umd']\n",
    "\n",
    "for c in sum_cols:\n",
    "    factors[f'next_{c}'] = factors[c].shift(-1)\n",
    "\n",
    "ff_2d = factors.assign(\n",
    "    MKT_2d=factors['mktrf'] + factors['next_mktrf'],\n",
    "    SMB_2d=factors['smb'] + factors['next_smb'],\n",
    "    HML_2d=factors['hml'] + factors['next_hml'],\n",
    "    RF_2d=factors['rf'] + factors['next_rf'],\n",
    "    UMD_2d=factors['umd'] + factors['next_umd']\n",
    ").dropna(subset=['next_mktrf'])  # drop last day (no t+1)\n",
    "\n",
    "keep_cols = ['date', 'MKT_2d', 'SMB_2d', 'HML_2d', 'RF_2d', 'UMD_2d']\n",
    "ff_2d = ff_2d[keep_cols]\n",
    "ff_2d"
   ],
   "metadata": {
    "collapsed": false,
    "ExecuteTime": {
     "end_time": "2025-10-22T21:04:34.679876800Z",
     "start_time": "2025-10-22T21:04:34.452140900Z"
    }
   }
  },
  {
   "cell_type": "code",
   "execution_count": 89,
   "outputs": [
    {
     "data": {
      "text/plain": "             cusip incident_date       date   CAR_0_1  severity  reach  \\\n0         00037520    2007-01-03 2007-01-03 -0.040097       NaN    NaN   \n1         00037520    2007-01-04 2007-01-04  -0.04379       NaN    NaN   \n2         00037520    2007-01-05 2007-01-05  0.002126       NaN    NaN   \n3         00037520    2007-01-08 2007-01-08  0.009886       NaN    NaN   \n4         00037520    2007-01-09 2007-01-09  -0.00442       NaN    NaN   \n...            ...           ...        ...       ...       ...    ...   \n17211775  15096410    2023-12-21 2023-12-21  0.028607       NaN    NaN   \n17211776  15096410    2023-12-22 2023-12-22  0.026127       NaN    NaN   \n17211777  15096410    2023-12-26 2023-12-26  0.020036       NaN    NaN   \n17211778  15096410    2023-12-27 2023-12-27 -0.008414       NaN    NaN   \n17211779  15096410    2023-12-28 2023-12-28 -0.048472       NaN    NaN   \n\n          novelty  material_flag  materiality_car_5  materiality_reach  ...  \\\n0             NaN              0                  0                  0  ...   \n1             NaN              0                  0                  0  ...   \n2             NaN              0                  0                  0  ...   \n3             NaN              0                  0                  0  ...   \n4             NaN              0                  0                  0  ...   \n...           ...            ...                ...                ...  ...   \n17211775      NaN              0                  0                  0  ...   \n17211776      NaN              0                  0                  0  ...   \n17211777      NaN              0                  0                  0  ...   \n17211778      NaN              0                  0                  0  ...   \n17211779      NaN              0                  0                  0  ...   \n\n          industry_materiality_car_5  industry_materiality_reach  \\\n0                                  0                           0   \n1                                  0                           0   \n2                                  0                           0   \n3                                  0                           0   \n4                                  0                           0   \n...                              ...                         ...   \n17211775                           1                           1   \n17211776                           1                           1   \n17211777                           0                           0   \n17211778                           1                           1   \n17211779                           0                           0   \n\n          industry_materiality_car_1  industry_materiality_severity  \\\n0                                  0                              0   \n1                                  0                              0   \n2                                  0                              0   \n3                                  0                              0   \n4                                  0                              0   \n...                              ...                            ...   \n17211775                           1                              1   \n17211776                           1                              1   \n17211777                           0                              0   \n17211778                           1                              1   \n17211779                           0                              0   \n\n         industry_incident    MKT_2d    SMB_2d    HML_2d     RF_2d    UMD_2d  \n0                        0  0.000011  0.000026 -0.000031  0.000004 -0.000101  \n1                        0 -0.000057 -0.000071  -0.00008  0.000004 -0.000051  \n2                        0 -0.000049 -0.000103 -0.000025  0.000004  0.000037  \n3                        0  0.000024   0.00002 -0.000027  0.000004  0.000057  \n4                        0  0.000023  0.000019  -0.00005  0.000004  0.000028  \n...                    ...       ...       ...       ...       ...       ...  \n17211775                 1  0.000129  0.000138  0.000006  0.000004 -0.000068  \n17211776                 1  0.000068  0.000134  0.000054  0.000004 -0.000069  \n17211777                 0  0.000064  0.000083  0.000055  0.000004  -0.00001  \n17211778                 1  0.000015 -0.000023  0.000014  0.000004 -0.000037  \n17211779                 0      <NA>      <NA>      <NA>      <NA>      <NA>  \n\n[17211780 rows x 27 columns]",
      "text/html": "<div>\n<style scoped>\n    .dataframe tbody tr th:only-of-type {\n        vertical-align: middle;\n    }\n\n    .dataframe tbody tr th {\n        vertical-align: top;\n    }\n\n    .dataframe thead th {\n        text-align: right;\n    }\n</style>\n<table border=\"1\" class=\"dataframe\">\n  <thead>\n    <tr style=\"text-align: right;\">\n      <th></th>\n      <th>cusip</th>\n      <th>incident_date</th>\n      <th>date</th>\n      <th>CAR_0_1</th>\n      <th>severity</th>\n      <th>reach</th>\n      <th>novelty</th>\n      <th>material_flag</th>\n      <th>materiality_car_5</th>\n      <th>materiality_reach</th>\n      <th>...</th>\n      <th>industry_materiality_car_5</th>\n      <th>industry_materiality_reach</th>\n      <th>industry_materiality_car_1</th>\n      <th>industry_materiality_severity</th>\n      <th>industry_incident</th>\n      <th>MKT_2d</th>\n      <th>SMB_2d</th>\n      <th>HML_2d</th>\n      <th>RF_2d</th>\n      <th>UMD_2d</th>\n    </tr>\n  </thead>\n  <tbody>\n    <tr>\n      <th>0</th>\n      <td>00037520</td>\n      <td>2007-01-03</td>\n      <td>2007-01-03</td>\n      <td>-0.040097</td>\n      <td>NaN</td>\n      <td>NaN</td>\n      <td>NaN</td>\n      <td>0</td>\n      <td>0</td>\n      <td>0</td>\n      <td>...</td>\n      <td>0</td>\n      <td>0</td>\n      <td>0</td>\n      <td>0</td>\n      <td>0</td>\n      <td>0.000011</td>\n      <td>0.000026</td>\n      <td>-0.000031</td>\n      <td>0.000004</td>\n      <td>-0.000101</td>\n    </tr>\n    <tr>\n      <th>1</th>\n      <td>00037520</td>\n      <td>2007-01-04</td>\n      <td>2007-01-04</td>\n      <td>-0.04379</td>\n      <td>NaN</td>\n      <td>NaN</td>\n      <td>NaN</td>\n      <td>0</td>\n      <td>0</td>\n      <td>0</td>\n      <td>...</td>\n      <td>0</td>\n      <td>0</td>\n      <td>0</td>\n      <td>0</td>\n      <td>0</td>\n      <td>-0.000057</td>\n      <td>-0.000071</td>\n      <td>-0.00008</td>\n      <td>0.000004</td>\n      <td>-0.000051</td>\n    </tr>\n    <tr>\n      <th>2</th>\n      <td>00037520</td>\n      <td>2007-01-05</td>\n      <td>2007-01-05</td>\n      <td>0.002126</td>\n      <td>NaN</td>\n      <td>NaN</td>\n      <td>NaN</td>\n      <td>0</td>\n      <td>0</td>\n      <td>0</td>\n      <td>...</td>\n      <td>0</td>\n      <td>0</td>\n      <td>0</td>\n      <td>0</td>\n      <td>0</td>\n      <td>-0.000049</td>\n      <td>-0.000103</td>\n      <td>-0.000025</td>\n      <td>0.000004</td>\n      <td>0.000037</td>\n    </tr>\n    <tr>\n      <th>3</th>\n      <td>00037520</td>\n      <td>2007-01-08</td>\n      <td>2007-01-08</td>\n      <td>0.009886</td>\n      <td>NaN</td>\n      <td>NaN</td>\n      <td>NaN</td>\n      <td>0</td>\n      <td>0</td>\n      <td>0</td>\n      <td>...</td>\n      <td>0</td>\n      <td>0</td>\n      <td>0</td>\n      <td>0</td>\n      <td>0</td>\n      <td>0.000024</td>\n      <td>0.00002</td>\n      <td>-0.000027</td>\n      <td>0.000004</td>\n      <td>0.000057</td>\n    </tr>\n    <tr>\n      <th>4</th>\n      <td>00037520</td>\n      <td>2007-01-09</td>\n      <td>2007-01-09</td>\n      <td>-0.00442</td>\n      <td>NaN</td>\n      <td>NaN</td>\n      <td>NaN</td>\n      <td>0</td>\n      <td>0</td>\n      <td>0</td>\n      <td>...</td>\n      <td>0</td>\n      <td>0</td>\n      <td>0</td>\n      <td>0</td>\n      <td>0</td>\n      <td>0.000023</td>\n      <td>0.000019</td>\n      <td>-0.00005</td>\n      <td>0.000004</td>\n      <td>0.000028</td>\n    </tr>\n    <tr>\n      <th>...</th>\n      <td>...</td>\n      <td>...</td>\n      <td>...</td>\n      <td>...</td>\n      <td>...</td>\n      <td>...</td>\n      <td>...</td>\n      <td>...</td>\n      <td>...</td>\n      <td>...</td>\n      <td>...</td>\n      <td>...</td>\n      <td>...</td>\n      <td>...</td>\n      <td>...</td>\n      <td>...</td>\n      <td>...</td>\n      <td>...</td>\n      <td>...</td>\n      <td>...</td>\n      <td>...</td>\n    </tr>\n    <tr>\n      <th>17211775</th>\n      <td>15096410</td>\n      <td>2023-12-21</td>\n      <td>2023-12-21</td>\n      <td>0.028607</td>\n      <td>NaN</td>\n      <td>NaN</td>\n      <td>NaN</td>\n      <td>0</td>\n      <td>0</td>\n      <td>0</td>\n      <td>...</td>\n      <td>1</td>\n      <td>1</td>\n      <td>1</td>\n      <td>1</td>\n      <td>1</td>\n      <td>0.000129</td>\n      <td>0.000138</td>\n      <td>0.000006</td>\n      <td>0.000004</td>\n      <td>-0.000068</td>\n    </tr>\n    <tr>\n      <th>17211776</th>\n      <td>15096410</td>\n      <td>2023-12-22</td>\n      <td>2023-12-22</td>\n      <td>0.026127</td>\n      <td>NaN</td>\n      <td>NaN</td>\n      <td>NaN</td>\n      <td>0</td>\n      <td>0</td>\n      <td>0</td>\n      <td>...</td>\n      <td>1</td>\n      <td>1</td>\n      <td>1</td>\n      <td>1</td>\n      <td>1</td>\n      <td>0.000068</td>\n      <td>0.000134</td>\n      <td>0.000054</td>\n      <td>0.000004</td>\n      <td>-0.000069</td>\n    </tr>\n    <tr>\n      <th>17211777</th>\n      <td>15096410</td>\n      <td>2023-12-26</td>\n      <td>2023-12-26</td>\n      <td>0.020036</td>\n      <td>NaN</td>\n      <td>NaN</td>\n      <td>NaN</td>\n      <td>0</td>\n      <td>0</td>\n      <td>0</td>\n      <td>...</td>\n      <td>0</td>\n      <td>0</td>\n      <td>0</td>\n      <td>0</td>\n      <td>0</td>\n      <td>0.000064</td>\n      <td>0.000083</td>\n      <td>0.000055</td>\n      <td>0.000004</td>\n      <td>-0.00001</td>\n    </tr>\n    <tr>\n      <th>17211778</th>\n      <td>15096410</td>\n      <td>2023-12-27</td>\n      <td>2023-12-27</td>\n      <td>-0.008414</td>\n      <td>NaN</td>\n      <td>NaN</td>\n      <td>NaN</td>\n      <td>0</td>\n      <td>0</td>\n      <td>0</td>\n      <td>...</td>\n      <td>1</td>\n      <td>1</td>\n      <td>1</td>\n      <td>1</td>\n      <td>1</td>\n      <td>0.000015</td>\n      <td>-0.000023</td>\n      <td>0.000014</td>\n      <td>0.000004</td>\n      <td>-0.000037</td>\n    </tr>\n    <tr>\n      <th>17211779</th>\n      <td>15096410</td>\n      <td>2023-12-28</td>\n      <td>2023-12-28</td>\n      <td>-0.048472</td>\n      <td>NaN</td>\n      <td>NaN</td>\n      <td>NaN</td>\n      <td>0</td>\n      <td>0</td>\n      <td>0</td>\n      <td>...</td>\n      <td>0</td>\n      <td>0</td>\n      <td>0</td>\n      <td>0</td>\n      <td>0</td>\n      <td>&lt;NA&gt;</td>\n      <td>&lt;NA&gt;</td>\n      <td>&lt;NA&gt;</td>\n      <td>&lt;NA&gt;</td>\n      <td>&lt;NA&gt;</td>\n    </tr>\n  </tbody>\n</table>\n<p>17211780 rows × 27 columns</p>\n</div>"
     },
     "execution_count": 89,
     "metadata": {},
     "output_type": "execute_result"
    }
   ],
   "source": [
    "# Merge by date\n",
    "evt = evt.merge(ff_2d, on='date', how='left')\n",
    "evt"
   ],
   "metadata": {
    "collapsed": false,
    "ExecuteTime": {
     "end_time": "2025-10-22T21:04:51.548772400Z",
     "start_time": "2025-10-22T21:04:43.601007200Z"
    }
   }
  },
  {
   "cell_type": "code",
   "execution_count": 90,
   "outputs": [],
   "source": [
    "#evt.drop(columns=['incident_date', 'severity', 'reach', 'novelty'], inplace=True)\n",
    "evt.to_csv('Output/events_ff3mom_daily.csv', index=False)"
   ],
   "metadata": {
    "collapsed": false,
    "ExecuteTime": {
     "end_time": "2025-10-22T21:11:12.470039200Z",
     "start_time": "2025-10-22T21:05:10.735807200Z"
    }
   }
  },
  {
   "cell_type": "code",
   "execution_count": null,
   "outputs": [],
   "source": [],
   "metadata": {
    "collapsed": false
   }
  },
  {
   "cell_type": "markdown",
   "source": [
    "## 3.1 Add event indicators"
   ],
   "metadata": {
    "collapsed": false
   }
  },
  {
   "cell_type": "code",
   "execution_count": 5,
   "outputs": [
    {
     "name": "stderr",
     "output_type": "stream",
     "text": [
      "C:\\Users\\PascalSchrader.WIN-T1MVMVKE25U.000\\AppData\\Local\\Temp\\9\\ipykernel_74912\\3810666763.py:1: DtypeWarning: Columns (0) have mixed types. Specify dtype option on import or set low_memory=False.\n",
      "  evt = pd.read_csv('Output/events_ff3mom_daily.csv')\n"
     ]
    },
    {
     "data": {
      "text/plain": "             cusip incident_date        date   CAR_0_1  severity  reach  \\\n0         00037520    2007-01-03  2007-01-03 -0.040097       NaN    NaN   \n1         00037520    2007-01-04  2007-01-04 -0.043790       NaN    NaN   \n2         00037520    2007-01-05  2007-01-05  0.002126       NaN    NaN   \n3         00037520    2007-01-08  2007-01-08  0.009886       NaN    NaN   \n4         00037520    2007-01-09  2007-01-09 -0.004420       NaN    NaN   \n...            ...           ...         ...       ...       ...    ...   \n17211775  15096410    2023-12-21  2023-12-21  0.028607       NaN    NaN   \n17211776  15096410    2023-12-22  2023-12-22  0.026127       NaN    NaN   \n17211777  15096410    2023-12-26  2023-12-26  0.020036       NaN    NaN   \n17211778  15096410    2023-12-27  2023-12-27 -0.008414       NaN    NaN   \n17211779  15096410    2023-12-28  2023-12-28 -0.048472       NaN    NaN   \n\n          novelty  material_flag  materiality_car_5  materiality_reach  ...  \\\n0             NaN              0                  0                  0  ...   \n1             NaN              0                  0                  0  ...   \n2             NaN              0                  0                  0  ...   \n3             NaN              0                  0                  0  ...   \n4             NaN              0                  0                  0  ...   \n...           ...            ...                ...                ...  ...   \n17211775      NaN              0                  0                  0  ...   \n17211776      NaN              0                  0                  0  ...   \n17211777      NaN              0                  0                  0  ...   \n17211778      NaN              0                  0                  0  ...   \n17211779      NaN              0                  0                  0  ...   \n\n          industry_materiality_car_5  industry_materiality_reach  \\\n0                                  0                           0   \n1                                  0                           0   \n2                                  0                           0   \n3                                  0                           0   \n4                                  0                           0   \n...                              ...                         ...   \n17211775                           1                           1   \n17211776                           1                           1   \n17211777                           0                           0   \n17211778                           1                           1   \n17211779                           0                           0   \n\n          industry_materiality_car_1  industry_materiality_severity  \\\n0                                  0                              0   \n1                                  0                              0   \n2                                  0                              0   \n3                                  0                              0   \n4                                  0                              0   \n...                              ...                            ...   \n17211775                           1                              1   \n17211776                           1                              1   \n17211777                           0                              0   \n17211778                           1                              1   \n17211779                           0                              0   \n\n         industry_incident    MKT_2d    SMB_2d    HML_2d     RF_2d    UMD_2d  \n0                        0  0.000011  0.000026 -0.000031  0.000004 -0.000101  \n1                        0 -0.000057 -0.000071 -0.000080  0.000004 -0.000051  \n2                        0 -0.000049 -0.000103 -0.000025  0.000004  0.000037  \n3                        0  0.000024  0.000020 -0.000027  0.000004  0.000057  \n4                        0  0.000023  0.000019 -0.000050  0.000004  0.000028  \n...                    ...       ...       ...       ...       ...       ...  \n17211775                 1  0.000129  0.000138  0.000006  0.000004 -0.000068  \n17211776                 1  0.000068  0.000134  0.000054  0.000004 -0.000069  \n17211777                 0  0.000064  0.000083  0.000055  0.000004 -0.000010  \n17211778                 1  0.000015 -0.000023  0.000014  0.000004 -0.000037  \n17211779                 0       NaN       NaN       NaN       NaN       NaN  \n\n[17211780 rows x 27 columns]",
      "text/html": "<div>\n<style scoped>\n    .dataframe tbody tr th:only-of-type {\n        vertical-align: middle;\n    }\n\n    .dataframe tbody tr th {\n        vertical-align: top;\n    }\n\n    .dataframe thead th {\n        text-align: right;\n    }\n</style>\n<table border=\"1\" class=\"dataframe\">\n  <thead>\n    <tr style=\"text-align: right;\">\n      <th></th>\n      <th>cusip</th>\n      <th>incident_date</th>\n      <th>date</th>\n      <th>CAR_0_1</th>\n      <th>severity</th>\n      <th>reach</th>\n      <th>novelty</th>\n      <th>material_flag</th>\n      <th>materiality_car_5</th>\n      <th>materiality_reach</th>\n      <th>...</th>\n      <th>industry_materiality_car_5</th>\n      <th>industry_materiality_reach</th>\n      <th>industry_materiality_car_1</th>\n      <th>industry_materiality_severity</th>\n      <th>industry_incident</th>\n      <th>MKT_2d</th>\n      <th>SMB_2d</th>\n      <th>HML_2d</th>\n      <th>RF_2d</th>\n      <th>UMD_2d</th>\n    </tr>\n  </thead>\n  <tbody>\n    <tr>\n      <th>0</th>\n      <td>00037520</td>\n      <td>2007-01-03</td>\n      <td>2007-01-03</td>\n      <td>-0.040097</td>\n      <td>NaN</td>\n      <td>NaN</td>\n      <td>NaN</td>\n      <td>0</td>\n      <td>0</td>\n      <td>0</td>\n      <td>...</td>\n      <td>0</td>\n      <td>0</td>\n      <td>0</td>\n      <td>0</td>\n      <td>0</td>\n      <td>0.000011</td>\n      <td>0.000026</td>\n      <td>-0.000031</td>\n      <td>0.000004</td>\n      <td>-0.000101</td>\n    </tr>\n    <tr>\n      <th>1</th>\n      <td>00037520</td>\n      <td>2007-01-04</td>\n      <td>2007-01-04</td>\n      <td>-0.043790</td>\n      <td>NaN</td>\n      <td>NaN</td>\n      <td>NaN</td>\n      <td>0</td>\n      <td>0</td>\n      <td>0</td>\n      <td>...</td>\n      <td>0</td>\n      <td>0</td>\n      <td>0</td>\n      <td>0</td>\n      <td>0</td>\n      <td>-0.000057</td>\n      <td>-0.000071</td>\n      <td>-0.000080</td>\n      <td>0.000004</td>\n      <td>-0.000051</td>\n    </tr>\n    <tr>\n      <th>2</th>\n      <td>00037520</td>\n      <td>2007-01-05</td>\n      <td>2007-01-05</td>\n      <td>0.002126</td>\n      <td>NaN</td>\n      <td>NaN</td>\n      <td>NaN</td>\n      <td>0</td>\n      <td>0</td>\n      <td>0</td>\n      <td>...</td>\n      <td>0</td>\n      <td>0</td>\n      <td>0</td>\n      <td>0</td>\n      <td>0</td>\n      <td>-0.000049</td>\n      <td>-0.000103</td>\n      <td>-0.000025</td>\n      <td>0.000004</td>\n      <td>0.000037</td>\n    </tr>\n    <tr>\n      <th>3</th>\n      <td>00037520</td>\n      <td>2007-01-08</td>\n      <td>2007-01-08</td>\n      <td>0.009886</td>\n      <td>NaN</td>\n      <td>NaN</td>\n      <td>NaN</td>\n      <td>0</td>\n      <td>0</td>\n      <td>0</td>\n      <td>...</td>\n      <td>0</td>\n      <td>0</td>\n      <td>0</td>\n      <td>0</td>\n      <td>0</td>\n      <td>0.000024</td>\n      <td>0.000020</td>\n      <td>-0.000027</td>\n      <td>0.000004</td>\n      <td>0.000057</td>\n    </tr>\n    <tr>\n      <th>4</th>\n      <td>00037520</td>\n      <td>2007-01-09</td>\n      <td>2007-01-09</td>\n      <td>-0.004420</td>\n      <td>NaN</td>\n      <td>NaN</td>\n      <td>NaN</td>\n      <td>0</td>\n      <td>0</td>\n      <td>0</td>\n      <td>...</td>\n      <td>0</td>\n      <td>0</td>\n      <td>0</td>\n      <td>0</td>\n      <td>0</td>\n      <td>0.000023</td>\n      <td>0.000019</td>\n      <td>-0.000050</td>\n      <td>0.000004</td>\n      <td>0.000028</td>\n    </tr>\n    <tr>\n      <th>...</th>\n      <td>...</td>\n      <td>...</td>\n      <td>...</td>\n      <td>...</td>\n      <td>...</td>\n      <td>...</td>\n      <td>...</td>\n      <td>...</td>\n      <td>...</td>\n      <td>...</td>\n      <td>...</td>\n      <td>...</td>\n      <td>...</td>\n      <td>...</td>\n      <td>...</td>\n      <td>...</td>\n      <td>...</td>\n      <td>...</td>\n      <td>...</td>\n      <td>...</td>\n      <td>...</td>\n    </tr>\n    <tr>\n      <th>17211775</th>\n      <td>15096410</td>\n      <td>2023-12-21</td>\n      <td>2023-12-21</td>\n      <td>0.028607</td>\n      <td>NaN</td>\n      <td>NaN</td>\n      <td>NaN</td>\n      <td>0</td>\n      <td>0</td>\n      <td>0</td>\n      <td>...</td>\n      <td>1</td>\n      <td>1</td>\n      <td>1</td>\n      <td>1</td>\n      <td>1</td>\n      <td>0.000129</td>\n      <td>0.000138</td>\n      <td>0.000006</td>\n      <td>0.000004</td>\n      <td>-0.000068</td>\n    </tr>\n    <tr>\n      <th>17211776</th>\n      <td>15096410</td>\n      <td>2023-12-22</td>\n      <td>2023-12-22</td>\n      <td>0.026127</td>\n      <td>NaN</td>\n      <td>NaN</td>\n      <td>NaN</td>\n      <td>0</td>\n      <td>0</td>\n      <td>0</td>\n      <td>...</td>\n      <td>1</td>\n      <td>1</td>\n      <td>1</td>\n      <td>1</td>\n      <td>1</td>\n      <td>0.000068</td>\n      <td>0.000134</td>\n      <td>0.000054</td>\n      <td>0.000004</td>\n      <td>-0.000069</td>\n    </tr>\n    <tr>\n      <th>17211777</th>\n      <td>15096410</td>\n      <td>2023-12-26</td>\n      <td>2023-12-26</td>\n      <td>0.020036</td>\n      <td>NaN</td>\n      <td>NaN</td>\n      <td>NaN</td>\n      <td>0</td>\n      <td>0</td>\n      <td>0</td>\n      <td>...</td>\n      <td>0</td>\n      <td>0</td>\n      <td>0</td>\n      <td>0</td>\n      <td>0</td>\n      <td>0.000064</td>\n      <td>0.000083</td>\n      <td>0.000055</td>\n      <td>0.000004</td>\n      <td>-0.000010</td>\n    </tr>\n    <tr>\n      <th>17211778</th>\n      <td>15096410</td>\n      <td>2023-12-27</td>\n      <td>2023-12-27</td>\n      <td>-0.008414</td>\n      <td>NaN</td>\n      <td>NaN</td>\n      <td>NaN</td>\n      <td>0</td>\n      <td>0</td>\n      <td>0</td>\n      <td>...</td>\n      <td>1</td>\n      <td>1</td>\n      <td>1</td>\n      <td>1</td>\n      <td>1</td>\n      <td>0.000015</td>\n      <td>-0.000023</td>\n      <td>0.000014</td>\n      <td>0.000004</td>\n      <td>-0.000037</td>\n    </tr>\n    <tr>\n      <th>17211779</th>\n      <td>15096410</td>\n      <td>2023-12-28</td>\n      <td>2023-12-28</td>\n      <td>-0.048472</td>\n      <td>NaN</td>\n      <td>NaN</td>\n      <td>NaN</td>\n      <td>0</td>\n      <td>0</td>\n      <td>0</td>\n      <td>...</td>\n      <td>0</td>\n      <td>0</td>\n      <td>0</td>\n      <td>0</td>\n      <td>0</td>\n      <td>NaN</td>\n      <td>NaN</td>\n      <td>NaN</td>\n      <td>NaN</td>\n      <td>NaN</td>\n    </tr>\n  </tbody>\n</table>\n<p>17211780 rows × 27 columns</p>\n</div>"
     },
     "execution_count": 5,
     "metadata": {},
     "output_type": "execute_result"
    }
   ],
   "source": [
    "evt = pd.read_csv('Output/events_ff3mom_daily.csv')\n",
    "reprisk = pd.read_csv('data/incidents_rolling_firm.csv')\n",
    "evt"
   ],
   "metadata": {
    "collapsed": false,
    "ExecuteTime": {
     "end_time": "2025-10-23T15:11:20.690820900Z",
     "start_time": "2025-10-23T15:08:45.553153400Z"
    }
   }
  },
  {
   "cell_type": "code",
   "execution_count": 6,
   "outputs": [
    {
     "data": {
      "text/plain": "            gvkey   YearMonth  n_material  n_nonmaterial  n_car_1_material  \\\n0          1004.0  2007-01-01           0              0                 0   \n1          1004.0  2007-02-01           0              0                 0   \n2          1004.0  2007-03-01           0              0                 0   \n3          1004.0  2007-04-01           0              0                 0   \n4          1004.0  2007-05-01           0              0                 0   \n...           ...         ...         ...            ...               ...   \n2390467  356128.0  2023-08-01           0              0                 0   \n2390468  356128.0  2023-09-01           0              0                 0   \n2390469  356128.0  2023-10-01           0              0                 0   \n2390470  356128.0  2023-11-01           0              0                 0   \n2390471  356128.0  2023-12-01           0              0                 0   \n\n         n_car_5_material  n_reach_material  n_severity_material      cusip  \\\n0                       0                 0                    0  000361105   \n1                       0                 0                    0  000361105   \n2                       0                 0                    0  000361105   \n3                       0                 0                    0  000361105   \n4                       0                 0                    0  000361105   \n...                   ...               ...                  ...        ...   \n2390467                 0                 0                    0  48581R205   \n2390468                 0                 0                    0  48581R205   \n2390469                 0                 0                    0  48581R205   \n2390470                 0                 0                    0  48581R205   \n2390471                 0                 0                    0  48581R205   \n\n              SICS Codified Industry   ...       smb       hml        rf  \\\n0        Industrial Machinery & Goods  ...  0.000009 -0.000068  0.000044   \n1        Industrial Machinery & Goods  ...  0.000123 -0.000008  0.000038   \n2        Industrial Machinery & Goods  ...  0.000009 -0.000088  0.000043   \n3        Industrial Machinery & Goods  ... -0.000221 -0.000144  0.000044   \n4        Industrial Machinery & Goods  ...  0.000016 -0.000059  0.000041   \n...                               ...  ...       ...       ...       ...   \n2390467              Consumer Finance  ... -0.000314 -0.000115  0.000045   \n2390468              Consumer Finance  ... -0.000251  0.000149  0.000043   \n2390469              Consumer Finance  ... -0.000386  0.000020  0.000047   \n2390470              Consumer Finance  ... -0.000010  0.000167  0.000044   \n2390471              Consumer Finance  ...  0.000630  0.000489  0.000043   \n\n              umd  YearQuarter  YearQuarter_prior      size     roa_q  \\\n0        0.000017       2007Q1             2006Q4  6.889099  0.013968   \n1       -0.000129       2007Q1             2006Q4  6.889099  0.013968   \n2        0.000258       2007Q1             2006Q4  6.889099  0.013968   \n3       -0.000016       2007Q2             2007Q1  6.987112  0.015352   \n4       -0.000033       2007Q2             2007Q1  6.987112  0.015352   \n...           ...          ...                ...       ...       ...   \n2390467  0.000378       2023Q3             2023Q2       NaN       NaN   \n2390468  0.000033       2023Q3             2023Q2       NaN       NaN   \n2390469  0.000167       2023Q4             2023Q3  9.846527  0.034406   \n2390470  0.000256       2023Q4             2023Q3  9.846527  0.034406   \n2390471 -0.000553       2023Q4             2023Q3  9.846527  0.034406   \n\n            lev_q      bm_q  \n0        0.549214  0.495846  \n1        0.549214  0.495846  \n2        0.549214  0.495846  \n3        0.535340  0.468633  \n4        0.535340  0.468633  \n...           ...       ...  \n2390467       NaN       NaN  \n2390468       NaN       NaN  \n2390469  0.833953       NaN  \n2390470  0.833953       NaN  \n2390471  0.833953       NaN  \n\n[2390472 rows x 29 columns]",
      "text/html": "<div>\n<style scoped>\n    .dataframe tbody tr th:only-of-type {\n        vertical-align: middle;\n    }\n\n    .dataframe tbody tr th {\n        vertical-align: top;\n    }\n\n    .dataframe thead th {\n        text-align: right;\n    }\n</style>\n<table border=\"1\" class=\"dataframe\">\n  <thead>\n    <tr style=\"text-align: right;\">\n      <th></th>\n      <th>gvkey</th>\n      <th>YearMonth</th>\n      <th>n_material</th>\n      <th>n_nonmaterial</th>\n      <th>n_car_1_material</th>\n      <th>n_car_5_material</th>\n      <th>n_reach_material</th>\n      <th>n_severity_material</th>\n      <th>cusip</th>\n      <th>SICS Codified Industry</th>\n      <th>...</th>\n      <th>smb</th>\n      <th>hml</th>\n      <th>rf</th>\n      <th>umd</th>\n      <th>YearQuarter</th>\n      <th>YearQuarter_prior</th>\n      <th>size</th>\n      <th>roa_q</th>\n      <th>lev_q</th>\n      <th>bm_q</th>\n    </tr>\n  </thead>\n  <tbody>\n    <tr>\n      <th>0</th>\n      <td>1004.0</td>\n      <td>2007-01-01</td>\n      <td>0</td>\n      <td>0</td>\n      <td>0</td>\n      <td>0</td>\n      <td>0</td>\n      <td>0</td>\n      <td>000361105</td>\n      <td>Industrial Machinery &amp; Goods</td>\n      <td>...</td>\n      <td>0.000009</td>\n      <td>-0.000068</td>\n      <td>0.000044</td>\n      <td>0.000017</td>\n      <td>2007Q1</td>\n      <td>2006Q4</td>\n      <td>6.889099</td>\n      <td>0.013968</td>\n      <td>0.549214</td>\n      <td>0.495846</td>\n    </tr>\n    <tr>\n      <th>1</th>\n      <td>1004.0</td>\n      <td>2007-02-01</td>\n      <td>0</td>\n      <td>0</td>\n      <td>0</td>\n      <td>0</td>\n      <td>0</td>\n      <td>0</td>\n      <td>000361105</td>\n      <td>Industrial Machinery &amp; Goods</td>\n      <td>...</td>\n      <td>0.000123</td>\n      <td>-0.000008</td>\n      <td>0.000038</td>\n      <td>-0.000129</td>\n      <td>2007Q1</td>\n      <td>2006Q4</td>\n      <td>6.889099</td>\n      <td>0.013968</td>\n      <td>0.549214</td>\n      <td>0.495846</td>\n    </tr>\n    <tr>\n      <th>2</th>\n      <td>1004.0</td>\n      <td>2007-03-01</td>\n      <td>0</td>\n      <td>0</td>\n      <td>0</td>\n      <td>0</td>\n      <td>0</td>\n      <td>0</td>\n      <td>000361105</td>\n      <td>Industrial Machinery &amp; Goods</td>\n      <td>...</td>\n      <td>0.000009</td>\n      <td>-0.000088</td>\n      <td>0.000043</td>\n      <td>0.000258</td>\n      <td>2007Q1</td>\n      <td>2006Q4</td>\n      <td>6.889099</td>\n      <td>0.013968</td>\n      <td>0.549214</td>\n      <td>0.495846</td>\n    </tr>\n    <tr>\n      <th>3</th>\n      <td>1004.0</td>\n      <td>2007-04-01</td>\n      <td>0</td>\n      <td>0</td>\n      <td>0</td>\n      <td>0</td>\n      <td>0</td>\n      <td>0</td>\n      <td>000361105</td>\n      <td>Industrial Machinery &amp; Goods</td>\n      <td>...</td>\n      <td>-0.000221</td>\n      <td>-0.000144</td>\n      <td>0.000044</td>\n      <td>-0.000016</td>\n      <td>2007Q2</td>\n      <td>2007Q1</td>\n      <td>6.987112</td>\n      <td>0.015352</td>\n      <td>0.535340</td>\n      <td>0.468633</td>\n    </tr>\n    <tr>\n      <th>4</th>\n      <td>1004.0</td>\n      <td>2007-05-01</td>\n      <td>0</td>\n      <td>0</td>\n      <td>0</td>\n      <td>0</td>\n      <td>0</td>\n      <td>0</td>\n      <td>000361105</td>\n      <td>Industrial Machinery &amp; Goods</td>\n      <td>...</td>\n      <td>0.000016</td>\n      <td>-0.000059</td>\n      <td>0.000041</td>\n      <td>-0.000033</td>\n      <td>2007Q2</td>\n      <td>2007Q1</td>\n      <td>6.987112</td>\n      <td>0.015352</td>\n      <td>0.535340</td>\n      <td>0.468633</td>\n    </tr>\n    <tr>\n      <th>...</th>\n      <td>...</td>\n      <td>...</td>\n      <td>...</td>\n      <td>...</td>\n      <td>...</td>\n      <td>...</td>\n      <td>...</td>\n      <td>...</td>\n      <td>...</td>\n      <td>...</td>\n      <td>...</td>\n      <td>...</td>\n      <td>...</td>\n      <td>...</td>\n      <td>...</td>\n      <td>...</td>\n      <td>...</td>\n      <td>...</td>\n      <td>...</td>\n      <td>...</td>\n      <td>...</td>\n    </tr>\n    <tr>\n      <th>2390467</th>\n      <td>356128.0</td>\n      <td>2023-08-01</td>\n      <td>0</td>\n      <td>0</td>\n      <td>0</td>\n      <td>0</td>\n      <td>0</td>\n      <td>0</td>\n      <td>48581R205</td>\n      <td>Consumer Finance</td>\n      <td>...</td>\n      <td>-0.000314</td>\n      <td>-0.000115</td>\n      <td>0.000045</td>\n      <td>0.000378</td>\n      <td>2023Q3</td>\n      <td>2023Q2</td>\n      <td>NaN</td>\n      <td>NaN</td>\n      <td>NaN</td>\n      <td>NaN</td>\n    </tr>\n    <tr>\n      <th>2390468</th>\n      <td>356128.0</td>\n      <td>2023-09-01</td>\n      <td>0</td>\n      <td>0</td>\n      <td>0</td>\n      <td>0</td>\n      <td>0</td>\n      <td>0</td>\n      <td>48581R205</td>\n      <td>Consumer Finance</td>\n      <td>...</td>\n      <td>-0.000251</td>\n      <td>0.000149</td>\n      <td>0.000043</td>\n      <td>0.000033</td>\n      <td>2023Q3</td>\n      <td>2023Q2</td>\n      <td>NaN</td>\n      <td>NaN</td>\n      <td>NaN</td>\n      <td>NaN</td>\n    </tr>\n    <tr>\n      <th>2390469</th>\n      <td>356128.0</td>\n      <td>2023-10-01</td>\n      <td>0</td>\n      <td>0</td>\n      <td>0</td>\n      <td>0</td>\n      <td>0</td>\n      <td>0</td>\n      <td>48581R205</td>\n      <td>Consumer Finance</td>\n      <td>...</td>\n      <td>-0.000386</td>\n      <td>0.000020</td>\n      <td>0.000047</td>\n      <td>0.000167</td>\n      <td>2023Q4</td>\n      <td>2023Q3</td>\n      <td>9.846527</td>\n      <td>0.034406</td>\n      <td>0.833953</td>\n      <td>NaN</td>\n    </tr>\n    <tr>\n      <th>2390470</th>\n      <td>356128.0</td>\n      <td>2023-11-01</td>\n      <td>0</td>\n      <td>0</td>\n      <td>0</td>\n      <td>0</td>\n      <td>0</td>\n      <td>0</td>\n      <td>48581R205</td>\n      <td>Consumer Finance</td>\n      <td>...</td>\n      <td>-0.000010</td>\n      <td>0.000167</td>\n      <td>0.000044</td>\n      <td>0.000256</td>\n      <td>2023Q4</td>\n      <td>2023Q3</td>\n      <td>9.846527</td>\n      <td>0.034406</td>\n      <td>0.833953</td>\n      <td>NaN</td>\n    </tr>\n    <tr>\n      <th>2390471</th>\n      <td>356128.0</td>\n      <td>2023-12-01</td>\n      <td>0</td>\n      <td>0</td>\n      <td>0</td>\n      <td>0</td>\n      <td>0</td>\n      <td>0</td>\n      <td>48581R205</td>\n      <td>Consumer Finance</td>\n      <td>...</td>\n      <td>0.000630</td>\n      <td>0.000489</td>\n      <td>0.000043</td>\n      <td>-0.000553</td>\n      <td>2023Q4</td>\n      <td>2023Q3</td>\n      <td>9.846527</td>\n      <td>0.034406</td>\n      <td>0.833953</td>\n      <td>NaN</td>\n    </tr>\n  </tbody>\n</table>\n<p>2390472 rows × 29 columns</p>\n</div>"
     },
     "execution_count": 6,
     "metadata": {},
     "output_type": "execute_result"
    }
   ],
   "source": [],
   "metadata": {
    "collapsed": false,
    "ExecuteTime": {
     "end_time": "2025-10-23T15:13:55.705201800Z",
     "start_time": "2025-10-23T15:13:42.425188700Z"
    }
   }
  },
  {
   "cell_type": "code",
   "execution_count": 4,
   "outputs": [],
   "source": [
    "# Merge severity and reach back\n",
    "evt = evt.merge(reprisk[['cusip', 'incident_date', 'severity', 'reach']], left_on=['cusip', 'date'],\n",
    "                right_on=['cusip', 'incident_date'], how='left')"
   ],
   "metadata": {
    "collapsed": false,
    "ExecuteTime": {
     "end_time": "2025-10-22T17:45:21.783036400Z",
     "start_time": "2025-10-22T17:45:12.614858800Z"
    }
   }
  },
  {
   "cell_type": "code",
   "execution_count": 91,
   "outputs": [],
   "source": [
    "def add_peer_incident_indicators(\n",
    "        df: pd.DataFrame,\n",
    "        industry_col: str = \"SICS Codified Industry \",\n",
    "        date_col: str = \"date\",\n",
    "        firm_col: str = \"cusip\",\n",
    "):\n",
    "    out = df.copy()\n",
    "\n",
    "    # Ensure types\n",
    "    out[date_col] = pd.to_datetime(out[date_col], errors=\"coerce\")\n",
    "    # Coerce severity/reach to numeric (handles strings/NaNs)\n",
    "    out[\"severity\"] = pd.to_numeric(out.get(\"severity\"), errors=\"coerce\")\n",
    "    out[\"reach\"] = pd.to_numeric(out.get(\"reach\"), errors=\"coerce\")\n",
    "\n",
    "    # Row-level flags for \"this row is a severity3 / reach3 incident\"\n",
    "    out[\"_sev3_self\"] = (out[\"severity\"] == 3).astype(int)\n",
    "    out[\"_reach3_self\"] = (out[\"reach\"] == 3).astype(int)\n",
    "\n",
    "    # Group by industry & date and count how many severity3/reach3 in the group\n",
    "    grp_keys = [industry_col, date_col]\n",
    "    sev3_total = out.groupby(grp_keys)[\"_sev3_self\"].transform(\"sum\")\n",
    "    reach3_total = out.groupby(grp_keys)[\"_reach3_self\"].transform(\"sum\")\n",
    "\n",
    "    # Peers = group total minus this row's own flag\n",
    "    out[\"peer_severity3\"] = (sev3_total - out[\"_sev3_self\"] > 0).astype(int)\n",
    "    out[\"peer_reach3\"] = (reach3_total - out[\"_reach3_self\"] > 0).astype(int)\n",
    "\n",
    "    # Optional: if you only want to flag peers within the *same industry* but\n",
    "    # exclude duplicate rows of the same firm on the same date (rare), this already handles it.\n",
    "\n",
    "    # Clean up\n",
    "    out.drop(columns=[\"_sev3_self\", \"_reach3_self\"], inplace=True)\n",
    "    return out\n",
    "\n",
    "\n",
    "# Example:\n",
    "df2 = add_peer_incident_indicators(evt)"
   ],
   "metadata": {
    "collapsed": false,
    "ExecuteTime": {
     "end_time": "2025-10-22T21:15:23.583320500Z",
     "start_time": "2025-10-22T21:15:12.215198100Z"
    }
   }
  },
  {
   "cell_type": "code",
   "execution_count": 92,
   "outputs": [
    {
     "data": {
      "text/plain": "             cusip incident_date       date   CAR_0_1  severity  reach  \\\n0         00037520    2007-01-03 2007-01-03 -0.040097       NaN    NaN   \n1         00037520    2007-01-04 2007-01-04  -0.04379       NaN    NaN   \n2         00037520    2007-01-05 2007-01-05  0.002126       NaN    NaN   \n3         00037520    2007-01-08 2007-01-08  0.009886       NaN    NaN   \n4         00037520    2007-01-09 2007-01-09  -0.00442       NaN    NaN   \n...            ...           ...        ...       ...       ...    ...   \n17211775  15096410    2023-12-21 2023-12-21  0.028607       NaN    NaN   \n17211776  15096410    2023-12-22 2023-12-22  0.026127       NaN    NaN   \n17211777  15096410    2023-12-26 2023-12-26  0.020036       NaN    NaN   \n17211778  15096410    2023-12-27 2023-12-27 -0.008414       NaN    NaN   \n17211779  15096410    2023-12-28 2023-12-28 -0.048472       NaN    NaN   \n\n          novelty  material_flag  materiality_car_5  materiality_reach  ...  \\\n0             NaN              0                  0                  0  ...   \n1             NaN              0                  0                  0  ...   \n2             NaN              0                  0                  0  ...   \n3             NaN              0                  0                  0  ...   \n4             NaN              0                  0                  0  ...   \n...           ...            ...                ...                ...  ...   \n17211775      NaN              0                  0                  0  ...   \n17211776      NaN              0                  0                  0  ...   \n17211777      NaN              0                  0                  0  ...   \n17211778      NaN              0                  0                  0  ...   \n17211779      NaN              0                  0                  0  ...   \n\n            SMB_2d    HML_2d     RF_2d    UMD_2d peer_severity3 peer_reach3  \\\n0         0.000026 -0.000031  0.000004 -0.000101              0           0   \n1        -0.000071  -0.00008  0.000004 -0.000051              0           0   \n2        -0.000103 -0.000025  0.000004  0.000037              0           0   \n3          0.00002 -0.000027  0.000004  0.000057              0           0   \n4         0.000019  -0.00005  0.000004  0.000028              0           0   \n...            ...       ...       ...       ...            ...         ...   \n17211775  0.000138  0.000006  0.000004 -0.000068              0           1   \n17211776  0.000134  0.000054  0.000004 -0.000069              1           1   \n17211777  0.000083  0.000055  0.000004  -0.00001              0           0   \n17211778 -0.000023  0.000014  0.000004 -0.000037              0           1   \n17211779      <NA>      <NA>      <NA>      <NA>              0           0   \n\n          bottom_quintile_industry  bottom_decile_industry  bottom_quintile  \\\n0                                0                       0                0   \n1                                0                       0                0   \n2                                0                       0                0   \n3                                0                       0                0   \n4                                0                       0                0   \n...                            ...                     ...              ...   \n17211775                         0                       0                0   \n17211776                         0                       0                0   \n17211777                         0                       0                0   \n17211778                         0                       0                0   \n17211779                         0                       0                0   \n\n          bottom_decile  \n0                     0  \n1                     0  \n2                     0  \n3                     0  \n4                     0  \n...                 ...  \n17211775              0  \n17211776              0  \n17211777              0  \n17211778              0  \n17211779              0  \n\n[17211780 rows x 33 columns]",
      "text/html": "<div>\n<style scoped>\n    .dataframe tbody tr th:only-of-type {\n        vertical-align: middle;\n    }\n\n    .dataframe tbody tr th {\n        vertical-align: top;\n    }\n\n    .dataframe thead th {\n        text-align: right;\n    }\n</style>\n<table border=\"1\" class=\"dataframe\">\n  <thead>\n    <tr style=\"text-align: right;\">\n      <th></th>\n      <th>cusip</th>\n      <th>incident_date</th>\n      <th>date</th>\n      <th>CAR_0_1</th>\n      <th>severity</th>\n      <th>reach</th>\n      <th>novelty</th>\n      <th>material_flag</th>\n      <th>materiality_car_5</th>\n      <th>materiality_reach</th>\n      <th>...</th>\n      <th>SMB_2d</th>\n      <th>HML_2d</th>\n      <th>RF_2d</th>\n      <th>UMD_2d</th>\n      <th>peer_severity3</th>\n      <th>peer_reach3</th>\n      <th>bottom_quintile_industry</th>\n      <th>bottom_decile_industry</th>\n      <th>bottom_quintile</th>\n      <th>bottom_decile</th>\n    </tr>\n  </thead>\n  <tbody>\n    <tr>\n      <th>0</th>\n      <td>00037520</td>\n      <td>2007-01-03</td>\n      <td>2007-01-03</td>\n      <td>-0.040097</td>\n      <td>NaN</td>\n      <td>NaN</td>\n      <td>NaN</td>\n      <td>0</td>\n      <td>0</td>\n      <td>0</td>\n      <td>...</td>\n      <td>0.000026</td>\n      <td>-0.000031</td>\n      <td>0.000004</td>\n      <td>-0.000101</td>\n      <td>0</td>\n      <td>0</td>\n      <td>0</td>\n      <td>0</td>\n      <td>0</td>\n      <td>0</td>\n    </tr>\n    <tr>\n      <th>1</th>\n      <td>00037520</td>\n      <td>2007-01-04</td>\n      <td>2007-01-04</td>\n      <td>-0.04379</td>\n      <td>NaN</td>\n      <td>NaN</td>\n      <td>NaN</td>\n      <td>0</td>\n      <td>0</td>\n      <td>0</td>\n      <td>...</td>\n      <td>-0.000071</td>\n      <td>-0.00008</td>\n      <td>0.000004</td>\n      <td>-0.000051</td>\n      <td>0</td>\n      <td>0</td>\n      <td>0</td>\n      <td>0</td>\n      <td>0</td>\n      <td>0</td>\n    </tr>\n    <tr>\n      <th>2</th>\n      <td>00037520</td>\n      <td>2007-01-05</td>\n      <td>2007-01-05</td>\n      <td>0.002126</td>\n      <td>NaN</td>\n      <td>NaN</td>\n      <td>NaN</td>\n      <td>0</td>\n      <td>0</td>\n      <td>0</td>\n      <td>...</td>\n      <td>-0.000103</td>\n      <td>-0.000025</td>\n      <td>0.000004</td>\n      <td>0.000037</td>\n      <td>0</td>\n      <td>0</td>\n      <td>0</td>\n      <td>0</td>\n      <td>0</td>\n      <td>0</td>\n    </tr>\n    <tr>\n      <th>3</th>\n      <td>00037520</td>\n      <td>2007-01-08</td>\n      <td>2007-01-08</td>\n      <td>0.009886</td>\n      <td>NaN</td>\n      <td>NaN</td>\n      <td>NaN</td>\n      <td>0</td>\n      <td>0</td>\n      <td>0</td>\n      <td>...</td>\n      <td>0.00002</td>\n      <td>-0.000027</td>\n      <td>0.000004</td>\n      <td>0.000057</td>\n      <td>0</td>\n      <td>0</td>\n      <td>0</td>\n      <td>0</td>\n      <td>0</td>\n      <td>0</td>\n    </tr>\n    <tr>\n      <th>4</th>\n      <td>00037520</td>\n      <td>2007-01-09</td>\n      <td>2007-01-09</td>\n      <td>-0.00442</td>\n      <td>NaN</td>\n      <td>NaN</td>\n      <td>NaN</td>\n      <td>0</td>\n      <td>0</td>\n      <td>0</td>\n      <td>...</td>\n      <td>0.000019</td>\n      <td>-0.00005</td>\n      <td>0.000004</td>\n      <td>0.000028</td>\n      <td>0</td>\n      <td>0</td>\n      <td>0</td>\n      <td>0</td>\n      <td>0</td>\n      <td>0</td>\n    </tr>\n    <tr>\n      <th>...</th>\n      <td>...</td>\n      <td>...</td>\n      <td>...</td>\n      <td>...</td>\n      <td>...</td>\n      <td>...</td>\n      <td>...</td>\n      <td>...</td>\n      <td>...</td>\n      <td>...</td>\n      <td>...</td>\n      <td>...</td>\n      <td>...</td>\n      <td>...</td>\n      <td>...</td>\n      <td>...</td>\n      <td>...</td>\n      <td>...</td>\n      <td>...</td>\n      <td>...</td>\n      <td>...</td>\n    </tr>\n    <tr>\n      <th>17211775</th>\n      <td>15096410</td>\n      <td>2023-12-21</td>\n      <td>2023-12-21</td>\n      <td>0.028607</td>\n      <td>NaN</td>\n      <td>NaN</td>\n      <td>NaN</td>\n      <td>0</td>\n      <td>0</td>\n      <td>0</td>\n      <td>...</td>\n      <td>0.000138</td>\n      <td>0.000006</td>\n      <td>0.000004</td>\n      <td>-0.000068</td>\n      <td>0</td>\n      <td>1</td>\n      <td>0</td>\n      <td>0</td>\n      <td>0</td>\n      <td>0</td>\n    </tr>\n    <tr>\n      <th>17211776</th>\n      <td>15096410</td>\n      <td>2023-12-22</td>\n      <td>2023-12-22</td>\n      <td>0.026127</td>\n      <td>NaN</td>\n      <td>NaN</td>\n      <td>NaN</td>\n      <td>0</td>\n      <td>0</td>\n      <td>0</td>\n      <td>...</td>\n      <td>0.000134</td>\n      <td>0.000054</td>\n      <td>0.000004</td>\n      <td>-0.000069</td>\n      <td>1</td>\n      <td>1</td>\n      <td>0</td>\n      <td>0</td>\n      <td>0</td>\n      <td>0</td>\n    </tr>\n    <tr>\n      <th>17211777</th>\n      <td>15096410</td>\n      <td>2023-12-26</td>\n      <td>2023-12-26</td>\n      <td>0.020036</td>\n      <td>NaN</td>\n      <td>NaN</td>\n      <td>NaN</td>\n      <td>0</td>\n      <td>0</td>\n      <td>0</td>\n      <td>...</td>\n      <td>0.000083</td>\n      <td>0.000055</td>\n      <td>0.000004</td>\n      <td>-0.00001</td>\n      <td>0</td>\n      <td>0</td>\n      <td>0</td>\n      <td>0</td>\n      <td>0</td>\n      <td>0</td>\n    </tr>\n    <tr>\n      <th>17211778</th>\n      <td>15096410</td>\n      <td>2023-12-27</td>\n      <td>2023-12-27</td>\n      <td>-0.008414</td>\n      <td>NaN</td>\n      <td>NaN</td>\n      <td>NaN</td>\n      <td>0</td>\n      <td>0</td>\n      <td>0</td>\n      <td>...</td>\n      <td>-0.000023</td>\n      <td>0.000014</td>\n      <td>0.000004</td>\n      <td>-0.000037</td>\n      <td>0</td>\n      <td>1</td>\n      <td>0</td>\n      <td>0</td>\n      <td>0</td>\n      <td>0</td>\n    </tr>\n    <tr>\n      <th>17211779</th>\n      <td>15096410</td>\n      <td>2023-12-28</td>\n      <td>2023-12-28</td>\n      <td>-0.048472</td>\n      <td>NaN</td>\n      <td>NaN</td>\n      <td>NaN</td>\n      <td>0</td>\n      <td>0</td>\n      <td>0</td>\n      <td>...</td>\n      <td>&lt;NA&gt;</td>\n      <td>&lt;NA&gt;</td>\n      <td>&lt;NA&gt;</td>\n      <td>&lt;NA&gt;</td>\n      <td>0</td>\n      <td>0</td>\n      <td>0</td>\n      <td>0</td>\n      <td>0</td>\n      <td>0</td>\n    </tr>\n  </tbody>\n</table>\n<p>17211780 rows × 33 columns</p>\n</div>"
     },
     "execution_count": 92,
     "metadata": {},
     "output_type": "execute_result"
    }
   ],
   "source": [
    "def add_peer_lowcar_flags(\n",
    "    df: pd.DataFrame,\n",
    "    industry_col: str = \"SICS Codified Industry\",  # <- ensure exact name (no trailing space)\n",
    "    date_col: str = \"date\",\n",
    "    firm_col: str = \"cusip\",\n",
    "    car_col: str = \"CAR_0_1\",\n",
    "    incident_col: str = \"incident\",\n",
    "):\n",
    "    \"\"\"\n",
    "    Flags whether there exists at least one *peer* (same industry & date, different firm)\n",
    "    whose incident CAR_0_1 falls in the BOTTOM quintile/decile:\n",
    "      - bottom_quintile_industry: <= industry 20th pct (computed over all incidents in that industry)\n",
    "      - bottom_decile_industry:   <= industry 10th pct\n",
    "      - bottom_quintile:          <= global 20th pct (across all incidents)\n",
    "      - bottom_decile:            <= global 10th pct\n",
    "    \"\"\"\n",
    "\n",
    "    out = df.copy()\n",
    "\n",
    "    # Types\n",
    "    out[date_col] = pd.to_datetime(out[date_col], errors=\"coerce\")\n",
    "    out[car_col]  = pd.to_numeric(out[car_col], errors=\"coerce\")\n",
    "    out[incident_col] = pd.to_numeric(out[incident_col], errors=\"coerce\").fillna(0).astype(int)\n",
    "\n",
    "    # Incident rows only for computing cutoffs\n",
    "    inc_mask = (out[incident_col] == 1)\n",
    "    inc = out.loc[inc_mask, [industry_col, date_col, firm_col, car_col]].copy()\n",
    "\n",
    "    # If no incidents -> zeros\n",
    "    if inc.empty:\n",
    "        out[\"bottom_quintile_industry\"] = 0\n",
    "        out[\"bottom_decile_industry\"]   = 0\n",
    "        out[\"bottom_quintile\"]          = 0\n",
    "        out[\"bottom_decile\"]            = 0\n",
    "        return out\n",
    "\n",
    "    # ===== Quantile cutoffs among incidents (lower tail) =====\n",
    "    q_ind = (\n",
    "        inc.groupby(industry_col)[car_col]\n",
    "           .quantile([0.2, 0.1])   # 20th, 10th percentiles\n",
    "           .unstack()\n",
    "           .rename(columns={0.2: \"q20_ind\", 0.1: \"q10_ind\"})\n",
    "    )\n",
    "    inc = inc.join(q_ind, on=industry_col)\n",
    "\n",
    "    # Global (across all incidents)\n",
    "    q20_global = inc[car_col].quantile(0.2)\n",
    "    q10_global = inc[car_col].quantile(0.1)\n",
    "\n",
    "    # Flags for whether THIS incident is in bottom tail\n",
    "    inc[\"_is_bot_q_ind\"]  = (inc[car_col] <= inc[\"q20_ind\"]).astype(int)\n",
    "    inc[\"_is_bot_d_ind\"]  = (inc[car_col] <= inc[\"q10_ind\"]).astype(int)\n",
    "    inc[\"_is_bot_q_glob\"] = (inc[car_col] <= q20_global).astype(int)\n",
    "    inc[\"_is_bot_d_glob\"] = (inc[car_col] <= q10_global).astype(int)\n",
    "\n",
    "    # Industries with too few incidents → NaN cutoffs → treat as not bottom\n",
    "    for col in [\"_is_bot_q_ind\", \"_is_bot_d_ind\"]:\n",
    "        inc[col] = inc[col].fillna(0).astype(int)\n",
    "\n",
    "    # ===== Daily counts per (industry, date) =====\n",
    "    grp_keys = [industry_col, date_col]\n",
    "    daily_bot = (\n",
    "        inc.groupby(grp_keys)[[\"_is_bot_q_ind\",\"_is_bot_d_ind\",\"_is_bot_q_glob\",\"_is_bot_d_glob\"]]\n",
    "           .sum()\n",
    "           .rename(columns={\n",
    "               \"_is_bot_q_ind\":  \"_bot_q_ind_cnt\",\n",
    "               \"_is_bot_d_ind\":  \"_bot_d_ind_cnt\",\n",
    "               \"_is_bot_q_glob\": \"_bot_q_glob_cnt\",\n",
    "               \"_is_bot_d_glob\": \"_bot_d_glob_cnt\",\n",
    "           })\n",
    "           .reset_index()\n",
    "    )\n",
    "\n",
    "    # Merge daily counts back to all rows\n",
    "    out = out.merge(daily_bot, on=grp_keys, how=\"left\")\n",
    "    for col in [\"_bot_q_ind_cnt\",\"_bot_d_ind_cnt\",\"_bot_q_glob_cnt\",\"_bot_d_glob_cnt\"]:\n",
    "        out[col] = out[col].fillna(0).astype(int)\n",
    "\n",
    "    # Merge self bottom flags to exclude the focal firm from \"peer\" logic\n",
    "    self_flags = inc[[industry_col, date_col, firm_col,\n",
    "                      \"_is_bot_q_ind\",\"_is_bot_d_ind\",\"_is_bot_q_glob\",\"_is_bot_d_glob\"]]\n",
    "    out = out.merge(self_flags, on=[industry_col, date_col, firm_col], how=\"left\")\n",
    "    for col in [\"_is_bot_q_ind\",\"_is_bot_d_ind\",\"_is_bot_q_glob\",\"_is_bot_d_glob\"]:\n",
    "        out[col] = out[col].fillna(0).astype(int)\n",
    "\n",
    "    # ===== Peer flags (existence of at least one other firm in bottom tail) =====\n",
    "    out[\"bottom_quintile_industry\"] = ((out[\"_bot_q_ind_cnt\"]  - out[\"_is_bot_q_ind\"])  > 0).astype(int)\n",
    "    out[\"bottom_decile_industry\"]   = ((out[\"_bot_d_ind_cnt\"]  - out[\"_is_bot_d_ind\"])  > 0).astype(int)\n",
    "    out[\"bottom_quintile\"]          = ((out[\"_bot_q_glob_cnt\"] - out[\"_is_bot_q_glob\"]) > 0).astype(int)\n",
    "    out[\"bottom_decile\"]            = ((out[\"_bot_d_glob_cnt\"] - out[\"_is_bot_d_glob\"]) > 0).astype(int)\n",
    "\n",
    "    # Cleanup helpers\n",
    "    out.drop(columns=[\n",
    "        \"_bot_q_ind_cnt\",\"_bot_d_ind_cnt\",\"_bot_q_glob_cnt\",\"_bot_d_glob_cnt\",\n",
    "        \"_is_bot_q_ind\",\"_is_bot_d_ind\",\"_is_bot_q_glob\",\"_is_bot_d_glob\"\n",
    "    ], inplace=True)\n",
    "\n",
    "    return out\n",
    "\n",
    "# Example usage:\n",
    "df = add_peer_lowcar_flags(df2, industry_col=\"SICS Codified Industry \")\n",
    "df\n"
   ],
   "metadata": {
    "collapsed": false,
    "ExecuteTime": {
     "end_time": "2025-10-22T21:17:48.795806800Z",
     "start_time": "2025-10-22T21:17:08.012238200Z"
    }
   }
  },
  {
   "cell_type": "code",
   "execution_count": 93,
   "outputs": [
    {
     "data": {
      "text/plain": "             cusip incident_date       date   CAR_0_1  severity  reach  \\\n1433      00037520    2012-09-20 2012-09-20 -0.012642       1.0    2.0   \n3159      00037520    2019-08-02 2019-08-02  0.013212       2.0    1.0   \n4429      00130H10    2008-04-11 2008-04-11  0.029179       2.0    1.0   \n5951      00130H10    2014-04-30 2014-04-30  0.024278       2.0    2.0   \n6329      00130H10    2015-10-28 2015-10-28  0.009761       2.0    1.0   \n...            ...           ...        ...       ...       ...    ...   \n17070763  03769M10    2023-06-26 2023-06-26  0.015028       1.0    3.0   \n17070781  03769M10    2023-07-21 2023-07-21 -0.012407       2.0    3.0   \n17076644  00258W10    2022-02-11 2022-02-11  0.021354       1.0    1.0   \n17191582  15912K10    2022-07-28 2022-07-28  -0.03526       1.0    3.0   \n17191584  15912K10    2022-08-01 2022-08-01  0.005926       1.0    3.0   \n\n          novelty  material_flag  materiality_car_5  materiality_reach  ...  \\\n1433          2.0              0                  1                  1  ...   \n3159          2.0              0                  1                  0  ...   \n4429          1.0              0                  0                  0  ...   \n5951          1.0              0                  0                  0  ...   \n6329          1.0              0                  0                  0  ...   \n...           ...            ...                ...                ...  ...   \n17070763      2.0              0                  0                  0  ...   \n17070781      2.0              1                  0                  1  ...   \n17076644      1.0              0                  1                  0  ...   \n17191582      1.0              1                  1                  1  ...   \n17191584      1.0              1                  1                  1  ...   \n\n            SMB_2d    HML_2d     RF_2d    UMD_2d peer_severity3 peer_reach3  \\\n1433      0.000007 -0.000014       0.0  0.000046              0           0   \n3159     -0.000033  0.000008  0.000002  0.000072              0           0   \n4429      -0.00005  0.000017  0.000002  0.000162              0           0   \n5951      0.000008 -0.000022       0.0  0.000059              0           1   \n6329      0.000061  0.000062       0.0 -0.000122              0           0   \n...            ...       ...       ...       ...            ...         ...   \n17070763  0.000014  0.000078  0.000004  -0.00009              0           1   \n17070781 -0.000061   0.00004  0.000004 -0.000125              0           1   \n17076644  0.000083  0.000151       0.0  0.000078              0           1   \n17191582 -0.000083 -0.000046       0.0 -0.000082              0           0   \n17191584  0.000123 -0.000165  0.000002 -0.000161              0           1   \n\n          bottom_quintile_industry  bottom_decile_industry  bottom_quintile  \\\n1433                             1                       1                1   \n3159                             1                       1                1   \n4429                             1                       1                1   \n5951                             1                       1                1   \n6329                             1                       1                1   \n...                            ...                     ...              ...   \n17070763                         1                       1                1   \n17070781                         1                       1                1   \n17076644                         1                       1                1   \n17191582                         1                       1                1   \n17191584                         1                       1                1   \n\n          bottom_decile  \n1433                  1  \n3159                  1  \n4429                  1  \n5951                  1  \n6329                  1  \n...                 ...  \n17070763              1  \n17070781              1  \n17076644              1  \n17191582              1  \n17191584              1  \n\n[10461 rows x 33 columns]",
      "text/html": "<div>\n<style scoped>\n    .dataframe tbody tr th:only-of-type {\n        vertical-align: middle;\n    }\n\n    .dataframe tbody tr th {\n        vertical-align: top;\n    }\n\n    .dataframe thead th {\n        text-align: right;\n    }\n</style>\n<table border=\"1\" class=\"dataframe\">\n  <thead>\n    <tr style=\"text-align: right;\">\n      <th></th>\n      <th>cusip</th>\n      <th>incident_date</th>\n      <th>date</th>\n      <th>CAR_0_1</th>\n      <th>severity</th>\n      <th>reach</th>\n      <th>novelty</th>\n      <th>material_flag</th>\n      <th>materiality_car_5</th>\n      <th>materiality_reach</th>\n      <th>...</th>\n      <th>SMB_2d</th>\n      <th>HML_2d</th>\n      <th>RF_2d</th>\n      <th>UMD_2d</th>\n      <th>peer_severity3</th>\n      <th>peer_reach3</th>\n      <th>bottom_quintile_industry</th>\n      <th>bottom_decile_industry</th>\n      <th>bottom_quintile</th>\n      <th>bottom_decile</th>\n    </tr>\n  </thead>\n  <tbody>\n    <tr>\n      <th>1433</th>\n      <td>00037520</td>\n      <td>2012-09-20</td>\n      <td>2012-09-20</td>\n      <td>-0.012642</td>\n      <td>1.0</td>\n      <td>2.0</td>\n      <td>2.0</td>\n      <td>0</td>\n      <td>1</td>\n      <td>1</td>\n      <td>...</td>\n      <td>0.000007</td>\n      <td>-0.000014</td>\n      <td>0.0</td>\n      <td>0.000046</td>\n      <td>0</td>\n      <td>0</td>\n      <td>1</td>\n      <td>1</td>\n      <td>1</td>\n      <td>1</td>\n    </tr>\n    <tr>\n      <th>3159</th>\n      <td>00037520</td>\n      <td>2019-08-02</td>\n      <td>2019-08-02</td>\n      <td>0.013212</td>\n      <td>2.0</td>\n      <td>1.0</td>\n      <td>2.0</td>\n      <td>0</td>\n      <td>1</td>\n      <td>0</td>\n      <td>...</td>\n      <td>-0.000033</td>\n      <td>0.000008</td>\n      <td>0.000002</td>\n      <td>0.000072</td>\n      <td>0</td>\n      <td>0</td>\n      <td>1</td>\n      <td>1</td>\n      <td>1</td>\n      <td>1</td>\n    </tr>\n    <tr>\n      <th>4429</th>\n      <td>00130H10</td>\n      <td>2008-04-11</td>\n      <td>2008-04-11</td>\n      <td>0.029179</td>\n      <td>2.0</td>\n      <td>1.0</td>\n      <td>1.0</td>\n      <td>0</td>\n      <td>0</td>\n      <td>0</td>\n      <td>...</td>\n      <td>-0.00005</td>\n      <td>0.000017</td>\n      <td>0.000002</td>\n      <td>0.000162</td>\n      <td>0</td>\n      <td>0</td>\n      <td>1</td>\n      <td>1</td>\n      <td>1</td>\n      <td>1</td>\n    </tr>\n    <tr>\n      <th>5951</th>\n      <td>00130H10</td>\n      <td>2014-04-30</td>\n      <td>2014-04-30</td>\n      <td>0.024278</td>\n      <td>2.0</td>\n      <td>2.0</td>\n      <td>1.0</td>\n      <td>0</td>\n      <td>0</td>\n      <td>0</td>\n      <td>...</td>\n      <td>0.000008</td>\n      <td>-0.000022</td>\n      <td>0.0</td>\n      <td>0.000059</td>\n      <td>0</td>\n      <td>1</td>\n      <td>1</td>\n      <td>1</td>\n      <td>1</td>\n      <td>1</td>\n    </tr>\n    <tr>\n      <th>6329</th>\n      <td>00130H10</td>\n      <td>2015-10-28</td>\n      <td>2015-10-28</td>\n      <td>0.009761</td>\n      <td>2.0</td>\n      <td>1.0</td>\n      <td>1.0</td>\n      <td>0</td>\n      <td>0</td>\n      <td>0</td>\n      <td>...</td>\n      <td>0.000061</td>\n      <td>0.000062</td>\n      <td>0.0</td>\n      <td>-0.000122</td>\n      <td>0</td>\n      <td>0</td>\n      <td>1</td>\n      <td>1</td>\n      <td>1</td>\n      <td>1</td>\n    </tr>\n    <tr>\n      <th>...</th>\n      <td>...</td>\n      <td>...</td>\n      <td>...</td>\n      <td>...</td>\n      <td>...</td>\n      <td>...</td>\n      <td>...</td>\n      <td>...</td>\n      <td>...</td>\n      <td>...</td>\n      <td>...</td>\n      <td>...</td>\n      <td>...</td>\n      <td>...</td>\n      <td>...</td>\n      <td>...</td>\n      <td>...</td>\n      <td>...</td>\n      <td>...</td>\n      <td>...</td>\n      <td>...</td>\n    </tr>\n    <tr>\n      <th>17070763</th>\n      <td>03769M10</td>\n      <td>2023-06-26</td>\n      <td>2023-06-26</td>\n      <td>0.015028</td>\n      <td>1.0</td>\n      <td>3.0</td>\n      <td>2.0</td>\n      <td>0</td>\n      <td>0</td>\n      <td>0</td>\n      <td>...</td>\n      <td>0.000014</td>\n      <td>0.000078</td>\n      <td>0.000004</td>\n      <td>-0.00009</td>\n      <td>0</td>\n      <td>1</td>\n      <td>1</td>\n      <td>1</td>\n      <td>1</td>\n      <td>1</td>\n    </tr>\n    <tr>\n      <th>17070781</th>\n      <td>03769M10</td>\n      <td>2023-07-21</td>\n      <td>2023-07-21</td>\n      <td>-0.012407</td>\n      <td>2.0</td>\n      <td>3.0</td>\n      <td>2.0</td>\n      <td>1</td>\n      <td>0</td>\n      <td>1</td>\n      <td>...</td>\n      <td>-0.000061</td>\n      <td>0.00004</td>\n      <td>0.000004</td>\n      <td>-0.000125</td>\n      <td>0</td>\n      <td>1</td>\n      <td>1</td>\n      <td>1</td>\n      <td>1</td>\n      <td>1</td>\n    </tr>\n    <tr>\n      <th>17076644</th>\n      <td>00258W10</td>\n      <td>2022-02-11</td>\n      <td>2022-02-11</td>\n      <td>0.021354</td>\n      <td>1.0</td>\n      <td>1.0</td>\n      <td>1.0</td>\n      <td>0</td>\n      <td>1</td>\n      <td>0</td>\n      <td>...</td>\n      <td>0.000083</td>\n      <td>0.000151</td>\n      <td>0.0</td>\n      <td>0.000078</td>\n      <td>0</td>\n      <td>1</td>\n      <td>1</td>\n      <td>1</td>\n      <td>1</td>\n      <td>1</td>\n    </tr>\n    <tr>\n      <th>17191582</th>\n      <td>15912K10</td>\n      <td>2022-07-28</td>\n      <td>2022-07-28</td>\n      <td>-0.03526</td>\n      <td>1.0</td>\n      <td>3.0</td>\n      <td>1.0</td>\n      <td>1</td>\n      <td>1</td>\n      <td>1</td>\n      <td>...</td>\n      <td>-0.000083</td>\n      <td>-0.000046</td>\n      <td>0.0</td>\n      <td>-0.000082</td>\n      <td>0</td>\n      <td>0</td>\n      <td>1</td>\n      <td>1</td>\n      <td>1</td>\n      <td>1</td>\n    </tr>\n    <tr>\n      <th>17191584</th>\n      <td>15912K10</td>\n      <td>2022-08-01</td>\n      <td>2022-08-01</td>\n      <td>0.005926</td>\n      <td>1.0</td>\n      <td>3.0</td>\n      <td>1.0</td>\n      <td>1</td>\n      <td>1</td>\n      <td>1</td>\n      <td>...</td>\n      <td>0.000123</td>\n      <td>-0.000165</td>\n      <td>0.000002</td>\n      <td>-0.000161</td>\n      <td>0</td>\n      <td>1</td>\n      <td>1</td>\n      <td>1</td>\n      <td>1</td>\n      <td>1</td>\n    </tr>\n  </tbody>\n</table>\n<p>10461 rows × 33 columns</p>\n</div>"
     },
     "execution_count": 93,
     "metadata": {},
     "output_type": "execute_result"
    }
   ],
   "source": [
    "df[(df['bottom_decile_industry'] == 1) & (df['incident'] == 1)]"
   ],
   "metadata": {
    "collapsed": false,
    "ExecuteTime": {
     "end_time": "2025-10-22T21:17:49.068466700Z",
     "start_time": "2025-10-22T21:17:48.798807300Z"
    }
   }
  },
  {
   "cell_type": "code",
   "execution_count": 94,
   "outputs": [],
   "source": [
    "df.to_csv('Output/events_daily.csv', index=False)"
   ],
   "metadata": {
    "collapsed": false,
    "ExecuteTime": {
     "end_time": "2025-10-22T21:24:50.184572300Z",
     "start_time": "2025-10-22T21:18:22.385971600Z"
    }
   }
  },
  {
   "cell_type": "code",
   "execution_count": 34,
   "outputs": [],
   "source": [
    "# Add financials"
   ],
   "metadata": {
    "collapsed": false,
    "ExecuteTime": {
     "end_time": "2025-10-23T16:18:49.747433900Z",
     "start_time": "2025-10-23T16:18:49.631533600Z"
    }
   }
  },
  {
   "cell_type": "code",
   "execution_count": 36,
   "outputs": [
    {
     "ename": "TypeError",
     "evalue": "Passing PeriodDtype data is invalid. Use `data.to_timestamp()` instead",
     "output_type": "error",
     "traceback": [
      "\u001B[31m---------------------------------------------------------------------------\u001B[39m",
      "\u001B[31mTypeError\u001B[39m                                 Traceback (most recent call last)",
      "\u001B[36mCell\u001B[39m\u001B[36m \u001B[39m\u001B[32mIn[36]\u001B[39m\u001B[32m, line 1\u001B[39m\n\u001B[32m----> \u001B[39m\u001B[32m1\u001B[39m df[\u001B[33m'\u001B[39m\u001B[33mYearQuarter\u001B[39m\u001B[33m'\u001B[39m] = \u001B[43mpd\u001B[49m\u001B[43m.\u001B[49m\u001B[43mto_datetime\u001B[49m\u001B[43m(\u001B[49m\u001B[43mdf\u001B[49m\u001B[43m[\u001B[49m\u001B[33;43m'\u001B[39;49m\u001B[33;43mYearMonth\u001B[39;49m\u001B[33;43m'\u001B[39;49m\u001B[43m]\u001B[49m\u001B[43m)\u001B[49m.dt.to_period(\u001B[33m'\u001B[39m\u001B[33mQ\u001B[39m\u001B[33m'\u001B[39m)\n\u001B[32m      2\u001B[39m df[\u001B[33m'\u001B[39m\u001B[33mYearQuarter_prior\u001B[39m\u001B[33m'\u001B[39m] = df[\u001B[33m'\u001B[39m\u001B[33mYearQuarter\u001B[39m\u001B[33m'\u001B[39m] - \u001B[32m1\u001B[39m\n\u001B[32m      3\u001B[39m df[\u001B[33m'\u001B[39m\u001B[33mYearQuarter_prior\u001B[39m\u001B[33m'\u001B[39m] = df[\u001B[33m'\u001B[39m\u001B[33mYearQuarter_prior\u001B[39m\u001B[33m'\u001B[39m].astype(\u001B[38;5;28mstr\u001B[39m)\n",
      "\u001B[36mFile \u001B[39m\u001B[32mE:\\GermanBusinessPanelTeam\\Schrader\\Forschung\\ESG_Portfolios\\venv\\Lib\\site-packages\\pandas\\core\\tools\\datetimes.py:1063\u001B[39m, in \u001B[36mto_datetime\u001B[39m\u001B[34m(arg, errors, dayfirst, yearfirst, utc, format, exact, unit, infer_datetime_format, origin, cache)\u001B[39m\n\u001B[32m   1061\u001B[39m             result = arg.tz_localize(\u001B[33m\"\u001B[39m\u001B[33mutc\u001B[39m\u001B[33m\"\u001B[39m)\n\u001B[32m   1062\u001B[39m \u001B[38;5;28;01melif\u001B[39;00m \u001B[38;5;28misinstance\u001B[39m(arg, ABCSeries):\n\u001B[32m-> \u001B[39m\u001B[32m1063\u001B[39m     cache_array = \u001B[43m_maybe_cache\u001B[49m\u001B[43m(\u001B[49m\u001B[43marg\u001B[49m\u001B[43m,\u001B[49m\u001B[43m \u001B[49m\u001B[38;5;28;43mformat\u001B[39;49m\u001B[43m,\u001B[49m\u001B[43m \u001B[49m\u001B[43mcache\u001B[49m\u001B[43m,\u001B[49m\u001B[43m \u001B[49m\u001B[43mconvert_listlike\u001B[49m\u001B[43m)\u001B[49m\n\u001B[32m   1064\u001B[39m     \u001B[38;5;28;01mif\u001B[39;00m \u001B[38;5;129;01mnot\u001B[39;00m cache_array.empty:\n\u001B[32m   1065\u001B[39m         result = arg.map(cache_array)\n",
      "\u001B[36mFile \u001B[39m\u001B[32mE:\\GermanBusinessPanelTeam\\Schrader\\Forschung\\ESG_Portfolios\\venv\\Lib\\site-packages\\pandas\\core\\tools\\datetimes.py:247\u001B[39m, in \u001B[36m_maybe_cache\u001B[39m\u001B[34m(arg, format, cache, convert_listlike)\u001B[39m\n\u001B[32m    245\u001B[39m unique_dates = unique(arg)\n\u001B[32m    246\u001B[39m \u001B[38;5;28;01mif\u001B[39;00m \u001B[38;5;28mlen\u001B[39m(unique_dates) < \u001B[38;5;28mlen\u001B[39m(arg):\n\u001B[32m--> \u001B[39m\u001B[32m247\u001B[39m     cache_dates = \u001B[43mconvert_listlike\u001B[49m\u001B[43m(\u001B[49m\u001B[43munique_dates\u001B[49m\u001B[43m,\u001B[49m\u001B[43m \u001B[49m\u001B[38;5;28;43mformat\u001B[39;49m\u001B[43m)\u001B[49m\n\u001B[32m    248\u001B[39m     \u001B[38;5;66;03m# GH#45319\u001B[39;00m\n\u001B[32m    249\u001B[39m     \u001B[38;5;28;01mtry\u001B[39;00m:\n",
      "\u001B[36mFile \u001B[39m\u001B[32mE:\\GermanBusinessPanelTeam\\Schrader\\Forschung\\ESG_Portfolios\\venv\\Lib\\site-packages\\pandas\\core\\tools\\datetimes.py:416\u001B[39m, in \u001B[36m_convert_listlike_datetimes\u001B[39m\u001B[34m(arg, format, name, utc, unit, errors, dayfirst, yearfirst, exact)\u001B[39m\n\u001B[32m    413\u001B[39m \u001B[38;5;66;03m# warn if passing timedelta64, raise for PeriodDtype\u001B[39;00m\n\u001B[32m    414\u001B[39m \u001B[38;5;66;03m# NB: this must come after unit transformation\u001B[39;00m\n\u001B[32m    415\u001B[39m \u001B[38;5;28;01mtry\u001B[39;00m:\n\u001B[32m--> \u001B[39m\u001B[32m416\u001B[39m     arg, _ = \u001B[43mmaybe_convert_dtype\u001B[49m\u001B[43m(\u001B[49m\u001B[43marg\u001B[49m\u001B[43m,\u001B[49m\u001B[43m \u001B[49m\u001B[43mcopy\u001B[49m\u001B[43m=\u001B[49m\u001B[38;5;28;43;01mFalse\u001B[39;49;00m\u001B[43m,\u001B[49m\u001B[43m \u001B[49m\u001B[43mtz\u001B[49m\u001B[43m=\u001B[49m\u001B[43mlibtimezones\u001B[49m\u001B[43m.\u001B[49m\u001B[43mmaybe_get_tz\u001B[49m\u001B[43m(\u001B[49m\u001B[43mtz\u001B[49m\u001B[43m)\u001B[49m\u001B[43m)\u001B[49m\n\u001B[32m    417\u001B[39m \u001B[38;5;28;01mexcept\u001B[39;00m \u001B[38;5;167;01mTypeError\u001B[39;00m:\n\u001B[32m    418\u001B[39m     \u001B[38;5;28;01mif\u001B[39;00m errors == \u001B[33m\"\u001B[39m\u001B[33mcoerce\u001B[39m\u001B[33m\"\u001B[39m:\n",
      "\u001B[36mFile \u001B[39m\u001B[32mE:\\GermanBusinessPanelTeam\\Schrader\\Forschung\\ESG_Portfolios\\venv\\Lib\\site-packages\\pandas\\core\\arrays\\datetimes.py:2466\u001B[39m, in \u001B[36mmaybe_convert_dtype\u001B[39m\u001B[34m(data, copy, tz)\u001B[39m\n\u001B[32m   2462\u001B[39m     \u001B[38;5;28;01mraise\u001B[39;00m \u001B[38;5;167;01mTypeError\u001B[39;00m(\u001B[33mf\u001B[39m\u001B[33m\"\u001B[39m\u001B[33mdtype \u001B[39m\u001B[38;5;132;01m{\u001B[39;00mdata.dtype\u001B[38;5;132;01m}\u001B[39;00m\u001B[33m cannot be converted to datetime64[ns]\u001B[39m\u001B[33m\"\u001B[39m)\n\u001B[32m   2463\u001B[39m \u001B[38;5;28;01melif\u001B[39;00m \u001B[38;5;28misinstance\u001B[39m(data.dtype, PeriodDtype):\n\u001B[32m   2464\u001B[39m     \u001B[38;5;66;03m# Note: without explicitly raising here, PeriodIndex\u001B[39;00m\n\u001B[32m   2465\u001B[39m     \u001B[38;5;66;03m#  test_setops.test_join_does_not_recur fails\u001B[39;00m\n\u001B[32m-> \u001B[39m\u001B[32m2466\u001B[39m     \u001B[38;5;28;01mraise\u001B[39;00m \u001B[38;5;167;01mTypeError\u001B[39;00m(\n\u001B[32m   2467\u001B[39m         \u001B[33m\"\u001B[39m\u001B[33mPassing PeriodDtype data is invalid. Use `data.to_timestamp()` instead\u001B[39m\u001B[33m\"\u001B[39m\n\u001B[32m   2468\u001B[39m     )\n\u001B[32m   2470\u001B[39m \u001B[38;5;28;01melif\u001B[39;00m \u001B[38;5;28misinstance\u001B[39m(data.dtype, ExtensionDtype) \u001B[38;5;129;01mand\u001B[39;00m \u001B[38;5;129;01mnot\u001B[39;00m \u001B[38;5;28misinstance\u001B[39m(\n\u001B[32m   2471\u001B[39m     data.dtype, DatetimeTZDtype\n\u001B[32m   2472\u001B[39m ):\n\u001B[32m   2473\u001B[39m     \u001B[38;5;66;03m# TODO: We have no tests for these\u001B[39;00m\n\u001B[32m   2474\u001B[39m     data = np.array(data, dtype=np.object_)\n",
      "\u001B[31mTypeError\u001B[39m: Passing PeriodDtype data is invalid. Use `data.to_timestamp()` instead"
     ]
    }
   ],
   "source": [
    "df['YearQuarter'] = pd.to_datetime(df['YearMonth']).dt.to_period('Q')\n",
    "df['YearQuarter_prior'] = df['YearQuarter'] - 1\n",
    "df['YearQuarter_prior'] = df['YearQuarter_prior'].astype(str)"
   ],
   "metadata": {
    "collapsed": false,
    "ExecuteTime": {
     "end_time": "2025-10-23T16:28:47.540863100Z",
     "start_time": "2025-10-23T16:28:47.216595600Z"
    }
   }
  },
  {
   "cell_type": "code",
   "execution_count": null,
   "outputs": [],
   "source": [
    "import wrds\n",
    "from pathlib import Path\n",
    "from dotenv import load_dotenv\n",
    "import os\n",
    "\n",
    "project_root = Path(r\"E:\\GermanBusinessPanelTeam\\Schrader\\Forschung\\ESGmateriality\")\n",
    "\n",
    "# ── Load WRDS creds from wrds.env in the project root ─────────────────────────\n",
    "env_path = project_root / \"wrds.env\"\n",
    "load_dotenv(dotenv_path=env_path)\n",
    "# ── Connect to WRDS ───────────────────────────────────────────────────────────\n",
    "db = wrds.Connection(\n",
    "    wrds_username=os.getenv(\"WRDS_YALE_USERNAME\"),\n",
    "    wrds_password=os.getenv(\"WRDS_YALE_PASSWORD\")\n",
    ")"
   ],
   "metadata": {
    "collapsed": false
   }
  },
  {
   "cell_type": "code",
   "execution_count": 15,
   "outputs": [
    {
     "data": {
      "text/plain": "             cusip incident_date       date   CAR_0_1  severity  reach  \\\n0         00037520    2007-01-03 2007-01-03 -0.040097       NaN    NaN   \n1         00037520    2007-01-04 2007-01-04 -0.043790       NaN    NaN   \n2         00037520    2007-01-05 2007-01-05  0.002126       NaN    NaN   \n3         00037520    2007-01-08 2007-01-08  0.009886       NaN    NaN   \n4         00037520    2007-01-09 2007-01-09 -0.004420       NaN    NaN   \n...            ...           ...        ...       ...       ...    ...   \n17211775  15096410    2023-12-21 2023-12-21  0.028607       NaN    NaN   \n17211776  15096410    2023-12-22 2023-12-22  0.026127       NaN    NaN   \n17211777  15096410    2023-12-26 2023-12-26  0.020036       NaN    NaN   \n17211778  15096410    2023-12-27 2023-12-27 -0.008414       NaN    NaN   \n17211779  15096410    2023-12-28 2023-12-28 -0.048472       NaN    NaN   \n\n          novelty  material_flag  materiality_car_5  materiality_reach  ...  \\\n0             NaN              0                  0                  0  ...   \n1             NaN              0                  0                  0  ...   \n2             NaN              0                  0                  0  ...   \n3             NaN              0                  0                  0  ...   \n4             NaN              0                  0                  0  ...   \n...           ...            ...                ...                ...  ...   \n17211775      NaN              0                  0                  0  ...   \n17211776      NaN              0                  0                  0  ...   \n17211777      NaN              0                  0                  0  ...   \n17211778      NaN              0                  0                  0  ...   \n17211779      NaN              0                  0                  0  ...   \n\n            HML_2d     RF_2d    UMD_2d  peer_severity3 peer_reach3  \\\n0        -0.000031  0.000004 -0.000101               0           0   \n1        -0.000080  0.000004 -0.000051               0           0   \n2        -0.000025  0.000004  0.000037               0           0   \n3        -0.000027  0.000004  0.000057               0           0   \n4        -0.000050  0.000004  0.000028               0           0   \n...            ...       ...       ...             ...         ...   \n17211775  0.000006  0.000004 -0.000068               0           1   \n17211776  0.000054  0.000004 -0.000069               1           1   \n17211777  0.000055  0.000004 -0.000010               0           0   \n17211778  0.000014  0.000004 -0.000037               0           1   \n17211779       NaN       NaN       NaN               0           0   \n\n         bottom_quintile_industry  bottom_decile_industry  bottom_quintile  \\\n0                               0                       0                0   \n1                               0                       0                0   \n2                               0                       0                0   \n3                               0                       0                0   \n4                               0                       0                0   \n...                           ...                     ...              ...   \n17211775                        0                       0                0   \n17211776                        0                       0                0   \n17211777                        0                       0                0   \n17211778                        0                       0                0   \n17211779                        0                       0                0   \n\n          bottom_decile  YearQuarter_prior  \n0                     0             2006Q4  \n1                     0             2006Q4  \n2                     0             2006Q4  \n3                     0             2006Q4  \n4                     0             2006Q4  \n...                 ...                ...  \n17211775              0             2023Q3  \n17211776              0             2023Q3  \n17211777              0             2023Q3  \n17211778              0             2023Q3  \n17211779              0             2023Q3  \n\n[17211780 rows x 34 columns]",
      "text/html": "<div>\n<style scoped>\n    .dataframe tbody tr th:only-of-type {\n        vertical-align: middle;\n    }\n\n    .dataframe tbody tr th {\n        vertical-align: top;\n    }\n\n    .dataframe thead th {\n        text-align: right;\n    }\n</style>\n<table border=\"1\" class=\"dataframe\">\n  <thead>\n    <tr style=\"text-align: right;\">\n      <th></th>\n      <th>cusip</th>\n      <th>incident_date</th>\n      <th>date</th>\n      <th>CAR_0_1</th>\n      <th>severity</th>\n      <th>reach</th>\n      <th>novelty</th>\n      <th>material_flag</th>\n      <th>materiality_car_5</th>\n      <th>materiality_reach</th>\n      <th>...</th>\n      <th>HML_2d</th>\n      <th>RF_2d</th>\n      <th>UMD_2d</th>\n      <th>peer_severity3</th>\n      <th>peer_reach3</th>\n      <th>bottom_quintile_industry</th>\n      <th>bottom_decile_industry</th>\n      <th>bottom_quintile</th>\n      <th>bottom_decile</th>\n      <th>YearQuarter_prior</th>\n    </tr>\n  </thead>\n  <tbody>\n    <tr>\n      <th>0</th>\n      <td>00037520</td>\n      <td>2007-01-03</td>\n      <td>2007-01-03</td>\n      <td>-0.040097</td>\n      <td>NaN</td>\n      <td>NaN</td>\n      <td>NaN</td>\n      <td>0</td>\n      <td>0</td>\n      <td>0</td>\n      <td>...</td>\n      <td>-0.000031</td>\n      <td>0.000004</td>\n      <td>-0.000101</td>\n      <td>0</td>\n      <td>0</td>\n      <td>0</td>\n      <td>0</td>\n      <td>0</td>\n      <td>0</td>\n      <td>2006Q4</td>\n    </tr>\n    <tr>\n      <th>1</th>\n      <td>00037520</td>\n      <td>2007-01-04</td>\n      <td>2007-01-04</td>\n      <td>-0.043790</td>\n      <td>NaN</td>\n      <td>NaN</td>\n      <td>NaN</td>\n      <td>0</td>\n      <td>0</td>\n      <td>0</td>\n      <td>...</td>\n      <td>-0.000080</td>\n      <td>0.000004</td>\n      <td>-0.000051</td>\n      <td>0</td>\n      <td>0</td>\n      <td>0</td>\n      <td>0</td>\n      <td>0</td>\n      <td>0</td>\n      <td>2006Q4</td>\n    </tr>\n    <tr>\n      <th>2</th>\n      <td>00037520</td>\n      <td>2007-01-05</td>\n      <td>2007-01-05</td>\n      <td>0.002126</td>\n      <td>NaN</td>\n      <td>NaN</td>\n      <td>NaN</td>\n      <td>0</td>\n      <td>0</td>\n      <td>0</td>\n      <td>...</td>\n      <td>-0.000025</td>\n      <td>0.000004</td>\n      <td>0.000037</td>\n      <td>0</td>\n      <td>0</td>\n      <td>0</td>\n      <td>0</td>\n      <td>0</td>\n      <td>0</td>\n      <td>2006Q4</td>\n    </tr>\n    <tr>\n      <th>3</th>\n      <td>00037520</td>\n      <td>2007-01-08</td>\n      <td>2007-01-08</td>\n      <td>0.009886</td>\n      <td>NaN</td>\n      <td>NaN</td>\n      <td>NaN</td>\n      <td>0</td>\n      <td>0</td>\n      <td>0</td>\n      <td>...</td>\n      <td>-0.000027</td>\n      <td>0.000004</td>\n      <td>0.000057</td>\n      <td>0</td>\n      <td>0</td>\n      <td>0</td>\n      <td>0</td>\n      <td>0</td>\n      <td>0</td>\n      <td>2006Q4</td>\n    </tr>\n    <tr>\n      <th>4</th>\n      <td>00037520</td>\n      <td>2007-01-09</td>\n      <td>2007-01-09</td>\n      <td>-0.004420</td>\n      <td>NaN</td>\n      <td>NaN</td>\n      <td>NaN</td>\n      <td>0</td>\n      <td>0</td>\n      <td>0</td>\n      <td>...</td>\n      <td>-0.000050</td>\n      <td>0.000004</td>\n      <td>0.000028</td>\n      <td>0</td>\n      <td>0</td>\n      <td>0</td>\n      <td>0</td>\n      <td>0</td>\n      <td>0</td>\n      <td>2006Q4</td>\n    </tr>\n    <tr>\n      <th>...</th>\n      <td>...</td>\n      <td>...</td>\n      <td>...</td>\n      <td>...</td>\n      <td>...</td>\n      <td>...</td>\n      <td>...</td>\n      <td>...</td>\n      <td>...</td>\n      <td>...</td>\n      <td>...</td>\n      <td>...</td>\n      <td>...</td>\n      <td>...</td>\n      <td>...</td>\n      <td>...</td>\n      <td>...</td>\n      <td>...</td>\n      <td>...</td>\n      <td>...</td>\n      <td>...</td>\n    </tr>\n    <tr>\n      <th>17211775</th>\n      <td>15096410</td>\n      <td>2023-12-21</td>\n      <td>2023-12-21</td>\n      <td>0.028607</td>\n      <td>NaN</td>\n      <td>NaN</td>\n      <td>NaN</td>\n      <td>0</td>\n      <td>0</td>\n      <td>0</td>\n      <td>...</td>\n      <td>0.000006</td>\n      <td>0.000004</td>\n      <td>-0.000068</td>\n      <td>0</td>\n      <td>1</td>\n      <td>0</td>\n      <td>0</td>\n      <td>0</td>\n      <td>0</td>\n      <td>2023Q3</td>\n    </tr>\n    <tr>\n      <th>17211776</th>\n      <td>15096410</td>\n      <td>2023-12-22</td>\n      <td>2023-12-22</td>\n      <td>0.026127</td>\n      <td>NaN</td>\n      <td>NaN</td>\n      <td>NaN</td>\n      <td>0</td>\n      <td>0</td>\n      <td>0</td>\n      <td>...</td>\n      <td>0.000054</td>\n      <td>0.000004</td>\n      <td>-0.000069</td>\n      <td>1</td>\n      <td>1</td>\n      <td>0</td>\n      <td>0</td>\n      <td>0</td>\n      <td>0</td>\n      <td>2023Q3</td>\n    </tr>\n    <tr>\n      <th>17211777</th>\n      <td>15096410</td>\n      <td>2023-12-26</td>\n      <td>2023-12-26</td>\n      <td>0.020036</td>\n      <td>NaN</td>\n      <td>NaN</td>\n      <td>NaN</td>\n      <td>0</td>\n      <td>0</td>\n      <td>0</td>\n      <td>...</td>\n      <td>0.000055</td>\n      <td>0.000004</td>\n      <td>-0.000010</td>\n      <td>0</td>\n      <td>0</td>\n      <td>0</td>\n      <td>0</td>\n      <td>0</td>\n      <td>0</td>\n      <td>2023Q3</td>\n    </tr>\n    <tr>\n      <th>17211778</th>\n      <td>15096410</td>\n      <td>2023-12-27</td>\n      <td>2023-12-27</td>\n      <td>-0.008414</td>\n      <td>NaN</td>\n      <td>NaN</td>\n      <td>NaN</td>\n      <td>0</td>\n      <td>0</td>\n      <td>0</td>\n      <td>...</td>\n      <td>0.000014</td>\n      <td>0.000004</td>\n      <td>-0.000037</td>\n      <td>0</td>\n      <td>1</td>\n      <td>0</td>\n      <td>0</td>\n      <td>0</td>\n      <td>0</td>\n      <td>2023Q3</td>\n    </tr>\n    <tr>\n      <th>17211779</th>\n      <td>15096410</td>\n      <td>2023-12-28</td>\n      <td>2023-12-28</td>\n      <td>-0.048472</td>\n      <td>NaN</td>\n      <td>NaN</td>\n      <td>NaN</td>\n      <td>0</td>\n      <td>0</td>\n      <td>0</td>\n      <td>...</td>\n      <td>NaN</td>\n      <td>NaN</td>\n      <td>NaN</td>\n      <td>0</td>\n      <td>0</td>\n      <td>0</td>\n      <td>0</td>\n      <td>0</td>\n      <td>0</td>\n      <td>2023Q3</td>\n    </tr>\n  </tbody>\n</table>\n<p>17211780 rows × 34 columns</p>\n</div>"
     },
     "execution_count": 15,
     "metadata": {},
     "output_type": "execute_result"
    }
   ],
   "source": [
    "# Function is defined earlier\n",
    "reprisk_with_metrics = add_quarterly_metrics(db, df)\n",
    "reprisk_with_metrics"
   ],
   "metadata": {
    "collapsed": false,
    "ExecuteTime": {
     "end_time": "2025-10-23T15:27:43.833941900Z",
     "start_time": "2025-10-23T15:27:39.557164600Z"
    }
   }
  },
  {
   "cell_type": "markdown",
   "source": [
    "# 4. Fama-MacBeth regression"
   ],
   "metadata": {
    "collapsed": false
   }
  },
  {
   "cell_type": "markdown",
   "source": [
    "## 4.1. Monthy Returns"
   ],
   "metadata": {
    "collapsed": false
   }
  },
  {
   "cell_type": "code",
   "execution_count": 137,
   "outputs": [
    {
     "name": "stdout",
     "output_type": "stream",
     "text": [
      "Loading library list...\n",
      "Done\n"
     ]
    }
   ],
   "source": [
    "project_root = Path(r\"E:\\GermanBusinessPanelTeam\\Schrader\\Forschung\\ESGmateriality\")\n",
    "\n",
    "# ── Load WRDS creds from wrds.env in the project root ─────────────────────────\n",
    "env_path = project_root / \"wrds.env\"\n",
    "load_dotenv(dotenv_path=env_path)\n",
    "# ── Connect to WRDS ───────────────────────────────────────────────────────────\n",
    "db = wrds.Connection(\n",
    "    wrds_username=os.getenv(\"WRDS_YALE_USERNAME\"),\n",
    "    wrds_password=os.getenv(\"WRDS_YALE_PASSWORD\")\n",
    ")\n",
    "# ---------- PARAMETERS ----------\n",
    "# set your window\n",
    "START = \"2005-01-01\"\n",
    "END = \"2024-12-31\""
   ],
   "metadata": {
    "collapsed": false,
    "ExecuteTime": {
     "end_time": "2025-10-24T21:02:12.611171700Z",
     "start_time": "2025-10-24T21:02:10.133273500Z"
    }
   }
  },
  {
   "cell_type": "code",
   "execution_count": 138,
   "outputs": [],
   "source": [
    "from pandas.tseries.offsets import MonthEnd\n",
    "\n",
    "# ---------- 1) CRSP monthly returns (common stocks) ----------\n",
    "# ret = total return; prc, shrout used for market equity; we’ll add delist return\n",
    "sql_msf = f\"\"\"\n",
    "select permno, date, ret, retx, prc, shrout\n",
    "from crsp.msf\n",
    "where date between '{START}' and '{END}'\n",
    "\"\"\"\n",
    "msf = db.raw_sql(sql_msf, date_cols=['date'])\n",
    "msf['me'] = msf['prc'].abs() * msf['shrout'] * 1000.0"
   ],
   "metadata": {
    "collapsed": false,
    "ExecuteTime": {
     "end_time": "2025-10-24T21:02:52.368491Z",
     "start_time": "2025-10-24T21:02:12.595545600Z"
    }
   }
  },
  {
   "cell_type": "code",
   "execution_count": 139,
   "outputs": [],
   "source": [
    "# ---- 2) Names table to get shrcd/exchcd as of date ----\n",
    "# Use msenames (monthly security names history). Filter to primary share classes (optional).\n",
    "sql_names = \"\"\"\n",
    "select permno, namedt, coalesce(nameendt, '9999-12-31') as nameendt, shrcd, exchcd\n",
    "from crsp.msenames\n",
    "\"\"\"\n",
    "names = db.raw_sql(sql_names, date_cols=['namedt', 'nameendt'])\n",
    "\n",
    "# Merge names onto msf by permno where date is within [namedt, nameendt]\n",
    "msf = msf.merge(names, on='permno', how='left')\n",
    "msf = msf[(msf['date'] >= msf['namedt']) & (msf['date'] <= msf['nameendt'])].copy()\n",
    "\n",
    "# Optional: keep common shares on major exchanges\n",
    "msf = msf[msf['shrcd'].isin([10, 11]) & msf['exchcd'].isin([1, 2, 3])]"
   ],
   "metadata": {
    "collapsed": false,
    "ExecuteTime": {
     "end_time": "2025-10-24T21:02:59.391786600Z",
     "start_time": "2025-10-24T21:02:52.368491Z"
    }
   }
  },
  {
   "cell_type": "code",
   "execution_count": 140,
   "outputs": [],
   "source": [
    "# ---- 3) Add delisting returns and compute adjusted return ----\n",
    "sql_dl = f\"\"\"\n",
    "select permno, dlstdt as date, dlret\n",
    "from crsp.msedelist\n",
    "where dlstdt between '{START}' and '{END}'\n",
    "\"\"\"\n",
    "dl = db.raw_sql(sql_dl, date_cols=['date'])\n",
    "\n",
    "# Merge dlret onto the monthly file and build adjusted returns:\n",
    "# ret_adj = (1 + ret) * (1 + dlret) - 1  (with dlret=0 if missing)\n",
    "crsp = msf.merge(dl, on=['permno', 'date'], how='left')\n",
    "crsp['ret_adj'] = (1.0 + crsp['ret'].astype(float)) * (1.0 + crsp['dlret'].fillna(0).astype(float)) - 1.0"
   ],
   "metadata": {
    "collapsed": false,
    "ExecuteTime": {
     "end_time": "2025-10-24T21:03:00.555548800Z",
     "start_time": "2025-10-24T21:02:59.396792700Z"
    }
   }
  },
  {
   "cell_type": "code",
   "execution_count": 141,
   "outputs": [
    {
     "data": {
      "text/plain": "        permno       date   ret_adj                    me  \\\n0        10001 2005-01-31 -0.040580            17178900.0   \n4808     10001 2005-02-28 -0.045166            16428279.0   \n9621     10001 2005-03-31  0.124822            18663750.0   \n14424    10001 2005-04-29 -0.074684            17269875.0   \n19223    10001 2005-05-31  0.219030            21052500.0   \n...        ...        ...       ...                   ...   \n946608   93436 2024-08-30 -0.077391   684004370400.000122   \n950467   93436 2024-09-30  0.221942        839047410000.0   \n954312   93436 2024-10-31 -0.045025   802033523100.599976   \n958141   93436 2024-11-29  0.381469  1107984309600.000244   \n961945   93436 2024-12-31  0.170008  1296350630399.999756   \n\n                      me_lag  shrcd  exchcd  \n0                       <NA>     11       3  \n4808              17178900.0     11       3  \n9621              16428279.0     11       3  \n14424             18663750.0     11       3  \n19223             17269875.0     11       3  \n...                      ...    ...     ...  \n946608   741380136746.400024     11       3  \n950467   684004370400.000122     11       3  \n954312        839047410000.0     11       3  \n958141   802033523100.599976     11       3  \n961945  1107984309600.000244     11       3  \n\n[961946 rows x 7 columns]",
      "text/html": "<div>\n<style scoped>\n    .dataframe tbody tr th:only-of-type {\n        vertical-align: middle;\n    }\n\n    .dataframe tbody tr th {\n        vertical-align: top;\n    }\n\n    .dataframe thead th {\n        text-align: right;\n    }\n</style>\n<table border=\"1\" class=\"dataframe\">\n  <thead>\n    <tr style=\"text-align: right;\">\n      <th></th>\n      <th>permno</th>\n      <th>date</th>\n      <th>ret_adj</th>\n      <th>me</th>\n      <th>me_lag</th>\n      <th>shrcd</th>\n      <th>exchcd</th>\n    </tr>\n  </thead>\n  <tbody>\n    <tr>\n      <th>0</th>\n      <td>10001</td>\n      <td>2005-01-31</td>\n      <td>-0.040580</td>\n      <td>17178900.0</td>\n      <td>&lt;NA&gt;</td>\n      <td>11</td>\n      <td>3</td>\n    </tr>\n    <tr>\n      <th>4808</th>\n      <td>10001</td>\n      <td>2005-02-28</td>\n      <td>-0.045166</td>\n      <td>16428279.0</td>\n      <td>17178900.0</td>\n      <td>11</td>\n      <td>3</td>\n    </tr>\n    <tr>\n      <th>9621</th>\n      <td>10001</td>\n      <td>2005-03-31</td>\n      <td>0.124822</td>\n      <td>18663750.0</td>\n      <td>16428279.0</td>\n      <td>11</td>\n      <td>3</td>\n    </tr>\n    <tr>\n      <th>14424</th>\n      <td>10001</td>\n      <td>2005-04-29</td>\n      <td>-0.074684</td>\n      <td>17269875.0</td>\n      <td>18663750.0</td>\n      <td>11</td>\n      <td>3</td>\n    </tr>\n    <tr>\n      <th>19223</th>\n      <td>10001</td>\n      <td>2005-05-31</td>\n      <td>0.219030</td>\n      <td>21052500.0</td>\n      <td>17269875.0</td>\n      <td>11</td>\n      <td>3</td>\n    </tr>\n    <tr>\n      <th>...</th>\n      <td>...</td>\n      <td>...</td>\n      <td>...</td>\n      <td>...</td>\n      <td>...</td>\n      <td>...</td>\n      <td>...</td>\n    </tr>\n    <tr>\n      <th>946608</th>\n      <td>93436</td>\n      <td>2024-08-30</td>\n      <td>-0.077391</td>\n      <td>684004370400.000122</td>\n      <td>741380136746.400024</td>\n      <td>11</td>\n      <td>3</td>\n    </tr>\n    <tr>\n      <th>950467</th>\n      <td>93436</td>\n      <td>2024-09-30</td>\n      <td>0.221942</td>\n      <td>839047410000.0</td>\n      <td>684004370400.000122</td>\n      <td>11</td>\n      <td>3</td>\n    </tr>\n    <tr>\n      <th>954312</th>\n      <td>93436</td>\n      <td>2024-10-31</td>\n      <td>-0.045025</td>\n      <td>802033523100.599976</td>\n      <td>839047410000.0</td>\n      <td>11</td>\n      <td>3</td>\n    </tr>\n    <tr>\n      <th>958141</th>\n      <td>93436</td>\n      <td>2024-11-29</td>\n      <td>0.381469</td>\n      <td>1107984309600.000244</td>\n      <td>802033523100.599976</td>\n      <td>11</td>\n      <td>3</td>\n    </tr>\n    <tr>\n      <th>961945</th>\n      <td>93436</td>\n      <td>2024-12-31</td>\n      <td>0.170008</td>\n      <td>1296350630399.999756</td>\n      <td>1107984309600.000244</td>\n      <td>11</td>\n      <td>3</td>\n    </tr>\n  </tbody>\n</table>\n<p>961946 rows × 7 columns</p>\n</div>"
     },
     "execution_count": 141,
     "metadata": {},
     "output_type": "execute_result"
    }
   ],
   "source": [
    "# ---- 4) Lagged ME for VW weights (use ME at t-1 for month t) ----\n",
    "crsp = crsp.sort_values(['permno', 'date'])\n",
    "crsp['me_lag'] = crsp.groupby('permno')['me'].shift(1)\n",
    "\n",
    "crsp_panel = crsp[['permno', 'date', 'ret_adj', 'me', 'me_lag', 'shrcd', 'exchcd']].copy()\n",
    "crsp_panel"
   ],
   "metadata": {
    "collapsed": false,
    "ExecuteTime": {
     "end_time": "2025-10-24T21:03:01.023205700Z",
     "start_time": "2025-10-24T21:03:00.555548800Z"
    }
   }
  },
  {
   "cell_type": "code",
   "execution_count": 142,
   "outputs": [
    {
     "data": {
      "text/plain": "          date  MKT_RF     SMB     HML      RF   year  month     MOM  \\\n0   2005-01-31 -0.0275 -0.0166  0.0206  0.0016  20.05   0.01  0.0296   \n1   2005-02-28  0.0188 -0.0057  0.0141  0.0016  20.05   0.02  0.0343   \n2   2005-03-31 -0.0194 -0.0141  0.0207  0.0021  20.05   0.03  0.0043   \n3   2005-04-30 -0.0261 -0.0393  0.0005  0.0021  20.05   0.04 -0.0068   \n4   2005-05-31  0.0365  0.0286 -0.0058  0.0024  20.05   0.05  0.0037   \n..         ...     ...     ...     ...     ...    ...    ...     ...   \n235 2024-08-31   0.016 -0.0349  -0.011  0.0048  20.24   0.08  0.0481   \n236 2024-09-30  0.0172 -0.0013 -0.0277   0.004  20.24   0.09 -0.0062   \n237 2024-10-31   -0.01 -0.0099  0.0086  0.0039  20.24    0.1    0.03   \n238 2024-11-30  0.0649  0.0446  0.0015   0.004  20.24   0.11    0.01   \n239 2024-12-31 -0.0317 -0.0271   -0.03  0.0037  20.24   0.12  -0.003   \n\n         dateff  \n0    2005-01-31  \n1    2005-02-28  \n2    2005-03-31  \n3    2005-04-29  \n4    2005-05-31  \n..          ...  \n235  2024-08-30  \n236  2024-09-30  \n237  2024-10-31  \n238  2024-11-29  \n239  2024-12-31  \n\n[240 rows x 9 columns]",
      "text/html": "<div>\n<style scoped>\n    .dataframe tbody tr th:only-of-type {\n        vertical-align: middle;\n    }\n\n    .dataframe tbody tr th {\n        vertical-align: top;\n    }\n\n    .dataframe thead th {\n        text-align: right;\n    }\n</style>\n<table border=\"1\" class=\"dataframe\">\n  <thead>\n    <tr style=\"text-align: right;\">\n      <th></th>\n      <th>date</th>\n      <th>MKT_RF</th>\n      <th>SMB</th>\n      <th>HML</th>\n      <th>RF</th>\n      <th>year</th>\n      <th>month</th>\n      <th>MOM</th>\n      <th>dateff</th>\n    </tr>\n  </thead>\n  <tbody>\n    <tr>\n      <th>0</th>\n      <td>2005-01-31</td>\n      <td>-0.0275</td>\n      <td>-0.0166</td>\n      <td>0.0206</td>\n      <td>0.0016</td>\n      <td>20.05</td>\n      <td>0.01</td>\n      <td>0.0296</td>\n      <td>2005-01-31</td>\n    </tr>\n    <tr>\n      <th>1</th>\n      <td>2005-02-28</td>\n      <td>0.0188</td>\n      <td>-0.0057</td>\n      <td>0.0141</td>\n      <td>0.0016</td>\n      <td>20.05</td>\n      <td>0.02</td>\n      <td>0.0343</td>\n      <td>2005-02-28</td>\n    </tr>\n    <tr>\n      <th>2</th>\n      <td>2005-03-31</td>\n      <td>-0.0194</td>\n      <td>-0.0141</td>\n      <td>0.0207</td>\n      <td>0.0021</td>\n      <td>20.05</td>\n      <td>0.03</td>\n      <td>0.0043</td>\n      <td>2005-03-31</td>\n    </tr>\n    <tr>\n      <th>3</th>\n      <td>2005-04-30</td>\n      <td>-0.0261</td>\n      <td>-0.0393</td>\n      <td>0.0005</td>\n      <td>0.0021</td>\n      <td>20.05</td>\n      <td>0.04</td>\n      <td>-0.0068</td>\n      <td>2005-04-29</td>\n    </tr>\n    <tr>\n      <th>4</th>\n      <td>2005-05-31</td>\n      <td>0.0365</td>\n      <td>0.0286</td>\n      <td>-0.0058</td>\n      <td>0.0024</td>\n      <td>20.05</td>\n      <td>0.05</td>\n      <td>0.0037</td>\n      <td>2005-05-31</td>\n    </tr>\n    <tr>\n      <th>...</th>\n      <td>...</td>\n      <td>...</td>\n      <td>...</td>\n      <td>...</td>\n      <td>...</td>\n      <td>...</td>\n      <td>...</td>\n      <td>...</td>\n      <td>...</td>\n    </tr>\n    <tr>\n      <th>235</th>\n      <td>2024-08-31</td>\n      <td>0.016</td>\n      <td>-0.0349</td>\n      <td>-0.011</td>\n      <td>0.0048</td>\n      <td>20.24</td>\n      <td>0.08</td>\n      <td>0.0481</td>\n      <td>2024-08-30</td>\n    </tr>\n    <tr>\n      <th>236</th>\n      <td>2024-09-30</td>\n      <td>0.0172</td>\n      <td>-0.0013</td>\n      <td>-0.0277</td>\n      <td>0.004</td>\n      <td>20.24</td>\n      <td>0.09</td>\n      <td>-0.0062</td>\n      <td>2024-09-30</td>\n    </tr>\n    <tr>\n      <th>237</th>\n      <td>2024-10-31</td>\n      <td>-0.01</td>\n      <td>-0.0099</td>\n      <td>0.0086</td>\n      <td>0.0039</td>\n      <td>20.24</td>\n      <td>0.1</td>\n      <td>0.03</td>\n      <td>2024-10-31</td>\n    </tr>\n    <tr>\n      <th>238</th>\n      <td>2024-11-30</td>\n      <td>0.0649</td>\n      <td>0.0446</td>\n      <td>0.0015</td>\n      <td>0.004</td>\n      <td>20.24</td>\n      <td>0.11</td>\n      <td>0.01</td>\n      <td>2024-11-29</td>\n    </tr>\n    <tr>\n      <th>239</th>\n      <td>2024-12-31</td>\n      <td>-0.0317</td>\n      <td>-0.0271</td>\n      <td>-0.03</td>\n      <td>0.0037</td>\n      <td>20.24</td>\n      <td>0.12</td>\n      <td>-0.003</td>\n      <td>2024-12-31</td>\n    </tr>\n  </tbody>\n</table>\n<p>240 rows × 9 columns</p>\n</div>"
     },
     "execution_count": 142,
     "metadata": {},
     "output_type": "execute_result"
    }
   ],
   "source": [
    "# ---- 5) Fama–French monthly factors ----\n",
    "ff = db.raw_sql(f\"\"\"\n",
    "select *\n",
    "from ff.factors_monthly\n",
    "where date between '{START}' and '{END}'\n",
    "\"\"\", date_cols=['date'])\n",
    "\n",
    "# Convert to decimals if table is in %\n",
    "for col in ff.columns:\n",
    "    if col.lower() != 'date' and pd.api.types.is_numeric_dtype(ff[col]):\n",
    "        med = ff[col].abs().median(skipna=True)\n",
    "        if pd.notna(med) and med > 0.5:  # crude but effective\n",
    "            ff[col] = ff[col] / 100.0\n",
    "\n",
    "ff = ff.rename(columns={\n",
    "    'mktrf': 'MKT_RF', 'smb': 'SMB', 'hml': 'HML', 'rf': 'RF',\n",
    "    'rmw': 'RMW' if 'rmw' in ff.columns else 'RMW',\n",
    "    'cma': 'CMA' if 'cma' in ff.columns else 'CMA',\n",
    "    'umd': 'MOM' if 'umd' in ff.columns else 'MOM'\n",
    "})\n",
    "ff['date'] = ff['date'] + MonthEnd(0)\n",
    "ff"
   ],
   "metadata": {
    "collapsed": false,
    "ExecuteTime": {
     "end_time": "2025-10-24T21:03:01.239210500Z",
     "start_time": "2025-10-24T21:03:01.023205700Z"
    }
   }
  },
  {
   "cell_type": "code",
   "execution_count": 143,
   "outputs": [],
   "source": [
    "# --- pull CUSIP/NCUSIP name history ---\n",
    "sql_names = \"\"\"\n",
    "select\n",
    "    permno,\n",
    "    namedt,\n",
    "    coalesce(nameendt, '9999-12-31') as nameendt,\n",
    "    cusip,\n",
    "    ncusip\n",
    "from crsp.msenames\n",
    "\"\"\"\n",
    "names = db.raw_sql(sql_names, date_cols=['namedt', 'nameendt'])\n",
    "names.drop_duplicates(['permno'], keep='last', inplace=True)"
   ],
   "metadata": {
    "collapsed": false,
    "ExecuteTime": {
     "end_time": "2025-10-24T21:03:05.093808700Z",
     "start_time": "2025-10-24T21:03:01.211176900Z"
    }
   }
  },
  {
   "cell_type": "code",
   "execution_count": 144,
   "outputs": [],
   "source": [
    "# --- align to month-end dates in crsp_panel ---\n",
    "# merge then filter rows where crsp date is within [namedt, nameendt]\n",
    "crsp_with_cusip = crsp_panel.merge(names, on='permno', how='left')"
   ],
   "metadata": {
    "collapsed": false,
    "ExecuteTime": {
     "end_time": "2025-10-24T21:03:05.895075Z",
     "start_time": "2025-10-24T21:03:05.098315600Z"
    }
   }
  },
  {
   "cell_type": "markdown",
   "source": [
    "## 4.2. Merge Returns, FF4, financials"
   ],
   "metadata": {
    "collapsed": false
   }
  },
  {
   "cell_type": "code",
   "execution_count": 145,
   "outputs": [],
   "source": [
    "#----------------------------\n",
    "# 0) Helpers\n",
    "# ----------------------------\n",
    "\n",
    "def choose_primary_class(df, by=['cusip', 'date']):\n",
    "    \"\"\"\n",
    "    If multiple PERMNOs share the same cusip8 at a date,\n",
    "    keep the one with the largest lagged market cap (me_lag).\n",
    "    \"\"\"\n",
    "    df = df.copy()\n",
    "    df['_rank'] = df.groupby(by)['me_lag'].rank(method='first', ascending=False)\n",
    "    out = df.loc[df['_rank'] == 1].drop(columns=['_rank'])\n",
    "    return out"
   ],
   "metadata": {
    "collapsed": false,
    "ExecuteTime": {
     "end_time": "2025-10-24T21:03:15.313275400Z",
     "start_time": "2025-10-24T21:03:15.230882600Z"
    }
   }
  },
  {
   "cell_type": "code",
   "execution_count": 146,
   "outputs": [],
   "source": [
    "# ----------------------------\n",
    "# 1) Prepare CRSP monthly panel\n",
    "# ----------------------------\n",
    "crsp = crsp_with_cusip.copy()\n",
    "crsp['date'] = pd.to_datetime(crsp['date'])\n",
    "\n",
    "# If same cusip8 maps to multiple permnos per month, keep largest me_lag\n",
    "crsp_1class = choose_primary_class(crsp, by=['cusip', 'date'])"
   ],
   "metadata": {
    "collapsed": false,
    "ExecuteTime": {
     "end_time": "2025-10-24T21:03:17.273219100Z",
     "start_time": "2025-10-24T21:03:15.238224300Z"
    }
   }
  },
  {
   "cell_type": "code",
   "execution_count": 147,
   "outputs": [],
   "source": [
    "# ----------------------------\n",
    "# 2) Prepare factors\n",
    "# ----------------------------\n",
    "ff['date'] = pd.to_datetime(ff['date']) + MonthEnd(0)"
   ],
   "metadata": {
    "collapsed": false,
    "ExecuteTime": {
     "end_time": "2025-10-24T21:03:17.273219100Z",
     "start_time": "2025-10-24T21:03:17.241567500Z"
    }
   }
  },
  {
   "cell_type": "code",
   "execution_count": 148,
   "outputs": [],
   "source": [
    "# For industry data\n",
    "crsp_with_cusip['month'] = pd.to_datetime(crsp_with_cusip['date']).dt.to_period('M')\n",
    "crsp_with_cusip['month_prior'] = pd.to_datetime(crsp_with_cusip['date']).dt.to_period('M') - 1\n",
    "reprisk_with_metrics['YearMonth'] = pd.to_datetime(reprisk_with_metrics['YearMonth']).dt.to_period('M')\n",
    "reprisk_with_metrics[\"cusip\"] = reprisk_with_metrics[\"cusip\"].astype(str).str.strip().str.upper().str.slice(0, 8)"
   ],
   "metadata": {
    "collapsed": false,
    "ExecuteTime": {
     "end_time": "2025-10-24T21:03:28.285455200Z",
     "start_time": "2025-10-24T21:03:25.651936300Z"
    }
   }
  },
  {
   "cell_type": "code",
   "execution_count": 149,
   "outputs": [
    {
     "data": {
      "text/plain": "            gvkey YearMonth  n_material  n_nonmaterial  n_car_1_material  \\\n0          1004.0   2007-01           0              0                 0   \n1          1004.0   2007-02           0              0                 0   \n2          1004.0   2007-03           0              0                 0   \n3          1004.0   2007-04           0              0                 0   \n4          1004.0   2007-05           0              0                 0   \n...           ...       ...         ...            ...               ...   \n2390467  356128.0   2023-08           0              0                 0   \n2390468  356128.0   2023-09           0              0                 0   \n2390469  356128.0   2023-10           0              0                 0   \n2390470  356128.0   2023-11           0              0                 0   \n2390471  356128.0   2023-12           0              0                 0   \n\n         n_car_5_material  n_reach_material  n_severity_material  \\\n0                       0                 0                    0   \n1                       0                 0                    0   \n2                       0                 0                    0   \n3                       0                 0                    0   \n4                       0                 0                    0   \n...                   ...               ...                  ...   \n2390467                 0                 0                    0   \n2390468                 0                 0                    0   \n2390469                 0                 0                    0   \n2390470                 0                 0                    0   \n2390471                 0                 0                    0   \n\n         n_material_24m  n_nonmaterial_24m  ...  \\\n0                     0                  0  ...   \n1                     0                  0  ...   \n2                     0                  0  ...   \n3                     0                  0  ...   \n4                     0                  0  ...   \n...                 ...                ...  ...   \n2390467               0                  0  ...   \n2390468               0                  0  ...   \n2390469               0                  0  ...   \n2390470               0                  0  ...   \n2390471               0                  0  ...   \n\n         industry_n_car_1_material_24m  industry_n_car_5_material_24m  \\\n0                                    0                              0   \n1                                    2                              2   \n2                                    3                              3   \n3                                    3                              3   \n4                                    4                              4   \n...                                ...                            ...   \n2390467                             49                             49   \n2390468                             48                             47   \n2390469                             47                             46   \n2390470                             48                             46   \n2390471                             47                             49   \n\n         industry_n_reach_material_24m  industry_n_severity_material_24m  \\\n0                                    5                                 5   \n1                                   12                                12   \n2                                   18                                18   \n3                                   25                                25   \n4                                   33                                34   \n...                                ...                               ...   \n2390467                            164                               164   \n2390468                            168                               168   \n2390469                            171                               171   \n2390470                            169                               169   \n2390471                            173                               173   \n\n        YearQuarter YearQuarter_prior      size     roa_q     lev_q      bm_q  \n0            2007Q1            2006Q4  6.889099  0.013968  0.549214  0.495846  \n1            2007Q1            2006Q4  6.889099  0.013968  0.549214  0.495846  \n2            2007Q1            2006Q4  6.889099  0.013968  0.549214  0.495846  \n3            2007Q2            2007Q1  6.987112  0.015352  0.535340  0.468633  \n4            2007Q2            2007Q1  6.987112  0.015352  0.535340  0.468633  \n...             ...               ...       ...       ...       ...       ...  \n2390467      2023Q3            2023Q2       NaN       NaN       NaN       NaN  \n2390468      2023Q3            2023Q2       NaN       NaN       NaN       NaN  \n2390469      2023Q4            2023Q3  9.846527  0.034406  0.833953       NaN  \n2390470      2023Q4            2023Q3  9.846527  0.034406  0.833953       NaN  \n2390471      2023Q4            2023Q3  9.846527  0.034406  0.833953       NaN  \n\n[2390472 rows x 30 columns]",
      "text/html": "<div>\n<style scoped>\n    .dataframe tbody tr th:only-of-type {\n        vertical-align: middle;\n    }\n\n    .dataframe tbody tr th {\n        vertical-align: top;\n    }\n\n    .dataframe thead th {\n        text-align: right;\n    }\n</style>\n<table border=\"1\" class=\"dataframe\">\n  <thead>\n    <tr style=\"text-align: right;\">\n      <th></th>\n      <th>gvkey</th>\n      <th>YearMonth</th>\n      <th>n_material</th>\n      <th>n_nonmaterial</th>\n      <th>n_car_1_material</th>\n      <th>n_car_5_material</th>\n      <th>n_reach_material</th>\n      <th>n_severity_material</th>\n      <th>n_material_24m</th>\n      <th>n_nonmaterial_24m</th>\n      <th>...</th>\n      <th>industry_n_car_1_material_24m</th>\n      <th>industry_n_car_5_material_24m</th>\n      <th>industry_n_reach_material_24m</th>\n      <th>industry_n_severity_material_24m</th>\n      <th>YearQuarter</th>\n      <th>YearQuarter_prior</th>\n      <th>size</th>\n      <th>roa_q</th>\n      <th>lev_q</th>\n      <th>bm_q</th>\n    </tr>\n  </thead>\n  <tbody>\n    <tr>\n      <th>0</th>\n      <td>1004.0</td>\n      <td>2007-01</td>\n      <td>0</td>\n      <td>0</td>\n      <td>0</td>\n      <td>0</td>\n      <td>0</td>\n      <td>0</td>\n      <td>0</td>\n      <td>0</td>\n      <td>...</td>\n      <td>0</td>\n      <td>0</td>\n      <td>5</td>\n      <td>5</td>\n      <td>2007Q1</td>\n      <td>2006Q4</td>\n      <td>6.889099</td>\n      <td>0.013968</td>\n      <td>0.549214</td>\n      <td>0.495846</td>\n    </tr>\n    <tr>\n      <th>1</th>\n      <td>1004.0</td>\n      <td>2007-02</td>\n      <td>0</td>\n      <td>0</td>\n      <td>0</td>\n      <td>0</td>\n      <td>0</td>\n      <td>0</td>\n      <td>0</td>\n      <td>0</td>\n      <td>...</td>\n      <td>2</td>\n      <td>2</td>\n      <td>12</td>\n      <td>12</td>\n      <td>2007Q1</td>\n      <td>2006Q4</td>\n      <td>6.889099</td>\n      <td>0.013968</td>\n      <td>0.549214</td>\n      <td>0.495846</td>\n    </tr>\n    <tr>\n      <th>2</th>\n      <td>1004.0</td>\n      <td>2007-03</td>\n      <td>0</td>\n      <td>0</td>\n      <td>0</td>\n      <td>0</td>\n      <td>0</td>\n      <td>0</td>\n      <td>0</td>\n      <td>0</td>\n      <td>...</td>\n      <td>3</td>\n      <td>3</td>\n      <td>18</td>\n      <td>18</td>\n      <td>2007Q1</td>\n      <td>2006Q4</td>\n      <td>6.889099</td>\n      <td>0.013968</td>\n      <td>0.549214</td>\n      <td>0.495846</td>\n    </tr>\n    <tr>\n      <th>3</th>\n      <td>1004.0</td>\n      <td>2007-04</td>\n      <td>0</td>\n      <td>0</td>\n      <td>0</td>\n      <td>0</td>\n      <td>0</td>\n      <td>0</td>\n      <td>0</td>\n      <td>0</td>\n      <td>...</td>\n      <td>3</td>\n      <td>3</td>\n      <td>25</td>\n      <td>25</td>\n      <td>2007Q2</td>\n      <td>2007Q1</td>\n      <td>6.987112</td>\n      <td>0.015352</td>\n      <td>0.535340</td>\n      <td>0.468633</td>\n    </tr>\n    <tr>\n      <th>4</th>\n      <td>1004.0</td>\n      <td>2007-05</td>\n      <td>0</td>\n      <td>0</td>\n      <td>0</td>\n      <td>0</td>\n      <td>0</td>\n      <td>0</td>\n      <td>0</td>\n      <td>0</td>\n      <td>...</td>\n      <td>4</td>\n      <td>4</td>\n      <td>33</td>\n      <td>34</td>\n      <td>2007Q2</td>\n      <td>2007Q1</td>\n      <td>6.987112</td>\n      <td>0.015352</td>\n      <td>0.535340</td>\n      <td>0.468633</td>\n    </tr>\n    <tr>\n      <th>...</th>\n      <td>...</td>\n      <td>...</td>\n      <td>...</td>\n      <td>...</td>\n      <td>...</td>\n      <td>...</td>\n      <td>...</td>\n      <td>...</td>\n      <td>...</td>\n      <td>...</td>\n      <td>...</td>\n      <td>...</td>\n      <td>...</td>\n      <td>...</td>\n      <td>...</td>\n      <td>...</td>\n      <td>...</td>\n      <td>...</td>\n      <td>...</td>\n      <td>...</td>\n      <td>...</td>\n    </tr>\n    <tr>\n      <th>2390467</th>\n      <td>356128.0</td>\n      <td>2023-08</td>\n      <td>0</td>\n      <td>0</td>\n      <td>0</td>\n      <td>0</td>\n      <td>0</td>\n      <td>0</td>\n      <td>0</td>\n      <td>0</td>\n      <td>...</td>\n      <td>49</td>\n      <td>49</td>\n      <td>164</td>\n      <td>164</td>\n      <td>2023Q3</td>\n      <td>2023Q2</td>\n      <td>NaN</td>\n      <td>NaN</td>\n      <td>NaN</td>\n      <td>NaN</td>\n    </tr>\n    <tr>\n      <th>2390468</th>\n      <td>356128.0</td>\n      <td>2023-09</td>\n      <td>0</td>\n      <td>0</td>\n      <td>0</td>\n      <td>0</td>\n      <td>0</td>\n      <td>0</td>\n      <td>0</td>\n      <td>0</td>\n      <td>...</td>\n      <td>48</td>\n      <td>47</td>\n      <td>168</td>\n      <td>168</td>\n      <td>2023Q3</td>\n      <td>2023Q2</td>\n      <td>NaN</td>\n      <td>NaN</td>\n      <td>NaN</td>\n      <td>NaN</td>\n    </tr>\n    <tr>\n      <th>2390469</th>\n      <td>356128.0</td>\n      <td>2023-10</td>\n      <td>0</td>\n      <td>0</td>\n      <td>0</td>\n      <td>0</td>\n      <td>0</td>\n      <td>0</td>\n      <td>0</td>\n      <td>0</td>\n      <td>...</td>\n      <td>47</td>\n      <td>46</td>\n      <td>171</td>\n      <td>171</td>\n      <td>2023Q4</td>\n      <td>2023Q3</td>\n      <td>9.846527</td>\n      <td>0.034406</td>\n      <td>0.833953</td>\n      <td>NaN</td>\n    </tr>\n    <tr>\n      <th>2390470</th>\n      <td>356128.0</td>\n      <td>2023-11</td>\n      <td>0</td>\n      <td>0</td>\n      <td>0</td>\n      <td>0</td>\n      <td>0</td>\n      <td>0</td>\n      <td>0</td>\n      <td>0</td>\n      <td>...</td>\n      <td>48</td>\n      <td>46</td>\n      <td>169</td>\n      <td>169</td>\n      <td>2023Q4</td>\n      <td>2023Q3</td>\n      <td>9.846527</td>\n      <td>0.034406</td>\n      <td>0.833953</td>\n      <td>NaN</td>\n    </tr>\n    <tr>\n      <th>2390471</th>\n      <td>356128.0</td>\n      <td>2023-12</td>\n      <td>0</td>\n      <td>0</td>\n      <td>0</td>\n      <td>0</td>\n      <td>0</td>\n      <td>0</td>\n      <td>0</td>\n      <td>0</td>\n      <td>...</td>\n      <td>47</td>\n      <td>49</td>\n      <td>173</td>\n      <td>173</td>\n      <td>2023Q4</td>\n      <td>2023Q3</td>\n      <td>9.846527</td>\n      <td>0.034406</td>\n      <td>0.833953</td>\n      <td>NaN</td>\n    </tr>\n  </tbody>\n</table>\n<p>2390472 rows × 30 columns</p>\n</div>"
     },
     "execution_count": 149,
     "metadata": {},
     "output_type": "execute_result"
    }
   ],
   "source": [
    "reprisk_with_metrics"
   ],
   "metadata": {
    "collapsed": false,
    "ExecuteTime": {
     "end_time": "2025-10-24T21:04:03.506678100Z",
     "start_time": "2025-10-24T21:03:50.188415300Z"
    }
   }
  },
  {
   "cell_type": "code",
   "execution_count": 154,
   "outputs": [
    {
     "data": {
      "text/plain": "           gvkey YearMonth  n_material  n_nonmaterial  n_car_1_material  \\\n0         1004.0   2007-01           0              0                 0   \n1         1004.0   2007-02           0              0                 0   \n2         1004.0   2007-03           0              0                 0   \n3         1004.0   2007-04           0              0                 0   \n4         1004.0   2007-05           0              0                 0   \n...          ...       ...         ...            ...               ...   \n684173  349530.0   2023-08           0              0                 0   \n684174  349530.0   2023-09           0              0                 0   \n684175  349530.0   2023-10           0              0                 0   \n684176  349530.0   2023-11           0              0                 0   \n684177  349530.0   2023-12           0              0                 0   \n\n        n_car_5_material  n_reach_material  n_severity_material  \\\n0                      0                 0                    0   \n1                      0                 0                    0   \n2                      0                 0                    0   \n3                      0                 0                    0   \n4                      0                 0                    0   \n...                  ...               ...                  ...   \n684173                 0                 0                    0   \n684174                 0                 0                    0   \n684175                 0                 0                    0   \n684176                 0                 0                    0   \n684177                 0                 0                    0   \n\n        n_material_24m  n_nonmaterial_24m  ...     roa_q     lev_q      bm_q  \\\n0                    0                  0  ...  0.013968  0.549214  0.495846   \n1                    0                  0  ...  0.013968  0.549214  0.495846   \n2                    0                  0  ...  0.013968  0.549214  0.495846   \n3                    0                  0  ...  0.015352  0.535340  0.468633   \n4                    0                  0  ...  0.015352  0.535340  0.468633   \n...                ...                ...  ...       ...       ...       ...   \n684173               0                  0  ...       NaN       NaN       NaN   \n684174               0                  0  ...       NaN       NaN       NaN   \n684175               0                  0  ...       NaN       NaN       NaN   \n684176               0                  0  ...       NaN       NaN       NaN   \n684177               0                  0  ...       NaN       NaN       NaN   \n\n        permno       date   ret_adj            me        me_lag    month  \\\n0        54594 2007-02-28 -0.023834  1075262080.0  1101515040.0  2007-02   \n1        54594 2007-03-30 -0.052270  1026003680.0  1075262080.0  2007-03   \n2        54594 2007-04-30  0.108128  1138958760.0  1026003680.0  2007-04   \n3        54594 2007-05-31  0.064178  1212055000.0  1138958760.0  2007-05   \n4        54594 2007-06-29  0.015692  1231074940.0  1212055000.0  2007-06   \n...        ...        ...       ...           ...           ...      ...   \n684173   17324 2023-09-29 -0.223009     5241660.0     6746100.0  2023-09   \n684174   17324 2023-10-31 -0.259681     3880500.0     5241660.0  2023-10   \n684175   17324 2023-11-30 -0.369077     2448297.0     3880500.0  2023-11   \n684176   17324 2023-12-29  4.584003    13671300.0     2448297.0  2023-12   \n684177   17324 2024-01-31 -0.467249     7283400.0    13671300.0  2024-01   \n\n        month_prior  \n0           2007-01  \n1           2007-02  \n2           2007-03  \n3           2007-04  \n4           2007-05  \n...             ...  \n684173      2023-08  \n684174      2023-09  \n684175      2023-10  \n684176      2023-11  \n684177      2023-12  \n\n[684178 rows x 37 columns]",
      "text/html": "<div>\n<style scoped>\n    .dataframe tbody tr th:only-of-type {\n        vertical-align: middle;\n    }\n\n    .dataframe tbody tr th {\n        vertical-align: top;\n    }\n\n    .dataframe thead th {\n        text-align: right;\n    }\n</style>\n<table border=\"1\" class=\"dataframe\">\n  <thead>\n    <tr style=\"text-align: right;\">\n      <th></th>\n      <th>gvkey</th>\n      <th>YearMonth</th>\n      <th>n_material</th>\n      <th>n_nonmaterial</th>\n      <th>n_car_1_material</th>\n      <th>n_car_5_material</th>\n      <th>n_reach_material</th>\n      <th>n_severity_material</th>\n      <th>n_material_24m</th>\n      <th>n_nonmaterial_24m</th>\n      <th>...</th>\n      <th>roa_q</th>\n      <th>lev_q</th>\n      <th>bm_q</th>\n      <th>permno</th>\n      <th>date</th>\n      <th>ret_adj</th>\n      <th>me</th>\n      <th>me_lag</th>\n      <th>month</th>\n      <th>month_prior</th>\n    </tr>\n  </thead>\n  <tbody>\n    <tr>\n      <th>0</th>\n      <td>1004.0</td>\n      <td>2007-01</td>\n      <td>0</td>\n      <td>0</td>\n      <td>0</td>\n      <td>0</td>\n      <td>0</td>\n      <td>0</td>\n      <td>0</td>\n      <td>0</td>\n      <td>...</td>\n      <td>0.013968</td>\n      <td>0.549214</td>\n      <td>0.495846</td>\n      <td>54594</td>\n      <td>2007-02-28</td>\n      <td>-0.023834</td>\n      <td>1075262080.0</td>\n      <td>1101515040.0</td>\n      <td>2007-02</td>\n      <td>2007-01</td>\n    </tr>\n    <tr>\n      <th>1</th>\n      <td>1004.0</td>\n      <td>2007-02</td>\n      <td>0</td>\n      <td>0</td>\n      <td>0</td>\n      <td>0</td>\n      <td>0</td>\n      <td>0</td>\n      <td>0</td>\n      <td>0</td>\n      <td>...</td>\n      <td>0.013968</td>\n      <td>0.549214</td>\n      <td>0.495846</td>\n      <td>54594</td>\n      <td>2007-03-30</td>\n      <td>-0.052270</td>\n      <td>1026003680.0</td>\n      <td>1075262080.0</td>\n      <td>2007-03</td>\n      <td>2007-02</td>\n    </tr>\n    <tr>\n      <th>2</th>\n      <td>1004.0</td>\n      <td>2007-03</td>\n      <td>0</td>\n      <td>0</td>\n      <td>0</td>\n      <td>0</td>\n      <td>0</td>\n      <td>0</td>\n      <td>0</td>\n      <td>0</td>\n      <td>...</td>\n      <td>0.013968</td>\n      <td>0.549214</td>\n      <td>0.495846</td>\n      <td>54594</td>\n      <td>2007-04-30</td>\n      <td>0.108128</td>\n      <td>1138958760.0</td>\n      <td>1026003680.0</td>\n      <td>2007-04</td>\n      <td>2007-03</td>\n    </tr>\n    <tr>\n      <th>3</th>\n      <td>1004.0</td>\n      <td>2007-04</td>\n      <td>0</td>\n      <td>0</td>\n      <td>0</td>\n      <td>0</td>\n      <td>0</td>\n      <td>0</td>\n      <td>0</td>\n      <td>0</td>\n      <td>...</td>\n      <td>0.015352</td>\n      <td>0.535340</td>\n      <td>0.468633</td>\n      <td>54594</td>\n      <td>2007-05-31</td>\n      <td>0.064178</td>\n      <td>1212055000.0</td>\n      <td>1138958760.0</td>\n      <td>2007-05</td>\n      <td>2007-04</td>\n    </tr>\n    <tr>\n      <th>4</th>\n      <td>1004.0</td>\n      <td>2007-05</td>\n      <td>0</td>\n      <td>0</td>\n      <td>0</td>\n      <td>0</td>\n      <td>0</td>\n      <td>0</td>\n      <td>0</td>\n      <td>0</td>\n      <td>...</td>\n      <td>0.015352</td>\n      <td>0.535340</td>\n      <td>0.468633</td>\n      <td>54594</td>\n      <td>2007-06-29</td>\n      <td>0.015692</td>\n      <td>1231074940.0</td>\n      <td>1212055000.0</td>\n      <td>2007-06</td>\n      <td>2007-05</td>\n    </tr>\n    <tr>\n      <th>...</th>\n      <td>...</td>\n      <td>...</td>\n      <td>...</td>\n      <td>...</td>\n      <td>...</td>\n      <td>...</td>\n      <td>...</td>\n      <td>...</td>\n      <td>...</td>\n      <td>...</td>\n      <td>...</td>\n      <td>...</td>\n      <td>...</td>\n      <td>...</td>\n      <td>...</td>\n      <td>...</td>\n      <td>...</td>\n      <td>...</td>\n      <td>...</td>\n      <td>...</td>\n      <td>...</td>\n    </tr>\n    <tr>\n      <th>684173</th>\n      <td>349530.0</td>\n      <td>2023-08</td>\n      <td>0</td>\n      <td>0</td>\n      <td>0</td>\n      <td>0</td>\n      <td>0</td>\n      <td>0</td>\n      <td>0</td>\n      <td>0</td>\n      <td>...</td>\n      <td>NaN</td>\n      <td>NaN</td>\n      <td>NaN</td>\n      <td>17324</td>\n      <td>2023-09-29</td>\n      <td>-0.223009</td>\n      <td>5241660.0</td>\n      <td>6746100.0</td>\n      <td>2023-09</td>\n      <td>2023-08</td>\n    </tr>\n    <tr>\n      <th>684174</th>\n      <td>349530.0</td>\n      <td>2023-09</td>\n      <td>0</td>\n      <td>0</td>\n      <td>0</td>\n      <td>0</td>\n      <td>0</td>\n      <td>0</td>\n      <td>0</td>\n      <td>0</td>\n      <td>...</td>\n      <td>NaN</td>\n      <td>NaN</td>\n      <td>NaN</td>\n      <td>17324</td>\n      <td>2023-10-31</td>\n      <td>-0.259681</td>\n      <td>3880500.0</td>\n      <td>5241660.0</td>\n      <td>2023-10</td>\n      <td>2023-09</td>\n    </tr>\n    <tr>\n      <th>684175</th>\n      <td>349530.0</td>\n      <td>2023-10</td>\n      <td>0</td>\n      <td>0</td>\n      <td>0</td>\n      <td>0</td>\n      <td>0</td>\n      <td>0</td>\n      <td>0</td>\n      <td>0</td>\n      <td>...</td>\n      <td>NaN</td>\n      <td>NaN</td>\n      <td>NaN</td>\n      <td>17324</td>\n      <td>2023-11-30</td>\n      <td>-0.369077</td>\n      <td>2448297.0</td>\n      <td>3880500.0</td>\n      <td>2023-11</td>\n      <td>2023-10</td>\n    </tr>\n    <tr>\n      <th>684176</th>\n      <td>349530.0</td>\n      <td>2023-11</td>\n      <td>0</td>\n      <td>0</td>\n      <td>0</td>\n      <td>0</td>\n      <td>0</td>\n      <td>0</td>\n      <td>0</td>\n      <td>0</td>\n      <td>...</td>\n      <td>NaN</td>\n      <td>NaN</td>\n      <td>NaN</td>\n      <td>17324</td>\n      <td>2023-12-29</td>\n      <td>4.584003</td>\n      <td>13671300.0</td>\n      <td>2448297.0</td>\n      <td>2023-12</td>\n      <td>2023-11</td>\n    </tr>\n    <tr>\n      <th>684177</th>\n      <td>349530.0</td>\n      <td>2023-12</td>\n      <td>0</td>\n      <td>0</td>\n      <td>0</td>\n      <td>0</td>\n      <td>0</td>\n      <td>0</td>\n      <td>0</td>\n      <td>0</td>\n      <td>...</td>\n      <td>NaN</td>\n      <td>NaN</td>\n      <td>NaN</td>\n      <td>17324</td>\n      <td>2024-01-31</td>\n      <td>-0.467249</td>\n      <td>7283400.0</td>\n      <td>13671300.0</td>\n      <td>2024-01</td>\n      <td>2023-12</td>\n    </tr>\n  </tbody>\n</table>\n<p>684178 rows × 37 columns</p>\n</div>"
     },
     "execution_count": 154,
     "metadata": {},
     "output_type": "execute_result"
    }
   ],
   "source": [
    "panel_firms = reprisk_with_metrics.merge(crsp_with_cusip[['permno', 'date', 'ret_adj', 'me', 'me_lag', 'cusip', 'month', 'month_prior']],\n",
    "                                        left_on=['cusip', 'YearMonth'], right_on=['cusip', 'month_prior'], how='inner')\n",
    "panel_firms"
   ],
   "metadata": {
    "collapsed": false,
    "ExecuteTime": {
     "end_time": "2025-10-24T21:11:48.426878200Z",
     "start_time": "2025-10-24T21:11:45.392698500Z"
    }
   }
  },
  {
   "cell_type": "code",
   "execution_count": 155,
   "outputs": [
    {
     "data": {
      "text/plain": "           gvkey YearMonth  n_material  n_nonmaterial  n_car_1_material  \\\n0         1004.0   2007-01           0              0                 0   \n1         1004.0   2007-02           0              0                 0   \n2         1004.0   2007-03           0              0                 0   \n3         1004.0   2007-04           0              0                 0   \n4         1004.0   2007-05           0              0                 0   \n...          ...       ...         ...            ...               ...   \n684173  349530.0   2023-08           0              0                 0   \n684174  349530.0   2023-09           0              0                 0   \n684175  349530.0   2023-10           0              0                 0   \n684176  349530.0   2023-11           0              0                 0   \n684177  349530.0   2023-12           0              0                 0   \n\n        n_car_5_material  n_reach_material  n_severity_material  \\\n0                      0                 0                    0   \n1                      0                 0                    0   \n2                      0                 0                    0   \n3                      0                 0                    0   \n4                      0                 0                    0   \n...                  ...               ...                  ...   \n684173                 0                 0                    0   \n684174                 0                 0                    0   \n684175                 0                 0                    0   \n684176                 0                 0                    0   \n684177                 0                 0                    0   \n\n        n_material_24m  n_nonmaterial_24m  ...        me_lag    month  \\\n0                    0                  0  ...  1101515040.0  2007-02   \n1                    0                  0  ...  1075262080.0  2007-03   \n2                    0                  0  ...  1026003680.0  2007-04   \n3                    0                  0  ...  1138958760.0  2007-05   \n4                    0                  0  ...  1212055000.0  2007-06   \n...                ...                ...  ...           ...      ...   \n684173               0                  0  ...     6746100.0  2023-09   \n684174               0                  0  ...     5241660.0  2023-10   \n684175               0                  0  ...     3880500.0  2023-11   \n684176               0                  0  ...     2448297.0  2023-12   \n684177               0                  0  ...    13671300.0  2024-01   \n\n        month_prior     dateff    date_ff  MKT_RF     SMB     HML      RF  \\\n0           2007-01 2007-02-28 2007-02-28 -0.0196  0.0123 -0.0008  0.0038   \n1           2007-02 2007-03-30 2007-03-31  0.0071  0.0009 -0.0088  0.0043   \n2           2007-03 2007-04-30 2007-04-30  0.0349 -0.0221 -0.0144  0.0044   \n3           2007-04 2007-05-31 2007-05-31  0.0323  0.0016 -0.0059  0.0041   \n4           2007-05 2007-06-29 2007-06-30 -0.0196  0.0073 -0.0105   0.004   \n...             ...        ...        ...     ...     ...     ...     ...   \n684173      2023-08 2023-09-29 2023-09-30 -0.0523 -0.0251  0.0149  0.0043   \n684174      2023-09 2023-10-31 2023-10-31 -0.0315 -0.0386   0.002  0.0047   \n684175      2023-10 2023-11-30 2023-11-30  0.0888  -0.001  0.0167  0.0044   \n684176      2023-11 2023-12-29 2023-12-31  0.0485   0.063  0.0489  0.0043   \n684177      2023-12 2024-01-31 2024-01-31  0.0073 -0.0507 -0.0238  0.0047   \n\n           MOM  \n0      -0.0129  \n1       0.0258  \n2      -0.0016  \n3      -0.0033  \n4       0.0052  \n...        ...  \n684173  0.0033  \n684174  0.0167  \n684175  0.0256  \n684176 -0.0553  \n684177  0.0542  \n\n[684178 rows x 44 columns]",
      "text/html": "<div>\n<style scoped>\n    .dataframe tbody tr th:only-of-type {\n        vertical-align: middle;\n    }\n\n    .dataframe tbody tr th {\n        vertical-align: top;\n    }\n\n    .dataframe thead th {\n        text-align: right;\n    }\n</style>\n<table border=\"1\" class=\"dataframe\">\n  <thead>\n    <tr style=\"text-align: right;\">\n      <th></th>\n      <th>gvkey</th>\n      <th>YearMonth</th>\n      <th>n_material</th>\n      <th>n_nonmaterial</th>\n      <th>n_car_1_material</th>\n      <th>n_car_5_material</th>\n      <th>n_reach_material</th>\n      <th>n_severity_material</th>\n      <th>n_material_24m</th>\n      <th>n_nonmaterial_24m</th>\n      <th>...</th>\n      <th>me_lag</th>\n      <th>month</th>\n      <th>month_prior</th>\n      <th>dateff</th>\n      <th>date_ff</th>\n      <th>MKT_RF</th>\n      <th>SMB</th>\n      <th>HML</th>\n      <th>RF</th>\n      <th>MOM</th>\n    </tr>\n  </thead>\n  <tbody>\n    <tr>\n      <th>0</th>\n      <td>1004.0</td>\n      <td>2007-01</td>\n      <td>0</td>\n      <td>0</td>\n      <td>0</td>\n      <td>0</td>\n      <td>0</td>\n      <td>0</td>\n      <td>0</td>\n      <td>0</td>\n      <td>...</td>\n      <td>1101515040.0</td>\n      <td>2007-02</td>\n      <td>2007-01</td>\n      <td>2007-02-28</td>\n      <td>2007-02-28</td>\n      <td>-0.0196</td>\n      <td>0.0123</td>\n      <td>-0.0008</td>\n      <td>0.0038</td>\n      <td>-0.0129</td>\n    </tr>\n    <tr>\n      <th>1</th>\n      <td>1004.0</td>\n      <td>2007-02</td>\n      <td>0</td>\n      <td>0</td>\n      <td>0</td>\n      <td>0</td>\n      <td>0</td>\n      <td>0</td>\n      <td>0</td>\n      <td>0</td>\n      <td>...</td>\n      <td>1075262080.0</td>\n      <td>2007-03</td>\n      <td>2007-02</td>\n      <td>2007-03-30</td>\n      <td>2007-03-31</td>\n      <td>0.0071</td>\n      <td>0.0009</td>\n      <td>-0.0088</td>\n      <td>0.0043</td>\n      <td>0.0258</td>\n    </tr>\n    <tr>\n      <th>2</th>\n      <td>1004.0</td>\n      <td>2007-03</td>\n      <td>0</td>\n      <td>0</td>\n      <td>0</td>\n      <td>0</td>\n      <td>0</td>\n      <td>0</td>\n      <td>0</td>\n      <td>0</td>\n      <td>...</td>\n      <td>1026003680.0</td>\n      <td>2007-04</td>\n      <td>2007-03</td>\n      <td>2007-04-30</td>\n      <td>2007-04-30</td>\n      <td>0.0349</td>\n      <td>-0.0221</td>\n      <td>-0.0144</td>\n      <td>0.0044</td>\n      <td>-0.0016</td>\n    </tr>\n    <tr>\n      <th>3</th>\n      <td>1004.0</td>\n      <td>2007-04</td>\n      <td>0</td>\n      <td>0</td>\n      <td>0</td>\n      <td>0</td>\n      <td>0</td>\n      <td>0</td>\n      <td>0</td>\n      <td>0</td>\n      <td>...</td>\n      <td>1138958760.0</td>\n      <td>2007-05</td>\n      <td>2007-04</td>\n      <td>2007-05-31</td>\n      <td>2007-05-31</td>\n      <td>0.0323</td>\n      <td>0.0016</td>\n      <td>-0.0059</td>\n      <td>0.0041</td>\n      <td>-0.0033</td>\n    </tr>\n    <tr>\n      <th>4</th>\n      <td>1004.0</td>\n      <td>2007-05</td>\n      <td>0</td>\n      <td>0</td>\n      <td>0</td>\n      <td>0</td>\n      <td>0</td>\n      <td>0</td>\n      <td>0</td>\n      <td>0</td>\n      <td>...</td>\n      <td>1212055000.0</td>\n      <td>2007-06</td>\n      <td>2007-05</td>\n      <td>2007-06-29</td>\n      <td>2007-06-30</td>\n      <td>-0.0196</td>\n      <td>0.0073</td>\n      <td>-0.0105</td>\n      <td>0.004</td>\n      <td>0.0052</td>\n    </tr>\n    <tr>\n      <th>...</th>\n      <td>...</td>\n      <td>...</td>\n      <td>...</td>\n      <td>...</td>\n      <td>...</td>\n      <td>...</td>\n      <td>...</td>\n      <td>...</td>\n      <td>...</td>\n      <td>...</td>\n      <td>...</td>\n      <td>...</td>\n      <td>...</td>\n      <td>...</td>\n      <td>...</td>\n      <td>...</td>\n      <td>...</td>\n      <td>...</td>\n      <td>...</td>\n      <td>...</td>\n      <td>...</td>\n    </tr>\n    <tr>\n      <th>684173</th>\n      <td>349530.0</td>\n      <td>2023-08</td>\n      <td>0</td>\n      <td>0</td>\n      <td>0</td>\n      <td>0</td>\n      <td>0</td>\n      <td>0</td>\n      <td>0</td>\n      <td>0</td>\n      <td>...</td>\n      <td>6746100.0</td>\n      <td>2023-09</td>\n      <td>2023-08</td>\n      <td>2023-09-29</td>\n      <td>2023-09-30</td>\n      <td>-0.0523</td>\n      <td>-0.0251</td>\n      <td>0.0149</td>\n      <td>0.0043</td>\n      <td>0.0033</td>\n    </tr>\n    <tr>\n      <th>684174</th>\n      <td>349530.0</td>\n      <td>2023-09</td>\n      <td>0</td>\n      <td>0</td>\n      <td>0</td>\n      <td>0</td>\n      <td>0</td>\n      <td>0</td>\n      <td>0</td>\n      <td>0</td>\n      <td>...</td>\n      <td>5241660.0</td>\n      <td>2023-10</td>\n      <td>2023-09</td>\n      <td>2023-10-31</td>\n      <td>2023-10-31</td>\n      <td>-0.0315</td>\n      <td>-0.0386</td>\n      <td>0.002</td>\n      <td>0.0047</td>\n      <td>0.0167</td>\n    </tr>\n    <tr>\n      <th>684175</th>\n      <td>349530.0</td>\n      <td>2023-10</td>\n      <td>0</td>\n      <td>0</td>\n      <td>0</td>\n      <td>0</td>\n      <td>0</td>\n      <td>0</td>\n      <td>0</td>\n      <td>0</td>\n      <td>...</td>\n      <td>3880500.0</td>\n      <td>2023-11</td>\n      <td>2023-10</td>\n      <td>2023-11-30</td>\n      <td>2023-11-30</td>\n      <td>0.0888</td>\n      <td>-0.001</td>\n      <td>0.0167</td>\n      <td>0.0044</td>\n      <td>0.0256</td>\n    </tr>\n    <tr>\n      <th>684176</th>\n      <td>349530.0</td>\n      <td>2023-11</td>\n      <td>0</td>\n      <td>0</td>\n      <td>0</td>\n      <td>0</td>\n      <td>0</td>\n      <td>0</td>\n      <td>0</td>\n      <td>0</td>\n      <td>...</td>\n      <td>2448297.0</td>\n      <td>2023-12</td>\n      <td>2023-11</td>\n      <td>2023-12-29</td>\n      <td>2023-12-31</td>\n      <td>0.0485</td>\n      <td>0.063</td>\n      <td>0.0489</td>\n      <td>0.0043</td>\n      <td>-0.0553</td>\n    </tr>\n    <tr>\n      <th>684177</th>\n      <td>349530.0</td>\n      <td>2023-12</td>\n      <td>0</td>\n      <td>0</td>\n      <td>0</td>\n      <td>0</td>\n      <td>0</td>\n      <td>0</td>\n      <td>0</td>\n      <td>0</td>\n      <td>...</td>\n      <td>13671300.0</td>\n      <td>2024-01</td>\n      <td>2023-12</td>\n      <td>2024-01-31</td>\n      <td>2024-01-31</td>\n      <td>0.0073</td>\n      <td>-0.0507</td>\n      <td>-0.0238</td>\n      <td>0.0047</td>\n      <td>0.0542</td>\n    </tr>\n  </tbody>\n</table>\n<p>684178 rows × 44 columns</p>\n</div>"
     },
     "execution_count": 155,
     "metadata": {},
     "output_type": "execute_result"
    }
   ],
   "source": [
    "ff['dateff'] = pd.to_datetime(ff['dateff'])\n",
    "panel_firms = panel_firms.merge(ff[['dateff', 'date', 'MKT_RF', 'SMB', 'HML', 'RF', 'MOM']], left_on='date',\n",
    "                                right_on='dateff', how='left', suffixes=('', '_ff'))\n",
    "panel_firms"
   ],
   "metadata": {
    "collapsed": false,
    "ExecuteTime": {
     "end_time": "2025-10-24T21:12:07.236481500Z",
     "start_time": "2025-10-24T21:12:06.831687600Z"
    }
   }
  },
  {
   "cell_type": "code",
   "execution_count": 156,
   "outputs": [
    {
     "data": {
      "text/plain": "gvkey                                    0\nYearMonth                                0\nn_material                               0\nn_nonmaterial                            0\nn_car_1_material                         0\nn_car_5_material                         0\nn_reach_material                         0\nn_severity_material                      0\nn_material_24m                           0\nn_nonmaterial_24m                        0\nn_car_1_material_24m                     0\nn_car_5_material_24m                     0\nn_reach_material_24m                     0\nn_severity_material_24m                  0\ncusip                                    0\nSICS Codified Industry                   0\nCodified SICS Sector                     0\nyear                                     0\nindustry_n_material_24m                  0\nindustry_n_nonmaterial_24m               0\nindustry_n_car_1_material_24m            0\nindustry_n_car_5_material_24m            0\nindustry_n_reach_material_24m            0\nindustry_n_severity_material_24m         0\nYearQuarter                              0\nYearQuarter_prior                        0\nsize                                 19449\nroa_q                                13734\nlev_q                                13287\nbm_q                                161946\npermno                                   0\ndate                                     0\nret_adj                               2947\nme                                      24\nme_lag                                2934\nmonth                                    0\nmonth_prior                              0\ndateff                                   0\ndate_ff                                  0\nMKT_RF                                   0\nSMB                                      0\nHML                                      0\nRF                                       0\nMOM                                      0\ndtype: int64"
     },
     "execution_count": 156,
     "metadata": {},
     "output_type": "execute_result"
    }
   ],
   "source": [
    "panel_firms.isna().sum()"
   ],
   "metadata": {
    "collapsed": false,
    "ExecuteTime": {
     "end_time": "2025-10-24T21:12:17.148733Z",
     "start_time": "2025-10-24T21:12:16.880015300Z"
    }
   }
  },
  {
   "cell_type": "code",
   "execution_count": 157,
   "outputs": [],
   "source": [
    "panel_firms.to_csv('Output/panel_industries.csv', index=False)"
   ],
   "metadata": {
    "collapsed": false,
    "ExecuteTime": {
     "end_time": "2025-10-24T21:13:54.207625700Z",
     "start_time": "2025-10-24T21:13:19.241630700Z"
    }
   }
  },
  {
   "cell_type": "markdown",
   "source": [
    "# 5. Portfolios rolling sum"
   ],
   "metadata": {
    "collapsed": false
   }
  },
  {
   "cell_type": "code",
   "execution_count": 224,
   "outputs": [],
   "source": [
    "df = pd.read_csv('Output/panel_industries.csv')\n",
    "df = df[df['YearMonth'] > '2006-12']"
   ],
   "metadata": {
    "collapsed": false,
    "ExecuteTime": {
     "end_time": "2025-10-27T16:36:39.773834800Z",
     "start_time": "2025-10-27T16:36:32.022059600Z"
    }
   }
  },
  {
   "cell_type": "code",
   "execution_count": 225,
   "outputs": [],
   "source": [
    "def add_top_bottom_portfolio_binaries_firm(df: pd.DataFrame,\n",
    "                                           suffix: str = \"_24m\") -> pd.DataFrame:\n",
    "    \"\"\"\n",
    "    For every firm-level column named n_*_24m (and NOT industry_n_*_24m), create:\n",
    "      - top_portfolio_binary_{col}    = 1 if {col} == 0\n",
    "      - bottom_portfolio_binary_{col} = 1 if {col} > 0\n",
    "    Returns a copy with the new columns added.\n",
    "    \"\"\"\n",
    "    out = df.copy()\n",
    "    target_cols = [c for c in out.columns\n",
    "                   if c.startswith(\"n_\") and not c.startswith(\"industry_n_\") and c.endswith(suffix)]\n",
    "\n",
    "    for col in target_cols:\n",
    "        out[f\"top_portfolio_binary_{col}\"] = (out[col] == 0).astype(int)\n",
    "        out[f\"bottom_portfolio_binary_{col}\"] = (out[col] > 0).astype(int)\n",
    "\n",
    "    return out\n",
    "df = add_top_bottom_portfolio_binaries_firm(df)"
   ],
   "metadata": {
    "collapsed": false,
    "ExecuteTime": {
     "end_time": "2025-10-27T16:36:39.923111400Z",
     "start_time": "2025-10-27T16:36:39.688377600Z"
    }
   }
  },
  {
   "cell_type": "code",
   "execution_count": 226,
   "outputs": [],
   "source": [
    "def add_industry_portfolio_binaries(\n",
    "    df: pd.DataFrame,\n",
    "    date_col: str = \"YearMonth\",\n",
    "    industry_col: str = \"SICS Codified Industry \",\n",
    "    bucket: str = \"quintile\",              # \"quintile\" (20%) or \"decile\" (10%)\n",
    "    suffix: str = \"_24m\"\n",
    ") -> pd.DataFrame:\n",
    "    \"\"\"\n",
    "    For every industry_*_24m column, create:\n",
    "      - top_portfolio_binary_{col}_{bucket}    = 1 if industry value is in bottom 20% (or 10%)\n",
    "      - bottom_portfolio_binary_{col}_{bucket} = 1 if industry value is in top   20% (or 10%)\n",
    "\n",
    "    Percentiles are computed cross-sectionally within each month (date_col),\n",
    "    across industries (unique (date_col, industry_col) pairs), then mapped back to firms.\n",
    "    \"\"\"\n",
    "    out = df.copy()\n",
    "    # which columns to process\n",
    "    target_cols = [c for c in out.columns if c.startswith(\"industry_\") and c.endswith(suffix)]\n",
    "    if not target_cols:\n",
    "        return out\n",
    "\n",
    "    low_q, high_q = (0.2, 0.8) if bucket == \"quintile\" else (0.1, 0.9)\n",
    "\n",
    "    for col in target_cols:\n",
    "        # industry-level panel: one row per (month, industry)\n",
    "        sub = out[[date_col, industry_col, col]].drop_duplicates([date_col, industry_col])\n",
    "\n",
    "        # month-specific thresholds from cross-industry distribution\n",
    "        qs = (\n",
    "            sub.groupby(date_col)[col]\n",
    "               .quantile([low_q, high_q])\n",
    "               .unstack()            # columns are e.g. 0.2 and 0.8 (or 0.1/0.9)\n",
    "               .rename(columns={low_q: \"q_low\", high_q: \"q_high\"})\n",
    "               .reset_index()\n",
    "        )\n",
    "\n",
    "        # attach thresholds, flag top/bottom at industry level\n",
    "        sub = sub.merge(qs, on=date_col, how=\"left\")\n",
    "        sub[f\"top_portfolio_{col}_{bucket}\"]    = (sub[col] <= sub[\"q_low\"]).astype(int)\n",
    "        sub[f\"bottom_portfolio_{col}_{bucket}\"] = (sub[col] >= sub[\"q_high\"]).astype(int)\n",
    "        sub = sub[[date_col, industry_col,\n",
    "                   f\"top_portfolio_{col}_{bucket}\",\n",
    "                   f\"bottom_portfolio_{col}_{bucket}\"]]\n",
    "\n",
    "        # map back to firm-level rows\n",
    "        out = out.merge(sub, on=[date_col, industry_col], how=\"left\")\n",
    "\n",
    "    return out\n"
   ],
   "metadata": {
    "collapsed": false,
    "ExecuteTime": {
     "end_time": "2025-10-27T16:36:39.924112200Z",
     "start_time": "2025-10-27T16:36:39.883610400Z"
    }
   }
  },
  {
   "cell_type": "code",
   "execution_count": 227,
   "outputs": [],
   "source": [
    "# Quintiles (bottom 20% = top portfolio, top 20% = bottom portfolio)\n",
    "df = add_industry_portfolio_binaries(df, bucket=\"quintile\")\n",
    "\n",
    "# Or deciles (bottom 10% / top 10%)\n",
    "df = add_industry_portfolio_binaries(df, bucket=\"decile\")"
   ],
   "metadata": {
    "collapsed": false,
    "ExecuteTime": {
     "end_time": "2025-10-27T16:36:51.913092200Z",
     "start_time": "2025-10-27T16:36:39.904094100Z"
    }
   }
  },
  {
   "cell_type": "code",
   "execution_count": 232,
   "outputs": [
    {
     "data": {
      "text/plain": "           gvkey YearMonth  n_material  n_nonmaterial  n_car_1_material  \\\n0         1004.0   2007-01           0              0                 0   \n1         1004.0   2007-02           0              0                 0   \n2         1004.0   2007-03           0              0                 0   \n3         1004.0   2007-04           0              0                 0   \n4         1004.0   2007-05           0              0                 0   \n...          ...       ...         ...            ...               ...   \n684173  349530.0   2023-08           0              0                 0   \n684174  349530.0   2023-09           0              0                 0   \n684175  349530.0   2023-10           0              0                 0   \n684176  349530.0   2023-11           0              0                 0   \n684177  349530.0   2023-12           0              0                 0   \n\n        n_car_5_material  n_reach_material  n_severity_material  \\\n0                      0                 0                    0   \n1                      0                 0                    0   \n2                      0                 0                    0   \n3                      0                 0                    0   \n4                      0                 0                    0   \n...                  ...               ...                  ...   \n684173                 0                 0                    0   \n684174                 0                 0                    0   \n684175                 0                 0                    0   \n684176                 0                 0                    0   \n684177                 0                 0                    0   \n\n        n_material_24m  n_nonmaterial_24m  ...  \\\n0                    0                  0  ...   \n1                    0                  0  ...   \n2                    0                  0  ...   \n3                    0                  0  ...   \n4                    0                  0  ...   \n...                ...                ...  ...   \n684173               0                  0  ...   \n684174               0                  0  ...   \n684175               0                  0  ...   \n684176               0                  0  ...   \n684177               0                  0  ...   \n\n        top_portfolio_industry_n_nonmaterial_24m_decile  \\\n0                                                     0   \n1                                                     0   \n2                                                     0   \n3                                                     0   \n4                                                     0   \n...                                                 ...   \n684173                                                0   \n684174                                                0   \n684175                                                0   \n684176                                                0   \n684177                                                0   \n\n        bottom_portfolio_industry_n_nonmaterial_24m_decile  \\\n0                                                       1    \n1                                                       1    \n2                                                       1    \n3                                                       1    \n4                                                       1    \n...                                                   ...    \n684173                                                  0    \n684174                                                  0    \n684175                                                  0    \n684176                                                  0    \n684177                                                  0    \n\n        top_portfolio_industry_n_car_1_material_24m_decile  \\\n0                                                       1    \n1                                                       0    \n2                                                       0    \n3                                                       0    \n4                                                       0    \n...                                                   ...    \n684173                                                  0    \n684174                                                  0    \n684175                                                  0    \n684176                                                  0    \n684177                                                  0    \n\n        bottom_portfolio_industry_n_car_1_material_24m_decile  \\\n0                                                       0       \n1                                                       0       \n2                                                       0       \n3                                                       0       \n4                                                       0       \n...                                                   ...       \n684173                                                  1       \n684174                                                  1       \n684175                                                  1       \n684176                                                  1       \n684177                                                  1       \n\n       top_portfolio_industry_n_car_5_material_24m_decile  \\\n0                                                       1   \n1                                                       0   \n2                                                       0   \n3                                                       0   \n4                                                       0   \n...                                                   ...   \n684173                                                  0   \n684174                                                  0   \n684175                                                  0   \n684176                                                  0   \n684177                                                  0   \n\n       bottom_portfolio_industry_n_car_5_material_24m_decile  \\\n0                                                       0      \n1                                                       0      \n2                                                       0      \n3                                                       0      \n4                                                       0      \n...                                                   ...      \n684173                                                  1      \n684174                                                  1      \n684175                                                  1      \n684176                                                  1      \n684177                                                  1      \n\n       top_portfolio_industry_n_reach_material_24m_decile  \\\n0                                                       0   \n1                                                       0   \n2                                                       0   \n3                                                       0   \n4                                                       0   \n...                                                   ...   \n684173                                                  0   \n684174                                                  0   \n684175                                                  0   \n684176                                                  0   \n684177                                                  0   \n\n        bottom_portfolio_industry_n_reach_material_24m_decile  \\\n0                                                       1       \n1                                                       1       \n2                                                       1       \n3                                                       1       \n4                                                       1       \n...                                                   ...       \n684173                                                  1       \n684174                                                  1       \n684175                                                  1       \n684176                                                  1       \n684177                                                  1       \n\n        top_portfolio_industry_n_severity_material_24m_decile  \\\n0                                                       0       \n1                                                       0       \n2                                                       0       \n3                                                       0       \n4                                                       0       \n...                                                   ...       \n684173                                                  0       \n684174                                                  0       \n684175                                                  0       \n684176                                                  0       \n684177                                                  0       \n\n        bottom_portfolio_industry_n_severity_material_24m_decile  \n0                                                       1         \n1                                                       1         \n2                                                       1         \n3                                                       1         \n4                                                       1         \n...                                                   ...         \n684173                                                  1         \n684174                                                  1         \n684175                                                  1         \n684176                                                  1         \n684177                                                  1         \n\n[684178 rows x 80 columns]",
      "text/html": "<div>\n<style scoped>\n    .dataframe tbody tr th:only-of-type {\n        vertical-align: middle;\n    }\n\n    .dataframe tbody tr th {\n        vertical-align: top;\n    }\n\n    .dataframe thead th {\n        text-align: right;\n    }\n</style>\n<table border=\"1\" class=\"dataframe\">\n  <thead>\n    <tr style=\"text-align: right;\">\n      <th></th>\n      <th>gvkey</th>\n      <th>YearMonth</th>\n      <th>n_material</th>\n      <th>n_nonmaterial</th>\n      <th>n_car_1_material</th>\n      <th>n_car_5_material</th>\n      <th>n_reach_material</th>\n      <th>n_severity_material</th>\n      <th>n_material_24m</th>\n      <th>n_nonmaterial_24m</th>\n      <th>...</th>\n      <th>top_portfolio_industry_n_nonmaterial_24m_decile</th>\n      <th>bottom_portfolio_industry_n_nonmaterial_24m_decile</th>\n      <th>top_portfolio_industry_n_car_1_material_24m_decile</th>\n      <th>bottom_portfolio_industry_n_car_1_material_24m_decile</th>\n      <th>top_portfolio_industry_n_car_5_material_24m_decile</th>\n      <th>bottom_portfolio_industry_n_car_5_material_24m_decile</th>\n      <th>top_portfolio_industry_n_reach_material_24m_decile</th>\n      <th>bottom_portfolio_industry_n_reach_material_24m_decile</th>\n      <th>top_portfolio_industry_n_severity_material_24m_decile</th>\n      <th>bottom_portfolio_industry_n_severity_material_24m_decile</th>\n    </tr>\n  </thead>\n  <tbody>\n    <tr>\n      <th>0</th>\n      <td>1004.0</td>\n      <td>2007-01</td>\n      <td>0</td>\n      <td>0</td>\n      <td>0</td>\n      <td>0</td>\n      <td>0</td>\n      <td>0</td>\n      <td>0</td>\n      <td>0</td>\n      <td>...</td>\n      <td>0</td>\n      <td>1</td>\n      <td>1</td>\n      <td>0</td>\n      <td>1</td>\n      <td>0</td>\n      <td>0</td>\n      <td>1</td>\n      <td>0</td>\n      <td>1</td>\n    </tr>\n    <tr>\n      <th>1</th>\n      <td>1004.0</td>\n      <td>2007-02</td>\n      <td>0</td>\n      <td>0</td>\n      <td>0</td>\n      <td>0</td>\n      <td>0</td>\n      <td>0</td>\n      <td>0</td>\n      <td>0</td>\n      <td>...</td>\n      <td>0</td>\n      <td>1</td>\n      <td>0</td>\n      <td>0</td>\n      <td>0</td>\n      <td>0</td>\n      <td>0</td>\n      <td>1</td>\n      <td>0</td>\n      <td>1</td>\n    </tr>\n    <tr>\n      <th>2</th>\n      <td>1004.0</td>\n      <td>2007-03</td>\n      <td>0</td>\n      <td>0</td>\n      <td>0</td>\n      <td>0</td>\n      <td>0</td>\n      <td>0</td>\n      <td>0</td>\n      <td>0</td>\n      <td>...</td>\n      <td>0</td>\n      <td>1</td>\n      <td>0</td>\n      <td>0</td>\n      <td>0</td>\n      <td>0</td>\n      <td>0</td>\n      <td>1</td>\n      <td>0</td>\n      <td>1</td>\n    </tr>\n    <tr>\n      <th>3</th>\n      <td>1004.0</td>\n      <td>2007-04</td>\n      <td>0</td>\n      <td>0</td>\n      <td>0</td>\n      <td>0</td>\n      <td>0</td>\n      <td>0</td>\n      <td>0</td>\n      <td>0</td>\n      <td>...</td>\n      <td>0</td>\n      <td>1</td>\n      <td>0</td>\n      <td>0</td>\n      <td>0</td>\n      <td>0</td>\n      <td>0</td>\n      <td>1</td>\n      <td>0</td>\n      <td>1</td>\n    </tr>\n    <tr>\n      <th>4</th>\n      <td>1004.0</td>\n      <td>2007-05</td>\n      <td>0</td>\n      <td>0</td>\n      <td>0</td>\n      <td>0</td>\n      <td>0</td>\n      <td>0</td>\n      <td>0</td>\n      <td>0</td>\n      <td>...</td>\n      <td>0</td>\n      <td>1</td>\n      <td>0</td>\n      <td>0</td>\n      <td>0</td>\n      <td>0</td>\n      <td>0</td>\n      <td>1</td>\n      <td>0</td>\n      <td>1</td>\n    </tr>\n    <tr>\n      <th>...</th>\n      <td>...</td>\n      <td>...</td>\n      <td>...</td>\n      <td>...</td>\n      <td>...</td>\n      <td>...</td>\n      <td>...</td>\n      <td>...</td>\n      <td>...</td>\n      <td>...</td>\n      <td>...</td>\n      <td>...</td>\n      <td>...</td>\n      <td>...</td>\n      <td>...</td>\n      <td>...</td>\n      <td>...</td>\n      <td>...</td>\n      <td>...</td>\n      <td>...</td>\n      <td>...</td>\n    </tr>\n    <tr>\n      <th>684173</th>\n      <td>349530.0</td>\n      <td>2023-08</td>\n      <td>0</td>\n      <td>0</td>\n      <td>0</td>\n      <td>0</td>\n      <td>0</td>\n      <td>0</td>\n      <td>0</td>\n      <td>0</td>\n      <td>...</td>\n      <td>0</td>\n      <td>0</td>\n      <td>0</td>\n      <td>1</td>\n      <td>0</td>\n      <td>1</td>\n      <td>0</td>\n      <td>1</td>\n      <td>0</td>\n      <td>1</td>\n    </tr>\n    <tr>\n      <th>684174</th>\n      <td>349530.0</td>\n      <td>2023-09</td>\n      <td>0</td>\n      <td>0</td>\n      <td>0</td>\n      <td>0</td>\n      <td>0</td>\n      <td>0</td>\n      <td>0</td>\n      <td>0</td>\n      <td>...</td>\n      <td>0</td>\n      <td>0</td>\n      <td>0</td>\n      <td>1</td>\n      <td>0</td>\n      <td>1</td>\n      <td>0</td>\n      <td>1</td>\n      <td>0</td>\n      <td>1</td>\n    </tr>\n    <tr>\n      <th>684175</th>\n      <td>349530.0</td>\n      <td>2023-10</td>\n      <td>0</td>\n      <td>0</td>\n      <td>0</td>\n      <td>0</td>\n      <td>0</td>\n      <td>0</td>\n      <td>0</td>\n      <td>0</td>\n      <td>...</td>\n      <td>0</td>\n      <td>0</td>\n      <td>0</td>\n      <td>1</td>\n      <td>0</td>\n      <td>1</td>\n      <td>0</td>\n      <td>1</td>\n      <td>0</td>\n      <td>1</td>\n    </tr>\n    <tr>\n      <th>684176</th>\n      <td>349530.0</td>\n      <td>2023-11</td>\n      <td>0</td>\n      <td>0</td>\n      <td>0</td>\n      <td>0</td>\n      <td>0</td>\n      <td>0</td>\n      <td>0</td>\n      <td>0</td>\n      <td>...</td>\n      <td>0</td>\n      <td>0</td>\n      <td>0</td>\n      <td>1</td>\n      <td>0</td>\n      <td>1</td>\n      <td>0</td>\n      <td>1</td>\n      <td>0</td>\n      <td>1</td>\n    </tr>\n    <tr>\n      <th>684177</th>\n      <td>349530.0</td>\n      <td>2023-12</td>\n      <td>0</td>\n      <td>0</td>\n      <td>0</td>\n      <td>0</td>\n      <td>0</td>\n      <td>0</td>\n      <td>0</td>\n      <td>0</td>\n      <td>...</td>\n      <td>0</td>\n      <td>0</td>\n      <td>0</td>\n      <td>1</td>\n      <td>0</td>\n      <td>1</td>\n      <td>0</td>\n      <td>1</td>\n      <td>0</td>\n      <td>1</td>\n    </tr>\n  </tbody>\n</table>\n<p>684178 rows × 80 columns</p>\n</div>"
     },
     "execution_count": 232,
     "metadata": {},
     "output_type": "execute_result"
    }
   ],
   "source": [
    "df"
   ],
   "metadata": {
    "collapsed": false,
    "ExecuteTime": {
     "end_time": "2025-10-27T16:38:54.503491100Z",
     "start_time": "2025-10-27T16:38:54.203990700Z"
    }
   }
  },
  {
   "cell_type": "code",
   "execution_count": 228,
   "outputs": [],
   "source": [
    "def summarize_portfolio_counts_per_month(\n",
    "    df: pd.DataFrame,\n",
    "    date_col: str = \"YearMonth\",\n",
    "    buckets = (\"binary\", \"quintile\", \"decile\")\n",
    ") -> pd.DataFrame:\n",
    "    \"\"\"\n",
    "    Returns a tidy DataFrame with counts per month of observations in\n",
    "    top/bottom portfolios for the provided `buckets`.\n",
    "\n",
    "    Supported naming styles:\n",
    "      - New:    top_portfolio_{col}_{bucket} / bottom_portfolio_{col}_{bucket}\n",
    "      - Legacy: top_portfolio_binary_{col}    / bottom_portfolio_binary_{col}\n",
    "\n",
    "    Output columns:\n",
    "      [date_col, 'bucket', 'signal', 'side', 'n_obs']\n",
    "    \"\"\"\n",
    "    out_rows = []\n",
    "\n",
    "    # New-style patterns (bucket at the end)\n",
    "    patterns = {\n",
    "        b: {\n",
    "            \"top\": re.compile(rf\"^top_portfolio_(.+)_{re.escape(b)}$\"),\n",
    "            \"bottom\": re.compile(rf\"^bottom_portfolio_(.+)_{re.escape(b)}$\")\n",
    "        }\n",
    "        for b in buckets\n",
    "    }\n",
    "    # Legacy binary style (bucket at the front)\n",
    "    pat_legacy_binary_top = re.compile(r\"^top_portfolio_binary_(.+)$\")\n",
    "    pat_legacy_binary_bot = re.compile(r\"^bottom_portfolio_binary_(.+)$\")\n",
    "\n",
    "    top_cols = [c for c in df.columns if c.startswith(\"top_portfolio_\")]\n",
    "    bottom_cols = [c for c in df.columns if c.startswith(\"bottom_portfolio_\")]\n",
    "    port_cols = top_cols + bottom_cols\n",
    "    if not port_cols:\n",
    "        return pd.DataFrame(columns=[date_col, \"bucket\", \"signal\", \"side\", \"n_obs\"])\n",
    "\n",
    "    for b in buckets:\n",
    "        col_map = {}\n",
    "\n",
    "        # 1) New-style columns for this bucket\n",
    "        for c in port_cols:\n",
    "            m_top = patterns[b][\"top\"].match(c)\n",
    "            m_bot = patterns[b][\"bottom\"].match(c)\n",
    "            if m_top:\n",
    "                signal = m_top.group(1)\n",
    "                col_map[c] = (\"top\", signal)\n",
    "            elif m_bot:\n",
    "                signal = m_bot.group(1)\n",
    "                col_map[c] = (\"bottom\", signal)\n",
    "\n",
    "        # 2) Legacy binary columns (only when summarizing 'binary')\n",
    "        if b == \"binary\":\n",
    "            for c in port_cols:\n",
    "                if c in col_map:  # prefer new-style if both exist\n",
    "                    continue\n",
    "                m_top = pat_legacy_binary_top.match(c)\n",
    "                m_bot = pat_legacy_binary_bot.match(c)\n",
    "                if m_top:\n",
    "                    signal = m_top.group(1)\n",
    "                    col_map[c] = (\"top\", signal)\n",
    "                elif m_bot:\n",
    "                    signal = m_bot.group(1)\n",
    "                    col_map[c] = (\"bottom\", signal)\n",
    "\n",
    "        if not col_map:\n",
    "            continue\n",
    "\n",
    "        sub = df[[date_col] + list(col_map.keys())].copy()\n",
    "        long = sub.melt(id_vars=[date_col], var_name=\"col\", value_name=\"flag\")\n",
    "        long[\"side\"] = long[\"col\"].map(lambda x: col_map[x][0])\n",
    "        long[\"signal\"] = long[\"col\"].map(lambda x: col_map[x][1])\n",
    "        long[\"bucket\"] = b\n",
    "\n",
    "        grp = (\n",
    "            long[long[\"flag\"] == 1]\n",
    "            .groupby([date_col, \"bucket\", \"signal\", \"side\"], dropna=False)\n",
    "            .size()\n",
    "            .reset_index(name=\"n_obs\")\n",
    "        )\n",
    "        out_rows.append(grp)\n",
    "\n",
    "    if not out_rows:\n",
    "        return pd.DataFrame(columns=[date_col, \"bucket\", \"signal\", \"side\", \"n_obs\"])\n",
    "\n",
    "    res = pd.concat(out_rows, ignore_index=True).sort_values([date_col, \"bucket\", \"signal\", \"side\"])\n",
    "    return res\n"
   ],
   "metadata": {
    "collapsed": false,
    "ExecuteTime": {
     "end_time": "2025-10-27T16:36:51.993365700Z",
     "start_time": "2025-10-27T16:36:51.913092200Z"
    }
   }
  },
  {
   "cell_type": "code",
   "execution_count": 229,
   "outputs": [
    {
     "data": {
      "text/plain": "     YearMonth    bucket                            signal    side  n_obs\n0      2007-01    binary              n_car_1_material_24m  bottom     10\n1      2007-01    binary              n_car_1_material_24m     top   3755\n2      2007-01    binary              n_car_5_material_24m  bottom     11\n3      2007-01    binary              n_car_5_material_24m     top   3754\n4      2007-01    binary                    n_material_24m  bottom      9\n...        ...       ...                               ...     ...    ...\n4891   2023-12  quintile        industry_n_nonmaterial_24m     top    147\n4892   2023-12  quintile     industry_n_reach_material_24m  bottom   1866\n4893   2023-12  quintile     industry_n_reach_material_24m     top    120\n4894   2023-12  quintile  industry_n_severity_material_24m  bottom   1866\n4895   2023-12  quintile  industry_n_severity_material_24m     top    120\n\n[7344 rows x 5 columns]",
      "text/html": "<div>\n<style scoped>\n    .dataframe tbody tr th:only-of-type {\n        vertical-align: middle;\n    }\n\n    .dataframe tbody tr th {\n        vertical-align: top;\n    }\n\n    .dataframe thead th {\n        text-align: right;\n    }\n</style>\n<table border=\"1\" class=\"dataframe\">\n  <thead>\n    <tr style=\"text-align: right;\">\n      <th></th>\n      <th>YearMonth</th>\n      <th>bucket</th>\n      <th>signal</th>\n      <th>side</th>\n      <th>n_obs</th>\n    </tr>\n  </thead>\n  <tbody>\n    <tr>\n      <th>0</th>\n      <td>2007-01</td>\n      <td>binary</td>\n      <td>n_car_1_material_24m</td>\n      <td>bottom</td>\n      <td>10</td>\n    </tr>\n    <tr>\n      <th>1</th>\n      <td>2007-01</td>\n      <td>binary</td>\n      <td>n_car_1_material_24m</td>\n      <td>top</td>\n      <td>3755</td>\n    </tr>\n    <tr>\n      <th>2</th>\n      <td>2007-01</td>\n      <td>binary</td>\n      <td>n_car_5_material_24m</td>\n      <td>bottom</td>\n      <td>11</td>\n    </tr>\n    <tr>\n      <th>3</th>\n      <td>2007-01</td>\n      <td>binary</td>\n      <td>n_car_5_material_24m</td>\n      <td>top</td>\n      <td>3754</td>\n    </tr>\n    <tr>\n      <th>4</th>\n      <td>2007-01</td>\n      <td>binary</td>\n      <td>n_material_24m</td>\n      <td>bottom</td>\n      <td>9</td>\n    </tr>\n    <tr>\n      <th>...</th>\n      <td>...</td>\n      <td>...</td>\n      <td>...</td>\n      <td>...</td>\n      <td>...</td>\n    </tr>\n    <tr>\n      <th>4891</th>\n      <td>2023-12</td>\n      <td>quintile</td>\n      <td>industry_n_nonmaterial_24m</td>\n      <td>top</td>\n      <td>147</td>\n    </tr>\n    <tr>\n      <th>4892</th>\n      <td>2023-12</td>\n      <td>quintile</td>\n      <td>industry_n_reach_material_24m</td>\n      <td>bottom</td>\n      <td>1866</td>\n    </tr>\n    <tr>\n      <th>4893</th>\n      <td>2023-12</td>\n      <td>quintile</td>\n      <td>industry_n_reach_material_24m</td>\n      <td>top</td>\n      <td>120</td>\n    </tr>\n    <tr>\n      <th>4894</th>\n      <td>2023-12</td>\n      <td>quintile</td>\n      <td>industry_n_severity_material_24m</td>\n      <td>bottom</td>\n      <td>1866</td>\n    </tr>\n    <tr>\n      <th>4895</th>\n      <td>2023-12</td>\n      <td>quintile</td>\n      <td>industry_n_severity_material_24m</td>\n      <td>top</td>\n      <td>120</td>\n    </tr>\n  </tbody>\n</table>\n<p>7344 rows × 5 columns</p>\n</div>"
     },
     "execution_count": 229,
     "metadata": {},
     "output_type": "execute_result"
    }
   ],
   "source": [
    "counts_long = summarize_portfolio_counts_per_month(df)\n",
    "counts_long"
   ],
   "metadata": {
    "collapsed": false,
    "ExecuteTime": {
     "end_time": "2025-10-27T16:37:11.467363100Z",
     "start_time": "2025-10-27T16:36:51.937817900Z"
    }
   }
  },
  {
   "cell_type": "code",
   "execution_count": 230,
   "outputs": [],
   "source": [
    "def ls_excess_from_top_bottom_named(\n",
    "        df: pd.DataFrame,\n",
    "        date_col: str = \"YearMonth\",\n",
    "        ret_col: str = \"ret_adj\",\n",
    "        rf_col: str = \"RF\",\n",
    "        weight_col: str = \"me_lag\",\n",
    "):\n",
    "    x = df.copy()\n",
    "\n",
    "    # Month key -> Period[M]\n",
    "    if np.issubdtype(x[date_col].dtype, np.datetime64):\n",
    "        x[\"_m_\"] = x[date_col].dt.to_period(\"M\")\n",
    "    else:\n",
    "        x[\"_m_\"] = pd.to_datetime(x[date_col].astype(str), errors=\"coerce\").dt.to_period(\"M\")\n",
    "\n",
    "    # Excess return and weights\n",
    "    x[\"_rex_\"] = (\n",
    "        pd.to_numeric(x.get(ret_col, np.nan), errors=\"coerce\")\n",
    "        - pd.to_numeric(x.get(rf_col, 0.0), errors=\"coerce\").fillna(0.0)\n",
    "    )\n",
    "    x[\"_w_\"] = pd.to_numeric(x.get(weight_col, np.nan), errors=\"coerce\")\n",
    "\n",
    "    # Support BOTH name orders:\n",
    "    #   1) <leg>_portfolio_<signal>_<bucket>\n",
    "    #   2) <leg>_portfolio_<bucket>_<signal>\n",
    "    pat_end   = re.compile(r\"^(?P<leg>top|bottom)_portfolio_(?P<signal>.+)_(?P<bucket>binary|tertile|quintile|decile)$\")\n",
    "    pat_start = re.compile(r\"^(?P<leg>top|bottom)_portfolio_(?P<bucket>binary|tertile|quintile|decile)_(?P<signal>.+)$\")\n",
    "\n",
    "    def detect_scope_and_base(sig: str) -> tuple[str, str]:\n",
    "        \"\"\"Infer scope from signal prefix, return (scope, base_signal_without_prefix).\"\"\"\n",
    "        if sig.startswith(\"industry_peers_\"):\n",
    "            return \"industry_peers\", sig[len(\"industry_peers_\"):]\n",
    "        if sig.startswith(\"industry_\"):\n",
    "            return \"industry\", sig[len(\"industry_\"):]\n",
    "        return \"overall\", sig\n",
    "\n",
    "    # Collect top/bottom pairs by (base_signal, scope, bucket)\n",
    "    pairs = {}\n",
    "    for c in x.columns:\n",
    "        m = pat_end.match(c) or pat_start.match(c)\n",
    "        if not m:\n",
    "            continue\n",
    "        leg = m.group(\"leg\")            # top/bottom\n",
    "        bucket = m.group(\"bucket\")      # binary/tertile/quintile/decile\n",
    "        sig_raw = m.group(\"signal\")     # may include industry_/industry_peers_\n",
    "        scope, sig_base = detect_scope_and_base(sig_raw)\n",
    "        key = (sig_base, scope, bucket)\n",
    "        pairs.setdefault(key, {\"top\": None, \"bottom\": None})\n",
    "        pairs[key][leg] = c\n",
    "\n",
    "    specs = [\n",
    "        (sig_base, scope, bucket, cols[\"top\"], cols[\"bottom\"])\n",
    "        for (sig_base, scope, bucket), cols in pairs.items()\n",
    "        if cols[\"top\"] is not None and cols[\"bottom\"] is not None\n",
    "    ]\n",
    "    if not specs:\n",
    "        raise ValueError(\"No complete top/bottom pairs found for binary/tertile/quintile/decile.\")\n",
    "\n",
    "    def _clean_signal(sig: str) -> str:\n",
    "        s = sig\n",
    "        s = re.sub(r\"^n_\", \"\", s)  # drop leading 'n_'\n",
    "        s = s.replace(\"_material_24m\", \"\").replace(\"_material\", \"\")  # your conventions\n",
    "        s = s.replace(\"_24m\", \"\")\n",
    "        return s.strip(\"_\")\n",
    "\n",
    "    # --- SAFE mask converter ---\n",
    "    def _safe_bool(mask: pd.Series) -> pd.Series:\n",
    "        if mask.dtype == bool:\n",
    "            return mask.astype(\"boolean\").fillna(False)\n",
    "        m = pd.to_numeric(mask, errors=\"coerce\")\n",
    "        return m.eq(1).astype(\"boolean\").fillna(False)\n",
    "\n",
    "    # EW & VW helpers on *excess* returns\n",
    "    def _ew(mask: pd.Series) -> pd.Series:\n",
    "        m = _safe_bool(mask)\n",
    "        if not m.any():\n",
    "            return pd.Series(dtype=float)\n",
    "        return x.loc[m].groupby(x.loc[m, \"_m_\"])[\"_rex_\"].mean()\n",
    "\n",
    "    def _vw(mask: pd.Series) -> pd.Series:\n",
    "        m = _safe_bool(mask)\n",
    "        tmp = x.loc[m, [\"_m_\", \"_rex_\", \"_w_\"]].copy()\n",
    "        if tmp.empty:\n",
    "            return pd.Series(dtype=float)\n",
    "        tmp[\"_w_\"] = tmp[\"_w_\"].clip(lower=0)\n",
    "        sumw = tmp.groupby(\"_m_\")[\"_w_\"].sum()\n",
    "        sumw = sumw.where(sumw > 0)\n",
    "        tmp = tmp.join(sumw.rename(\"_sumw_\"), on=\"_m_\")\n",
    "        tmp[\"_contrib_\"] = tmp[\"_rex_\"] * (tmp[\"_w_\"] / tmp[\"_sumw_\"])\n",
    "        return tmp.groupby(\"_m_\")[\"_contrib_\"].sum()\n",
    "\n",
    "    frames = []\n",
    "    for sig_base, scope, bucket, top_col, bot_col in sorted(specs):\n",
    "        top_m = x[top_col]\n",
    "        bot_m = x[bot_col]\n",
    "\n",
    "        ew_top, ew_bot = _ew(top_m), _ew(bot_m)\n",
    "        vw_top, vw_bot = _vw(top_m), _vw(bot_m)\n",
    "\n",
    "        # align unions of months\n",
    "        idx = ew_top.index.union(ew_bot.index)\n",
    "        ew_ls_ex = ew_top.reindex(idx) - ew_bot.reindex(idx)\n",
    "\n",
    "        idx_vw = vw_top.index.union(vw_bot.index)\n",
    "        vw_ls_ex = vw_top.reindex(idx_vw) - vw_bot.reindex(idx_vw)\n",
    "        vw_ls_ex = vw_ls_ex.reindex(idx)\n",
    "\n",
    "        base = _clean_signal(sig_base)\n",
    "        if scope == \"industry\":\n",
    "            base = f\"industry_{base}\"\n",
    "        elif scope == \"industry_peers\":\n",
    "            base = f\"industry_peers_{base}\"\n",
    "\n",
    "        col_ew = f\"{base}_{bucket}_ls_ew\"\n",
    "        col_vw = f\"{base}_{bucket}_ls_vw\"\n",
    "\n",
    "        frames.append(pd.DataFrame({\n",
    "            \"YearMonth\": idx,\n",
    "            col_ew: ew_ls_ex.values,\n",
    "            col_vw: vw_ls_ex.values,\n",
    "        }))\n",
    "\n",
    "    out = frames[0]\n",
    "    for f in frames[1:]:\n",
    "        out = out.merge(f, on=\"YearMonth\", how=\"outer\")\n",
    "\n",
    "    return out.sort_values(\"YearMonth\").reset_index(drop=True)\n"
   ],
   "metadata": {
    "collapsed": false,
    "ExecuteTime": {
     "end_time": "2025-10-27T16:37:11.571978900Z",
     "start_time": "2025-10-27T16:37:11.494565100Z"
    }
   }
  },
  {
   "cell_type": "code",
   "execution_count": 231,
   "outputs": [
    {
     "data": {
      "text/plain": "    YearMonth  industry_car_1_decile_ls_ew  industry_car_1_decile_ls_vw  \\\n0     2007-01                     0.007277                     0.004943   \n1     2007-02                     0.004171                    -0.004006   \n2     2007-03                     0.033134                    -0.014144   \n3     2007-04                     0.027454                     0.023282   \n4     2007-05                     0.005101                    -0.013952   \n..        ...                          ...                          ...   \n199   2023-08                     0.028310                     0.000713   \n200   2023-09                     0.020949                     0.006397   \n201   2023-10                    -0.011122                    -0.023761   \n202   2023-11                    -0.104784                    -0.036467   \n203   2023-12                    -0.018082                     0.004644   \n\n     industry_car_1_quintile_ls_ew  industry_car_1_quintile_ls_vw  \\\n0                         0.001989                       0.003948   \n1                        -0.002864                      -0.004930   \n2                         0.004864                      -0.022428   \n3                         0.021274                       0.018881   \n4                         0.016103                      -0.005041   \n..                             ...                            ...   \n199                       0.008130                       0.045222   \n200                      -0.015742                       0.032288   \n201                      -0.018125                      -0.048684   \n202                      -0.032976                       0.010616   \n203                      -0.038090                      -0.019942   \n\n     car_1_binary_ls_ew  car_1_binary_ls_vw  industry_car_5_decile_ls_ew  \\\n0              0.002154            0.017156                     0.007702   \n1             -0.014613            0.002539                     0.003416   \n2             -0.008588           -0.005240                     0.032126   \n3             -0.010676            0.004426                     0.029642   \n4              0.014628           -0.002065                     0.021386   \n..                  ...                 ...                          ...   \n199           -0.015994           -0.006345                    -0.012137   \n200           -0.022612           -0.030304                     0.021729   \n201            0.000309            0.013658                    -0.011122   \n202            0.024487            0.042752                    -0.104784   \n203            0.008418           -0.016962                    -0.019256   \n\n     industry_car_5_decile_ls_vw  industry_car_5_quintile_ls_ew  ...  \\\n0                       0.004118                       0.001989  ...   \n1                       0.001363                      -0.002864  ...   \n2                      -0.014725                       0.006799  ...   \n3                       0.029143                       0.018580  ...   \n4                       0.001226                       0.004835  ...   \n..                           ...                            ...  ...   \n199                    -0.028126                       0.006276  ...   \n200                     0.004958                      -0.008409  ...   \n201                    -0.023761                       0.006140  ...   \n202                    -0.036467                      -0.027332  ...   \n203                     0.001766                      -0.036619  ...   \n\n     industry_reach_quintile_ls_ew  industry_reach_quintile_ls_vw  \\\n0                         0.000677                      -0.002288   \n1                        -0.003823                      -0.002283   \n2                         0.017414                      -0.015108   \n3                        -0.005770                       0.003953   \n4                        -0.015807                      -0.025250   \n..                             ...                            ...   \n199                       0.022846                       0.061192   \n200                      -0.007669                       0.056403   \n201                      -0.001529                      -0.059016   \n202                      -0.023930                       0.003578   \n203                      -0.037096                      -0.014572   \n\n     reach_binary_ls_ew  reach_binary_ls_vw  industry_severity_decile_ls_ew  \\\n0              0.023924            0.011437                        0.002231   \n1             -0.002366           -0.013442                       -0.000785   \n2             -0.017186           -0.005925                        0.019077   \n3             -0.014080           -0.002504                       -0.001157   \n4             -0.000177           -0.007805                       -0.008937   \n..                  ...                 ...                             ...   \n199           -0.015071           -0.008005                       -0.023023   \n200           -0.022960           -0.041631                       -0.031377   \n201            0.007342            0.022403                        0.020352   \n202            0.031365            0.052037                        0.013674   \n203            0.009846           -0.013954                       -0.030448   \n\n     industry_severity_decile_ls_vw  industry_severity_quintile_ls_ew  \\\n0                         -0.003835                          0.001138   \n1                         -0.012058                         -0.004829   \n2                         -0.018607                          0.016364   \n3                          0.009323                         -0.006397   \n4                         -0.018273                         -0.011880   \n..                              ...                               ...   \n199                       -0.033790                          0.022846   \n200                       -0.004162                         -0.007669   \n201                       -0.000113                          0.038828   \n202                        0.019215                         -0.023930   \n203                       -0.021287                         -0.037096   \n\n     industry_severity_quintile_ls_vw  severity_binary_ls_ew  \\\n0                           -0.001183               0.022697   \n1                           -0.006912              -0.001348   \n2                           -0.017561              -0.017539   \n3                            0.003227              -0.012847   \n4                           -0.019277              -0.002662   \n..                                ...                    ...   \n199                          0.061192              -0.013676   \n200                          0.056403              -0.022611   \n201                         -0.046660               0.005460   \n202                          0.003578               0.033881   \n203                         -0.014572               0.008772   \n\n     severity_binary_ls_vw  \n0                 0.024004  \n1                -0.007103  \n2                -0.010587  \n3                 0.000329  \n4                -0.011352  \n..                     ...  \n199              -0.008275  \n200              -0.034537  \n201               0.017831  \n202               0.046087  \n203              -0.019103  \n\n[204 rows x 37 columns]",
      "text/html": "<div>\n<style scoped>\n    .dataframe tbody tr th:only-of-type {\n        vertical-align: middle;\n    }\n\n    .dataframe tbody tr th {\n        vertical-align: top;\n    }\n\n    .dataframe thead th {\n        text-align: right;\n    }\n</style>\n<table border=\"1\" class=\"dataframe\">\n  <thead>\n    <tr style=\"text-align: right;\">\n      <th></th>\n      <th>YearMonth</th>\n      <th>industry_car_1_decile_ls_ew</th>\n      <th>industry_car_1_decile_ls_vw</th>\n      <th>industry_car_1_quintile_ls_ew</th>\n      <th>industry_car_1_quintile_ls_vw</th>\n      <th>car_1_binary_ls_ew</th>\n      <th>car_1_binary_ls_vw</th>\n      <th>industry_car_5_decile_ls_ew</th>\n      <th>industry_car_5_decile_ls_vw</th>\n      <th>industry_car_5_quintile_ls_ew</th>\n      <th>...</th>\n      <th>industry_reach_quintile_ls_ew</th>\n      <th>industry_reach_quintile_ls_vw</th>\n      <th>reach_binary_ls_ew</th>\n      <th>reach_binary_ls_vw</th>\n      <th>industry_severity_decile_ls_ew</th>\n      <th>industry_severity_decile_ls_vw</th>\n      <th>industry_severity_quintile_ls_ew</th>\n      <th>industry_severity_quintile_ls_vw</th>\n      <th>severity_binary_ls_ew</th>\n      <th>severity_binary_ls_vw</th>\n    </tr>\n  </thead>\n  <tbody>\n    <tr>\n      <th>0</th>\n      <td>2007-01</td>\n      <td>0.007277</td>\n      <td>0.004943</td>\n      <td>0.001989</td>\n      <td>0.003948</td>\n      <td>0.002154</td>\n      <td>0.017156</td>\n      <td>0.007702</td>\n      <td>0.004118</td>\n      <td>0.001989</td>\n      <td>...</td>\n      <td>0.000677</td>\n      <td>-0.002288</td>\n      <td>0.023924</td>\n      <td>0.011437</td>\n      <td>0.002231</td>\n      <td>-0.003835</td>\n      <td>0.001138</td>\n      <td>-0.001183</td>\n      <td>0.022697</td>\n      <td>0.024004</td>\n    </tr>\n    <tr>\n      <th>1</th>\n      <td>2007-02</td>\n      <td>0.004171</td>\n      <td>-0.004006</td>\n      <td>-0.002864</td>\n      <td>-0.004930</td>\n      <td>-0.014613</td>\n      <td>0.002539</td>\n      <td>0.003416</td>\n      <td>0.001363</td>\n      <td>-0.002864</td>\n      <td>...</td>\n      <td>-0.003823</td>\n      <td>-0.002283</td>\n      <td>-0.002366</td>\n      <td>-0.013442</td>\n      <td>-0.000785</td>\n      <td>-0.012058</td>\n      <td>-0.004829</td>\n      <td>-0.006912</td>\n      <td>-0.001348</td>\n      <td>-0.007103</td>\n    </tr>\n    <tr>\n      <th>2</th>\n      <td>2007-03</td>\n      <td>0.033134</td>\n      <td>-0.014144</td>\n      <td>0.004864</td>\n      <td>-0.022428</td>\n      <td>-0.008588</td>\n      <td>-0.005240</td>\n      <td>0.032126</td>\n      <td>-0.014725</td>\n      <td>0.006799</td>\n      <td>...</td>\n      <td>0.017414</td>\n      <td>-0.015108</td>\n      <td>-0.017186</td>\n      <td>-0.005925</td>\n      <td>0.019077</td>\n      <td>-0.018607</td>\n      <td>0.016364</td>\n      <td>-0.017561</td>\n      <td>-0.017539</td>\n      <td>-0.010587</td>\n    </tr>\n    <tr>\n      <th>3</th>\n      <td>2007-04</td>\n      <td>0.027454</td>\n      <td>0.023282</td>\n      <td>0.021274</td>\n      <td>0.018881</td>\n      <td>-0.010676</td>\n      <td>0.004426</td>\n      <td>0.029642</td>\n      <td>0.029143</td>\n      <td>0.018580</td>\n      <td>...</td>\n      <td>-0.005770</td>\n      <td>0.003953</td>\n      <td>-0.014080</td>\n      <td>-0.002504</td>\n      <td>-0.001157</td>\n      <td>0.009323</td>\n      <td>-0.006397</td>\n      <td>0.003227</td>\n      <td>-0.012847</td>\n      <td>0.000329</td>\n    </tr>\n    <tr>\n      <th>4</th>\n      <td>2007-05</td>\n      <td>0.005101</td>\n      <td>-0.013952</td>\n      <td>0.016103</td>\n      <td>-0.005041</td>\n      <td>0.014628</td>\n      <td>-0.002065</td>\n      <td>0.021386</td>\n      <td>0.001226</td>\n      <td>0.004835</td>\n      <td>...</td>\n      <td>-0.015807</td>\n      <td>-0.025250</td>\n      <td>-0.000177</td>\n      <td>-0.007805</td>\n      <td>-0.008937</td>\n      <td>-0.018273</td>\n      <td>-0.011880</td>\n      <td>-0.019277</td>\n      <td>-0.002662</td>\n      <td>-0.011352</td>\n    </tr>\n    <tr>\n      <th>...</th>\n      <td>...</td>\n      <td>...</td>\n      <td>...</td>\n      <td>...</td>\n      <td>...</td>\n      <td>...</td>\n      <td>...</td>\n      <td>...</td>\n      <td>...</td>\n      <td>...</td>\n      <td>...</td>\n      <td>...</td>\n      <td>...</td>\n      <td>...</td>\n      <td>...</td>\n      <td>...</td>\n      <td>...</td>\n      <td>...</td>\n      <td>...</td>\n      <td>...</td>\n      <td>...</td>\n    </tr>\n    <tr>\n      <th>199</th>\n      <td>2023-08</td>\n      <td>0.028310</td>\n      <td>0.000713</td>\n      <td>0.008130</td>\n      <td>0.045222</td>\n      <td>-0.015994</td>\n      <td>-0.006345</td>\n      <td>-0.012137</td>\n      <td>-0.028126</td>\n      <td>0.006276</td>\n      <td>...</td>\n      <td>0.022846</td>\n      <td>0.061192</td>\n      <td>-0.015071</td>\n      <td>-0.008005</td>\n      <td>-0.023023</td>\n      <td>-0.033790</td>\n      <td>0.022846</td>\n      <td>0.061192</td>\n      <td>-0.013676</td>\n      <td>-0.008275</td>\n    </tr>\n    <tr>\n      <th>200</th>\n      <td>2023-09</td>\n      <td>0.020949</td>\n      <td>0.006397</td>\n      <td>-0.015742</td>\n      <td>0.032288</td>\n      <td>-0.022612</td>\n      <td>-0.030304</td>\n      <td>0.021729</td>\n      <td>0.004958</td>\n      <td>-0.008409</td>\n      <td>...</td>\n      <td>-0.007669</td>\n      <td>0.056403</td>\n      <td>-0.022960</td>\n      <td>-0.041631</td>\n      <td>-0.031377</td>\n      <td>-0.004162</td>\n      <td>-0.007669</td>\n      <td>0.056403</td>\n      <td>-0.022611</td>\n      <td>-0.034537</td>\n    </tr>\n    <tr>\n      <th>201</th>\n      <td>2023-10</td>\n      <td>-0.011122</td>\n      <td>-0.023761</td>\n      <td>-0.018125</td>\n      <td>-0.048684</td>\n      <td>0.000309</td>\n      <td>0.013658</td>\n      <td>-0.011122</td>\n      <td>-0.023761</td>\n      <td>0.006140</td>\n      <td>...</td>\n      <td>-0.001529</td>\n      <td>-0.059016</td>\n      <td>0.007342</td>\n      <td>0.022403</td>\n      <td>0.020352</td>\n      <td>-0.000113</td>\n      <td>0.038828</td>\n      <td>-0.046660</td>\n      <td>0.005460</td>\n      <td>0.017831</td>\n    </tr>\n    <tr>\n      <th>202</th>\n      <td>2023-11</td>\n      <td>-0.104784</td>\n      <td>-0.036467</td>\n      <td>-0.032976</td>\n      <td>0.010616</td>\n      <td>0.024487</td>\n      <td>0.042752</td>\n      <td>-0.104784</td>\n      <td>-0.036467</td>\n      <td>-0.027332</td>\n      <td>...</td>\n      <td>-0.023930</td>\n      <td>0.003578</td>\n      <td>0.031365</td>\n      <td>0.052037</td>\n      <td>0.013674</td>\n      <td>0.019215</td>\n      <td>-0.023930</td>\n      <td>0.003578</td>\n      <td>0.033881</td>\n      <td>0.046087</td>\n    </tr>\n    <tr>\n      <th>203</th>\n      <td>2023-12</td>\n      <td>-0.018082</td>\n      <td>0.004644</td>\n      <td>-0.038090</td>\n      <td>-0.019942</td>\n      <td>0.008418</td>\n      <td>-0.016962</td>\n      <td>-0.019256</td>\n      <td>0.001766</td>\n      <td>-0.036619</td>\n      <td>...</td>\n      <td>-0.037096</td>\n      <td>-0.014572</td>\n      <td>0.009846</td>\n      <td>-0.013954</td>\n      <td>-0.030448</td>\n      <td>-0.021287</td>\n      <td>-0.037096</td>\n      <td>-0.014572</td>\n      <td>0.008772</td>\n      <td>-0.019103</td>\n    </tr>\n  </tbody>\n</table>\n<p>204 rows × 37 columns</p>\n</div>"
     },
     "execution_count": 231,
     "metadata": {},
     "output_type": "execute_result"
    }
   ],
   "source": [
    "df_ls = ls_excess_from_top_bottom_named(\n",
    "    df,\n",
    "    date_col=\"YearMonth\",\n",
    "    ret_col=\"ret_adj\",\n",
    "    rf_col=\"RF\",\n",
    "    weight_col=\"me_lag\",\n",
    ")\n",
    "df_ls"
   ],
   "metadata": {
    "collapsed": false,
    "ExecuteTime": {
     "end_time": "2025-10-27T16:37:21.385537900Z",
     "start_time": "2025-10-27T16:37:11.508178700Z"
    }
   }
  },
  {
   "cell_type": "code",
   "execution_count": 233,
   "outputs": [
    {
     "data": {
      "text/plain": "    YearMonth  industry_car_1_decile_ls_ew  industry_car_1_decile_ls_vw  \\\n0     2007-01                     0.007277                     0.004943   \n1     2007-02                     0.004171                    -0.004006   \n2     2007-03                     0.033134                    -0.014144   \n3     2007-04                     0.027454                     0.023282   \n4     2007-05                     0.005101                    -0.013952   \n..        ...                          ...                          ...   \n199   2023-08                     0.028310                     0.000713   \n200   2023-09                     0.020949                     0.006397   \n201   2023-10                    -0.011122                    -0.023761   \n202   2023-11                    -0.104784                    -0.036467   \n203   2023-12                    -0.018082                     0.004644   \n\n     industry_car_1_quintile_ls_ew  industry_car_1_quintile_ls_vw  \\\n0                         0.001989                       0.003948   \n1                        -0.002864                      -0.004930   \n2                         0.004864                      -0.022428   \n3                         0.021274                       0.018881   \n4                         0.016103                      -0.005041   \n..                             ...                            ...   \n199                       0.008130                       0.045222   \n200                      -0.015742                       0.032288   \n201                      -0.018125                      -0.048684   \n202                      -0.032976                       0.010616   \n203                      -0.038090                      -0.019942   \n\n     car_1_binary_ls_ew  car_1_binary_ls_vw  industry_car_5_decile_ls_ew  \\\n0              0.002154            0.017156                     0.007702   \n1             -0.014613            0.002539                     0.003416   \n2             -0.008588           -0.005240                     0.032126   \n3             -0.010676            0.004426                     0.029642   \n4              0.014628           -0.002065                     0.021386   \n..                  ...                 ...                          ...   \n199           -0.015994           -0.006345                    -0.012137   \n200           -0.022612           -0.030304                     0.021729   \n201            0.000309            0.013658                    -0.011122   \n202            0.024487            0.042752                    -0.104784   \n203            0.008418           -0.016962                    -0.019256   \n\n     industry_car_5_decile_ls_vw  industry_car_5_quintile_ls_ew  ...  \\\n0                       0.004118                       0.001989  ...   \n1                       0.001363                      -0.002864  ...   \n2                      -0.014725                       0.006799  ...   \n3                       0.029143                       0.018580  ...   \n4                       0.001226                       0.004835  ...   \n..                           ...                            ...  ...   \n199                    -0.028126                       0.006276  ...   \n200                     0.004958                      -0.008409  ...   \n201                    -0.023761                       0.006140  ...   \n202                    -0.036467                      -0.027332  ...   \n203                     0.001766                      -0.036619  ...   \n\n     industry_severity_decile_ls_vw  industry_severity_quintile_ls_ew  \\\n0                         -0.003835                          0.001138   \n1                         -0.012058                         -0.004829   \n2                         -0.018607                          0.016364   \n3                          0.009323                         -0.006397   \n4                         -0.018273                         -0.011880   \n..                              ...                               ...   \n199                       -0.033790                          0.022846   \n200                       -0.004162                         -0.007669   \n201                       -0.000113                          0.038828   \n202                        0.019215                         -0.023930   \n203                       -0.021287                         -0.037096   \n\n     industry_severity_quintile_ls_vw  severity_binary_ls_ew  \\\n0                           -0.001183               0.022697   \n1                           -0.006912              -0.001348   \n2                           -0.017561              -0.017539   \n3                            0.003227              -0.012847   \n4                           -0.019277              -0.002662   \n..                                ...                    ...   \n199                          0.061192              -0.013676   \n200                          0.056403              -0.022611   \n201                         -0.046660               0.005460   \n202                          0.003578               0.033881   \n203                         -0.014572               0.008772   \n\n     severity_binary_ls_vw  MKT_RF     SMB     HML      RF     MOM  \n0                 0.024004 -0.0196  0.0123 -0.0008  0.0038 -0.0129  \n1                -0.007103  0.0071  0.0009 -0.0088  0.0043  0.0258  \n2                -0.010587  0.0349 -0.0221 -0.0144  0.0044 -0.0016  \n3                 0.000329  0.0323  0.0016 -0.0059  0.0041 -0.0033  \n4                -0.011352 -0.0196  0.0073 -0.0105  0.0040  0.0052  \n..                     ...     ...     ...     ...     ...     ...  \n199              -0.008275 -0.0523 -0.0251  0.0149  0.0043  0.0033  \n200              -0.034537 -0.0315 -0.0386  0.0020  0.0047  0.0167  \n201               0.017831  0.0888 -0.0010  0.0167  0.0044  0.0256  \n202               0.046087  0.0485  0.0630  0.0489  0.0043 -0.0553  \n203              -0.019103  0.0073 -0.0507 -0.0238  0.0047  0.0542  \n\n[204 rows x 42 columns]",
      "text/html": "<div>\n<style scoped>\n    .dataframe tbody tr th:only-of-type {\n        vertical-align: middle;\n    }\n\n    .dataframe tbody tr th {\n        vertical-align: top;\n    }\n\n    .dataframe thead th {\n        text-align: right;\n    }\n</style>\n<table border=\"1\" class=\"dataframe\">\n  <thead>\n    <tr style=\"text-align: right;\">\n      <th></th>\n      <th>YearMonth</th>\n      <th>industry_car_1_decile_ls_ew</th>\n      <th>industry_car_1_decile_ls_vw</th>\n      <th>industry_car_1_quintile_ls_ew</th>\n      <th>industry_car_1_quintile_ls_vw</th>\n      <th>car_1_binary_ls_ew</th>\n      <th>car_1_binary_ls_vw</th>\n      <th>industry_car_5_decile_ls_ew</th>\n      <th>industry_car_5_decile_ls_vw</th>\n      <th>industry_car_5_quintile_ls_ew</th>\n      <th>...</th>\n      <th>industry_severity_decile_ls_vw</th>\n      <th>industry_severity_quintile_ls_ew</th>\n      <th>industry_severity_quintile_ls_vw</th>\n      <th>severity_binary_ls_ew</th>\n      <th>severity_binary_ls_vw</th>\n      <th>MKT_RF</th>\n      <th>SMB</th>\n      <th>HML</th>\n      <th>RF</th>\n      <th>MOM</th>\n    </tr>\n  </thead>\n  <tbody>\n    <tr>\n      <th>0</th>\n      <td>2007-01</td>\n      <td>0.007277</td>\n      <td>0.004943</td>\n      <td>0.001989</td>\n      <td>0.003948</td>\n      <td>0.002154</td>\n      <td>0.017156</td>\n      <td>0.007702</td>\n      <td>0.004118</td>\n      <td>0.001989</td>\n      <td>...</td>\n      <td>-0.003835</td>\n      <td>0.001138</td>\n      <td>-0.001183</td>\n      <td>0.022697</td>\n      <td>0.024004</td>\n      <td>-0.0196</td>\n      <td>0.0123</td>\n      <td>-0.0008</td>\n      <td>0.0038</td>\n      <td>-0.0129</td>\n    </tr>\n    <tr>\n      <th>1</th>\n      <td>2007-02</td>\n      <td>0.004171</td>\n      <td>-0.004006</td>\n      <td>-0.002864</td>\n      <td>-0.004930</td>\n      <td>-0.014613</td>\n      <td>0.002539</td>\n      <td>0.003416</td>\n      <td>0.001363</td>\n      <td>-0.002864</td>\n      <td>...</td>\n      <td>-0.012058</td>\n      <td>-0.004829</td>\n      <td>-0.006912</td>\n      <td>-0.001348</td>\n      <td>-0.007103</td>\n      <td>0.0071</td>\n      <td>0.0009</td>\n      <td>-0.0088</td>\n      <td>0.0043</td>\n      <td>0.0258</td>\n    </tr>\n    <tr>\n      <th>2</th>\n      <td>2007-03</td>\n      <td>0.033134</td>\n      <td>-0.014144</td>\n      <td>0.004864</td>\n      <td>-0.022428</td>\n      <td>-0.008588</td>\n      <td>-0.005240</td>\n      <td>0.032126</td>\n      <td>-0.014725</td>\n      <td>0.006799</td>\n      <td>...</td>\n      <td>-0.018607</td>\n      <td>0.016364</td>\n      <td>-0.017561</td>\n      <td>-0.017539</td>\n      <td>-0.010587</td>\n      <td>0.0349</td>\n      <td>-0.0221</td>\n      <td>-0.0144</td>\n      <td>0.0044</td>\n      <td>-0.0016</td>\n    </tr>\n    <tr>\n      <th>3</th>\n      <td>2007-04</td>\n      <td>0.027454</td>\n      <td>0.023282</td>\n      <td>0.021274</td>\n      <td>0.018881</td>\n      <td>-0.010676</td>\n      <td>0.004426</td>\n      <td>0.029642</td>\n      <td>0.029143</td>\n      <td>0.018580</td>\n      <td>...</td>\n      <td>0.009323</td>\n      <td>-0.006397</td>\n      <td>0.003227</td>\n      <td>-0.012847</td>\n      <td>0.000329</td>\n      <td>0.0323</td>\n      <td>0.0016</td>\n      <td>-0.0059</td>\n      <td>0.0041</td>\n      <td>-0.0033</td>\n    </tr>\n    <tr>\n      <th>4</th>\n      <td>2007-05</td>\n      <td>0.005101</td>\n      <td>-0.013952</td>\n      <td>0.016103</td>\n      <td>-0.005041</td>\n      <td>0.014628</td>\n      <td>-0.002065</td>\n      <td>0.021386</td>\n      <td>0.001226</td>\n      <td>0.004835</td>\n      <td>...</td>\n      <td>-0.018273</td>\n      <td>-0.011880</td>\n      <td>-0.019277</td>\n      <td>-0.002662</td>\n      <td>-0.011352</td>\n      <td>-0.0196</td>\n      <td>0.0073</td>\n      <td>-0.0105</td>\n      <td>0.0040</td>\n      <td>0.0052</td>\n    </tr>\n    <tr>\n      <th>...</th>\n      <td>...</td>\n      <td>...</td>\n      <td>...</td>\n      <td>...</td>\n      <td>...</td>\n      <td>...</td>\n      <td>...</td>\n      <td>...</td>\n      <td>...</td>\n      <td>...</td>\n      <td>...</td>\n      <td>...</td>\n      <td>...</td>\n      <td>...</td>\n      <td>...</td>\n      <td>...</td>\n      <td>...</td>\n      <td>...</td>\n      <td>...</td>\n      <td>...</td>\n      <td>...</td>\n    </tr>\n    <tr>\n      <th>199</th>\n      <td>2023-08</td>\n      <td>0.028310</td>\n      <td>0.000713</td>\n      <td>0.008130</td>\n      <td>0.045222</td>\n      <td>-0.015994</td>\n      <td>-0.006345</td>\n      <td>-0.012137</td>\n      <td>-0.028126</td>\n      <td>0.006276</td>\n      <td>...</td>\n      <td>-0.033790</td>\n      <td>0.022846</td>\n      <td>0.061192</td>\n      <td>-0.013676</td>\n      <td>-0.008275</td>\n      <td>-0.0523</td>\n      <td>-0.0251</td>\n      <td>0.0149</td>\n      <td>0.0043</td>\n      <td>0.0033</td>\n    </tr>\n    <tr>\n      <th>200</th>\n      <td>2023-09</td>\n      <td>0.020949</td>\n      <td>0.006397</td>\n      <td>-0.015742</td>\n      <td>0.032288</td>\n      <td>-0.022612</td>\n      <td>-0.030304</td>\n      <td>0.021729</td>\n      <td>0.004958</td>\n      <td>-0.008409</td>\n      <td>...</td>\n      <td>-0.004162</td>\n      <td>-0.007669</td>\n      <td>0.056403</td>\n      <td>-0.022611</td>\n      <td>-0.034537</td>\n      <td>-0.0315</td>\n      <td>-0.0386</td>\n      <td>0.0020</td>\n      <td>0.0047</td>\n      <td>0.0167</td>\n    </tr>\n    <tr>\n      <th>201</th>\n      <td>2023-10</td>\n      <td>-0.011122</td>\n      <td>-0.023761</td>\n      <td>-0.018125</td>\n      <td>-0.048684</td>\n      <td>0.000309</td>\n      <td>0.013658</td>\n      <td>-0.011122</td>\n      <td>-0.023761</td>\n      <td>0.006140</td>\n      <td>...</td>\n      <td>-0.000113</td>\n      <td>0.038828</td>\n      <td>-0.046660</td>\n      <td>0.005460</td>\n      <td>0.017831</td>\n      <td>0.0888</td>\n      <td>-0.0010</td>\n      <td>0.0167</td>\n      <td>0.0044</td>\n      <td>0.0256</td>\n    </tr>\n    <tr>\n      <th>202</th>\n      <td>2023-11</td>\n      <td>-0.104784</td>\n      <td>-0.036467</td>\n      <td>-0.032976</td>\n      <td>0.010616</td>\n      <td>0.024487</td>\n      <td>0.042752</td>\n      <td>-0.104784</td>\n      <td>-0.036467</td>\n      <td>-0.027332</td>\n      <td>...</td>\n      <td>0.019215</td>\n      <td>-0.023930</td>\n      <td>0.003578</td>\n      <td>0.033881</td>\n      <td>0.046087</td>\n      <td>0.0485</td>\n      <td>0.0630</td>\n      <td>0.0489</td>\n      <td>0.0043</td>\n      <td>-0.0553</td>\n    </tr>\n    <tr>\n      <th>203</th>\n      <td>2023-12</td>\n      <td>-0.018082</td>\n      <td>0.004644</td>\n      <td>-0.038090</td>\n      <td>-0.019942</td>\n      <td>0.008418</td>\n      <td>-0.016962</td>\n      <td>-0.019256</td>\n      <td>0.001766</td>\n      <td>-0.036619</td>\n      <td>...</td>\n      <td>-0.021287</td>\n      <td>-0.037096</td>\n      <td>-0.014572</td>\n      <td>0.008772</td>\n      <td>-0.019103</td>\n      <td>0.0073</td>\n      <td>-0.0507</td>\n      <td>-0.0238</td>\n      <td>0.0047</td>\n      <td>0.0542</td>\n    </tr>\n  </tbody>\n</table>\n<p>204 rows × 42 columns</p>\n</div>"
     },
     "execution_count": 233,
     "metadata": {},
     "output_type": "execute_result"
    }
   ],
   "source": [
    "# Merge back FF4\n",
    "df['YearMonth'] = pd.to_datetime(df['YearMonth']).dt.to_period('M')\n",
    "df_ls = df_ls.merge(df[['YearMonth', 'MKT_RF', 'SMB', 'HML', 'RF', 'MOM']].drop_duplicates(['YearMonth']), on='YearMonth', how='left')\n",
    "df_ls"
   ],
   "metadata": {
    "collapsed": false,
    "ExecuteTime": {
     "end_time": "2025-10-27T16:39:45.480622900Z",
     "start_time": "2025-10-27T16:39:45.350598200Z"
    }
   }
  },
  {
   "cell_type": "code",
   "execution_count": 234,
   "outputs": [],
   "source": [
    "df_ls.to_csv('Output/portfolio_sum.csv', index=False)"
   ],
   "metadata": {
    "collapsed": false,
    "ExecuteTime": {
     "end_time": "2025-10-27T16:39:55.202489800Z",
     "start_time": "2025-10-27T16:39:55.162733500Z"
    }
   }
  },
  {
   "cell_type": "markdown",
   "source": [
    "# 6. Portfolios based on residuals"
   ],
   "metadata": {
    "collapsed": false
   }
  },
  {
   "cell_type": "code",
   "execution_count": 185,
   "outputs": [
    {
     "data": {
      "text/plain": "           gvkey YearMonth  n_material  n_nonmaterial  n_car_1_material  \\\n0         1004.0   2007-01           0              0                 0   \n1         1004.0   2007-02           0              0                 0   \n2         1004.0   2007-03           0              0                 0   \n3         1004.0   2007-04           0              0                 0   \n4         1004.0   2007-05           0              0                 0   \n...          ...       ...         ...            ...               ...   \n684173  349530.0   2023-08           0              0                 0   \n684174  349530.0   2023-09           0              0                 0   \n684175  349530.0   2023-10           0              0                 0   \n684176  349530.0   2023-11           0              0                 0   \n684177  349530.0   2023-12           0              0                 0   \n\n        n_car_5_material  n_reach_material  n_severity_material  \\\n0                      0                 0                    0   \n1                      0                 0                    0   \n2                      0                 0                    0   \n3                      0                 0                    0   \n4                      0                 0                    0   \n...                  ...               ...                  ...   \n684173                 0                 0                    0   \n684174                 0                 0                    0   \n684175                 0                 0                    0   \n684176                 0                 0                    0   \n684177                 0                 0                    0   \n\n        n_material_24m  n_nonmaterial_24m  ...        me_lag    month  \\\n0                    0                  0  ...  1.101515e+09  2007-02   \n1                    0                  0  ...  1.075262e+09  2007-03   \n2                    0                  0  ...  1.026004e+09  2007-04   \n3                    0                  0  ...  1.138959e+09  2007-05   \n4                    0                  0  ...  1.212055e+09  2007-06   \n...                ...                ...  ...           ...      ...   \n684173               0                  0  ...  6.746100e+06  2023-09   \n684174               0                  0  ...  5.241660e+06  2023-10   \n684175               0                  0  ...  3.880500e+06  2023-11   \n684176               0                  0  ...  2.448297e+06  2023-12   \n684177               0                  0  ...  1.367130e+07  2024-01   \n\n        month_prior      dateff     date_ff  MKT_RF     SMB     HML      RF  \\\n0           2007-01  2007-02-28  2007-02-28 -0.0196  0.0123 -0.0008  0.0038   \n1           2007-02  2007-03-30  2007-03-31  0.0071  0.0009 -0.0088  0.0043   \n2           2007-03  2007-04-30  2007-04-30  0.0349 -0.0221 -0.0144  0.0044   \n3           2007-04  2007-05-31  2007-05-31  0.0323  0.0016 -0.0059  0.0041   \n4           2007-05  2007-06-29  2007-06-30 -0.0196  0.0073 -0.0105  0.0040   \n...             ...         ...         ...     ...     ...     ...     ...   \n684173      2023-08  2023-09-29  2023-09-30 -0.0523 -0.0251  0.0149  0.0043   \n684174      2023-09  2023-10-31  2023-10-31 -0.0315 -0.0386  0.0020  0.0047   \n684175      2023-10  2023-11-30  2023-11-30  0.0888 -0.0010  0.0167  0.0044   \n684176      2023-11  2023-12-29  2023-12-31  0.0485  0.0630  0.0489  0.0043   \n684177      2023-12  2024-01-31  2024-01-31  0.0073 -0.0507 -0.0238  0.0047   \n\n           MOM  \n0      -0.0129  \n1       0.0258  \n2      -0.0016  \n3      -0.0033  \n4       0.0052  \n...        ...  \n684173  0.0033  \n684174  0.0167  \n684175  0.0256  \n684176 -0.0553  \n684177  0.0542  \n\n[684178 rows x 44 columns]",
      "text/html": "<div>\n<style scoped>\n    .dataframe tbody tr th:only-of-type {\n        vertical-align: middle;\n    }\n\n    .dataframe tbody tr th {\n        vertical-align: top;\n    }\n\n    .dataframe thead th {\n        text-align: right;\n    }\n</style>\n<table border=\"1\" class=\"dataframe\">\n  <thead>\n    <tr style=\"text-align: right;\">\n      <th></th>\n      <th>gvkey</th>\n      <th>YearMonth</th>\n      <th>n_material</th>\n      <th>n_nonmaterial</th>\n      <th>n_car_1_material</th>\n      <th>n_car_5_material</th>\n      <th>n_reach_material</th>\n      <th>n_severity_material</th>\n      <th>n_material_24m</th>\n      <th>n_nonmaterial_24m</th>\n      <th>...</th>\n      <th>me_lag</th>\n      <th>month</th>\n      <th>month_prior</th>\n      <th>dateff</th>\n      <th>date_ff</th>\n      <th>MKT_RF</th>\n      <th>SMB</th>\n      <th>HML</th>\n      <th>RF</th>\n      <th>MOM</th>\n    </tr>\n  </thead>\n  <tbody>\n    <tr>\n      <th>0</th>\n      <td>1004.0</td>\n      <td>2007-01</td>\n      <td>0</td>\n      <td>0</td>\n      <td>0</td>\n      <td>0</td>\n      <td>0</td>\n      <td>0</td>\n      <td>0</td>\n      <td>0</td>\n      <td>...</td>\n      <td>1.101515e+09</td>\n      <td>2007-02</td>\n      <td>2007-01</td>\n      <td>2007-02-28</td>\n      <td>2007-02-28</td>\n      <td>-0.0196</td>\n      <td>0.0123</td>\n      <td>-0.0008</td>\n      <td>0.0038</td>\n      <td>-0.0129</td>\n    </tr>\n    <tr>\n      <th>1</th>\n      <td>1004.0</td>\n      <td>2007-02</td>\n      <td>0</td>\n      <td>0</td>\n      <td>0</td>\n      <td>0</td>\n      <td>0</td>\n      <td>0</td>\n      <td>0</td>\n      <td>0</td>\n      <td>...</td>\n      <td>1.075262e+09</td>\n      <td>2007-03</td>\n      <td>2007-02</td>\n      <td>2007-03-30</td>\n      <td>2007-03-31</td>\n      <td>0.0071</td>\n      <td>0.0009</td>\n      <td>-0.0088</td>\n      <td>0.0043</td>\n      <td>0.0258</td>\n    </tr>\n    <tr>\n      <th>2</th>\n      <td>1004.0</td>\n      <td>2007-03</td>\n      <td>0</td>\n      <td>0</td>\n      <td>0</td>\n      <td>0</td>\n      <td>0</td>\n      <td>0</td>\n      <td>0</td>\n      <td>0</td>\n      <td>...</td>\n      <td>1.026004e+09</td>\n      <td>2007-04</td>\n      <td>2007-03</td>\n      <td>2007-04-30</td>\n      <td>2007-04-30</td>\n      <td>0.0349</td>\n      <td>-0.0221</td>\n      <td>-0.0144</td>\n      <td>0.0044</td>\n      <td>-0.0016</td>\n    </tr>\n    <tr>\n      <th>3</th>\n      <td>1004.0</td>\n      <td>2007-04</td>\n      <td>0</td>\n      <td>0</td>\n      <td>0</td>\n      <td>0</td>\n      <td>0</td>\n      <td>0</td>\n      <td>0</td>\n      <td>0</td>\n      <td>...</td>\n      <td>1.138959e+09</td>\n      <td>2007-05</td>\n      <td>2007-04</td>\n      <td>2007-05-31</td>\n      <td>2007-05-31</td>\n      <td>0.0323</td>\n      <td>0.0016</td>\n      <td>-0.0059</td>\n      <td>0.0041</td>\n      <td>-0.0033</td>\n    </tr>\n    <tr>\n      <th>4</th>\n      <td>1004.0</td>\n      <td>2007-05</td>\n      <td>0</td>\n      <td>0</td>\n      <td>0</td>\n      <td>0</td>\n      <td>0</td>\n      <td>0</td>\n      <td>0</td>\n      <td>0</td>\n      <td>...</td>\n      <td>1.212055e+09</td>\n      <td>2007-06</td>\n      <td>2007-05</td>\n      <td>2007-06-29</td>\n      <td>2007-06-30</td>\n      <td>-0.0196</td>\n      <td>0.0073</td>\n      <td>-0.0105</td>\n      <td>0.0040</td>\n      <td>0.0052</td>\n    </tr>\n    <tr>\n      <th>...</th>\n      <td>...</td>\n      <td>...</td>\n      <td>...</td>\n      <td>...</td>\n      <td>...</td>\n      <td>...</td>\n      <td>...</td>\n      <td>...</td>\n      <td>...</td>\n      <td>...</td>\n      <td>...</td>\n      <td>...</td>\n      <td>...</td>\n      <td>...</td>\n      <td>...</td>\n      <td>...</td>\n      <td>...</td>\n      <td>...</td>\n      <td>...</td>\n      <td>...</td>\n      <td>...</td>\n    </tr>\n    <tr>\n      <th>684173</th>\n      <td>349530.0</td>\n      <td>2023-08</td>\n      <td>0</td>\n      <td>0</td>\n      <td>0</td>\n      <td>0</td>\n      <td>0</td>\n      <td>0</td>\n      <td>0</td>\n      <td>0</td>\n      <td>...</td>\n      <td>6.746100e+06</td>\n      <td>2023-09</td>\n      <td>2023-08</td>\n      <td>2023-09-29</td>\n      <td>2023-09-30</td>\n      <td>-0.0523</td>\n      <td>-0.0251</td>\n      <td>0.0149</td>\n      <td>0.0043</td>\n      <td>0.0033</td>\n    </tr>\n    <tr>\n      <th>684174</th>\n      <td>349530.0</td>\n      <td>2023-09</td>\n      <td>0</td>\n      <td>0</td>\n      <td>0</td>\n      <td>0</td>\n      <td>0</td>\n      <td>0</td>\n      <td>0</td>\n      <td>0</td>\n      <td>...</td>\n      <td>5.241660e+06</td>\n      <td>2023-10</td>\n      <td>2023-09</td>\n      <td>2023-10-31</td>\n      <td>2023-10-31</td>\n      <td>-0.0315</td>\n      <td>-0.0386</td>\n      <td>0.0020</td>\n      <td>0.0047</td>\n      <td>0.0167</td>\n    </tr>\n    <tr>\n      <th>684175</th>\n      <td>349530.0</td>\n      <td>2023-10</td>\n      <td>0</td>\n      <td>0</td>\n      <td>0</td>\n      <td>0</td>\n      <td>0</td>\n      <td>0</td>\n      <td>0</td>\n      <td>0</td>\n      <td>...</td>\n      <td>3.880500e+06</td>\n      <td>2023-11</td>\n      <td>2023-10</td>\n      <td>2023-11-30</td>\n      <td>2023-11-30</td>\n      <td>0.0888</td>\n      <td>-0.0010</td>\n      <td>0.0167</td>\n      <td>0.0044</td>\n      <td>0.0256</td>\n    </tr>\n    <tr>\n      <th>684176</th>\n      <td>349530.0</td>\n      <td>2023-11</td>\n      <td>0</td>\n      <td>0</td>\n      <td>0</td>\n      <td>0</td>\n      <td>0</td>\n      <td>0</td>\n      <td>0</td>\n      <td>0</td>\n      <td>...</td>\n      <td>2.448297e+06</td>\n      <td>2023-12</td>\n      <td>2023-11</td>\n      <td>2023-12-29</td>\n      <td>2023-12-31</td>\n      <td>0.0485</td>\n      <td>0.0630</td>\n      <td>0.0489</td>\n      <td>0.0043</td>\n      <td>-0.0553</td>\n    </tr>\n    <tr>\n      <th>684177</th>\n      <td>349530.0</td>\n      <td>2023-12</td>\n      <td>0</td>\n      <td>0</td>\n      <td>0</td>\n      <td>0</td>\n      <td>0</td>\n      <td>0</td>\n      <td>0</td>\n      <td>0</td>\n      <td>...</td>\n      <td>1.367130e+07</td>\n      <td>2024-01</td>\n      <td>2023-12</td>\n      <td>2024-01-31</td>\n      <td>2024-01-31</td>\n      <td>0.0073</td>\n      <td>-0.0507</td>\n      <td>-0.0238</td>\n      <td>0.0047</td>\n      <td>0.0542</td>\n    </tr>\n  </tbody>\n</table>\n<p>684178 rows × 44 columns</p>\n</div>"
     },
     "execution_count": 185,
     "metadata": {},
     "output_type": "execute_result"
    }
   ],
   "source": [
    "df = pd.read_csv('Output/panel_industries.csv')\n",
    "df = df[df['YearMonth'] > '2006-12']\n",
    "df"
   ],
   "metadata": {
    "collapsed": false,
    "ExecuteTime": {
     "end_time": "2025-10-27T11:30:57.707189600Z",
     "start_time": "2025-10-27T11:30:49.936359300Z"
    }
   }
  },
  {
   "cell_type": "code",
   "execution_count": 186,
   "outputs": [],
   "source": [
    "import statsmodels.api as sm\n",
    "\n",
    "def _to_month_period(s: pd.Series) -> pd.Series:\n",
    "    \"\"\"Coerce to monthly PeriodIndex safely.\"\"\"\n",
    "    if isinstance(s.dtype, pd.PeriodDtype):\n",
    "        try:\n",
    "            return s.dt.asfreq(\"M\")\n",
    "        except Exception:\n",
    "            return s.astype(\"period[M]\")\n",
    "    return pd.to_datetime(s, errors=\"coerce\").dt.to_period(\"M\")\n",
    "\n",
    "\n",
    "def crosssec_residuals_month(\n",
    "        df: pd.DataFrame,\n",
    "        dep_vars,\n",
    "        controls,\n",
    "        industry_col: str = \"SICS Codified Industry\",\n",
    "        month_col: str = \"YearMonth\",\n",
    "):\n",
    "    out = df.copy()\n",
    "\n",
    "    # --- keys & basic checks\n",
    "    if month_col not in out.columns:\n",
    "        raise KeyError(f\"{month_col} not found.\")\n",
    "    if industry_col not in out.columns:\n",
    "        raise KeyError(f\"Missing industry column: {industry_col}\")\n",
    "\n",
    "    out[\"_m_\"] = _to_month_period(out[month_col])\n",
    "\n",
    "    # coerce numerics for controls and y's\n",
    "    for c in controls:\n",
    "        if c not in out.columns:\n",
    "            raise KeyError(f\"Missing control: {c}\")\n",
    "        out[c] = pd.to_numeric(out[c], errors=\"coerce\")\n",
    "\n",
    "    for y in dep_vars:\n",
    "        if y not in out.columns:\n",
    "            raise KeyError(f\"Missing dependent var: {y}\")\n",
    "        out[y] = pd.to_numeric(out[y], errors=\"coerce\")\n",
    "        out[f\"resid_{y}\"] = np.nan  # across industries (per month)\n",
    "        out[f\"resid_{y}_industry\"] = np.nan  # within industry (per month×industry)\n",
    "\n",
    "    def _fit_resid(sub: pd.DataFrame, y: str):\n",
    "        \"\"\"Return residuals (Series) of y ~ controls on sub; None if underidentified.\"\"\"\n",
    "        # drop any NA rows in variables used\n",
    "        use_cols = [y] + controls\n",
    "        dat = sub[use_cols].replace([np.inf, -np.inf], np.nan).dropna(how=\"any\")\n",
    "        if dat.empty:\n",
    "            return None\n",
    "        X = sm.add_constant(dat[controls].astype(float), has_constant=\"add\")\n",
    "        yy = dat[y].astype(float)\n",
    "        # need more rows than parameters\n",
    "        if X.shape[0] <= X.shape[1]:\n",
    "            return None\n",
    "        try:\n",
    "            fit = sm.OLS(yy, X).fit()\n",
    "        except Exception:\n",
    "            return None\n",
    "        return (yy - fit.fittedvalues)\n",
    "\n",
    "    # --- loop by month (across industries)\n",
    "    for m, idx_m in out.groupby(\"_m_\").groups.items():\n",
    "        sub_m = out.loc[idx_m]\n",
    "\n",
    "        for y in dep_vars:\n",
    "            # across industries (no suffix)\n",
    "            r = _fit_resid(sub_m, y)\n",
    "            if r is not None:\n",
    "                out.loc[r.index, f\"resid_{y}\"] = r.values\n",
    "\n",
    "            # within industry (month × industry)\n",
    "            for ind, idx_mi in sub_m.groupby(industry_col, dropna=False).groups.items():\n",
    "                sub_mi = out.loc[idx_mi]\n",
    "                r_i = _fit_resid(sub_mi, y)\n",
    "                if r_i is not None:\n",
    "                    out.loc[r_i.index, f\"resid_{y}_industry\"] = r_i.values\n",
    "\n",
    "    return out.drop(columns=[\"_m_\"])"
   ],
   "metadata": {
    "collapsed": false,
    "ExecuteTime": {
     "end_time": "2025-10-27T11:32:39.377613200Z",
     "start_time": "2025-10-27T11:32:22.246704100Z"
    }
   }
  },
  {
   "cell_type": "code",
   "execution_count": 188,
   "outputs": [
    {
     "data": {
      "text/plain": "resid_n_car_1_material_24m       521699\nresid_n_car_5_material_24m       521699\nresid_n_reach_material_24m       521699\nresid_n_severity_material_24m    521699\nresid_n_material_24m             521699\ndtype: int64"
     },
     "execution_count": 188,
     "metadata": {},
     "output_type": "execute_result"
    }
   ],
   "source": [
    "#dep_vars = ['n_car_1_material', 'n_car_5_material', 'n_reach_material', 'n_severity_material', 'n_material']\n",
    "dep_vars = ['n_car_1_material_24m','n_car_5_material_24m','n_reach_material_24m','n_severity_material_24m','n_material_24m']\n",
    "controls = ['size', 'bm_q', 'lev_q', 'roa_q']\n",
    "\n",
    "res_df = crosssec_residuals_month(\n",
    "    res_df,\n",
    "    dep_vars=dep_vars,\n",
    "    controls=controls,\n",
    "    industry_col='SICS Codified Industry ',\n",
    "    month_col='YearMonth'  # monthly cross-section\n",
    ")\n",
    "\n",
    "# sanity check: how many non-missing residuals per dep var?\n",
    "res_df[[f\"resid_{y}\" for y in dep_vars]].notna().sum()"
   ],
   "metadata": {
    "collapsed": false,
    "ExecuteTime": {
     "end_time": "2025-10-27T11:50:29.346342500Z",
     "start_time": "2025-10-27T11:43:06.100579400Z"
    }
   }
  },
  {
   "cell_type": "code",
   "execution_count": 189,
   "outputs": [
    {
     "data": {
      "text/plain": "           gvkey YearMonth  n_material  n_nonmaterial  n_car_1_material  \\\n0         1004.0   2007-01           0              0                 0   \n1         1004.0   2007-02           0              0                 0   \n2         1004.0   2007-03           0              0                 0   \n3         1004.0   2007-04           0              0                 0   \n4         1004.0   2007-05           0              0                 0   \n...          ...       ...         ...            ...               ...   \n684164  349530.0   2022-11           0              0                 0   \n684165  349530.0   2022-12           0              0                 0   \n684166  349530.0   2023-01           0              0                 0   \n684167  349530.0   2023-02           0              0                 0   \n684168  349530.0   2023-03           0              0                 0   \n\n        n_car_5_material  n_reach_material  n_severity_material  \\\n0                      0                 0                    0   \n1                      0                 0                    0   \n2                      0                 0                    0   \n3                      0                 0                    0   \n4                      0                 0                    0   \n...                  ...               ...                  ...   \n684164                 0                 0                    0   \n684165                 0                 0                    0   \n684166                 0                 0                    0   \n684167                 0                 0                    0   \n684168                 0                 0                    0   \n\n        n_material_24m  n_nonmaterial_24m  ...  resid_n_car_1_material_24m  \\\n0                    0                  0  ...                   -0.006476   \n1                    0                  0  ...                   -0.015307   \n2                    0                  0  ...                   -0.024872   \n3                    0                  0  ...                   -0.031598   \n4                    0                  0  ...                   -0.039318   \n...                ...                ...  ...                         ...   \n684164               0                  0  ...                    1.462127   \n684165               0                  0  ...                    1.462090   \n684166               0                  0  ...                    1.685352   \n684167               0                  0  ...                    1.694900   \n684168               0                  0  ...                    1.719469   \n\n        resid_n_car_1_material_24m_industry  resid_n_car_5_material_24m  \\\n0                                  0.000000                   -0.008683   \n1                                  0.000000                   -0.017807   \n2                                 -0.013894                   -0.025775   \n3                                 -0.014231                   -0.035641   \n4                                 -0.014331                   -0.048655   \n...                                     ...                         ...   \n684164                             1.567953                    1.402292   \n684165                             1.590250                    1.402508   \n684166                             2.330553                    1.663749   \n684167                             2.322271                    1.663495   \n684168                             2.373363                    1.682125   \n\n        resid_n_car_5_material_24m_industry resid_n_reach_material_24m  \\\n0                                  0.000000                  -0.008174   \n1                                  0.000000                  -0.021362   \n2                                 -0.013894                  -0.039734   \n3                                 -0.014231                  -0.051720   \n4                                 -0.014331                  -0.066565   \n...                                     ...                        ...   \n684164                             2.142263                   2.368094   \n684165                             2.161199                   2.410598   \n684166                             3.164411                   2.628800   \n684167                             3.134583                   2.627651   \n684168                             3.144079                   2.652080   \n\n       resid_n_reach_material_24m_industry resid_n_severity_material_24m  \\\n0                                -0.021153                     -0.007689   \n1                                -0.033665                     -0.022219   \n2                                -0.061711                     -0.040592   \n3                                -0.081160                     -0.052690   \n4                                -0.081617                     -0.068500   \n...                                    ...                           ...   \n684164                            2.639472                      2.273180   \n684165                            2.657414                      2.315148   \n684166                            4.010102                      2.520299   \n684167                            3.986913                      2.531167   \n684168                            4.192139                      2.558001   \n\n        resid_n_severity_material_24m_industry  resid_n_material_24m  \\\n0                                    -0.021153             -0.007967   \n1                                    -0.033665             -0.020247   \n2                                    -0.061711             -0.036391   \n3                                    -0.081160             -0.050291   \n4                                    -0.081617             -0.068474   \n...                                        ...                   ...   \n684164                                2.639472              3.717023   \n684165                                2.657414              3.732831   \n684166                                4.010102              4.011676   \n684167                                3.986913              4.051488   \n684168                                4.192139              4.100497   \n\n        resid_n_material_24m_industry  \n0                            0.000000  \n1                            0.000000  \n2                            0.000000  \n3                            0.000000  \n4                            0.000000  \n...                               ...  \n684164                       3.487777  \n684165                       3.511751  \n684166                       5.128373  \n684167                       5.179705  \n684168                       5.384218  \n\n[521699 rows x 64 columns]",
      "text/html": "<div>\n<style scoped>\n    .dataframe tbody tr th:only-of-type {\n        vertical-align: middle;\n    }\n\n    .dataframe tbody tr th {\n        vertical-align: top;\n    }\n\n    .dataframe thead th {\n        text-align: right;\n    }\n</style>\n<table border=\"1\" class=\"dataframe\">\n  <thead>\n    <tr style=\"text-align: right;\">\n      <th></th>\n      <th>gvkey</th>\n      <th>YearMonth</th>\n      <th>n_material</th>\n      <th>n_nonmaterial</th>\n      <th>n_car_1_material</th>\n      <th>n_car_5_material</th>\n      <th>n_reach_material</th>\n      <th>n_severity_material</th>\n      <th>n_material_24m</th>\n      <th>n_nonmaterial_24m</th>\n      <th>...</th>\n      <th>resid_n_car_1_material_24m</th>\n      <th>resid_n_car_1_material_24m_industry</th>\n      <th>resid_n_car_5_material_24m</th>\n      <th>resid_n_car_5_material_24m_industry</th>\n      <th>resid_n_reach_material_24m</th>\n      <th>resid_n_reach_material_24m_industry</th>\n      <th>resid_n_severity_material_24m</th>\n      <th>resid_n_severity_material_24m_industry</th>\n      <th>resid_n_material_24m</th>\n      <th>resid_n_material_24m_industry</th>\n    </tr>\n  </thead>\n  <tbody>\n    <tr>\n      <th>0</th>\n      <td>1004.0</td>\n      <td>2007-01</td>\n      <td>0</td>\n      <td>0</td>\n      <td>0</td>\n      <td>0</td>\n      <td>0</td>\n      <td>0</td>\n      <td>0</td>\n      <td>0</td>\n      <td>...</td>\n      <td>-0.006476</td>\n      <td>0.000000</td>\n      <td>-0.008683</td>\n      <td>0.000000</td>\n      <td>-0.008174</td>\n      <td>-0.021153</td>\n      <td>-0.007689</td>\n      <td>-0.021153</td>\n      <td>-0.007967</td>\n      <td>0.000000</td>\n    </tr>\n    <tr>\n      <th>1</th>\n      <td>1004.0</td>\n      <td>2007-02</td>\n      <td>0</td>\n      <td>0</td>\n      <td>0</td>\n      <td>0</td>\n      <td>0</td>\n      <td>0</td>\n      <td>0</td>\n      <td>0</td>\n      <td>...</td>\n      <td>-0.015307</td>\n      <td>0.000000</td>\n      <td>-0.017807</td>\n      <td>0.000000</td>\n      <td>-0.021362</td>\n      <td>-0.033665</td>\n      <td>-0.022219</td>\n      <td>-0.033665</td>\n      <td>-0.020247</td>\n      <td>0.000000</td>\n    </tr>\n    <tr>\n      <th>2</th>\n      <td>1004.0</td>\n      <td>2007-03</td>\n      <td>0</td>\n      <td>0</td>\n      <td>0</td>\n      <td>0</td>\n      <td>0</td>\n      <td>0</td>\n      <td>0</td>\n      <td>0</td>\n      <td>...</td>\n      <td>-0.024872</td>\n      <td>-0.013894</td>\n      <td>-0.025775</td>\n      <td>-0.013894</td>\n      <td>-0.039734</td>\n      <td>-0.061711</td>\n      <td>-0.040592</td>\n      <td>-0.061711</td>\n      <td>-0.036391</td>\n      <td>0.000000</td>\n    </tr>\n    <tr>\n      <th>3</th>\n      <td>1004.0</td>\n      <td>2007-04</td>\n      <td>0</td>\n      <td>0</td>\n      <td>0</td>\n      <td>0</td>\n      <td>0</td>\n      <td>0</td>\n      <td>0</td>\n      <td>0</td>\n      <td>...</td>\n      <td>-0.031598</td>\n      <td>-0.014231</td>\n      <td>-0.035641</td>\n      <td>-0.014231</td>\n      <td>-0.051720</td>\n      <td>-0.081160</td>\n      <td>-0.052690</td>\n      <td>-0.081160</td>\n      <td>-0.050291</td>\n      <td>0.000000</td>\n    </tr>\n    <tr>\n      <th>4</th>\n      <td>1004.0</td>\n      <td>2007-05</td>\n      <td>0</td>\n      <td>0</td>\n      <td>0</td>\n      <td>0</td>\n      <td>0</td>\n      <td>0</td>\n      <td>0</td>\n      <td>0</td>\n      <td>...</td>\n      <td>-0.039318</td>\n      <td>-0.014331</td>\n      <td>-0.048655</td>\n      <td>-0.014331</td>\n      <td>-0.066565</td>\n      <td>-0.081617</td>\n      <td>-0.068500</td>\n      <td>-0.081617</td>\n      <td>-0.068474</td>\n      <td>0.000000</td>\n    </tr>\n    <tr>\n      <th>...</th>\n      <td>...</td>\n      <td>...</td>\n      <td>...</td>\n      <td>...</td>\n      <td>...</td>\n      <td>...</td>\n      <td>...</td>\n      <td>...</td>\n      <td>...</td>\n      <td>...</td>\n      <td>...</td>\n      <td>...</td>\n      <td>...</td>\n      <td>...</td>\n      <td>...</td>\n      <td>...</td>\n      <td>...</td>\n      <td>...</td>\n      <td>...</td>\n      <td>...</td>\n      <td>...</td>\n    </tr>\n    <tr>\n      <th>684164</th>\n      <td>349530.0</td>\n      <td>2022-11</td>\n      <td>0</td>\n      <td>0</td>\n      <td>0</td>\n      <td>0</td>\n      <td>0</td>\n      <td>0</td>\n      <td>0</td>\n      <td>0</td>\n      <td>...</td>\n      <td>1.462127</td>\n      <td>1.567953</td>\n      <td>1.402292</td>\n      <td>2.142263</td>\n      <td>2.368094</td>\n      <td>2.639472</td>\n      <td>2.273180</td>\n      <td>2.639472</td>\n      <td>3.717023</td>\n      <td>3.487777</td>\n    </tr>\n    <tr>\n      <th>684165</th>\n      <td>349530.0</td>\n      <td>2022-12</td>\n      <td>0</td>\n      <td>0</td>\n      <td>0</td>\n      <td>0</td>\n      <td>0</td>\n      <td>0</td>\n      <td>0</td>\n      <td>0</td>\n      <td>...</td>\n      <td>1.462090</td>\n      <td>1.590250</td>\n      <td>1.402508</td>\n      <td>2.161199</td>\n      <td>2.410598</td>\n      <td>2.657414</td>\n      <td>2.315148</td>\n      <td>2.657414</td>\n      <td>3.732831</td>\n      <td>3.511751</td>\n    </tr>\n    <tr>\n      <th>684166</th>\n      <td>349530.0</td>\n      <td>2023-01</td>\n      <td>0</td>\n      <td>0</td>\n      <td>0</td>\n      <td>0</td>\n      <td>0</td>\n      <td>0</td>\n      <td>0</td>\n      <td>0</td>\n      <td>...</td>\n      <td>1.685352</td>\n      <td>2.330553</td>\n      <td>1.663749</td>\n      <td>3.164411</td>\n      <td>2.628800</td>\n      <td>4.010102</td>\n      <td>2.520299</td>\n      <td>4.010102</td>\n      <td>4.011676</td>\n      <td>5.128373</td>\n    </tr>\n    <tr>\n      <th>684167</th>\n      <td>349530.0</td>\n      <td>2023-02</td>\n      <td>0</td>\n      <td>0</td>\n      <td>0</td>\n      <td>0</td>\n      <td>0</td>\n      <td>0</td>\n      <td>0</td>\n      <td>0</td>\n      <td>...</td>\n      <td>1.694900</td>\n      <td>2.322271</td>\n      <td>1.663495</td>\n      <td>3.134583</td>\n      <td>2.627651</td>\n      <td>3.986913</td>\n      <td>2.531167</td>\n      <td>3.986913</td>\n      <td>4.051488</td>\n      <td>5.179705</td>\n    </tr>\n    <tr>\n      <th>684168</th>\n      <td>349530.0</td>\n      <td>2023-03</td>\n      <td>0</td>\n      <td>0</td>\n      <td>0</td>\n      <td>0</td>\n      <td>0</td>\n      <td>0</td>\n      <td>0</td>\n      <td>0</td>\n      <td>...</td>\n      <td>1.719469</td>\n      <td>2.373363</td>\n      <td>1.682125</td>\n      <td>3.144079</td>\n      <td>2.652080</td>\n      <td>4.192139</td>\n      <td>2.558001</td>\n      <td>4.192139</td>\n      <td>4.100497</td>\n      <td>5.384218</td>\n    </tr>\n  </tbody>\n</table>\n<p>521699 rows × 64 columns</p>\n</div>"
     },
     "execution_count": 189,
     "metadata": {},
     "output_type": "execute_result"
    }
   ],
   "source": [
    "res_df.dropna(subset=['resid_n_car_1_material'], inplace=True)\n",
    "res_df"
   ],
   "metadata": {
    "collapsed": false,
    "ExecuteTime": {
     "end_time": "2025-10-27T11:50:39.736302700Z",
     "start_time": "2025-10-27T11:50:39.282940900Z"
    }
   }
  },
  {
   "cell_type": "code",
   "execution_count": 217,
   "outputs": [],
   "source": [
    "def select_residual_tails(\n",
    "    df: pd.DataFrame,\n",
    "    resid_cols=None,                       # if None: all columns starting with 'resid_'\n",
    "    date_col: str = \"YearMonth\",\n",
    "    industry_col: str = \"SICS Codified Industry\",\n",
    "    buckets=(\"decile\",\"quintile\",\"tertile\"),\n",
    ") -> pd.DataFrame:\n",
    "    \"\"\"\n",
    "    Build top/bottom flags from residuals.\n",
    "    - For residuals like 'resid_y' (across-industry): bucket within month.\n",
    "    - For residuals like 'resid_y_industry' (within-industry): bucket within month×industry.\n",
    "    IMPORTANT: 'top' = LOWEST residuals, 'bottom' = HIGHEST residuals (flipped).\n",
    "    Ties go to the BOTTOM portfolio only.\n",
    "    \"\"\"\n",
    "    out = df.copy()\n",
    "\n",
    "    # month key\n",
    "    if date_col not in out.columns:\n",
    "        raise KeyError(f\"{date_col} not found.\")\n",
    "    if isinstance(out[date_col].dtype, pd.PeriodDtype):\n",
    "        out[\"_m_\"] = out[date_col].dt.asfreq(\"M\")\n",
    "    else:\n",
    "        out[\"_m_\"] = pd.to_datetime(out[date_col], errors=\"coerce\").dt.to_period(\"M\")\n",
    "\n",
    "    # which residual columns?\n",
    "    if resid_cols is None:\n",
    "        resid_cols = [c for c in out.columns if c.startswith(\"resid_\")]\n",
    "    resid_cols = [c for c in resid_cols if c in out.columns]\n",
    "    if not resid_cols:\n",
    "        return out.drop(columns=[\"_m_\"])\n",
    "\n",
    "    # bucket shares\n",
    "    share = {\"decile\":0.10, \"quintile\":0.20, \"tertile\":1/3}\n",
    "    buckets = [b for b in buckets if b in share]\n",
    "    if not buckets:\n",
    "        return out.drop(columns=[\"_m_\"])\n",
    "\n",
    "    # helpers: ties -> bottom\n",
    "    def _top_flag_low(s: pd.Series, p: float) -> pd.Series:\n",
    "        x = pd.to_numeric(s, errors=\"coerce\")\n",
    "        L = x.quantile(p, interpolation=\"lower\")   # low cutoff\n",
    "        # STRICT: exclude ties from top\n",
    "        return x.lt(L) & x.notna()\n",
    "\n",
    "    def _bottom_flag_high(s: pd.Series, p: float) -> pd.Series:\n",
    "        x = pd.to_numeric(s, errors=\"coerce\")\n",
    "        H = x.quantile(1 - p, interpolation=\"higher\")  # high cutoff\n",
    "        # INCLUSIVE: include ties in bottom\n",
    "        return x.ge(H) & x.notna()\n",
    "\n",
    "    # groupers\n",
    "    g_month = out.groupby([\"_m_\"], observed=True, sort=False)\n",
    "    g_m_ind = (out.groupby([\"_m_\", industry_col], observed=True, sort=False)\n",
    "               if industry_col in out.columns else None)\n",
    "\n",
    "    for col in resid_cols:\n",
    "        out[col] = pd.to_numeric(out[col], errors=\"coerce\")\n",
    "        is_within_industry = col.endswith(\"_industry\")\n",
    "\n",
    "        if is_within_industry:\n",
    "            if g_m_ind is None:\n",
    "                raise KeyError(f\"Industry column '{industry_col}' missing for within-industry residuals.\")\n",
    "            grouper = g_m_ind\n",
    "            suf = \"_industry\"     # keep your existing naming convention\n",
    "        else:\n",
    "            grouper = g_month\n",
    "            suf = \"\"\n",
    "\n",
    "        for b in buckets:\n",
    "            p = share[b]\n",
    "            top = grouper[col].transform(lambda s, p=p: _top_flag_low(s, p)).astype(\"bool\")\n",
    "            bottom = grouper[col].transform(lambda s, p=p: _bottom_flag_high(s, p)).astype(\"bool\")\n",
    "\n",
    "            # ensure exclusivity: remove any overlap from bottom\n",
    "            bottom &= ~top\n",
    "\n",
    "            out[f\"{col}_top_{b}{suf}\"]    = top.astype(\"Int8\")\n",
    "            out[f\"{col}_bottom_{b}{suf}\"] = bottom.astype(\"Int8\")\n",
    "\n",
    "    return out.drop(columns=[\"_m_\"])\n"
   ],
   "metadata": {
    "collapsed": false,
    "ExecuteTime": {
     "end_time": "2025-10-27T14:45:07.735179Z",
     "start_time": "2025-10-27T14:45:07.719523400Z"
    }
   }
  },
  {
   "cell_type": "code",
   "execution_count": 218,
   "outputs": [
    {
     "data": {
      "text/plain": "           gvkey YearMonth  n_material  n_nonmaterial  n_car_1_material  \\\n0         1004.0   2007-01           0              0                 0   \n1         1004.0   2007-02           0              0                 0   \n2         1004.0   2007-03           0              0                 0   \n3         1004.0   2007-04           0              0                 0   \n4         1004.0   2007-05           0              0                 0   \n...          ...       ...         ...            ...               ...   \n684164  349530.0   2022-11           0              0                 0   \n684165  349530.0   2022-12           0              0                 0   \n684166  349530.0   2023-01           0              0                 0   \n684167  349530.0   2023-02           0              0                 0   \n684168  349530.0   2023-03           0              0                 0   \n\n        n_car_5_material  n_reach_material  n_severity_material  \\\n0                      0                 0                    0   \n1                      0                 0                    0   \n2                      0                 0                    0   \n3                      0                 0                    0   \n4                      0                 0                    0   \n...                  ...               ...                  ...   \n684164                 0                 0                    0   \n684165                 0                 0                    0   \n684166                 0                 0                    0   \n684167                 0                 0                    0   \n684168                 0                 0                    0   \n\n        n_material_24m  n_nonmaterial_24m  ...  \\\n0                    0                  0  ...   \n1                    0                  0  ...   \n2                    0                  0  ...   \n3                    0                  0  ...   \n4                    0                  0  ...   \n...                ...                ...  ...   \n684164               0                  0  ...   \n684165               0                  0  ...   \n684166               0                  0  ...   \n684167               0                  0  ...   \n684168               0                  0  ...   \n\n        resid_n_material_24m_top_quintile  \\\n0                                       0   \n1                                       0   \n2                                       0   \n3                                       0   \n4                                       0   \n...                                   ...   \n684164                                  0   \n684165                                  0   \n684166                                  0   \n684167                                  0   \n684168                                  0   \n\n        resid_n_material_24m_bottom_quintile  \\\n0                                          0   \n1                                          0   \n2                                          0   \n3                                          0   \n4                                          0   \n...                                      ...   \n684164                                     1   \n684165                                     1   \n684166                                     1   \n684167                                     1   \n684168                                     1   \n\n        resid_n_material_24m_top_tertile  resid_n_material_24m_bottom_tertile  \\\n0                                      0                                    0   \n1                                      0                                    0   \n2                                      1                                    0   \n3                                      1                                    0   \n4                                      1                                    0   \n...                                  ...                                  ...   \n684164                                 0                                    1   \n684165                                 0                                    1   \n684166                                 0                                    1   \n684167                                 0                                    1   \n684168                                 0                                    1   \n\n       resid_n_material_24m_industry_top_decile_industry  \\\n0                                                      0   \n1                                                      0   \n2                                                      0   \n3                                                      0   \n4                                                      0   \n...                                                  ...   \n684164                                                 0   \n684165                                                 0   \n684166                                                 0   \n684167                                                 0   \n684168                                                 0   \n\n       resid_n_material_24m_industry_bottom_decile_industry  \\\n0                                                       1     \n1                                                       1     \n2                                                       1     \n3                                                       1     \n4                                                       1     \n...                                                   ...     \n684164                                                  1     \n684165                                                  1     \n684166                                                  1     \n684167                                                  1     \n684168                                                  1     \n\n       resid_n_material_24m_industry_top_quintile_industry  \\\n0                                                       0    \n1                                                       0    \n2                                                       0    \n3                                                       0    \n4                                                       0    \n...                                                   ...    \n684164                                                  0    \n684165                                                  0    \n684166                                                  0    \n684167                                                  0    \n684168                                                  0    \n\n        resid_n_material_24m_industry_bottom_quintile_industry  \\\n0                                                       1        \n1                                                       1        \n2                                                       1        \n3                                                       1        \n4                                                       1        \n...                                                   ...        \n684164                                                  1        \n684165                                                  1        \n684166                                                  1        \n684167                                                  1        \n684168                                                  1        \n\n        resid_n_material_24m_industry_top_tertile_industry  \\\n0                                                       0    \n1                                                       0    \n2                                                       0    \n3                                                       0    \n4                                                       0    \n...                                                   ...    \n684164                                                  0    \n684165                                                  0    \n684166                                                  0    \n684167                                                  0    \n684168                                                  0    \n\n        resid_n_material_24m_industry_bottom_tertile_industry  \n0                                                       1      \n1                                                       1      \n2                                                       1      \n3                                                       1      \n4                                                       1      \n...                                                   ...      \n684164                                                  1      \n684165                                                  1      \n684166                                                  1      \n684167                                                  1      \n684168                                                  1      \n\n[521699 rows x 184 columns]",
      "text/html": "<div>\n<style scoped>\n    .dataframe tbody tr th:only-of-type {\n        vertical-align: middle;\n    }\n\n    .dataframe tbody tr th {\n        vertical-align: top;\n    }\n\n    .dataframe thead th {\n        text-align: right;\n    }\n</style>\n<table border=\"1\" class=\"dataframe\">\n  <thead>\n    <tr style=\"text-align: right;\">\n      <th></th>\n      <th>gvkey</th>\n      <th>YearMonth</th>\n      <th>n_material</th>\n      <th>n_nonmaterial</th>\n      <th>n_car_1_material</th>\n      <th>n_car_5_material</th>\n      <th>n_reach_material</th>\n      <th>n_severity_material</th>\n      <th>n_material_24m</th>\n      <th>n_nonmaterial_24m</th>\n      <th>...</th>\n      <th>resid_n_material_24m_top_quintile</th>\n      <th>resid_n_material_24m_bottom_quintile</th>\n      <th>resid_n_material_24m_top_tertile</th>\n      <th>resid_n_material_24m_bottom_tertile</th>\n      <th>resid_n_material_24m_industry_top_decile_industry</th>\n      <th>resid_n_material_24m_industry_bottom_decile_industry</th>\n      <th>resid_n_material_24m_industry_top_quintile_industry</th>\n      <th>resid_n_material_24m_industry_bottom_quintile_industry</th>\n      <th>resid_n_material_24m_industry_top_tertile_industry</th>\n      <th>resid_n_material_24m_industry_bottom_tertile_industry</th>\n    </tr>\n  </thead>\n  <tbody>\n    <tr>\n      <th>0</th>\n      <td>1004.0</td>\n      <td>2007-01</td>\n      <td>0</td>\n      <td>0</td>\n      <td>0</td>\n      <td>0</td>\n      <td>0</td>\n      <td>0</td>\n      <td>0</td>\n      <td>0</td>\n      <td>...</td>\n      <td>0</td>\n      <td>0</td>\n      <td>0</td>\n      <td>0</td>\n      <td>0</td>\n      <td>1</td>\n      <td>0</td>\n      <td>1</td>\n      <td>0</td>\n      <td>1</td>\n    </tr>\n    <tr>\n      <th>1</th>\n      <td>1004.0</td>\n      <td>2007-02</td>\n      <td>0</td>\n      <td>0</td>\n      <td>0</td>\n      <td>0</td>\n      <td>0</td>\n      <td>0</td>\n      <td>0</td>\n      <td>0</td>\n      <td>...</td>\n      <td>0</td>\n      <td>0</td>\n      <td>0</td>\n      <td>0</td>\n      <td>0</td>\n      <td>1</td>\n      <td>0</td>\n      <td>1</td>\n      <td>0</td>\n      <td>1</td>\n    </tr>\n    <tr>\n      <th>2</th>\n      <td>1004.0</td>\n      <td>2007-03</td>\n      <td>0</td>\n      <td>0</td>\n      <td>0</td>\n      <td>0</td>\n      <td>0</td>\n      <td>0</td>\n      <td>0</td>\n      <td>0</td>\n      <td>...</td>\n      <td>0</td>\n      <td>0</td>\n      <td>1</td>\n      <td>0</td>\n      <td>0</td>\n      <td>1</td>\n      <td>0</td>\n      <td>1</td>\n      <td>0</td>\n      <td>1</td>\n    </tr>\n    <tr>\n      <th>3</th>\n      <td>1004.0</td>\n      <td>2007-04</td>\n      <td>0</td>\n      <td>0</td>\n      <td>0</td>\n      <td>0</td>\n      <td>0</td>\n      <td>0</td>\n      <td>0</td>\n      <td>0</td>\n      <td>...</td>\n      <td>0</td>\n      <td>0</td>\n      <td>1</td>\n      <td>0</td>\n      <td>0</td>\n      <td>1</td>\n      <td>0</td>\n      <td>1</td>\n      <td>0</td>\n      <td>1</td>\n    </tr>\n    <tr>\n      <th>4</th>\n      <td>1004.0</td>\n      <td>2007-05</td>\n      <td>0</td>\n      <td>0</td>\n      <td>0</td>\n      <td>0</td>\n      <td>0</td>\n      <td>0</td>\n      <td>0</td>\n      <td>0</td>\n      <td>...</td>\n      <td>0</td>\n      <td>0</td>\n      <td>1</td>\n      <td>0</td>\n      <td>0</td>\n      <td>1</td>\n      <td>0</td>\n      <td>1</td>\n      <td>0</td>\n      <td>1</td>\n    </tr>\n    <tr>\n      <th>...</th>\n      <td>...</td>\n      <td>...</td>\n      <td>...</td>\n      <td>...</td>\n      <td>...</td>\n      <td>...</td>\n      <td>...</td>\n      <td>...</td>\n      <td>...</td>\n      <td>...</td>\n      <td>...</td>\n      <td>...</td>\n      <td>...</td>\n      <td>...</td>\n      <td>...</td>\n      <td>...</td>\n      <td>...</td>\n      <td>...</td>\n      <td>...</td>\n      <td>...</td>\n      <td>...</td>\n    </tr>\n    <tr>\n      <th>684164</th>\n      <td>349530.0</td>\n      <td>2022-11</td>\n      <td>0</td>\n      <td>0</td>\n      <td>0</td>\n      <td>0</td>\n      <td>0</td>\n      <td>0</td>\n      <td>0</td>\n      <td>0</td>\n      <td>...</td>\n      <td>0</td>\n      <td>1</td>\n      <td>0</td>\n      <td>1</td>\n      <td>0</td>\n      <td>1</td>\n      <td>0</td>\n      <td>1</td>\n      <td>0</td>\n      <td>1</td>\n    </tr>\n    <tr>\n      <th>684165</th>\n      <td>349530.0</td>\n      <td>2022-12</td>\n      <td>0</td>\n      <td>0</td>\n      <td>0</td>\n      <td>0</td>\n      <td>0</td>\n      <td>0</td>\n      <td>0</td>\n      <td>0</td>\n      <td>...</td>\n      <td>0</td>\n      <td>1</td>\n      <td>0</td>\n      <td>1</td>\n      <td>0</td>\n      <td>1</td>\n      <td>0</td>\n      <td>1</td>\n      <td>0</td>\n      <td>1</td>\n    </tr>\n    <tr>\n      <th>684166</th>\n      <td>349530.0</td>\n      <td>2023-01</td>\n      <td>0</td>\n      <td>0</td>\n      <td>0</td>\n      <td>0</td>\n      <td>0</td>\n      <td>0</td>\n      <td>0</td>\n      <td>0</td>\n      <td>...</td>\n      <td>0</td>\n      <td>1</td>\n      <td>0</td>\n      <td>1</td>\n      <td>0</td>\n      <td>1</td>\n      <td>0</td>\n      <td>1</td>\n      <td>0</td>\n      <td>1</td>\n    </tr>\n    <tr>\n      <th>684167</th>\n      <td>349530.0</td>\n      <td>2023-02</td>\n      <td>0</td>\n      <td>0</td>\n      <td>0</td>\n      <td>0</td>\n      <td>0</td>\n      <td>0</td>\n      <td>0</td>\n      <td>0</td>\n      <td>...</td>\n      <td>0</td>\n      <td>1</td>\n      <td>0</td>\n      <td>1</td>\n      <td>0</td>\n      <td>1</td>\n      <td>0</td>\n      <td>1</td>\n      <td>0</td>\n      <td>1</td>\n    </tr>\n    <tr>\n      <th>684168</th>\n      <td>349530.0</td>\n      <td>2023-03</td>\n      <td>0</td>\n      <td>0</td>\n      <td>0</td>\n      <td>0</td>\n      <td>0</td>\n      <td>0</td>\n      <td>0</td>\n      <td>0</td>\n      <td>...</td>\n      <td>0</td>\n      <td>1</td>\n      <td>0</td>\n      <td>1</td>\n      <td>0</td>\n      <td>1</td>\n      <td>0</td>\n      <td>1</td>\n      <td>0</td>\n      <td>1</td>\n    </tr>\n  </tbody>\n</table>\n<p>521699 rows × 184 columns</p>\n</div>"
     },
     "execution_count": 218,
     "metadata": {},
     "output_type": "execute_result"
    }
   ],
   "source": [
    "df_with_flags = select_residual_tails(\n",
    "    res_df,\n",
    "    resid_cols=None,\n",
    "    date_col=\"YearMonth\",\n",
    "    industry_col=\"SICS Codified Industry \",\n",
    "    buckets=(\"decile\", \"quintile\", \"tertile\")\n",
    ")\n",
    "\n",
    "df_with_flags"
   ],
   "metadata": {
    "collapsed": false,
    "ExecuteTime": {
     "end_time": "2025-10-27T15:05:59.981699Z",
     "start_time": "2025-10-27T14:45:07.735179Z"
    }
   }
  },
  {
   "cell_type": "code",
   "execution_count": 195,
   "outputs": [
    {
     "data": {
      "text/plain": "    YearMonth  resid_n_car_1_material__overall__decile__top  \\\n0     2007-01                                           295   \n1     2007-02                                           295   \n2     2007-03                                           294   \n3     2007-04                                           285   \n4     2007-05                                           283   \n..        ...                                           ...   \n199   2023-08                                           261   \n200   2023-09                                           259   \n201   2023-10                                           258   \n202   2023-11                                           256   \n203   2023-12                                           255   \n\n     resid_n_car_1_material__overall__decile__bottom  \\\n0                                                296   \n1                                                296   \n2                                                295   \n3                                                286   \n4                                                284   \n..                                               ...   \n199                                              262   \n200                                              260   \n201                                              259   \n202                                              257   \n203                                              256   \n\n     resid_n_car_1_material__overall__quintile__top  \\\n0                                               591   \n1                                               591   \n2                                               588   \n3                                               570   \n4                                               566   \n..                                              ...   \n199                                             522   \n200                                             518   \n201                                             516   \n202                                             512   \n203                                             510   \n\n     resid_n_car_1_material__overall__quintile__bottom  \\\n0                                                  592   \n1                                                  592   \n2                                                  589   \n3                                                  571   \n4                                                  567   \n..                                                 ...   \n199                                                523   \n200                                                519   \n201                                                517   \n202                                                513   \n203                                                511   \n\n     resid_n_car_1_material__overall__tertile__top  \\\n0                                              986   \n1                                              985   \n2                                              980   \n3                                              950   \n4                                              943   \n..                                             ...   \n199                                            870   \n200                                            863   \n201                                            860   \n202                                            853   \n203                                            850   \n\n     resid_n_car_1_material__overall__tertile__bottom  \\\n0                                                 987   \n1                                                 986   \n2                                                 981   \n3                                                 951   \n4                                                 944   \n..                                                ...   \n199                                               871   \n200                                               864   \n201                                               861   \n202                                               854   \n203                                               851   \n\n     resid_n_car_1_material_industry__industry__decile__top  \\\n0                                                   53        \n1                                                   76        \n2                                                   71        \n3                                                    5        \n4                                                   17        \n..                                                 ...        \n199                                                150        \n200                                                180        \n201                                                165        \n202                                                191        \n203                                                157        \n\n     resid_n_car_1_material_industry__industry__decile__bottom  \\\n0                                                 2410           \n1                                                 2191           \n2                                                 2237           \n3                                                 2761           \n4                                                 2616           \n..                                                 ...           \n199                                               1117           \n200                                                758           \n201                                                942           \n202                                                651           \n203                                                961           \n\n     resid_n_car_1_material_industry__industry__quintile__top  ...  \\\n0                                                  110         ...   \n1                                                  158         ...   \n2                                                  146         ...   \n3                                                   12         ...   \n4                                                   38         ...   \n..                                                 ...         ...   \n199                                                312         ...   \n200                                                382         ...   \n201                                                343         ...   \n202                                                402         ...   \n203                                                331         ...   \n\n     resid_n_material_24m__overall__quintile__top  \\\n0                                             591   \n1                                             591   \n2                                             588   \n3                                             570   \n4                                             566   \n..                                            ...   \n199                                           522   \n200                                           518   \n201                                           516   \n202                                           512   \n203                                           510   \n\n     resid_n_material_24m__overall__quintile__bottom  \\\n0                                                592   \n1                                                592   \n2                                                589   \n3                                                571   \n4                                                567   \n..                                               ...   \n199                                              523   \n200                                              519   \n201                                              517   \n202                                              513   \n203                                              511   \n\n     resid_n_material_24m__overall__tertile__top  \\\n0                                            986   \n1                                            985   \n2                                            980   \n3                                            950   \n4                                            943   \n..                                           ...   \n199                                          870   \n200                                          863   \n201                                          860   \n202                                          853   \n203                                          850   \n\n     resid_n_material_24m__overall__tertile__bottom  \\\n0                                               987   \n1                                               986   \n2                                               981   \n3                                               951   \n4                                               944   \n..                                              ...   \n199                                             871   \n200                                             864   \n201                                             861   \n202                                             854   \n203                                             851   \n\n     resid_n_material_24m_industry__industry__decile__top  \\\n0                                                   35      \n1                                                   89      \n2                                                  125      \n3                                                  115      \n4                                                  130      \n..                                                 ...      \n199                                                221      \n200                                                217      \n201                                                224      \n202                                                222      \n203                                                221      \n\n     resid_n_material_24m_industry__industry__decile__bottom  \\\n0                                                 2577         \n1                                                 2065         \n2                                                 1699         \n3                                                 1706         \n4                                                 1538         \n..                                                 ...         \n199                                                320         \n200                                                316         \n201                                                285         \n202                                                283         \n203                                                282         \n\n     resid_n_material_24m_industry__industry__quintile__top  \\\n0                                                   74        \n1                                                  185        \n2                                                  261        \n3                                                  242        \n4                                                  271        \n..                                                 ...        \n199                                                472        \n200                                                467        \n201                                                475        \n202                                                473        \n203                                                468        \n\n     resid_n_material_24m_industry__industry__quintile__bottom  \\\n0                                                 2616           \n1                                                 2161           \n2                                                 1835           \n3                                                 1833           \n4                                                 1679           \n..                                                 ...           \n199                                                571           \n200                                                566           \n201                                                536           \n202                                                534           \n203                                                529           \n\n     resid_n_material_24m_industry__industry__tertile__top  \\\n0                                                  124       \n1                                                  307       \n2                                                  433       \n3                                                  402       \n4                                                  453       \n..                                                 ...       \n199                                                788       \n200                                                782       \n201                                                793       \n202                                                785       \n203                                                780       \n\n     resid_n_material_24m_industry__industry__tertile__bottom  \n0                                                 2666         \n1                                                 2283         \n2                                                 2007         \n3                                                 1993         \n4                                                 1861         \n..                                                 ...         \n199                                                890         \n200                                                885         \n201                                                859         \n202                                                849         \n203                                                845         \n\n[204 rows x 121 columns]",
      "text/html": "<div>\n<style scoped>\n    .dataframe tbody tr th:only-of-type {\n        vertical-align: middle;\n    }\n\n    .dataframe tbody tr th {\n        vertical-align: top;\n    }\n\n    .dataframe thead th {\n        text-align: right;\n    }\n</style>\n<table border=\"1\" class=\"dataframe\">\n  <thead>\n    <tr style=\"text-align: right;\">\n      <th></th>\n      <th>YearMonth</th>\n      <th>resid_n_car_1_material__overall__decile__top</th>\n      <th>resid_n_car_1_material__overall__decile__bottom</th>\n      <th>resid_n_car_1_material__overall__quintile__top</th>\n      <th>resid_n_car_1_material__overall__quintile__bottom</th>\n      <th>resid_n_car_1_material__overall__tertile__top</th>\n      <th>resid_n_car_1_material__overall__tertile__bottom</th>\n      <th>resid_n_car_1_material_industry__industry__decile__top</th>\n      <th>resid_n_car_1_material_industry__industry__decile__bottom</th>\n      <th>resid_n_car_1_material_industry__industry__quintile__top</th>\n      <th>...</th>\n      <th>resid_n_material_24m__overall__quintile__top</th>\n      <th>resid_n_material_24m__overall__quintile__bottom</th>\n      <th>resid_n_material_24m__overall__tertile__top</th>\n      <th>resid_n_material_24m__overall__tertile__bottom</th>\n      <th>resid_n_material_24m_industry__industry__decile__top</th>\n      <th>resid_n_material_24m_industry__industry__decile__bottom</th>\n      <th>resid_n_material_24m_industry__industry__quintile__top</th>\n      <th>resid_n_material_24m_industry__industry__quintile__bottom</th>\n      <th>resid_n_material_24m_industry__industry__tertile__top</th>\n      <th>resid_n_material_24m_industry__industry__tertile__bottom</th>\n    </tr>\n  </thead>\n  <tbody>\n    <tr>\n      <th>0</th>\n      <td>2007-01</td>\n      <td>295</td>\n      <td>296</td>\n      <td>591</td>\n      <td>592</td>\n      <td>986</td>\n      <td>987</td>\n      <td>53</td>\n      <td>2410</td>\n      <td>110</td>\n      <td>...</td>\n      <td>591</td>\n      <td>592</td>\n      <td>986</td>\n      <td>987</td>\n      <td>35</td>\n      <td>2577</td>\n      <td>74</td>\n      <td>2616</td>\n      <td>124</td>\n      <td>2666</td>\n    </tr>\n    <tr>\n      <th>1</th>\n      <td>2007-02</td>\n      <td>295</td>\n      <td>296</td>\n      <td>591</td>\n      <td>592</td>\n      <td>985</td>\n      <td>986</td>\n      <td>76</td>\n      <td>2191</td>\n      <td>158</td>\n      <td>...</td>\n      <td>591</td>\n      <td>592</td>\n      <td>985</td>\n      <td>986</td>\n      <td>89</td>\n      <td>2065</td>\n      <td>185</td>\n      <td>2161</td>\n      <td>307</td>\n      <td>2283</td>\n    </tr>\n    <tr>\n      <th>2</th>\n      <td>2007-03</td>\n      <td>294</td>\n      <td>295</td>\n      <td>588</td>\n      <td>589</td>\n      <td>980</td>\n      <td>981</td>\n      <td>71</td>\n      <td>2237</td>\n      <td>146</td>\n      <td>...</td>\n      <td>588</td>\n      <td>589</td>\n      <td>980</td>\n      <td>981</td>\n      <td>125</td>\n      <td>1699</td>\n      <td>261</td>\n      <td>1835</td>\n      <td>433</td>\n      <td>2007</td>\n    </tr>\n    <tr>\n      <th>3</th>\n      <td>2007-04</td>\n      <td>285</td>\n      <td>286</td>\n      <td>570</td>\n      <td>571</td>\n      <td>950</td>\n      <td>951</td>\n      <td>5</td>\n      <td>2761</td>\n      <td>12</td>\n      <td>...</td>\n      <td>570</td>\n      <td>571</td>\n      <td>950</td>\n      <td>951</td>\n      <td>115</td>\n      <td>1706</td>\n      <td>242</td>\n      <td>1833</td>\n      <td>402</td>\n      <td>1993</td>\n    </tr>\n    <tr>\n      <th>4</th>\n      <td>2007-05</td>\n      <td>283</td>\n      <td>284</td>\n      <td>566</td>\n      <td>567</td>\n      <td>943</td>\n      <td>944</td>\n      <td>17</td>\n      <td>2616</td>\n      <td>38</td>\n      <td>...</td>\n      <td>566</td>\n      <td>567</td>\n      <td>943</td>\n      <td>944</td>\n      <td>130</td>\n      <td>1538</td>\n      <td>271</td>\n      <td>1679</td>\n      <td>453</td>\n      <td>1861</td>\n    </tr>\n    <tr>\n      <th>...</th>\n      <td>...</td>\n      <td>...</td>\n      <td>...</td>\n      <td>...</td>\n      <td>...</td>\n      <td>...</td>\n      <td>...</td>\n      <td>...</td>\n      <td>...</td>\n      <td>...</td>\n      <td>...</td>\n      <td>...</td>\n      <td>...</td>\n      <td>...</td>\n      <td>...</td>\n      <td>...</td>\n      <td>...</td>\n      <td>...</td>\n      <td>...</td>\n      <td>...</td>\n      <td>...</td>\n    </tr>\n    <tr>\n      <th>199</th>\n      <td>2023-08</td>\n      <td>261</td>\n      <td>262</td>\n      <td>522</td>\n      <td>523</td>\n      <td>870</td>\n      <td>871</td>\n      <td>150</td>\n      <td>1117</td>\n      <td>312</td>\n      <td>...</td>\n      <td>522</td>\n      <td>523</td>\n      <td>870</td>\n      <td>871</td>\n      <td>221</td>\n      <td>320</td>\n      <td>472</td>\n      <td>571</td>\n      <td>788</td>\n      <td>890</td>\n    </tr>\n    <tr>\n      <th>200</th>\n      <td>2023-09</td>\n      <td>259</td>\n      <td>260</td>\n      <td>518</td>\n      <td>519</td>\n      <td>863</td>\n      <td>864</td>\n      <td>180</td>\n      <td>758</td>\n      <td>382</td>\n      <td>...</td>\n      <td>518</td>\n      <td>519</td>\n      <td>863</td>\n      <td>864</td>\n      <td>217</td>\n      <td>316</td>\n      <td>467</td>\n      <td>566</td>\n      <td>782</td>\n      <td>885</td>\n    </tr>\n    <tr>\n      <th>201</th>\n      <td>2023-10</td>\n      <td>258</td>\n      <td>259</td>\n      <td>516</td>\n      <td>517</td>\n      <td>860</td>\n      <td>861</td>\n      <td>165</td>\n      <td>942</td>\n      <td>343</td>\n      <td>...</td>\n      <td>516</td>\n      <td>517</td>\n      <td>860</td>\n      <td>861</td>\n      <td>224</td>\n      <td>285</td>\n      <td>475</td>\n      <td>536</td>\n      <td>793</td>\n      <td>859</td>\n    </tr>\n    <tr>\n      <th>202</th>\n      <td>2023-11</td>\n      <td>256</td>\n      <td>257</td>\n      <td>512</td>\n      <td>513</td>\n      <td>853</td>\n      <td>854</td>\n      <td>191</td>\n      <td>651</td>\n      <td>402</td>\n      <td>...</td>\n      <td>512</td>\n      <td>513</td>\n      <td>853</td>\n      <td>854</td>\n      <td>222</td>\n      <td>283</td>\n      <td>473</td>\n      <td>534</td>\n      <td>785</td>\n      <td>849</td>\n    </tr>\n    <tr>\n      <th>203</th>\n      <td>2023-12</td>\n      <td>255</td>\n      <td>256</td>\n      <td>510</td>\n      <td>511</td>\n      <td>850</td>\n      <td>851</td>\n      <td>157</td>\n      <td>961</td>\n      <td>331</td>\n      <td>...</td>\n      <td>510</td>\n      <td>511</td>\n      <td>850</td>\n      <td>851</td>\n      <td>221</td>\n      <td>282</td>\n      <td>468</td>\n      <td>529</td>\n      <td>780</td>\n      <td>845</td>\n    </tr>\n  </tbody>\n</table>\n<p>204 rows × 121 columns</p>\n</div>"
     },
     "execution_count": 195,
     "metadata": {},
     "output_type": "execute_result"
    }
   ],
   "source": [
    "def portfolio_membership_counts(df, date_col=\"YearMonth\", id_col=None):\n",
    "    \"\"\"\n",
    "    Count portfolio membership per month for columns like:\n",
    "      <signal>_(top|bottom)_(decile|quintile|tertile)[_industry]\n",
    "      industry_<signal>_(top|bottom)_(decile|quintile|tertile)\n",
    "\n",
    "    If id_col is None  -> count rows (firm-month obs).\n",
    "    If id_col provided -> count unique ids (e.g., cusip, permno).\n",
    "    \"\"\"\n",
    "    x = df.copy()\n",
    "    x[\"_m_\"] = _to_month_period(x[date_col])\n",
    "\n",
    "    # detect top/bottom indicators (both suffix- and prefix-style), incl. tertile\n",
    "    pat_suf = re.compile(\n",
    "        r\"^(?P<signal>.+)_(?P<leg>top|bottom)_(?P<bucket>decile|quintile|tertile)(?P<scope>_industry)?$\")\n",
    "    pat_pre = re.compile(r\"^industry_(?P<signal>.+)_(?P<leg>top|bottom)_(?P<bucket>decile|quintile|tertile)$\")\n",
    "\n",
    "    cols = []\n",
    "    for c in x.columns:\n",
    "        m1, m2 = pat_suf.match(c), pat_pre.match(c)\n",
    "        if not (m1 or m2):\n",
    "            continue\n",
    "        d = (m1 or m2).groupdict()\n",
    "        scope = \"industry\" if (m1 and d.get(\"scope\")) or m2 else \"overall\"\n",
    "        key = f\"{d['signal']}__{scope}__{d['bucket']}__{d['leg']}\"\n",
    "        cols.append((c, key))\n",
    "\n",
    "    if not cols:\n",
    "        return pd.DataFrame()\n",
    "\n",
    "    # ensure numeric 0/1\n",
    "    for c, _ in cols:\n",
    "        x[c] = pd.to_numeric(x[c], errors=\"coerce\").fillna(0).astype(int)\n",
    "\n",
    "    rows = []\n",
    "    for c, key in cols:\n",
    "        mask = x[c] == 1\n",
    "        if id_col:\n",
    "            # unique ID count per month\n",
    "            cnt = (x.loc[mask, [\"_m_\", id_col]]\n",
    "                   .dropna(subset=[id_col])\n",
    "                   .groupby(\"_m_\")[id_col].nunique())\n",
    "        else:\n",
    "            # row count per month\n",
    "            cnt = x.loc[mask].groupby(\"_m_\").size()\n",
    "        rows.append(cnt.rename(key))\n",
    "\n",
    "    out = (pd.concat(rows, axis=1)\n",
    "           .fillna(0)\n",
    "           .astype(int)\n",
    "           .reset_index()\n",
    "           .rename(columns={\"_m_\": \"YearMonth\"}))\n",
    "    return out\n",
    "\n",
    "\n",
    "membership_rows = portfolio_membership_counts(df_with_flags, date_col=\"YearMonth\")\n",
    "membership_rows"
   ],
   "metadata": {
    "collapsed": false,
    "ExecuteTime": {
     "end_time": "2025-10-27T13:10:04.123436500Z",
     "start_time": "2025-10-27T13:09:27.982783600Z"
    }
   }
  },
  {
   "cell_type": "code",
   "execution_count": 219,
   "outputs": [],
   "source": [
    "def ls_excess_from_indicators(\n",
    "        df: pd.DataFrame,\n",
    "        date_col: str = \"YearMonth\",\n",
    "        ret_col: str = \"ret_adj\",\n",
    "        rf_col: str = \"RF\",\n",
    "        weight_col: str = \"me_lag\",\n",
    "):\n",
    "    \"\"\"\n",
    "    Long–short *excess* returns (EW & VW) from binary flags with these names:\n",
    "      overall:          <signal>_(top|bottom)_(tertile|quintile|decile)\n",
    "      within industry:  <signal>_(top|bottom)_(tertile|quintile|decile)_industry\n",
    "    (Legacy prefix 'industry_<signal>_...' is also supported → within industry.)\n",
    "\n",
    "    Outputs per spec:\n",
    "      <base>_<bucket>_ls_ew, <base>_<bucket>_ls_vw\n",
    "    where <base> is a cleaned signal; prefixed with 'industry_' only for within-industry.\n",
    "    \"\"\"\n",
    "    x = df.copy()\n",
    "\n",
    "    # Month key → Period[M]\n",
    "    if isinstance(x[date_col].dtype, pd.PeriodDtype):\n",
    "        try:\n",
    "            x[\"_m_\"] = x[date_col].dt.asfreq(\"M\")\n",
    "        except Exception:\n",
    "            x[\"_m_\"] = x[date_col].astype(\"period[M]\")\n",
    "    else:\n",
    "        x[\"_m_\"] = pd.to_datetime(x[date_col].astype(str), errors=\"coerce\").dt.to_period(\"M\")\n",
    "\n",
    "    # Excess returns & weights\n",
    "    x[\"_rex_\"] = (\n",
    "            pd.to_numeric(x.get(ret_col, np.nan), errors=\"coerce\")\n",
    "            - pd.to_numeric(x.get(rf_col, 0.0), errors=\"coerce\").fillna(0.0)\n",
    "    )\n",
    "    x[\"_w_\"] = pd.to_numeric(x.get(weight_col, np.nan), errors=\"coerce\")\n",
    "\n",
    "    # Recognize columns: overall (no suffix) or within-industry (suffix _industry or legacy prefix)\n",
    "    pat_suffix = re.compile(\n",
    "        r\"^(?P<signal>.+)_(?P<leg>top|bottom)_(?P<bucket>tertile|quintile|decile)\"\n",
    "        r\"(?P<scope>_industry)?$\"  # only '' or '_industry'\n",
    "    )\n",
    "    pat_prefix = re.compile(\n",
    "        r\"^(?P<pfx>industry_)(?P<signal>.+)_(?P<leg>top|bottom)_(?P<bucket>tertile|quintile|decile)$\"\n",
    "    )\n",
    "\n",
    "    def scope_from(groups):\n",
    "        s = groups.get(\"scope\") or \"\"\n",
    "        return \"industry\" if s == \"_industry\" else \"overall\"\n",
    "\n",
    "    # Collect complete top/bottom pairs by (signal, scope, bucket)\n",
    "    pairs = {}\n",
    "    for c in x.columns:\n",
    "        m = pat_suffix.match(c)\n",
    "        if m:\n",
    "            d = m.groupdict()\n",
    "            key = (d[\"signal\"], scope_from(d), d[\"bucket\"])\n",
    "        else:\n",
    "            m = pat_prefix.match(c)\n",
    "            if not m:\n",
    "                continue\n",
    "            d = m.groupdict()\n",
    "            key = (d[\"signal\"], \"industry\", d[\"bucket\"])\n",
    "        pairs.setdefault(key, {\"top\": None, \"bottom\": None})\n",
    "        pairs[key][d[\"leg\"]] = c\n",
    "\n",
    "    specs = [\n",
    "        (sig, scp, bkt, cols[\"top\"], cols[\"bottom\"])\n",
    "        for (sig, scp, bkt), cols in pairs.items()\n",
    "        if cols[\"top\"] is not None and cols[\"bottom\"] is not None\n",
    "    ]\n",
    "    if not specs:\n",
    "        raise ValueError(\"No complete top/bottom pairs found for overall/industry.\")\n",
    "\n",
    "    # Clean signal name for output\n",
    "    def _clean_signal(sig: str) -> str:\n",
    "        s = sig\n",
    "        s = re.sub(r\"^n_\", \"\", s)\n",
    "        s = s.replace(\"resid_\", \"\")\n",
    "        s = s.replace(\"_material_24m\", \"\").replace(\"_material\", \"\")\n",
    "        s = s.replace(\"_24m\", \"\")\n",
    "        return s.strip(\"_\")\n",
    "\n",
    "    # Safe mask conversion\n",
    "    def _safe_mask(col: pd.Series) -> pd.Series:\n",
    "        if col.dtype == bool:\n",
    "            return col.astype(\"boolean\").fillna(False)\n",
    "        return pd.to_numeric(col, errors=\"coerce\").eq(1).astype(\"boolean\").fillna(False)\n",
    "\n",
    "    # EW/VW on *excess* returns\n",
    "    def _ew(mask: pd.Series) -> pd.Series:\n",
    "        m = _safe_mask(mask)\n",
    "        if not m.any():\n",
    "            return pd.Series(dtype=float)\n",
    "        return x.loc[m].groupby(x.loc[m, \"_m_\"])[\"_rex_\"].mean()\n",
    "\n",
    "    def _vw(mask: pd.Series) -> pd.Series:\n",
    "        m = _safe_mask(mask)\n",
    "        tmp = x.loc[m, [\"_m_\", \"_rex_\", \"_w_\"]].copy()\n",
    "        if tmp.empty:\n",
    "            return pd.Series(dtype=float)\n",
    "        tmp[\"_w_\"] = tmp[\"_w_\"].clip(lower=0)\n",
    "        sumw = tmp.groupby(\"_m_\")[\"_w_\"].sum()\n",
    "        sumw = sumw.where(sumw > 0)\n",
    "        tmp = tmp.join(sumw.rename(\"_sumw_\"), on=\"_m_\")\n",
    "        tmp[\"_contrib_\"] = tmp[\"_rex_\"] * (tmp[\"_w_\"] / tmp[\"_sumw_\"])\n",
    "        return tmp.groupby(\"_m_\")[\"_contrib_\"].sum()\n",
    "\n",
    "    # Build LS series\n",
    "    frames = []\n",
    "    for sig, scp, bkt, top_col, bot_col in sorted(specs):\n",
    "        ew_top, ew_bot = _ew(x[top_col]), _ew(x[bot_col])\n",
    "        vw_top, vw_bot = _vw(x[top_col]), _vw(x[bot_col])\n",
    "\n",
    "        idx = ew_top.index.union(ew_bot.index)\n",
    "        ew_ls = ew_top.reindex(idx) - ew_bot.reindex(idx)\n",
    "\n",
    "        idx_vw = vw_top.index.union(vw_bot.index)\n",
    "        vw_ls = vw_top.reindex(idx_vw) - vw_bot.reindex(idx_vw)\n",
    "        vw_ls = vw_ls.reindex(idx)\n",
    "\n",
    "        base = _clean_signal(sig)\n",
    "        if scp == \"industry\":\n",
    "            base = f\"industry_{base}\"\n",
    "\n",
    "        frames.append(pd.DataFrame({\n",
    "            \"YearMonth\": idx,\n",
    "            f\"{base}_{bkt}_ls_ew\": ew_ls.values,\n",
    "            f\"{base}_{bkt}_ls_vw\": vw_ls.values,\n",
    "        }))\n",
    "\n",
    "    out = frames[0]\n",
    "    for f in frames[1:]:\n",
    "        out = out.merge(f, on=\"YearMonth\", how=\"outer\")\n",
    "\n",
    "    return out.sort_values(\"YearMonth\").reset_index(drop=True)"
   ],
   "metadata": {
    "collapsed": false,
    "ExecuteTime": {
     "end_time": "2025-10-27T15:32:58.079910700Z",
     "start_time": "2025-10-27T15:32:58.017260300Z"
    }
   }
  },
  {
   "cell_type": "code",
   "execution_count": 238,
   "outputs": [
    {
     "data": {
      "text/plain": "    YearMonth  n_car_1_decile_ls_ew_x  n_car_1_decile_ls_vw_x  \\\n0     2007-01               -0.011608                0.027010   \n1     2007-02                0.023792               -0.001560   \n2     2007-03               -0.000206               -0.003245   \n3     2007-04                0.029209                0.016530   \n4     2007-05               -0.041376               -0.006848   \n..        ...                     ...                     ...   \n199   2023-08               -0.008932               -0.005007   \n200   2023-09                0.032432                0.008557   \n201   2023-10                0.014341                0.021605   \n202   2023-11                0.008895                0.034374   \n203   2023-12               -0.006703                0.045809   \n\n     n_car_1_quintile_ls_ew_x  n_car_1_quintile_ls_vw_x  \\\n0                   -0.014990                  0.027870   \n1                    0.021668                 -0.000780   \n2                    0.010853                 -0.002470   \n3                    0.030186                  0.016776   \n4                   -0.031918                 -0.007308   \n..                        ...                       ...   \n199                 -0.002707                 -0.006786   \n200                  0.035469                  0.004133   \n201                  0.001246                  0.020323   \n202                 -0.027541                  0.038095   \n203                 -0.026881                  0.039697   \n\n     n_car_1_tertile_ls_ew_x  n_car_1_tertile_ls_vw_x  n_car_1_decile_ls_ew_y  \\\n0                  -0.011199                 0.025253               -0.011608   \n1                   0.014970                -0.000406                0.018285   \n2                   0.001556                -0.002962               -0.001574   \n3                   0.029605                 0.016780                0.025281   \n4                  -0.030887                -0.008722               -0.038299   \n..                       ...                      ...                     ...   \n199                 0.007327                -0.006915               -0.016707   \n200                 0.028862                 0.001953                0.022388   \n201                -0.008353                 0.020209                0.012509   \n202                -0.054642                 0.041153                0.022856   \n203                -0.033451                 0.036290                0.004081   \n\n     n_car_1_decile_ls_vw_y  n_car_1_quintile_ls_ew_y  ...  \\\n0                  0.027010                 -0.014990  ...   \n1                 -0.002150                  0.021342  ...   \n2                 -0.004578                  0.010594  ...   \n3                 -0.001377                  0.037019  ...   \n4                  0.010754                 -0.026516  ...   \n..                      ...                       ...  ...   \n199               -0.017475                 -0.012885  ...   \n200               -0.018016                  0.016912  ...   \n201                0.010510                 -0.000552  ...   \n202                0.041950                 -0.015539  ...   \n203                0.001272                 -0.011859  ...   \n\n     industry_n_severity_industry_quintile_ls_ew_x  \\\n0                                         0.004073   \n1                                        -0.001991   \n2                                        -0.000147   \n3                                         0.024168   \n4                                         0.004314   \n..                                             ...   \n199                                      -0.024098   \n200                                      -0.005198   \n201                                      -0.009256   \n202                                       0.026213   \n203                                      -0.021287   \n\n     industry_n_severity_industry_quintile_ls_vw_x  \\\n0                                         0.020268   \n1                                        -0.005625   \n2                                         0.000230   \n3                                         0.005923   \n4                                         0.021641   \n..                                             ...   \n199                                      -0.008724   \n200                                      -0.034062   \n201                                      -0.003572   \n202                                       0.039872   \n203                                      -0.028821   \n\n     industry_n_severity_industry_tertile_ls_ew_x  \\\n0                                        0.007607   \n1                                        0.004488   \n2                                        0.001537   \n3                                        0.024664   \n4                                       -0.002658   \n..                                            ...   \n199                                     -0.013483   \n200                                      0.000350   \n201                                      0.005963   \n202                                      0.021766   \n203                                     -0.017257   \n\n     industry_n_severity_industry_tertile_ls_vw_x  \\\n0                                        0.021354   \n1                                       -0.004006   \n2                                       -0.000073   \n3                                        0.006951   \n4                                        0.015363   \n..                                            ...   \n199                                     -0.010958   \n200                                     -0.029074   \n201                                     -0.007328   \n202                                      0.035368   \n203                                     -0.026284   \n\n     industry_n_severity_industry_decile_ls_ew_y  \\\n0                                       0.005867   \n1                                      -0.011640   \n2                                       0.004748   \n3                                       0.032032   \n4                                      -0.001695   \n..                                           ...   \n199                                    -0.006419   \n200                                     0.030740   \n201                                     0.023563   \n202                                     0.014455   \n203                                    -0.003213   \n\n     industry_n_severity_industry_decile_ls_vw_y  \\\n0                                       0.017249   \n1                                      -0.009861   \n2                                       0.012592   \n3                                       0.016191   \n4                                       0.019257   \n..                                           ...   \n199                                    -0.001044   \n200                                    -0.014674   \n201                                    -0.004815   \n202                                     0.023869   \n203                                    -0.006424   \n\n     industry_n_severity_industry_quintile_ls_ew_y  \\\n0                                         0.004073   \n1                                         0.001484   \n2                                         0.004825   \n3                                         0.036962   \n4                                         0.003482   \n..                                             ...   \n199                                      -0.006926   \n200                                       0.012007   \n201                                       0.012933   \n202                                       0.022893   \n203                                      -0.016799   \n\n     industry_n_severity_industry_quintile_ls_vw_y  \\\n0                                         0.020268   \n1                                        -0.005812   \n2                                         0.007921   \n3                                         0.016951   \n4                                         0.016398   \n..                                             ...   \n199                                      -0.002650   \n200                                      -0.016603   \n201                                       0.000447   \n202                                       0.029421   \n203                                      -0.013113   \n\n     industry_n_severity_industry_tertile_ls_ew_y  \\\n0                                        0.007607   \n1                                        0.005998   \n2                                        0.006692   \n3                                        0.031917   \n4                                        0.000013   \n..                                            ...   \n199                                     -0.011183   \n200                                      0.012202   \n201                                      0.004748   \n202                                      0.017590   \n203                                     -0.014421   \n\n     industry_n_severity_industry_tertile_ls_vw_y  \n0                                        0.021354  \n1                                       -0.004191  \n2                                        0.007591  \n3                                        0.016610  \n4                                        0.015459  \n..                                            ...  \n199                                     -0.004977  \n200                                     -0.018707  \n201                                     -0.002840  \n202                                      0.028739  \n203                                     -0.017633  \n\n[204 rows x 121 columns]",
      "text/html": "<div>\n<style scoped>\n    .dataframe tbody tr th:only-of-type {\n        vertical-align: middle;\n    }\n\n    .dataframe tbody tr th {\n        vertical-align: top;\n    }\n\n    .dataframe thead th {\n        text-align: right;\n    }\n</style>\n<table border=\"1\" class=\"dataframe\">\n  <thead>\n    <tr style=\"text-align: right;\">\n      <th></th>\n      <th>YearMonth</th>\n      <th>n_car_1_decile_ls_ew_x</th>\n      <th>n_car_1_decile_ls_vw_x</th>\n      <th>n_car_1_quintile_ls_ew_x</th>\n      <th>n_car_1_quintile_ls_vw_x</th>\n      <th>n_car_1_tertile_ls_ew_x</th>\n      <th>n_car_1_tertile_ls_vw_x</th>\n      <th>n_car_1_decile_ls_ew_y</th>\n      <th>n_car_1_decile_ls_vw_y</th>\n      <th>n_car_1_quintile_ls_ew_y</th>\n      <th>...</th>\n      <th>industry_n_severity_industry_quintile_ls_ew_x</th>\n      <th>industry_n_severity_industry_quintile_ls_vw_x</th>\n      <th>industry_n_severity_industry_tertile_ls_ew_x</th>\n      <th>industry_n_severity_industry_tertile_ls_vw_x</th>\n      <th>industry_n_severity_industry_decile_ls_ew_y</th>\n      <th>industry_n_severity_industry_decile_ls_vw_y</th>\n      <th>industry_n_severity_industry_quintile_ls_ew_y</th>\n      <th>industry_n_severity_industry_quintile_ls_vw_y</th>\n      <th>industry_n_severity_industry_tertile_ls_ew_y</th>\n      <th>industry_n_severity_industry_tertile_ls_vw_y</th>\n    </tr>\n  </thead>\n  <tbody>\n    <tr>\n      <th>0</th>\n      <td>2007-01</td>\n      <td>-0.011608</td>\n      <td>0.027010</td>\n      <td>-0.014990</td>\n      <td>0.027870</td>\n      <td>-0.011199</td>\n      <td>0.025253</td>\n      <td>-0.011608</td>\n      <td>0.027010</td>\n      <td>-0.014990</td>\n      <td>...</td>\n      <td>0.004073</td>\n      <td>0.020268</td>\n      <td>0.007607</td>\n      <td>0.021354</td>\n      <td>0.005867</td>\n      <td>0.017249</td>\n      <td>0.004073</td>\n      <td>0.020268</td>\n      <td>0.007607</td>\n      <td>0.021354</td>\n    </tr>\n    <tr>\n      <th>1</th>\n      <td>2007-02</td>\n      <td>0.023792</td>\n      <td>-0.001560</td>\n      <td>0.021668</td>\n      <td>-0.000780</td>\n      <td>0.014970</td>\n      <td>-0.000406</td>\n      <td>0.018285</td>\n      <td>-0.002150</td>\n      <td>0.021342</td>\n      <td>...</td>\n      <td>-0.001991</td>\n      <td>-0.005625</td>\n      <td>0.004488</td>\n      <td>-0.004006</td>\n      <td>-0.011640</td>\n      <td>-0.009861</td>\n      <td>0.001484</td>\n      <td>-0.005812</td>\n      <td>0.005998</td>\n      <td>-0.004191</td>\n    </tr>\n    <tr>\n      <th>2</th>\n      <td>2007-03</td>\n      <td>-0.000206</td>\n      <td>-0.003245</td>\n      <td>0.010853</td>\n      <td>-0.002470</td>\n      <td>0.001556</td>\n      <td>-0.002962</td>\n      <td>-0.001574</td>\n      <td>-0.004578</td>\n      <td>0.010594</td>\n      <td>...</td>\n      <td>-0.000147</td>\n      <td>0.000230</td>\n      <td>0.001537</td>\n      <td>-0.000073</td>\n      <td>0.004748</td>\n      <td>0.012592</td>\n      <td>0.004825</td>\n      <td>0.007921</td>\n      <td>0.006692</td>\n      <td>0.007591</td>\n    </tr>\n    <tr>\n      <th>3</th>\n      <td>2007-04</td>\n      <td>0.029209</td>\n      <td>0.016530</td>\n      <td>0.030186</td>\n      <td>0.016776</td>\n      <td>0.029605</td>\n      <td>0.016780</td>\n      <td>0.025281</td>\n      <td>-0.001377</td>\n      <td>0.037019</td>\n      <td>...</td>\n      <td>0.024168</td>\n      <td>0.005923</td>\n      <td>0.024664</td>\n      <td>0.006951</td>\n      <td>0.032032</td>\n      <td>0.016191</td>\n      <td>0.036962</td>\n      <td>0.016951</td>\n      <td>0.031917</td>\n      <td>0.016610</td>\n    </tr>\n    <tr>\n      <th>4</th>\n      <td>2007-05</td>\n      <td>-0.041376</td>\n      <td>-0.006848</td>\n      <td>-0.031918</td>\n      <td>-0.007308</td>\n      <td>-0.030887</td>\n      <td>-0.008722</td>\n      <td>-0.038299</td>\n      <td>0.010754</td>\n      <td>-0.026516</td>\n      <td>...</td>\n      <td>0.004314</td>\n      <td>0.021641</td>\n      <td>-0.002658</td>\n      <td>0.015363</td>\n      <td>-0.001695</td>\n      <td>0.019257</td>\n      <td>0.003482</td>\n      <td>0.016398</td>\n      <td>0.000013</td>\n      <td>0.015459</td>\n    </tr>\n    <tr>\n      <th>...</th>\n      <td>...</td>\n      <td>...</td>\n      <td>...</td>\n      <td>...</td>\n      <td>...</td>\n      <td>...</td>\n      <td>...</td>\n      <td>...</td>\n      <td>...</td>\n      <td>...</td>\n      <td>...</td>\n      <td>...</td>\n      <td>...</td>\n      <td>...</td>\n      <td>...</td>\n      <td>...</td>\n      <td>...</td>\n      <td>...</td>\n      <td>...</td>\n      <td>...</td>\n      <td>...</td>\n    </tr>\n    <tr>\n      <th>199</th>\n      <td>2023-08</td>\n      <td>-0.008932</td>\n      <td>-0.005007</td>\n      <td>-0.002707</td>\n      <td>-0.006786</td>\n      <td>0.007327</td>\n      <td>-0.006915</td>\n      <td>-0.016707</td>\n      <td>-0.017475</td>\n      <td>-0.012885</td>\n      <td>...</td>\n      <td>-0.024098</td>\n      <td>-0.008724</td>\n      <td>-0.013483</td>\n      <td>-0.010958</td>\n      <td>-0.006419</td>\n      <td>-0.001044</td>\n      <td>-0.006926</td>\n      <td>-0.002650</td>\n      <td>-0.011183</td>\n      <td>-0.004977</td>\n    </tr>\n    <tr>\n      <th>200</th>\n      <td>2023-09</td>\n      <td>0.032432</td>\n      <td>0.008557</td>\n      <td>0.035469</td>\n      <td>0.004133</td>\n      <td>0.028862</td>\n      <td>0.001953</td>\n      <td>0.022388</td>\n      <td>-0.018016</td>\n      <td>0.016912</td>\n      <td>...</td>\n      <td>-0.005198</td>\n      <td>-0.034062</td>\n      <td>0.000350</td>\n      <td>-0.029074</td>\n      <td>0.030740</td>\n      <td>-0.014674</td>\n      <td>0.012007</td>\n      <td>-0.016603</td>\n      <td>0.012202</td>\n      <td>-0.018707</td>\n    </tr>\n    <tr>\n      <th>201</th>\n      <td>2023-10</td>\n      <td>0.014341</td>\n      <td>0.021605</td>\n      <td>0.001246</td>\n      <td>0.020323</td>\n      <td>-0.008353</td>\n      <td>0.020209</td>\n      <td>0.012509</td>\n      <td>0.010510</td>\n      <td>-0.000552</td>\n      <td>...</td>\n      <td>-0.009256</td>\n      <td>-0.003572</td>\n      <td>0.005963</td>\n      <td>-0.007328</td>\n      <td>0.023563</td>\n      <td>-0.004815</td>\n      <td>0.012933</td>\n      <td>0.000447</td>\n      <td>0.004748</td>\n      <td>-0.002840</td>\n    </tr>\n    <tr>\n      <th>202</th>\n      <td>2023-11</td>\n      <td>0.008895</td>\n      <td>0.034374</td>\n      <td>-0.027541</td>\n      <td>0.038095</td>\n      <td>-0.054642</td>\n      <td>0.041153</td>\n      <td>0.022856</td>\n      <td>0.041950</td>\n      <td>-0.015539</td>\n      <td>...</td>\n      <td>0.026213</td>\n      <td>0.039872</td>\n      <td>0.021766</td>\n      <td>0.035368</td>\n      <td>0.014455</td>\n      <td>0.023869</td>\n      <td>0.022893</td>\n      <td>0.029421</td>\n      <td>0.017590</td>\n      <td>0.028739</td>\n    </tr>\n    <tr>\n      <th>203</th>\n      <td>2023-12</td>\n      <td>-0.006703</td>\n      <td>0.045809</td>\n      <td>-0.026881</td>\n      <td>0.039697</td>\n      <td>-0.033451</td>\n      <td>0.036290</td>\n      <td>0.004081</td>\n      <td>0.001272</td>\n      <td>-0.011859</td>\n      <td>...</td>\n      <td>-0.021287</td>\n      <td>-0.028821</td>\n      <td>-0.017257</td>\n      <td>-0.026284</td>\n      <td>-0.003213</td>\n      <td>-0.006424</td>\n      <td>-0.016799</td>\n      <td>-0.013113</td>\n      <td>-0.014421</td>\n      <td>-0.017633</td>\n    </tr>\n  </tbody>\n</table>\n<p>204 rows × 121 columns</p>\n</div>"
     },
     "execution_count": 238,
     "metadata": {},
     "output_type": "execute_result"
    }
   ],
   "source": [
    "# df_with_indicators: your dataframe that already contains the *_top_* and *_bottom_* flags\n",
    "ls_ret = ls_excess_from_indicators(df_with_flags)\n",
    "ls_ret"
   ],
   "metadata": {
    "collapsed": false,
    "ExecuteTime": {
     "end_time": "2025-10-27T17:04:09.760130800Z",
     "start_time": "2025-10-27T17:03:37.678365500Z"
    }
   }
  },
  {
   "cell_type": "code",
   "execution_count": 239,
   "outputs": [],
   "source": [
    "# remove _x from column names and replace _y with 24m\n",
    "df_ls = ls_ret.rename(columns=lambda c: c.replace('_x', '').replace('_y', '_24m'))"
   ],
   "metadata": {
    "collapsed": false,
    "ExecuteTime": {
     "end_time": "2025-10-27T17:04:09.772137200Z",
     "start_time": "2025-10-27T17:04:09.755742100Z"
    }
   }
  },
  {
   "cell_type": "code",
   "execution_count": 241,
   "outputs": [],
   "source": [
    "# Merge back FF4\n",
    "df_ls = df_ls.merge(df[['YearMonth', 'MKT_RF', 'SMB', 'HML', 'RF', 'MOM']].drop_duplicates(['YearMonth']), on='YearMonth', how='left')"
   ],
   "metadata": {
    "collapsed": false,
    "ExecuteTime": {
     "end_time": "2025-10-27T17:04:29.209636900Z",
     "start_time": "2025-10-27T17:04:29.131102500Z"
    }
   }
  },
  {
   "cell_type": "code",
   "execution_count": 242,
   "outputs": [
    {
     "data": {
      "text/plain": "    YearMonth  n_car_1_decile_ls_ew  n_car_1_decile_ls_vw  \\\n0     2007-01             -0.011608              0.027010   \n1     2007-02              0.023792             -0.001560   \n2     2007-03             -0.000206             -0.003245   \n3     2007-04              0.029209              0.016530   \n4     2007-05             -0.041376             -0.006848   \n..        ...                   ...                   ...   \n199   2023-08             -0.008932             -0.005007   \n200   2023-09              0.032432              0.008557   \n201   2023-10              0.014341              0.021605   \n202   2023-11              0.008895              0.034374   \n203   2023-12             -0.006703              0.045809   \n\n     n_car_1_quintile_ls_ew  n_car_1_quintile_ls_vw  n_car_1_tertile_ls_ew  \\\n0                 -0.014990                0.027870              -0.011199   \n1                  0.021668               -0.000780               0.014970   \n2                  0.010853               -0.002470               0.001556   \n3                  0.030186                0.016776               0.029605   \n4                 -0.031918               -0.007308              -0.030887   \n..                      ...                     ...                    ...   \n199               -0.002707               -0.006786               0.007327   \n200                0.035469                0.004133               0.028862   \n201                0.001246                0.020323              -0.008353   \n202               -0.027541                0.038095              -0.054642   \n203               -0.026881                0.039697              -0.033451   \n\n     n_car_1_tertile_ls_vw  n_car_1_decile_ls_ew_24m  \\\n0                 0.025253                 -0.011608   \n1                -0.000406                  0.018285   \n2                -0.002962                 -0.001574   \n3                 0.016780                  0.025281   \n4                -0.008722                 -0.038299   \n..                     ...                       ...   \n199              -0.006915                 -0.016707   \n200               0.001953                  0.022388   \n201               0.020209                  0.012509   \n202               0.041153                  0.022856   \n203               0.036290                  0.004081   \n\n     n_car_1_decile_ls_vw_24m  n_car_1_quintile_ls_ew_24m  ...  \\\n0                    0.027010                   -0.014990  ...   \n1                   -0.002150                    0.021342  ...   \n2                   -0.004578                    0.010594  ...   \n3                   -0.001377                    0.037019  ...   \n4                    0.010754                   -0.026516  ...   \n..                        ...                         ...  ...   \n199                 -0.017475                   -0.012885  ...   \n200                 -0.018016                    0.016912  ...   \n201                  0.010510                   -0.000552  ...   \n202                  0.041950                   -0.015539  ...   \n203                  0.001272                   -0.011859  ...   \n\n     industry_n_severity_industry_decile_ls_vw_24m  \\\n0                                         0.017249   \n1                                        -0.009861   \n2                                         0.012592   \n3                                         0.016191   \n4                                         0.019257   \n..                                             ...   \n199                                      -0.001044   \n200                                      -0.014674   \n201                                      -0.004815   \n202                                       0.023869   \n203                                      -0.006424   \n\n     industry_n_severity_industry_quintile_ls_ew_24m  \\\n0                                           0.004073   \n1                                           0.001484   \n2                                           0.004825   \n3                                           0.036962   \n4                                           0.003482   \n..                                               ...   \n199                                        -0.006926   \n200                                         0.012007   \n201                                         0.012933   \n202                                         0.022893   \n203                                        -0.016799   \n\n     industry_n_severity_industry_quintile_ls_vw_24m  \\\n0                                           0.020268   \n1                                          -0.005812   \n2                                           0.007921   \n3                                           0.016951   \n4                                           0.016398   \n..                                               ...   \n199                                        -0.002650   \n200                                        -0.016603   \n201                                         0.000447   \n202                                         0.029421   \n203                                        -0.013113   \n\n     industry_n_severity_industry_tertile_ls_ew_24m  \\\n0                                          0.007607   \n1                                          0.005998   \n2                                          0.006692   \n3                                          0.031917   \n4                                          0.000013   \n..                                              ...   \n199                                       -0.011183   \n200                                        0.012202   \n201                                        0.004748   \n202                                        0.017590   \n203                                       -0.014421   \n\n     industry_n_severity_industry_tertile_ls_vw_24m  MKT_RF     SMB     HML  \\\n0                                          0.021354 -0.0196  0.0123 -0.0008   \n1                                         -0.004191  0.0071  0.0009 -0.0088   \n2                                          0.007591  0.0349 -0.0221 -0.0144   \n3                                          0.016610  0.0323  0.0016 -0.0059   \n4                                          0.015459 -0.0196  0.0073 -0.0105   \n..                                              ...     ...     ...     ...   \n199                                       -0.004977 -0.0523 -0.0251  0.0149   \n200                                       -0.018707 -0.0315 -0.0386  0.0020   \n201                                       -0.002840  0.0888 -0.0010  0.0167   \n202                                        0.028739  0.0485  0.0630  0.0489   \n203                                       -0.017633  0.0073 -0.0507 -0.0238   \n\n         RF     MOM  \n0    0.0038 -0.0129  \n1    0.0043  0.0258  \n2    0.0044 -0.0016  \n3    0.0041 -0.0033  \n4    0.0040  0.0052  \n..      ...     ...  \n199  0.0043  0.0033  \n200  0.0047  0.0167  \n201  0.0044  0.0256  \n202  0.0043 -0.0553  \n203  0.0047  0.0542  \n\n[204 rows x 126 columns]",
      "text/html": "<div>\n<style scoped>\n    .dataframe tbody tr th:only-of-type {\n        vertical-align: middle;\n    }\n\n    .dataframe tbody tr th {\n        vertical-align: top;\n    }\n\n    .dataframe thead th {\n        text-align: right;\n    }\n</style>\n<table border=\"1\" class=\"dataframe\">\n  <thead>\n    <tr style=\"text-align: right;\">\n      <th></th>\n      <th>YearMonth</th>\n      <th>n_car_1_decile_ls_ew</th>\n      <th>n_car_1_decile_ls_vw</th>\n      <th>n_car_1_quintile_ls_ew</th>\n      <th>n_car_1_quintile_ls_vw</th>\n      <th>n_car_1_tertile_ls_ew</th>\n      <th>n_car_1_tertile_ls_vw</th>\n      <th>n_car_1_decile_ls_ew_24m</th>\n      <th>n_car_1_decile_ls_vw_24m</th>\n      <th>n_car_1_quintile_ls_ew_24m</th>\n      <th>...</th>\n      <th>industry_n_severity_industry_decile_ls_vw_24m</th>\n      <th>industry_n_severity_industry_quintile_ls_ew_24m</th>\n      <th>industry_n_severity_industry_quintile_ls_vw_24m</th>\n      <th>industry_n_severity_industry_tertile_ls_ew_24m</th>\n      <th>industry_n_severity_industry_tertile_ls_vw_24m</th>\n      <th>MKT_RF</th>\n      <th>SMB</th>\n      <th>HML</th>\n      <th>RF</th>\n      <th>MOM</th>\n    </tr>\n  </thead>\n  <tbody>\n    <tr>\n      <th>0</th>\n      <td>2007-01</td>\n      <td>-0.011608</td>\n      <td>0.027010</td>\n      <td>-0.014990</td>\n      <td>0.027870</td>\n      <td>-0.011199</td>\n      <td>0.025253</td>\n      <td>-0.011608</td>\n      <td>0.027010</td>\n      <td>-0.014990</td>\n      <td>...</td>\n      <td>0.017249</td>\n      <td>0.004073</td>\n      <td>0.020268</td>\n      <td>0.007607</td>\n      <td>0.021354</td>\n      <td>-0.0196</td>\n      <td>0.0123</td>\n      <td>-0.0008</td>\n      <td>0.0038</td>\n      <td>-0.0129</td>\n    </tr>\n    <tr>\n      <th>1</th>\n      <td>2007-02</td>\n      <td>0.023792</td>\n      <td>-0.001560</td>\n      <td>0.021668</td>\n      <td>-0.000780</td>\n      <td>0.014970</td>\n      <td>-0.000406</td>\n      <td>0.018285</td>\n      <td>-0.002150</td>\n      <td>0.021342</td>\n      <td>...</td>\n      <td>-0.009861</td>\n      <td>0.001484</td>\n      <td>-0.005812</td>\n      <td>0.005998</td>\n      <td>-0.004191</td>\n      <td>0.0071</td>\n      <td>0.0009</td>\n      <td>-0.0088</td>\n      <td>0.0043</td>\n      <td>0.0258</td>\n    </tr>\n    <tr>\n      <th>2</th>\n      <td>2007-03</td>\n      <td>-0.000206</td>\n      <td>-0.003245</td>\n      <td>0.010853</td>\n      <td>-0.002470</td>\n      <td>0.001556</td>\n      <td>-0.002962</td>\n      <td>-0.001574</td>\n      <td>-0.004578</td>\n      <td>0.010594</td>\n      <td>...</td>\n      <td>0.012592</td>\n      <td>0.004825</td>\n      <td>0.007921</td>\n      <td>0.006692</td>\n      <td>0.007591</td>\n      <td>0.0349</td>\n      <td>-0.0221</td>\n      <td>-0.0144</td>\n      <td>0.0044</td>\n      <td>-0.0016</td>\n    </tr>\n    <tr>\n      <th>3</th>\n      <td>2007-04</td>\n      <td>0.029209</td>\n      <td>0.016530</td>\n      <td>0.030186</td>\n      <td>0.016776</td>\n      <td>0.029605</td>\n      <td>0.016780</td>\n      <td>0.025281</td>\n      <td>-0.001377</td>\n      <td>0.037019</td>\n      <td>...</td>\n      <td>0.016191</td>\n      <td>0.036962</td>\n      <td>0.016951</td>\n      <td>0.031917</td>\n      <td>0.016610</td>\n      <td>0.0323</td>\n      <td>0.0016</td>\n      <td>-0.0059</td>\n      <td>0.0041</td>\n      <td>-0.0033</td>\n    </tr>\n    <tr>\n      <th>4</th>\n      <td>2007-05</td>\n      <td>-0.041376</td>\n      <td>-0.006848</td>\n      <td>-0.031918</td>\n      <td>-0.007308</td>\n      <td>-0.030887</td>\n      <td>-0.008722</td>\n      <td>-0.038299</td>\n      <td>0.010754</td>\n      <td>-0.026516</td>\n      <td>...</td>\n      <td>0.019257</td>\n      <td>0.003482</td>\n      <td>0.016398</td>\n      <td>0.000013</td>\n      <td>0.015459</td>\n      <td>-0.0196</td>\n      <td>0.0073</td>\n      <td>-0.0105</td>\n      <td>0.0040</td>\n      <td>0.0052</td>\n    </tr>\n    <tr>\n      <th>...</th>\n      <td>...</td>\n      <td>...</td>\n      <td>...</td>\n      <td>...</td>\n      <td>...</td>\n      <td>...</td>\n      <td>...</td>\n      <td>...</td>\n      <td>...</td>\n      <td>...</td>\n      <td>...</td>\n      <td>...</td>\n      <td>...</td>\n      <td>...</td>\n      <td>...</td>\n      <td>...</td>\n      <td>...</td>\n      <td>...</td>\n      <td>...</td>\n      <td>...</td>\n      <td>...</td>\n    </tr>\n    <tr>\n      <th>199</th>\n      <td>2023-08</td>\n      <td>-0.008932</td>\n      <td>-0.005007</td>\n      <td>-0.002707</td>\n      <td>-0.006786</td>\n      <td>0.007327</td>\n      <td>-0.006915</td>\n      <td>-0.016707</td>\n      <td>-0.017475</td>\n      <td>-0.012885</td>\n      <td>...</td>\n      <td>-0.001044</td>\n      <td>-0.006926</td>\n      <td>-0.002650</td>\n      <td>-0.011183</td>\n      <td>-0.004977</td>\n      <td>-0.0523</td>\n      <td>-0.0251</td>\n      <td>0.0149</td>\n      <td>0.0043</td>\n      <td>0.0033</td>\n    </tr>\n    <tr>\n      <th>200</th>\n      <td>2023-09</td>\n      <td>0.032432</td>\n      <td>0.008557</td>\n      <td>0.035469</td>\n      <td>0.004133</td>\n      <td>0.028862</td>\n      <td>0.001953</td>\n      <td>0.022388</td>\n      <td>-0.018016</td>\n      <td>0.016912</td>\n      <td>...</td>\n      <td>-0.014674</td>\n      <td>0.012007</td>\n      <td>-0.016603</td>\n      <td>0.012202</td>\n      <td>-0.018707</td>\n      <td>-0.0315</td>\n      <td>-0.0386</td>\n      <td>0.0020</td>\n      <td>0.0047</td>\n      <td>0.0167</td>\n    </tr>\n    <tr>\n      <th>201</th>\n      <td>2023-10</td>\n      <td>0.014341</td>\n      <td>0.021605</td>\n      <td>0.001246</td>\n      <td>0.020323</td>\n      <td>-0.008353</td>\n      <td>0.020209</td>\n      <td>0.012509</td>\n      <td>0.010510</td>\n      <td>-0.000552</td>\n      <td>...</td>\n      <td>-0.004815</td>\n      <td>0.012933</td>\n      <td>0.000447</td>\n      <td>0.004748</td>\n      <td>-0.002840</td>\n      <td>0.0888</td>\n      <td>-0.0010</td>\n      <td>0.0167</td>\n      <td>0.0044</td>\n      <td>0.0256</td>\n    </tr>\n    <tr>\n      <th>202</th>\n      <td>2023-11</td>\n      <td>0.008895</td>\n      <td>0.034374</td>\n      <td>-0.027541</td>\n      <td>0.038095</td>\n      <td>-0.054642</td>\n      <td>0.041153</td>\n      <td>0.022856</td>\n      <td>0.041950</td>\n      <td>-0.015539</td>\n      <td>...</td>\n      <td>0.023869</td>\n      <td>0.022893</td>\n      <td>0.029421</td>\n      <td>0.017590</td>\n      <td>0.028739</td>\n      <td>0.0485</td>\n      <td>0.0630</td>\n      <td>0.0489</td>\n      <td>0.0043</td>\n      <td>-0.0553</td>\n    </tr>\n    <tr>\n      <th>203</th>\n      <td>2023-12</td>\n      <td>-0.006703</td>\n      <td>0.045809</td>\n      <td>-0.026881</td>\n      <td>0.039697</td>\n      <td>-0.033451</td>\n      <td>0.036290</td>\n      <td>0.004081</td>\n      <td>0.001272</td>\n      <td>-0.011859</td>\n      <td>...</td>\n      <td>-0.006424</td>\n      <td>-0.016799</td>\n      <td>-0.013113</td>\n      <td>-0.014421</td>\n      <td>-0.017633</td>\n      <td>0.0073</td>\n      <td>-0.0507</td>\n      <td>-0.0238</td>\n      <td>0.0047</td>\n      <td>0.0542</td>\n    </tr>\n  </tbody>\n</table>\n<p>204 rows × 126 columns</p>\n</div>"
     },
     "execution_count": 242,
     "metadata": {},
     "output_type": "execute_result"
    }
   ],
   "source": [
    "df_ls"
   ],
   "metadata": {
    "collapsed": false,
    "ExecuteTime": {
     "end_time": "2025-10-27T17:04:38.444418500Z",
     "start_time": "2025-10-27T17:04:38.357973300Z"
    }
   }
  },
  {
   "cell_type": "code",
   "execution_count": 243,
   "outputs": [],
   "source": [
    "df_ls.to_csv('Output/portfolio_residual.csv', index=False)"
   ],
   "metadata": {
    "collapsed": false,
    "ExecuteTime": {
     "end_time": "2025-10-27T17:04:47.787559400Z",
     "start_time": "2025-10-27T17:04:47.677381700Z"
    }
   }
  },
  {
   "cell_type": "markdown",
   "source": [
    "# 7. Sample selection"
   ],
   "metadata": {
    "collapsed": false
   }
  },
  {
   "cell_type": "code",
   "execution_count": 107,
   "outputs": [],
   "source": [
    "# Reprisk sample\n",
    "reprisk_incidents = pd.read_csv(\n",
    "    'data/wrds_reprisk_incidents_ids_material_short_all.csv')  # Calculation in \"CreateDataset\" of \"ESGmateriality\" project\n",
    "reprisk_incidents = reprisk_incidents[\n",
    "    ['gvkey', 'isin', 'cusip', 'reprisk_id', 'story_id', 'adopter', 'sic', 'SICS Codified Industry ',\n",
    "     'Codified SICS Sector ', 'severity', 'reach', 'novelty', 'incident_list', 'incident_date', 'car_5', 'car_1',\n",
    "     'material_flag']]\n",
    "# Create Year, YearMonth, YearQuarter columns\n",
    "reprisk_incidents['incident_date'] = pd.to_datetime(reprisk_incidents['incident_date'])\n",
    "reprisk_incidents['Year'] = reprisk_incidents['incident_date'].dt.year\n",
    "reprisk_incidents['YearMonth'] = reprisk_incidents['incident_date'].dt.to_period('M')\n",
    "reprisk_incidents['YearQuarter'] = reprisk_incidents['incident_date'].dt.to_period('Q')\n",
    "reprisk_incidents['incident_list'] = reprisk_incidents['incident_list'].apply(ast.literal_eval)\n",
    "exploded = reprisk_incidents[\n",
    "    ['SICS Codified Industry ', 'Year', 'YearQuarter', 'YearMonth', 'reach', 'car_1', 'car_5', 'severity',\n",
    "     'incident_list']] \\\n",
    "    .explode('incident_list') \\\n",
    "    .rename(columns={'incident_list': 'type'})"
   ],
   "metadata": {
    "collapsed": false,
    "ExecuteTime": {
     "end_time": "2025-10-23T12:32:37.180034900Z",
     "start_time": "2025-10-23T12:32:26.637539700Z"
    }
   }
  },
  {
   "cell_type": "code",
   "execution_count": 108,
   "outputs": [
    {
     "data": {
      "text/plain": "           gvkey          isin      cusip  reprisk_id  story_id  adopter  \\\n0       210418.0  US0003752047  000375204           2    1251.0        1   \n1       210418.0  US0003752047  000375204           2    1305.0        1   \n2       210418.0  US0003752047  000375204           2    4029.0        1   \n3       210418.0  US0003752047  000375204           2    4488.0        1   \n4       210418.0  US0003752047  000375204           2    4756.0        1   \n...          ...           ...        ...         ...       ...      ...   \n331365  355240.0  THB131010001        NaN     2683218       NaN        1   \n331366  349631.0  PK0126301016        NaN     2684126       NaN        1   \n331367  350690.0  GB00BLNNFY18        NaN     2685085       NaN        1   \n331368  350726.0  AU0000180200        NaN     2685460       NaN        1   \n331369  355325.0  TW0006935000        NaN     2685762       NaN        0   \n\n           sic            SICS Codified Industry   \\\n0       3613.0  Electrical & Electronic Equipment   \n1       3613.0  Electrical & Electronic Equipment   \n2       3613.0  Electrical & Electronic Equipment   \n3       3613.0  Electrical & Electronic Equipment   \n4       3613.0  Electrical & Electronic Equipment   \n...        ...                                ...   \n331365  5900.0                    Coal Operations   \n331366  3411.0             Containers & Packaging   \n331367  6726.0      Household & Personal Products   \n331368  1400.0                          Chemicals   \n331369  2834.0    Biotechnology & Pharmaceuticals   \n\n                    Codified SICS Sector   severity  ...  \\\n0                 Resource Transformation       1.0  ...   \n1                 Resource Transformation       2.0  ...   \n2                 Resource Transformation       2.0  ...   \n3                 Resource Transformation       2.0  ...   \n4                 Resource Transformation       1.0  ...   \n...                                   ...       ...  ...   \n331365  Extractives & Minerals Processing       0.0  ...   \n331366            Resource Transformation       0.0  ...   \n331367                     Consumer Goods       0.0  ...   \n331368            Resource Transformation       0.0  ...   \n331369                        Health Care       0.0  ...   \n\n                        severity_type  severity_roll12  \\\n0       violation_of_natl_legislation             18.0   \n1       violation_of_natl_legislation             18.0   \n2                 human_rights_abuses             41.0   \n3                 human_rights_abuses             54.0   \n4       violation_of_natl_legislation             11.0   \n...                               ...              ...   \n331365                            NaN              NaN   \n331366                            NaN              NaN   \n331367                            NaN              NaN   \n331368                            NaN              NaN   \n331369                            NaN              NaN   \n\n                    car_1_type car_1_roll12              car_5_type  \\\n0       impacts_on_communities     0.009035  impacts_on_communities   \n1       impacts_on_communities     0.009035  impacts_on_communities   \n2        climate_ghg_pollution    -0.129756  impacts_on_communities   \n3        climate_ghg_pollution    -0.129756     supply_chain_issues   \n4       impacts_on_communities    -0.004342  impacts_on_communities   \n...                        ...          ...                     ...   \n331365                     NaN          NaN                     NaN   \n331366                     NaN          NaN                     NaN   \n331367                     NaN          NaN                     NaN   \n331368                     NaN          NaN                     NaN   \n331369                     NaN          NaN                     NaN   \n\n        car_5_roll12  materiality_reach  materiality_severity  \\\n0           0.016264                  0                     0   \n1           0.016264                  0                     0   \n2          -0.282756                  0                     1   \n3          -0.250865                  1                     1   \n4          -0.007518                  1                     1   \n...              ...                ...                   ...   \n331365           NaN                  0                     0   \n331366           NaN                  0                     0   \n331367           NaN                  0                     0   \n331368           NaN                  0                     0   \n331369           NaN                  0                     0   \n\n       materiality_car_1 materiality_car_5  \n0                      1                 1  \n1                      0                 0  \n2                      0                 1  \n3                      0                 0  \n4                      0                 0  \n...                  ...               ...  \n331365                 0                 0  \n331366                 0                 0  \n331367                 0                 0  \n331368                 0                 0  \n331369                 0                 0  \n\n[331370 rows x 32 columns]",
      "text/html": "<div>\n<style scoped>\n    .dataframe tbody tr th:only-of-type {\n        vertical-align: middle;\n    }\n\n    .dataframe tbody tr th {\n        vertical-align: top;\n    }\n\n    .dataframe thead th {\n        text-align: right;\n    }\n</style>\n<table border=\"1\" class=\"dataframe\">\n  <thead>\n    <tr style=\"text-align: right;\">\n      <th></th>\n      <th>gvkey</th>\n      <th>isin</th>\n      <th>cusip</th>\n      <th>reprisk_id</th>\n      <th>story_id</th>\n      <th>adopter</th>\n      <th>sic</th>\n      <th>SICS Codified Industry</th>\n      <th>Codified SICS Sector</th>\n      <th>severity</th>\n      <th>...</th>\n      <th>severity_type</th>\n      <th>severity_roll12</th>\n      <th>car_1_type</th>\n      <th>car_1_roll12</th>\n      <th>car_5_type</th>\n      <th>car_5_roll12</th>\n      <th>materiality_reach</th>\n      <th>materiality_severity</th>\n      <th>materiality_car_1</th>\n      <th>materiality_car_5</th>\n    </tr>\n  </thead>\n  <tbody>\n    <tr>\n      <th>0</th>\n      <td>210418.0</td>\n      <td>US0003752047</td>\n      <td>000375204</td>\n      <td>2</td>\n      <td>1251.0</td>\n      <td>1</td>\n      <td>3613.0</td>\n      <td>Electrical &amp; Electronic Equipment</td>\n      <td>Resource Transformation</td>\n      <td>1.0</td>\n      <td>...</td>\n      <td>violation_of_natl_legislation</td>\n      <td>18.0</td>\n      <td>impacts_on_communities</td>\n      <td>0.009035</td>\n      <td>impacts_on_communities</td>\n      <td>0.016264</td>\n      <td>0</td>\n      <td>0</td>\n      <td>1</td>\n      <td>1</td>\n    </tr>\n    <tr>\n      <th>1</th>\n      <td>210418.0</td>\n      <td>US0003752047</td>\n      <td>000375204</td>\n      <td>2</td>\n      <td>1305.0</td>\n      <td>1</td>\n      <td>3613.0</td>\n      <td>Electrical &amp; Electronic Equipment</td>\n      <td>Resource Transformation</td>\n      <td>2.0</td>\n      <td>...</td>\n      <td>violation_of_natl_legislation</td>\n      <td>18.0</td>\n      <td>impacts_on_communities</td>\n      <td>0.009035</td>\n      <td>impacts_on_communities</td>\n      <td>0.016264</td>\n      <td>0</td>\n      <td>0</td>\n      <td>0</td>\n      <td>0</td>\n    </tr>\n    <tr>\n      <th>2</th>\n      <td>210418.0</td>\n      <td>US0003752047</td>\n      <td>000375204</td>\n      <td>2</td>\n      <td>4029.0</td>\n      <td>1</td>\n      <td>3613.0</td>\n      <td>Electrical &amp; Electronic Equipment</td>\n      <td>Resource Transformation</td>\n      <td>2.0</td>\n      <td>...</td>\n      <td>human_rights_abuses</td>\n      <td>41.0</td>\n      <td>climate_ghg_pollution</td>\n      <td>-0.129756</td>\n      <td>impacts_on_communities</td>\n      <td>-0.282756</td>\n      <td>0</td>\n      <td>1</td>\n      <td>0</td>\n      <td>1</td>\n    </tr>\n    <tr>\n      <th>3</th>\n      <td>210418.0</td>\n      <td>US0003752047</td>\n      <td>000375204</td>\n      <td>2</td>\n      <td>4488.0</td>\n      <td>1</td>\n      <td>3613.0</td>\n      <td>Electrical &amp; Electronic Equipment</td>\n      <td>Resource Transformation</td>\n      <td>2.0</td>\n      <td>...</td>\n      <td>human_rights_abuses</td>\n      <td>54.0</td>\n      <td>climate_ghg_pollution</td>\n      <td>-0.129756</td>\n      <td>supply_chain_issues</td>\n      <td>-0.250865</td>\n      <td>1</td>\n      <td>1</td>\n      <td>0</td>\n      <td>0</td>\n    </tr>\n    <tr>\n      <th>4</th>\n      <td>210418.0</td>\n      <td>US0003752047</td>\n      <td>000375204</td>\n      <td>2</td>\n      <td>4756.0</td>\n      <td>1</td>\n      <td>3613.0</td>\n      <td>Electrical &amp; Electronic Equipment</td>\n      <td>Resource Transformation</td>\n      <td>1.0</td>\n      <td>...</td>\n      <td>violation_of_natl_legislation</td>\n      <td>11.0</td>\n      <td>impacts_on_communities</td>\n      <td>-0.004342</td>\n      <td>impacts_on_communities</td>\n      <td>-0.007518</td>\n      <td>1</td>\n      <td>1</td>\n      <td>0</td>\n      <td>0</td>\n    </tr>\n    <tr>\n      <th>...</th>\n      <td>...</td>\n      <td>...</td>\n      <td>...</td>\n      <td>...</td>\n      <td>...</td>\n      <td>...</td>\n      <td>...</td>\n      <td>...</td>\n      <td>...</td>\n      <td>...</td>\n      <td>...</td>\n      <td>...</td>\n      <td>...</td>\n      <td>...</td>\n      <td>...</td>\n      <td>...</td>\n      <td>...</td>\n      <td>...</td>\n      <td>...</td>\n      <td>...</td>\n      <td>...</td>\n    </tr>\n    <tr>\n      <th>331365</th>\n      <td>355240.0</td>\n      <td>THB131010001</td>\n      <td>NaN</td>\n      <td>2683218</td>\n      <td>NaN</td>\n      <td>1</td>\n      <td>5900.0</td>\n      <td>Coal Operations</td>\n      <td>Extractives &amp; Minerals Processing</td>\n      <td>0.0</td>\n      <td>...</td>\n      <td>NaN</td>\n      <td>NaN</td>\n      <td>NaN</td>\n      <td>NaN</td>\n      <td>NaN</td>\n      <td>NaN</td>\n      <td>0</td>\n      <td>0</td>\n      <td>0</td>\n      <td>0</td>\n    </tr>\n    <tr>\n      <th>331366</th>\n      <td>349631.0</td>\n      <td>PK0126301016</td>\n      <td>NaN</td>\n      <td>2684126</td>\n      <td>NaN</td>\n      <td>1</td>\n      <td>3411.0</td>\n      <td>Containers &amp; Packaging</td>\n      <td>Resource Transformation</td>\n      <td>0.0</td>\n      <td>...</td>\n      <td>NaN</td>\n      <td>NaN</td>\n      <td>NaN</td>\n      <td>NaN</td>\n      <td>NaN</td>\n      <td>NaN</td>\n      <td>0</td>\n      <td>0</td>\n      <td>0</td>\n      <td>0</td>\n    </tr>\n    <tr>\n      <th>331367</th>\n      <td>350690.0</td>\n      <td>GB00BLNNFY18</td>\n      <td>NaN</td>\n      <td>2685085</td>\n      <td>NaN</td>\n      <td>1</td>\n      <td>6726.0</td>\n      <td>Household &amp; Personal Products</td>\n      <td>Consumer Goods</td>\n      <td>0.0</td>\n      <td>...</td>\n      <td>NaN</td>\n      <td>NaN</td>\n      <td>NaN</td>\n      <td>NaN</td>\n      <td>NaN</td>\n      <td>NaN</td>\n      <td>0</td>\n      <td>0</td>\n      <td>0</td>\n      <td>0</td>\n    </tr>\n    <tr>\n      <th>331368</th>\n      <td>350726.0</td>\n      <td>AU0000180200</td>\n      <td>NaN</td>\n      <td>2685460</td>\n      <td>NaN</td>\n      <td>1</td>\n      <td>1400.0</td>\n      <td>Chemicals</td>\n      <td>Resource Transformation</td>\n      <td>0.0</td>\n      <td>...</td>\n      <td>NaN</td>\n      <td>NaN</td>\n      <td>NaN</td>\n      <td>NaN</td>\n      <td>NaN</td>\n      <td>NaN</td>\n      <td>0</td>\n      <td>0</td>\n      <td>0</td>\n      <td>0</td>\n    </tr>\n    <tr>\n      <th>331369</th>\n      <td>355325.0</td>\n      <td>TW0006935000</td>\n      <td>NaN</td>\n      <td>2685762</td>\n      <td>NaN</td>\n      <td>0</td>\n      <td>2834.0</td>\n      <td>Biotechnology &amp; Pharmaceuticals</td>\n      <td>Health Care</td>\n      <td>0.0</td>\n      <td>...</td>\n      <td>NaN</td>\n      <td>NaN</td>\n      <td>NaN</td>\n      <td>NaN</td>\n      <td>NaN</td>\n      <td>NaN</td>\n      <td>0</td>\n      <td>0</td>\n      <td>0</td>\n      <td>0</td>\n    </tr>\n  </tbody>\n</table>\n<p>331370 rows × 32 columns</p>\n</div>"
     },
     "execution_count": 108,
     "metadata": {},
     "output_type": "execute_result"
    }
   ],
   "source": [
    "def pick_types_by_rolling_12m_period_dropna_balanced(\n",
    "        df,\n",
    "        industry_col='SICS Codified Industry ',\n",
    "        ym_col='YearMonth',  # must be Period[M]\n",
    "        type_col='type',\n",
    "        metrics=('reach', 'severity', 'car_1', 'car_5'),\n",
    "        window=12\n",
    "):\n",
    "    d = df.copy()\n",
    "    d[ym_col] = d[ym_col].astype('period[M]')\n",
    "    d = d[[industry_col, ym_col, type_col, *metrics]].copy()\n",
    "\n",
    "    # numeric coercion, keep NaNs\n",
    "    for m in metrics:\n",
    "        d[m] = pd.to_numeric(d[m], errors='coerce')\n",
    "\n",
    "    # aggregate to unique (industry, type, month)\n",
    "    d = (\n",
    "        d.groupby([industry_col, type_col, ym_col], as_index=False)[list(metrics)]\n",
    "        .sum(min_count=1)\n",
    "    )\n",
    "\n",
    "    # ---- Balanced panel over global YearMonth (for existing (industry,type) pairs only)\n",
    "    global_idx = pd.period_range(d[ym_col].min(), d[ym_col].max(), freq='M')\n",
    "    pairs = d[[industry_col, type_col]].drop_duplicates()\n",
    "    full = (\n",
    "        pairs.assign(_k=1)\n",
    "        .merge(pd.DataFrame({ym_col: global_idx, '_k': 1}), on='_k')\n",
    "        .drop(columns='_k')\n",
    "        .set_index([industry_col, type_col, ym_col])\n",
    "    )\n",
    "    base = d.set_index([industry_col, type_col, ym_col])\n",
    "    d = full.join(base, how='left').reset_index()\n",
    "\n",
    "    # rolling 12m sums by (industry, type); NaNs remain NaN\n",
    "    d = d.sort_values([industry_col, type_col, ym_col])\n",
    "    for m in metrics:\n",
    "        d[f'roll12_{m}'] = (\n",
    "            d.groupby([industry_col, type_col], group_keys=False)[m]\n",
    "            .transform(lambda s: s.rolling(window, min_periods=1).sum())\n",
    "        )\n",
    "\n",
    "    by = [industry_col, ym_col]\n",
    "\n",
    "    def pick_one(rollcol, take='max'):\n",
    "        tmp = d[[industry_col, ym_col, type_col, rollcol]].dropna(subset=[rollcol]).copy()\n",
    "        # tie-breaker: alphabetical type; for min we sort ascending by value, for max we invert via sort order\n",
    "        asc_val = (take == 'min')\n",
    "        tmp = tmp.sort_values(by + [rollcol, type_col],\n",
    "                              ascending=[True, True, asc_val, True])\n",
    "        picked = tmp.drop_duplicates(subset=by, keep='first')\n",
    "        metric = rollcol.replace('roll12_', '')\n",
    "        picked = picked.rename(columns={\n",
    "            type_col: f'{metric}_type',\n",
    "            rollcol: f'{metric}_roll12'\n",
    "        })\n",
    "        return picked[[industry_col, ym_col, f'{metric}_type', f'{metric}_roll12']]\n",
    "\n",
    "    reach_out = pick_one('roll12_reach', 'max')\n",
    "    severity_out = pick_one('roll12_severity', 'max')\n",
    "    car1_out = pick_one('roll12_car_1', 'min')\n",
    "    car5_out = pick_one('roll12_car_5', 'min')\n",
    "\n",
    "    res = (reach_out.merge(severity_out, on=by, how='outer')\n",
    "           .merge(car1_out, on=by, how='outer')\n",
    "           .merge(car5_out, on=by, how='outer')\n",
    "           .sort_values(by)\n",
    "           .reset_index(drop=True))\n",
    "    return res\n",
    "\n",
    "\n",
    "# ---------------- Usage ----------------\n",
    "result = pick_types_by_rolling_12m_period_dropna_balanced(exploded)\n",
    "# Merge back to original dataframe\n",
    "final = reprisk_incidents.merge(\n",
    "    result,\n",
    "    on=['SICS Codified Industry ', 'YearMonth'],\n",
    "    how='left'\n",
    ")\n",
    "\n",
    "\n",
    "def _in_list(t, lst):\n",
    "    if pd.isna(t):\n",
    "        return 0\n",
    "    return int(str(t) in lst)\n",
    "\n",
    "\n",
    "# --- 3) create materiality flags\n",
    "final['materiality_reach'] = [_in_list(t, L) for t, L in zip(final['reach_type'], final['incident_list'])]\n",
    "final['materiality_severity'] = [_in_list(t, L) for t, L in zip(final['severity_type'], final['incident_list'])]\n",
    "final['materiality_car_1'] = [_in_list(t, L) for t, L in zip(final['car_1_type'], final['incident_list'])]\n",
    "final['materiality_car_5'] = [_in_list(t, L) for t, L in zip(final['car_5_type'], final['incident_list'])]\n",
    "final"
   ],
   "metadata": {
    "collapsed": false,
    "ExecuteTime": {
     "end_time": "2025-10-23T12:32:57.394505300Z",
     "start_time": "2025-10-23T12:32:46.041420400Z"
    }
   }
  },
  {
   "cell_type": "code",
   "execution_count": 112,
   "outputs": [
    {
     "data": {
      "text/plain": "             gvkey YearMonth  n_material  n_nonmaterial  n_car_1_material  \\\n0           1004.0   2007-01           0              0                 0   \n1           1004.0   2007-02           0              0                 0   \n2           1004.0   2007-03           0              0                 0   \n3           1004.0   2007-04           0              0                 0   \n4           1004.0   2007-05           0              0                 0   \n...            ...       ...         ...            ...               ...   \n10640431  367496.0   2023-08           0              0                 0   \n10640432  367496.0   2023-09           0              0                 0   \n10640433  367496.0   2023-10           0              0                 0   \n10640434  367496.0   2023-11           0              0                 0   \n10640435  367496.0   2023-12           0              0                 0   \n\n          n_car_5_material  n_reach_material  n_severity_material  \n0                        0                 0                    0  \n1                        0                 0                    0  \n2                        0                 0                    0  \n3                        0                 0                    0  \n4                        0                 0                    0  \n...                    ...               ...                  ...  \n10640431                 0                 0                    0  \n10640432                 0                 0                    0  \n10640433                 0                 0                    0  \n10640434                 0                 0                    0  \n10640435                 0                 0                    0  \n\n[10640436 rows x 8 columns]",
      "text/html": "<div>\n<style scoped>\n    .dataframe tbody tr th:only-of-type {\n        vertical-align: middle;\n    }\n\n    .dataframe tbody tr th {\n        vertical-align: top;\n    }\n\n    .dataframe thead th {\n        text-align: right;\n    }\n</style>\n<table border=\"1\" class=\"dataframe\">\n  <thead>\n    <tr style=\"text-align: right;\">\n      <th></th>\n      <th>gvkey</th>\n      <th>YearMonth</th>\n      <th>n_material</th>\n      <th>n_nonmaterial</th>\n      <th>n_car_1_material</th>\n      <th>n_car_5_material</th>\n      <th>n_reach_material</th>\n      <th>n_severity_material</th>\n    </tr>\n  </thead>\n  <tbody>\n    <tr>\n      <th>0</th>\n      <td>1004.0</td>\n      <td>2007-01</td>\n      <td>0</td>\n      <td>0</td>\n      <td>0</td>\n      <td>0</td>\n      <td>0</td>\n      <td>0</td>\n    </tr>\n    <tr>\n      <th>1</th>\n      <td>1004.0</td>\n      <td>2007-02</td>\n      <td>0</td>\n      <td>0</td>\n      <td>0</td>\n      <td>0</td>\n      <td>0</td>\n      <td>0</td>\n    </tr>\n    <tr>\n      <th>2</th>\n      <td>1004.0</td>\n      <td>2007-03</td>\n      <td>0</td>\n      <td>0</td>\n      <td>0</td>\n      <td>0</td>\n      <td>0</td>\n      <td>0</td>\n    </tr>\n    <tr>\n      <th>3</th>\n      <td>1004.0</td>\n      <td>2007-04</td>\n      <td>0</td>\n      <td>0</td>\n      <td>0</td>\n      <td>0</td>\n      <td>0</td>\n      <td>0</td>\n    </tr>\n    <tr>\n      <th>4</th>\n      <td>1004.0</td>\n      <td>2007-05</td>\n      <td>0</td>\n      <td>0</td>\n      <td>0</td>\n      <td>0</td>\n      <td>0</td>\n      <td>0</td>\n    </tr>\n    <tr>\n      <th>...</th>\n      <td>...</td>\n      <td>...</td>\n      <td>...</td>\n      <td>...</td>\n      <td>...</td>\n      <td>...</td>\n      <td>...</td>\n      <td>...</td>\n    </tr>\n    <tr>\n      <th>10640431</th>\n      <td>367496.0</td>\n      <td>2023-08</td>\n      <td>0</td>\n      <td>0</td>\n      <td>0</td>\n      <td>0</td>\n      <td>0</td>\n      <td>0</td>\n    </tr>\n    <tr>\n      <th>10640432</th>\n      <td>367496.0</td>\n      <td>2023-09</td>\n      <td>0</td>\n      <td>0</td>\n      <td>0</td>\n      <td>0</td>\n      <td>0</td>\n      <td>0</td>\n    </tr>\n    <tr>\n      <th>10640433</th>\n      <td>367496.0</td>\n      <td>2023-10</td>\n      <td>0</td>\n      <td>0</td>\n      <td>0</td>\n      <td>0</td>\n      <td>0</td>\n      <td>0</td>\n    </tr>\n    <tr>\n      <th>10640434</th>\n      <td>367496.0</td>\n      <td>2023-11</td>\n      <td>0</td>\n      <td>0</td>\n      <td>0</td>\n      <td>0</td>\n      <td>0</td>\n      <td>0</td>\n    </tr>\n    <tr>\n      <th>10640435</th>\n      <td>367496.0</td>\n      <td>2023-12</td>\n      <td>0</td>\n      <td>0</td>\n      <td>0</td>\n      <td>0</td>\n      <td>0</td>\n      <td>0</td>\n    </tr>\n  </tbody>\n</table>\n<p>10640436 rows × 8 columns</p>\n</div>"
     },
     "execution_count": 112,
     "metadata": {},
     "output_type": "execute_result"
    }
   ],
   "source": [
    "df = final.copy()\n",
    "\n",
    "# Coerce flags to numeric and treat missing as 0\n",
    "flag_cols = [\n",
    "    'material_flag',\n",
    "    'materiality_car_1', 'materiality_car_5', 'materiality_reach', 'materiality_severity'\n",
    "]\n",
    "df[flag_cols] = df[flag_cols].apply(pd.to_numeric, errors='coerce').fillna(0)\n",
    "\n",
    "key = [\"gvkey\", \"YearMonth\"]\n",
    "\n",
    "# 1) Aggregate incidents per firm-quarter\n",
    "agg_fq = (\n",
    "    df.groupby(key, dropna=False)\n",
    "    .agg(\n",
    "        n_material=('material_flag', lambda s: (s == 1).sum()),\n",
    "        n_nonmaterial=('material_flag', lambda s: (s == 0).sum()),\n",
    "        n_car_1_material=('materiality_car_1', lambda s: (s == 1).sum()),\n",
    "        n_car_5_material=('materiality_car_5', lambda s: (s == 1).sum()),\n",
    "        n_reach_material=('materiality_reach', lambda s: (s == 1).sum()),\n",
    "        n_severity_material=('materiality_severity', lambda s: (s == 1).sum()),\n",
    "    )\n",
    "    .reset_index()\n",
    ")\n",
    "\n",
    "# 2) Build the BALANCED universe = all firms × all quarters (global min..max)\n",
    "firms = (\n",
    "    df['gvkey']\n",
    "    .dropna()\n",
    "    .unique()\n",
    ")\n",
    "qmin = df['YearMonth'].min()\n",
    "qmax = df['YearMonth'].max()\n",
    "quarters = pd.period_range(qmin, qmax, freq='M')\n",
    "\n",
    "balanced_idx = pd.MultiIndex.from_product([firms, quarters], names=key)\n",
    "balanced_universe = pd.DataFrame(index=balanced_idx).reset_index()\n",
    "\n",
    "# 3) Merge counts onto balanced universe and fill missing with zeros\n",
    "reprisk = (\n",
    "    balanced_universe\n",
    "    .merge(agg_fq, on=key, how='left')\n",
    "    .fillna(0)\n",
    "    .sort_values(key)\n",
    "    .reset_index(drop=True)\n",
    ")\n",
    "\n",
    "# 4) Cast counts to ints\n",
    "count_cols = [\n",
    "    'n_material', 'n_nonmaterial', 'n_car_1_material', 'n_car_5_material', 'n_reach_material', 'n_severity_material'\n",
    "]\n",
    "reprisk[count_cols] = reprisk[count_cols].astype('int16')\n",
    "\n",
    "reprisk"
   ],
   "metadata": {
    "collapsed": false,
    "ExecuteTime": {
     "end_time": "2025-10-23T12:42:05.073907100Z",
     "start_time": "2025-10-23T12:39:49.804293700Z"
    }
   }
  },
  {
   "cell_type": "code",
   "execution_count": 116,
   "outputs": [],
   "source": [
    "reprisk_merged = reprisk.merge(\n",
    "    reprisk_incidents[['gvkey', 'cusip', 'SICS Codified Industry ', 'Codified SICS Sector ']].drop_duplicates(),\n",
    "    on='gvkey', how='left')\n",
    "reprisk_merged['year'] = reprisk_merged['YearMonth'].dt.year\n",
    "agg_cols = [\n",
    "    'n_material',\n",
    "    'n_car_1_material',\n",
    "    'n_car_5_material',\n",
    "    'n_reach_material',\n",
    "    'n_severity_material',\n",
    "]\n",
    "\n",
    "industry_col = 'SICS Codified Industry '  # use your exact column name\n",
    "ym_col = 'YearMonth'  # can be string or Period[M]\n",
    "\n",
    "# 1) Industry-level monthly counts (sum across firms)\n",
    "industry_counts = (\n",
    "    reprisk_merged.groupby([industry_col, ym_col], as_index=False)[agg_cols]\n",
    "    .sum(min_count=1)  # keeps NaN if an entire group/col is NaN\n",
    "    .rename(columns={c: f'industry_{c}' for c in agg_cols})\n",
    ")\n",
    "\n",
    "# 2) (Optional) merge back so each firm-month has the industry counts attached\n",
    "df_with_industry = reprisk_merged.merge(industry_counts, on=[industry_col, ym_col], how='left')\n"
   ],
   "metadata": {
    "collapsed": false,
    "ExecuteTime": {
     "end_time": "2025-10-23T12:45:01.527772600Z",
     "start_time": "2025-10-23T12:44:53.051494Z"
    }
   }
  },
  {
   "cell_type": "code",
   "execution_count": 126,
   "outputs": [],
   "source": [
    "df_with_industry['YearQuarter'] = df_with_industry['YearMonth'].dt.to_timestamp().dt.to_period('Q')"
   ],
   "metadata": {
    "collapsed": false,
    "ExecuteTime": {
     "end_time": "2025-10-23T12:51:32.837292100Z",
     "start_time": "2025-10-23T12:51:30.823582100Z"
    }
   }
  },
  {
   "cell_type": "code",
   "execution_count": 127,
   "outputs": [
    {
     "data": {
      "text/plain": "gvkey                                 0\nYearMonth                             0\nn_material                            0\nn_nonmaterial                         0\nn_car_1_material                      0\nn_car_5_material                      0\nn_reach_material                      0\nn_severity_material                   0\ncusip                           8252820\nSICS Codified Industry                0\nCodified SICS Sector                  0\nyear                                  0\nindustry_n_material                   0\nindustry_n_car_1_material             0\nindustry_n_car_5_material             0\nindustry_n_reach_material             0\nindustry_n_severity_material          0\nYearQuarter                           0\ndtype: int64"
     },
     "execution_count": 127,
     "metadata": {},
     "output_type": "execute_result"
    }
   ],
   "source": [
    "df_with_industry.isna().sum()"
   ],
   "metadata": {
    "collapsed": false,
    "ExecuteTime": {
     "end_time": "2025-10-23T12:51:34.714771900Z",
     "start_time": "2025-10-23T12:51:32.825618500Z"
    }
   }
  },
  {
   "cell_type": "code",
   "execution_count": 128,
   "outputs": [
    {
     "data": {
      "text/plain": "52159"
     },
     "execution_count": 128,
     "metadata": {},
     "output_type": "execute_result"
    }
   ],
   "source": [
    "df_with_industry['gvkey'].nunique()"
   ],
   "metadata": {
    "collapsed": false,
    "ExecuteTime": {
     "end_time": "2025-10-23T12:51:45.970071300Z",
     "start_time": "2025-10-23T12:51:45.788256Z"
    }
   }
  },
  {
   "cell_type": "code",
   "execution_count": 129,
   "outputs": [
    {
     "data": {
      "text/plain": "np.int64(3546812)"
     },
     "execution_count": 129,
     "metadata": {},
     "output_type": "execute_result"
    }
   ],
   "source": [
    "df_with_industry.groupby('YearQuarter')['gvkey'].nunique().sum()"
   ],
   "metadata": {
    "collapsed": false,
    "ExecuteTime": {
     "end_time": "2025-10-23T12:51:52.422764900Z",
     "start_time": "2025-10-23T12:51:51.113599600Z"
    }
   }
  },
  {
   "cell_type": "code",
   "execution_count": 133,
   "outputs": [
    {
     "data": {
      "text/plain": "gvkey                                 0\nYearMonth                             0\nn_material                            0\nn_nonmaterial                         0\nn_car_1_material                      0\nn_car_5_material                      0\nn_reach_material                      0\nn_severity_material                   0\ncusip                                 0\nSICS Codified Industry                0\nCodified SICS Sector                  0\nyear                                  0\nindustry_n_material                   0\nindustry_n_car_1_material             0\nindustry_n_car_5_material             0\nindustry_n_reach_material             0\nindustry_n_severity_material          0\ndate                                  0\nmktrf                                 0\nsmb                                   0\nhml                                   0\nrf                                    0\numd                                   0\nYearQuarter                           0\nYearQuarter_prior                     0\nsize                            1397652\nroa_q                           1382343\nlev_q                           1381428\nbm_q                            1602864\ndtype: int64"
     },
     "execution_count": 133,
     "metadata": {},
     "output_type": "execute_result"
    }
   ],
   "source": [
    "reprisk_incidents = pd.read_csv(\n",
    "    'data/incidents_rolling_industry_all.csv')\n",
    "reprisk_incidents.isna().sum()"
   ],
   "metadata": {
    "collapsed": false,
    "ExecuteTime": {
     "end_time": "2025-10-23T13:07:22.780947500Z",
     "start_time": "2025-10-23T13:07:09.338128500Z"
    }
   }
  },
  {
   "cell_type": "code",
   "execution_count": 102,
   "outputs": [
    {
     "data": {
      "text/plain": "11718"
     },
     "execution_count": 102,
     "metadata": {},
     "output_type": "execute_result"
    }
   ],
   "source": [
    "reprisk_incidents['gvkey'].nunique()"
   ],
   "metadata": {
    "collapsed": false,
    "ExecuteTime": {
     "end_time": "2025-10-23T12:27:33.986994500Z",
     "start_time": "2025-10-23T12:27:33.941371600Z"
    }
   }
  },
  {
   "cell_type": "code",
   "execution_count": 103,
   "outputs": [
    {
     "data": {
      "text/plain": "np.int64(796824)"
     },
     "execution_count": 103,
     "metadata": {},
     "output_type": "execute_result"
    }
   ],
   "source": [
    "reprisk_incidents.groupby('YearQuarter')['gvkey'].nunique().sum()"
   ],
   "metadata": {
    "collapsed": false,
    "ExecuteTime": {
     "end_time": "2025-10-23T12:27:45.369437200Z",
     "start_time": "2025-10-23T12:27:44.984850100Z"
    }
   }
  },
  {
   "cell_type": "code",
   "execution_count": 134,
   "outputs": [],
   "source": [
    "non_na = reprisk_incidents.dropna(subset=['size', 'bm_q', 'lev_q', 'roa_q'])"
   ],
   "metadata": {
    "collapsed": false,
    "ExecuteTime": {
     "end_time": "2025-10-23T13:07:46.217574Z",
     "start_time": "2025-10-23T13:07:46.052258900Z"
    }
   }
  },
  {
   "cell_type": "code",
   "execution_count": 135,
   "outputs": [
    {
     "data": {
      "text/plain": "8705"
     },
     "execution_count": 135,
     "metadata": {},
     "output_type": "execute_result"
    }
   ],
   "source": [
    "non_na['gvkey'].nunique()"
   ],
   "metadata": {
    "collapsed": false,
    "ExecuteTime": {
     "end_time": "2025-10-23T13:08:11.337591200Z",
     "start_time": "2025-10-23T13:08:11.307881Z"
    }
   }
  },
  {
   "cell_type": "code",
   "execution_count": 136,
   "outputs": [
    {
     "data": {
      "text/plain": "np.int64(260595)"
     },
     "execution_count": 136,
     "metadata": {},
     "output_type": "execute_result"
    }
   ],
   "source": [
    "non_na.groupby('YearQuarter')['gvkey'].nunique().sum()"
   ],
   "metadata": {
    "collapsed": false,
    "ExecuteTime": {
     "end_time": "2025-10-23T13:08:36.496372600Z",
     "start_time": "2025-10-23T13:08:36.372815Z"
    }
   }
  },
  {
   "cell_type": "code",
   "execution_count": 137,
   "outputs": [
    {
     "data": {
      "text/plain": "YearQuarter\n2007Q1    4556\n2007Q2    4374\n2007Q3    4340\n2007Q4    4308\n2008Q1    4476\n          ... \n2022Q4    3578\n2023Q1    3773\n2023Q2    3487\n2023Q3    3489\n2023Q4    3388\nName: gvkey, Length: 68, dtype: int64"
     },
     "execution_count": 137,
     "metadata": {},
     "output_type": "execute_result"
    }
   ],
   "source": [
    "non_na.groupby('YearQuarter')['gvkey'].nunique()"
   ],
   "metadata": {
    "collapsed": false,
    "ExecuteTime": {
     "end_time": "2025-10-23T14:16:03.515763500Z",
     "start_time": "2025-10-23T14:16:03.312671Z"
    }
   }
  },
  {
   "cell_type": "code",
   "execution_count": null,
   "outputs": [],
   "source": [],
   "metadata": {
    "collapsed": false
   }
  }
 ],
 "metadata": {
  "kernelspec": {
   "display_name": "Python 3",
   "language": "python",
   "name": "python3"
  },
  "language_info": {
   "codemirror_mode": {
    "name": "ipython",
    "version": 2
   },
   "file_extension": ".py",
   "mimetype": "text/x-python",
   "name": "python",
   "nbconvert_exporter": "python",
   "pygments_lexer": "ipython2",
   "version": "2.7.6"
  }
 },
 "nbformat": 4,
 "nbformat_minor": 0
}
